{
 "cells": [
  {
   "cell_type": "code",
   "execution_count": 1,
   "id": "f720ab00",
   "metadata": {},
   "outputs": [],
   "source": [
    "# import pandas as pd\n",
    "import csv\n",
    "from pathlib import Path\n",
    "import sys"
   ]
  },
  {
   "cell_type": "code",
   "execution_count": 2,
   "id": "7c0bc640",
   "metadata": {
    "scrolled": true
   },
   "outputs": [],
   "source": [
    "# a = pd.read_csv(r'../data/search/CD33/Nilerat_lipids_CD33_aligned.csv')\n",
    "# u = pd.read_csv(r'../data/search/CD33/Nilerat_lipids_CD33_unaligned.csv')"
   ]
  },
  {
   "cell_type": "code",
   "execution_count": 3,
   "id": "98b10f3d",
   "metadata": {},
   "outputs": [],
   "source": [
    "def get_headers1(line):\n",
    "    d = {}\n",
    "    for h in ['Checked', 'Name', 'Calc. MW','RT [min]', 'Area (Max.)', 'MS2'] :\n",
    "        d[h] = line.index(h)\n",
    "    for h in line:\n",
    "        if 'Area: ' in h:\n",
    "            d[h] = line.index(h)\n",
    "    return d\n",
    "\n",
    "def get_headers2(line):\n",
    "    d = {}\n",
    "    for h in ['Checked', 'Calc. MW', 'RT [min]', 'FWHM [min]', 'Max. # MI', '# Adducts', \n",
    "              'Area (All Ions)', 'Study File ID']:\n",
    "        d[h] = line.index(h)\n",
    "    return d\n",
    "\n",
    "def get_headers3(line):\n",
    "    d = {}\n",
    "    for h in ['Checked', 'Ion', 'Charge', 'Molecular Weight', 'm/z', 'RT [min]', 'FWHM [min]', \n",
    "              '# MI', 'Area', 'Parent Area [%]', 'Study File ID']:\n",
    "        d[h] = line.index(h)\n",
    "    return d\n",
    "\n",
    "def get_unaligned_headers(line):\n",
    "    d = {}\n",
    "    for h in ['Checked', 'Ion', 'Charge', 'Molecular Weight', 'm/z', 'RT [min]',\n",
    "              'FWHM [min]', '# MI', 'Area', 'Parent Area [%]', 'Study File ID'] :\n",
    "        d[h] = line.index(h)\n",
    "    return d  "
   ]
  },
  {
   "cell_type": "markdown",
   "id": "1010963f",
   "metadata": {},
   "source": [
    "Checked\tName\tMolecular Weight\tRT [min]\tArea (Max.)\tMS2\n",
    "\n",
    "Checked\tName\tMolecular Weight\tRT [min]\tArea (Max.)\tMS2\n",
    "\n",
    "Checked\tMolecular Weight\tRT [min]\tFWHM [min]\tMax. # MI\t# Adducts\tArea (All Ions)\tStudy File ID\n",
    "\n",
    "Checked\tMolecular Weight\tRT [min]\tFWHM [min]\tMax. # MI\t# Adducts\tArea\tStudy File ID\n",
    "\n",
    "Checked\tIon\tCharge\tMolecular Weight\tm/z\tRT [min]\tFWHM [min]\t# MI\tArea\tParent Area [%]\tStudy File ID\n",
    "\n",
    "Checked\tIon\tCharge\tMolecular Weight\tm/z\tRT [min]\tFWHM [min]\t# MI\tArea\tParent Area [%]\tStudy File ID\n"
   ]
  },
  {
   "cell_type": "code",
   "execution_count": 110,
   "id": "c87d4ba9",
   "metadata": {
    "scrolled": true
   },
   "outputs": [],
   "source": [
    "def convert_cd33(filepath, is_aligned: bool, outfilename: str=None):\n",
    "    filepath = Path(filepath)\n",
    "    if outfilename is None:\n",
    "        outfilepath = filepath.parent / (filepath.stem + '_CD33converted' + filepath.suffix)\n",
    "    else:\n",
    "        if '.csv' not in outfilename:\n",
    "            outfilename += '.csv'\n",
    "        outfilepath = filepath.parent / outfilename\n",
    "    if is_aligned: \n",
    "        with open(filepath, encoding='utf8') as inf:\n",
    "            with open(outfilepath, 'w', encoding='utf8', newline='') as out:\n",
    "                r = csv.reader(inf)\n",
    "                w = csv.writer(out)\n",
    "                # Get indexes of headers\n",
    "                first_line = next(r)\n",
    "                h1 = get_headers1(first_line) \n",
    "                # Get headers2 and headers3\n",
    "                for line in r:\n",
    "                    if line[0] == '' and line[1] == 'Tags':\n",
    "                        h2 = get_headers2(line)\n",
    "                    if line[1] == '' and line[2] == 'Tags':\n",
    "                        h3 = get_headers3(line)\n",
    "                        break\n",
    "                mod_h2 = list(h2.keys())\n",
    "                for i, h in enumerate(mod_h2):\n",
    "                    if h == 'Calc. MW':\n",
    "                        mod_h2[i] = 'Molecular Weight'\n",
    "                    if h == 'Area (All Ions)':\n",
    "                        mod_h2[i] = 'Area'\n",
    "                inf.seek(0)  # Reset reader position to top of file\n",
    "                r = csv.reader(inf)  # Reset the csv reader\n",
    "                for i, line in enumerate(r):\n",
    "                    # Compound header\n",
    "                    if 'Tags' in line[0]:\n",
    "                        w.writerow([('Molecular Weight' if 'Calc. MW' in key else key) for key in h1.keys()] + [''])\n",
    "                    # Compound data\n",
    "                    elif line[0] == '' and line[1] == 'FALSE':\n",
    "                        row = [line[i] for i in h1.values()] + ['']\n",
    "                        row[list(h1.keys()).index('Name')] = ''  # Name field = Empty String because LipiDex parser doesn't like it\n",
    "                        w.writerow(row)\n",
    "                    # Compound per File header:\n",
    "                    elif line[0] == '' and line[1] == 'Tags':\n",
    "                        w.writerow([''] + mod_h2 + [''])\n",
    "                    # Compound per File data:\n",
    "                    elif line[1] == '' and line[2] == 'FALSE':\n",
    "                        w.writerow([''] + [line[i] for i in h2.values()] + [''])\n",
    "                    # Feature header:\n",
    "                    elif line[1] == '' and line[2] == 'Tags':\n",
    "                        w.writerow(['', ''] + list(h3.keys()) + [''])\n",
    "                    # Feature data:\n",
    "                    elif line[2] == '':\n",
    "                        w.writerow(['', ''] + [line[i] for i in h3.values()] + [''])\n",
    "                    else:\n",
    "                        raise ValueError(f'line {i} was not written\\n' + str(line))\n",
    "    else: \n",
    "        with open(filepath, encoding='utf8') as inf:\n",
    "            with open(outfilepath, 'w', encoding='utf8', newline='') as out:\n",
    "                r = csv.reader(inf)\n",
    "                w = csv.writer(out)\n",
    "                # Get indexes of headers\n",
    "                first_line = next(r)\n",
    "                header = get_unaligned_headers(first_line) \n",
    "                w.writerow(list(header.keys()) + [''])\n",
    "                for line in r:\n",
    "                    w.writerow([line[i] for i in header.values()] + [''])\n",
    "        "
   ]
  },
  {
   "cell_type": "code",
   "execution_count": 111,
   "id": "f12130d3",
   "metadata": {},
   "outputs": [],
   "source": [
    "aligned = r'../data/search/CD33/Nilerat_lipids_CD33_aligned.csv'\n",
    "unaligned = r'../data/search/CD33/Nilerat_lipids_CD33_unaligned.csv'\n",
    "\n",
    "convert_cd33(aligned, True)\n",
    "convert_cd33(unaligned, False)"
   ]
  },
  {
   "cell_type": "markdown",
   "id": "fd044269",
   "metadata": {},
   "source": [
    "## Unaligned file CD 3.3 converter\n",
    "\n",
    "Checked\tIon\tCharge\tMolecular Weight\tm/z\tRT [min]\tFWHM [min]\t# MI\tArea\tParent Area [%]\tStudy File ID\n",
    "\n",
    "\n",
    "Checked\tIon\tCharge\tMolecular Weight\tm/z\tRT [min]\tFWHM [min]\t# MI\tArea\tParent Area [%]\tStudy File ID\n"
   ]
  },
  {
   "cell_type": "code",
   "execution_count": 69,
   "id": "47b60dd4",
   "metadata": {},
   "outputs": [],
   "source": [
    "def get_unaligned_headers(line):\n",
    "    d = {}\n",
    "    for h in ['Checked', 'Ion', 'Charge', 'Molecular Weight', 'm/z', 'RT [min]',\n",
    "              'FWHM [min]', '# MI', 'Area', 'Parent Area [%]', 'Study File ID'] :\n",
    "        d[h] = line.index(h)\n",
    "    return d  \n",
    "\n",
    "with open(r'../data/search/CD33/Nilerat_lipids_CD33_unaligned.csv', encoding='utf8') as inf:\n",
    "    with open(r'..\\data\\search\\CD33\\unaligned_test.csv', 'w', encoding='utf8', newline='') as out:\n",
    "        r = csv.reader(inf)\n",
    "        w = csv.writer(out)\n",
    "        # Get indexes of headers\n",
    "        first_line = next(r)\n",
    "        header = get_unaligned_headers(first_line) \n",
    "        w.writerow(list(header.keys()))\n",
    "        for line in r:\n",
    "            w.writerow([line[i] for i in header.values()])"
   ]
  },
  {
   "cell_type": "code",
   "execution_count": 112,
   "id": "c1811fb4",
   "metadata": {},
   "outputs": [],
   "source": [
    "import argparse"
   ]
  },
  {
   "cell_type": "code",
   "execution_count": 143,
   "id": "87124628",
   "metadata": {},
   "outputs": [
    {
     "data": {
      "text/plain": [
       "_StoreAction(option_strings=['-o', '--outfilename'], dest='outfilename', nargs=None, const=None, default=None, type=None, choices=None, help='(Optional) Filename for converted file', metavar=None)"
      ]
     },
     "execution_count": 143,
     "metadata": {},
     "output_type": "execute_result"
    }
   ],
   "source": [
    "parser = argparse.ArgumentParser()\n",
    "parser.add_argument('-f', '--file', dest='filepath', type=str, \n",
    "                    help='CD 3.3 .csv file to convert')\n",
    "aligned_flag = parser.add_mutually_exclusive_group()\n",
    "aligned_flag.add_argument('-a', '--aligned', dest='is_aligned', action='store_true')\n",
    "aligned_flag.add_argument('-u', '--unaligned', dest='is_aligned', action='store_false')\n",
    "parser.add_argument('-o', '--outfilename', dest='outfilename', default=None,\n",
    "                    help='(Optional) Filename for converted file')\n",
    "    "
   ]
  },
  {
   "cell_type": "code",
   "execution_count": 149,
   "id": "706bab63",
   "metadata": {},
   "outputs": [
    {
     "name": "stdout",
     "output_type": "stream",
     "text": [
      "None\n"
     ]
    }
   ],
   "source": [
    "args = parser.parse_args(['-f', 'asdf', '--aligned',])\n",
    "print(args.outfilename)"
   ]
  },
  {
   "cell_type": "code",
   "execution_count": 142,
   "id": "722305ba",
   "metadata": {},
   "outputs": [
    {
     "data": {
      "text/plain": [
       "'C:\\\\Users\\\\bjanderson23\\\\AppData\\\\Roaming\\\\jupyter\\\\runtime\\\\kernel-d53dbdbd-323b-49a9-bb24-030dd55a26f3.json'"
      ]
     },
     "execution_count": 142,
     "metadata": {},
     "output_type": "execute_result"
    }
   ],
   "source": [
    "parser.parse_args().filepath"
   ]
  },
  {
   "cell_type": "code",
   "execution_count": 138,
   "id": "622afeeb",
   "metadata": {},
   "outputs": [
    {
     "data": {
      "text/plain": [
       "['C:\\\\Users\\\\bjanderson23\\\\anaconda3\\\\lib\\\\site-packages\\\\ipykernel_launcher.py',\n",
       " '-f',\n",
       " 'C:\\\\Users\\\\bjanderson23\\\\AppData\\\\Roaming\\\\jupyter\\\\runtime\\\\kernel-d53dbdbd-323b-49a9-bb24-030dd55a26f3.json']"
      ]
     },
     "execution_count": 138,
     "metadata": {},
     "output_type": "execute_result"
    }
   ],
   "source": [
    "sys.argv"
   ]
  },
  {
   "cell_type": "code",
   "execution_count": null,
   "id": "e50ac457",
   "metadata": {},
   "outputs": [],
   "source": []
  },
  {
   "cell_type": "code",
   "execution_count": null,
   "id": "4fe44efe",
   "metadata": {},
   "outputs": [],
   "source": []
  },
  {
   "cell_type": "code",
   "execution_count": null,
   "id": "440622a5",
   "metadata": {},
   "outputs": [],
   "source": []
  },
  {
   "cell_type": "code",
   "execution_count": null,
   "id": "79c0fb22",
   "metadata": {},
   "outputs": [],
   "source": []
  },
  {
   "cell_type": "code",
   "execution_count": null,
   "id": "dda9ba6a",
   "metadata": {},
   "outputs": [],
   "source": []
  },
  {
   "cell_type": "code",
   "execution_count": null,
   "id": "d0889a24",
   "metadata": {},
   "outputs": [],
   "source": []
  },
  {
   "cell_type": "code",
   "execution_count": null,
   "id": "960515c1",
   "metadata": {},
   "outputs": [],
   "source": []
  },
  {
   "cell_type": "code",
   "execution_count": null,
   "id": "c4df80eb",
   "metadata": {},
   "outputs": [],
   "source": []
  },
  {
   "cell_type": "code",
   "execution_count": null,
   "id": "58a96493",
   "metadata": {},
   "outputs": [],
   "source": []
  },
  {
   "cell_type": "code",
   "execution_count": null,
   "id": "611b4cfe",
   "metadata": {},
   "outputs": [],
   "source": []
  }
 ],
 "metadata": {
  "kernelspec": {
   "display_name": "Python 3",
   "language": "python",
   "name": "python3"
  },
  "language_info": {
   "codemirror_mode": {
    "name": "ipython",
    "version": 3
   },
   "file_extension": ".py",
   "mimetype": "text/x-python",
   "name": "python",
   "nbconvert_exporter": "python",
   "pygments_lexer": "ipython3",
   "version": "3.7.10"
  }
 },
 "nbformat": 4,
 "nbformat_minor": 5
}
