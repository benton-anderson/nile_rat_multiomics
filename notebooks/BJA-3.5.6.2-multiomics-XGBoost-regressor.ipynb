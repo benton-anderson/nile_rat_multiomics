{
 "cells": [
  {
   "cell_type": "code",
   "execution_count": 7,
   "id": "0950e047",
   "metadata": {},
   "outputs": [
    {
     "name": "stdout",
     "output_type": "stream",
     "text": [
      "1.0.2\n"
     ]
    }
   ],
   "source": [
    "import time\n",
    "from collections import defaultdict\n",
    "import json\n",
    "import math\n",
    "\n",
    "import pandas as pd\n",
    "import numpy as np\n",
    "import matplotlib.pyplot as plt\n",
    "plt.style.use('seaborn-ticks')\n",
    "\n",
    "import seaborn as sns\n",
    "import dateutil\n",
    "\n",
    "import xgboost as xgb\n",
    "\n",
    "from scipy.stats import spearmanr, pearsonr, kendalltau\n",
    "from scipy.cluster import hierarchy\n",
    "from scipy.spatial.distance import squareform\n",
    "from scipy.cluster.hierarchy import dendrogram, fcluster, fclusterdata\n",
    "\n",
    "from sklearn.cluster import AgglomerativeClustering, FeatureAgglomeration\n",
    "from sklearn.datasets import make_regression, make_classification\n",
    "from sklearn.model_selection import (\n",
    "    cross_val_score, cross_val_predict,\n",
    "    RepeatedKFold, RepeatedStratifiedKFold,\n",
    "    train_test_split, \n",
    "    GridSearchCV,\n",
    ")\n",
    "from sklearn.ensemble import RandomForestRegressor, RandomForestClassifier, GradientBoostingRegressor\n",
    "from sklearn.svm import SVC\n",
    "from sklearn.preprocessing import StandardScaler\n",
    "from sklearn.inspection import permutation_importance\n",
    "from sklearn.metrics import (\n",
    "    classification_report,\n",
    "    roc_auc_score, roc_curve, RocCurveDisplay, auc,\n",
    "    confusion_matrix, multilabel_confusion_matrix, ConfusionMatrixDisplay,\n",
    "    f1_score, \n",
    "    recall_score,\n",
    "    accuracy_score,\n",
    "    precision_score, precision_recall_curve, precision_recall_fscore_support,\n",
    "    #     plot_roc_curve,\n",
    "    #     plot_precision_recall_curve,  ## The plot_x_score API is deprecated\n",
    ")\n",
    "import sklearn\n",
    "print(sklearn.__version__)"
   ]
  },
  {
   "cell_type": "code",
   "execution_count": 3,
   "id": "687d9eb9",
   "metadata": {},
   "outputs": [],
   "source": [
    "# colors\n",
    "with open(r'..\\data\\metadata\\color_schemes.json') as infile:\n",
    "    colors = json.load(infile)\n",
    "    \n",
    "animals_used = [1091, 1093, 1060, 1062, 1074, 1092, 1102, 1076, 1082, 1101]\n",
    "diabetic = [1076, 1082, 1101]\n",
    "impaired = [1060, 1062, 1074, 1092, 1102]\n",
    "normal = [1091, 1093]\n",
    "\n",
    "obs = pd.read_excel(r'..\\data\\metadata\\20210421_FBGRBGOGTT_Huishi sample sheet.xlsx', sheet_name='cleaned')\n",
    "obs['animal'] = obs['animal'].str.strip('TM').astype('int')\n",
    "obs['datetime'] = obs['when'].apply(dateutil.parser.parse)\n",
    "animal_phenotypes = pd.read_excel(r'..\\data\\metadata\\20210421_FBGRBGOGTT_Huishi sample sheet.xlsx', sheet_name='animal phenotypes')\n",
    "animal_phenotypes['animal'] = animal_phenotypes['animal'].str.strip('TM').astype('int')\n",
    "\n",
    "fg = pd.read_csv(r'..\\data\\metadata\\combined_metab_lipid_file_grouping.csv', index_col=0)\n",
    "\n",
    "# Use data that was sent to collaborators \n",
    "data = pd.read_excel(r'../data/processed/combined_metabolites_data.xlsx').set_index('i')\n",
    "data_cols = data.filter(regex='FBG|RBG').columns\n",
    "fbg_cols = data.filter(regex='FBG').columns\n",
    "rbg_cols = data.filter(regex='RBG').columns\n",
    "pval_cols = data.filter(regex='pval').columns\n",
    "\n",
    "n = data.filter(regex='1091|1093')                 # normal\n",
    "i = data.filter(regex='1060|1062|1074|1092|1102')  # impaired\n",
    "d = data.filter(regex='1076|1082|1101')            # diabetic\n",
    "\n",
    "f = data[fbg_cols]  # fasted\n",
    "r = data[rbg_cols]  # random-fed\n",
    "\n",
    "fn = n.filter(fbg_cols)  # fasted normal \n",
    "fi = i.filter(fbg_cols)  # fasted impaired\n",
    "fd = d.filter(fbg_cols)  # fasted diabetic\n",
    "\n",
    "rn = n.filter(rbg_cols)  # random normal\n",
    "ri = i.filter(rbg_cols)  # random impaired\n",
    "rd = d.filter(rbg_cols)  # random diabetic\n",
    "\n",
    "# rename columns to remove '_RBG', '_FBG' for element-wise subtraction\n",
    "rn.columns = rn.columns.str[:-4]\n",
    "fn.columns = fn.columns.str[:-4]\n",
    "ri.columns = ri.columns.str[:-4]\n",
    "fi.columns = fi.columns.str[:-4]\n",
    "rd.columns = rd.columns.str[:-4]\n",
    "fd.columns = fd.columns.str[:-4]\n",
    "\n",
    "qval_sampling = data['fdr corrected pval effect of sampling']\n",
    "# qval_sampling.replace(np.nan, 1, inplace=True)  # For replacing blanks (model failed to converge) with 1\n",
    "qval_gtol = data['fdr corrected pval effect of glucose tolerance']\n",
    "qval_cross = data['fdr corrected pval effect of interaction sampling and glucose tolerance']"
   ]
  },
  {
   "cell_type": "code",
   "execution_count": 4,
   "id": "6ba3e534",
   "metadata": {},
   "outputs": [],
   "source": [
    "X_all = data[data_cols].T\n",
    "X_only_conv = data.loc[~data[pval_cols].isna().all(axis=1), data_cols].T\n",
    "gluc_tol_cols = ['fdr corrected pval effect of glucose tolerance', \n",
    "                 'fdr corrected pval effect of interaction sampling and glucose tolerance']\n",
    "X_only_signf = data.loc[(data[gluc_tol_cols] < 0.05).any(axis=1), data_cols].T\n",
    "\n",
    "\n",
    "y_3class = fg.set_index('combined_col_name')['glucose_tolerance']         # ['normal', 'impaired', 'diabetic']\n",
    "y_3class_num = y_3class.map({'normal': 0, 'impaired': 1, 'diabetic': 2})  # [0, 1, 2]\n",
    "y_bg = fg.set_index('combined_col_name')['bg']                            # random/fasted blood glucoose\n",
    "ogtt_dict = animal_phenotypes.set_index('animal').to_dict()['OGTT (AUC)'] # OGTT AUC\n",
    "y_ogtt = fg[['combined_col_name', 'animal']].set_index('combined_col_name')['animal'].map(ogtt_dict)  "
   ]
  },
  {
   "cell_type": "markdown",
   "id": "7114e83b",
   "metadata": {},
   "source": [
    "# Grid Search Hyperparameters"
   ]
  },
  {
   "cell_type": "code",
   "execution_count": 5,
   "id": "d3cb15dc",
   "metadata": {},
   "outputs": [],
   "source": [
    "def grid_search(X, y, model, params, cv, scoring):\n",
    "    gs = GridSearchCV(estimator=model,\n",
    "                      param_grid=params,\n",
    "                      scoring=scoring,\n",
    "                      cv=cv,\n",
    "                      n_jobs=7,)\n",
    "    result = gs.fit(X, y)\n",
    "    print(\"Best: %f using %s\" % (result.best_score_, result.best_params_))\n",
    "    means = result.cv_results_['mean_test_score']\n",
    "    stds = result.cv_results_['std_test_score']\n",
    "    params = result.cv_results_['params']\n",
    "    for mean, stdev, param in zip(means, stds, params):\n",
    "        print(\"%f (%f) with: %r\" % (mean, stdev, param))\n",
    "    l = []\n",
    "    for mean, param in zip(means, params):\n",
    "        d = {'mean': mean, **param}\n",
    "        l.append(d)\n",
    "    return pd.DataFrame(l)"
   ]
  },
  {
   "cell_type": "code",
   "execution_count": 12,
   "id": "a27d5f59",
   "metadata": {
    "scrolled": true
   },
   "outputs": [
    {
     "name": "stdout",
     "output_type": "stream",
     "text": [
      "Best: -0.127280 using {'learning_rate': 0.05, 'max_depth': 10, 'min_child_weight': 1, 'n_estimators': 100}\n",
      "-0.127280 (0.043969) with: {'learning_rate': 0.05, 'max_depth': 10, 'min_child_weight': 1, 'n_estimators': 100}\n",
      "-0.128675 (0.044275) with: {'learning_rate': 0.05, 'max_depth': 10, 'min_child_weight': 1, 'n_estimators': 500}\n",
      "-0.128675 (0.044276) with: {'learning_rate': 0.05, 'max_depth': 10, 'min_child_weight': 1, 'n_estimators': 1000}\n",
      "-0.129619 (0.047946) with: {'learning_rate': 0.05, 'max_depth': 10, 'min_child_weight': 3, 'n_estimators': 100}\n",
      "-0.130468 (0.047922) with: {'learning_rate': 0.05, 'max_depth': 10, 'min_child_weight': 3, 'n_estimators': 500}\n",
      "-0.130468 (0.047921) with: {'learning_rate': 0.05, 'max_depth': 10, 'min_child_weight': 3, 'n_estimators': 1000}\n",
      "-0.141665 (0.050936) with: {'learning_rate': 0.05, 'max_depth': 10, 'min_child_weight': 6, 'n_estimators': 100}\n",
      "-0.142696 (0.054001) with: {'learning_rate': 0.05, 'max_depth': 10, 'min_child_weight': 6, 'n_estimators': 500}\n",
      "-0.142703 (0.053939) with: {'learning_rate': 0.05, 'max_depth': 10, 'min_child_weight': 6, 'n_estimators': 1000}\n",
      "-0.127280 (0.043969) with: {'learning_rate': 0.05, 'max_depth': 20, 'min_child_weight': 1, 'n_estimators': 100}\n",
      "-0.128675 (0.044275) with: {'learning_rate': 0.05, 'max_depth': 20, 'min_child_weight': 1, 'n_estimators': 500}\n",
      "-0.128675 (0.044276) with: {'learning_rate': 0.05, 'max_depth': 20, 'min_child_weight': 1, 'n_estimators': 1000}\n",
      "-0.129619 (0.047946) with: {'learning_rate': 0.05, 'max_depth': 20, 'min_child_weight': 3, 'n_estimators': 100}\n",
      "-0.130468 (0.047922) with: {'learning_rate': 0.05, 'max_depth': 20, 'min_child_weight': 3, 'n_estimators': 500}\n",
      "-0.130468 (0.047921) with: {'learning_rate': 0.05, 'max_depth': 20, 'min_child_weight': 3, 'n_estimators': 1000}\n",
      "-0.141665 (0.050936) with: {'learning_rate': 0.05, 'max_depth': 20, 'min_child_weight': 6, 'n_estimators': 100}\n",
      "-0.142696 (0.054001) with: {'learning_rate': 0.05, 'max_depth': 20, 'min_child_weight': 6, 'n_estimators': 500}\n",
      "-0.142703 (0.053939) with: {'learning_rate': 0.05, 'max_depth': 20, 'min_child_weight': 6, 'n_estimators': 1000}\n",
      "-0.127280 (0.043969) with: {'learning_rate': 0.05, 'max_depth': 40, 'min_child_weight': 1, 'n_estimators': 100}\n",
      "-0.128675 (0.044275) with: {'learning_rate': 0.05, 'max_depth': 40, 'min_child_weight': 1, 'n_estimators': 500}\n",
      "-0.128675 (0.044276) with: {'learning_rate': 0.05, 'max_depth': 40, 'min_child_weight': 1, 'n_estimators': 1000}\n",
      "-0.129619 (0.047946) with: {'learning_rate': 0.05, 'max_depth': 40, 'min_child_weight': 3, 'n_estimators': 100}\n",
      "-0.130468 (0.047922) with: {'learning_rate': 0.05, 'max_depth': 40, 'min_child_weight': 3, 'n_estimators': 500}\n",
      "-0.130468 (0.047921) with: {'learning_rate': 0.05, 'max_depth': 40, 'min_child_weight': 3, 'n_estimators': 1000}\n",
      "-0.141665 (0.050936) with: {'learning_rate': 0.05, 'max_depth': 40, 'min_child_weight': 6, 'n_estimators': 100}\n",
      "-0.142696 (0.054001) with: {'learning_rate': 0.05, 'max_depth': 40, 'min_child_weight': 6, 'n_estimators': 500}\n",
      "-0.142703 (0.053939) with: {'learning_rate': 0.05, 'max_depth': 40, 'min_child_weight': 6, 'n_estimators': 1000}\n",
      "-0.128693 (0.038787) with: {'learning_rate': 0.1, 'max_depth': 10, 'min_child_weight': 1, 'n_estimators': 100}\n",
      "-0.128732 (0.038804) with: {'learning_rate': 0.1, 'max_depth': 10, 'min_child_weight': 1, 'n_estimators': 500}\n",
      "-0.128733 (0.038806) with: {'learning_rate': 0.1, 'max_depth': 10, 'min_child_weight': 1, 'n_estimators': 1000}\n",
      "-0.129618 (0.046167) with: {'learning_rate': 0.1, 'max_depth': 10, 'min_child_weight': 3, 'n_estimators': 100}\n",
      "-0.129648 (0.046167) with: {'learning_rate': 0.1, 'max_depth': 10, 'min_child_weight': 3, 'n_estimators': 500}\n",
      "-0.129648 (0.046168) with: {'learning_rate': 0.1, 'max_depth': 10, 'min_child_weight': 3, 'n_estimators': 1000}\n",
      "-0.142163 (0.049863) with: {'learning_rate': 0.1, 'max_depth': 10, 'min_child_weight': 6, 'n_estimators': 100}\n",
      "-0.142087 (0.049652) with: {'learning_rate': 0.1, 'max_depth': 10, 'min_child_weight': 6, 'n_estimators': 500}\n",
      "-0.142087 (0.049651) with: {'learning_rate': 0.1, 'max_depth': 10, 'min_child_weight': 6, 'n_estimators': 1000}\n",
      "-0.128693 (0.038787) with: {'learning_rate': 0.1, 'max_depth': 20, 'min_child_weight': 1, 'n_estimators': 100}\n",
      "-0.128732 (0.038804) with: {'learning_rate': 0.1, 'max_depth': 20, 'min_child_weight': 1, 'n_estimators': 500}\n",
      "-0.128732 (0.038806) with: {'learning_rate': 0.1, 'max_depth': 20, 'min_child_weight': 1, 'n_estimators': 1000}\n",
      "-0.129618 (0.046167) with: {'learning_rate': 0.1, 'max_depth': 20, 'min_child_weight': 3, 'n_estimators': 100}\n",
      "-0.129652 (0.046168) with: {'learning_rate': 0.1, 'max_depth': 20, 'min_child_weight': 3, 'n_estimators': 500}\n",
      "-0.129651 (0.046169) with: {'learning_rate': 0.1, 'max_depth': 20, 'min_child_weight': 3, 'n_estimators': 1000}\n",
      "-0.142163 (0.049863) with: {'learning_rate': 0.1, 'max_depth': 20, 'min_child_weight': 6, 'n_estimators': 100}\n",
      "-0.142087 (0.049652) with: {'learning_rate': 0.1, 'max_depth': 20, 'min_child_weight': 6, 'n_estimators': 500}\n",
      "-0.142087 (0.049651) with: {'learning_rate': 0.1, 'max_depth': 20, 'min_child_weight': 6, 'n_estimators': 1000}\n",
      "-0.128693 (0.038787) with: {'learning_rate': 0.1, 'max_depth': 40, 'min_child_weight': 1, 'n_estimators': 100}\n",
      "-0.128732 (0.038804) with: {'learning_rate': 0.1, 'max_depth': 40, 'min_child_weight': 1, 'n_estimators': 500}\n",
      "-0.128732 (0.038806) with: {'learning_rate': 0.1, 'max_depth': 40, 'min_child_weight': 1, 'n_estimators': 1000}\n",
      "-0.129618 (0.046167) with: {'learning_rate': 0.1, 'max_depth': 40, 'min_child_weight': 3, 'n_estimators': 100}\n",
      "-0.129652 (0.046168) with: {'learning_rate': 0.1, 'max_depth': 40, 'min_child_weight': 3, 'n_estimators': 500}\n",
      "-0.129651 (0.046169) with: {'learning_rate': 0.1, 'max_depth': 40, 'min_child_weight': 3, 'n_estimators': 1000}\n",
      "-0.142163 (0.049863) with: {'learning_rate': 0.1, 'max_depth': 40, 'min_child_weight': 6, 'n_estimators': 100}\n",
      "-0.142087 (0.049652) with: {'learning_rate': 0.1, 'max_depth': 40, 'min_child_weight': 6, 'n_estimators': 500}\n",
      "-0.142087 (0.049651) with: {'learning_rate': 0.1, 'max_depth': 40, 'min_child_weight': 6, 'n_estimators': 1000}\n",
      "-0.137019 (0.038267) with: {'learning_rate': 0.15, 'max_depth': 10, 'min_child_weight': 1, 'n_estimators': 100}\n",
      "-0.137019 (0.038265) with: {'learning_rate': 0.15, 'max_depth': 10, 'min_child_weight': 1, 'n_estimators': 500}\n",
      "-0.137019 (0.038264) with: {'learning_rate': 0.15, 'max_depth': 10, 'min_child_weight': 1, 'n_estimators': 1000}\n",
      "-0.129556 (0.045970) with: {'learning_rate': 0.15, 'max_depth': 10, 'min_child_weight': 3, 'n_estimators': 100}\n",
      "-0.129547 (0.045970) with: {'learning_rate': 0.15, 'max_depth': 10, 'min_child_weight': 3, 'n_estimators': 500}\n",
      "-0.129547 (0.045970) with: {'learning_rate': 0.15, 'max_depth': 10, 'min_child_weight': 3, 'n_estimators': 1000}\n",
      "-0.137808 (0.044141) with: {'learning_rate': 0.15, 'max_depth': 10, 'min_child_weight': 6, 'n_estimators': 100}\n",
      "-0.137996 (0.044055) with: {'learning_rate': 0.15, 'max_depth': 10, 'min_child_weight': 6, 'n_estimators': 500}\n",
      "-0.137996 (0.044055) with: {'learning_rate': 0.15, 'max_depth': 10, 'min_child_weight': 6, 'n_estimators': 1000}\n",
      "-0.137019 (0.038267) with: {'learning_rate': 0.15, 'max_depth': 20, 'min_child_weight': 1, 'n_estimators': 100}\n",
      "-0.137020 (0.038266) with: {'learning_rate': 0.15, 'max_depth': 20, 'min_child_weight': 1, 'n_estimators': 500}\n",
      "-0.137021 (0.038267) with: {'learning_rate': 0.15, 'max_depth': 20, 'min_child_weight': 1, 'n_estimators': 1000}\n",
      "-0.129556 (0.045970) with: {'learning_rate': 0.15, 'max_depth': 20, 'min_child_weight': 3, 'n_estimators': 100}\n",
      "-0.129543 (0.045968) with: {'learning_rate': 0.15, 'max_depth': 20, 'min_child_weight': 3, 'n_estimators': 500}\n",
      "-0.129543 (0.045968) with: {'learning_rate': 0.15, 'max_depth': 20, 'min_child_weight': 3, 'n_estimators': 1000}\n",
      "-0.137808 (0.044141) with: {'learning_rate': 0.15, 'max_depth': 20, 'min_child_weight': 6, 'n_estimators': 100}\n",
      "-0.137996 (0.044055) with: {'learning_rate': 0.15, 'max_depth': 20, 'min_child_weight': 6, 'n_estimators': 500}\n",
      "-0.137996 (0.044055) with: {'learning_rate': 0.15, 'max_depth': 20, 'min_child_weight': 6, 'n_estimators': 1000}\n",
      "-0.137019 (0.038267) with: {'learning_rate': 0.15, 'max_depth': 40, 'min_child_weight': 1, 'n_estimators': 100}\n",
      "-0.137020 (0.038266) with: {'learning_rate': 0.15, 'max_depth': 40, 'min_child_weight': 1, 'n_estimators': 500}\n",
      "-0.137021 (0.038267) with: {'learning_rate': 0.15, 'max_depth': 40, 'min_child_weight': 1, 'n_estimators': 1000}\n",
      "-0.129556 (0.045970) with: {'learning_rate': 0.15, 'max_depth': 40, 'min_child_weight': 3, 'n_estimators': 100}\n",
      "-0.129543 (0.045968) with: {'learning_rate': 0.15, 'max_depth': 40, 'min_child_weight': 3, 'n_estimators': 500}\n",
      "-0.129543 (0.045968) with: {'learning_rate': 0.15, 'max_depth': 40, 'min_child_weight': 3, 'n_estimators': 1000}\n",
      "-0.137808 (0.044141) with: {'learning_rate': 0.15, 'max_depth': 40, 'min_child_weight': 6, 'n_estimators': 100}\n",
      "-0.137996 (0.044055) with: {'learning_rate': 0.15, 'max_depth': 40, 'min_child_weight': 6, 'n_estimators': 500}\n",
      "-0.137996 (0.044055) with: {'learning_rate': 0.15, 'max_depth': 40, 'min_child_weight': 6, 'n_estimators': 1000}\n"
     ]
    }
   ],
   "source": [
    "xgbr = xgb.XGBRegressor(random_state=1)\n",
    "params = {\n",
    "    'n_estimators': [100, 500, 1000],\n",
    "    'learning_rate': [0.05, 0.1, 0.15],\n",
    "    'max_depth': [10, 20, 40],\n",
    "    'min_child_weight': [1, 3, 6],\n",
    "}\n",
    "\n",
    "# hyperparameter search #1\n",
    "hp1 = grid_search(X_all, y_ogtt, \n",
    "                    xgbr,\n",
    "                    params=params,\n",
    "                    cv=10,\n",
    "                    scoring='neg_mean_absolute_percentage_error'\n",
    "                    )"
   ]
  },
  {
   "cell_type": "code",
   "execution_count": 15,
   "id": "3be9ae59",
   "metadata": {},
   "outputs": [
    {
     "data": {
      "text/html": [
       "<div>\n",
       "<style scoped>\n",
       "    .dataframe tbody tr th:only-of-type {\n",
       "        vertical-align: middle;\n",
       "    }\n",
       "\n",
       "    .dataframe tbody tr th {\n",
       "        vertical-align: top;\n",
       "    }\n",
       "\n",
       "    .dataframe thead th {\n",
       "        text-align: right;\n",
       "    }\n",
       "</style>\n",
       "<table border=\"1\" class=\"dataframe\">\n",
       "  <thead>\n",
       "    <tr style=\"text-align: right;\">\n",
       "      <th></th>\n",
       "      <th>mean</th>\n",
       "      <th>max_depth</th>\n",
       "      <th>min_child_weight</th>\n",
       "      <th>n_estimators</th>\n",
       "    </tr>\n",
       "    <tr>\n",
       "      <th>learning_rate</th>\n",
       "      <th></th>\n",
       "      <th></th>\n",
       "      <th></th>\n",
       "      <th></th>\n",
       "    </tr>\n",
       "  </thead>\n",
       "  <tbody>\n",
       "    <tr>\n",
       "      <th>0.05</th>\n",
       "      <td>-0.133583</td>\n",
       "      <td>23.333333</td>\n",
       "      <td>3.333333</td>\n",
       "      <td>533.333333</td>\n",
       "    </tr>\n",
       "    <tr>\n",
       "      <th>0.10</th>\n",
       "      <td>-0.133490</td>\n",
       "      <td>23.333333</td>\n",
       "      <td>3.333333</td>\n",
       "      <td>533.333333</td>\n",
       "    </tr>\n",
       "    <tr>\n",
       "      <th>0.15</th>\n",
       "      <td>-0.134834</td>\n",
       "      <td>23.333333</td>\n",
       "      <td>3.333333</td>\n",
       "      <td>533.333333</td>\n",
       "    </tr>\n",
       "  </tbody>\n",
       "</table>\n",
       "</div>"
      ],
      "text/plain": [
       "                   mean  max_depth  min_child_weight  n_estimators\n",
       "learning_rate                                                     \n",
       "0.05          -0.133583  23.333333          3.333333    533.333333\n",
       "0.10          -0.133490  23.333333          3.333333    533.333333\n",
       "0.15          -0.134834  23.333333          3.333333    533.333333"
      ]
     },
     "execution_count": 15,
     "metadata": {},
     "output_type": "execute_result"
    }
   ],
   "source": [
    "hp1.groupby('learning_rate').mean()"
   ]
  },
  {
   "cell_type": "code",
   "execution_count": 16,
   "id": "a3da2b71",
   "metadata": {},
   "outputs": [
    {
     "data": {
      "text/html": [
       "<div>\n",
       "<style scoped>\n",
       "    .dataframe tbody tr th:only-of-type {\n",
       "        vertical-align: middle;\n",
       "    }\n",
       "\n",
       "    .dataframe tbody tr th {\n",
       "        vertical-align: top;\n",
       "    }\n",
       "\n",
       "    .dataframe thead th {\n",
       "        text-align: right;\n",
       "    }\n",
       "</style>\n",
       "<table border=\"1\" class=\"dataframe\">\n",
       "  <thead>\n",
       "    <tr style=\"text-align: right;\">\n",
       "      <th></th>\n",
       "      <th>mean</th>\n",
       "      <th>learning_rate</th>\n",
       "      <th>min_child_weight</th>\n",
       "      <th>n_estimators</th>\n",
       "    </tr>\n",
       "    <tr>\n",
       "      <th>max_depth</th>\n",
       "      <th></th>\n",
       "      <th></th>\n",
       "      <th></th>\n",
       "      <th></th>\n",
       "    </tr>\n",
       "  </thead>\n",
       "  <tbody>\n",
       "    <tr>\n",
       "      <th>10</th>\n",
       "      <td>-0.133969</td>\n",
       "      <td>0.1</td>\n",
       "      <td>3.333333</td>\n",
       "      <td>533.333333</td>\n",
       "    </tr>\n",
       "    <tr>\n",
       "      <th>20</th>\n",
       "      <td>-0.133969</td>\n",
       "      <td>0.1</td>\n",
       "      <td>3.333333</td>\n",
       "      <td>533.333333</td>\n",
       "    </tr>\n",
       "    <tr>\n",
       "      <th>40</th>\n",
       "      <td>-0.133969</td>\n",
       "      <td>0.1</td>\n",
       "      <td>3.333333</td>\n",
       "      <td>533.333333</td>\n",
       "    </tr>\n",
       "  </tbody>\n",
       "</table>\n",
       "</div>"
      ],
      "text/plain": [
       "               mean  learning_rate  min_child_weight  n_estimators\n",
       "max_depth                                                         \n",
       "10        -0.133969            0.1          3.333333    533.333333\n",
       "20        -0.133969            0.1          3.333333    533.333333\n",
       "40        -0.133969            0.1          3.333333    533.333333"
      ]
     },
     "execution_count": 16,
     "metadata": {},
     "output_type": "execute_result"
    }
   ],
   "source": [
    "hp1.groupby('max_depth').mean()"
   ]
  },
  {
   "cell_type": "code",
   "execution_count": 17,
   "id": "2ada85a2",
   "metadata": {},
   "outputs": [
    {
     "data": {
      "text/html": [
       "<div>\n",
       "<style scoped>\n",
       "    .dataframe tbody tr th:only-of-type {\n",
       "        vertical-align: middle;\n",
       "    }\n",
       "\n",
       "    .dataframe tbody tr th {\n",
       "        vertical-align: top;\n",
       "    }\n",
       "\n",
       "    .dataframe thead th {\n",
       "        text-align: right;\n",
       "    }\n",
       "</style>\n",
       "<table border=\"1\" class=\"dataframe\">\n",
       "  <thead>\n",
       "    <tr style=\"text-align: right;\">\n",
       "      <th></th>\n",
       "      <th>mean</th>\n",
       "      <th>learning_rate</th>\n",
       "      <th>max_depth</th>\n",
       "      <th>n_estimators</th>\n",
       "    </tr>\n",
       "    <tr>\n",
       "      <th>min_child_weight</th>\n",
       "      <th></th>\n",
       "      <th></th>\n",
       "      <th></th>\n",
       "      <th></th>\n",
       "    </tr>\n",
       "  </thead>\n",
       "  <tbody>\n",
       "    <tr>\n",
       "      <th>1</th>\n",
       "      <td>-0.131316</td>\n",
       "      <td>0.1</td>\n",
       "      <td>23.333333</td>\n",
       "      <td>533.333333</td>\n",
       "    </tr>\n",
       "    <tr>\n",
       "      <th>3</th>\n",
       "      <td>-0.129791</td>\n",
       "      <td>0.1</td>\n",
       "      <td>23.333333</td>\n",
       "      <td>533.333333</td>\n",
       "    </tr>\n",
       "    <tr>\n",
       "      <th>6</th>\n",
       "      <td>-0.140800</td>\n",
       "      <td>0.1</td>\n",
       "      <td>23.333333</td>\n",
       "      <td>533.333333</td>\n",
       "    </tr>\n",
       "  </tbody>\n",
       "</table>\n",
       "</div>"
      ],
      "text/plain": [
       "                      mean  learning_rate  max_depth  n_estimators\n",
       "min_child_weight                                                  \n",
       "1                -0.131316            0.1  23.333333    533.333333\n",
       "3                -0.129791            0.1  23.333333    533.333333\n",
       "6                -0.140800            0.1  23.333333    533.333333"
      ]
     },
     "execution_count": 17,
     "metadata": {},
     "output_type": "execute_result"
    }
   ],
   "source": [
    "hp1.groupby('min_child_weight').mean()"
   ]
  },
  {
   "cell_type": "code",
   "execution_count": 18,
   "id": "d7a045c2",
   "metadata": {},
   "outputs": [
    {
     "data": {
      "text/html": [
       "<div>\n",
       "<style scoped>\n",
       "    .dataframe tbody tr th:only-of-type {\n",
       "        vertical-align: middle;\n",
       "    }\n",
       "\n",
       "    .dataframe tbody tr th {\n",
       "        vertical-align: top;\n",
       "    }\n",
       "\n",
       "    .dataframe thead th {\n",
       "        text-align: right;\n",
       "    }\n",
       "</style>\n",
       "<table border=\"1\" class=\"dataframe\">\n",
       "  <thead>\n",
       "    <tr style=\"text-align: right;\">\n",
       "      <th></th>\n",
       "      <th>mean</th>\n",
       "      <th>learning_rate</th>\n",
       "      <th>max_depth</th>\n",
       "      <th>min_child_weight</th>\n",
       "    </tr>\n",
       "    <tr>\n",
       "      <th>n_estimators</th>\n",
       "      <th></th>\n",
       "      <th></th>\n",
       "      <th></th>\n",
       "      <th></th>\n",
       "    </tr>\n",
       "  </thead>\n",
       "  <tbody>\n",
       "    <tr>\n",
       "      <th>100</th>\n",
       "      <td>-0.133713</td>\n",
       "      <td>0.1</td>\n",
       "      <td>23.333333</td>\n",
       "      <td>3.333333</td>\n",
       "    </tr>\n",
       "    <tr>\n",
       "      <th>500</th>\n",
       "      <td>-0.134097</td>\n",
       "      <td>0.1</td>\n",
       "      <td>23.333333</td>\n",
       "      <td>3.333333</td>\n",
       "    </tr>\n",
       "    <tr>\n",
       "      <th>1000</th>\n",
       "      <td>-0.134097</td>\n",
       "      <td>0.1</td>\n",
       "      <td>23.333333</td>\n",
       "      <td>3.333333</td>\n",
       "    </tr>\n",
       "  </tbody>\n",
       "</table>\n",
       "</div>"
      ],
      "text/plain": [
       "                  mean  learning_rate  max_depth  min_child_weight\n",
       "n_estimators                                                      \n",
       "100          -0.133713            0.1  23.333333          3.333333\n",
       "500          -0.134097            0.1  23.333333          3.333333\n",
       "1000         -0.134097            0.1  23.333333          3.333333"
      ]
     },
     "execution_count": 18,
     "metadata": {},
     "output_type": "execute_result"
    }
   ],
   "source": [
    "hp1.groupby('n_estimators').mean()"
   ]
  },
  {
   "cell_type": "code",
   "execution_count": 20,
   "id": "a7f2801c",
   "metadata": {},
   "outputs": [
    {
     "name": "stdout",
     "output_type": "stream",
     "text": [
      "Best: -0.127280 using {'learning_rate': 0.05, 'max_depth': 10, 'min_child_weight': 0.5, 'n_estimators': 100}\n",
      "-0.127280 (0.043969) with: {'learning_rate': 0.05, 'max_depth': 10, 'min_child_weight': 0.5, 'n_estimators': 100}\n",
      "-0.127280 (0.043969) with: {'learning_rate': 0.05, 'max_depth': 10, 'min_child_weight': 1, 'n_estimators': 100}\n",
      "-0.127573 (0.043033) with: {'learning_rate': 0.05, 'max_depth': 10, 'min_child_weight': 1.5, 'n_estimators': 100}\n",
      "-0.127573 (0.043033) with: {'learning_rate': 0.05, 'max_depth': 10, 'min_child_weight': 2, 'n_estimators': 100}\n",
      "-0.129619 (0.047946) with: {'learning_rate': 0.05, 'max_depth': 10, 'min_child_weight': 2.5, 'n_estimators': 100}\n",
      "-0.129619 (0.047946) with: {'learning_rate': 0.05, 'max_depth': 10, 'min_child_weight': 3, 'n_estimators': 100}\n",
      "-0.137693 (0.044530) with: {'learning_rate': 0.05, 'max_depth': 10, 'min_child_weight': 3.5, 'n_estimators': 100}\n",
      "-0.137693 (0.044530) with: {'learning_rate': 0.05, 'max_depth': 10, 'min_child_weight': 4, 'n_estimators': 100}\n"
     ]
    }
   ],
   "source": [
    "xgbr = xgb.XGBRegressor(random_state=1)\n",
    "params = {\n",
    "    'n_estimators': [100],\n",
    "    'learning_rate': [0.05],\n",
    "    'max_depth': [10],\n",
    "    'min_child_weight': [0.5, 1, 1.5, 2, 2.5, 3, 3.5, 4],\n",
    "}\n",
    "hp2 = grid_search(X_all, y_ogtt, \n",
    "                    xgbr,\n",
    "                    params=params,\n",
    "                    cv=10,\n",
    "                    scoring='neg_mean_absolute_percentage_error'\n",
    "                    )"
   ]
  },
  {
   "cell_type": "code",
   "execution_count": 23,
   "id": "c9e8b05f",
   "metadata": {},
   "outputs": [
    {
     "name": "stdout",
     "output_type": "stream",
     "text": [
      "Best: -0.135795 using {'gamma': 10, 'learning_rate': 0.05, 'max_depth': 10, 'min_child_weight': 1, 'n_estimators': 100}\n",
      "-0.135863 (0.026671) with: {'gamma': 0, 'learning_rate': 0.05, 'max_depth': 10, 'min_child_weight': 1, 'n_estimators': 100}\n",
      "-0.135877 (0.026649) with: {'gamma': 0.1, 'learning_rate': 0.05, 'max_depth': 10, 'min_child_weight': 1, 'n_estimators': 100}\n",
      "-0.135883 (0.026657) with: {'gamma': 0.5, 'learning_rate': 0.05, 'max_depth': 10, 'min_child_weight': 1, 'n_estimators': 100}\n",
      "-0.135848 (0.026692) with: {'gamma': 1, 'learning_rate': 0.05, 'max_depth': 10, 'min_child_weight': 1, 'n_estimators': 100}\n",
      "-0.135855 (0.026643) with: {'gamma': 2, 'learning_rate': 0.05, 'max_depth': 10, 'min_child_weight': 1, 'n_estimators': 100}\n",
      "-0.135839 (0.026591) with: {'gamma': 5, 'learning_rate': 0.05, 'max_depth': 10, 'min_child_weight': 1, 'n_estimators': 100}\n",
      "-0.135795 (0.026714) with: {'gamma': 10, 'learning_rate': 0.05, 'max_depth': 10, 'min_child_weight': 1, 'n_estimators': 100}\n"
     ]
    }
   ],
   "source": [
    "xgbr = xgb.XGBRegressor(random_state=1)\n",
    "params = {\n",
    "    'n_estimators': [100],\n",
    "    'learning_rate': [0.05],\n",
    "    'max_depth': [10],\n",
    "    'min_child_weight': [1],\n",
    "    'gamma': [0, 0.1, 0.5, 1, 2, 5, 10]\n",
    "}\n",
    "hp3 = grid_search(X_all, y_ogtt, \n",
    "                    xgbr,\n",
    "                    params=params,\n",
    "                    cv=6,\n",
    "                    scoring='neg_mean_absolute_percentage_error'\n",
    "                    )"
   ]
  },
  {
   "cell_type": "code",
   "execution_count": 27,
   "id": "e1c57a86",
   "metadata": {},
   "outputs": [
    {
     "name": "stdout",
     "output_type": "stream",
     "text": [
      "Best: -0.128121 using {'gamma': 0, 'learning_rate': 0.05, 'max_depth': 10, 'min_child_weight': 1, 'n_estimators': 100, 'reg_alpha': 0.5, 'reg_lambda': None}\n",
      "-0.128950 (0.041863) with: {'gamma': 0, 'learning_rate': 0.05, 'max_depth': 10, 'min_child_weight': 1, 'n_estimators': 100, 'reg_alpha': 0.1, 'reg_lambda': None}\n",
      "-0.128121 (0.038846) with: {'gamma': 0, 'learning_rate': 0.05, 'max_depth': 10, 'min_child_weight': 1, 'n_estimators': 100, 'reg_alpha': 0.5, 'reg_lambda': None}\n",
      "-0.130541 (0.039335) with: {'gamma': 0, 'learning_rate': 0.05, 'max_depth': 10, 'min_child_weight': 1, 'n_estimators': 100, 'reg_alpha': 1, 'reg_lambda': None}\n",
      "-0.128304 (0.036865) with: {'gamma': 0, 'learning_rate': 0.05, 'max_depth': 10, 'min_child_weight': 1, 'n_estimators': 100, 'reg_alpha': 2, 'reg_lambda': None}\n",
      "-0.131577 (0.038414) with: {'gamma': 0, 'learning_rate': 0.05, 'max_depth': 10, 'min_child_weight': 1, 'n_estimators': 100, 'reg_alpha': 5, 'reg_lambda': None}\n"
     ]
    }
   ],
   "source": [
    "xgbr = xgb.XGBRegressor(n_jobs=7)\n",
    "params = {\n",
    "    'n_estimators': [100],\n",
    "    'learning_rate': [0.05],\n",
    "    'max_depth': [10],\n",
    "    'min_child_weight': [1],\n",
    "    'gamma': [0],\n",
    "    'reg_alpha': [0.5],  # L1, generates sparse model\n",
    "    'reg_lambda': [None]  # L2, quadratic penalty, removes limitation on number of selected variables\n",
    "}\n",
    "hp4 = grid_search(X_all, y_ogtt, \n",
    "                    xgbr,\n",
    "                    params=params,\n",
    "                    cv=10,\n",
    "                    scoring='neg_mean_absolute_percentage_error'\n",
    "                    )"
   ]
  },
  {
   "cell_type": "code",
   "execution_count": 28,
   "id": "f182e912",
   "metadata": {},
   "outputs": [],
   "source": [
    "xgbfit = xgbr.fit(X_all, y_ogtt)\n"
   ]
  },
  {
   "cell_type": "code",
   "execution_count": 31,
   "id": "19adfb9f",
   "metadata": {},
   "outputs": [
    {
     "data": {
      "text/plain": [
       "258"
      ]
     },
     "execution_count": 31,
     "metadata": {},
     "output_type": "execute_result"
    }
   ],
   "source": [
    "sum(xgbfit.feature_importances_ > 0)"
   ]
  },
  {
   "cell_type": "markdown",
   "id": "8328332d",
   "metadata": {},
   "source": [
    "# Hyperparameter search conclusions:\n",
    "## learning_rate=0.05, max_depth=10, min_child_weight=1, n_estimators=100\n",
    "## n_jobs=7, random_state=1\n",
    "\n",
    "## XGBoost gives approximately 13% mean absolute percentage error in 10-fold CV on all 60 samples with all features\n",
    "\n",
    "## Random Forest gives approximately 18% under the same conditions "
   ]
  },
  {
   "cell_type": "code",
   "execution_count": null,
   "id": "c4973d61",
   "metadata": {},
   "outputs": [],
   "source": []
  },
  {
   "cell_type": "code",
   "execution_count": null,
   "id": "bc34f801",
   "metadata": {},
   "outputs": [],
   "source": []
  },
  {
   "cell_type": "code",
   "execution_count": null,
   "id": "40fe4621",
   "metadata": {},
   "outputs": [],
   "source": []
  },
  {
   "cell_type": "code",
   "execution_count": null,
   "id": "a121efb5",
   "metadata": {},
   "outputs": [],
   "source": []
  },
  {
   "cell_type": "code",
   "execution_count": null,
   "id": "9a10be31",
   "metadata": {},
   "outputs": [],
   "source": []
  },
  {
   "cell_type": "code",
   "execution_count": null,
   "id": "aac2cb1e",
   "metadata": {},
   "outputs": [],
   "source": []
  },
  {
   "cell_type": "code",
   "execution_count": null,
   "id": "0f8038b1",
   "metadata": {},
   "outputs": [],
   "source": []
  },
  {
   "cell_type": "code",
   "execution_count": null,
   "id": "e3f4100c",
   "metadata": {},
   "outputs": [],
   "source": []
  },
  {
   "cell_type": "code",
   "execution_count": null,
   "id": "de829678",
   "metadata": {},
   "outputs": [],
   "source": []
  },
  {
   "cell_type": "code",
   "execution_count": null,
   "id": "ffb87301",
   "metadata": {},
   "outputs": [],
   "source": []
  },
  {
   "cell_type": "code",
   "execution_count": null,
   "id": "ec1ad1dd",
   "metadata": {},
   "outputs": [],
   "source": []
  },
  {
   "cell_type": "code",
   "execution_count": null,
   "id": "fbdb9235",
   "metadata": {},
   "outputs": [],
   "source": []
  },
  {
   "cell_type": "code",
   "execution_count": null,
   "id": "97353b82",
   "metadata": {},
   "outputs": [],
   "source": []
  },
  {
   "cell_type": "code",
   "execution_count": null,
   "id": "27103926",
   "metadata": {},
   "outputs": [],
   "source": []
  },
  {
   "cell_type": "code",
   "execution_count": null,
   "id": "1be546e8",
   "metadata": {},
   "outputs": [],
   "source": []
  },
  {
   "cell_type": "code",
   "execution_count": null,
   "id": "1103c70f",
   "metadata": {},
   "outputs": [],
   "source": []
  },
  {
   "cell_type": "code",
   "execution_count": null,
   "id": "c36f2565",
   "metadata": {},
   "outputs": [],
   "source": []
  },
  {
   "cell_type": "code",
   "execution_count": null,
   "id": "f6ec883e",
   "metadata": {},
   "outputs": [],
   "source": []
  },
  {
   "cell_type": "code",
   "execution_count": null,
   "id": "71d14bd5",
   "metadata": {},
   "outputs": [],
   "source": []
  },
  {
   "cell_type": "code",
   "execution_count": null,
   "id": "5ef82ceb",
   "metadata": {},
   "outputs": [],
   "source": []
  },
  {
   "cell_type": "code",
   "execution_count": null,
   "id": "40441d1b",
   "metadata": {},
   "outputs": [],
   "source": []
  },
  {
   "cell_type": "code",
   "execution_count": null,
   "id": "ea23cd01",
   "metadata": {},
   "outputs": [],
   "source": []
  }
 ],
 "metadata": {
  "kernelspec": {
   "display_name": "Python 3",
   "language": "python",
   "name": "python3"
  },
  "language_info": {
   "codemirror_mode": {
    "name": "ipython",
    "version": 3
   },
   "file_extension": ".py",
   "mimetype": "text/x-python",
   "name": "python",
   "nbconvert_exporter": "python",
   "pygments_lexer": "ipython3",
   "version": "3.7.10"
  }
 },
 "nbformat": 4,
 "nbformat_minor": 5
}
