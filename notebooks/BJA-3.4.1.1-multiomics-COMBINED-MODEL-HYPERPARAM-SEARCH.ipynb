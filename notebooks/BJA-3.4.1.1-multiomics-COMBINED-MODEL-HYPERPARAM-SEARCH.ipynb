{
 "cells": [
  {
   "cell_type": "code",
   "execution_count": 4,
   "id": "14afa1c8",
   "metadata": {},
   "outputs": [],
   "source": [
    "import json\n",
    "from collections import defaultdict\n",
    "import sys\n",
    "import os\n",
    "sys.path.insert(1, os.path.join(sys.path[0], '..'))\n",
    "from models.data_subset_hyperparam_search import data_subset_hyperparam_search\n",
    "\n",
    "import pandas as pd\n",
    "import numpy as np\n",
    "import matplotlib.pyplot as plt\n",
    "plt.rcParams['svg.fonttype'] = 'none'  # https://stackoverflow.com/questions/34387893/output-matplotlib-figure-to-svg-with-text-as-text-not-curves\n",
    "plt.style.use('seaborn-ticks')\n",
    "import seaborn as sns\n",
    "\n",
    "from sklearn.ensemble import (\n",
    "    RandomForestClassifier, RandomForestRegressor,)\n",
    "from sklearn.linear_model import (\n",
    "    LogisticRegression, LogisticRegressionCV)\n",
    "from sklearn.naive_bayes import GaussianNB \n",
    "from sklearn.svm import (\n",
    "    SVC, SVR)\n",
    "from sklearn.model_selection import (\n",
    "    GridSearchCV, \n",
    "    RepeatedStratifiedKFold, \n",
    "    LeaveOneGroupOut,)\n",
    "from xgboost import XGBClassifier, XGBRegressor  "
   ]
  },
  {
   "cell_type": "code",
   "execution_count": null,
   "id": "33372d14",
   "metadata": {},
   "outputs": [],
   "source": [
    "# colors and class-superclass maps\n",
    "with open(r'..\\data\\metadata\\color_schemes.json') as infile:\n",
    "    colors = json.load(infile)\n",
    "\n",
    "animals_used = [1091, 1093, 1060, 1062, 1074, 1092, 1102, 1076, 1082, 1101]\n",
    "diabetic =     [1076, 1082, 1101]\n",
    "impaired =     [1060, 1062, 1074, 1092, 1102]\n",
    "normal =       [1091, 1093]\n",
    "animal_tol = {\n",
    "    1076: 'diabetic', 1082: 'diabetic', 1101: 'diabetic', 1060: 'impaired', 1062: 'impaired', \n",
    "    1074: 'impaired', 1092: 'impaired', 1102: 'impaired', 1091: 'normal', 1093: 'normal'}\n",
    "ap = pd.read_excel(r'..\\data\\metadata\\animal_phenotypes.xlsx', index_col=0)\n",
    "\n",
    "fg = pd.read_csv(r'..\\data\\metadata\\combined_metab_lipid_file_grouping.csv', index_col=0)\n",
    "\n",
    "# Use data that was sent to collaborators \n",
    "data = pd.read_excel(r'../data/processed/combined_metabolites_data.xlsx').set_index('i')\n",
    "data_cols = data.filter(regex='FBG|RBG').columns\n",
    "fbg_cols = data.filter(regex='FBG').columns\n",
    "rbg_cols = data.filter(regex='RBG').columns\n",
    "pval_cols = data.filter(regex='pval').columns\n",
    "\n",
    "n = data.filter(regex='1091|1093')                 # normal\n",
    "i = data.filter(regex='1060|1062|1074|1092|1102')  # impaired\n",
    "d = data.filter(regex='1076|1082|1101')            # diabetic\n",
    "\n",
    "f = data[fbg_cols]  # fasted\n",
    "r = data[rbg_cols]  # random-fed\n",
    "\n",
    "fn = n.filter(fbg_cols)  # fasted normal \n",
    "fi = i.filter(fbg_cols)  # fasted impaired\n",
    "fd = d.filter(fbg_cols)  # fasted diabetic\n",
    "\n",
    "rn = n.filter(rbg_cols)  # random normal\n",
    "ri = i.filter(rbg_cols)  # random impaired\n",
    "rd = d.filter(rbg_cols)  # random diabetic\n",
    "\n",
    "qval_sampling = data['fdr corrected pval effect of sampling']\n",
    "qval_gtol = data['fdr corrected pval effect of glucose tolerance']\n",
    "qval_cross = data['fdr corrected pval effect of interaction sampling and glucose tolerance']"
   ]
  },
  {
   "cell_type": "code",
   "execution_count": null,
   "id": "fde6eb0f",
   "metadata": {},
   "outputs": [],
   "source": [
    "y_3class = fg['gluc_tol']                                                 # ['normal', 'impaired', 'diabetic']\n",
    "y_3class_num = y_3class.map({'normal': 0, 'impaired': 1, 'diabetic': 2})  # [0, 1, 2]\n",
    "y_bg = fg['bg']                                                           # random/fasted blood glucoose\n",
    "y_ogtt = fg['animal'].map(ap['OGTT (AUC)'])\n",
    "y_weight = fg['animal'].map(ap['Weightprefastweek12'])\n",
    "y_insulin = fg['animal'].map(ap['Insulin (AUC)'])\n",
    "\n",
    "X_all = data.loc[:, y_3class.index.values].T  # untransformed data\n",
    "X_cent = pd.DataFrame(StandardScaler(with_std=False).fit_transform(X_all), index=data_cols, columns=data.index)  # mean-centered only\n",
    "X_zs = pd.DataFrame(StandardScaler().fit_transform(X_all), index=data_cols, columns=data.index)  # z-scored\n",
    "\n",
    "# generate new rbg_cols and fbg_cols that retain the order from fg\n",
    "rbg_cols = fg.loc[fg['bg_type'] == 'RBG'].index\n",
    "fbg_cols = fg.loc[fg['bg_type'] == 'FBG'].index"
   ]
  },
  {
   "cell_type": "markdown",
   "id": "7fc8d329",
   "metadata": {},
   "source": [
    "### Steps:\n",
    "1. `pipeline` of data for each model\n",
    "    1. include mean-centering, z-scoring\n",
    "    2. Alternatively, just use the X_all, X_mean_centered, X_zscore datasets appropriately\n",
    "1. Hyperparam search all the models (be selective; only choose most important params)\n",
    "2. Save best hyperparam for each model \n",
    "3. Perform CV to test score for each model (using best hyperparams)\n",
    "4. Perform CV to derive feature importances for each model \n",
    "\n",
    "### levels of searching:\n",
    "1. Regression vs. Classification\n",
    "    1. Regression: OGTT, weight, insulin, weekly BG\n",
    "    2. Classification: 3-class or 2-class \n",
    "2. Models: \n",
    "    - Reg. and Clf: RF, SVM, mixed/fixed effects model, LinReg L1, LinReg Elastic Net, XGBoost, sparse PLS\n",
    "    - Regression-only: LARS Regression \n",
    "    - Classification-only: Naive Bayes, logistic regression \n",
    "    - Reg vs. Clf require their own CVs \n",
    "\n"
   ]
  },
  {
   "cell_type": "code",
   "execution_count": null,
   "id": "d3d76a86",
   "metadata": {},
   "outputs": [],
   "source": [
    "clf_models = {\n",
    "    'RF': [RandomForestClassifier, X_all],  # RepeatedStratifiedKFold\n",
    "    'SVM': [SVC, X_zs],  # RepeatedStratifiedKFold\n",
    "    'LR': [LogisticRegressionCV, X_zs],  # LogisticRegressionCV\n",
    "#     'XGB': []\n",
    "    'NB': [GaussianNB, ]\n",
    "    \n",
    "}"
   ]
  },
  {
   "cell_type": "code",
   "execution_count": null,
   "id": "66d6f587",
   "metadata": {},
   "outputs": [],
   "source": []
  },
  {
   "cell_type": "code",
   "execution_count": null,
   "id": "2c666ef9",
   "metadata": {},
   "outputs": [],
   "source": []
  },
  {
   "cell_type": "code",
   "execution_count": null,
   "id": "8fca2701",
   "metadata": {},
   "outputs": [],
   "source": []
  },
  {
   "cell_type": "code",
   "execution_count": null,
   "id": "c5f1b07c",
   "metadata": {},
   "outputs": [],
   "source": []
  },
  {
   "cell_type": "code",
   "execution_count": null,
   "id": "b4b8f2ac",
   "metadata": {},
   "outputs": [],
   "source": []
  },
  {
   "cell_type": "code",
   "execution_count": null,
   "id": "2228592d",
   "metadata": {},
   "outputs": [],
   "source": []
  },
  {
   "cell_type": "code",
   "execution_count": null,
   "id": "f81007d2",
   "metadata": {},
   "outputs": [],
   "source": []
  },
  {
   "cell_type": "code",
   "execution_count": null,
   "id": "5932a5d5",
   "metadata": {},
   "outputs": [],
   "source": []
  },
  {
   "cell_type": "code",
   "execution_count": null,
   "id": "7dac4509",
   "metadata": {},
   "outputs": [],
   "source": []
  },
  {
   "cell_type": "code",
   "execution_count": null,
   "id": "e13a6c73",
   "metadata": {},
   "outputs": [],
   "source": []
  },
  {
   "cell_type": "code",
   "execution_count": null,
   "id": "ca72901d",
   "metadata": {},
   "outputs": [],
   "source": []
  },
  {
   "cell_type": "code",
   "execution_count": null,
   "id": "e45c0d9f",
   "metadata": {},
   "outputs": [],
   "source": []
  },
  {
   "cell_type": "code",
   "execution_count": null,
   "id": "7f6fad81",
   "metadata": {},
   "outputs": [],
   "source": []
  },
  {
   "cell_type": "code",
   "execution_count": null,
   "id": "e87c8d97",
   "metadata": {},
   "outputs": [],
   "source": []
  },
  {
   "cell_type": "code",
   "execution_count": null,
   "id": "b8971e8b",
   "metadata": {},
   "outputs": [],
   "source": []
  },
  {
   "cell_type": "code",
   "execution_count": null,
   "id": "788872e1",
   "metadata": {},
   "outputs": [],
   "source": []
  },
  {
   "cell_type": "code",
   "execution_count": null,
   "id": "f777fc2a",
   "metadata": {},
   "outputs": [],
   "source": []
  },
  {
   "cell_type": "code",
   "execution_count": null,
   "id": "c0484368",
   "metadata": {},
   "outputs": [],
   "source": []
  },
  {
   "cell_type": "code",
   "execution_count": null,
   "id": "19064ae5",
   "metadata": {},
   "outputs": [],
   "source": []
  },
  {
   "cell_type": "code",
   "execution_count": null,
   "id": "2c738b8a",
   "metadata": {},
   "outputs": [],
   "source": []
  },
  {
   "cell_type": "code",
   "execution_count": null,
   "id": "f654d0b6",
   "metadata": {},
   "outputs": [],
   "source": []
  },
  {
   "cell_type": "code",
   "execution_count": null,
   "id": "c9bf2d42",
   "metadata": {},
   "outputs": [],
   "source": []
  },
  {
   "cell_type": "code",
   "execution_count": null,
   "id": "43f6a9b4",
   "metadata": {},
   "outputs": [],
   "source": []
  },
  {
   "cell_type": "code",
   "execution_count": null,
   "id": "ed07ee9d",
   "metadata": {},
   "outputs": [],
   "source": []
  },
  {
   "cell_type": "code",
   "execution_count": null,
   "id": "4c7de4c0",
   "metadata": {},
   "outputs": [],
   "source": []
  }
 ],
 "metadata": {
  "kernelspec": {
   "display_name": "Python 3",
   "language": "python",
   "name": "python3"
  },
  "language_info": {
   "codemirror_mode": {
    "name": "ipython",
    "version": 3
   },
   "file_extension": ".py",
   "mimetype": "text/x-python",
   "name": "python",
   "nbconvert_exporter": "python",
   "pygments_lexer": "ipython3",
   "version": "3.7.10"
  }
 },
 "nbformat": 4,
 "nbformat_minor": 5
}
