{
 "cells": [
  {
   "cell_type": "code",
   "execution_count": 2,
   "id": "901227bb",
   "metadata": {},
   "outputs": [],
   "source": [
    "import json\n",
    "\n",
    "import seaborn as sns\n",
    "import pandas as pd"
   ]
  },
  {
   "cell_type": "code",
   "execution_count": 8,
   "id": "cf401f36",
   "metadata": {},
   "outputs": [],
   "source": [
    "ap = pd.read_excel(r'..\\data\\metadata\\animal_phenotypes.xlsx', index_col=0)"
   ]
  },
  {
   "cell_type": "markdown",
   "id": "6322a5cf",
   "metadata": {},
   "source": [
    "## Vanessa's LipidGenie Lipid Superclass Color Scheme \n",
    "- purple = glycerolipid = TG, DG, alk-DG\n",
    "- red = fatty acyl\n",
    "- gray = unidentified\n",
    "- blue = sterol lipid\n",
    "- yellow = sphingolipid\n",
    "- green = phospholipid"
   ]
  },
  {
   "cell_type": "code",
   "execution_count": 3,
   "id": "58b16f61",
   "metadata": {},
   "outputs": [
    {
     "name": "stdout",
     "output_type": "stream",
     "text": [
      "Glycer Fatty  Sterol Sphing Phosph Carbox Amino  Amine Other  Uniden\n"
     ]
    },
    {
     "data": {
      "image/png": "[encoded data removed]",
      "text/plain": [
       "<Figure size 720x72 with 1 Axes>"
      ]
     },
     "metadata": {
      "needs_background": "light"
     },
     "output_type": "display_data"
    }
   ],
   "source": [
    "# 0 = Blue         Sterol lipid\n",
    "# 1 = Orange       Sphingolipid\n",
    "# 2 = Green        Phospholipid\n",
    "# 3 = Red          FA\n",
    "# 4 = Purple       Glycerolipid\n",
    "# 5 = Brown        Carboxylic Acid\n",
    "# 6 = Pink         Amino Acid\n",
    "# 7 = Gray         Unidentified\n",
    "# 8 = Olive green  Amine/Amide/Ammonium/N-heterocycle\n",
    "# 9 = Maroon-ish   Other Metabolite\n",
    "\n",
    "p = sns.color_palette(n_colors=9)\n",
    "p.append(sns.color_palette('twilight_r', n_colors=15)[4])  # Add a nice maroon color \n",
    "sns.palplot(p)\n",
    "class_colormap = {\n",
    "    # LIPIDS\n",
    "    \"TG\"          : {'color': p[4], 'superclass': 'Glycerolipid'},\n",
    "    \"Alkenyl-DG\"  : {'color': p[4], 'superclass': 'Glycerolipid'},\n",
    "    \"AC\"          : {'color': p[3], 'superclass': 'Fatty Acyl'},\n",
    "    \"FA\"          : {'color': p[3], 'superclass': 'Fatty Acyl'},\n",
    "    \"CE\"          : {'color': p[0], 'superclass': 'Sterol Lipid'},\n",
    "    \"SM\"          : {'color': p[1], 'superclass': 'Sphingolipid'},\n",
    "    \"Cer[NS]\"     : {'color': p[1], 'superclass': 'Sphingolipid'},\n",
    "    \"LysoPE\"      : {'color': p[2], 'superclass': 'Phospholipid'},\n",
    "    \"LysoPC\"      : {'color': p[2], 'superclass': 'Phospholipid'},\n",
    "    \"PC\"          : {'color': p[2], 'superclass': 'Phospholipid'},\n",
    "    \"PI\"          : {'color': p[2], 'superclass': 'Phospholipid'},\n",
    "    \"Plasmenyl-PC\": {'color': p[2], 'superclass': 'Phospholipid'},\n",
    "    \"Plasmanyl-PC\": {'color': p[2], 'superclass': 'Phospholipid'},\n",
    "    \"Plasmenyl-PE\": {'color': p[2], 'superclass': 'Phospholipid'},\n",
    "    \"PE\"          : {'color': p[2], 'superclass': 'Phospholipid'},\n",
    "    \"Plasmanyl-PE\": {'color': p[2], 'superclass': 'Phospholipid'},\n",
    "    \n",
    "    # METABOLITES\n",
    "    \"CA\"          : {'color': p[5], 'superclass': 'Carboxylic Acid'},\n",
    "    \"AA\"          : {'color': p[6], 'superclass': 'Amino Acid'},\n",
    "    \"amine\"       : {'color': p[8], 'superclass': 'Amine'},\n",
    "    \"TAA\"         : {'color': p[8], 'superclass': 'Amine'},\n",
    "    \"lactam\"      : {'color': p[8], 'superclass': 'Amine'},\n",
    "    \"niacin\"      : {'color': p[8], 'superclass': 'Amine'},\n",
    "    \"purine\"      : {'color': p[8], 'superclass': 'Amine'},\n",
    "    \"amide\"       : {'color': p[8], 'superclass': 'Amine'},\n",
    "    \"plasticizer\" : {'color': p[9], 'superclass': 'Other Metabolite'},\n",
    "    \"coumarin\"    : {'color': p[9], 'superclass': 'Other Metabolite'},\n",
    "    \"sugar\"       : {'color': p[9], 'superclass': 'Other Metabolite'},\n",
    "    \"chromenone\"  : {'color': p[9], 'superclass': 'Other Metabolite'},\n",
    "    \"other\"       : {'color': p[9], 'superclass': 'Other Metabolite'},\n",
    "    \n",
    "    # ALL UNKNOWNS MAP TO GRAY\n",
    "    \"unknown\"     : {'color': p[7], 'superclass': 'Unidentified'},\n",
    "}\n",
    "\n",
    "superclass_colormap = {}\n",
    "for subdict in class_colormap.values():\n",
    "    superclass = subdict['superclass']\n",
    "    superclass_colormap[superclass] = subdict['color']\n",
    "# display('superclass_colormap: ', superclass_colormap)\n",
    "\n",
    "print(\" \".join([superclass[:6] for superclass in superclass_colormap]))\n",
    "\n",
    "# lm_colormap = pd.Series({x: (lm_pal[0] if x[0] == 'l' else lm_pal[1]) for x in d.columns})\n",
    "\n",
    "# Write class_colormap to file \n",
    "# with open(r'..\\data\\metadata\\metab_lipid_class_superclass_color.json', 'w') as outfile:\n",
    "#     json.dump(class_colormap, outfile)"
   ]
  },
  {
   "cell_type": "code",
   "execution_count": 4,
   "id": "46fd5a17",
   "metadata": {},
   "outputs": [],
   "source": [
    "# class_to_superclass_map = {key: val[-1] for key, val in class_colormap.items(),}\n",
    "# display(class_to_superclass_map)\n",
    "\n",
    "# with open(r'..\\data\\metadata\\class_to_superclass_map.json', 'w') as outfile:\n",
    "#     json.dump(class_to_superclass_map, outfile, indent=2)"
   ]
  },
  {
   "cell_type": "code",
   "execution_count": 5,
   "id": "3e827d74",
   "metadata": {},
   "outputs": [
    {
     "name": "stdout",
     "output_type": "stream",
     "text": [
      "LIPID   METAB\n"
     ]
    },
    {
     "data": {
      "text/html": [
       "<svg  width=\"110\" height=\"55\"><rect x=\"0\" y=\"0\" width=\"55\" height=\"55\" style=\"fill:#66c2a5;stroke-width:2;stroke:rgb(255,255,255)\"/><rect x=\"55\" y=\"0\" width=\"55\" height=\"55\" style=\"fill:#fc8d62;stroke-width:2;stroke:rgb(255,255,255)\"/></svg>"
      ],
      "text/plain": [
       "[(0.4, 0.7607843137254902, 0.6470588235294118),\n",
       " (0.9882352941176471, 0.5529411764705883, 0.3843137254901961)]"
      ]
     },
     "metadata": {},
     "output_type": "display_data"
    },
    {
     "data": {
      "text/html": [
       "<svg  width=\"550\" height=\"55\"><rect x=\"0\" y=\"0\" width=\"55\" height=\"55\" style=\"fill:#0173b2;stroke-width:2;stroke:rgb(255,255,255)\"/><rect x=\"55\" y=\"0\" width=\"55\" height=\"55\" style=\"fill:#de8f05;stroke-width:2;stroke:rgb(255,255,255)\"/><rect x=\"110\" y=\"0\" width=\"55\" height=\"55\" style=\"fill:#029e73;stroke-width:2;stroke:rgb(255,255,255)\"/><rect x=\"165\" y=\"0\" width=\"55\" height=\"55\" style=\"fill:#d55e00;stroke-width:2;stroke:rgb(255,255,255)\"/><rect x=\"220\" y=\"0\" width=\"55\" height=\"55\" style=\"fill:#cc78bc;stroke-width:2;stroke:rgb(255,255,255)\"/><rect x=\"275\" y=\"0\" width=\"55\" height=\"55\" style=\"fill:#ca9161;stroke-width:2;stroke:rgb(255,255,255)\"/><rect x=\"330\" y=\"0\" width=\"55\" height=\"55\" style=\"fill:#fbafe4;stroke-width:2;stroke:rgb(255,255,255)\"/><rect x=\"385\" y=\"0\" width=\"55\" height=\"55\" style=\"fill:#949494;stroke-width:2;stroke:rgb(255,255,255)\"/><rect x=\"440\" y=\"0\" width=\"55\" height=\"55\" style=\"fill:#ece133;stroke-width:2;stroke:rgb(255,255,255)\"/><rect x=\"495\" y=\"0\" width=\"55\" height=\"55\" style=\"fill:#56b4e9;stroke-width:2;stroke:rgb(255,255,255)\"/></svg>"
      ],
      "text/plain": [
       "[(0.00392156862745098, 0.45098039215686275, 0.6980392156862745),\n",
       " (0.8705882352941177, 0.5607843137254902, 0.0196078431372549),\n",
       " (0.00784313725490196, 0.6196078431372549, 0.45098039215686275),\n",
       " (0.8352941176470589, 0.3686274509803922, 0.0),\n",
       " (0.8, 0.47058823529411764, 0.7372549019607844),\n",
       " (0.792156862745098, 0.5686274509803921, 0.3803921568627451),\n",
       " (0.984313725490196, 0.6862745098039216, 0.8941176470588236),\n",
       " (0.5803921568627451, 0.5803921568627451, 0.5803921568627451),\n",
       " (0.9254901960784314, 0.8823529411764706, 0.2),\n",
       " (0.33725490196078434, 0.7058823529411765, 0.9137254901960784)]"
      ]
     },
     "metadata": {},
     "output_type": "display_data"
    }
   ],
   "source": [
    "lm_pal = sns.color_palette('Set2', n_colors=2)\n",
    "# lm_colormap = pd.Series({x: (lm_pal[0] if x[0] == 'l' else lm_pal[1]) for x in d.columns})\n",
    "print('LIPID   METAB')\n",
    "display(lm_pal)\n",
    "lipid_metab_colormap = {'lipid': lm_pal[0], \n",
    "                        'metabolite': lm_pal[1]}\n",
    "\n",
    "# print('  RBG   FBG  IMPAIR DIAB.  NORMAL')\n",
    "display(sns.color_palette('colorblind', 10))\n",
    "blindcolor = sns.color_palette('colorblind', 10)\n",
    "rbg_color = blindcolor[0]\n",
    "fbg_color = blindcolor[1]\n",
    "normal_color = blindcolor[2]\n",
    "impaired_color = blindcolor[4]\n",
    "diabetic_color = blindcolor[3]\n",
    "\n",
    "metadata_colormap = {'FBG':      fbg_color,\n",
    "                     'RBG':      rbg_color,\n",
    "                     'normal':   normal_color,\n",
    "                     'impaired': impaired_color,\n",
    "                     'diabetic': diabetic_color}\n",
    "\n",
    "# with open(r'..\\data\\metadata\\metab_lipid_class_superclass_color.json', 'r') as infile:\n",
    "#     class_colormap = json.load(infile)\n",
    "\n",
    "# lm_class = data[['Compound Class']]\n",
    "# lm_class.loc[:, 'd'] = lm_class['Compound Class'].map(class_colormap)\n",
    "# lm_class.loc[:, 'color'] = lm_class['d'].str[0]\n",
    "# lm_class.loc[:, 'superclass'] = lm_class['d'].str[1]\n",
    "# lm_class.drop(['d', 'Compound Class'], inplace=True, axis=1)\n",
    "# data = data.join(lm_class)\n",
    "# data[['color', 'superclass']]"
   ]
  },
  {
   "cell_type": "markdown",
   "id": "05506510",
   "metadata": {},
   "source": [
    "# Color Nile rats by OGTT glucose rank using a uniform perception color map (e.g. viridis)"
   ]
  },
  {
   "cell_type": "code",
   "execution_count": 22,
   "id": "b29c66ec",
   "metadata": {},
   "outputs": [
    {
     "data": {
      "text/html": [
       "<svg  width=\"550\" height=\"55\"><rect x=\"0\" y=\"0\" width=\"55\" height=\"55\" style=\"fill:#482173;stroke-width:2;stroke:rgb(255,255,255)\"/><rect x=\"55\" y=\"0\" width=\"55\" height=\"55\" style=\"fill:#433e85;stroke-width:2;stroke:rgb(255,255,255)\"/><rect x=\"110\" y=\"0\" width=\"55\" height=\"55\" style=\"fill:#38588c;stroke-width:2;stroke:rgb(255,255,255)\"/><rect x=\"165\" y=\"0\" width=\"55\" height=\"55\" style=\"fill:#2d708e;stroke-width:2;stroke:rgb(255,255,255)\"/><rect x=\"220\" y=\"0\" width=\"55\" height=\"55\" style=\"fill:#25858e;stroke-width:2;stroke:rgb(255,255,255)\"/><rect x=\"275\" y=\"0\" width=\"55\" height=\"55\" style=\"fill:#1e9b8a;stroke-width:2;stroke:rgb(255,255,255)\"/><rect x=\"330\" y=\"0\" width=\"55\" height=\"55\" style=\"fill:#2ab07f;stroke-width:2;stroke:rgb(255,255,255)\"/><rect x=\"385\" y=\"0\" width=\"55\" height=\"55\" style=\"fill:#52c569;stroke-width:2;stroke:rgb(255,255,255)\"/><rect x=\"440\" y=\"0\" width=\"55\" height=\"55\" style=\"fill:#86d549;stroke-width:2;stroke:rgb(255,255,255)\"/><rect x=\"495\" y=\"0\" width=\"55\" height=\"55\" style=\"fill:#c2df23;stroke-width:2;stroke:rgb(255,255,255)\"/></svg>"
      ],
      "text/plain": [
       "[(0.283072, 0.130895, 0.449241),\n",
       " (0.262138, 0.242286, 0.520837),\n",
       " (0.220057, 0.343307, 0.549413),\n",
       " (0.177423, 0.437527, 0.557565),\n",
       " (0.143343, 0.522773, 0.556295),\n",
       " (0.119512, 0.607464, 0.540218),\n",
       " (0.166383, 0.690856, 0.496502),\n",
       " (0.319809, 0.770914, 0.411152),\n",
       " (0.525776, 0.833491, 0.288127),\n",
       " (0.762373, 0.876424, 0.137064)]"
      ]
     },
     "metadata": {},
     "output_type": "display_data"
    },
    {
     "data": {
      "text/plain": [
       "{'1091': (0.283072, 0.130895, 0.449241),\n",
       " '1093': (0.262138, 0.242286, 0.520837),\n",
       " '1092': (0.220057, 0.343307, 0.549413),\n",
       " '1074': (0.177423, 0.437527, 0.557565),\n",
       " '1062': (0.143343, 0.522773, 0.556295),\n",
       " '1102': (0.119512, 0.607464, 0.540218),\n",
       " '1060': (0.166383, 0.690856, 0.496502),\n",
       " '1101': (0.319809, 0.770914, 0.411152),\n",
       " '1082': (0.525776, 0.833491, 0.288127),\n",
       " '1076': (0.762373, 0.876424, 0.137064),\n",
       " 1091.0: (0.283072, 0.130895, 0.449241),\n",
       " 1093.0: (0.262138, 0.242286, 0.520837),\n",
       " 1092.0: (0.220057, 0.343307, 0.549413),\n",
       " 1074.0: (0.177423, 0.437527, 0.557565),\n",
       " 1062.0: (0.143343, 0.522773, 0.556295),\n",
       " 1102.0: (0.119512, 0.607464, 0.540218),\n",
       " 1060.0: (0.166383, 0.690856, 0.496502),\n",
       " 1101.0: (0.319809, 0.770914, 0.411152),\n",
       " 1082.0: (0.525776, 0.833491, 0.288127),\n",
       " 1076.0: (0.762373, 0.876424, 0.137064)}"
      ]
     },
     "execution_count": 22,
     "metadata": {},
     "output_type": "execute_result"
    }
   ],
   "source": [
    "cmap = sns.color_palette('viridis', 10)  # twilight_shifted  coolwarm\n",
    "display(cmap)\n",
    "\n",
    "ogtt_rank = ap.loc[ap['lcms_sampled'], 'OGTT (AUC)'].sort_values().index\n",
    "\n",
    "d1 = {str(animal):   color for animal, color in zip(ogtt_rank, cmap)}\n",
    "d2 = {float(animal): color for animal, color in zip(ogtt_rank, cmap)}\n",
    "animal_colormap = {**d1, **d2}   # Make string and float version of animal numbers for redundancy\n",
    "animal_colormap"
   ]
  },
  {
   "cell_type": "markdown",
   "id": "15f44eca",
   "metadata": {},
   "source": [
    "## Coloration by unique color is also possible, but not really important"
   ]
  },
  {
   "cell_type": "code",
   "execution_count": 23,
   "id": "92a0d46a",
   "metadata": {},
   "outputs": [],
   "source": [
    "# animal_colors = sns.color_palette('tab10')\n",
    "# animal_colormap = {animal: color for animal, color in zip([1091,1093,\n",
    "#                                                            1060,1062,1074,1092,1102,\n",
    "#                                                            1076,1082,1101], animal_colors)}\n",
    "# # for animal in animal_colormap:\n",
    "# print(\" \", \"   \".join([str(animal) for animal in animal_colormap]))\n",
    "# sns.palplot([color for color in animal_colormap.values()])"
   ]
  },
  {
   "cell_type": "markdown",
   "id": "d8ae60df",
   "metadata": {},
   "source": [
    "## Make a color scheme for the 4 litters the Nile rats were born in "
   ]
  },
  {
   "cell_type": "code",
   "execution_count": 24,
   "id": "286f1cd6",
   "metadata": {},
   "outputs": [
    {
     "data": {
      "image/png": "[encoded data removed]",
      "text/plain": [
       "<Figure size 648x72 with 1 Axes>"
      ]
     },
     "metadata": {
      "needs_background": "light"
     },
     "output_type": "display_data"
    },
    {
     "data": {
      "image/png": "[encoded data removed]",
      "text/plain": [
       "<Figure size 288x72 with 1 Axes>"
      ]
     },
     "metadata": {
      "needs_background": "light"
     },
     "output_type": "display_data"
    }
   ],
   "source": [
    "# Grey/brown/violet/blue\n",
    "litter_colors = sns.palplot(sns.color_palette('Accent_r', 9))\n",
    "# sns.palplot(litter_colors)\n",
    "# litter_colormap = {litter_number: color for litter_number, color in zip(range(4), litter_colors[:4])}\n",
    "\n",
    "# Greys \n",
    "litter_colors = pd.Series(sns.color_palette('Greys', 5))\n",
    "litter_colormap = {litter_number: color for litter_number, color in zip([0,1,2,3], litter_colors.loc[1:])}\n",
    "sns.palplot(litter_colormap.values())"
   ]
  },
  {
   "cell_type": "markdown",
   "id": "35850484",
   "metadata": {},
   "source": [
    "# combine all color maps and save to json file"
   ]
  },
  {
   "cell_type": "code",
   "execution_count": 25,
   "id": "2b512b17",
   "metadata": {
    "scrolled": true
   },
   "outputs": [],
   "source": [
    "combined_colormaps = {\n",
    "    **lipid_metab_colormap, \n",
    "    **metadata_colormap, \n",
    "    **superclass_colormap, \n",
    "    **animal_colormap,\n",
    "    **class_colormap,\n",
    "    **litter_colormap,\n",
    "}\n",
    "# display(combined_colormaps)\n",
    "\n",
    "with open(r'..\\data\\metadata\\color_schemes.json', 'w') as outfile:\n",
    "    json.dump(combined_colormaps, outfile, indent=2)"
   ]
  },
  {
   "cell_type": "markdown",
   "id": "71d3574b",
   "metadata": {},
   "source": [
    "# Playing with color schemes"
   ]
  },
  {
   "cell_type": "markdown",
   "id": "8395a1f5",
   "metadata": {},
   "source": [
    "## Color scheme from Bang Wong (Nature Methods, 2011) \n",
    "\n",
    "https://www.nature.com/articles/nmeth.1618"
   ]
  },
  {
   "cell_type": "code",
   "execution_count": 52,
   "id": "597ba073",
   "metadata": {},
   "outputs": [
    {
     "data": {
      "image/png": "[encoded data removed]",
      "text/plain": [
       "<Figure size 576x72 with 1 Axes>"
      ]
     },
     "metadata": {
      "needs_background": "light"
     },
     "output_type": "display_data"
    }
   ],
   "source": [
    "cb = [[230, 159, 0], # orange\n",
    "      [86, 180, 233], # skyblue\n",
    "      [0, 158, 115], # Blueish Green\n",
    "      [240, 228, 66],# Yellow\n",
    "      [0, 114, 178], # Blue\n",
    "      [213, 94, 0],  # Vermillion\n",
    "      [204, 121, 167], # Reddish purple\n",
    "      [0,0,0]] # Black\n",
    "for i, c in enumerate(cb): \n",
    "    for j, h in enumerate(c):\n",
    "        cb[i][j] = h/255\n",
    "sns.palplot(cb)"
   ]
  },
  {
   "cell_type": "code",
   "execution_count": 19,
   "id": "94d34839",
   "metadata": {
    "scrolled": false
   },
   "outputs": [
    {
     "name": "stdout",
     "output_type": "stream",
     "text": [
      "Accent\n"
     ]
    },
    {
     "data": {
      "text/html": [
       "<svg  width=\"1100\" height=\"55\"><rect x=\"0\" y=\"0\" width=\"55\" height=\"55\" style=\"fill:#7fc97f;stroke-width:2;stroke:rgb(255,255,255)\"/><rect x=\"55\" y=\"0\" width=\"55\" height=\"55\" style=\"fill:#beaed4;stroke-width:2;stroke:rgb(255,255,255)\"/><rect x=\"110\" y=\"0\" width=\"55\" height=\"55\" style=\"fill:#fdc086;stroke-width:2;stroke:rgb(255,255,255)\"/><rect x=\"165\" y=\"0\" width=\"55\" height=\"55\" style=\"fill:#ffff99;stroke-width:2;stroke:rgb(255,255,255)\"/><rect x=\"220\" y=\"0\" width=\"55\" height=\"55\" style=\"fill:#386cb0;stroke-width:2;stroke:rgb(255,255,255)\"/><rect x=\"275\" y=\"0\" width=\"55\" height=\"55\" style=\"fill:#f0027f;stroke-width:2;stroke:rgb(255,255,255)\"/><rect x=\"330\" y=\"0\" width=\"55\" height=\"55\" style=\"fill:#bf5b17;stroke-width:2;stroke:rgb(255,255,255)\"/><rect x=\"385\" y=\"0\" width=\"55\" height=\"55\" style=\"fill:#666666;stroke-width:2;stroke:rgb(255,255,255)\"/><rect x=\"440\" y=\"0\" width=\"55\" height=\"55\" style=\"fill:#7fc97f;stroke-width:2;stroke:rgb(255,255,255)\"/><rect x=\"495\" y=\"0\" width=\"55\" height=\"55\" style=\"fill:#beaed4;stroke-width:2;stroke:rgb(255,255,255)\"/><rect x=\"550\" y=\"0\" width=\"55\" height=\"55\" style=\"fill:#fdc086;stroke-width:2;stroke:rgb(255,255,255)\"/><rect x=\"605\" y=\"0\" width=\"55\" height=\"55\" style=\"fill:#ffff99;stroke-width:2;stroke:rgb(255,255,255)\"/><rect x=\"660\" y=\"0\" width=\"55\" height=\"55\" style=\"fill:#386cb0;stroke-width:2;stroke:rgb(255,255,255)\"/><rect x=\"715\" y=\"0\" width=\"55\" height=\"55\" style=\"fill:#f0027f;stroke-width:2;stroke:rgb(255,255,255)\"/><rect x=\"770\" y=\"0\" width=\"55\" height=\"55\" style=\"fill:#bf5b17;stroke-width:2;stroke:rgb(255,255,255)\"/><rect x=\"825\" y=\"0\" width=\"55\" height=\"55\" style=\"fill:#666666;stroke-width:2;stroke:rgb(255,255,255)\"/><rect x=\"880\" y=\"0\" width=\"55\" height=\"55\" style=\"fill:#7fc97f;stroke-width:2;stroke:rgb(255,255,255)\"/><rect x=\"935\" y=\"0\" width=\"55\" height=\"55\" style=\"fill:#beaed4;stroke-width:2;stroke:rgb(255,255,255)\"/><rect x=\"990\" y=\"0\" width=\"55\" height=\"55\" style=\"fill:#fdc086;stroke-width:2;stroke:rgb(255,255,255)\"/><rect x=\"1045\" y=\"0\" width=\"55\" height=\"55\" style=\"fill:#ffff99;stroke-width:2;stroke:rgb(255,255,255)\"/></svg>"
      ],
      "text/plain": [
       "[(0.4980392156862745, 0.788235294117647, 0.4980392156862745),\n",
       " (0.7450980392156863, 0.6823529411764706, 0.8313725490196079),\n",
       " (0.9921568627450981, 0.7529411764705882, 0.5254901960784314),\n",
       " (1.0, 1.0, 0.6),\n",
       " (0.2196078431372549, 0.4235294117647059, 0.6901960784313725),\n",
       " (0.9411764705882353, 0.00784313725490196, 0.4980392156862745),\n",
       " (0.7490196078431373, 0.3568627450980392, 0.09019607843137253),\n",
       " (0.4, 0.4, 0.4),\n",
       " (0.4980392156862745, 0.788235294117647, 0.4980392156862745),\n",
       " (0.7450980392156863, 0.6823529411764706, 0.8313725490196079),\n",
       " (0.9921568627450981, 0.7529411764705882, 0.5254901960784314),\n",
       " (1.0, 1.0, 0.6),\n",
       " (0.2196078431372549, 0.4235294117647059, 0.6901960784313725),\n",
       " (0.9411764705882353, 0.00784313725490196, 0.4980392156862745),\n",
       " (0.7490196078431373, 0.3568627450980392, 0.09019607843137253),\n",
       " (0.4, 0.4, 0.4),\n",
       " (0.4980392156862745, 0.788235294117647, 0.4980392156862745),\n",
       " (0.7450980392156863, 0.6823529411764706, 0.8313725490196079),\n",
       " (0.9921568627450981, 0.7529411764705882, 0.5254901960784314),\n",
       " (1.0, 1.0, 0.6)]"
      ]
     },
     "metadata": {},
     "output_type": "display_data"
    },
    {
     "name": "stdout",
     "output_type": "stream",
     "text": [
      "Accent_r\n"
     ]
    },
    {
     "data": {
      "text/html": [
       "<svg  width=\"1100\" height=\"55\"><rect x=\"0\" y=\"0\" width=\"55\" height=\"55\" style=\"fill:#666666;stroke-width:2;stroke:rgb(255,255,255)\"/><rect x=\"55\" y=\"0\" width=\"55\" height=\"55\" style=\"fill:#666666;stroke-width:2;stroke:rgb(255,255,255)\"/><rect x=\"110\" y=\"0\" width=\"55\" height=\"55\" style=\"fill:#bf5b17;stroke-width:2;stroke:rgb(255,255,255)\"/><rect x=\"165\" y=\"0\" width=\"55\" height=\"55\" style=\"fill:#bf5b17;stroke-width:2;stroke:rgb(255,255,255)\"/><rect x=\"220\" y=\"0\" width=\"55\" height=\"55\" style=\"fill:#bf5b17;stroke-width:2;stroke:rgb(255,255,255)\"/><rect x=\"275\" y=\"0\" width=\"55\" height=\"55\" style=\"fill:#f0027f;stroke-width:2;stroke:rgb(255,255,255)\"/><rect x=\"330\" y=\"0\" width=\"55\" height=\"55\" style=\"fill:#f0027f;stroke-width:2;stroke:rgb(255,255,255)\"/><rect x=\"385\" y=\"0\" width=\"55\" height=\"55\" style=\"fill:#386cb0;stroke-width:2;stroke:rgb(255,255,255)\"/><rect x=\"440\" y=\"0\" width=\"55\" height=\"55\" style=\"fill:#386cb0;stroke-width:2;stroke:rgb(255,255,255)\"/><rect x=\"495\" y=\"0\" width=\"55\" height=\"55\" style=\"fill:#386cb0;stroke-width:2;stroke:rgb(255,255,255)\"/><rect x=\"550\" y=\"0\" width=\"55\" height=\"55\" style=\"fill:#ffff99;stroke-width:2;stroke:rgb(255,255,255)\"/><rect x=\"605\" y=\"0\" width=\"55\" height=\"55\" style=\"fill:#ffff99;stroke-width:2;stroke:rgb(255,255,255)\"/><rect x=\"660\" y=\"0\" width=\"55\" height=\"55\" style=\"fill:#ffff99;stroke-width:2;stroke:rgb(255,255,255)\"/><rect x=\"715\" y=\"0\" width=\"55\" height=\"55\" style=\"fill:#fdc086;stroke-width:2;stroke:rgb(255,255,255)\"/><rect x=\"770\" y=\"0\" width=\"55\" height=\"55\" style=\"fill:#fdc086;stroke-width:2;stroke:rgb(255,255,255)\"/><rect x=\"825\" y=\"0\" width=\"55\" height=\"55\" style=\"fill:#beaed4;stroke-width:2;stroke:rgb(255,255,255)\"/><rect x=\"880\" y=\"0\" width=\"55\" height=\"55\" style=\"fill:#beaed4;stroke-width:2;stroke:rgb(255,255,255)\"/><rect x=\"935\" y=\"0\" width=\"55\" height=\"55\" style=\"fill:#beaed4;stroke-width:2;stroke:rgb(255,255,255)\"/><rect x=\"990\" y=\"0\" width=\"55\" height=\"55\" style=\"fill:#7fc97f;stroke-width:2;stroke:rgb(255,255,255)\"/><rect x=\"1045\" y=\"0\" width=\"55\" height=\"55\" style=\"fill:#7fc97f;stroke-width:2;stroke:rgb(255,255,255)\"/></svg>"
      ],
      "text/plain": [
       "[(0.4, 0.4, 0.4),\n",
       " (0.4, 0.4, 0.4),\n",
       " (0.7490196078431373, 0.3568627450980392, 0.09019607843137253),\n",
       " (0.7490196078431373, 0.3568627450980392, 0.09019607843137253),\n",
       " (0.7490196078431373, 0.3568627450980392, 0.09019607843137253),\n",
       " (0.9411764705882353, 0.00784313725490196, 0.4980392156862745),\n",
       " (0.9411764705882353, 0.00784313725490196, 0.4980392156862745),\n",
       " (0.2196078431372549, 0.4235294117647059, 0.6901960784313725),\n",
       " (0.2196078431372549, 0.4235294117647059, 0.6901960784313725),\n",
       " (0.2196078431372549, 0.4235294117647059, 0.6901960784313725),\n",
       " (1.0, 1.0, 0.6),\n",
       " (1.0, 1.0, 0.6),\n",
       " (1.0, 1.0, 0.6),\n",
       " (0.9921568627450981, 0.7529411764705882, 0.5254901960784314),\n",
       " (0.9921568627450981, 0.7529411764705882, 0.5254901960784314),\n",
       " (0.7450980392156863, 0.6823529411764706, 0.8313725490196079),\n",
       " (0.7450980392156863, 0.6823529411764706, 0.8313725490196079),\n",
       " (0.7450980392156863, 0.6823529411764706, 0.8313725490196079),\n",
       " (0.4980392156862745, 0.788235294117647, 0.4980392156862745),\n",
       " (0.4980392156862745, 0.788235294117647, 0.4980392156862745)]"
      ]
     },
     "metadata": {},
     "output_type": "display_data"
    },
    {
     "name": "stdout",
     "output_type": "stream",
     "text": [
      "Blues\n"
     ]
    },
    {
     "data": {
      "text/html": [
       "<svg  width=\"1100\" height=\"55\"><rect x=\"0\" y=\"0\" width=\"55\" height=\"55\" style=\"fill:#eef5fc;stroke-width:2;stroke:rgb(255,255,255)\"/><rect x=\"55\" y=\"0\" width=\"55\" height=\"55\" style=\"fill:#e4eff9;stroke-width:2;stroke:rgb(255,255,255)\"/><rect x=\"110\" y=\"0\" width=\"55\" height=\"55\" style=\"fill:#dbe9f6;stroke-width:2;stroke:rgb(255,255,255)\"/><rect x=\"165\" y=\"0\" width=\"55\" height=\"55\" style=\"fill:#d2e3f3;stroke-width:2;stroke:rgb(255,255,255)\"/><rect x=\"220\" y=\"0\" width=\"55\" height=\"55\" style=\"fill:#c9ddf0;stroke-width:2;stroke:rgb(255,255,255)\"/><rect x=\"275\" y=\"0\" width=\"55\" height=\"55\" style=\"fill:#bad6eb;stroke-width:2;stroke:rgb(255,255,255)\"/><rect x=\"330\" y=\"0\" width=\"55\" height=\"55\" style=\"fill:#abd0e6;stroke-width:2;stroke:rgb(255,255,255)\"/><rect x=\"385\" y=\"0\" width=\"55\" height=\"55\" style=\"fill:#9cc9e1;stroke-width:2;stroke:rgb(255,255,255)\"/><rect x=\"440\" y=\"0\" width=\"55\" height=\"55\" style=\"fill:#89bedc;stroke-width:2;stroke:rgb(255,255,255)\"/><rect x=\"495\" y=\"0\" width=\"55\" height=\"55\" style=\"fill:#75b4d8;stroke-width:2;stroke:rgb(255,255,255)\"/><rect x=\"550\" y=\"0\" width=\"55\" height=\"55\" style=\"fill:#63a8d3;stroke-width:2;stroke:rgb(255,255,255)\"/><rect x=\"605\" y=\"0\" width=\"55\" height=\"55\" style=\"fill:#539ecd;stroke-width:2;stroke:rgb(255,255,255)\"/><rect x=\"660\" y=\"0\" width=\"55\" height=\"55\" style=\"fill:#4493c7;stroke-width:2;stroke:rgb(255,255,255)\"/><rect x=\"715\" y=\"0\" width=\"55\" height=\"55\" style=\"fill:#3787c0;stroke-width:2;stroke:rgb(255,255,255)\"/><rect x=\"770\" y=\"0\" width=\"55\" height=\"55\" style=\"fill:#2b7bba;stroke-width:2;stroke:rgb(255,255,255)\"/><rect x=\"825\" y=\"0\" width=\"55\" height=\"55\" style=\"fill:#1e6db2;stroke-width:2;stroke:rgb(255,255,255)\"/><rect x=\"880\" y=\"0\" width=\"55\" height=\"55\" style=\"fill:#1561a9;stroke-width:2;stroke:rgb(255,255,255)\"/><rect x=\"935\" y=\"0\" width=\"55\" height=\"55\" style=\"fill:#0b559f;stroke-width:2;stroke:rgb(255,255,255)\"/><rect x=\"990\" y=\"0\" width=\"55\" height=\"55\" style=\"fill:#084990;stroke-width:2;stroke:rgb(255,255,255)\"/><rect x=\"1045\" y=\"0\" width=\"55\" height=\"55\" style=\"fill:#083c7d;stroke-width:2;stroke:rgb(255,255,255)\"/></svg>"
      ],
      "text/plain": [
       "[(0.9317185697808535, 0.9606920415224913, 0.9881891580161476),\n",
       " (0.8948096885813149, 0.9370703575547865, 0.9763783160322953),\n",
       " (0.8584083044982699, 0.9134486735870818, 0.9645674740484429),\n",
       " (0.8229757785467128, 0.8898269896193771, 0.9527566320645905),\n",
       " (0.7875432525951558, 0.8662053056516724, 0.9409457900807382),\n",
       " (0.7309496347558632, 0.8394771241830065, 0.9213225682429834),\n",
       " (0.6718954248366014, 0.8143790849673203, 0.9006535947712418),\n",
       " (0.6109803921568627, 0.7874202229911572, 0.8804921184159938),\n",
       " (0.5356862745098039, 0.746082276047674, 0.8642522106881968),\n",
       " (0.46039215686274515, 0.7047443291041907, 0.8480123029603999),\n",
       " (0.38682045367166473, 0.6599615532487505, 0.8264206074586697),\n",
       " (0.32628988850442137, 0.6186236063052672, 0.802798923490965),\n",
       " (0.265759323337178, 0.5772856593617839, 0.7791772395232603),\n",
       " (0.21568627450980393, 0.5294117647058824, 0.7542483660130719),\n",
       " (0.16696655132641292, 0.48069204152249134, 0.7291503267973857),\n",
       " (0.11787773933102653, 0.4283737024221453, 0.6982698961937717),\n",
       " (0.0809688581314879, 0.38113033448673583, 0.661361014994233),\n",
       " (0.044059976931949255, 0.3338869665513264, 0.6244521337946944),\n",
       " (0.03137254901960784, 0.28567474048442904, 0.5642906574394464),\n",
       " (0.03137254901960784, 0.23695501730103807, 0.4919492502883507)]"
      ]
     },
     "metadata": {},
     "output_type": "display_data"
    },
    {
     "name": "stdout",
     "output_type": "stream",
     "text": [
      "Blues_r\n"
     ]
    },
    {
     "data": {
      "text/html": [
       "<svg  width=\"1100\" height=\"55\"><rect x=\"0\" y=\"0\" width=\"55\" height=\"55\" style=\"fill:#083c7d;stroke-width:2;stroke:rgb(255,255,255)\"/><rect x=\"55\" y=\"0\" width=\"55\" height=\"55\" style=\"fill:#084990;stroke-width:2;stroke:rgb(255,255,255)\"/><rect x=\"110\" y=\"0\" width=\"55\" height=\"55\" style=\"fill:#0b559f;stroke-width:2;stroke:rgb(255,255,255)\"/><rect x=\"165\" y=\"0\" width=\"55\" height=\"55\" style=\"fill:#1561a9;stroke-width:2;stroke:rgb(255,255,255)\"/><rect x=\"220\" y=\"0\" width=\"55\" height=\"55\" style=\"fill:#1e6db2;stroke-width:2;stroke:rgb(255,255,255)\"/><rect x=\"275\" y=\"0\" width=\"55\" height=\"55\" style=\"fill:#2b7bba;stroke-width:2;stroke:rgb(255,255,255)\"/><rect x=\"330\" y=\"0\" width=\"55\" height=\"55\" style=\"fill:#3787c0;stroke-width:2;stroke:rgb(255,255,255)\"/><rect x=\"385\" y=\"0\" width=\"55\" height=\"55\" style=\"fill:#4493c7;stroke-width:2;stroke:rgb(255,255,255)\"/><rect x=\"440\" y=\"0\" width=\"55\" height=\"55\" style=\"fill:#539ecd;stroke-width:2;stroke:rgb(255,255,255)\"/><rect x=\"495\" y=\"0\" width=\"55\" height=\"55\" style=\"fill:#63a8d3;stroke-width:2;stroke:rgb(255,255,255)\"/><rect x=\"550\" y=\"0\" width=\"55\" height=\"55\" style=\"fill:#75b4d8;stroke-width:2;stroke:rgb(255,255,255)\"/><rect x=\"605\" y=\"0\" width=\"55\" height=\"55\" style=\"fill:#89bedc;stroke-width:2;stroke:rgb(255,255,255)\"/><rect x=\"660\" y=\"0\" width=\"55\" height=\"55\" style=\"fill:#9cc9e1;stroke-width:2;stroke:rgb(255,255,255)\"/><rect x=\"715\" y=\"0\" width=\"55\" height=\"55\" style=\"fill:#abd0e6;stroke-width:2;stroke:rgb(255,255,255)\"/><rect x=\"770\" y=\"0\" width=\"55\" height=\"55\" style=\"fill:#bad6eb;stroke-width:2;stroke:rgb(255,255,255)\"/><rect x=\"825\" y=\"0\" width=\"55\" height=\"55\" style=\"fill:#c9ddf0;stroke-width:2;stroke:rgb(255,255,255)\"/><rect x=\"880\" y=\"0\" width=\"55\" height=\"55\" style=\"fill:#d2e3f3;stroke-width:2;stroke:rgb(255,255,255)\"/><rect x=\"935\" y=\"0\" width=\"55\" height=\"55\" style=\"fill:#dbe9f6;stroke-width:2;stroke:rgb(255,255,255)\"/><rect x=\"990\" y=\"0\" width=\"55\" height=\"55\" style=\"fill:#e4eff9;stroke-width:2;stroke:rgb(255,255,255)\"/><rect x=\"1045\" y=\"0\" width=\"55\" height=\"55\" style=\"fill:#eef5fc;stroke-width:2;stroke:rgb(255,255,255)\"/></svg>"
      ],
      "text/plain": [
       "[(0.03137254901960784, 0.23695501730103805, 0.4919492502883507),\n",
       " (0.03137254901960784, 0.28567474048442904, 0.5642906574394464),\n",
       " (0.044059976931949255, 0.3338869665513264, 0.6244521337946944),\n",
       " (0.0809688581314879, 0.38113033448673583, 0.661361014994233),\n",
       " (0.11787773933102653, 0.4283737024221453, 0.6982698961937717),\n",
       " (0.16696655132641294, 0.48069204152249134, 0.7291503267973857),\n",
       " (0.21568627450980393, 0.5294117647058824, 0.7542483660130719),\n",
       " (0.26575932333717806, 0.5772856593617839, 0.7791772395232603),\n",
       " (0.3262898885044214, 0.6186236063052672, 0.802798923490965),\n",
       " (0.38682045367166473, 0.6599615532487505, 0.8264206074586697),\n",
       " (0.4603921568627451, 0.7047443291041907, 0.8480123029603999),\n",
       " (0.5356862745098039, 0.746082276047674, 0.8642522106881968),\n",
       " (0.6109803921568628, 0.7874202229911572, 0.8804921184159938),\n",
       " (0.6718954248366014, 0.8143790849673203, 0.9006535947712418),\n",
       " (0.7309496347558632, 0.8394771241830065, 0.9213225682429834),\n",
       " (0.7875432525951557, 0.8662053056516724, 0.9409457900807382),\n",
       " (0.8229757785467128, 0.8898269896193771, 0.9527566320645905),\n",
       " (0.8584083044982699, 0.9134486735870818, 0.9645674740484429),\n",
       " (0.8948096885813149, 0.9370703575547865, 0.9763783160322953),\n",
       " (0.9317185697808535, 0.9606920415224913, 0.9881891580161476)]"
      ]
     },
     "metadata": {},
     "output_type": "display_data"
    },
    {
     "name": "stdout",
     "output_type": "stream",
     "text": [
      "BrBG\n"
     ]
    },
    {
     "data": {
      "text/html": [
       "<svg  width=\"1100\" height=\"55\"><rect x=\"0\" y=\"0\" width=\"55\" height=\"55\" style=\"fill:#6e4007;stroke-width:2;stroke:rgb(255,255,255)\"/><rect x=\"55\" y=\"0\" width=\"55\" height=\"55\" style=\"fill:#894f0a;stroke-width:2;stroke:rgb(255,255,255)\"/><rect x=\"110\" y=\"0\" width=\"55\" height=\"55\" style=\"fill:#a16518;stroke-width:2;stroke:rgb(255,255,255)\"/><rect x=\"165\" y=\"0\" width=\"55\" height=\"55\" style=\"fill:#b97b29;stroke-width:2;stroke:rgb(255,255,255)\"/><rect x=\"220\" y=\"0\" width=\"55\" height=\"55\" style=\"fill:#ca9849;stroke-width:2;stroke:rgb(255,255,255)\"/><rect x=\"275\" y=\"0\" width=\"55\" height=\"55\" style=\"fill:#dbb972;stroke-width:2;stroke:rgb(255,255,255)\"/><rect x=\"330\" y=\"0\" width=\"55\" height=\"55\" style=\"fill:#e7cf94;stroke-width:2;stroke:rgb(255,255,255)\"/><rect x=\"385\" y=\"0\" width=\"55\" height=\"55\" style=\"fill:#f1e1b5;stroke-width:2;stroke:rgb(255,255,255)\"/><rect x=\"440\" y=\"0\" width=\"55\" height=\"55\" style=\"fill:#f6ecd1;stroke-width:2;stroke:rgb(255,255,255)\"/><rect x=\"495\" y=\"0\" width=\"55\" height=\"55\" style=\"fill:#f5f2e8;stroke-width:2;stroke:rgb(255,255,255)\"/><rect x=\"550\" y=\"0\" width=\"55\" height=\"55\" style=\"fill:#e9f2f1;stroke-width:2;stroke:rgb(255,255,255)\"/><rect x=\"605\" y=\"0\" width=\"55\" height=\"55\" style=\"fill:#d4ede9;stroke-width:2;stroke:rgb(255,255,255)\"/><rect x=\"660\" y=\"0\" width=\"55\" height=\"55\" style=\"fill:#b9e4de;stroke-width:2;stroke:rgb(255,255,255)\"/><rect x=\"715\" y=\"0\" width=\"55\" height=\"55\" style=\"fill:#98d7cd;stroke-width:2;stroke:rgb(255,255,255)\"/><rect x=\"770\" y=\"0\" width=\"55\" height=\"55\" style=\"fill:#76c6ba;stroke-width:2;stroke:rgb(255,255,255)\"/><rect x=\"825\" y=\"0\" width=\"55\" height=\"55\" style=\"fill:#4faaa1;stroke-width:2;stroke:rgb(255,255,255)\"/><rect x=\"880\" y=\"0\" width=\"55\" height=\"55\" style=\"fill:#2f9189;stroke-width:2;stroke:rgb(255,255,255)\"/><rect x=\"935\" y=\"0\" width=\"55\" height=\"55\" style=\"fill:#167a72;stroke-width:2;stroke:rgb(255,255,255)\"/><rect x=\"990\" y=\"0\" width=\"55\" height=\"55\" style=\"fill:#01645b;stroke-width:2;stroke:rgb(255,255,255)\"/><rect x=\"1045\" y=\"0\" width=\"55\" height=\"55\" style=\"fill:#005046;stroke-width:2;stroke:rgb(255,255,255)\"/></svg>"
      ],
      "text/plain": [
       "[(0.4327566320645906, 0.2491349480968858, 0.02883506343713956),\n",
       " (0.5361014994232988, 0.31003460207612454, 0.03806228373702422),\n",
       " (0.6313725490196078, 0.3951557093425605, 0.09573241061130335),\n",
       " (0.7254901960784313, 0.48373702422145326, 0.16032295271049596),\n",
       " (0.7933102652825836, 0.5958477508650518, 0.28719723183391),\n",
       " (0.8572856593617839, 0.7257977700884274, 0.4471357170319107),\n",
       " (0.9045751633986928, 0.8104575163398692, 0.5816993464052287),\n",
       " (0.9470203767781622, 0.8805843906189926, 0.7108804306036139),\n",
       " (0.9636293733179546, 0.9237985390234525, 0.8185313341022683),\n",
       " (0.9617839292579777, 0.9477893118031526, 0.910803537101115),\n",
       " (0.9148019992310651, 0.9497885428681276, 0.9447904652056902),\n",
       " (0.8299115724721262, 0.9294886582083814, 0.9152633602460593),\n",
       " (0.7257977700884278, 0.8953479430988083, 0.8703575547866207),\n",
       " (0.5947712418300657, 0.8418300653594772, 0.8039215686274511),\n",
       " (0.4615916955017304, 0.7748558246828146, 0.7299500192233758),\n",
       " (0.3116493656286045, 0.6668973471741639, 0.6299884659746252),\n",
       " (0.18385236447520187, 0.5695501730103806, 0.5381776239907727),\n",
       " (0.0878892733564014, 0.479123414071511, 0.44775086505190315),\n",
       " (0.003690888119953864, 0.39031141868512115, 0.3580161476355248),\n",
       " (0.0018454440599769317, 0.31280276816609, 0.27312572087658593)]"
      ]
     },
     "metadata": {},
     "output_type": "display_data"
    },
    {
     "name": "stdout",
     "output_type": "stream",
     "text": [
      "BrBG_r\n"
     ]
    },
    {
     "data": {
      "text/html": [
       "<svg  width=\"1100\" height=\"55\"><rect x=\"0\" y=\"0\" width=\"55\" height=\"55\" style=\"fill:#005046;stroke-width:2;stroke:rgb(255,255,255)\"/><rect x=\"55\" y=\"0\" width=\"55\" height=\"55\" style=\"fill:#01645b;stroke-width:2;stroke:rgb(255,255,255)\"/><rect x=\"110\" y=\"0\" width=\"55\" height=\"55\" style=\"fill:#167a72;stroke-width:2;stroke:rgb(255,255,255)\"/><rect x=\"165\" y=\"0\" width=\"55\" height=\"55\" style=\"fill:#2f9189;stroke-width:2;stroke:rgb(255,255,255)\"/><rect x=\"220\" y=\"0\" width=\"55\" height=\"55\" style=\"fill:#4faaa1;stroke-width:2;stroke:rgb(255,255,255)\"/><rect x=\"275\" y=\"0\" width=\"55\" height=\"55\" style=\"fill:#76c6ba;stroke-width:2;stroke:rgb(255,255,255)\"/><rect x=\"330\" y=\"0\" width=\"55\" height=\"55\" style=\"fill:#98d7cd;stroke-width:2;stroke:rgb(255,255,255)\"/><rect x=\"385\" y=\"0\" width=\"55\" height=\"55\" style=\"fill:#b9e4de;stroke-width:2;stroke:rgb(255,255,255)\"/><rect x=\"440\" y=\"0\" width=\"55\" height=\"55\" style=\"fill:#d4ede9;stroke-width:2;stroke:rgb(255,255,255)\"/><rect x=\"495\" y=\"0\" width=\"55\" height=\"55\" style=\"fill:#e9f2f1;stroke-width:2;stroke:rgb(255,255,255)\"/><rect x=\"550\" y=\"0\" width=\"55\" height=\"55\" style=\"fill:#f5f2e8;stroke-width:2;stroke:rgb(255,255,255)\"/><rect x=\"605\" y=\"0\" width=\"55\" height=\"55\" style=\"fill:#f6ecd1;stroke-width:2;stroke:rgb(255,255,255)\"/><rect x=\"660\" y=\"0\" width=\"55\" height=\"55\" style=\"fill:#f1e1b5;stroke-width:2;stroke:rgb(255,255,255)\"/><rect x=\"715\" y=\"0\" width=\"55\" height=\"55\" style=\"fill:#e7cf94;stroke-width:2;stroke:rgb(255,255,255)\"/><rect x=\"770\" y=\"0\" width=\"55\" height=\"55\" style=\"fill:#dbb972;stroke-width:2;stroke:rgb(255,255,255)\"/><rect x=\"825\" y=\"0\" width=\"55\" height=\"55\" style=\"fill:#ca9849;stroke-width:2;stroke:rgb(255,255,255)\"/><rect x=\"880\" y=\"0\" width=\"55\" height=\"55\" style=\"fill:#b97b29;stroke-width:2;stroke:rgb(255,255,255)\"/><rect x=\"935\" y=\"0\" width=\"55\" height=\"55\" style=\"fill:#a16518;stroke-width:2;stroke:rgb(255,255,255)\"/><rect x=\"990\" y=\"0\" width=\"55\" height=\"55\" style=\"fill:#894f0a;stroke-width:2;stroke:rgb(255,255,255)\"/><rect x=\"1045\" y=\"0\" width=\"55\" height=\"55\" style=\"fill:#6e4007;stroke-width:2;stroke:rgb(255,255,255)\"/></svg>"
      ],
      "text/plain": [
       "[(0.0018454440599769324, 0.31280276816609, 0.27312572087658593),\n",
       " (0.003690888119953865, 0.3903114186851212, 0.35801614763552486),\n",
       " (0.08788927335640145, 0.47912341407151104, 0.4477508650519032),\n",
       " (0.18385236447520192, 0.5695501730103807, 0.538177623990773),\n",
       " (0.31164936562860457, 0.6668973471741639, 0.6299884659746252),\n",
       " (0.4615916955017303, 0.7748558246828144, 0.7299500192233757),\n",
       " (0.5947712418300656, 0.8418300653594772, 0.8039215686274511),\n",
       " (0.7257977700884278, 0.8953479430988083, 0.8703575547866207),\n",
       " (0.8299115724721262, 0.9294886582083814, 0.9152633602460593),\n",
       " (0.914801999231065, 0.9497885428681276, 0.9447904652056902),\n",
       " (0.9617839292579777, 0.9477893118031526, 0.910803537101115),\n",
       " (0.9636293733179546, 0.9237985390234525, 0.8185313341022683),\n",
       " (0.9470203767781623, 0.8805843906189926, 0.7108804306036139),\n",
       " (0.9045751633986928, 0.8104575163398693, 0.5816993464052287),\n",
       " (0.8572856593617839, 0.7257977700884275, 0.4471357170319108),\n",
       " (0.7933102652825836, 0.5958477508650519, 0.28719723183391),\n",
       " (0.7254901960784313, 0.48373702422145326, 0.16032295271049596),\n",
       " (0.6313725490196078, 0.3951557093425605, 0.09573241061130335),\n",
       " (0.5361014994232988, 0.31003460207612454, 0.03806228373702422),\n",
       " (0.4327566320645906, 0.2491349480968858, 0.02883506343713956)]"
      ]
     },
     "metadata": {},
     "output_type": "display_data"
    },
    {
     "name": "stdout",
     "output_type": "stream",
     "text": [
      "BuGn\n"
     ]
    },
    {
     "data": {
      "text/html": [
       "<svg  width=\"1100\" height=\"55\"><rect x=\"0\" y=\"0\" width=\"55\" height=\"55\" style=\"fill:#f0f9fb;stroke-width:2;stroke:rgb(255,255,255)\"/><rect x=\"55\" y=\"0\" width=\"55\" height=\"55\" style=\"fill:#e9f7fa;stroke-width:2;stroke:rgb(255,255,255)\"/><rect x=\"110\" y=\"0\" width=\"55\" height=\"55\" style=\"fill:#e2f4f7;stroke-width:2;stroke:rgb(255,255,255)\"/><rect x=\"165\" y=\"0\" width=\"55\" height=\"55\" style=\"fill:#d8f0ef;stroke-width:2;stroke:rgb(255,255,255)\"/><rect x=\"220\" y=\"0\" width=\"55\" height=\"55\" style=\"fill:#cfede8;stroke-width:2;stroke:rgb(255,255,255)\"/><rect x=\"275\" y=\"0\" width=\"55\" height=\"55\" style=\"fill:#bde6de;stroke-width:2;stroke:rgb(255,255,255)\"/><rect x=\"330\" y=\"0\" width=\"55\" height=\"55\" style=\"fill:#aadfd3;stroke-width:2;stroke:rgb(255,255,255)\"/><rect x=\"385\" y=\"0\" width=\"55\" height=\"55\" style=\"fill:#97d7c7;stroke-width:2;stroke:rgb(255,255,255)\"/><rect x=\"440\" y=\"0\" width=\"55\" height=\"55\" style=\"fill:#84cfb9;stroke-width:2;stroke:rgb(255,255,255)\"/><rect x=\"495\" y=\"0\" width=\"55\" height=\"55\" style=\"fill:#70c6ac;stroke-width:2;stroke:rgb(255,255,255)\"/><rect x=\"550\" y=\"0\" width=\"55\" height=\"55\" style=\"fill:#5ebe9b;stroke-width:2;stroke:rgb(255,255,255)\"/><rect x=\"605\" y=\"0\" width=\"55\" height=\"55\" style=\"fill:#51b689;stroke-width:2;stroke:rgb(255,255,255)\"/><rect x=\"660\" y=\"0\" width=\"55\" height=\"55\" style=\"fill:#43af78;stroke-width:2;stroke:rgb(255,255,255)\"/><rect x=\"715\" y=\"0\" width=\"55\" height=\"55\" style=\"fill:#37a266;stroke-width:2;stroke:rgb(255,255,255)\"/><rect x=\"770\" y=\"0\" width=\"55\" height=\"55\" style=\"fill:#2c9553;stroke-width:2;stroke:rgb(255,255,255)\"/><rect x=\"825\" y=\"0\" width=\"55\" height=\"55\" style=\"fill:#1f8742;stroke-width:2;stroke:rgb(255,255,255)\"/><rect x=\"880\" y=\"0\" width=\"55\" height=\"55\" style=\"fill:#127c39;stroke-width:2;stroke:rgb(255,255,255)\"/><rect x=\"935\" y=\"0\" width=\"55\" height=\"55\" style=\"fill:#05712f;stroke-width:2;stroke:rgb(255,255,255)\"/><rect x=\"990\" y=\"0\" width=\"55\" height=\"55\" style=\"fill:#006328;stroke-width:2;stroke:rgb(255,255,255)\"/><rect x=\"1045\" y=\"0\" width=\"55\" height=\"55\" style=\"fill:#005321;stroke-width:2;stroke:rgb(255,255,255)\"/></svg>"
      ],
      "text/plain": [
       "[(0.9420530565167243, 0.9779008073817763, 0.9862514417531718),\n",
       " (0.9154786620530565, 0.9675663206459054, 0.9803460207612457),\n",
       " (0.8853517877739331, 0.9562168396770473, 0.9668281430219147),\n",
       " (0.8484429065743945, 0.9429296424452134, 0.9387773933102653),\n",
       " (0.8115340253748559, 0.9296424452133795, 0.9107266435986159),\n",
       " (0.7419607843137255, 0.9027297193387159, 0.868958093041138),\n",
       " (0.6666666666666667, 0.873202614379085, 0.8261437908496732),\n",
       " (0.5913725490196078, 0.8433371780084583, 0.7819761630142252),\n",
       " (0.516078431372549, 0.8108573625528642, 0.7273510188389081),\n",
       " (0.4407843137254902, 0.7783775470972703, 0.6727258746635909),\n",
       " (0.3704113802383699, 0.7447904652056901, 0.6063514033064207),\n",
       " (0.31578623606305267, 0.7152633602460592, 0.5384390618992695),\n",
       " (0.26116109188773545, 0.6857362552864283, 0.4705267204921184),\n",
       " (0.21568627450980393, 0.6366013071895424, 0.39869281045751637),\n",
       " (0.17139561707035755, 0.5849288735101883, 0.3263514033064206),\n",
       " (0.12110726643598617, 0.5312572087658592, 0.2590542099192618),\n",
       " (0.06943483275663206, 0.48696655132641287, 0.22214532871972317),\n",
       " (0.017762399077277974, 0.44267589388696654, 0.18523644752018453),\n",
       " (0.0, 0.3877277970011534, 0.156078431372549),\n",
       " (0.0, 0.32719723183391003, 0.13098039215686275)]"
      ]
     },
     "metadata": {},
     "output_type": "display_data"
    },
    {
     "name": "stdout",
     "output_type": "stream",
     "text": [
      "BuGn_r\n"
     ]
    },
    {
     "data": {
      "text/html": [
       "<svg  width=\"1100\" height=\"55\"><rect x=\"0\" y=\"0\" width=\"55\" height=\"55\" style=\"fill:#005321;stroke-width:2;stroke:rgb(255,255,255)\"/><rect x=\"55\" y=\"0\" width=\"55\" height=\"55\" style=\"fill:#006328;stroke-width:2;stroke:rgb(255,255,255)\"/><rect x=\"110\" y=\"0\" width=\"55\" height=\"55\" style=\"fill:#05712f;stroke-width:2;stroke:rgb(255,255,255)\"/><rect x=\"165\" y=\"0\" width=\"55\" height=\"55\" style=\"fill:#127c39;stroke-width:2;stroke:rgb(255,255,255)\"/><rect x=\"220\" y=\"0\" width=\"55\" height=\"55\" style=\"fill:#1f8742;stroke-width:2;stroke:rgb(255,255,255)\"/><rect x=\"275\" y=\"0\" width=\"55\" height=\"55\" style=\"fill:#2c9553;stroke-width:2;stroke:rgb(255,255,255)\"/><rect x=\"330\" y=\"0\" width=\"55\" height=\"55\" style=\"fill:#37a266;stroke-width:2;stroke:rgb(255,255,255)\"/><rect x=\"385\" y=\"0\" width=\"55\" height=\"55\" style=\"fill:#43af78;stroke-width:2;stroke:rgb(255,255,255)\"/><rect x=\"440\" y=\"0\" width=\"55\" height=\"55\" style=\"fill:#51b689;stroke-width:2;stroke:rgb(255,255,255)\"/><rect x=\"495\" y=\"0\" width=\"55\" height=\"55\" style=\"fill:#5ebe9b;stroke-width:2;stroke:rgb(255,255,255)\"/><rect x=\"550\" y=\"0\" width=\"55\" height=\"55\" style=\"fill:#70c6ac;stroke-width:2;stroke:rgb(255,255,255)\"/><rect x=\"605\" y=\"0\" width=\"55\" height=\"55\" style=\"fill:#84cfb9;stroke-width:2;stroke:rgb(255,255,255)\"/><rect x=\"660\" y=\"0\" width=\"55\" height=\"55\" style=\"fill:#97d7c7;stroke-width:2;stroke:rgb(255,255,255)\"/><rect x=\"715\" y=\"0\" width=\"55\" height=\"55\" style=\"fill:#aadfd3;stroke-width:2;stroke:rgb(255,255,255)\"/><rect x=\"770\" y=\"0\" width=\"55\" height=\"55\" style=\"fill:#bde6de;stroke-width:2;stroke:rgb(255,255,255)\"/><rect x=\"825\" y=\"0\" width=\"55\" height=\"55\" style=\"fill:#cfede8;stroke-width:2;stroke:rgb(255,255,255)\"/><rect x=\"880\" y=\"0\" width=\"55\" height=\"55\" style=\"fill:#d8f0ef;stroke-width:2;stroke:rgb(255,255,255)\"/><rect x=\"935\" y=\"0\" width=\"55\" height=\"55\" style=\"fill:#e2f4f7;stroke-width:2;stroke:rgb(255,255,255)\"/><rect x=\"990\" y=\"0\" width=\"55\" height=\"55\" style=\"fill:#e9f7fa;stroke-width:2;stroke:rgb(255,255,255)\"/><rect x=\"1045\" y=\"0\" width=\"55\" height=\"55\" style=\"fill:#f0f9fb;stroke-width:2;stroke:rgb(255,255,255)\"/></svg>"
      ],
      "text/plain": [
       "[(0.0, 0.32719723183391003, 0.13098039215686275),\n",
       " (0.0, 0.3877277970011534, 0.156078431372549),\n",
       " (0.017762399077277974, 0.44267589388696654, 0.18523644752018453),\n",
       " (0.06943483275663206, 0.48696655132641287, 0.22214532871972317),\n",
       " (0.12110726643598617, 0.5312572087658592, 0.2590542099192618),\n",
       " (0.17139561707035755, 0.5849288735101884, 0.3263514033064206),\n",
       " (0.2156862745098039, 0.6366013071895424, 0.39869281045751637),\n",
       " (0.26116109188773545, 0.6857362552864283, 0.4705267204921184),\n",
       " (0.31578623606305267, 0.7152633602460592, 0.5384390618992696),\n",
       " (0.37041138023836984, 0.74479046520569, 0.6063514033064207),\n",
       " (0.4407843137254902, 0.7783775470972703, 0.6727258746635909),\n",
       " (0.516078431372549, 0.8108573625528642, 0.7273510188389081),\n",
       " (0.5913725490196078, 0.8433371780084583, 0.7819761630142252),\n",
       " (0.6666666666666666, 0.873202614379085, 0.8261437908496732),\n",
       " (0.7419607843137255, 0.9027297193387159, 0.868958093041138),\n",
       " (0.8115340253748559, 0.9296424452133795, 0.9107266435986159),\n",
       " (0.8484429065743945, 0.9429296424452134, 0.9387773933102653),\n",
       " (0.8853517877739332, 0.9562168396770473, 0.9668281430219147),\n",
       " (0.9154786620530565, 0.9675663206459054, 0.9803460207612457),\n",
       " (0.9420530565167243, 0.9779008073817763, 0.9862514417531718)]"
      ]
     },
     "metadata": {},
     "output_type": "display_data"
    },
    {
     "name": "stdout",
     "output_type": "stream",
     "text": [
      "BuPu\n"
     ]
    },
    {
     "data": {
      "text/html": [
       "<svg  width=\"1100\" height=\"55\"><rect x=\"0\" y=\"0\" width=\"55\" height=\"55\" style=\"fill:#eef6fa;stroke-width:2;stroke:rgb(255,255,255)\"/><rect x=\"55\" y=\"0\" width=\"55\" height=\"55\" style=\"fill:#e6f0f6;stroke-width:2;stroke:rgb(255,255,255)\"/><rect x=\"110\" y=\"0\" width=\"55\" height=\"55\" style=\"fill:#dce9f2;stroke-width:2;stroke:rgb(255,255,255)\"/><rect x=\"165\" y=\"0\" width=\"55\" height=\"55\" style=\"fill:#cfdfed;stroke-width:2;stroke:rgb(255,255,255)\"/><rect x=\"220\" y=\"0\" width=\"55\" height=\"55\" style=\"fill:#c3d6e8;stroke-width:2;stroke:rgb(255,255,255)\"/><rect x=\"275\" y=\"0\" width=\"55\" height=\"55\" style=\"fill:#b5cce3;stroke-width:2;stroke:rgb(255,255,255)\"/><rect x=\"330\" y=\"0\" width=\"55\" height=\"55\" style=\"fill:#a9c4de;stroke-width:2;stroke:rgb(255,255,255)\"/><rect x=\"385\" y=\"0\" width=\"55\" height=\"55\" style=\"fill:#9dbad9;stroke-width:2;stroke:rgb(255,255,255)\"/><rect x=\"440\" y=\"0\" width=\"55\" height=\"55\" style=\"fill:#96acd2;stroke-width:2;stroke:rgb(255,255,255)\"/><rect x=\"495\" y=\"0\" width=\"55\" height=\"55\" style=\"fill:#909eca;stroke-width:2;stroke:rgb(255,255,255)\"/><rect x=\"550\" y=\"0\" width=\"55\" height=\"55\" style=\"fill:#8c8dc2;stroke-width:2;stroke:rgb(255,255,255)\"/><rect x=\"605\" y=\"0\" width=\"55\" height=\"55\" style=\"fill:#8c7dba;stroke-width:2;stroke:rgb(255,255,255)\"/><rect x=\"660\" y=\"0\" width=\"55\" height=\"55\" style=\"fill:#8c6db2;stroke-width:2;stroke:rgb(255,255,255)\"/><rect x=\"715\" y=\"0\" width=\"55\" height=\"55\" style=\"fill:#8b5daa;stroke-width:2;stroke:rgb(255,255,255)\"/><rect x=\"770\" y=\"0\" width=\"55\" height=\"55\" style=\"fill:#894da3;stroke-width:2;stroke:rgb(255,255,255)\"/><rect x=\"825\" y=\"0\" width=\"55\" height=\"55\" style=\"fill:#873b99;stroke-width:2;stroke:rgb(255,255,255)\"/><rect x=\"880\" y=\"0\" width=\"55\" height=\"55\" style=\"fill:#85288d;stroke-width:2;stroke:rgb(255,255,255)\"/><rect x=\"935\" y=\"0\" width=\"55\" height=\"55\" style=\"fill:#821580;stroke-width:2;stroke:rgb(255,255,255)\"/><rect x=\"990\" y=\"0\" width=\"55\" height=\"55\" style=\"fill:#740b70;stroke-width:2;stroke:rgb(255,255,255)\"/><rect x=\"1045\" y=\"0\" width=\"55\" height=\"55\" style=\"fill:#61065d;stroke-width:2;stroke:rgb(255,255,255)\"/></svg>"
      ],
      "text/plain": [
       "[(0.9346712802768166, 0.9646136101499424, 0.9788696655132642),\n",
       " (0.9007151095732411, 0.9409919261822376, 0.9655824682814302),\n",
       " (0.861683967704729, 0.91280276816609, 0.9497577854671281),\n",
       " (0.812964244521338, 0.8758938869665513, 0.9290888119953864),\n",
       " (0.764244521337947, 0.8389850057670126, 0.9084198385236448),\n",
       " (0.7114648212226067, 0.801276432141484, 0.8883044982698962),\n",
       " (0.6627450980392157, 0.7673202614379085, 0.8705882352941177),\n",
       " (0.616562860438293, 0.7308266051518647, 0.851518646674356),\n",
       " (0.5899884659746252, 0.6747251057285659, 0.8219915417147251),\n",
       " (0.5634140715109573, 0.6186236063052672, 0.7924644367550941),\n",
       " (0.5490196078431373, 0.5538485198000769, 0.759677047289504),\n",
       " (0.5490196078431373, 0.49036524413687044, 0.7286735870818916),\n",
       " (0.5490196078431373, 0.426881968473664, 0.6976701268742791),\n",
       " (0.5437908496732027, 0.36470588235294116, 0.6679738562091503),\n",
       " (0.5378854286812764, 0.3026989619377163, 0.6384467512495194),\n",
       " (0.5301038062283737, 0.23183391003460208, 0.6004613610149943),\n",
       " (0.5197693194925028, 0.1580161476355248, 0.5517416378316032),\n",
       " (0.509434832756632, 0.08419838523644751, 0.5030219146482122),\n",
       " (0.45550173010380623, 0.04429065743944637, 0.43880046136101497),\n",
       " (0.3787312572087658, 0.022145328719723183, 0.36645905420991925)]"
      ]
     },
     "metadata": {},
     "output_type": "display_data"
    },
    {
     "name": "stdout",
     "output_type": "stream",
     "text": [
      "BuPu_r\n"
     ]
    },
    {
     "data": {
      "text/html": [
       "<svg  width=\"1100\" height=\"55\"><rect x=\"0\" y=\"0\" width=\"55\" height=\"55\" style=\"fill:#61065d;stroke-width:2;stroke:rgb(255,255,255)\"/><rect x=\"55\" y=\"0\" width=\"55\" height=\"55\" style=\"fill:#740b70;stroke-width:2;stroke:rgb(255,255,255)\"/><rect x=\"110\" y=\"0\" width=\"55\" height=\"55\" style=\"fill:#821580;stroke-width:2;stroke:rgb(255,255,255)\"/><rect x=\"165\" y=\"0\" width=\"55\" height=\"55\" style=\"fill:#85288d;stroke-width:2;stroke:rgb(255,255,255)\"/><rect x=\"220\" y=\"0\" width=\"55\" height=\"55\" style=\"fill:#873b99;stroke-width:2;stroke:rgb(255,255,255)\"/><rect x=\"275\" y=\"0\" width=\"55\" height=\"55\" style=\"fill:#894da3;stroke-width:2;stroke:rgb(255,255,255)\"/><rect x=\"330\" y=\"0\" width=\"55\" height=\"55\" style=\"fill:#8b5daa;stroke-width:2;stroke:rgb(255,255,255)\"/><rect x=\"385\" y=\"0\" width=\"55\" height=\"55\" style=\"fill:#8c6db2;stroke-width:2;stroke:rgb(255,255,255)\"/><rect x=\"440\" y=\"0\" width=\"55\" height=\"55\" style=\"fill:#8c7dba;stroke-width:2;stroke:rgb(255,255,255)\"/><rect x=\"495\" y=\"0\" width=\"55\" height=\"55\" style=\"fill:#8c8dc2;stroke-width:2;stroke:rgb(255,255,255)\"/><rect x=\"550\" y=\"0\" width=\"55\" height=\"55\" style=\"fill:#909eca;stroke-width:2;stroke:rgb(255,255,255)\"/><rect x=\"605\" y=\"0\" width=\"55\" height=\"55\" style=\"fill:#96acd2;stroke-width:2;stroke:rgb(255,255,255)\"/><rect x=\"660\" y=\"0\" width=\"55\" height=\"55\" style=\"fill:#9dbad9;stroke-width:2;stroke:rgb(255,255,255)\"/><rect x=\"715\" y=\"0\" width=\"55\" height=\"55\" style=\"fill:#a9c4de;stroke-width:2;stroke:rgb(255,255,255)\"/><rect x=\"770\" y=\"0\" width=\"55\" height=\"55\" style=\"fill:#b5cce3;stroke-width:2;stroke:rgb(255,255,255)\"/><rect x=\"825\" y=\"0\" width=\"55\" height=\"55\" style=\"fill:#c3d6e8;stroke-width:2;stroke:rgb(255,255,255)\"/><rect x=\"880\" y=\"0\" width=\"55\" height=\"55\" style=\"fill:#cfdfed;stroke-width:2;stroke:rgb(255,255,255)\"/><rect x=\"935\" y=\"0\" width=\"55\" height=\"55\" style=\"fill:#dce9f2;stroke-width:2;stroke:rgb(255,255,255)\"/><rect x=\"990\" y=\"0\" width=\"55\" height=\"55\" style=\"fill:#e6f0f6;stroke-width:2;stroke:rgb(255,255,255)\"/><rect x=\"1045\" y=\"0\" width=\"55\" height=\"55\" style=\"fill:#eef6fa;stroke-width:2;stroke:rgb(255,255,255)\"/></svg>"
      ],
      "text/plain": [
       "[(0.3787312572087658, 0.022145328719723186, 0.36645905420991925),\n",
       " (0.45550173010380623, 0.04429065743944637, 0.438800461361015),\n",
       " (0.509434832756632, 0.08419838523644753, 0.5030219146482122),\n",
       " (0.5197693194925028, 0.1580161476355248, 0.5517416378316032),\n",
       " (0.5301038062283737, 0.23183391003460205, 0.6004613610149943),\n",
       " (0.5378854286812764, 0.3026989619377163, 0.6384467512495194),\n",
       " (0.5437908496732027, 0.36470588235294116, 0.6679738562091503),\n",
       " (0.5490196078431373, 0.426881968473664, 0.6976701268742791),\n",
       " (0.5490196078431373, 0.49036524413687044, 0.7286735870818916),\n",
       " (0.5490196078431373, 0.5538485198000769, 0.759677047289504),\n",
       " (0.5634140715109573, 0.6186236063052672, 0.7924644367550941),\n",
       " (0.5899884659746252, 0.6747251057285659, 0.8219915417147251),\n",
       " (0.616562860438293, 0.7308266051518647, 0.851518646674356),\n",
       " (0.6627450980392157, 0.7673202614379085, 0.8705882352941177),\n",
       " (0.7114648212226067, 0.801276432141484, 0.8883044982698962),\n",
       " (0.764244521337947, 0.8389850057670126, 0.9084198385236447),\n",
       " (0.812964244521338, 0.8758938869665513, 0.9290888119953864),\n",
       " (0.861683967704729, 0.91280276816609, 0.9497577854671281),\n",
       " (0.9007151095732411, 0.9409919261822376, 0.9655824682814302),\n",
       " (0.9346712802768166, 0.9646136101499424, 0.9788696655132642)]"
      ]
     },
     "metadata": {},
     "output_type": "display_data"
    },
    {
     "name": "stdout",
     "output_type": "stream",
     "text": [
      "CMRmap\n"
     ]
    },
    {
     "data": {
      "text/html": [
       "<svg  width=\"1100\" height=\"55\"><rect x=\"0\" y=\"0\" width=\"55\" height=\"55\" style=\"fill:#0e0e30;stroke-width:2;stroke:rgb(255,255,255)\"/><rect x=\"55\" y=\"0\" width=\"55\" height=\"55\" style=\"fill:#1d1d60;stroke-width:2;stroke:rgb(255,255,255)\"/><rect x=\"110\" y=\"0\" width=\"55\" height=\"55\" style=\"fill:#2b2688;stroke-width:2;stroke:rgb(255,255,255)\"/><rect x=\"165\" y=\"0\" width=\"55\" height=\"55\" style=\"fill:#3a26a0;stroke-width:2;stroke:rgb(255,255,255)\"/><rect x=\"220\" y=\"0\" width=\"55\" height=\"55\" style=\"fill:#4826b8;stroke-width:2;stroke:rgb(255,255,255)\"/><rect x=\"275\" y=\"0\" width=\"55\" height=\"55\" style=\"fill:#632aad;stroke-width:2;stroke:rgb(255,255,255)\"/><rect x=\"330\" y=\"0\" width=\"55\" height=\"55\" style=\"fill:#802f95;stroke-width:2;stroke:rgb(255,255,255)\"/><rect x=\"385\" y=\"0\" width=\"55\" height=\"55\" style=\"fill:#9d347c;stroke-width:2;stroke:rgb(255,255,255)\"/><rect x=\"440\" y=\"0\" width=\"55\" height=\"55\" style=\"fill:#c4385a;stroke-width:2;stroke:rgb(255,255,255)\"/><rect x=\"495\" y=\"0\" width=\"55\" height=\"55\" style=\"fill:#ea3d38;stroke-width:2;stroke:rgb(255,255,255)\"/><rect x=\"550\" y=\"0\" width=\"55\" height=\"55\" style=\"fill:#fa4d1e;stroke-width:2;stroke:rgb(255,255,255)\"/><rect x=\"605\" y=\"0\" width=\"55\" height=\"55\" style=\"fill:#f06510;stroke-width:2;stroke:rgb(255,255,255)\"/><rect x=\"660\" y=\"0\" width=\"55\" height=\"55\" style=\"fill:#e77d02;stroke-width:2;stroke:rgb(255,255,255)\"/><rect x=\"715\" y=\"0\" width=\"55\" height=\"55\" style=\"fill:#e69508;stroke-width:2;stroke:rgb(255,255,255)\"/><rect x=\"770\" y=\"0\" width=\"55\" height=\"55\" style=\"fill:#e6ad12;stroke-width:2;stroke:rgb(255,255,255)\"/><rect x=\"825\" y=\"0\" width=\"55\" height=\"55\" style=\"fill:#e6c426;stroke-width:2;stroke:rgb(255,255,255)\"/><rect x=\"880\" y=\"0\" width=\"55\" height=\"55\" style=\"fill:#e6d24c;stroke-width:2;stroke:rgb(255,255,255)\"/><rect x=\"935\" y=\"0\" width=\"55\" height=\"55\" style=\"fill:#e6e172;stroke-width:2;stroke:rgb(255,255,255)\"/><rect x=\"990\" y=\"0\" width=\"55\" height=\"55\" style=\"fill:#ecec9f;stroke-width:2;stroke:rgb(255,255,255)\"/><rect x=\"1045\" y=\"0\" width=\"55\" height=\"55\" style=\"fill:#f5f5cf;stroke-width:2;stroke:rgb(255,255,255)\"/></svg>"
      ],
      "text/plain": [
       "[(0.05647058823529411, 0.05647058823529411, 0.18823529411764706),\n",
       " (0.11294117647058823, 0.11294117647058823, 0.3764705882352941),\n",
       " (0.16941176470588235, 0.15, 0.5323529411764706),\n",
       " (0.22588235294117648, 0.15, 0.6264705882352941),\n",
       " (0.2823529411764706, 0.15, 0.7205882352941176),\n",
       " (0.3870588235294118, 0.16450980392156864, 0.6774509803921569),\n",
       " (0.5, 0.18333333333333335, 0.5833333333333334),\n",
       " (0.6172549019607843, 0.20215686274509806, 0.48490196078431375),\n",
       " (0.7678431372549019, 0.22098039215686274, 0.3531372549019608),\n",
       " (0.9184313725490196, 0.23980392156862745, 0.2213725490196079),\n",
       " (0.9796078431372549, 0.30098039215686273, 0.11941176470588236),\n",
       " (0.9419607843137255, 0.3950980392156863, 0.06294117647058822),\n",
       " (0.9043137254901961, 0.48921568627450984, 0.006470588235294117),\n",
       " (0.9, 0.5833333333333334, 0.03333333333333333),\n",
       " (0.9, 0.6774509803921569, 0.07098039215686275),\n",
       " (0.9, 0.7676470588235295, 0.14705882352941177),\n",
       " (0.9, 0.8241176470588235, 0.29764705882352943),\n",
       " (0.9, 0.8805882352941177, 0.44823529411764707),\n",
       " (0.9247058823529412, 0.9247058823529412, 0.6235294117647059),\n",
       " (0.9623529411764706, 0.9623529411764706, 0.8117647058823529)]"
      ]
     },
     "metadata": {},
     "output_type": "display_data"
    },
    {
     "name": "stdout",
     "output_type": "stream",
     "text": [
      "CMRmap_r\n"
     ]
    },
    {
     "data": {
      "text/html": [
       "<svg  width=\"1100\" height=\"55\"><rect x=\"0\" y=\"0\" width=\"55\" height=\"55\" style=\"fill:#f5f5cf;stroke-width:2;stroke:rgb(255,255,255)\"/><rect x=\"55\" y=\"0\" width=\"55\" height=\"55\" style=\"fill:#ecec9f;stroke-width:2;stroke:rgb(255,255,255)\"/><rect x=\"110\" y=\"0\" width=\"55\" height=\"55\" style=\"fill:#e6e172;stroke-width:2;stroke:rgb(255,255,255)\"/><rect x=\"165\" y=\"0\" width=\"55\" height=\"55\" style=\"fill:#e6d24c;stroke-width:2;stroke:rgb(255,255,255)\"/><rect x=\"220\" y=\"0\" width=\"55\" height=\"55\" style=\"fill:#e6c425;stroke-width:2;stroke:rgb(255,255,255)\"/><rect x=\"275\" y=\"0\" width=\"55\" height=\"55\" style=\"fill:#e6ad12;stroke-width:2;stroke:rgb(255,255,255)\"/><rect x=\"330\" y=\"0\" width=\"55\" height=\"55\" style=\"fill:#e69509;stroke-width:2;stroke:rgb(255,255,255)\"/><rect x=\"385\" y=\"0\" width=\"55\" height=\"55\" style=\"fill:#e77d02;stroke-width:2;stroke:rgb(255,255,255)\"/><rect x=\"440\" y=\"0\" width=\"55\" height=\"55\" style=\"fill:#f06510;stroke-width:2;stroke:rgb(255,255,255)\"/><rect x=\"495\" y=\"0\" width=\"55\" height=\"55\" style=\"fill:#fa4d1e;stroke-width:2;stroke:rgb(255,255,255)\"/><rect x=\"550\" y=\"0\" width=\"55\" height=\"55\" style=\"fill:#ea3d38;stroke-width:2;stroke:rgb(255,255,255)\"/><rect x=\"605\" y=\"0\" width=\"55\" height=\"55\" style=\"fill:#c4385a;stroke-width:2;stroke:rgb(255,255,255)\"/><rect x=\"660\" y=\"0\" width=\"55\" height=\"55\" style=\"fill:#9d347c;stroke-width:2;stroke:rgb(255,255,255)\"/><rect x=\"715\" y=\"0\" width=\"55\" height=\"55\" style=\"fill:#802f95;stroke-width:2;stroke:rgb(255,255,255)\"/><rect x=\"770\" y=\"0\" width=\"55\" height=\"55\" style=\"fill:#632aad;stroke-width:2;stroke:rgb(255,255,255)\"/><rect x=\"825\" y=\"0\" width=\"55\" height=\"55\" style=\"fill:#4826b8;stroke-width:2;stroke:rgb(255,255,255)\"/><rect x=\"880\" y=\"0\" width=\"55\" height=\"55\" style=\"fill:#3a26a0;stroke-width:2;stroke:rgb(255,255,255)\"/><rect x=\"935\" y=\"0\" width=\"55\" height=\"55\" style=\"fill:#2b2688;stroke-width:2;stroke:rgb(255,255,255)\"/><rect x=\"990\" y=\"0\" width=\"55\" height=\"55\" style=\"fill:#1d1d60;stroke-width:2;stroke:rgb(255,255,255)\"/><rect x=\"1045\" y=\"0\" width=\"55\" height=\"55\" style=\"fill:#0e0e30;stroke-width:2;stroke:rgb(255,255,255)\"/></svg>"
      ],
      "text/plain": [
       "[(0.9623529411764706, 0.9623529411764706, 0.8117647058823529),\n",
       " (0.9247058823529412, 0.9247058823529412, 0.6235294117647059),\n",
       " (0.9, 0.8805882352941177, 0.44823529411764707),\n",
       " (0.9, 0.8241176470588235, 0.2976470588235294),\n",
       " (0.9, 0.7676470588235293, 0.14705882352941174),\n",
       " (0.9, 0.6774509803921569, 0.07098039215686275),\n",
       " (0.9, 0.5833333333333334, 0.03333333333333334),\n",
       " (0.9043137254901961, 0.4892156862745098, 0.006470588235294118),\n",
       " (0.9419607843137255, 0.39509803921568626, 0.06294117647058824),\n",
       " (0.9796078431372549, 0.3009803921568628, 0.11941176470588234),\n",
       " (0.9184313725490196, 0.23980392156862745, 0.22137254901960784),\n",
       " (0.7678431372549019, 0.22098039215686274, 0.3531372549019608),\n",
       " (0.6172549019607843, 0.20215686274509803, 0.4849019607843137),\n",
       " (0.5, 0.18333333333333335, 0.5833333333333334),\n",
       " (0.38705882352941173, 0.1645098039215686, 0.6774509803921569),\n",
       " (0.2823529411764706, 0.15, 0.7205882352941176),\n",
       " (0.22588235294117648, 0.15, 0.6264705882352941),\n",
       " (0.16941176470588235, 0.15, 0.5323529411764706),\n",
       " (0.11294117647058824, 0.11294117647058824, 0.3764705882352941),\n",
       " (0.05647058823529412, 0.05647058823529412, 0.18823529411764706)]"
      ]
     },
     "metadata": {},
     "output_type": "display_data"
    },
    {
     "name": "stdout",
     "output_type": "stream",
     "text": [
      "Dark2\n"
     ]
    },
    {
     "data": {
      "text/html": [
       "<svg  width=\"1100\" height=\"55\"><rect x=\"0\" y=\"0\" width=\"55\" height=\"55\" style=\"fill:#1b9e77;stroke-width:2;stroke:rgb(255,255,255)\"/><rect x=\"55\" y=\"0\" width=\"55\" height=\"55\" style=\"fill:#d95f02;stroke-width:2;stroke:rgb(255,255,255)\"/><rect x=\"110\" y=\"0\" width=\"55\" height=\"55\" style=\"fill:#7570b3;stroke-width:2;stroke:rgb(255,255,255)\"/><rect x=\"165\" y=\"0\" width=\"55\" height=\"55\" style=\"fill:#e7298a;stroke-width:2;stroke:rgb(255,255,255)\"/><rect x=\"220\" y=\"0\" width=\"55\" height=\"55\" style=\"fill:#66a61e;stroke-width:2;stroke:rgb(255,255,255)\"/><rect x=\"275\" y=\"0\" width=\"55\" height=\"55\" style=\"fill:#e6ab02;stroke-width:2;stroke:rgb(255,255,255)\"/><rect x=\"330\" y=\"0\" width=\"55\" height=\"55\" style=\"fill:#a6761d;stroke-width:2;stroke:rgb(255,255,255)\"/><rect x=\"385\" y=\"0\" width=\"55\" height=\"55\" style=\"fill:#666666;stroke-width:2;stroke:rgb(255,255,255)\"/><rect x=\"440\" y=\"0\" width=\"55\" height=\"55\" style=\"fill:#1b9e77;stroke-width:2;stroke:rgb(255,255,255)\"/><rect x=\"495\" y=\"0\" width=\"55\" height=\"55\" style=\"fill:#d95f02;stroke-width:2;stroke:rgb(255,255,255)\"/><rect x=\"550\" y=\"0\" width=\"55\" height=\"55\" style=\"fill:#7570b3;stroke-width:2;stroke:rgb(255,255,255)\"/><rect x=\"605\" y=\"0\" width=\"55\" height=\"55\" style=\"fill:#e7298a;stroke-width:2;stroke:rgb(255,255,255)\"/><rect x=\"660\" y=\"0\" width=\"55\" height=\"55\" style=\"fill:#66a61e;stroke-width:2;stroke:rgb(255,255,255)\"/><rect x=\"715\" y=\"0\" width=\"55\" height=\"55\" style=\"fill:#e6ab02;stroke-width:2;stroke:rgb(255,255,255)\"/><rect x=\"770\" y=\"0\" width=\"55\" height=\"55\" style=\"fill:#a6761d;stroke-width:2;stroke:rgb(255,255,255)\"/><rect x=\"825\" y=\"0\" width=\"55\" height=\"55\" style=\"fill:#666666;stroke-width:2;stroke:rgb(255,255,255)\"/><rect x=\"880\" y=\"0\" width=\"55\" height=\"55\" style=\"fill:#1b9e77;stroke-width:2;stroke:rgb(255,255,255)\"/><rect x=\"935\" y=\"0\" width=\"55\" height=\"55\" style=\"fill:#d95f02;stroke-width:2;stroke:rgb(255,255,255)\"/><rect x=\"990\" y=\"0\" width=\"55\" height=\"55\" style=\"fill:#7570b3;stroke-width:2;stroke:rgb(255,255,255)\"/><rect x=\"1045\" y=\"0\" width=\"55\" height=\"55\" style=\"fill:#e7298a;stroke-width:2;stroke:rgb(255,255,255)\"/></svg>"
      ],
      "text/plain": [
       "[(0.10588235294117647, 0.6196078431372549, 0.4666666666666667),\n",
       " (0.8509803921568627, 0.37254901960784315, 0.00784313725490196),\n",
       " (0.4588235294117647, 0.4392156862745098, 0.7019607843137254),\n",
       " (0.9058823529411765, 0.1607843137254902, 0.5411764705882353),\n",
       " (0.4, 0.6509803921568628, 0.11764705882352941),\n",
       " (0.9019607843137255, 0.6705882352941176, 0.00784313725490196),\n",
       " (0.6509803921568628, 0.4627450980392157, 0.11372549019607843),\n",
       " (0.4, 0.4, 0.4),\n",
       " (0.10588235294117647, 0.6196078431372549, 0.4666666666666667),\n",
       " (0.8509803921568627, 0.37254901960784315, 0.00784313725490196),\n",
       " (0.4588235294117647, 0.4392156862745098, 0.7019607843137254),\n",
       " (0.9058823529411765, 0.1607843137254902, 0.5411764705882353),\n",
       " (0.4, 0.6509803921568628, 0.11764705882352941),\n",
       " (0.9019607843137255, 0.6705882352941176, 0.00784313725490196),\n",
       " (0.6509803921568628, 0.4627450980392157, 0.11372549019607843),\n",
       " (0.4, 0.4, 0.4),\n",
       " (0.10588235294117647, 0.6196078431372549, 0.4666666666666667),\n",
       " (0.8509803921568627, 0.37254901960784315, 0.00784313725490196),\n",
       " (0.4588235294117647, 0.4392156862745098, 0.7019607843137254),\n",
       " (0.9058823529411765, 0.1607843137254902, 0.5411764705882353)]"
      ]
     },
     "metadata": {},
     "output_type": "display_data"
    },
    {
     "name": "stdout",
     "output_type": "stream",
     "text": [
      "Dark2_r\n"
     ]
    },
    {
     "data": {
      "text/html": [
       "<svg  width=\"1100\" height=\"55\"><rect x=\"0\" y=\"0\" width=\"55\" height=\"55\" style=\"fill:#666666;stroke-width:2;stroke:rgb(255,255,255)\"/><rect x=\"55\" y=\"0\" width=\"55\" height=\"55\" style=\"fill:#666666;stroke-width:2;stroke:rgb(255,255,255)\"/><rect x=\"110\" y=\"0\" width=\"55\" height=\"55\" style=\"fill:#a6761d;stroke-width:2;stroke:rgb(255,255,255)\"/><rect x=\"165\" y=\"0\" width=\"55\" height=\"55\" style=\"fill:#a6761d;stroke-width:2;stroke:rgb(255,255,255)\"/><rect x=\"220\" y=\"0\" width=\"55\" height=\"55\" style=\"fill:#a6761d;stroke-width:2;stroke:rgb(255,255,255)\"/><rect x=\"275\" y=\"0\" width=\"55\" height=\"55\" style=\"fill:#e6ab02;stroke-width:2;stroke:rgb(255,255,255)\"/><rect x=\"330\" y=\"0\" width=\"55\" height=\"55\" style=\"fill:#e6ab02;stroke-width:2;stroke:rgb(255,255,255)\"/><rect x=\"385\" y=\"0\" width=\"55\" height=\"55\" style=\"fill:#66a61e;stroke-width:2;stroke:rgb(255,255,255)\"/><rect x=\"440\" y=\"0\" width=\"55\" height=\"55\" style=\"fill:#66a61e;stroke-width:2;stroke:rgb(255,255,255)\"/><rect x=\"495\" y=\"0\" width=\"55\" height=\"55\" style=\"fill:#66a61e;stroke-width:2;stroke:rgb(255,255,255)\"/><rect x=\"550\" y=\"0\" width=\"55\" height=\"55\" style=\"fill:#e7298a;stroke-width:2;stroke:rgb(255,255,255)\"/><rect x=\"605\" y=\"0\" width=\"55\" height=\"55\" style=\"fill:#e7298a;stroke-width:2;stroke:rgb(255,255,255)\"/><rect x=\"660\" y=\"0\" width=\"55\" height=\"55\" style=\"fill:#e7298a;stroke-width:2;stroke:rgb(255,255,255)\"/><rect x=\"715\" y=\"0\" width=\"55\" height=\"55\" style=\"fill:#7570b3;stroke-width:2;stroke:rgb(255,255,255)\"/><rect x=\"770\" y=\"0\" width=\"55\" height=\"55\" style=\"fill:#7570b3;stroke-width:2;stroke:rgb(255,255,255)\"/><rect x=\"825\" y=\"0\" width=\"55\" height=\"55\" style=\"fill:#d95f02;stroke-width:2;stroke:rgb(255,255,255)\"/><rect x=\"880\" y=\"0\" width=\"55\" height=\"55\" style=\"fill:#d95f02;stroke-width:2;stroke:rgb(255,255,255)\"/><rect x=\"935\" y=\"0\" width=\"55\" height=\"55\" style=\"fill:#d95f02;stroke-width:2;stroke:rgb(255,255,255)\"/><rect x=\"990\" y=\"0\" width=\"55\" height=\"55\" style=\"fill:#1b9e77;stroke-width:2;stroke:rgb(255,255,255)\"/><rect x=\"1045\" y=\"0\" width=\"55\" height=\"55\" style=\"fill:#1b9e77;stroke-width:2;stroke:rgb(255,255,255)\"/></svg>"
      ],
      "text/plain": [
       "[(0.4, 0.4, 0.4),\n",
       " (0.4, 0.4, 0.4),\n",
       " (0.6509803921568628, 0.4627450980392157, 0.11372549019607843),\n",
       " (0.6509803921568628, 0.4627450980392157, 0.11372549019607843),\n",
       " (0.6509803921568628, 0.4627450980392157, 0.11372549019607843),\n",
       " (0.9019607843137255, 0.6705882352941176, 0.00784313725490196),\n",
       " (0.9019607843137255, 0.6705882352941176, 0.00784313725490196),\n",
       " (0.4, 0.6509803921568628, 0.11764705882352941),\n",
       " (0.4, 0.6509803921568628, 0.11764705882352941),\n",
       " (0.4, 0.6509803921568628, 0.11764705882352941),\n",
       " (0.9058823529411765, 0.1607843137254902, 0.5411764705882353),\n",
       " (0.9058823529411765, 0.1607843137254902, 0.5411764705882353),\n",
       " (0.9058823529411765, 0.1607843137254902, 0.5411764705882353),\n",
       " (0.4588235294117647, 0.4392156862745098, 0.7019607843137254),\n",
       " (0.4588235294117647, 0.4392156862745098, 0.7019607843137254),\n",
       " (0.8509803921568627, 0.37254901960784315, 0.00784313725490196),\n",
       " (0.8509803921568627, 0.37254901960784315, 0.00784313725490196),\n",
       " (0.8509803921568627, 0.37254901960784315, 0.00784313725490196),\n",
       " (0.10588235294117647, 0.6196078431372549, 0.4666666666666667),\n",
       " (0.10588235294117647, 0.6196078431372549, 0.4666666666666667)]"
      ]
     },
     "metadata": {},
     "output_type": "display_data"
    },
    {
     "name": "stdout",
     "output_type": "stream",
     "text": [
      "GnBu\n"
     ]
    },
    {
     "data": {
      "text/html": [
       "<svg  width=\"1100\" height=\"55\"><rect x=\"0\" y=\"0\" width=\"55\" height=\"55\" style=\"fill:#eef9e8;stroke-width:2;stroke:rgb(255,255,255)\"/><rect x=\"55\" y=\"0\" width=\"55\" height=\"55\" style=\"fill:#e6f5e0;stroke-width:2;stroke:rgb(255,255,255)\"/><rect x=\"110\" y=\"0\" width=\"55\" height=\"55\" style=\"fill:#ddf2d8;stroke-width:2;stroke:rgb(255,255,255)\"/><rect x=\"165\" y=\"0\" width=\"55\" height=\"55\" style=\"fill:#d6efd0;stroke-width:2;stroke:rgb(255,255,255)\"/><rect x=\"220\" y=\"0\" width=\"55\" height=\"55\" style=\"fill:#ceecc8;stroke-width:2;stroke:rgb(255,255,255)\"/><rect x=\"275\" y=\"0\" width=\"55\" height=\"55\" style=\"fill:#c2e7c0;stroke-width:2;stroke:rgb(255,255,255)\"/><rect x=\"330\" y=\"0\" width=\"55\" height=\"55\" style=\"fill:#b4e2ba;stroke-width:2;stroke:rgb(255,255,255)\"/><rect x=\"385\" y=\"0\" width=\"55\" height=\"55\" style=\"fill:#a6dcb6;stroke-width:2;stroke:rgb(255,255,255)\"/><rect x=\"440\" y=\"0\" width=\"55\" height=\"55\" style=\"fill:#95d6bb;stroke-width:2;stroke:rgb(255,255,255)\"/><rect x=\"495\" y=\"0\" width=\"55\" height=\"55\" style=\"fill:#84cfc1;stroke-width:2;stroke:rgb(255,255,255)\"/><rect x=\"550\" y=\"0\" width=\"55\" height=\"55\" style=\"fill:#72c7c7;stroke-width:2;stroke:rgb(255,255,255)\"/><rect x=\"605\" y=\"0\" width=\"55\" height=\"55\" style=\"fill:#61bdcd;stroke-width:2;stroke:rgb(255,255,255)\"/><rect x=\"660\" y=\"0\" width=\"55\" height=\"55\" style=\"fill:#50b4d2;stroke-width:2;stroke:rgb(255,255,255)\"/><rect x=\"715\" y=\"0\" width=\"55\" height=\"55\" style=\"fill:#42a6cc;stroke-width:2;stroke:rgb(255,255,255)\"/><rect x=\"770\" y=\"0\" width=\"55\" height=\"55\" style=\"fill:#3597c4;stroke-width:2;stroke:rgb(255,255,255)\"/><rect x=\"825\" y=\"0\" width=\"55\" height=\"55\" style=\"fill:#2788bc;stroke-width:2;stroke:rgb(255,255,255)\"/><rect x=\"880\" y=\"0\" width=\"55\" height=\"55\" style=\"fill:#1a7ab5;stroke-width:2;stroke:rgb(255,255,255)\"/><rect x=\"935\" y=\"0\" width=\"55\" height=\"55\" style=\"fill:#0d6dae;stroke-width:2;stroke:rgb(255,255,255)\"/><rect x=\"990\" y=\"0\" width=\"55\" height=\"55\" style=\"fill:#085ea1;stroke-width:2;stroke:rgb(255,255,255)\"/><rect x=\"1045\" y=\"0\" width=\"55\" height=\"55\" style=\"fill:#084f91;stroke-width:2;stroke:rgb(255,255,255)\"/></svg>"
      ],
      "text/plain": [
       "[(0.9346712802768166, 0.9749480968858132, 0.9101730103806228),\n",
       " (0.9007151095732411, 0.9616608996539792, 0.8791695501730104),\n",
       " (0.8682814302191465, 0.9488811995386389, 0.8476585928489042),\n",
       " (0.8387543252595155, 0.9370703575547865, 0.8151787773933102),\n",
       " (0.8092272202998847, 0.9252595155709342, 0.7826989619377163),\n",
       " (0.7590311418685122, 0.9056362937331796, 0.7543406382160708),\n",
       " (0.7058823529411765, 0.8849673202614379, 0.7307189542483661),\n",
       " (0.6512110726643598, 0.8637908496732026, 0.7123414071510957),\n",
       " (0.5847750865051903, 0.8386928104575164, 0.7344867358708189),\n",
       " (0.5183391003460207, 0.8135947712418301, 0.7566320645905421),\n",
       " (0.4463667820069204, 0.7800076893502499, 0.7806228373702422),\n",
       " (0.37993079584775086, 0.7430988081507113, 0.8027681660899654),\n",
       " (0.31349480968858134, 0.7061899269511726, 0.8249134948096886),\n",
       " (0.2601307189542484, 0.6509803921568628, 0.7999999999999999),\n",
       " (0.2084582852748943, 0.5934025374855825, 0.7689965397923876),\n",
       " (0.15247981545559403, 0.5324106113033449, 0.7367935409457901),\n",
       " (0.10080738177623991, 0.4792618223760092, 0.7102191464821223),\n",
       " (0.04913494809688582, 0.4261130334486736, 0.6836447520184545),\n",
       " (0.03137254901960784, 0.3690888119953864, 0.6328489042675894),\n",
       " (0.03137254901960784, 0.31003460207612454, 0.5693656286043829)]"
      ]
     },
     "metadata": {},
     "output_type": "display_data"
    },
    {
     "name": "stdout",
     "output_type": "stream",
     "text": [
      "GnBu_r\n"
     ]
    },
    {
     "data": {
      "text/html": [
       "<svg  width=\"1100\" height=\"55\"><rect x=\"0\" y=\"0\" width=\"55\" height=\"55\" style=\"fill:#084f91;stroke-width:2;stroke:rgb(255,255,255)\"/><rect x=\"55\" y=\"0\" width=\"55\" height=\"55\" style=\"fill:#085ea1;stroke-width:2;stroke:rgb(255,255,255)\"/><rect x=\"110\" y=\"0\" width=\"55\" height=\"55\" style=\"fill:#0d6dae;stroke-width:2;stroke:rgb(255,255,255)\"/><rect x=\"165\" y=\"0\" width=\"55\" height=\"55\" style=\"fill:#1a7ab5;stroke-width:2;stroke:rgb(255,255,255)\"/><rect x=\"220\" y=\"0\" width=\"55\" height=\"55\" style=\"fill:#2788bc;stroke-width:2;stroke:rgb(255,255,255)\"/><rect x=\"275\" y=\"0\" width=\"55\" height=\"55\" style=\"fill:#3597c4;stroke-width:2;stroke:rgb(255,255,255)\"/><rect x=\"330\" y=\"0\" width=\"55\" height=\"55\" style=\"fill:#42a6cc;stroke-width:2;stroke:rgb(255,255,255)\"/><rect x=\"385\" y=\"0\" width=\"55\" height=\"55\" style=\"fill:#50b4d2;stroke-width:2;stroke:rgb(255,255,255)\"/><rect x=\"440\" y=\"0\" width=\"55\" height=\"55\" style=\"fill:#61bdcd;stroke-width:2;stroke:rgb(255,255,255)\"/><rect x=\"495\" y=\"0\" width=\"55\" height=\"55\" style=\"fill:#72c7c7;stroke-width:2;stroke:rgb(255,255,255)\"/><rect x=\"550\" y=\"0\" width=\"55\" height=\"55\" style=\"fill:#84cfc1;stroke-width:2;stroke:rgb(255,255,255)\"/><rect x=\"605\" y=\"0\" width=\"55\" height=\"55\" style=\"fill:#95d6bb;stroke-width:2;stroke:rgb(255,255,255)\"/><rect x=\"660\" y=\"0\" width=\"55\" height=\"55\" style=\"fill:#a6dcb6;stroke-width:2;stroke:rgb(255,255,255)\"/><rect x=\"715\" y=\"0\" width=\"55\" height=\"55\" style=\"fill:#b4e2ba;stroke-width:2;stroke:rgb(255,255,255)\"/><rect x=\"770\" y=\"0\" width=\"55\" height=\"55\" style=\"fill:#c2e7c0;stroke-width:2;stroke:rgb(255,255,255)\"/><rect x=\"825\" y=\"0\" width=\"55\" height=\"55\" style=\"fill:#ceecc8;stroke-width:2;stroke:rgb(255,255,255)\"/><rect x=\"880\" y=\"0\" width=\"55\" height=\"55\" style=\"fill:#d6efd0;stroke-width:2;stroke:rgb(255,255,255)\"/><rect x=\"935\" y=\"0\" width=\"55\" height=\"55\" style=\"fill:#ddf2d8;stroke-width:2;stroke:rgb(255,255,255)\"/><rect x=\"990\" y=\"0\" width=\"55\" height=\"55\" style=\"fill:#e6f5e0;stroke-width:2;stroke:rgb(255,255,255)\"/><rect x=\"1045\" y=\"0\" width=\"55\" height=\"55\" style=\"fill:#eef9e8;stroke-width:2;stroke:rgb(255,255,255)\"/></svg>"
      ],
      "text/plain": [
       "[(0.03137254901960784, 0.31003460207612454, 0.5693656286043829),\n",
       " (0.03137254901960784, 0.3690888119953864, 0.6328489042675894),\n",
       " (0.04913494809688582, 0.4261130334486736, 0.6836447520184545),\n",
       " (0.10080738177623991, 0.4792618223760092, 0.7102191464821223),\n",
       " (0.15247981545559403, 0.5324106113033449, 0.7367935409457901),\n",
       " (0.2084582852748943, 0.5934025374855825, 0.7689965397923876),\n",
       " (0.2601307189542484, 0.6509803921568628, 0.7999999999999999),\n",
       " (0.31349480968858134, 0.7061899269511726, 0.8249134948096886),\n",
       " (0.3799307958477509, 0.7430988081507113, 0.8027681660899654),\n",
       " (0.4463667820069204, 0.7800076893502499, 0.7806228373702422),\n",
       " (0.5183391003460207, 0.8135947712418301, 0.7566320645905421),\n",
       " (0.5847750865051903, 0.8386928104575164, 0.7344867358708189),\n",
       " (0.6512110726643598, 0.8637908496732026, 0.7123414071510957),\n",
       " (0.7058823529411765, 0.8849673202614379, 0.7307189542483661),\n",
       " (0.7590311418685122, 0.9056362937331796, 0.7543406382160708),\n",
       " (0.8092272202998847, 0.9252595155709342, 0.7826989619377163),\n",
       " (0.8387543252595155, 0.9370703575547865, 0.8151787773933102),\n",
       " (0.8682814302191465, 0.9488811995386389, 0.8476585928489042),\n",
       " (0.9007151095732411, 0.9616608996539792, 0.8791695501730104),\n",
       " (0.9346712802768166, 0.9749480968858132, 0.9101730103806228)]"
      ]
     },
     "metadata": {},
     "output_type": "display_data"
    },
    {
     "name": "stdout",
     "output_type": "stream",
     "text": [
      "Greens\n"
     ]
    },
    {
     "data": {
      "text/html": [
       "<svg  width=\"1100\" height=\"55\"><rect x=\"0\" y=\"0\" width=\"55\" height=\"55\" style=\"fill:#f0f9ed;stroke-width:2;stroke:rgb(255,255,255)\"/><rect x=\"55\" y=\"0\" width=\"55\" height=\"55\" style=\"fill:#e9f7e5;stroke-width:2;stroke:rgb(255,255,255)\"/><rect x=\"110\" y=\"0\" width=\"55\" height=\"55\" style=\"fill:#e1f3dc;stroke-width:2;stroke:rgb(255,255,255)\"/><rect x=\"165\" y=\"0\" width=\"55\" height=\"55\" style=\"fill:#d6efd0;stroke-width:2;stroke:rgb(255,255,255)\"/><rect x=\"220\" y=\"0\" width=\"55\" height=\"55\" style=\"fill:#cbeac4;stroke-width:2;stroke:rgb(255,255,255)\"/><rect x=\"275\" y=\"0\" width=\"55\" height=\"55\" style=\"fill:#bce4b5;stroke-width:2;stroke:rgb(255,255,255)\"/><rect x=\"330\" y=\"0\" width=\"55\" height=\"55\" style=\"fill:#aedea7;stroke-width:2;stroke:rgb(255,255,255)\"/><rect x=\"385\" y=\"0\" width=\"55\" height=\"55\" style=\"fill:#9fd899;stroke-width:2;stroke:rgb(255,255,255)\"/><rect x=\"440\" y=\"0\" width=\"55\" height=\"55\" style=\"fill:#8ed08b;stroke-width:2;stroke:rgb(255,255,255)\"/><rect x=\"495\" y=\"0\" width=\"55\" height=\"55\" style=\"fill:#7dc87e;stroke-width:2;stroke:rgb(255,255,255)\"/><rect x=\"550\" y=\"0\" width=\"55\" height=\"55\" style=\"fill:#6abf71;stroke-width:2;stroke:rgb(255,255,255)\"/><rect x=\"605\" y=\"0\" width=\"55\" height=\"55\" style=\"fill:#56b567;stroke-width:2;stroke:rgb(255,255,255)\"/><rect x=\"660\" y=\"0\" width=\"55\" height=\"55\" style=\"fill:#43ac5e;stroke-width:2;stroke:rgb(255,255,255)\"/><rect x=\"715\" y=\"0\" width=\"55\" height=\"55\" style=\"fill:#37a055;stroke-width:2;stroke:rgb(255,255,255)\"/><rect x=\"770\" y=\"0\" width=\"55\" height=\"55\" style=\"fill:#2c944c;stroke-width:2;stroke:rgb(255,255,255)\"/><rect x=\"825\" y=\"0\" width=\"55\" height=\"55\" style=\"fill:#1f8742;stroke-width:2;stroke:rgb(255,255,255)\"/><rect x=\"880\" y=\"0\" width=\"55\" height=\"55\" style=\"fill:#127c39;stroke-width:2;stroke:rgb(255,255,255)\"/><rect x=\"935\" y=\"0\" width=\"55\" height=\"55\" style=\"fill:#05712f;stroke-width:2;stroke:rgb(255,255,255)\"/><rect x=\"990\" y=\"0\" width=\"55\" height=\"55\" style=\"fill:#006328;stroke-width:2;stroke:rgb(255,255,255)\"/><rect x=\"1045\" y=\"0\" width=\"55\" height=\"55\" style=\"fill:#005321;stroke-width:2;stroke:rgb(255,255,255)\"/></svg>"
      ],
      "text/plain": [
       "[(0.9420530565167243, 0.9779008073817763, 0.9297808535178778),\n",
       " (0.9154786620530565, 0.9675663206459054, 0.8987773933102653),\n",
       " (0.8828143021914648, 0.9546943483275664, 0.8621914648212226),\n",
       " (0.8385236447520185, 0.9369780853517877, 0.8149480968858132),\n",
       " (0.7942329873125721, 0.9192618223760092, 0.7677047289504036),\n",
       " (0.7371472510572856, 0.895517108804306, 0.7108342945021145),\n",
       " (0.681045751633987, 0.8718954248366013, 0.6562091503267974),\n",
       " (0.623760092272203, 0.8474279123414071, 0.6015840061514801),\n",
       " (0.5573241061130334, 0.8164244521337947, 0.546958861976163),\n",
       " (0.4908881199538639, 0.7854209919261823, 0.49233371780084584),\n",
       " (0.41411764705882353, 0.748635140330642, 0.4427527873894656),\n",
       " (0.3388235294117647, 0.7117262591311034, 0.40584390618992694),\n",
       " (0.26352941176470585, 0.6748173779315647, 0.36893502499038827),\n",
       " (0.21568627450980393, 0.6287581699346405, 0.3333333333333333),\n",
       " (0.17139561707035755, 0.581514801999231, 0.2979008073817762),\n",
       " (0.12110726643598617, 0.5312572087658592, 0.2590542099192618),\n",
       " (0.06943483275663206, 0.48696655132641287, 0.22214532871972317),\n",
       " (0.017762399077277974, 0.44267589388696654, 0.18523644752018453),\n",
       " (0.0, 0.3877277970011534, 0.156078431372549),\n",
       " (0.0, 0.32719723183391003, 0.13098039215686275)]"
      ]
     },
     "metadata": {},
     "output_type": "display_data"
    },
    {
     "name": "stdout",
     "output_type": "stream",
     "text": [
      "Greens_r\n"
     ]
    },
    {
     "data": {
      "text/html": [
       "<svg  width=\"1100\" height=\"55\"><rect x=\"0\" y=\"0\" width=\"55\" height=\"55\" style=\"fill:#005321;stroke-width:2;stroke:rgb(255,255,255)\"/><rect x=\"55\" y=\"0\" width=\"55\" height=\"55\" style=\"fill:#006328;stroke-width:2;stroke:rgb(255,255,255)\"/><rect x=\"110\" y=\"0\" width=\"55\" height=\"55\" style=\"fill:#05712f;stroke-width:2;stroke:rgb(255,255,255)\"/><rect x=\"165\" y=\"0\" width=\"55\" height=\"55\" style=\"fill:#127c39;stroke-width:2;stroke:rgb(255,255,255)\"/><rect x=\"220\" y=\"0\" width=\"55\" height=\"55\" style=\"fill:#1f8742;stroke-width:2;stroke:rgb(255,255,255)\"/><rect x=\"275\" y=\"0\" width=\"55\" height=\"55\" style=\"fill:#2c944c;stroke-width:2;stroke:rgb(255,255,255)\"/><rect x=\"330\" y=\"0\" width=\"55\" height=\"55\" style=\"fill:#37a055;stroke-width:2;stroke:rgb(255,255,255)\"/><rect x=\"385\" y=\"0\" width=\"55\" height=\"55\" style=\"fill:#43ac5e;stroke-width:2;stroke:rgb(255,255,255)\"/><rect x=\"440\" y=\"0\" width=\"55\" height=\"55\" style=\"fill:#56b567;stroke-width:2;stroke:rgb(255,255,255)\"/><rect x=\"495\" y=\"0\" width=\"55\" height=\"55\" style=\"fill:#6abf71;stroke-width:2;stroke:rgb(255,255,255)\"/><rect x=\"550\" y=\"0\" width=\"55\" height=\"55\" style=\"fill:#7dc87e;stroke-width:2;stroke:rgb(255,255,255)\"/><rect x=\"605\" y=\"0\" width=\"55\" height=\"55\" style=\"fill:#8ed08b;stroke-width:2;stroke:rgb(255,255,255)\"/><rect x=\"660\" y=\"0\" width=\"55\" height=\"55\" style=\"fill:#9fd899;stroke-width:2;stroke:rgb(255,255,255)\"/><rect x=\"715\" y=\"0\" width=\"55\" height=\"55\" style=\"fill:#aedea7;stroke-width:2;stroke:rgb(255,255,255)\"/><rect x=\"770\" y=\"0\" width=\"55\" height=\"55\" style=\"fill:#bce4b5;stroke-width:2;stroke:rgb(255,255,255)\"/><rect x=\"825\" y=\"0\" width=\"55\" height=\"55\" style=\"fill:#cbeac4;stroke-width:2;stroke:rgb(255,255,255)\"/><rect x=\"880\" y=\"0\" width=\"55\" height=\"55\" style=\"fill:#d6efd0;stroke-width:2;stroke:rgb(255,255,255)\"/><rect x=\"935\" y=\"0\" width=\"55\" height=\"55\" style=\"fill:#e1f3dc;stroke-width:2;stroke:rgb(255,255,255)\"/><rect x=\"990\" y=\"0\" width=\"55\" height=\"55\" style=\"fill:#e9f7e5;stroke-width:2;stroke:rgb(255,255,255)\"/><rect x=\"1045\" y=\"0\" width=\"55\" height=\"55\" style=\"fill:#f0f9ed;stroke-width:2;stroke:rgb(255,255,255)\"/></svg>"
      ],
      "text/plain": [
       "[(0.0, 0.32719723183391003, 0.13098039215686275),\n",
       " (0.0, 0.3877277970011534, 0.156078431372549),\n",
       " (0.017762399077277974, 0.44267589388696654, 0.18523644752018453),\n",
       " (0.06943483275663206, 0.48696655132641287, 0.22214532871972317),\n",
       " (0.12110726643598617, 0.5312572087658592, 0.2590542099192618),\n",
       " (0.17139561707035755, 0.581514801999231, 0.2979008073817762),\n",
       " (0.2156862745098039, 0.6287581699346405, 0.3333333333333333),\n",
       " (0.26352941176470585, 0.6748173779315647, 0.36893502499038827),\n",
       " (0.3388235294117647, 0.7117262591311034, 0.40584390618992694),\n",
       " (0.4141176470588235, 0.748635140330642, 0.4427527873894656),\n",
       " (0.4908881199538639, 0.7854209919261823, 0.49233371780084584),\n",
       " (0.5573241061130334, 0.8164244521337947, 0.546958861976163),\n",
       " (0.623760092272203, 0.8474279123414071, 0.6015840061514801),\n",
       " (0.681045751633987, 0.8718954248366013, 0.6562091503267974),\n",
       " (0.7371472510572856, 0.895517108804306, 0.7108342945021145),\n",
       " (0.7942329873125721, 0.9192618223760092, 0.7677047289504036),\n",
       " (0.8385236447520185, 0.9369780853517877, 0.8149480968858132),\n",
       " (0.8828143021914648, 0.9546943483275664, 0.8621914648212226),\n",
       " (0.9154786620530565, 0.9675663206459054, 0.8987773933102653),\n",
       " (0.9420530565167243, 0.9779008073817763, 0.9297808535178778)]"
      ]
     },
     "metadata": {},
     "output_type": "display_data"
    },
    {
     "name": "stdout",
     "output_type": "stream",
     "text": [
      "Greys\n"
     ]
    },
    {
     "data": {
      "text/html": [
       "<svg  width=\"1100\" height=\"55\"><rect x=\"0\" y=\"0\" width=\"55\" height=\"55\" style=\"fill:#f9f9f9;stroke-width:2;stroke:rgb(255,255,255)\"/><rect x=\"55\" y=\"0\" width=\"55\" height=\"55\" style=\"fill:#f4f4f4;stroke-width:2;stroke:rgb(255,255,255)\"/><rect x=\"110\" y=\"0\" width=\"55\" height=\"55\" style=\"fill:#ededed;stroke-width:2;stroke:rgb(255,255,255)\"/><rect x=\"165\" y=\"0\" width=\"55\" height=\"55\" style=\"fill:#e4e4e4;stroke-width:2;stroke:rgb(255,255,255)\"/><rect x=\"220\" y=\"0\" width=\"55\" height=\"55\" style=\"fill:#dcdcdc;stroke-width:2;stroke:rgb(255,255,255)\"/><rect x=\"275\" y=\"0\" width=\"55\" height=\"55\" style=\"fill:#d1d1d1;stroke-width:2;stroke:rgb(255,255,255)\"/><rect x=\"330\" y=\"0\" width=\"55\" height=\"55\" style=\"fill:#c6c6c6;stroke-width:2;stroke:rgb(255,255,255)\"/><rect x=\"385\" y=\"0\" width=\"55\" height=\"55\" style=\"fill:#bbbbbb;stroke-width:2;stroke:rgb(255,255,255)\"/><rect x=\"440\" y=\"0\" width=\"55\" height=\"55\" style=\"fill:#adadad;stroke-width:2;stroke:rgb(255,255,255)\"/><rect x=\"495\" y=\"0\" width=\"55\" height=\"55\" style=\"fill:#9e9e9e;stroke-width:2;stroke:rgb(255,255,255)\"/><rect x=\"550\" y=\"0\" width=\"55\" height=\"55\" style=\"fill:#8f8f8f;stroke-width:2;stroke:rgb(255,255,255)\"/><rect x=\"605\" y=\"0\" width=\"55\" height=\"55\" style=\"fill:#828282;stroke-width:2;stroke:rgb(255,255,255)\"/><rect x=\"660\" y=\"0\" width=\"55\" height=\"55\" style=\"fill:#757575;stroke-width:2;stroke:rgb(255,255,255)\"/><rect x=\"715\" y=\"0\" width=\"55\" height=\"55\" style=\"fill:#686868;stroke-width:2;stroke:rgb(255,255,255)\"/><rect x=\"770\" y=\"0\" width=\"55\" height=\"55\" style=\"fill:#5c5c5c;stroke-width:2;stroke:rgb(255,255,255)\"/><rect x=\"825\" y=\"0\" width=\"55\" height=\"55\" style=\"fill:#4d4d4d;stroke-width:2;stroke:rgb(255,255,255)\"/><rect x=\"880\" y=\"0\" width=\"55\" height=\"55\" style=\"fill:#3c3c3c;stroke-width:2;stroke:rgb(255,255,255)\"/><rect x=\"935\" y=\"0\" width=\"55\" height=\"55\" style=\"fill:#2b2b2b;stroke-width:2;stroke:rgb(255,255,255)\"/><rect x=\"990\" y=\"0\" width=\"55\" height=\"55\" style=\"fill:#1c1c1c;stroke-width:2;stroke:rgb(255,255,255)\"/><rect x=\"1045\" y=\"0\" width=\"55\" height=\"55\" style=\"fill:#0e0e0e;stroke-width:2;stroke:rgb(255,255,255)\"/></svg>"
      ],
      "text/plain": [
       "[(0.9778546712802768, 0.9778546712802768, 0.9778546712802768),\n",
       " (0.9557093425605536, 0.9557093425605536, 0.9557093425605536),\n",
       " (0.9295040369088812, 0.9295040369088812, 0.9295040369088812),\n",
       " (0.8955478662053056, 0.8955478662053056, 0.8955478662053056),\n",
       " (0.8615916955017301, 0.8615916955017301, 0.8615916955017301),\n",
       " (0.819115724721261, 0.819115724721261, 0.819115724721261),\n",
       " (0.7777777777777778, 0.7777777777777778, 0.7777777777777778),\n",
       " (0.7345790080738178, 0.7345790080738178, 0.7345790080738178),\n",
       " (0.6770011534025375, 0.6770011534025375, 0.6770011534025375),\n",
       " (0.6194232987312572, 0.6194232987312572, 0.6194232987312572),\n",
       " (0.560246059207997, 0.560246059207997, 0.560246059207997),\n",
       " (0.5085736255286428, 0.5085736255286428, 0.5085736255286428),\n",
       " (0.45690119184928873, 0.45690119184928873, 0.45690119184928873),\n",
       " (0.40784313725490196, 0.40784313725490196, 0.40784313725490196),\n",
       " (0.35912341407151094, 0.35912341407151094, 0.35912341407151094),\n",
       " (0.30080738177623995, 0.30080738177623995, 0.30080738177623995),\n",
       " (0.23437139561707038, 0.23437139561707038, 0.23437139561707038),\n",
       " (0.1679354094579008, 0.1679354094579008, 0.1679354094579008),\n",
       " (0.10925028835063438, 0.10925028835063438, 0.10925028835063438),\n",
       " (0.05462514417531719, 0.05462514417531719, 0.05462514417531719)]"
      ]
     },
     "metadata": {},
     "output_type": "display_data"
    },
    {
     "name": "stdout",
     "output_type": "stream",
     "text": [
      "Greys_r\n"
     ]
    },
    {
     "data": {
      "text/html": [
       "<svg  width=\"1100\" height=\"55\"><rect x=\"0\" y=\"0\" width=\"55\" height=\"55\" style=\"fill:#0e0e0e;stroke-width:2;stroke:rgb(255,255,255)\"/><rect x=\"55\" y=\"0\" width=\"55\" height=\"55\" style=\"fill:#1c1c1c;stroke-width:2;stroke:rgb(255,255,255)\"/><rect x=\"110\" y=\"0\" width=\"55\" height=\"55\" style=\"fill:#2b2b2b;stroke-width:2;stroke:rgb(255,255,255)\"/><rect x=\"165\" y=\"0\" width=\"55\" height=\"55\" style=\"fill:#3c3c3c;stroke-width:2;stroke:rgb(255,255,255)\"/><rect x=\"220\" y=\"0\" width=\"55\" height=\"55\" style=\"fill:#4d4d4d;stroke-width:2;stroke:rgb(255,255,255)\"/><rect x=\"275\" y=\"0\" width=\"55\" height=\"55\" style=\"fill:#5c5c5c;stroke-width:2;stroke:rgb(255,255,255)\"/><rect x=\"330\" y=\"0\" width=\"55\" height=\"55\" style=\"fill:#686868;stroke-width:2;stroke:rgb(255,255,255)\"/><rect x=\"385\" y=\"0\" width=\"55\" height=\"55\" style=\"fill:#757575;stroke-width:2;stroke:rgb(255,255,255)\"/><rect x=\"440\" y=\"0\" width=\"55\" height=\"55\" style=\"fill:#828282;stroke-width:2;stroke:rgb(255,255,255)\"/><rect x=\"495\" y=\"0\" width=\"55\" height=\"55\" style=\"fill:#8f8f8f;stroke-width:2;stroke:rgb(255,255,255)\"/><rect x=\"550\" y=\"0\" width=\"55\" height=\"55\" style=\"fill:#9e9e9e;stroke-width:2;stroke:rgb(255,255,255)\"/><rect x=\"605\" y=\"0\" width=\"55\" height=\"55\" style=\"fill:#adadad;stroke-width:2;stroke:rgb(255,255,255)\"/><rect x=\"660\" y=\"0\" width=\"55\" height=\"55\" style=\"fill:#bbbbbb;stroke-width:2;stroke:rgb(255,255,255)\"/><rect x=\"715\" y=\"0\" width=\"55\" height=\"55\" style=\"fill:#c6c6c6;stroke-width:2;stroke:rgb(255,255,255)\"/><rect x=\"770\" y=\"0\" width=\"55\" height=\"55\" style=\"fill:#d1d1d1;stroke-width:2;stroke:rgb(255,255,255)\"/><rect x=\"825\" y=\"0\" width=\"55\" height=\"55\" style=\"fill:#dcdcdc;stroke-width:2;stroke:rgb(255,255,255)\"/><rect x=\"880\" y=\"0\" width=\"55\" height=\"55\" style=\"fill:#e4e4e4;stroke-width:2;stroke:rgb(255,255,255)\"/><rect x=\"935\" y=\"0\" width=\"55\" height=\"55\" style=\"fill:#ededed;stroke-width:2;stroke:rgb(255,255,255)\"/><rect x=\"990\" y=\"0\" width=\"55\" height=\"55\" style=\"fill:#f4f4f4;stroke-width:2;stroke:rgb(255,255,255)\"/><rect x=\"1045\" y=\"0\" width=\"55\" height=\"55\" style=\"fill:#f9f9f9;stroke-width:2;stroke:rgb(255,255,255)\"/></svg>"
      ],
      "text/plain": [
       "[(0.05462514417531719, 0.05462514417531719, 0.05462514417531719),\n",
       " (0.10925028835063438, 0.10925028835063438, 0.10925028835063438),\n",
       " (0.1679354094579008, 0.1679354094579008, 0.1679354094579008),\n",
       " (0.23437139561707038, 0.23437139561707038, 0.23437139561707038),\n",
       " (0.3008073817762399, 0.3008073817762399, 0.3008073817762399),\n",
       " (0.359123414071511, 0.359123414071511, 0.359123414071511),\n",
       " (0.40784313725490196, 0.40784313725490196, 0.40784313725490196),\n",
       " (0.45690119184928873, 0.45690119184928873, 0.45690119184928873),\n",
       " (0.5085736255286428, 0.5085736255286428, 0.5085736255286428),\n",
       " (0.560246059207997, 0.560246059207997, 0.560246059207997),\n",
       " (0.6194232987312572, 0.6194232987312572, 0.6194232987312572),\n",
       " (0.6770011534025375, 0.6770011534025375, 0.6770011534025375),\n",
       " (0.7345790080738178, 0.7345790080738178, 0.7345790080738178),\n",
       " (0.7777777777777778, 0.7777777777777778, 0.7777777777777778),\n",
       " (0.819115724721261, 0.819115724721261, 0.819115724721261),\n",
       " (0.8615916955017301, 0.8615916955017301, 0.8615916955017301),\n",
       " (0.8955478662053056, 0.8955478662053056, 0.8955478662053056),\n",
       " (0.9295040369088812, 0.9295040369088812, 0.9295040369088812),\n",
       " (0.9557093425605536, 0.9557093425605536, 0.9557093425605536),\n",
       " (0.9778546712802768, 0.9778546712802768, 0.9778546712802768)]"
      ]
     },
     "metadata": {},
     "output_type": "display_data"
    },
    {
     "name": "stdout",
     "output_type": "stream",
     "text": [
      "OrRd\n"
     ]
    },
    {
     "data": {
      "text/html": [
       "<svg  width=\"1100\" height=\"55\"><rect x=\"0\" y=\"0\" width=\"55\" height=\"55\" style=\"fill:#fff1de;stroke-width:2;stroke:rgb(255,255,255)\"/><rect x=\"55\" y=\"0\" width=\"55\" height=\"55\" style=\"fill:#feecd1;stroke-width:2;stroke:rgb(255,255,255)\"/><rect x=\"110\" y=\"0\" width=\"55\" height=\"55\" style=\"fill:#fee5c3;stroke-width:2;stroke:rgb(255,255,255)\"/><rect x=\"165\" y=\"0\" width=\"55\" height=\"55\" style=\"fill:#fddeb3;stroke-width:2;stroke:rgb(255,255,255)\"/><rect x=\"220\" y=\"0\" width=\"55\" height=\"55\" style=\"fill:#fdd6a3;stroke-width:2;stroke:rgb(255,255,255)\"/><rect x=\"275\" y=\"0\" width=\"55\" height=\"55\" style=\"fill:#fdcd96;stroke-width:2;stroke:rgb(255,255,255)\"/><rect x=\"330\" y=\"0\" width=\"55\" height=\"55\" style=\"fill:#fdc38d;stroke-width:2;stroke:rgb(255,255,255)\"/><rect x=\"385\" y=\"0\" width=\"55\" height=\"55\" style=\"fill:#fdb982;stroke-width:2;stroke:rgb(255,255,255)\"/><rect x=\"440\" y=\"0\" width=\"55\" height=\"55\" style=\"fill:#fda872;stroke-width:2;stroke:rgb(255,255,255)\"/><rect x=\"495\" y=\"0\" width=\"55\" height=\"55\" style=\"fill:#fc9662;stroke-width:2;stroke:rgb(255,255,255)\"/><rect x=\"550\" y=\"0\" width=\"55\" height=\"55\" style=\"fill:#f98556;stroke-width:2;stroke:rgb(255,255,255)\"/><rect x=\"605\" y=\"0\" width=\"55\" height=\"55\" style=\"fill:#f4764f;stroke-width:2;stroke:rgb(255,255,255)\"/><rect x=\"660\" y=\"0\" width=\"55\" height=\"55\" style=\"fill:#f06749;stroke-width:2;stroke:rgb(255,255,255)\"/><rect x=\"715\" y=\"0\" width=\"55\" height=\"55\" style=\"fill:#e7533a;stroke-width:2;stroke:rgb(255,255,255)\"/><rect x=\"770\" y=\"0\" width=\"55\" height=\"55\" style=\"fill:#de3f2b;stroke-width:2;stroke:rgb(255,255,255)\"/><rect x=\"825\" y=\"0\" width=\"55\" height=\"55\" style=\"fill:#d32a1b;stroke-width:2;stroke:rgb(255,255,255)\"/><rect x=\"880\" y=\"0\" width=\"55\" height=\"55\" style=\"fill:#c51810;stroke-width:2;stroke:rgb(255,255,255)\"/><rect x=\"935\" y=\"0\" width=\"55\" height=\"55\" style=\"fill:#b80604;stroke-width:2;stroke:rgb(255,255,255)\"/><rect x=\"990\" y=\"0\" width=\"55\" height=\"55\" style=\"fill:#a60000;stroke-width:2;stroke:rgb(255,255,255)\"/><rect x=\"1045\" y=\"0\" width=\"55\" height=\"55\" style=\"fill:#930000;stroke-width:2;stroke:rgb(255,255,255)\"/></svg>"
      ],
      "text/plain": [
       "[(0.9985236447520185, 0.946482122260669, 0.8723414071510958),\n",
       " (0.9970472895040369, 0.9243367935409458, 0.8191926182237601),\n",
       " (0.9955709342560554, 0.8996539792387543, 0.7629988465974625),\n",
       " (0.9940945790080739, 0.8701268742791234, 0.7009919261822376),\n",
       " (0.9926182237600923, 0.8405997693194925, 0.6389850057670127),\n",
       " (0.9921568627450981, 0.8029219530949635, 0.5900192233756247),\n",
       " (0.9921568627450981, 0.7660130718954248, 0.5516339869281046),\n",
       " (0.9919876970396002, 0.7255517108804306, 0.5103729334871204),\n",
       " (0.9905113417916186, 0.6576393694732795, 0.4468896578239139),\n",
       " (0.9890349865436371, 0.5897270280661284, 0.38340638216070744),\n",
       " (0.9778392925797771, 0.5209534794309881, 0.3354248366013072),\n",
       " (0.9586466743560169, 0.4618992695117263, 0.3103267973856209),\n",
       " (0.9394540561322569, 0.4028450595924644, 0.28522875816993465),\n",
       " (0.9058823529411765, 0.32679738562091504, 0.22875816993464054),\n",
       " (0.8704498269896194, 0.2485505574778931, 0.16822760476739718),\n",
       " (0.8265282583621684, 0.16608996539792387, 0.10726643598615918),\n",
       " (0.7733794694348327, 0.09522491349480969, 0.06149942329873125),\n",
       " (0.7202306805074971, 0.02435986159169551, 0.015732410611303344),\n",
       " (0.6515801614763552, 0.0, 0.0),\n",
       " (0.5748096885813149, 0.0, 0.0)]"
      ]
     },
     "metadata": {},
     "output_type": "display_data"
    },
    {
     "name": "stdout",
     "output_type": "stream",
     "text": [
      "OrRd_r\n"
     ]
    },
    {
     "data": {
      "text/html": [
       "<svg  width=\"1100\" height=\"55\"><rect x=\"0\" y=\"0\" width=\"55\" height=\"55\" style=\"fill:#930000;stroke-width:2;stroke:rgb(255,255,255)\"/><rect x=\"55\" y=\"0\" width=\"55\" height=\"55\" style=\"fill:#a60000;stroke-width:2;stroke:rgb(255,255,255)\"/><rect x=\"110\" y=\"0\" width=\"55\" height=\"55\" style=\"fill:#b80604;stroke-width:2;stroke:rgb(255,255,255)\"/><rect x=\"165\" y=\"0\" width=\"55\" height=\"55\" style=\"fill:#c51810;stroke-width:2;stroke:rgb(255,255,255)\"/><rect x=\"220\" y=\"0\" width=\"55\" height=\"55\" style=\"fill:#d32a1b;stroke-width:2;stroke:rgb(255,255,255)\"/><rect x=\"275\" y=\"0\" width=\"55\" height=\"55\" style=\"fill:#de3f2b;stroke-width:2;stroke:rgb(255,255,255)\"/><rect x=\"330\" y=\"0\" width=\"55\" height=\"55\" style=\"fill:#e7533a;stroke-width:2;stroke:rgb(255,255,255)\"/><rect x=\"385\" y=\"0\" width=\"55\" height=\"55\" style=\"fill:#f06749;stroke-width:2;stroke:rgb(255,255,255)\"/><rect x=\"440\" y=\"0\" width=\"55\" height=\"55\" style=\"fill:#f4764f;stroke-width:2;stroke:rgb(255,255,255)\"/><rect x=\"495\" y=\"0\" width=\"55\" height=\"55\" style=\"fill:#f98556;stroke-width:2;stroke:rgb(255,255,255)\"/><rect x=\"550\" y=\"0\" width=\"55\" height=\"55\" style=\"fill:#fc9662;stroke-width:2;stroke:rgb(255,255,255)\"/><rect x=\"605\" y=\"0\" width=\"55\" height=\"55\" style=\"fill:#fda872;stroke-width:2;stroke:rgb(255,255,255)\"/><rect x=\"660\" y=\"0\" width=\"55\" height=\"55\" style=\"fill:#fdb982;stroke-width:2;stroke:rgb(255,255,255)\"/><rect x=\"715\" y=\"0\" width=\"55\" height=\"55\" style=\"fill:#fdc38d;stroke-width:2;stroke:rgb(255,255,255)\"/><rect x=\"770\" y=\"0\" width=\"55\" height=\"55\" style=\"fill:#fdcd96;stroke-width:2;stroke:rgb(255,255,255)\"/><rect x=\"825\" y=\"0\" width=\"55\" height=\"55\" style=\"fill:#fdd6a3;stroke-width:2;stroke:rgb(255,255,255)\"/><rect x=\"880\" y=\"0\" width=\"55\" height=\"55\" style=\"fill:#fddeb3;stroke-width:2;stroke:rgb(255,255,255)\"/><rect x=\"935\" y=\"0\" width=\"55\" height=\"55\" style=\"fill:#fee5c3;stroke-width:2;stroke:rgb(255,255,255)\"/><rect x=\"990\" y=\"0\" width=\"55\" height=\"55\" style=\"fill:#feecd1;stroke-width:2;stroke:rgb(255,255,255)\"/><rect x=\"1045\" y=\"0\" width=\"55\" height=\"55\" style=\"fill:#fff1de;stroke-width:2;stroke:rgb(255,255,255)\"/></svg>"
      ],
      "text/plain": [
       "[(0.5748096885813149, 0.0, 0.0),\n",
       " (0.6515801614763552, 0.0, 0.0),\n",
       " (0.7202306805074971, 0.024359861591695505, 0.015732410611303347),\n",
       " (0.7733794694348327, 0.09522491349480969, 0.06149942329873125),\n",
       " (0.8265282583621684, 0.16608996539792387, 0.10726643598615916),\n",
       " (0.8704498269896194, 0.24855055747789312, 0.16822760476739715),\n",
       " (0.9058823529411765, 0.326797385620915, 0.2287581699346405),\n",
       " (0.9394540561322569, 0.4028450595924644, 0.28522875816993465),\n",
       " (0.9586466743560169, 0.4618992695117263, 0.3103267973856209),\n",
       " (0.9778392925797771, 0.5209534794309881, 0.3354248366013072),\n",
       " (0.9890349865436371, 0.5897270280661284, 0.38340638216070744),\n",
       " (0.9905113417916186, 0.6576393694732795, 0.4468896578239139),\n",
       " (0.9919876970396002, 0.7255517108804306, 0.5103729334871204),\n",
       " (0.9921568627450981, 0.7660130718954248, 0.5516339869281046),\n",
       " (0.9921568627450981, 0.8029219530949635, 0.5900192233756247),\n",
       " (0.9926182237600923, 0.8405997693194925, 0.6389850057670127),\n",
       " (0.9940945790080739, 0.8701268742791234, 0.7009919261822376),\n",
       " (0.9955709342560554, 0.8996539792387543, 0.7629988465974625),\n",
       " (0.9970472895040369, 0.9243367935409458, 0.8191926182237601),\n",
       " (0.9985236447520185, 0.946482122260669, 0.8723414071510958)]"
      ]
     },
     "metadata": {},
     "output_type": "display_data"
    },
    {
     "name": "stdout",
     "output_type": "stream",
     "text": [
      "Oranges\n"
     ]
    },
    {
     "data": {
      "text/html": [
       "<svg  width=\"1100\" height=\"55\"><rect x=\"0\" y=\"0\" width=\"55\" height=\"55\" style=\"fill:#ffefe0;stroke-width:2;stroke:rgb(255,255,255)\"/><rect x=\"55\" y=\"0\" width=\"55\" height=\"55\" style=\"fill:#feead5;stroke-width:2;stroke:rgb(255,255,255)\"/><rect x=\"110\" y=\"0\" width=\"55\" height=\"55\" style=\"fill:#fee3c8;stroke-width:2;stroke:rgb(255,255,255)\"/><rect x=\"165\" y=\"0\" width=\"55\" height=\"55\" style=\"fill:#fddbb8;stroke-width:2;stroke:rgb(255,255,255)\"/><rect x=\"220\" y=\"0\" width=\"55\" height=\"55\" style=\"fill:#fdd3a7;stroke-width:2;stroke:rgb(255,255,255)\"/><rect x=\"275\" y=\"0\" width=\"55\" height=\"55\" style=\"fill:#fdc692;stroke-width:2;stroke:rgb(255,255,255)\"/><rect x=\"330\" y=\"0\" width=\"55\" height=\"55\" style=\"fill:#fdb97d;stroke-width:2;stroke:rgb(255,255,255)\"/><rect x=\"385\" y=\"0\" width=\"55\" height=\"55\" style=\"fill:#fdad69;stroke-width:2;stroke:rgb(255,255,255)\"/><rect x=\"440\" y=\"0\" width=\"55\" height=\"55\" style=\"fill:#fda057;stroke-width:2;stroke:rgb(255,255,255)\"/><rect x=\"495\" y=\"0\" width=\"55\" height=\"55\" style=\"fill:#fd9446;stroke-width:2;stroke:rgb(255,255,255)\"/><rect x=\"550\" y=\"0\" width=\"55\" height=\"55\" style=\"fill:#fb8634;stroke-width:2;stroke:rgb(255,255,255)\"/><rect x=\"605\" y=\"0\" width=\"55\" height=\"55\" style=\"fill:#f67824;stroke-width:2;stroke:rgb(255,255,255)\"/><rect x=\"660\" y=\"0\" width=\"55\" height=\"55\" style=\"fill:#f26b15;stroke-width:2;stroke:rgb(255,255,255)\"/><rect x=\"715\" y=\"0\" width=\"55\" height=\"55\" style=\"fill:#e95e0d;stroke-width:2;stroke:rgb(255,255,255)\"/><rect x=\"770\" y=\"0\" width=\"55\" height=\"55\" style=\"fill:#e05206;stroke-width:2;stroke:rgb(255,255,255)\"/><rect x=\"825\" y=\"0\" width=\"55\" height=\"55\" style=\"fill:#d34601;stroke-width:2;stroke:rgb(255,255,255)\"/><rect x=\"880\" y=\"0\" width=\"55\" height=\"55\" style=\"fill:#c03f02;stroke-width:2;stroke:rgb(255,255,255)\"/><rect x=\"935\" y=\"0\" width=\"55\" height=\"55\" style=\"fill:#ad3803;stroke-width:2;stroke:rgb(255,255,255)\"/><rect x=\"990\" y=\"0\" width=\"55\" height=\"55\" style=\"fill:#9c3203;stroke-width:2;stroke:rgb(255,255,255)\"/><rect x=\"1045\" y=\"0\" width=\"55\" height=\"55\" style=\"fill:#8e2d04;stroke-width:2;stroke:rgb(255,255,255)\"/></svg>"
      ],
      "text/plain": [
       "[(0.9985236447520185, 0.938638985005767, 0.8787543252595156),\n",
       " (0.9970472895040369, 0.9164936562860438, 0.8359400230680507),\n",
       " (0.9955709342560554, 0.8907958477508651, 0.7855132641291811),\n",
       " (0.9940945790080739, 0.8583160322952711, 0.720553633217993),\n",
       " (0.9926182237600923, 0.825836216839677, 0.6555940023068051),\n",
       " (0.9921568627450981, 0.7769934640522875, 0.5727028066128412),\n",
       " (0.9921568627450981, 0.726797385620915, 0.49150326797385624),\n",
       " (0.9921568627450981, 0.6767704728950404, 0.4116570549788543),\n",
       " (0.9921568627450981, 0.6280507497116494, 0.34226835832372166),\n",
       " (0.9921568627450981, 0.5793310265282584, 0.272879661668589),\n",
       " (0.982560553633218, 0.5241522491349481, 0.20250672818146867),\n",
       " (0.9648442906574395, 0.47100346020761247, 0.14197616301422528),\n",
       " (0.9471280276816608, 0.41785467128027676, 0.08144559784698194),\n",
       " (0.9137254901960784, 0.3686274509803921, 0.050980392156862744),\n",
       " (0.8782929642445213, 0.31990772779700116, 0.024405997693194924),\n",
       " (0.8274509803921568, 0.2740484429065744, 0.004844290657439446),\n",
       " (0.7521568627450981, 0.24747404844290657, 0.007797001153402537),\n",
       " (0.6768627450980392, 0.22089965397923875, 0.010749711649365626),\n",
       " (0.6131949250288351, 0.1972318339100346, 0.012733564013840829),\n",
       " (0.5556170703575548, 0.17508650519031144, 0.014209919261822374)]"
      ]
     },
     "metadata": {},
     "output_type": "display_data"
    },
    {
     "name": "stdout",
     "output_type": "stream",
     "text": [
      "Oranges_r\n"
     ]
    },
    {
     "data": {
      "text/html": [
       "<svg  width=\"1100\" height=\"55\"><rect x=\"0\" y=\"0\" width=\"55\" height=\"55\" style=\"fill:#8e2d04;stroke-width:2;stroke:rgb(255,255,255)\"/><rect x=\"55\" y=\"0\" width=\"55\" height=\"55\" style=\"fill:#9c3203;stroke-width:2;stroke:rgb(255,255,255)\"/><rect x=\"110\" y=\"0\" width=\"55\" height=\"55\" style=\"fill:#ad3803;stroke-width:2;stroke:rgb(255,255,255)\"/><rect x=\"165\" y=\"0\" width=\"55\" height=\"55\" style=\"fill:#c03f02;stroke-width:2;stroke:rgb(255,255,255)\"/><rect x=\"220\" y=\"0\" width=\"55\" height=\"55\" style=\"fill:#d34601;stroke-width:2;stroke:rgb(255,255,255)\"/><rect x=\"275\" y=\"0\" width=\"55\" height=\"55\" style=\"fill:#e05206;stroke-width:2;stroke:rgb(255,255,255)\"/><rect x=\"330\" y=\"0\" width=\"55\" height=\"55\" style=\"fill:#e95e0d;stroke-width:2;stroke:rgb(255,255,255)\"/><rect x=\"385\" y=\"0\" width=\"55\" height=\"55\" style=\"fill:#f26b15;stroke-width:2;stroke:rgb(255,255,255)\"/><rect x=\"440\" y=\"0\" width=\"55\" height=\"55\" style=\"fill:#f67824;stroke-width:2;stroke:rgb(255,255,255)\"/><rect x=\"495\" y=\"0\" width=\"55\" height=\"55\" style=\"fill:#fb8634;stroke-width:2;stroke:rgb(255,255,255)\"/><rect x=\"550\" y=\"0\" width=\"55\" height=\"55\" style=\"fill:#fd9446;stroke-width:2;stroke:rgb(255,255,255)\"/><rect x=\"605\" y=\"0\" width=\"55\" height=\"55\" style=\"fill:#fda057;stroke-width:2;stroke:rgb(255,255,255)\"/><rect x=\"660\" y=\"0\" width=\"55\" height=\"55\" style=\"fill:#fdad69;stroke-width:2;stroke:rgb(255,255,255)\"/><rect x=\"715\" y=\"0\" width=\"55\" height=\"55\" style=\"fill:#fdb97d;stroke-width:2;stroke:rgb(255,255,255)\"/><rect x=\"770\" y=\"0\" width=\"55\" height=\"55\" style=\"fill:#fdc692;stroke-width:2;stroke:rgb(255,255,255)\"/><rect x=\"825\" y=\"0\" width=\"55\" height=\"55\" style=\"fill:#fdd3a7;stroke-width:2;stroke:rgb(255,255,255)\"/><rect x=\"880\" y=\"0\" width=\"55\" height=\"55\" style=\"fill:#fddbb8;stroke-width:2;stroke:rgb(255,255,255)\"/><rect x=\"935\" y=\"0\" width=\"55\" height=\"55\" style=\"fill:#fee3c8;stroke-width:2;stroke:rgb(255,255,255)\"/><rect x=\"990\" y=\"0\" width=\"55\" height=\"55\" style=\"fill:#feead5;stroke-width:2;stroke:rgb(255,255,255)\"/><rect x=\"1045\" y=\"0\" width=\"55\" height=\"55\" style=\"fill:#ffefe0;stroke-width:2;stroke:rgb(255,255,255)\"/></svg>"
      ],
      "text/plain": [
       "[(0.5556170703575548, 0.17508650519031144, 0.014209919261822374),\n",
       " (0.6131949250288351, 0.1972318339100346, 0.012733564013840829),\n",
       " (0.6768627450980392, 0.22089965397923875, 0.010749711649365628),\n",
       " (0.7521568627450981, 0.24747404844290657, 0.007797001153402537),\n",
       " (0.8274509803921568, 0.2740484429065744, 0.004844290657439446),\n",
       " (0.8782929642445213, 0.31990772779700116, 0.024405997693194927),\n",
       " (0.9137254901960784, 0.3686274509803921, 0.050980392156862744),\n",
       " (0.9471280276816608, 0.4178546712802768, 0.08144559784698192),\n",
       " (0.9648442906574395, 0.47100346020761247, 0.14197616301422528),\n",
       " (0.982560553633218, 0.5241522491349481, 0.20250672818146864),\n",
       " (0.9921568627450981, 0.5793310265282584, 0.272879661668589),\n",
       " (0.9921568627450981, 0.6280507497116494, 0.34226835832372166),\n",
       " (0.9921568627450981, 0.6767704728950403, 0.4116570549788543),\n",
       " (0.9921568627450981, 0.726797385620915, 0.4915032679738562),\n",
       " (0.9921568627450981, 0.7769934640522875, 0.5727028066128412),\n",
       " (0.9926182237600923, 0.825836216839677, 0.6555940023068051),\n",
       " (0.9940945790080739, 0.8583160322952711, 0.720553633217993),\n",
       " (0.9955709342560554, 0.8907958477508651, 0.7855132641291811),\n",
       " (0.9970472895040369, 0.9164936562860438, 0.8359400230680507),\n",
       " (0.9985236447520185, 0.938638985005767, 0.8787543252595156)]"
      ]
     },
     "metadata": {},
     "output_type": "display_data"
    },
    {
     "name": "stdout",
     "output_type": "stream",
     "text": [
      "PRGn\n"
     ]
    },
    {
     "data": {
      "text/html": [
       "<svg  width=\"1100\" height=\"55\"><rect x=\"0\" y=\"0\" width=\"55\" height=\"55\" style=\"fill:#591465;stroke-width:2;stroke:rgb(255,255,255)\"/><rect x=\"55\" y=\"0\" width=\"55\" height=\"55\" style=\"fill:#732880;stroke-width:2;stroke:rgb(255,255,255)\"/><rect x=\"110\" y=\"0\" width=\"55\" height=\"55\" style=\"fill:#844793;stroke-width:2;stroke:rgb(255,255,255)\"/><rect x=\"165\" y=\"0\" width=\"55\" height=\"55\" style=\"fill:#9568a6;stroke-width:2;stroke:rgb(255,255,255)\"/><rect x=\"220\" y=\"0\" width=\"55\" height=\"55\" style=\"fill:#a783b8;stroke-width:2;stroke:rgb(255,255,255)\"/><rect x=\"275\" y=\"0\" width=\"55\" height=\"55\" style=\"fill:#bc9eca;stroke-width:2;stroke:rgb(255,255,255)\"/><rect x=\"330\" y=\"0\" width=\"55\" height=\"55\" style=\"fill:#ceb5d7;stroke-width:2;stroke:rgb(255,255,255)\"/><rect x=\"385\" y=\"0\" width=\"55\" height=\"55\" style=\"fill:#e0cbe3;stroke-width:2;stroke:rgb(255,255,255)\"/><rect x=\"440\" y=\"0\" width=\"55\" height=\"55\" style=\"fill:#ebdeec;stroke-width:2;stroke:rgb(255,255,255)\"/><rect x=\"495\" y=\"0\" width=\"55\" height=\"55\" style=\"fill:#f3eef3;stroke-width:2;stroke:rgb(255,255,255)\"/><rect x=\"550\" y=\"0\" width=\"55\" height=\"55\" style=\"fill:#eff5ee;stroke-width:2;stroke:rgb(255,255,255)\"/><rect x=\"605\" y=\"0\" width=\"55\" height=\"55\" style=\"fill:#e1f2dd;stroke-width:2;stroke:rgb(255,255,255)\"/><rect x=\"660\" y=\"0\" width=\"55\" height=\"55\" style=\"fill:#cfecc9;stroke-width:2;stroke:rgb(255,255,255)\"/><rect x=\"715\" y=\"0\" width=\"55\" height=\"55\" style=\"fill:#b7e2b1;stroke-width:2;stroke:rgb(255,255,255)\"/><rect x=\"770\" y=\"0\" width=\"55\" height=\"55\" style=\"fill:#9cd597;stroke-width:2;stroke:rgb(255,255,255)\"/><rect x=\"825\" y=\"0\" width=\"55\" height=\"55\" style=\"fill:#75be77;stroke-width:2;stroke:rgb(255,255,255)\"/><rect x=\"880\" y=\"0\" width=\"55\" height=\"55\" style=\"fill:#53a85c;stroke-width:2;stroke:rgb(255,255,255)\"/><rect x=\"935\" y=\"0\" width=\"55\" height=\"55\" style=\"fill:#358e48;stroke-width:2;stroke:rgb(255,255,255)\"/><rect x=\"990\" y=\"0\" width=\"55\" height=\"55\" style=\"fill:#197535;stroke-width:2;stroke:rgb(255,255,255)\"/><rect x=\"1045\" y=\"0\" width=\"55\" height=\"55\" style=\"fill:#0d5c28;stroke-width:2;stroke:rgb(255,255,255)\"/></svg>"
      ],
      "text/plain": [
       "[(0.3506343713956171, 0.07750865051903114, 0.39746251441753166),\n",
       " (0.45028835063437145, 0.15501730103806227, 0.5008073817762398),\n",
       " (0.5192618223760093, 0.27773933102652826, 0.578316032295271),\n",
       " (0.5838523644752018, 0.4069204152249135, 0.6521337946943483),\n",
       " (0.6567474048442906, 0.5125720876585929, 0.7204152249134947),\n",
       " (0.7387158785082659, 0.6185313341022682, 0.7923875432525951),\n",
       " (0.8091503267973855, 0.7084967320261437, 0.8444444444444444),\n",
       " (0.8774317570165321, 0.7952326028450596, 0.8905805459438677),\n",
       " (0.9231064975009612, 0.8690503652441369, 0.9259515570934256),\n",
       " (0.952633602460592, 0.9336409073433295, 0.9536332179930795),\n",
       " (0.938638985005767, 0.9616301422529796, 0.932641291810842),\n",
       " (0.8832756632064591, 0.9487120338331411, 0.8662053056516725),\n",
       " (0.8117647058823532, 0.9250288350634372, 0.7882352941176473),\n",
       " (0.7176470588235296, 0.8862745098039216, 0.6941176470588237),\n",
       " (0.6100730488273743, 0.8346020761245676, 0.593540945790081),\n",
       " (0.4581314878892735, 0.7446366782006921, 0.46758938869665523),\n",
       " (0.3238754325259516, 0.657439446366782, 0.3610149942329873),\n",
       " (0.20761245674740486, 0.5577854671280277, 0.28350634371395617),\n",
       " (0.09965397923875433, 0.4585928489042676, 0.20922722029988466),\n",
       " (0.04982698961937716, 0.36262975778546713, 0.15755478662053057)]"
      ]
     },
     "metadata": {},
     "output_type": "display_data"
    },
    {
     "name": "stdout",
     "output_type": "stream",
     "text": [
      "PRGn_r\n"
     ]
    },
    {
     "data": {
      "text/html": [
       "<svg  width=\"1100\" height=\"55\"><rect x=\"0\" y=\"0\" width=\"55\" height=\"55\" style=\"fill:#0d5c28;stroke-width:2;stroke:rgb(255,255,255)\"/><rect x=\"55\" y=\"0\" width=\"55\" height=\"55\" style=\"fill:#197535;stroke-width:2;stroke:rgb(255,255,255)\"/><rect x=\"110\" y=\"0\" width=\"55\" height=\"55\" style=\"fill:#358e48;stroke-width:2;stroke:rgb(255,255,255)\"/><rect x=\"165\" y=\"0\" width=\"55\" height=\"55\" style=\"fill:#53a85c;stroke-width:2;stroke:rgb(255,255,255)\"/><rect x=\"220\" y=\"0\" width=\"55\" height=\"55\" style=\"fill:#75be77;stroke-width:2;stroke:rgb(255,255,255)\"/><rect x=\"275\" y=\"0\" width=\"55\" height=\"55\" style=\"fill:#9cd597;stroke-width:2;stroke:rgb(255,255,255)\"/><rect x=\"330\" y=\"0\" width=\"55\" height=\"55\" style=\"fill:#b7e2b1;stroke-width:2;stroke:rgb(255,255,255)\"/><rect x=\"385\" y=\"0\" width=\"55\" height=\"55\" style=\"fill:#cfecc9;stroke-width:2;stroke:rgb(255,255,255)\"/><rect x=\"440\" y=\"0\" width=\"55\" height=\"55\" style=\"fill:#e1f2dd;stroke-width:2;stroke:rgb(255,255,255)\"/><rect x=\"495\" y=\"0\" width=\"55\" height=\"55\" style=\"fill:#eff5ee;stroke-width:2;stroke:rgb(255,255,255)\"/><rect x=\"550\" y=\"0\" width=\"55\" height=\"55\" style=\"fill:#f3eef3;stroke-width:2;stroke:rgb(255,255,255)\"/><rect x=\"605\" y=\"0\" width=\"55\" height=\"55\" style=\"fill:#ebdeec;stroke-width:2;stroke:rgb(255,255,255)\"/><rect x=\"660\" y=\"0\" width=\"55\" height=\"55\" style=\"fill:#e0cbe3;stroke-width:2;stroke:rgb(255,255,255)\"/><rect x=\"715\" y=\"0\" width=\"55\" height=\"55\" style=\"fill:#ceb5d7;stroke-width:2;stroke:rgb(255,255,255)\"/><rect x=\"770\" y=\"0\" width=\"55\" height=\"55\" style=\"fill:#bc9eca;stroke-width:2;stroke:rgb(255,255,255)\"/><rect x=\"825\" y=\"0\" width=\"55\" height=\"55\" style=\"fill:#a783b8;stroke-width:2;stroke:rgb(255,255,255)\"/><rect x=\"880\" y=\"0\" width=\"55\" height=\"55\" style=\"fill:#9568a6;stroke-width:2;stroke:rgb(255,255,255)\"/><rect x=\"935\" y=\"0\" width=\"55\" height=\"55\" style=\"fill:#844793;stroke-width:2;stroke:rgb(255,255,255)\"/><rect x=\"990\" y=\"0\" width=\"55\" height=\"55\" style=\"fill:#732880;stroke-width:2;stroke:rgb(255,255,255)\"/><rect x=\"1045\" y=\"0\" width=\"55\" height=\"55\" style=\"fill:#591465;stroke-width:2;stroke:rgb(255,255,255)\"/></svg>"
      ],
      "text/plain": [
       "[(0.04982698961937717, 0.36262975778546713, 0.15755478662053057),\n",
       " (0.09965397923875434, 0.45859284890426766, 0.2092272202998847),\n",
       " (0.20761245674740494, 0.5577854671280278, 0.2835063437139562),\n",
       " (0.3238754325259517, 0.6574394463667821, 0.3610149942329874),\n",
       " (0.45813148788927355, 0.7446366782006921, 0.46758938869665523),\n",
       " (0.6100730488273742, 0.8346020761245676, 0.5935409457900809),\n",
       " (0.7176470588235295, 0.8862745098039216, 0.6941176470588236),\n",
       " (0.8117647058823532, 0.9250288350634372, 0.7882352941176473),\n",
       " (0.8832756632064591, 0.9487120338331411, 0.8662053056516725),\n",
       " (0.938638985005767, 0.9616301422529796, 0.932641291810842),\n",
       " (0.952633602460592, 0.9336409073433295, 0.9536332179930795),\n",
       " (0.9231064975009612, 0.8690503652441369, 0.9259515570934256),\n",
       " (0.8774317570165321, 0.7952326028450596, 0.8905805459438677),\n",
       " (0.8091503267973856, 0.7084967320261438, 0.8444444444444444),\n",
       " (0.738715878508266, 0.6185313341022683, 0.7923875432525952),\n",
       " (0.6567474048442906, 0.5125720876585929, 0.7204152249134947),\n",
       " (0.5838523644752018, 0.4069204152249135, 0.6521337946943483),\n",
       " (0.5192618223760093, 0.27773933102652826, 0.578316032295271),\n",
       " (0.4502883506343714, 0.15501730103806227, 0.5008073817762398),\n",
       " (0.3506343713956171, 0.07750865051903114, 0.39746251441753166)]"
      ]
     },
     "metadata": {},
     "output_type": "display_data"
    },
    {
     "name": "stdout",
     "output_type": "stream",
     "text": [
      "Paired\n"
     ]
    },
    {
     "data": {
      "text/html": [
       "<svg  width=\"1100\" height=\"55\"><rect x=\"0\" y=\"0\" width=\"55\" height=\"55\" style=\"fill:#a6cee3;stroke-width:2;stroke:rgb(255,255,255)\"/><rect x=\"55\" y=\"0\" width=\"55\" height=\"55\" style=\"fill:#1f78b4;stroke-width:2;stroke:rgb(255,255,255)\"/><rect x=\"110\" y=\"0\" width=\"55\" height=\"55\" style=\"fill:#b2df8a;stroke-width:2;stroke:rgb(255,255,255)\"/><rect x=\"165\" y=\"0\" width=\"55\" height=\"55\" style=\"fill:#33a02c;stroke-width:2;stroke:rgb(255,255,255)\"/><rect x=\"220\" y=\"0\" width=\"55\" height=\"55\" style=\"fill:#fb9a99;stroke-width:2;stroke:rgb(255,255,255)\"/><rect x=\"275\" y=\"0\" width=\"55\" height=\"55\" style=\"fill:#e31a1c;stroke-width:2;stroke:rgb(255,255,255)\"/><rect x=\"330\" y=\"0\" width=\"55\" height=\"55\" style=\"fill:#fdbf6f;stroke-width:2;stroke:rgb(255,255,255)\"/><rect x=\"385\" y=\"0\" width=\"55\" height=\"55\" style=\"fill:#ff7f00;stroke-width:2;stroke:rgb(255,255,255)\"/><rect x=\"440\" y=\"0\" width=\"55\" height=\"55\" style=\"fill:#cab2d6;stroke-width:2;stroke:rgb(255,255,255)\"/><rect x=\"495\" y=\"0\" width=\"55\" height=\"55\" style=\"fill:#6a3d9a;stroke-width:2;stroke:rgb(255,255,255)\"/><rect x=\"550\" y=\"0\" width=\"55\" height=\"55\" style=\"fill:#ffff99;stroke-width:2;stroke:rgb(255,255,255)\"/><rect x=\"605\" y=\"0\" width=\"55\" height=\"55\" style=\"fill:#b15928;stroke-width:2;stroke:rgb(255,255,255)\"/><rect x=\"660\" y=\"0\" width=\"55\" height=\"55\" style=\"fill:#a6cee3;stroke-width:2;stroke:rgb(255,255,255)\"/><rect x=\"715\" y=\"0\" width=\"55\" height=\"55\" style=\"fill:#1f78b4;stroke-width:2;stroke:rgb(255,255,255)\"/><rect x=\"770\" y=\"0\" width=\"55\" height=\"55\" style=\"fill:#b2df8a;stroke-width:2;stroke:rgb(255,255,255)\"/><rect x=\"825\" y=\"0\" width=\"55\" height=\"55\" style=\"fill:#33a02c;stroke-width:2;stroke:rgb(255,255,255)\"/><rect x=\"880\" y=\"0\" width=\"55\" height=\"55\" style=\"fill:#fb9a99;stroke-width:2;stroke:rgb(255,255,255)\"/><rect x=\"935\" y=\"0\" width=\"55\" height=\"55\" style=\"fill:#e31a1c;stroke-width:2;stroke:rgb(255,255,255)\"/><rect x=\"990\" y=\"0\" width=\"55\" height=\"55\" style=\"fill:#fdbf6f;stroke-width:2;stroke:rgb(255,255,255)\"/><rect x=\"1045\" y=\"0\" width=\"55\" height=\"55\" style=\"fill:#ff7f00;stroke-width:2;stroke:rgb(255,255,255)\"/></svg>"
      ],
      "text/plain": [
       "[(0.6509803921568628, 0.807843137254902, 0.8901960784313725),\n",
       " (0.12156862745098039, 0.47058823529411764, 0.7058823529411765),\n",
       " (0.6980392156862745, 0.8745098039215686, 0.5411764705882353),\n",
       " (0.2, 0.6274509803921569, 0.17254901960784313),\n",
       " (0.984313725490196, 0.6039215686274509, 0.6),\n",
       " (0.8901960784313725, 0.10196078431372549, 0.10980392156862745),\n",
       " (0.9921568627450981, 0.7490196078431373, 0.43529411764705883),\n",
       " (1.0, 0.4980392156862745, 0.0),\n",
       " (0.792156862745098, 0.6980392156862745, 0.8392156862745098),\n",
       " (0.41568627450980394, 0.23921568627450981, 0.6039215686274509),\n",
       " (1.0, 1.0, 0.6),\n",
       " (0.6941176470588235, 0.34901960784313724, 0.1568627450980392),\n",
       " (0.6509803921568628, 0.807843137254902, 0.8901960784313725),\n",
       " (0.12156862745098039, 0.47058823529411764, 0.7058823529411765),\n",
       " (0.6980392156862745, 0.8745098039215686, 0.5411764705882353),\n",
       " (0.2, 0.6274509803921569, 0.17254901960784313),\n",
       " (0.984313725490196, 0.6039215686274509, 0.6),\n",
       " (0.8901960784313725, 0.10196078431372549, 0.10980392156862745),\n",
       " (0.9921568627450981, 0.7490196078431373, 0.43529411764705883),\n",
       " (1.0, 0.4980392156862745, 0.0)]"
      ]
     },
     "metadata": {},
     "output_type": "display_data"
    },
    {
     "name": "stdout",
     "output_type": "stream",
     "text": [
      "Paired_r\n"
     ]
    },
    {
     "data": {
      "text/html": [
       "<svg  width=\"1100\" height=\"55\"><rect x=\"0\" y=\"0\" width=\"55\" height=\"55\" style=\"fill:#b15928;stroke-width:2;stroke:rgb(255,255,255)\"/><rect x=\"55\" y=\"0\" width=\"55\" height=\"55\" style=\"fill:#ffff99;stroke-width:2;stroke:rgb(255,255,255)\"/><rect x=\"110\" y=\"0\" width=\"55\" height=\"55\" style=\"fill:#ffff99;stroke-width:2;stroke:rgb(255,255,255)\"/><rect x=\"165\" y=\"0\" width=\"55\" height=\"55\" style=\"fill:#6a3d9a;stroke-width:2;stroke:rgb(255,255,255)\"/><rect x=\"220\" y=\"0\" width=\"55\" height=\"55\" style=\"fill:#6a3d9a;stroke-width:2;stroke:rgb(255,255,255)\"/><rect x=\"275\" y=\"0\" width=\"55\" height=\"55\" style=\"fill:#cab2d6;stroke-width:2;stroke:rgb(255,255,255)\"/><rect x=\"330\" y=\"0\" width=\"55\" height=\"55\" style=\"fill:#ff7f00;stroke-width:2;stroke:rgb(255,255,255)\"/><rect x=\"385\" y=\"0\" width=\"55\" height=\"55\" style=\"fill:#ff7f00;stroke-width:2;stroke:rgb(255,255,255)\"/><rect x=\"440\" y=\"0\" width=\"55\" height=\"55\" style=\"fill:#fdbf6f;stroke-width:2;stroke:rgb(255,255,255)\"/><rect x=\"495\" y=\"0\" width=\"55\" height=\"55\" style=\"fill:#fdbf6f;stroke-width:2;stroke:rgb(255,255,255)\"/><rect x=\"550\" y=\"0\" width=\"55\" height=\"55\" style=\"fill:#e31a1c;stroke-width:2;stroke:rgb(255,255,255)\"/><rect x=\"605\" y=\"0\" width=\"55\" height=\"55\" style=\"fill:#e31a1c;stroke-width:2;stroke:rgb(255,255,255)\"/><rect x=\"660\" y=\"0\" width=\"55\" height=\"55\" style=\"fill:#fb9a99;stroke-width:2;stroke:rgb(255,255,255)\"/><rect x=\"715\" y=\"0\" width=\"55\" height=\"55\" style=\"fill:#33a02c;stroke-width:2;stroke:rgb(255,255,255)\"/><rect x=\"770\" y=\"0\" width=\"55\" height=\"55\" style=\"fill:#33a02c;stroke-width:2;stroke:rgb(255,255,255)\"/><rect x=\"825\" y=\"0\" width=\"55\" height=\"55\" style=\"fill:#b2df8a;stroke-width:2;stroke:rgb(255,255,255)\"/><rect x=\"880\" y=\"0\" width=\"55\" height=\"55\" style=\"fill:#b2df8a;stroke-width:2;stroke:rgb(255,255,255)\"/><rect x=\"935\" y=\"0\" width=\"55\" height=\"55\" style=\"fill:#1f78b4;stroke-width:2;stroke:rgb(255,255,255)\"/><rect x=\"990\" y=\"0\" width=\"55\" height=\"55\" style=\"fill:#1f78b4;stroke-width:2;stroke:rgb(255,255,255)\"/><rect x=\"1045\" y=\"0\" width=\"55\" height=\"55\" style=\"fill:#a6cee3;stroke-width:2;stroke:rgb(255,255,255)\"/></svg>"
      ],
      "text/plain": [
       "[(0.6941176470588235, 0.34901960784313724, 0.1568627450980392),\n",
       " (1.0, 1.0, 0.6),\n",
       " (1.0, 1.0, 0.6),\n",
       " (0.41568627450980394, 0.23921568627450981, 0.6039215686274509),\n",
       " (0.41568627450980394, 0.23921568627450981, 0.6039215686274509),\n",
       " (0.792156862745098, 0.6980392156862745, 0.8392156862745098),\n",
       " (1.0, 0.4980392156862745, 0.0),\n",
       " (1.0, 0.4980392156862745, 0.0),\n",
       " (0.9921568627450981, 0.7490196078431373, 0.43529411764705883),\n",
       " (0.9921568627450981, 0.7490196078431373, 0.43529411764705883),\n",
       " (0.8901960784313725, 0.10196078431372549, 0.10980392156862745),\n",
       " (0.8901960784313725, 0.10196078431372549, 0.10980392156862745),\n",
       " (0.984313725490196, 0.6039215686274509, 0.6),\n",
       " (0.2, 0.6274509803921569, 0.17254901960784313),\n",
       " (0.2, 0.6274509803921569, 0.17254901960784313),\n",
       " (0.6980392156862745, 0.8745098039215686, 0.5411764705882353),\n",
       " (0.6980392156862745, 0.8745098039215686, 0.5411764705882353),\n",
       " (0.12156862745098039, 0.47058823529411764, 0.7058823529411765),\n",
       " (0.12156862745098039, 0.47058823529411764, 0.7058823529411765),\n",
       " (0.6509803921568628, 0.807843137254902, 0.8901960784313725)]"
      ]
     },
     "metadata": {},
     "output_type": "display_data"
    },
    {
     "name": "stdout",
     "output_type": "stream",
     "text": [
      "Pastel1\n"
     ]
    },
    {
     "data": {
      "text/html": [
       "<svg  width=\"1100\" height=\"55\"><rect x=\"0\" y=\"0\" width=\"55\" height=\"55\" style=\"fill:#fbb4ae;stroke-width:2;stroke:rgb(255,255,255)\"/><rect x=\"55\" y=\"0\" width=\"55\" height=\"55\" style=\"fill:#b3cde3;stroke-width:2;stroke:rgb(255,255,255)\"/><rect x=\"110\" y=\"0\" width=\"55\" height=\"55\" style=\"fill:#ccebc5;stroke-width:2;stroke:rgb(255,255,255)\"/><rect x=\"165\" y=\"0\" width=\"55\" height=\"55\" style=\"fill:#decbe4;stroke-width:2;stroke:rgb(255,255,255)\"/><rect x=\"220\" y=\"0\" width=\"55\" height=\"55\" style=\"fill:#fed9a6;stroke-width:2;stroke:rgb(255,255,255)\"/><rect x=\"275\" y=\"0\" width=\"55\" height=\"55\" style=\"fill:#ffffcc;stroke-width:2;stroke:rgb(255,255,255)\"/><rect x=\"330\" y=\"0\" width=\"55\" height=\"55\" style=\"fill:#e5d8bd;stroke-width:2;stroke:rgb(255,255,255)\"/><rect x=\"385\" y=\"0\" width=\"55\" height=\"55\" style=\"fill:#fddaec;stroke-width:2;stroke:rgb(255,255,255)\"/><rect x=\"440\" y=\"0\" width=\"55\" height=\"55\" style=\"fill:#f2f2f2;stroke-width:2;stroke:rgb(255,255,255)\"/><rect x=\"495\" y=\"0\" width=\"55\" height=\"55\" style=\"fill:#fbb4ae;stroke-width:2;stroke:rgb(255,255,255)\"/><rect x=\"550\" y=\"0\" width=\"55\" height=\"55\" style=\"fill:#b3cde3;stroke-width:2;stroke:rgb(255,255,255)\"/><rect x=\"605\" y=\"0\" width=\"55\" height=\"55\" style=\"fill:#ccebc5;stroke-width:2;stroke:rgb(255,255,255)\"/><rect x=\"660\" y=\"0\" width=\"55\" height=\"55\" style=\"fill:#decbe4;stroke-width:2;stroke:rgb(255,255,255)\"/><rect x=\"715\" y=\"0\" width=\"55\" height=\"55\" style=\"fill:#fed9a6;stroke-width:2;stroke:rgb(255,255,255)\"/><rect x=\"770\" y=\"0\" width=\"55\" height=\"55\" style=\"fill:#ffffcc;stroke-width:2;stroke:rgb(255,255,255)\"/><rect x=\"825\" y=\"0\" width=\"55\" height=\"55\" style=\"fill:#e5d8bd;stroke-width:2;stroke:rgb(255,255,255)\"/><rect x=\"880\" y=\"0\" width=\"55\" height=\"55\" style=\"fill:#fddaec;stroke-width:2;stroke:rgb(255,255,255)\"/><rect x=\"935\" y=\"0\" width=\"55\" height=\"55\" style=\"fill:#f2f2f2;stroke-width:2;stroke:rgb(255,255,255)\"/><rect x=\"990\" y=\"0\" width=\"55\" height=\"55\" style=\"fill:#fbb4ae;stroke-width:2;stroke:rgb(255,255,255)\"/><rect x=\"1045\" y=\"0\" width=\"55\" height=\"55\" style=\"fill:#b3cde3;stroke-width:2;stroke:rgb(255,255,255)\"/></svg>"
      ],
      "text/plain": [
       "[(0.984313725490196, 0.7058823529411765, 0.6823529411764706),\n",
       " (0.7019607843137254, 0.803921568627451, 0.8901960784313725),\n",
       " (0.8, 0.9215686274509803, 0.7725490196078432),\n",
       " (0.8705882352941177, 0.796078431372549, 0.8941176470588236),\n",
       " (0.996078431372549, 0.8509803921568627, 0.6509803921568628),\n",
       " (1.0, 1.0, 0.8),\n",
       " (0.8980392156862745, 0.8470588235294118, 0.7411764705882353),\n",
       " (0.9921568627450981, 0.8549019607843137, 0.9254901960784314),\n",
       " (0.9490196078431372, 0.9490196078431372, 0.9490196078431372),\n",
       " (0.984313725490196, 0.7058823529411765, 0.6823529411764706),\n",
       " (0.7019607843137254, 0.803921568627451, 0.8901960784313725),\n",
       " (0.8, 0.9215686274509803, 0.7725490196078432),\n",
       " (0.8705882352941177, 0.796078431372549, 0.8941176470588236),\n",
       " (0.996078431372549, 0.8509803921568627, 0.6509803921568628),\n",
       " (1.0, 1.0, 0.8),\n",
       " (0.8980392156862745, 0.8470588235294118, 0.7411764705882353),\n",
       " (0.9921568627450981, 0.8549019607843137, 0.9254901960784314),\n",
       " (0.9490196078431372, 0.9490196078431372, 0.9490196078431372),\n",
       " (0.984313725490196, 0.7058823529411765, 0.6823529411764706),\n",
       " (0.7019607843137254, 0.803921568627451, 0.8901960784313725)]"
      ]
     },
     "metadata": {},
     "output_type": "display_data"
    },
    {
     "name": "stdout",
     "output_type": "stream",
     "text": [
      "Pastel1_r\n"
     ]
    },
    {
     "data": {
      "text/html": [
       "<svg  width=\"1100\" height=\"55\"><rect x=\"0\" y=\"0\" width=\"55\" height=\"55\" style=\"fill:#f2f2f2;stroke-width:2;stroke:rgb(255,255,255)\"/><rect x=\"55\" y=\"0\" width=\"55\" height=\"55\" style=\"fill:#f2f2f2;stroke-width:2;stroke:rgb(255,255,255)\"/><rect x=\"110\" y=\"0\" width=\"55\" height=\"55\" style=\"fill:#fddaec;stroke-width:2;stroke:rgb(255,255,255)\"/><rect x=\"165\" y=\"0\" width=\"55\" height=\"55\" style=\"fill:#fddaec;stroke-width:2;stroke:rgb(255,255,255)\"/><rect x=\"220\" y=\"0\" width=\"55\" height=\"55\" style=\"fill:#e5d8bd;stroke-width:2;stroke:rgb(255,255,255)\"/><rect x=\"275\" y=\"0\" width=\"55\" height=\"55\" style=\"fill:#e5d8bd;stroke-width:2;stroke:rgb(255,255,255)\"/><rect x=\"330\" y=\"0\" width=\"55\" height=\"55\" style=\"fill:#ffffcc;stroke-width:2;stroke:rgb(255,255,255)\"/><rect x=\"385\" y=\"0\" width=\"55\" height=\"55\" style=\"fill:#ffffcc;stroke-width:2;stroke:rgb(255,255,255)\"/><rect x=\"440\" y=\"0\" width=\"55\" height=\"55\" style=\"fill:#ffffcc;stroke-width:2;stroke:rgb(255,255,255)\"/><rect x=\"495\" y=\"0\" width=\"55\" height=\"55\" style=\"fill:#fed9a6;stroke-width:2;stroke:rgb(255,255,255)\"/><rect x=\"550\" y=\"0\" width=\"55\" height=\"55\" style=\"fill:#fed9a6;stroke-width:2;stroke:rgb(255,255,255)\"/><rect x=\"605\" y=\"0\" width=\"55\" height=\"55\" style=\"fill:#decbe4;stroke-width:2;stroke:rgb(255,255,255)\"/><rect x=\"660\" y=\"0\" width=\"55\" height=\"55\" style=\"fill:#decbe4;stroke-width:2;stroke:rgb(255,255,255)\"/><rect x=\"715\" y=\"0\" width=\"55\" height=\"55\" style=\"fill:#ccebc5;stroke-width:2;stroke:rgb(255,255,255)\"/><rect x=\"770\" y=\"0\" width=\"55\" height=\"55\" style=\"fill:#ccebc5;stroke-width:2;stroke:rgb(255,255,255)\"/><rect x=\"825\" y=\"0\" width=\"55\" height=\"55\" style=\"fill:#ccebc5;stroke-width:2;stroke:rgb(255,255,255)\"/><rect x=\"880\" y=\"0\" width=\"55\" height=\"55\" style=\"fill:#b3cde3;stroke-width:2;stroke:rgb(255,255,255)\"/><rect x=\"935\" y=\"0\" width=\"55\" height=\"55\" style=\"fill:#b3cde3;stroke-width:2;stroke:rgb(255,255,255)\"/><rect x=\"990\" y=\"0\" width=\"55\" height=\"55\" style=\"fill:#fbb4ae;stroke-width:2;stroke:rgb(255,255,255)\"/><rect x=\"1045\" y=\"0\" width=\"55\" height=\"55\" style=\"fill:#fbb4ae;stroke-width:2;stroke:rgb(255,255,255)\"/></svg>"
      ],
      "text/plain": [
       "[(0.9490196078431372, 0.9490196078431372, 0.9490196078431372),\n",
       " (0.9490196078431372, 0.9490196078431372, 0.9490196078431372),\n",
       " (0.9921568627450981, 0.8549019607843137, 0.9254901960784314),\n",
       " (0.9921568627450981, 0.8549019607843137, 0.9254901960784314),\n",
       " (0.8980392156862745, 0.8470588235294118, 0.7411764705882353),\n",
       " (0.8980392156862745, 0.8470588235294118, 0.7411764705882353),\n",
       " (1.0, 1.0, 0.8),\n",
       " (1.0, 1.0, 0.8),\n",
       " (1.0, 1.0, 0.8),\n",
       " (0.996078431372549, 0.8509803921568627, 0.6509803921568628),\n",
       " (0.996078431372549, 0.8509803921568627, 0.6509803921568628),\n",
       " (0.8705882352941177, 0.796078431372549, 0.8941176470588236),\n",
       " (0.8705882352941177, 0.796078431372549, 0.8941176470588236),\n",
       " (0.8, 0.9215686274509803, 0.7725490196078432),\n",
       " (0.8, 0.9215686274509803, 0.7725490196078432),\n",
       " (0.8, 0.9215686274509803, 0.7725490196078432),\n",
       " (0.7019607843137254, 0.803921568627451, 0.8901960784313725),\n",
       " (0.7019607843137254, 0.803921568627451, 0.8901960784313725),\n",
       " (0.984313725490196, 0.7058823529411765, 0.6823529411764706),\n",
       " (0.984313725490196, 0.7058823529411765, 0.6823529411764706)]"
      ]
     },
     "metadata": {},
     "output_type": "display_data"
    },
    {
     "name": "stdout",
     "output_type": "stream",
     "text": [
      "Pastel2\n"
     ]
    },
    {
     "data": {
      "text/html": [
       "<svg  width=\"1100\" height=\"55\"><rect x=\"0\" y=\"0\" width=\"55\" height=\"55\" style=\"fill:#b3e2cd;stroke-width:2;stroke:rgb(255,255,255)\"/><rect x=\"55\" y=\"0\" width=\"55\" height=\"55\" style=\"fill:#fdcdac;stroke-width:2;stroke:rgb(255,255,255)\"/><rect x=\"110\" y=\"0\" width=\"55\" height=\"55\" style=\"fill:#cbd5e8;stroke-width:2;stroke:rgb(255,255,255)\"/><rect x=\"165\" y=\"0\" width=\"55\" height=\"55\" style=\"fill:#f4cae4;stroke-width:2;stroke:rgb(255,255,255)\"/><rect x=\"220\" y=\"0\" width=\"55\" height=\"55\" style=\"fill:#e6f5c9;stroke-width:2;stroke:rgb(255,255,255)\"/><rect x=\"275\" y=\"0\" width=\"55\" height=\"55\" style=\"fill:#fff2ae;stroke-width:2;stroke:rgb(255,255,255)\"/><rect x=\"330\" y=\"0\" width=\"55\" height=\"55\" style=\"fill:#f1e2cc;stroke-width:2;stroke:rgb(255,255,255)\"/><rect x=\"385\" y=\"0\" width=\"55\" height=\"55\" style=\"fill:#cccccc;stroke-width:2;stroke:rgb(255,255,255)\"/><rect x=\"440\" y=\"0\" width=\"55\" height=\"55\" style=\"fill:#b3e2cd;stroke-width:2;stroke:rgb(255,255,255)\"/><rect x=\"495\" y=\"0\" width=\"55\" height=\"55\" style=\"fill:#fdcdac;stroke-width:2;stroke:rgb(255,255,255)\"/><rect x=\"550\" y=\"0\" width=\"55\" height=\"55\" style=\"fill:#cbd5e8;stroke-width:2;stroke:rgb(255,255,255)\"/><rect x=\"605\" y=\"0\" width=\"55\" height=\"55\" style=\"fill:#f4cae4;stroke-width:2;stroke:rgb(255,255,255)\"/><rect x=\"660\" y=\"0\" width=\"55\" height=\"55\" style=\"fill:#e6f5c9;stroke-width:2;stroke:rgb(255,255,255)\"/><rect x=\"715\" y=\"0\" width=\"55\" height=\"55\" style=\"fill:#fff2ae;stroke-width:2;stroke:rgb(255,255,255)\"/><rect x=\"770\" y=\"0\" width=\"55\" height=\"55\" style=\"fill:#f1e2cc;stroke-width:2;stroke:rgb(255,255,255)\"/><rect x=\"825\" y=\"0\" width=\"55\" height=\"55\" style=\"fill:#cccccc;stroke-width:2;stroke:rgb(255,255,255)\"/><rect x=\"880\" y=\"0\" width=\"55\" height=\"55\" style=\"fill:#b3e2cd;stroke-width:2;stroke:rgb(255,255,255)\"/><rect x=\"935\" y=\"0\" width=\"55\" height=\"55\" style=\"fill:#fdcdac;stroke-width:2;stroke:rgb(255,255,255)\"/><rect x=\"990\" y=\"0\" width=\"55\" height=\"55\" style=\"fill:#cbd5e8;stroke-width:2;stroke:rgb(255,255,255)\"/><rect x=\"1045\" y=\"0\" width=\"55\" height=\"55\" style=\"fill:#f4cae4;stroke-width:2;stroke:rgb(255,255,255)\"/></svg>"
      ],
      "text/plain": [
       "[(0.7019607843137254, 0.8862745098039215, 0.803921568627451),\n",
       " (0.9921568627450981, 0.803921568627451, 0.6745098039215687),\n",
       " (0.796078431372549, 0.8352941176470589, 0.9098039215686274),\n",
       " (0.9568627450980393, 0.792156862745098, 0.8941176470588236),\n",
       " (0.9019607843137255, 0.9607843137254902, 0.788235294117647),\n",
       " (1.0, 0.9490196078431372, 0.6823529411764706),\n",
       " (0.9450980392156862, 0.8862745098039215, 0.8),\n",
       " (0.8, 0.8, 0.8),\n",
       " (0.7019607843137254, 0.8862745098039215, 0.803921568627451),\n",
       " (0.9921568627450981, 0.803921568627451, 0.6745098039215687),\n",
       " (0.796078431372549, 0.8352941176470589, 0.9098039215686274),\n",
       " (0.9568627450980393, 0.792156862745098, 0.8941176470588236),\n",
       " (0.9019607843137255, 0.9607843137254902, 0.788235294117647),\n",
       " (1.0, 0.9490196078431372, 0.6823529411764706),\n",
       " (0.9450980392156862, 0.8862745098039215, 0.8),\n",
       " (0.8, 0.8, 0.8),\n",
       " (0.7019607843137254, 0.8862745098039215, 0.803921568627451),\n",
       " (0.9921568627450981, 0.803921568627451, 0.6745098039215687),\n",
       " (0.796078431372549, 0.8352941176470589, 0.9098039215686274),\n",
       " (0.9568627450980393, 0.792156862745098, 0.8941176470588236)]"
      ]
     },
     "metadata": {},
     "output_type": "display_data"
    },
    {
     "name": "stdout",
     "output_type": "stream",
     "text": [
      "Pastel2_r\n"
     ]
    },
    {
     "data": {
      "text/html": [
       "<svg  width=\"1100\" height=\"55\"><rect x=\"0\" y=\"0\" width=\"55\" height=\"55\" style=\"fill:#cccccc;stroke-width:2;stroke:rgb(255,255,255)\"/><rect x=\"55\" y=\"0\" width=\"55\" height=\"55\" style=\"fill:#cccccc;stroke-width:2;stroke:rgb(255,255,255)\"/><rect x=\"110\" y=\"0\" width=\"55\" height=\"55\" style=\"fill:#f1e2cc;stroke-width:2;stroke:rgb(255,255,255)\"/><rect x=\"165\" y=\"0\" width=\"55\" height=\"55\" style=\"fill:#f1e2cc;stroke-width:2;stroke:rgb(255,255,255)\"/><rect x=\"220\" y=\"0\" width=\"55\" height=\"55\" style=\"fill:#f1e2cc;stroke-width:2;stroke:rgb(255,255,255)\"/><rect x=\"275\" y=\"0\" width=\"55\" height=\"55\" style=\"fill:#fff2ae;stroke-width:2;stroke:rgb(255,255,255)\"/><rect x=\"330\" y=\"0\" width=\"55\" height=\"55\" style=\"fill:#fff2ae;stroke-width:2;stroke:rgb(255,255,255)\"/><rect x=\"385\" y=\"0\" width=\"55\" height=\"55\" style=\"fill:#e6f5c9;stroke-width:2;stroke:rgb(255,255,255)\"/><rect x=\"440\" y=\"0\" width=\"55\" height=\"55\" style=\"fill:#e6f5c9;stroke-width:2;stroke:rgb(255,255,255)\"/><rect x=\"495\" y=\"0\" width=\"55\" height=\"55\" style=\"fill:#e6f5c9;stroke-width:2;stroke:rgb(255,255,255)\"/><rect x=\"550\" y=\"0\" width=\"55\" height=\"55\" style=\"fill:#f4cae4;stroke-width:2;stroke:rgb(255,255,255)\"/><rect x=\"605\" y=\"0\" width=\"55\" height=\"55\" style=\"fill:#f4cae4;stroke-width:2;stroke:rgb(255,255,255)\"/><rect x=\"660\" y=\"0\" width=\"55\" height=\"55\" style=\"fill:#f4cae4;stroke-width:2;stroke:rgb(255,255,255)\"/><rect x=\"715\" y=\"0\" width=\"55\" height=\"55\" style=\"fill:#cbd5e8;stroke-width:2;stroke:rgb(255,255,255)\"/><rect x=\"770\" y=\"0\" width=\"55\" height=\"55\" style=\"fill:#cbd5e8;stroke-width:2;stroke:rgb(255,255,255)\"/><rect x=\"825\" y=\"0\" width=\"55\" height=\"55\" style=\"fill:#fdcdac;stroke-width:2;stroke:rgb(255,255,255)\"/><rect x=\"880\" y=\"0\" width=\"55\" height=\"55\" style=\"fill:#fdcdac;stroke-width:2;stroke:rgb(255,255,255)\"/><rect x=\"935\" y=\"0\" width=\"55\" height=\"55\" style=\"fill:#fdcdac;stroke-width:2;stroke:rgb(255,255,255)\"/><rect x=\"990\" y=\"0\" width=\"55\" height=\"55\" style=\"fill:#b3e2cd;stroke-width:2;stroke:rgb(255,255,255)\"/><rect x=\"1045\" y=\"0\" width=\"55\" height=\"55\" style=\"fill:#b3e2cd;stroke-width:2;stroke:rgb(255,255,255)\"/></svg>"
      ],
      "text/plain": [
       "[(0.8, 0.8, 0.8),\n",
       " (0.8, 0.8, 0.8),\n",
       " (0.9450980392156862, 0.8862745098039215, 0.8),\n",
       " (0.9450980392156862, 0.8862745098039215, 0.8),\n",
       " (0.9450980392156862, 0.8862745098039215, 0.8),\n",
       " (1.0, 0.9490196078431372, 0.6823529411764706),\n",
       " (1.0, 0.9490196078431372, 0.6823529411764706),\n",
       " (0.9019607843137255, 0.9607843137254902, 0.788235294117647),\n",
       " (0.9019607843137255, 0.9607843137254902, 0.788235294117647),\n",
       " (0.9019607843137255, 0.9607843137254902, 0.788235294117647),\n",
       " (0.9568627450980393, 0.792156862745098, 0.8941176470588236),\n",
       " (0.9568627450980393, 0.792156862745098, 0.8941176470588236),\n",
       " (0.9568627450980393, 0.792156862745098, 0.8941176470588236),\n",
       " (0.796078431372549, 0.8352941176470589, 0.9098039215686274),\n",
       " (0.796078431372549, 0.8352941176470589, 0.9098039215686274),\n",
       " (0.9921568627450981, 0.803921568627451, 0.6745098039215687),\n",
       " (0.9921568627450981, 0.803921568627451, 0.6745098039215687),\n",
       " (0.9921568627450981, 0.803921568627451, 0.6745098039215687),\n",
       " (0.7019607843137254, 0.8862745098039215, 0.803921568627451),\n",
       " (0.7019607843137254, 0.8862745098039215, 0.803921568627451)]"
      ]
     },
     "metadata": {},
     "output_type": "display_data"
    },
    {
     "name": "stdout",
     "output_type": "stream",
     "text": [
      "PiYG\n"
     ]
    },
    {
     "data": {
      "text/html": [
       "<svg  width=\"1100\" height=\"55\"><rect x=\"0\" y=\"0\" width=\"55\" height=\"55\" style=\"fill:#a80d66;stroke-width:2;stroke:rgb(255,255,255)\"/><rect x=\"55\" y=\"0\" width=\"55\" height=\"55\" style=\"fill:#c2197a;stroke-width:2;stroke:rgb(255,255,255)\"/><rect x=\"110\" y=\"0\" width=\"55\" height=\"55\" style=\"fill:#cf4191;stroke-width:2;stroke:rgb(255,255,255)\"/><rect x=\"165\" y=\"0\" width=\"55\" height=\"55\" style=\"fill:#db6ca8;stroke-width:2;stroke:rgb(255,255,255)\"/><rect x=\"220\" y=\"0\" width=\"55\" height=\"55\" style=\"fill:#e58dbe;stroke-width:2;stroke:rgb(255,255,255)\"/><rect x=\"275\" y=\"0\" width=\"55\" height=\"55\" style=\"fill:#eeadd4;stroke-width:2;stroke:rgb(255,255,255)\"/><rect x=\"330\" y=\"0\" width=\"55\" height=\"55\" style=\"fill:#f5c4e1;stroke-width:2;stroke:rgb(255,255,255)\"/><rect x=\"385\" y=\"0\" width=\"55\" height=\"55\" style=\"fill:#fbd8eb;stroke-width:2;stroke:rgb(255,255,255)\"/><rect x=\"440\" y=\"0\" width=\"55\" height=\"55\" style=\"fill:#fbe6f1;stroke-width:2;stroke:rgb(255,255,255)\"/><rect x=\"495\" y=\"0\" width=\"55\" height=\"55\" style=\"fill:#f9f1f5;stroke-width:2;stroke:rgb(255,255,255)\"/><rect x=\"550\" y=\"0\" width=\"55\" height=\"55\" style=\"fill:#f3f6ed;stroke-width:2;stroke:rgb(255,255,255)\"/><rect x=\"605\" y=\"0\" width=\"55\" height=\"55\" style=\"fill:#ebf6db;stroke-width:2;stroke:rgb(255,255,255)\"/><rect x=\"660\" y=\"0\" width=\"55\" height=\"55\" style=\"fill:#ddf1c1;stroke-width:2;stroke:rgb(255,255,255)\"/><rect x=\"715\" y=\"0\" width=\"55\" height=\"55\" style=\"fill:#c7e89f;stroke-width:2;stroke:rgb(255,255,255)\"/><rect x=\"770\" y=\"0\" width=\"55\" height=\"55\" style=\"fill:#b0dc7d;stroke-width:2;stroke:rgb(255,255,255)\"/><rect x=\"825\" y=\"0\" width=\"55\" height=\"55\" style=\"fill:#93c959;stroke-width:2;stroke:rgb(255,255,255)\"/><rect x=\"880\" y=\"0\" width=\"55\" height=\"55\" style=\"fill:#79b73d;stroke-width:2;stroke:rgb(255,255,255)\"/><rect x=\"935\" y=\"0\" width=\"55\" height=\"55\" style=\"fill:#62a32e;stroke-width:2;stroke:rgb(255,255,255)\"/><rect x=\"990\" y=\"0\" width=\"55\" height=\"55\" style=\"fill:#4b8f21;stroke-width:2;stroke:rgb(255,255,255)\"/><rect x=\"1045\" y=\"0\" width=\"55\" height=\"55\" style=\"fill:#397a1d;stroke-width:2;stroke:rgb(255,255,255)\"/></svg>"
      ],
      "text/plain": [
       "[(0.6583621683967705, 0.05190311418685121, 0.40092272202998847),\n",
       " (0.7598615916955018, 0.09988465974625144, 0.4802768166089965),\n",
       " (0.8129181084198386, 0.2544405997693195, 0.5693194925028835),\n",
       " (0.8590542099192618, 0.42422145328719724, 0.6597462514417531),\n",
       " (0.8968858131487889, 0.5538638985005766, 0.7432525951557093),\n",
       " (0.9348712033833141, 0.6798154555940021, 0.8312187620146096),\n",
       " (0.9607843137254902, 0.7686274509803921, 0.8823529411764706),\n",
       " (0.9829296424452134, 0.8461361014994233, 0.9211072664359862),\n",
       " (0.9856978085351787, 0.9031910803537101, 0.9458669742406767),\n",
       " (0.9746251441753172, 0.9456362937331796, 0.9606305267204921),\n",
       " (0.9516339869281046, 0.9666282199154171, 0.9296424452133795),\n",
       " (0.9202614379084968, 0.9629373317954633, 0.8576701268742792),\n",
       " (0.8665897731641679, 0.9454056132256825, 0.7587850826605155),\n",
       " (0.781699346405229, 0.9084967320261439, 0.6222222222222226),\n",
       " (0.6908881199538641, 0.8624375240292197, 0.4883506343713959),\n",
       " (0.5769319492502885, 0.7884659746251442, 0.35040369088812007),\n",
       " (0.4749711649365629, 0.7178777393310266, 0.24013840830449826),\n",
       " (0.38269896193771624, 0.6403690888119954, 0.18108419838523643),\n",
       " (0.29319492502883504, 0.5619377162629757, 0.12756632064590542),\n",
       " (0.22306805074971164, 0.4770472895040369, 0.11280276816608997)]"
      ]
     },
     "metadata": {},
     "output_type": "display_data"
    },
    {
     "name": "stdout",
     "output_type": "stream",
     "text": [
      "PiYG_r\n"
     ]
    },
    {
     "data": {
      "text/html": [
       "<svg  width=\"1100\" height=\"55\"><rect x=\"0\" y=\"0\" width=\"55\" height=\"55\" style=\"fill:#397a1d;stroke-width:2;stroke:rgb(255,255,255)\"/><rect x=\"55\" y=\"0\" width=\"55\" height=\"55\" style=\"fill:#4b8f21;stroke-width:2;stroke:rgb(255,255,255)\"/><rect x=\"110\" y=\"0\" width=\"55\" height=\"55\" style=\"fill:#62a32e;stroke-width:2;stroke:rgb(255,255,255)\"/><rect x=\"165\" y=\"0\" width=\"55\" height=\"55\" style=\"fill:#79b73d;stroke-width:2;stroke:rgb(255,255,255)\"/><rect x=\"220\" y=\"0\" width=\"55\" height=\"55\" style=\"fill:#93c959;stroke-width:2;stroke:rgb(255,255,255)\"/><rect x=\"275\" y=\"0\" width=\"55\" height=\"55\" style=\"fill:#b0dc7d;stroke-width:2;stroke:rgb(255,255,255)\"/><rect x=\"330\" y=\"0\" width=\"55\" height=\"55\" style=\"fill:#c7e89f;stroke-width:2;stroke:rgb(255,255,255)\"/><rect x=\"385\" y=\"0\" width=\"55\" height=\"55\" style=\"fill:#ddf1c1;stroke-width:2;stroke:rgb(255,255,255)\"/><rect x=\"440\" y=\"0\" width=\"55\" height=\"55\" style=\"fill:#ebf6db;stroke-width:2;stroke:rgb(255,255,255)\"/><rect x=\"495\" y=\"0\" width=\"55\" height=\"55\" style=\"fill:#f3f6ed;stroke-width:2;stroke:rgb(255,255,255)\"/><rect x=\"550\" y=\"0\" width=\"55\" height=\"55\" style=\"fill:#f9f1f5;stroke-width:2;stroke:rgb(255,255,255)\"/><rect x=\"605\" y=\"0\" width=\"55\" height=\"55\" style=\"fill:#fbe6f1;stroke-width:2;stroke:rgb(255,255,255)\"/><rect x=\"660\" y=\"0\" width=\"55\" height=\"55\" style=\"fill:#fbd8eb;stroke-width:2;stroke:rgb(255,255,255)\"/><rect x=\"715\" y=\"0\" width=\"55\" height=\"55\" style=\"fill:#f5c4e1;stroke-width:2;stroke:rgb(255,255,255)\"/><rect x=\"770\" y=\"0\" width=\"55\" height=\"55\" style=\"fill:#eeadd4;stroke-width:2;stroke:rgb(255,255,255)\"/><rect x=\"825\" y=\"0\" width=\"55\" height=\"55\" style=\"fill:#e58dbe;stroke-width:2;stroke:rgb(255,255,255)\"/><rect x=\"880\" y=\"0\" width=\"55\" height=\"55\" style=\"fill:#db6ca8;stroke-width:2;stroke:rgb(255,255,255)\"/><rect x=\"935\" y=\"0\" width=\"55\" height=\"55\" style=\"fill:#cf4191;stroke-width:2;stroke:rgb(255,255,255)\"/><rect x=\"990\" y=\"0\" width=\"55\" height=\"55\" style=\"fill:#c2197a;stroke-width:2;stroke:rgb(255,255,255)\"/><rect x=\"1045\" y=\"0\" width=\"55\" height=\"55\" style=\"fill:#a80d66;stroke-width:2;stroke:rgb(255,255,255)\"/></svg>"
      ],
      "text/plain": [
       "[(0.22306805074971164, 0.4770472895040369, 0.11280276816608997),\n",
       " (0.29319492502883504, 0.5619377162629757, 0.12756632064590545),\n",
       " (0.38269896193771635, 0.6403690888119955, 0.18108419838523648),\n",
       " (0.474971164936563, 0.7178777393310266, 0.24013840830449834),\n",
       " (0.5769319492502885, 0.7884659746251442, 0.3504036908881201),\n",
       " (0.690888119953864, 0.8624375240292196, 0.4883506343713958),\n",
       " (0.7816993464052289, 0.9084967320261439, 0.6222222222222225),\n",
       " (0.8665897731641679, 0.9454056132256825, 0.7587850826605155),\n",
       " (0.9202614379084968, 0.9629373317954633, 0.8576701268742792),\n",
       " (0.9516339869281046, 0.9666282199154171, 0.9296424452133795),\n",
       " (0.9746251441753172, 0.9456362937331796, 0.9606305267204921),\n",
       " (0.9856978085351789, 0.9031910803537101, 0.9458669742406767),\n",
       " (0.9829296424452134, 0.8461361014994233, 0.9211072664359862),\n",
       " (0.9607843137254902, 0.7686274509803922, 0.8823529411764706),\n",
       " (0.9348712033833141, 0.6798154555940024, 0.8312187620146098),\n",
       " (0.8968858131487889, 0.5538638985005767, 0.7432525951557093),\n",
       " (0.8590542099192618, 0.42422145328719724, 0.6597462514417531),\n",
       " (0.8129181084198386, 0.2544405997693195, 0.5693194925028835),\n",
       " (0.7598615916955017, 0.09988465974625144, 0.4802768166089965),\n",
       " (0.6583621683967705, 0.05190311418685121, 0.40092272202998847)]"
      ]
     },
     "metadata": {},
     "output_type": "display_data"
    },
    {
     "name": "stdout",
     "output_type": "stream",
     "text": [
      "PuBu\n"
     ]
    },
    {
     "data": {
      "text/html": [
       "<svg  width=\"1100\" height=\"55\"><rect x=\"0\" y=\"0\" width=\"55\" height=\"55\" style=\"fill:#f8f1f8;stroke-width:2;stroke:rgb(255,255,255)\"/><rect x=\"55\" y=\"0\" width=\"55\" height=\"55\" style=\"fill:#f1ebf4;stroke-width:2;stroke:rgb(255,255,255)\"/><rect x=\"110\" y=\"0\" width=\"55\" height=\"55\" style=\"fill:#e8e4f0;stroke-width:2;stroke:rgb(255,255,255)\"/><rect x=\"165\" y=\"0\" width=\"55\" height=\"55\" style=\"fill:#dedcec;stroke-width:2;stroke:rgb(255,255,255)\"/><rect x=\"220\" y=\"0\" width=\"55\" height=\"55\" style=\"fill:#d3d4e7;stroke-width:2;stroke:rgb(255,255,255)\"/><rect x=\"275\" y=\"0\" width=\"55\" height=\"55\" style=\"fill:#c4cbe3;stroke-width:2;stroke:rgb(255,255,255)\"/><rect x=\"330\" y=\"0\" width=\"55\" height=\"55\" style=\"fill:#b4c4df;stroke-width:2;stroke:rgb(255,255,255)\"/><rect x=\"385\" y=\"0\" width=\"55\" height=\"55\" style=\"fill:#a4bcda;stroke-width:2;stroke:rgb(255,255,255)\"/><rect x=\"440\" y=\"0\" width=\"55\" height=\"55\" style=\"fill:#91b5d6;stroke-width:2;stroke:rgb(255,255,255)\"/><rect x=\"495\" y=\"0\" width=\"55\" height=\"55\" style=\"fill:#7eadd1;stroke-width:2;stroke:rgb(255,255,255)\"/><rect x=\"550\" y=\"0\" width=\"55\" height=\"55\" style=\"fill:#67a4cc;stroke-width:2;stroke:rgb(255,255,255)\"/><rect x=\"605\" y=\"0\" width=\"55\" height=\"55\" style=\"fill:#509ac6;stroke-width:2;stroke:rgb(255,255,255)\"/><rect x=\"660\" y=\"0\" width=\"55\" height=\"55\" style=\"fill:#3991c1;stroke-width:2;stroke:rgb(255,255,255)\"/><rect x=\"715\" y=\"0\" width=\"55\" height=\"55\" style=\"fill:#2685bb;stroke-width:2;stroke:rgb(255,255,255)\"/><rect x=\"770\" y=\"0\" width=\"55\" height=\"55\" style=\"fill:#1379b5;stroke-width:2;stroke:rgb(255,255,255)\"/><rect x=\"825\" y=\"0\" width=\"55\" height=\"55\" style=\"fill:#056dac;stroke-width:2;stroke:rgb(255,255,255)\"/><rect x=\"880\" y=\"0\" width=\"55\" height=\"55\" style=\"fill:#05659f;stroke-width:2;stroke:rgb(255,255,255)\"/><rect x=\"935\" y=\"0\" width=\"55\" height=\"55\" style=\"fill:#045d92;stroke-width:2;stroke:rgb(255,255,255)\"/><rect x=\"990\" y=\"0\" width=\"55\" height=\"55\" style=\"fill:#045280;stroke-width:2;stroke:rgb(255,255,255)\"/><rect x=\"1045\" y=\"0\" width=\"55\" height=\"55\" style=\"fill:#03456c;stroke-width:2;stroke:rgb(255,255,255)\"/></svg>"
      ],
      "text/plain": [
       "[(0.9719492502883507, 0.9450057670126875, 0.9710265282583621),\n",
       " (0.9438985005767013, 0.9213840830449826, 0.9577393310265282),\n",
       " (0.9112802768166091, 0.894717416378316, 0.9429296424452134),\n",
       " (0.8699423298731257, 0.8622376009227221, 0.9252133794694348),\n",
       " (0.8286043829296424, 0.829757785467128, 0.9074971164936563),\n",
       " (0.7678892733564013, 0.7968473663975394, 0.889442522106882),\n",
       " (0.7058823529411765, 0.7673202614379085, 0.873202614379085),\n",
       " (0.6425221068819685, 0.7377931564782776, 0.8567935409457901),\n",
       " (0.5687043444828912, 0.7082660515186466, 0.8390772779700115),\n",
       " (0.4948865820838139, 0.6787389465590158, 0.821361014994233),\n",
       " (0.4053210303729335, 0.6427527873894656, 0.7997693194925029),\n",
       " (0.31378700499807766, 0.6058439061899269, 0.7776239907727797),\n",
       " (0.22225297962322182, 0.5689350249903883, 0.7554786620530565),\n",
       " (0.1477124183006536, 0.5228758169934641, 0.7320261437908496),\n",
       " (0.07537101114955785, 0.4756324490580546, 0.7084044598231449),\n",
       " (0.01914648212226067, 0.4290657439446367, 0.6740484429065744),\n",
       " (0.017670126874279123, 0.39658592848904267, 0.6223760092272204),\n",
       " (0.01619377162629758, 0.3641061130334487, 0.5707035755478662),\n",
       " (0.013748558246828142, 0.32, 0.5015916955017301),\n",
       " (0.010795847750865051, 0.2698039215686274, 0.4233448673587082)]"
      ]
     },
     "metadata": {},
     "output_type": "display_data"
    },
    {
     "name": "stdout",
     "output_type": "stream",
     "text": [
      "PuBuGn\n"
     ]
    },
    {
     "data": {
      "text/html": [
       "<svg  width=\"1100\" height=\"55\"><rect x=\"0\" y=\"0\" width=\"55\" height=\"55\" style=\"fill:#f8eff7;stroke-width:2;stroke:rgb(255,255,255)\"/><rect x=\"55\" y=\"0\" width=\"55\" height=\"55\" style=\"fill:#f1e7f3;stroke-width:2;stroke:rgb(255,255,255)\"/><rect x=\"110\" y=\"0\" width=\"55\" height=\"55\" style=\"fill:#e8e0ef;stroke-width:2;stroke:rgb(255,255,255)\"/><rect x=\"165\" y=\"0\" width=\"55\" height=\"55\" style=\"fill:#ded9eb;stroke-width:2;stroke:rgb(255,255,255)\"/><rect x=\"220\" y=\"0\" width=\"55\" height=\"55\" style=\"fill:#d3d3e7;stroke-width:2;stroke:rgb(255,255,255)\"/><rect x=\"275\" y=\"0\" width=\"55\" height=\"55\" style=\"fill:#c4cbe3;stroke-width:2;stroke:rgb(255,255,255)\"/><rect x=\"330\" y=\"0\" width=\"55\" height=\"55\" style=\"fill:#b4c4df;stroke-width:2;stroke:rgb(255,255,255)\"/><rect x=\"385\" y=\"0\" width=\"55\" height=\"55\" style=\"fill:#a3bcda;stroke-width:2;stroke:rgb(255,255,255)\"/><rect x=\"440\" y=\"0\" width=\"55\" height=\"55\" style=\"fill:#8cb5d6;stroke-width:2;stroke:rgb(255,255,255)\"/><rect x=\"495\" y=\"0\" width=\"55\" height=\"55\" style=\"fill:#74add1;stroke-width:2;stroke:rgb(255,255,255)\"/><rect x=\"550\" y=\"0\" width=\"55\" height=\"55\" style=\"fill:#5da4cc;stroke-width:2;stroke:rgb(255,255,255)\"/><rect x=\"605\" y=\"0\" width=\"55\" height=\"55\" style=\"fill:#4b9ac6;stroke-width:2;stroke:rgb(255,255,255)\"/><rect x=\"660\" y=\"0\" width=\"55\" height=\"55\" style=\"fill:#3891c1;stroke-width:2;stroke:rgb(255,255,255)\"/><rect x=\"715\" y=\"0\" width=\"55\" height=\"55\" style=\"fill:#258bae;stroke-width:2;stroke:rgb(255,255,255)\"/><rect x=\"770\" y=\"0\" width=\"55\" height=\"55\" style=\"fill:#11859a;stroke-width:2;stroke:rgb(255,255,255)\"/><rect x=\"825\" y=\"0\" width=\"55\" height=\"55\" style=\"fill:#027f84;stroke-width:2;stroke:rgb(255,255,255)\"/><rect x=\"880\" y=\"0\" width=\"55\" height=\"55\" style=\"fill:#027772;stroke-width:2;stroke:rgb(255,255,255)\"/><rect x=\"935\" y=\"0\" width=\"55\" height=\"55\" style=\"fill:#016f5f;stroke-width:2;stroke:rgb(255,255,255)\"/><rect x=\"990\" y=\"0\" width=\"55\" height=\"55\" style=\"fill:#016350;stroke-width:2;stroke:rgb(255,255,255)\"/><rect x=\"1045\" y=\"0\" width=\"55\" height=\"55\" style=\"fill:#015443;stroke-width:2;stroke:rgb(255,255,255)\"/></svg>"
      ],
      "text/plain": [
       "[(0.9719492502883507, 0.9376239907727797, 0.9680738177623991),\n",
       " (0.9438985005767013, 0.9066205305651672, 0.951833910034602),\n",
       " (0.9112802768166091, 0.8776470588235293, 0.9361014994232987),\n",
       " (0.8699423298731257, 0.8525490196078431, 0.9213379469434833),\n",
       " (0.8286043829296424, 0.8274509803921568, 0.9065743944636678),\n",
       " (0.7678892733564013, 0.7968473663975394, 0.889442522106882),\n",
       " (0.7058823529411765, 0.7673202614379085, 0.873202614379085),\n",
       " (0.640322952710496, 0.7377931564782776, 0.8567935409457901),\n",
       " (0.5473125720876586, 0.7082660515186466, 0.8390772779700115),\n",
       " (0.45430219146482126, 0.6787389465590158, 0.821361014994233),\n",
       " (0.3647366397539408, 0.6427527873894656, 0.7997693194925029),\n",
       " (0.29239523260284506, 0.6058439061899269, 0.7776239907727797),\n",
       " (0.2200538254517493, 0.5689350249903883, 0.7554786620530565),\n",
       " (0.1437908496732026, 0.5450980392156862, 0.6823529411764706),\n",
       " (0.06702037677816225, 0.522952710495963, 0.6026297577854671),\n",
       " (0.007381776239907728, 0.4961937716262976, 0.5185697808535178),\n",
       " (0.005905420991926182, 0.4651903114186851, 0.44622837370242213),\n",
       " (0.004429065743944636, 0.43418685121107264, 0.37388696655132636),\n",
       " (0.00392156862745098, 0.3867128027681661, 0.3151095732410611),\n",
       " (0.00392156862745098, 0.3306113033448674, 0.263437139561707)]"
      ]
     },
     "metadata": {},
     "output_type": "display_data"
    },
    {
     "name": "stdout",
     "output_type": "stream",
     "text": [
      "PuBuGn_r\n"
     ]
    },
    {
     "data": {
      "text/html": [
       "<svg  width=\"1100\" height=\"55\"><rect x=\"0\" y=\"0\" width=\"55\" height=\"55\" style=\"fill:#015443;stroke-width:2;stroke:rgb(255,255,255)\"/><rect x=\"55\" y=\"0\" width=\"55\" height=\"55\" style=\"fill:#016350;stroke-width:2;stroke:rgb(255,255,255)\"/><rect x=\"110\" y=\"0\" width=\"55\" height=\"55\" style=\"fill:#016f5f;stroke-width:2;stroke:rgb(255,255,255)\"/><rect x=\"165\" y=\"0\" width=\"55\" height=\"55\" style=\"fill:#027772;stroke-width:2;stroke:rgb(255,255,255)\"/><rect x=\"220\" y=\"0\" width=\"55\" height=\"55\" style=\"fill:#027f84;stroke-width:2;stroke:rgb(255,255,255)\"/><rect x=\"275\" y=\"0\" width=\"55\" height=\"55\" style=\"fill:#11859a;stroke-width:2;stroke:rgb(255,255,255)\"/><rect x=\"330\" y=\"0\" width=\"55\" height=\"55\" style=\"fill:#258bae;stroke-width:2;stroke:rgb(255,255,255)\"/><rect x=\"385\" y=\"0\" width=\"55\" height=\"55\" style=\"fill:#3891c1;stroke-width:2;stroke:rgb(255,255,255)\"/><rect x=\"440\" y=\"0\" width=\"55\" height=\"55\" style=\"fill:#4b9ac6;stroke-width:2;stroke:rgb(255,255,255)\"/><rect x=\"495\" y=\"0\" width=\"55\" height=\"55\" style=\"fill:#5da4cc;stroke-width:2;stroke:rgb(255,255,255)\"/><rect x=\"550\" y=\"0\" width=\"55\" height=\"55\" style=\"fill:#74add1;stroke-width:2;stroke:rgb(255,255,255)\"/><rect x=\"605\" y=\"0\" width=\"55\" height=\"55\" style=\"fill:#8cb5d6;stroke-width:2;stroke:rgb(255,255,255)\"/><rect x=\"660\" y=\"0\" width=\"55\" height=\"55\" style=\"fill:#a3bcda;stroke-width:2;stroke:rgb(255,255,255)\"/><rect x=\"715\" y=\"0\" width=\"55\" height=\"55\" style=\"fill:#b4c4df;stroke-width:2;stroke:rgb(255,255,255)\"/><rect x=\"770\" y=\"0\" width=\"55\" height=\"55\" style=\"fill:#c4cbe3;stroke-width:2;stroke:rgb(255,255,255)\"/><rect x=\"825\" y=\"0\" width=\"55\" height=\"55\" style=\"fill:#d3d3e7;stroke-width:2;stroke:rgb(255,255,255)\"/><rect x=\"880\" y=\"0\" width=\"55\" height=\"55\" style=\"fill:#ded9eb;stroke-width:2;stroke:rgb(255,255,255)\"/><rect x=\"935\" y=\"0\" width=\"55\" height=\"55\" style=\"fill:#e8e0ef;stroke-width:2;stroke:rgb(255,255,255)\"/><rect x=\"990\" y=\"0\" width=\"55\" height=\"55\" style=\"fill:#f1e7f3;stroke-width:2;stroke:rgb(255,255,255)\"/><rect x=\"1045\" y=\"0\" width=\"55\" height=\"55\" style=\"fill:#f8eff7;stroke-width:2;stroke:rgb(255,255,255)\"/></svg>"
      ],
      "text/plain": [
       "[(0.00392156862745098, 0.3306113033448674, 0.263437139561707),\n",
       " (0.00392156862745098, 0.3867128027681661, 0.31510957324106115),\n",
       " (0.004429065743944636, 0.43418685121107264, 0.3738869665513264),\n",
       " (0.005905420991926182, 0.4651903114186851, 0.44622837370242213),\n",
       " (0.007381776239907727, 0.4961937716262976, 0.5185697808535179),\n",
       " (0.06702037677816225, 0.522952710495963, 0.6026297577854671),\n",
       " (0.1437908496732026, 0.5450980392156862, 0.6823529411764706),\n",
       " (0.2200538254517493, 0.5689350249903883, 0.7554786620530565),\n",
       " (0.29239523260284506, 0.6058439061899269, 0.7776239907727797),\n",
       " (0.3647366397539408, 0.6427527873894656, 0.7997693194925029),\n",
       " (0.4543021914648212, 0.6787389465590158, 0.821361014994233),\n",
       " (0.5473125720876586, 0.7082660515186467, 0.8390772779700115),\n",
       " (0.640322952710496, 0.7377931564782776, 0.8567935409457901),\n",
       " (0.7058823529411765, 0.7673202614379085, 0.873202614379085),\n",
       " (0.7678892733564013, 0.7968473663975394, 0.889442522106882),\n",
       " (0.8286043829296424, 0.8274509803921568, 0.9065743944636678),\n",
       " (0.8699423298731257, 0.8525490196078431, 0.9213379469434833),\n",
       " (0.9112802768166091, 0.8776470588235293, 0.9361014994232987),\n",
       " (0.9438985005767013, 0.9066205305651672, 0.951833910034602),\n",
       " (0.9719492502883507, 0.9376239907727797, 0.9680738177623991)]"
      ]
     },
     "metadata": {},
     "output_type": "display_data"
    },
    {
     "name": "stdout",
     "output_type": "stream",
     "text": [
      "PuBu_r\n"
     ]
    },
    {
     "data": {
      "text/html": [
       "<svg  width=\"1100\" height=\"55\"><rect x=\"0\" y=\"0\" width=\"55\" height=\"55\" style=\"fill:#03456c;stroke-width:2;stroke:rgb(255,255,255)\"/><rect x=\"55\" y=\"0\" width=\"55\" height=\"55\" style=\"fill:#045280;stroke-width:2;stroke:rgb(255,255,255)\"/><rect x=\"110\" y=\"0\" width=\"55\" height=\"55\" style=\"fill:#045d92;stroke-width:2;stroke:rgb(255,255,255)\"/><rect x=\"165\" y=\"0\" width=\"55\" height=\"55\" style=\"fill:#05659f;stroke-width:2;stroke:rgb(255,255,255)\"/><rect x=\"220\" y=\"0\" width=\"55\" height=\"55\" style=\"fill:#056dac;stroke-width:2;stroke:rgb(255,255,255)\"/><rect x=\"275\" y=\"0\" width=\"55\" height=\"55\" style=\"fill:#1379b5;stroke-width:2;stroke:rgb(255,255,255)\"/><rect x=\"330\" y=\"0\" width=\"55\" height=\"55\" style=\"fill:#2685bb;stroke-width:2;stroke:rgb(255,255,255)\"/><rect x=\"385\" y=\"0\" width=\"55\" height=\"55\" style=\"fill:#3991c1;stroke-width:2;stroke:rgb(255,255,255)\"/><rect x=\"440\" y=\"0\" width=\"55\" height=\"55\" style=\"fill:#509ac6;stroke-width:2;stroke:rgb(255,255,255)\"/><rect x=\"495\" y=\"0\" width=\"55\" height=\"55\" style=\"fill:#67a4cc;stroke-width:2;stroke:rgb(255,255,255)\"/><rect x=\"550\" y=\"0\" width=\"55\" height=\"55\" style=\"fill:#7eadd1;stroke-width:2;stroke:rgb(255,255,255)\"/><rect x=\"605\" y=\"0\" width=\"55\" height=\"55\" style=\"fill:#91b5d6;stroke-width:2;stroke:rgb(255,255,255)\"/><rect x=\"660\" y=\"0\" width=\"55\" height=\"55\" style=\"fill:#a4bcda;stroke-width:2;stroke:rgb(255,255,255)\"/><rect x=\"715\" y=\"0\" width=\"55\" height=\"55\" style=\"fill:#b4c4df;stroke-width:2;stroke:rgb(255,255,255)\"/><rect x=\"770\" y=\"0\" width=\"55\" height=\"55\" style=\"fill:#c4cbe3;stroke-width:2;stroke:rgb(255,255,255)\"/><rect x=\"825\" y=\"0\" width=\"55\" height=\"55\" style=\"fill:#d3d4e7;stroke-width:2;stroke:rgb(255,255,255)\"/><rect x=\"880\" y=\"0\" width=\"55\" height=\"55\" style=\"fill:#dedcec;stroke-width:2;stroke:rgb(255,255,255)\"/><rect x=\"935\" y=\"0\" width=\"55\" height=\"55\" style=\"fill:#e8e4f0;stroke-width:2;stroke:rgb(255,255,255)\"/><rect x=\"990\" y=\"0\" width=\"55\" height=\"55\" style=\"fill:#f1ebf4;stroke-width:2;stroke:rgb(255,255,255)\"/><rect x=\"1045\" y=\"0\" width=\"55\" height=\"55\" style=\"fill:#f8f1f8;stroke-width:2;stroke:rgb(255,255,255)\"/></svg>"
      ],
      "text/plain": [
       "[(0.010795847750865051, 0.2698039215686275, 0.4233448673587082),\n",
       " (0.013748558246828142, 0.32, 0.5015916955017301),\n",
       " (0.01619377162629758, 0.3641061130334487, 0.5707035755478662),\n",
       " (0.017670126874279123, 0.39658592848904267, 0.6223760092272204),\n",
       " (0.01914648212226067, 0.4290657439446367, 0.6740484429065744),\n",
       " (0.07537101114955785, 0.4756324490580546, 0.7084044598231449),\n",
       " (0.14771241830065357, 0.5228758169934641, 0.7320261437908496),\n",
       " (0.22225297962322182, 0.5689350249903883, 0.7554786620530565),\n",
       " (0.31378700499807766, 0.6058439061899269, 0.7776239907727797),\n",
       " (0.40532103037293343, 0.6427527873894656, 0.7997693194925029),\n",
       " (0.4948865820838139, 0.6787389465590158, 0.821361014994233),\n",
       " (0.5687043444828912, 0.7082660515186467, 0.8390772779700115),\n",
       " (0.6425221068819685, 0.7377931564782776, 0.8567935409457901),\n",
       " (0.7058823529411765, 0.7673202614379085, 0.873202614379085),\n",
       " (0.7678892733564013, 0.7968473663975394, 0.889442522106882),\n",
       " (0.8286043829296424, 0.829757785467128, 0.9074971164936563),\n",
       " (0.8699423298731257, 0.8622376009227221, 0.9252133794694348),\n",
       " (0.9112802768166091, 0.894717416378316, 0.9429296424452134),\n",
       " (0.9438985005767013, 0.9213840830449826, 0.9577393310265282),\n",
       " (0.9719492502883507, 0.9450057670126875, 0.9710265282583621)]"
      ]
     },
     "metadata": {},
     "output_type": "display_data"
    },
    {
     "name": "stdout",
     "output_type": "stream",
     "text": [
      "PuOr\n"
     ]
    },
    {
     "data": {
      "text/html": [
       "<svg  width=\"1100\" height=\"55\"><rect x=\"0\" y=\"0\" width=\"55\" height=\"55\" style=\"fill:#974907;stroke-width:2;stroke:rgb(255,255,255)\"/><rect x=\"55\" y=\"0\" width=\"55\" height=\"55\" style=\"fill:#b05606;stroke-width:2;stroke:rgb(255,255,255)\"/><rect x=\"110\" y=\"0\" width=\"55\" height=\"55\" style=\"fill:#c6690c;stroke-width:2;stroke:rgb(255,255,255)\"/><rect x=\"165\" y=\"0\" width=\"55\" height=\"55\" style=\"fill:#db7d12;stroke-width:2;stroke:rgb(255,255,255)\"/><rect x=\"220\" y=\"0\" width=\"55\" height=\"55\" style=\"fill:#ea9530;stroke-width:2;stroke:rgb(255,255,255)\"/><rect x=\"275\" y=\"0\" width=\"55\" height=\"55\" style=\"fill:#f9b158;stroke-width:2;stroke:rgb(255,255,255)\"/><rect x=\"330\" y=\"0\" width=\"55\" height=\"55\" style=\"fill:#fdc57f;stroke-width:2;stroke:rgb(255,255,255)\"/><rect x=\"385\" y=\"0\" width=\"55\" height=\"55\" style=\"fill:#fed8a6;stroke-width:2;stroke:rgb(255,255,255)\"/><rect x=\"440\" y=\"0\" width=\"55\" height=\"55\" style=\"fill:#fce6c8;stroke-width:2;stroke:rgb(255,255,255)\"/><rect x=\"495\" y=\"0\" width=\"55\" height=\"55\" style=\"fill:#f9f1e6;stroke-width:2;stroke:rgb(255,255,255)\"/><rect x=\"550\" y=\"0\" width=\"55\" height=\"55\" style=\"fill:#eff0f4;stroke-width:2;stroke:rgb(255,255,255)\"/><rect x=\"605\" y=\"0\" width=\"55\" height=\"55\" style=\"fill:#e1e2ee;stroke-width:2;stroke:rgb(255,255,255)\"/><rect x=\"660\" y=\"0\" width=\"55\" height=\"55\" style=\"fill:#d1d1e6;stroke-width:2;stroke:rgb(255,255,255)\"/><rect x=\"715\" y=\"0\" width=\"55\" height=\"55\" style=\"fill:#bfbbda;stroke-width:2;stroke:rgb(255,255,255)\"/><rect x=\"770\" y=\"0\" width=\"55\" height=\"55\" style=\"fill:#aba3cd;stroke-width:2;stroke:rgb(255,255,255)\"/><rect x=\"825\" y=\"0\" width=\"55\" height=\"55\" style=\"fill:#9287b9;stroke-width:2;stroke:rgb(255,255,255)\"/><rect x=\"880\" y=\"0\" width=\"55\" height=\"55\" style=\"fill:#7b6aa8;stroke-width:2;stroke:rgb(255,255,255)\"/><rect x=\"935\" y=\"0\" width=\"55\" height=\"55\" style=\"fill:#664697;stroke-width:2;stroke:rgb(255,255,255)\"/><rect x=\"990\" y=\"0\" width=\"55\" height=\"55\" style=\"fill:#522584;stroke-width:2;stroke:rgb(255,255,255)\"/><rect x=\"1045\" y=\"0\" width=\"55\" height=\"55\" style=\"fill:#3f1268;stroke-width:2;stroke:rgb(255,255,255)\"/></svg>"
      ],
      "text/plain": [
       "[(0.5940023068050749, 0.2848904267589389, 0.027681660899653977),\n",
       " (0.6899653979238753, 0.33840830449826986, 0.02399077277970011),\n",
       " (0.7746251441753171, 0.4129181084198385, 0.04613610149942329),\n",
       " (0.8576701268742791, 0.49042675893886967, 0.07197231833910034),\n",
       " (0.9185697808535178, 0.5845444059976931, 0.18777393310265278),\n",
       " (0.9765474817377932, 0.6925028835063436, 0.34571318723567845),\n",
       " (0.9934640522875817, 0.7738562091503267, 0.49673202614379075),\n",
       " (0.9953094963475586, 0.847673971549404, 0.6499038831218762),\n",
       " (0.9885428681276432, 0.9031910803537101, 0.7836985774702038),\n",
       " (0.9756247597078047, 0.9456362937331796, 0.9036524413687044),\n",
       " (0.9376393694732795, 0.9396386005382545, 0.9566320645905421),\n",
       " (0.8804306036139947, 0.8861207227989235, 0.9344867358708189),\n",
       " (0.8178392925797772, 0.8187620146097656, 0.9023452518262207),\n",
       " (0.7477124183006537, 0.7320261437908498, 0.8562091503267975),\n",
       " (0.671126489811611, 0.6404459823144946, 0.8030757400999616),\n",
       " (0.5711649365628605, 0.5284890426758939, 0.7271049596309113),\n",
       " (0.48166089965397924, 0.415916955017301, 0.6579008073817763),\n",
       " (0.40046136101499424, 0.2756632064590542, 0.5914648212226067),\n",
       " (0.32041522491349483, 0.1439446366782007, 0.5192618223760093),\n",
       " (0.24844290657439447, 0.07197231833910035, 0.4066897347174164)]"
      ]
     },
     "metadata": {},
     "output_type": "display_data"
    },
    {
     "name": "stdout",
     "output_type": "stream",
     "text": [
      "PuOr_r\n"
     ]
    },
    {
     "data": {
      "text/html": [
       "<svg  width=\"1100\" height=\"55\"><rect x=\"0\" y=\"0\" width=\"55\" height=\"55\" style=\"fill:#3f1268;stroke-width:2;stroke:rgb(255,255,255)\"/><rect x=\"55\" y=\"0\" width=\"55\" height=\"55\" style=\"fill:#522584;stroke-width:2;stroke:rgb(255,255,255)\"/><rect x=\"110\" y=\"0\" width=\"55\" height=\"55\" style=\"fill:#664697;stroke-width:2;stroke:rgb(255,255,255)\"/><rect x=\"165\" y=\"0\" width=\"55\" height=\"55\" style=\"fill:#7b6aa8;stroke-width:2;stroke:rgb(255,255,255)\"/><rect x=\"220\" y=\"0\" width=\"55\" height=\"55\" style=\"fill:#9287b9;stroke-width:2;stroke:rgb(255,255,255)\"/><rect x=\"275\" y=\"0\" width=\"55\" height=\"55\" style=\"fill:#aba3cd;stroke-width:2;stroke:rgb(255,255,255)\"/><rect x=\"330\" y=\"0\" width=\"55\" height=\"55\" style=\"fill:#bfbbda;stroke-width:2;stroke:rgb(255,255,255)\"/><rect x=\"385\" y=\"0\" width=\"55\" height=\"55\" style=\"fill:#d1d1e6;stroke-width:2;stroke:rgb(255,255,255)\"/><rect x=\"440\" y=\"0\" width=\"55\" height=\"55\" style=\"fill:#e1e2ee;stroke-width:2;stroke:rgb(255,255,255)\"/><rect x=\"495\" y=\"0\" width=\"55\" height=\"55\" style=\"fill:#eff0f4;stroke-width:2;stroke:rgb(255,255,255)\"/><rect x=\"550\" y=\"0\" width=\"55\" height=\"55\" style=\"fill:#f9f1e6;stroke-width:2;stroke:rgb(255,255,255)\"/><rect x=\"605\" y=\"0\" width=\"55\" height=\"55\" style=\"fill:#fce6c8;stroke-width:2;stroke:rgb(255,255,255)\"/><rect x=\"660\" y=\"0\" width=\"55\" height=\"55\" style=\"fill:#fed8a6;stroke-width:2;stroke:rgb(255,255,255)\"/><rect x=\"715\" y=\"0\" width=\"55\" height=\"55\" style=\"fill:#fdc57f;stroke-width:2;stroke:rgb(255,255,255)\"/><rect x=\"770\" y=\"0\" width=\"55\" height=\"55\" style=\"fill:#f9b158;stroke-width:2;stroke:rgb(255,255,255)\"/><rect x=\"825\" y=\"0\" width=\"55\" height=\"55\" style=\"fill:#ea9530;stroke-width:2;stroke:rgb(255,255,255)\"/><rect x=\"880\" y=\"0\" width=\"55\" height=\"55\" style=\"fill:#db7d12;stroke-width:2;stroke:rgb(255,255,255)\"/><rect x=\"935\" y=\"0\" width=\"55\" height=\"55\" style=\"fill:#c6690c;stroke-width:2;stroke:rgb(255,255,255)\"/><rect x=\"990\" y=\"0\" width=\"55\" height=\"55\" style=\"fill:#b05606;stroke-width:2;stroke:rgb(255,255,255)\"/><rect x=\"1045\" y=\"0\" width=\"55\" height=\"55\" style=\"fill:#974907;stroke-width:2;stroke:rgb(255,255,255)\"/></svg>"
      ],
      "text/plain": [
       "[(0.2484429065743945, 0.07197231833910037, 0.40668973471741643),\n",
       " (0.32041522491349483, 0.14394463667820073, 0.5192618223760093),\n",
       " (0.4004613610149943, 0.27566320645905434, 0.5914648212226068),\n",
       " (0.4816608996539793, 0.4159169550173012, 0.6579008073817764),\n",
       " (0.5711649365628605, 0.528489042675894, 0.7271049596309113),\n",
       " (0.6711264898116109, 0.6404459823144946, 0.8030757400999616),\n",
       " (0.7477124183006537, 0.7320261437908497, 0.8562091503267975),\n",
       " (0.8178392925797772, 0.8187620146097656, 0.9023452518262207),\n",
       " (0.8804306036139947, 0.8861207227989235, 0.9344867358708189),\n",
       " (0.9376393694732795, 0.9396386005382545, 0.9566320645905421),\n",
       " (0.9756247597078047, 0.9456362937331796, 0.9036524413687044),\n",
       " (0.9885428681276432, 0.9031910803537101, 0.7836985774702038),\n",
       " (0.9953094963475586, 0.847673971549404, 0.6499038831218762),\n",
       " (0.9934640522875817, 0.7738562091503268, 0.49673202614379086),\n",
       " (0.9765474817377932, 0.6925028835063437, 0.34571318723567857),\n",
       " (0.9185697808535178, 0.5845444059976932, 0.1877739331026528),\n",
       " (0.8576701268742791, 0.4904267589388696, 0.07197231833910034),\n",
       " (0.7746251441753171, 0.4129181084198385, 0.0461361014994233),\n",
       " (0.6899653979238753, 0.3384083044982699, 0.02399077277970011),\n",
       " (0.5940023068050749, 0.2848904267589389, 0.027681660899653977)]"
      ]
     },
     "metadata": {},
     "output_type": "display_data"
    },
    {
     "name": "stdout",
     "output_type": "stream",
     "text": [
      "PuRd\n"
     ]
    },
    {
     "data": {
      "text/html": [
       "<svg  width=\"1100\" height=\"55\"><rect x=\"0\" y=\"0\" width=\"55\" height=\"55\" style=\"fill:#f1edf5;stroke-width:2;stroke:rgb(255,255,255)\"/><rect x=\"55\" y=\"0\" width=\"55\" height=\"55\" style=\"fill:#ebe6f1;stroke-width:2;stroke:rgb(255,255,255)\"/><rect x=\"110\" y=\"0\" width=\"55\" height=\"55\" style=\"fill:#e5dcec;stroke-width:2;stroke:rgb(255,255,255)\"/><rect x=\"165\" y=\"0\" width=\"55\" height=\"55\" style=\"fill:#ddcde4;stroke-width:2;stroke:rgb(255,255,255)\"/><rect x=\"220\" y=\"0\" width=\"55\" height=\"55\" style=\"fill:#d6bedc;stroke-width:2;stroke:rgb(255,255,255)\"/><rect x=\"275\" y=\"0\" width=\"55\" height=\"55\" style=\"fill:#d1aed4;stroke-width:2;stroke:rgb(255,255,255)\"/><rect x=\"330\" y=\"0\" width=\"55\" height=\"55\" style=\"fill:#cda0cd;stroke-width:2;stroke:rgb(255,255,255)\"/><rect x=\"385\" y=\"0\" width=\"55\" height=\"55\" style=\"fill:#ca92c6;stroke-width:2;stroke:rgb(255,255,255)\"/><rect x=\"440\" y=\"0\" width=\"55\" height=\"55\" style=\"fill:#d280bd;stroke-width:2;stroke:rgb(255,255,255)\"/><rect x=\"495\" y=\"0\" width=\"55\" height=\"55\" style=\"fill:#db6fb5;stroke-width:2;stroke:rgb(255,255,255)\"/><rect x=\"550\" y=\"0\" width=\"55\" height=\"55\" style=\"fill:#e159a8;stroke-width:2;stroke:rgb(255,255,255)\"/><rect x=\"605\" y=\"0\" width=\"55\" height=\"55\" style=\"fill:#e4429a;stroke-width:2;stroke:rgb(255,255,255)\"/><rect x=\"660\" y=\"0\" width=\"55\" height=\"55\" style=\"fill:#e72c8c;stroke-width:2;stroke:rgb(255,255,255)\"/><rect x=\"715\" y=\"0\" width=\"55\" height=\"55\" style=\"fill:#df2179;stroke-width:2;stroke:rgb(255,255,255)\"/><rect x=\"770\" y=\"0\" width=\"55\" height=\"55\" style=\"fill:#d51965;stroke-width:2;stroke:rgb(255,255,255)\"/><rect x=\"825\" y=\"0\" width=\"55\" height=\"55\" style=\"fill:#c81054;stroke-width:2;stroke:rgb(255,255,255)\"/><rect x=\"880\" y=\"0\" width=\"55\" height=\"55\" style=\"fill:#b3094d;stroke-width:2;stroke:rgb(255,255,255)\"/><rect x=\"935\" y=\"0\" width=\"55\" height=\"55\" style=\"fill:#9f0245;stroke-width:2;stroke:rgb(255,255,255)\"/><rect x=\"990\" y=\"0\" width=\"55\" height=\"55\" style=\"fill:#8c003a;stroke-width:2;stroke:rgb(255,255,255)\"/><rect x=\"1045\" y=\"0\" width=\"55\" height=\"55\" style=\"fill:#79002d;stroke-width:2;stroke:rgb(255,255,255)\"/></svg>"
      ],
      "text/plain": [
       "[(0.9450057670126875, 0.9288119953863898, 0.9617070357554787),\n",
       " (0.9213840830449826, 0.9007612456747405, 0.9469434832756632),\n",
       " (0.896239907727797, 0.8620530565167243, 0.9265974625144175),\n",
       " (0.8681891580161477, 0.8029988465974625, 0.8955940023068051),\n",
       " (0.8401384083044983, 0.7439446366782007, 0.8645905420991926),\n",
       " (0.8188542868127644, 0.6833833141099577, 0.833279507881584),\n",
       " (0.8026143790849674, 0.6287581699346405, 0.8052287581699347),\n",
       " (0.7919569396386005, 0.5724413687043445, 0.7765013456362937),\n",
       " (0.8244367550941946, 0.5030526720492119, 0.7425451749327182),\n",
       " (0.8569165705497885, 0.4336639753940792, 0.7085890042291426),\n",
       " (0.8809073433294886, 0.3480968858131488, 0.6598077662437524),\n",
       " (0.892718185313341, 0.25951557093425603, 0.6037062668204536),\n",
       " (0.9045290272971934, 0.17093425605536333, 0.5476047673971549),\n",
       " (0.873202614379085, 0.13071895424836602, 0.47320261437908495),\n",
       " (0.8362937331795464, 0.09676278354479047, 0.3964321414840446),\n",
       " (0.7829296424452133, 0.06228373702422145, 0.3284890426758939),\n",
       " (0.70320645905421, 0.03570934256055363, 0.3004382929642445),\n",
       " (0.6234832756632065, 0.009134948096885809, 0.2723875432525952),\n",
       " (0.5486043829296424, 0.0, 0.2278662053056517),\n",
       " (0.4762629757785467, 0.0, 0.17471741637831606)]"
      ]
     },
     "metadata": {},
     "output_type": "display_data"
    },
    {
     "name": "stdout",
     "output_type": "stream",
     "text": [
      "PuRd_r\n"
     ]
    },
    {
     "data": {
      "text/html": [
       "<svg  width=\"1100\" height=\"55\"><rect x=\"0\" y=\"0\" width=\"55\" height=\"55\" style=\"fill:#79002d;stroke-width:2;stroke:rgb(255,255,255)\"/><rect x=\"55\" y=\"0\" width=\"55\" height=\"55\" style=\"fill:#8c003a;stroke-width:2;stroke:rgb(255,255,255)\"/><rect x=\"110\" y=\"0\" width=\"55\" height=\"55\" style=\"fill:#9f0245;stroke-width:2;stroke:rgb(255,255,255)\"/><rect x=\"165\" y=\"0\" width=\"55\" height=\"55\" style=\"fill:#b3094d;stroke-width:2;stroke:rgb(255,255,255)\"/><rect x=\"220\" y=\"0\" width=\"55\" height=\"55\" style=\"fill:#c81054;stroke-width:2;stroke:rgb(255,255,255)\"/><rect x=\"275\" y=\"0\" width=\"55\" height=\"55\" style=\"fill:#d51965;stroke-width:2;stroke:rgb(255,255,255)\"/><rect x=\"330\" y=\"0\" width=\"55\" height=\"55\" style=\"fill:#df2179;stroke-width:2;stroke:rgb(255,255,255)\"/><rect x=\"385\" y=\"0\" width=\"55\" height=\"55\" style=\"fill:#e72c8c;stroke-width:2;stroke:rgb(255,255,255)\"/><rect x=\"440\" y=\"0\" width=\"55\" height=\"55\" style=\"fill:#e4429a;stroke-width:2;stroke:rgb(255,255,255)\"/><rect x=\"495\" y=\"0\" width=\"55\" height=\"55\" style=\"fill:#e159a8;stroke-width:2;stroke:rgb(255,255,255)\"/><rect x=\"550\" y=\"0\" width=\"55\" height=\"55\" style=\"fill:#db6fb5;stroke-width:2;stroke:rgb(255,255,255)\"/><rect x=\"605\" y=\"0\" width=\"55\" height=\"55\" style=\"fill:#d280bd;stroke-width:2;stroke:rgb(255,255,255)\"/><rect x=\"660\" y=\"0\" width=\"55\" height=\"55\" style=\"fill:#ca92c6;stroke-width:2;stroke:rgb(255,255,255)\"/><rect x=\"715\" y=\"0\" width=\"55\" height=\"55\" style=\"fill:#cda0cd;stroke-width:2;stroke:rgb(255,255,255)\"/><rect x=\"770\" y=\"0\" width=\"55\" height=\"55\" style=\"fill:#d1aed4;stroke-width:2;stroke:rgb(255,255,255)\"/><rect x=\"825\" y=\"0\" width=\"55\" height=\"55\" style=\"fill:#d6bedc;stroke-width:2;stroke:rgb(255,255,255)\"/><rect x=\"880\" y=\"0\" width=\"55\" height=\"55\" style=\"fill:#ddcde4;stroke-width:2;stroke:rgb(255,255,255)\"/><rect x=\"935\" y=\"0\" width=\"55\" height=\"55\" style=\"fill:#e5dcec;stroke-width:2;stroke:rgb(255,255,255)\"/><rect x=\"990\" y=\"0\" width=\"55\" height=\"55\" style=\"fill:#ebe6f1;stroke-width:2;stroke:rgb(255,255,255)\"/><rect x=\"1045\" y=\"0\" width=\"55\" height=\"55\" style=\"fill:#f1edf5;stroke-width:2;stroke:rgb(255,255,255)\"/></svg>"
      ],
      "text/plain": [
       "[(0.4762629757785467, 0.0, 0.17471741637831603),\n",
       " (0.5486043829296424, 0.0, 0.22786620530565166),\n",
       " (0.6234832756632065, 0.009134948096885814, 0.2723875432525952),\n",
       " (0.70320645905421, 0.03570934256055363, 0.3004382929642445),\n",
       " (0.7829296424452133, 0.06228373702422145, 0.3284890426758939),\n",
       " (0.8362937331795464, 0.09676278354479047, 0.3964321414840446),\n",
       " (0.873202614379085, 0.13071895424836602, 0.47320261437908495),\n",
       " (0.9045290272971934, 0.17093425605536333, 0.5476047673971549),\n",
       " (0.892718185313341, 0.25951557093425603, 0.6037062668204537),\n",
       " (0.8809073433294886, 0.3480968858131488, 0.6598077662437524),\n",
       " (0.8569165705497885, 0.4336639753940792, 0.7085890042291426),\n",
       " (0.8244367550941946, 0.5030526720492119, 0.7425451749327182),\n",
       " (0.7919569396386005, 0.5724413687043446, 0.7765013456362937),\n",
       " (0.8026143790849674, 0.6287581699346405, 0.8052287581699347),\n",
       " (0.8188542868127644, 0.6833833141099577, 0.833279507881584),\n",
       " (0.8401384083044983, 0.7439446366782007, 0.8645905420991926),\n",
       " (0.8681891580161477, 0.8029988465974625, 0.8955940023068051),\n",
       " (0.896239907727797, 0.8620530565167244, 0.9265974625144175),\n",
       " (0.9213840830449826, 0.9007612456747405, 0.9469434832756632),\n",
       " (0.9450057670126875, 0.9288119953863898, 0.9617070357554787)]"
      ]
     },
     "metadata": {},
     "output_type": "display_data"
    },
    {
     "name": "stdout",
     "output_type": "stream",
     "text": [
      "Purples\n"
     ]
    },
    {
     "data": {
      "text/html": [
       "<svg  width=\"1100\" height=\"55\"><rect x=\"0\" y=\"0\" width=\"55\" height=\"55\" style=\"fill:#f7f6fa;stroke-width:2;stroke:rgb(255,255,255)\"/><rect x=\"55\" y=\"0\" width=\"55\" height=\"55\" style=\"fill:#f2f0f7;stroke-width:2;stroke:rgb(255,255,255)\"/><rect x=\"110\" y=\"0\" width=\"55\" height=\"55\" style=\"fill:#ecebf4;stroke-width:2;stroke:rgb(255,255,255)\"/><rect x=\"165\" y=\"0\" width=\"55\" height=\"55\" style=\"fill:#e4e3f0;stroke-width:2;stroke:rgb(255,255,255)\"/><rect x=\"220\" y=\"0\" width=\"55\" height=\"55\" style=\"fill:#dcdcec;stroke-width:2;stroke:rgb(255,255,255)\"/><rect x=\"275\" y=\"0\" width=\"55\" height=\"55\" style=\"fill:#d1d2e7;stroke-width:2;stroke:rgb(255,255,255)\"/><rect x=\"330\" y=\"0\" width=\"55\" height=\"55\" style=\"fill:#c6c7e1;stroke-width:2;stroke:rgb(255,255,255)\"/><rect x=\"385\" y=\"0\" width=\"55\" height=\"55\" style=\"fill:#bbbbdb;stroke-width:2;stroke:rgb(255,255,255)\"/><rect x=\"440\" y=\"0\" width=\"55\" height=\"55\" style=\"fill:#afaed4;stroke-width:2;stroke:rgb(255,255,255)\"/><rect x=\"495\" y=\"0\" width=\"55\" height=\"55\" style=\"fill:#a4a1cc;stroke-width:2;stroke:rgb(255,255,255)\"/><rect x=\"550\" y=\"0\" width=\"55\" height=\"55\" style=\"fill:#9894c5;stroke-width:2;stroke:rgb(255,255,255)\"/><rect x=\"605\" y=\"0\" width=\"55\" height=\"55\" style=\"fill:#8d89c0;stroke-width:2;stroke:rgb(255,255,255)\"/><rect x=\"660\" y=\"0\" width=\"55\" height=\"55\" style=\"fill:#817ebb;stroke-width:2;stroke:rgb(255,255,255)\"/><rect x=\"715\" y=\"0\" width=\"55\" height=\"55\" style=\"fill:#796eb2;stroke-width:2;stroke:rgb(255,255,255)\"/><rect x=\"770\" y=\"0\" width=\"55\" height=\"55\" style=\"fill:#705eaa;stroke-width:2;stroke:rgb(255,255,255)\"/><rect x=\"825\" y=\"0\" width=\"55\" height=\"55\" style=\"fill:#674ca1;stroke-width:2;stroke:rgb(255,255,255)\"/><rect x=\"880\" y=\"0\" width=\"55\" height=\"55\" style=\"fill:#5f3c99;stroke-width:2;stroke:rgb(255,255,255)\"/><rect x=\"935\" y=\"0\" width=\"55\" height=\"55\" style=\"fill:#572c92;stroke-width:2;stroke:rgb(255,255,255)\"/><rect x=\"990\" y=\"0\" width=\"55\" height=\"55\" style=\"fill:#4f1d8b;stroke-width:2;stroke:rgb(255,255,255)\"/><rect x=\"1045\" y=\"0\" width=\"55\" height=\"55\" style=\"fill:#470f84;stroke-width:2;stroke:rgb(255,255,255)\"/></svg>"
      ],
      "text/plain": [
       "[(0.969042675893887, 0.9636447520184545, 0.9803460207612457),\n",
       " (0.9498500576701269, 0.9429757785467128, 0.9685351787773934),\n",
       " (0.9265974625144175, 0.919769319492503, 0.9557093425605536),\n",
       " (0.8955940023068051, 0.8917185697808535, 0.9409457900807382),\n",
       " (0.8645905420991926, 0.8636678200692041, 0.9261822376009227),\n",
       " (0.8207612456747405, 0.8218992695117262, 0.9044982698961938),\n",
       " (0.7764705882352941, 0.7790849673202614, 0.8823529411764706),\n",
       " (0.7321799307958478, 0.7352556708958093, 0.859361783929258),\n",
       " (0.6878892733564014, 0.6835832372164552, 0.829834678969627),\n",
       " (0.6435986159169551, 0.631910803537101, 0.8003075740099962),\n",
       " (0.5956170703575548, 0.5807304882737409, 0.773118031526336),\n",
       " (0.5513264129181085, 0.537916186082276, 0.7524490580545944),\n",
       " (0.5070357554786621, 0.4951018838908112, 0.7317800845828527),\n",
       " (0.47320261437908495, 0.43267973856209146, 0.6993464052287581),\n",
       " (0.440722798923491, 0.36772010765090346, 0.6653902345251825),\n",
       " (0.4055363321799308, 0.2982698961937716, 0.6299884659746251),\n",
       " (0.3730565167243368, 0.2362629757785467, 0.6004613610149943),\n",
       " (0.3405767012687428, 0.1742560553633218, 0.5709342560553633),\n",
       " (0.30906574394463665, 0.11515570934256056, 0.5433448673587082),\n",
       " (0.27806228373702424, 0.05757785467128028, 0.5167704728950404)]"
      ]
     },
     "metadata": {},
     "output_type": "display_data"
    },
    {
     "name": "stdout",
     "output_type": "stream",
     "text": [
      "Purples_r\n"
     ]
    },
    {
     "data": {
      "text/html": [
       "<svg  width=\"1100\" height=\"55\"><rect x=\"0\" y=\"0\" width=\"55\" height=\"55\" style=\"fill:#470f84;stroke-width:2;stroke:rgb(255,255,255)\"/><rect x=\"55\" y=\"0\" width=\"55\" height=\"55\" style=\"fill:#4f1d8b;stroke-width:2;stroke:rgb(255,255,255)\"/><rect x=\"110\" y=\"0\" width=\"55\" height=\"55\" style=\"fill:#572c92;stroke-width:2;stroke:rgb(255,255,255)\"/><rect x=\"165\" y=\"0\" width=\"55\" height=\"55\" style=\"fill:#5f3c99;stroke-width:2;stroke:rgb(255,255,255)\"/><rect x=\"220\" y=\"0\" width=\"55\" height=\"55\" style=\"fill:#674ca1;stroke-width:2;stroke:rgb(255,255,255)\"/><rect x=\"275\" y=\"0\" width=\"55\" height=\"55\" style=\"fill:#705eaa;stroke-width:2;stroke:rgb(255,255,255)\"/><rect x=\"330\" y=\"0\" width=\"55\" height=\"55\" style=\"fill:#796eb2;stroke-width:2;stroke:rgb(255,255,255)\"/><rect x=\"385\" y=\"0\" width=\"55\" height=\"55\" style=\"fill:#817ebb;stroke-width:2;stroke:rgb(255,255,255)\"/><rect x=\"440\" y=\"0\" width=\"55\" height=\"55\" style=\"fill:#8d89c0;stroke-width:2;stroke:rgb(255,255,255)\"/><rect x=\"495\" y=\"0\" width=\"55\" height=\"55\" style=\"fill:#9894c5;stroke-width:2;stroke:rgb(255,255,255)\"/><rect x=\"550\" y=\"0\" width=\"55\" height=\"55\" style=\"fill:#a4a1cc;stroke-width:2;stroke:rgb(255,255,255)\"/><rect x=\"605\" y=\"0\" width=\"55\" height=\"55\" style=\"fill:#afaed4;stroke-width:2;stroke:rgb(255,255,255)\"/><rect x=\"660\" y=\"0\" width=\"55\" height=\"55\" style=\"fill:#bbbbdb;stroke-width:2;stroke:rgb(255,255,255)\"/><rect x=\"715\" y=\"0\" width=\"55\" height=\"55\" style=\"fill:#c6c7e1;stroke-width:2;stroke:rgb(255,255,255)\"/><rect x=\"770\" y=\"0\" width=\"55\" height=\"55\" style=\"fill:#d1d2e7;stroke-width:2;stroke:rgb(255,255,255)\"/><rect x=\"825\" y=\"0\" width=\"55\" height=\"55\" style=\"fill:#dcdcec;stroke-width:2;stroke:rgb(255,255,255)\"/><rect x=\"880\" y=\"0\" width=\"55\" height=\"55\" style=\"fill:#e4e3f0;stroke-width:2;stroke:rgb(255,255,255)\"/><rect x=\"935\" y=\"0\" width=\"55\" height=\"55\" style=\"fill:#ecebf4;stroke-width:2;stroke:rgb(255,255,255)\"/><rect x=\"990\" y=\"0\" width=\"55\" height=\"55\" style=\"fill:#f2f0f7;stroke-width:2;stroke:rgb(255,255,255)\"/><rect x=\"1045\" y=\"0\" width=\"55\" height=\"55\" style=\"fill:#f7f6fa;stroke-width:2;stroke:rgb(255,255,255)\"/></svg>"
      ],
      "text/plain": [
       "[(0.27806228373702424, 0.05757785467128028, 0.5167704728950404),\n",
       " (0.3090657439446367, 0.11515570934256056, 0.5433448673587082),\n",
       " (0.3405767012687428, 0.1742560553633218, 0.5709342560553633),\n",
       " (0.3730565167243368, 0.2362629757785467, 0.6004613610149943),\n",
       " (0.4055363321799308, 0.29826989619377164, 0.6299884659746251),\n",
       " (0.440722798923491, 0.36772010765090346, 0.6653902345251825),\n",
       " (0.47320261437908495, 0.43267973856209146, 0.6993464052287581),\n",
       " (0.5070357554786621, 0.4951018838908112, 0.7317800845828527),\n",
       " (0.5513264129181085, 0.537916186082276, 0.7524490580545944),\n",
       " (0.5956170703575547, 0.5807304882737409, 0.773118031526336),\n",
       " (0.643598615916955, 0.631910803537101, 0.8003075740099962),\n",
       " (0.6878892733564014, 0.6835832372164552, 0.8298346789696271),\n",
       " (0.7321799307958478, 0.7352556708958093, 0.859361783929258),\n",
       " (0.7764705882352941, 0.7790849673202614, 0.8823529411764706),\n",
       " (0.8207612456747405, 0.8218992695117262, 0.9044982698961938),\n",
       " (0.8645905420991926, 0.8636678200692042, 0.9261822376009227),\n",
       " (0.8955940023068051, 0.8917185697808535, 0.9409457900807382),\n",
       " (0.9265974625144175, 0.919769319492503, 0.9557093425605536),\n",
       " (0.9498500576701269, 0.9429757785467128, 0.9685351787773934),\n",
       " (0.969042675893887, 0.9636447520184545, 0.9803460207612457)]"
      ]
     },
     "metadata": {},
     "output_type": "display_data"
    },
    {
     "name": "stdout",
     "output_type": "stream",
     "text": [
      "RdBu\n"
     ]
    },
    {
     "data": {
      "text/html": [
       "<svg  width=\"1100\" height=\"55\"><rect x=\"0\" y=\"0\" width=\"55\" height=\"55\" style=\"fill:#8a0b25;stroke-width:2;stroke:rgb(255,255,255)\"/><rect x=\"55\" y=\"0\" width=\"55\" height=\"55\" style=\"fill:#ae172a;stroke-width:2;stroke:rgb(255,255,255)\"/><rect x=\"110\" y=\"0\" width=\"55\" height=\"55\" style=\"fill:#c13639;stroke-width:2;stroke:rgb(255,255,255)\"/><rect x=\"165\" y=\"0\" width=\"55\" height=\"55\" style=\"fill:#d25849;stroke-width:2;stroke:rgb(255,255,255)\"/><rect x=\"220\" y=\"0\" width=\"55\" height=\"55\" style=\"fill:#e17860;stroke-width:2;stroke:rgb(255,255,255)\"/><rect x=\"275\" y=\"0\" width=\"55\" height=\"55\" style=\"fill:#f09c7b;stroke-width:2;stroke:rgb(255,255,255)\"/><rect x=\"330\" y=\"0\" width=\"55\" height=\"55\" style=\"fill:#f7b799;stroke-width:2;stroke:rgb(255,255,255)\"/><rect x=\"385\" y=\"0\" width=\"55\" height=\"55\" style=\"fill:#fbd0b9;stroke-width:2;stroke:rgb(255,255,255)\"/><rect x=\"440\" y=\"0\" width=\"55\" height=\"55\" style=\"fill:#fbe3d4;stroke-width:2;stroke:rgb(255,255,255)\"/><rect x=\"495\" y=\"0\" width=\"55\" height=\"55\" style=\"fill:#f9f0eb;stroke-width:2;stroke:rgb(255,255,255)\"/><rect x=\"550\" y=\"0\" width=\"55\" height=\"55\" style=\"fill:#edf2f5;stroke-width:2;stroke:rgb(255,255,255)\"/><rect x=\"605\" y=\"0\" width=\"55\" height=\"55\" style=\"fill:#dbeaf2;stroke-width:2;stroke:rgb(255,255,255)\"/><rect x=\"660\" y=\"0\" width=\"55\" height=\"55\" style=\"fill:#c5dfec;stroke-width:2;stroke:rgb(255,255,255)\"/><rect x=\"715\" y=\"0\" width=\"55\" height=\"55\" style=\"fill:#a7d0e4;stroke-width:2;stroke:rgb(255,255,255)\"/><rect x=\"770\" y=\"0\" width=\"55\" height=\"55\" style=\"fill:#87beda;stroke-width:2;stroke:rgb(255,255,255)\"/><rect x=\"825\" y=\"0\" width=\"55\" height=\"55\" style=\"fill:#5fa5cd;stroke-width:2;stroke:rgb(255,255,255)\"/><rect x=\"880\" y=\"0\" width=\"55\" height=\"55\" style=\"fill:#3f8ec0;stroke-width:2;stroke:rgb(255,255,255)\"/><rect x=\"935\" y=\"0\" width=\"55\" height=\"55\" style=\"fill:#2f79b5;stroke-width:2;stroke:rgb(255,255,255)\"/><rect x=\"990\" y=\"0\" width=\"55\" height=\"55\" style=\"fill:#1f63a8;stroke-width:2;stroke:rgb(255,255,255)\"/><rect x=\"1045\" y=\"0\" width=\"55\" height=\"55\" style=\"fill:#124984;stroke-width:2;stroke:rgb(255,255,255)\"/></svg>"
      ],
      "text/plain": [
       "[(0.5423298731257209, 0.044290657439446365, 0.1437139561707036),\n",
       " (0.6807381776239907, 0.08858131487889273, 0.16585928489042678),\n",
       " (0.7561707035755478, 0.21038062283737025, 0.22352941176470587),\n",
       " (0.8226066897347174, 0.34325259515570933, 0.28627450980392155),\n",
       " (0.8807381776239908, 0.4719723183391003, 0.3753171856978085),\n",
       " (0.940715109573241, 0.6099192618223759, 0.4812764321414839),\n",
       " (0.9686274509803922, 0.7176470588235293, 0.5999999999999999),\n",
       " (0.9852364475201846, 0.8173010380622837, 0.7273356401384083),\n",
       " (0.9856978085351787, 0.8889657823913879, 0.8320645905420992),\n",
       " (0.9746251441753172, 0.940638216070742, 0.9206459054209919),\n",
       " (0.930642060745867, 0.9506343713956171, 0.9616301422529796),\n",
       " (0.8605151864667436, 0.9174163783160324, 0.9487120338331411),\n",
       " (0.7711649365628607, 0.8734332948865823, 0.9273356401384084),\n",
       " (0.654901960784314, 0.8143790849673205, 0.8941176470588236),\n",
       " (0.530026912725875, 0.7456362937331797, 0.8560553633217994),\n",
       " (0.37208765859284904, 0.6456747404844292, 0.8020761245674741),\n",
       " (0.24705882352941178, 0.5557093425605536, 0.7540945790080738),\n",
       " (0.1843137254901961, 0.47266435986159167, 0.7116493656286044),\n",
       " (0.1229527104959631, 0.3875432525951557, 0.6572087658592849),\n",
       " (0.071280276816609, 0.2878892733564014, 0.518800461361015)]"
      ]
     },
     "metadata": {},
     "output_type": "display_data"
    },
    {
     "name": "stdout",
     "output_type": "stream",
     "text": [
      "RdBu_r\n"
     ]
    },
    {
     "data": {
      "text/html": [
       "<svg  width=\"1100\" height=\"55\"><rect x=\"0\" y=\"0\" width=\"55\" height=\"55\" style=\"fill:#124984;stroke-width:2;stroke:rgb(255,255,255)\"/><rect x=\"55\" y=\"0\" width=\"55\" height=\"55\" style=\"fill:#1f63a8;stroke-width:2;stroke:rgb(255,255,255)\"/><rect x=\"110\" y=\"0\" width=\"55\" height=\"55\" style=\"fill:#2f79b5;stroke-width:2;stroke:rgb(255,255,255)\"/><rect x=\"165\" y=\"0\" width=\"55\" height=\"55\" style=\"fill:#3f8ec0;stroke-width:2;stroke:rgb(255,255,255)\"/><rect x=\"220\" y=\"0\" width=\"55\" height=\"55\" style=\"fill:#5fa5cd;stroke-width:2;stroke:rgb(255,255,255)\"/><rect x=\"275\" y=\"0\" width=\"55\" height=\"55\" style=\"fill:#87beda;stroke-width:2;stroke:rgb(255,255,255)\"/><rect x=\"330\" y=\"0\" width=\"55\" height=\"55\" style=\"fill:#a7d0e4;stroke-width:2;stroke:rgb(255,255,255)\"/><rect x=\"385\" y=\"0\" width=\"55\" height=\"55\" style=\"fill:#c5dfec;stroke-width:2;stroke:rgb(255,255,255)\"/><rect x=\"440\" y=\"0\" width=\"55\" height=\"55\" style=\"fill:#dbeaf2;stroke-width:2;stroke:rgb(255,255,255)\"/><rect x=\"495\" y=\"0\" width=\"55\" height=\"55\" style=\"fill:#edf2f5;stroke-width:2;stroke:rgb(255,255,255)\"/><rect x=\"550\" y=\"0\" width=\"55\" height=\"55\" style=\"fill:#f9f0eb;stroke-width:2;stroke:rgb(255,255,255)\"/><rect x=\"605\" y=\"0\" width=\"55\" height=\"55\" style=\"fill:#fbe3d4;stroke-width:2;stroke:rgb(255,255,255)\"/><rect x=\"660\" y=\"0\" width=\"55\" height=\"55\" style=\"fill:#fbd0b9;stroke-width:2;stroke:rgb(255,255,255)\"/><rect x=\"715\" y=\"0\" width=\"55\" height=\"55\" style=\"fill:#f7b799;stroke-width:2;stroke:rgb(255,255,255)\"/><rect x=\"770\" y=\"0\" width=\"55\" height=\"55\" style=\"fill:#f09c7b;stroke-width:2;stroke:rgb(255,255,255)\"/><rect x=\"825\" y=\"0\" width=\"55\" height=\"55\" style=\"fill:#e17860;stroke-width:2;stroke:rgb(255,255,255)\"/><rect x=\"880\" y=\"0\" width=\"55\" height=\"55\" style=\"fill:#d25849;stroke-width:2;stroke:rgb(255,255,255)\"/><rect x=\"935\" y=\"0\" width=\"55\" height=\"55\" style=\"fill:#c13639;stroke-width:2;stroke:rgb(255,255,255)\"/><rect x=\"990\" y=\"0\" width=\"55\" height=\"55\" style=\"fill:#ae172a;stroke-width:2;stroke:rgb(255,255,255)\"/><rect x=\"1045\" y=\"0\" width=\"55\" height=\"55\" style=\"fill:#8a0b25;stroke-width:2;stroke:rgb(255,255,255)\"/></svg>"
      ],
      "text/plain": [
       "[(0.071280276816609, 0.2878892733564014, 0.5188004613610151),\n",
       " (0.12295271049596312, 0.38754325259515576, 0.657208765859285),\n",
       " (0.18431372549019615, 0.4726643598615917, 0.7116493656286045),\n",
       " (0.24705882352941183, 0.5557093425605537, 0.7540945790080739),\n",
       " (0.3720876585928491, 0.6456747404844292, 0.8020761245674741),\n",
       " (0.5300269127258748, 0.7456362937331797, 0.8560553633217993),\n",
       " (0.6549019607843138, 0.8143790849673204, 0.8941176470588236),\n",
       " (0.7711649365628607, 0.8734332948865823, 0.9273356401384084),\n",
       " (0.8605151864667436, 0.9174163783160324, 0.9487120338331411),\n",
       " (0.930642060745867, 0.9506343713956171, 0.9616301422529796),\n",
       " (0.9746251441753172, 0.940638216070742, 0.9206459054209919),\n",
       " (0.9856978085351789, 0.8889657823913879, 0.8320645905420991),\n",
       " (0.9852364475201846, 0.8173010380622837, 0.7273356401384083),\n",
       " (0.9686274509803922, 0.7176470588235294, 0.6),\n",
       " (0.9407151095732411, 0.609919261822376, 0.481276432141484),\n",
       " (0.8807381776239908, 0.47197231833910036, 0.3753171856978085),\n",
       " (0.8226066897347174, 0.34325259515570933, 0.28627450980392155),\n",
       " (0.7561707035755478, 0.21038062283737025, 0.22352941176470587),\n",
       " (0.6807381776239907, 0.08858131487889273, 0.16585928489042678),\n",
       " (0.5423298731257209, 0.044290657439446365, 0.1437139561707036)]"
      ]
     },
     "metadata": {},
     "output_type": "display_data"
    },
    {
     "name": "stdout",
     "output_type": "stream",
     "text": [
      "RdGy\n"
     ]
    },
    {
     "data": {
      "text/html": [
       "<svg  width=\"1100\" height=\"55\"><rect x=\"0\" y=\"0\" width=\"55\" height=\"55\" style=\"fill:#8a0b25;stroke-width:2;stroke:rgb(255,255,255)\"/><rect x=\"55\" y=\"0\" width=\"55\" height=\"55\" style=\"fill:#ae172a;stroke-width:2;stroke:rgb(255,255,255)\"/><rect x=\"110\" y=\"0\" width=\"55\" height=\"55\" style=\"fill:#c13639;stroke-width:2;stroke:rgb(255,255,255)\"/><rect x=\"165\" y=\"0\" width=\"55\" height=\"55\" style=\"fill:#d25849;stroke-width:2;stroke:rgb(255,255,255)\"/><rect x=\"220\" y=\"0\" width=\"55\" height=\"55\" style=\"fill:#e17860;stroke-width:2;stroke:rgb(255,255,255)\"/><rect x=\"275\" y=\"0\" width=\"55\" height=\"55\" style=\"fill:#f09c7b;stroke-width:2;stroke:rgb(255,255,255)\"/><rect x=\"330\" y=\"0\" width=\"55\" height=\"55\" style=\"fill:#f7b799;stroke-width:2;stroke:rgb(255,255,255)\"/><rect x=\"385\" y=\"0\" width=\"55\" height=\"55\" style=\"fill:#fbd0b9;stroke-width:2;stroke:rgb(255,255,255)\"/><rect x=\"440\" y=\"0\" width=\"55\" height=\"55\" style=\"fill:#fee5d6;stroke-width:2;stroke:rgb(255,255,255)\"/><rect x=\"495\" y=\"0\" width=\"55\" height=\"55\" style=\"fill:#fef6f1;stroke-width:2;stroke:rgb(255,255,255)\"/><rect x=\"550\" y=\"0\" width=\"55\" height=\"55\" style=\"fill:#f7f7f7;stroke-width:2;stroke:rgb(255,255,255)\"/><rect x=\"605\" y=\"0\" width=\"55\" height=\"55\" style=\"fill:#e9e9e9;stroke-width:2;stroke:rgb(255,255,255)\"/><rect x=\"660\" y=\"0\" width=\"55\" height=\"55\" style=\"fill:#d9d9d9;stroke-width:2;stroke:rgb(255,255,255)\"/><rect x=\"715\" y=\"0\" width=\"55\" height=\"55\" style=\"fill:#c7c7c7;stroke-width:2;stroke:rgb(255,255,255)\"/><rect x=\"770\" y=\"0\" width=\"55\" height=\"55\" style=\"fill:#b3b3b3;stroke-width:2;stroke:rgb(255,255,255)\"/><rect x=\"825\" y=\"0\" width=\"55\" height=\"55\" style=\"fill:#999999;stroke-width:2;stroke:rgb(255,255,255)\"/><rect x=\"880\" y=\"0\" width=\"55\" height=\"55\" style=\"fill:#808080;stroke-width:2;stroke:rgb(255,255,255)\"/><rect x=\"935\" y=\"0\" width=\"55\" height=\"55\" style=\"fill:#656565;stroke-width:2;stroke:rgb(255,255,255)\"/><rect x=\"990\" y=\"0\" width=\"55\" height=\"55\" style=\"fill:#4a4a4a;stroke-width:2;stroke:rgb(255,255,255)\"/><rect x=\"1045\" y=\"0\" width=\"55\" height=\"55\" style=\"fill:#323232;stroke-width:2;stroke:rgb(255,255,255)\"/></svg>"
      ],
      "text/plain": [
       "[(0.5423298731257209, 0.044290657439446365, 0.1437139561707036),\n",
       " (0.6807381776239907, 0.08858131487889273, 0.16585928489042678),\n",
       " (0.7561707035755478, 0.21038062283737025, 0.22352941176470587),\n",
       " (0.8226066897347174, 0.34325259515570933, 0.28627450980392155),\n",
       " (0.8807381776239908, 0.4719723183391003, 0.3753171856978085),\n",
       " (0.940715109573241, 0.6099192618223759, 0.4812764321414839),\n",
       " (0.9686274509803922, 0.7176470588235293, 0.5999999999999999),\n",
       " (0.9852364475201846, 0.8173010380622837, 0.7273356401384083),\n",
       " (0.9943098808150711, 0.8975778546712803, 0.8406766628219915),\n",
       " (0.998000768935025, 0.9640138408304498, 0.9440215301806998),\n",
       " (0.9690119184928874, 0.9690119184928874, 0.9690119184928874),\n",
       " (0.9118031526336026, 0.9118031526336026, 0.9118031526336026),\n",
       " (0.849211841599385, 0.849211841599385, 0.849211841599385),\n",
       " (0.7790849673202616, 0.7790849673202616, 0.7790849673202616),\n",
       " (0.7019607843137257, 0.7019607843137257, 0.7019607843137257),\n",
       " (0.6000000000000001, 0.6000000000000001, 0.6000000000000001),\n",
       " (0.5026528258362168, 0.5026528258362168, 0.5026528258362168),\n",
       " (0.3956170703575548, 0.3956170703575548, 0.3956170703575548),\n",
       " (0.2901960784313725, 0.2901960784313725, 0.2901960784313725),\n",
       " (0.196078431372549, 0.196078431372549, 0.196078431372549)]"
      ]
     },
     "metadata": {},
     "output_type": "display_data"
    },
    {
     "name": "stdout",
     "output_type": "stream",
     "text": [
      "RdGy_r\n"
     ]
    },
    {
     "data": {
      "text/html": [
       "<svg  width=\"1100\" height=\"55\"><rect x=\"0\" y=\"0\" width=\"55\" height=\"55\" style=\"fill:#323232;stroke-width:2;stroke:rgb(255,255,255)\"/><rect x=\"55\" y=\"0\" width=\"55\" height=\"55\" style=\"fill:#4a4a4a;stroke-width:2;stroke:rgb(255,255,255)\"/><rect x=\"110\" y=\"0\" width=\"55\" height=\"55\" style=\"fill:#656565;stroke-width:2;stroke:rgb(255,255,255)\"/><rect x=\"165\" y=\"0\" width=\"55\" height=\"55\" style=\"fill:#808080;stroke-width:2;stroke:rgb(255,255,255)\"/><rect x=\"220\" y=\"0\" width=\"55\" height=\"55\" style=\"fill:#999999;stroke-width:2;stroke:rgb(255,255,255)\"/><rect x=\"275\" y=\"0\" width=\"55\" height=\"55\" style=\"fill:#b3b3b3;stroke-width:2;stroke:rgb(255,255,255)\"/><rect x=\"330\" y=\"0\" width=\"55\" height=\"55\" style=\"fill:#c7c7c7;stroke-width:2;stroke:rgb(255,255,255)\"/><rect x=\"385\" y=\"0\" width=\"55\" height=\"55\" style=\"fill:#d9d9d9;stroke-width:2;stroke:rgb(255,255,255)\"/><rect x=\"440\" y=\"0\" width=\"55\" height=\"55\" style=\"fill:#e9e9e9;stroke-width:2;stroke:rgb(255,255,255)\"/><rect x=\"495\" y=\"0\" width=\"55\" height=\"55\" style=\"fill:#f7f7f7;stroke-width:2;stroke:rgb(255,255,255)\"/><rect x=\"550\" y=\"0\" width=\"55\" height=\"55\" style=\"fill:#fef6f1;stroke-width:2;stroke:rgb(255,255,255)\"/><rect x=\"605\" y=\"0\" width=\"55\" height=\"55\" style=\"fill:#fee5d6;stroke-width:2;stroke:rgb(255,255,255)\"/><rect x=\"660\" y=\"0\" width=\"55\" height=\"55\" style=\"fill:#fbd0b9;stroke-width:2;stroke:rgb(255,255,255)\"/><rect x=\"715\" y=\"0\" width=\"55\" height=\"55\" style=\"fill:#f7b799;stroke-width:2;stroke:rgb(255,255,255)\"/><rect x=\"770\" y=\"0\" width=\"55\" height=\"55\" style=\"fill:#f09c7b;stroke-width:2;stroke:rgb(255,255,255)\"/><rect x=\"825\" y=\"0\" width=\"55\" height=\"55\" style=\"fill:#e17860;stroke-width:2;stroke:rgb(255,255,255)\"/><rect x=\"880\" y=\"0\" width=\"55\" height=\"55\" style=\"fill:#d25849;stroke-width:2;stroke:rgb(255,255,255)\"/><rect x=\"935\" y=\"0\" width=\"55\" height=\"55\" style=\"fill:#c13639;stroke-width:2;stroke:rgb(255,255,255)\"/><rect x=\"990\" y=\"0\" width=\"55\" height=\"55\" style=\"fill:#ae172a;stroke-width:2;stroke:rgb(255,255,255)\"/><rect x=\"1045\" y=\"0\" width=\"55\" height=\"55\" style=\"fill:#8a0b25;stroke-width:2;stroke:rgb(255,255,255)\"/></svg>"
      ],
      "text/plain": [
       "[(0.19607843137254904, 0.19607843137254904, 0.19607843137254904),\n",
       " (0.2901960784313726, 0.2901960784313726, 0.2901960784313726),\n",
       " (0.3956170703575549, 0.3956170703575549, 0.3956170703575549),\n",
       " (0.502652825836217, 0.502652825836217, 0.502652825836217),\n",
       " (0.6000000000000001, 0.6000000000000001, 0.6000000000000001),\n",
       " (0.7019607843137255, 0.7019607843137255, 0.7019607843137255),\n",
       " (0.7790849673202616, 0.7790849673202616, 0.7790849673202616),\n",
       " (0.849211841599385, 0.849211841599385, 0.849211841599385),\n",
       " (0.9118031526336026, 0.9118031526336026, 0.9118031526336026),\n",
       " (0.9690119184928874, 0.9690119184928874, 0.9690119184928874),\n",
       " (0.998000768935025, 0.9640138408304498, 0.9440215301806998),\n",
       " (0.9943098808150711, 0.8975778546712803, 0.8406766628219915),\n",
       " (0.9852364475201846, 0.8173010380622837, 0.7273356401384083),\n",
       " (0.9686274509803922, 0.7176470588235294, 0.6),\n",
       " (0.9407151095732411, 0.609919261822376, 0.481276432141484),\n",
       " (0.8807381776239908, 0.47197231833910036, 0.3753171856978085),\n",
       " (0.8226066897347174, 0.34325259515570933, 0.28627450980392155),\n",
       " (0.7561707035755478, 0.21038062283737025, 0.22352941176470587),\n",
       " (0.6807381776239907, 0.08858131487889273, 0.16585928489042678),\n",
       " (0.5423298731257209, 0.044290657439446365, 0.1437139561707036)]"
      ]
     },
     "metadata": {},
     "output_type": "display_data"
    },
    {
     "name": "stdout",
     "output_type": "stream",
     "text": [
      "RdPu\n"
     ]
    },
    {
     "data": {
      "text/html": [
       "<svg  width=\"1100\" height=\"55\"><rect x=\"0\" y=\"0\" width=\"55\" height=\"55\" style=\"fill:#feeeeb;stroke-width:2;stroke:rgb(255,255,255)\"/><rect x=\"55\" y=\"0\" width=\"55\" height=\"55\" style=\"fill:#fde6e2;stroke-width:2;stroke:rgb(255,255,255)\"/><rect x=\"110\" y=\"0\" width=\"55\" height=\"55\" style=\"fill:#fdddd9;stroke-width:2;stroke:rgb(255,255,255)\"/><rect x=\"165\" y=\"0\" width=\"55\" height=\"55\" style=\"fill:#fcd2ce;stroke-width:2;stroke:rgb(255,255,255)\"/><rect x=\"220\" y=\"0\" width=\"55\" height=\"55\" style=\"fill:#fcc8c3;stroke-width:2;stroke:rgb(255,255,255)\"/><rect x=\"275\" y=\"0\" width=\"55\" height=\"55\" style=\"fill:#fbbabd;stroke-width:2;stroke:rgb(255,255,255)\"/><rect x=\"330\" y=\"0\" width=\"55\" height=\"55\" style=\"fill:#fbacb9;stroke-width:2;stroke:rgb(255,255,255)\"/><rect x=\"385\" y=\"0\" width=\"55\" height=\"55\" style=\"fill:#fa9db4;stroke-width:2;stroke:rgb(255,255,255)\"/><rect x=\"440\" y=\"0\" width=\"55\" height=\"55\" style=\"fill:#f988ad;stroke-width:2;stroke:rgb(255,255,255)\"/><rect x=\"495\" y=\"0\" width=\"55\" height=\"55\" style=\"fill:#f873a5;stroke-width:2;stroke:rgb(255,255,255)\"/><rect x=\"550\" y=\"0\" width=\"55\" height=\"55\" style=\"fill:#f25d9f;stroke-width:2;stroke:rgb(255,255,255)\"/><rect x=\"605\" y=\"0\" width=\"55\" height=\"55\" style=\"fill:#e84a9b;stroke-width:2;stroke:rgb(255,255,255)\"/><rect x=\"660\" y=\"0\" width=\"55\" height=\"55\" style=\"fill:#de3697;stroke-width:2;stroke:rgb(255,255,255)\"/><rect x=\"715\" y=\"0\" width=\"55\" height=\"55\" style=\"fill:#cd238f;stroke-width:2;stroke:rgb(255,255,255)\"/><rect x=\"770\" y=\"0\" width=\"55\" height=\"55\" style=\"fill:#bc1085;stroke-width:2;stroke:rgb(255,255,255)\"/><rect x=\"825\" y=\"0\" width=\"55\" height=\"55\" style=\"fill:#a8017d;stroke-width:2;stroke:rgb(255,255,255)\"/><rect x=\"880\" y=\"0\" width=\"55\" height=\"55\" style=\"fill:#94017b;stroke-width:2;stroke:rgb(255,255,255)\"/><rect x=\"935\" y=\"0\" width=\"55\" height=\"55\" style=\"fill:#810178;stroke-width:2;stroke:rgb(255,255,255)\"/><rect x=\"990\" y=\"0\" width=\"55\" height=\"55\" style=\"fill:#6e0174;stroke-width:2;stroke:rgb(255,255,255)\"/><rect x=\"1045\" y=\"0\" width=\"55\" height=\"55\" style=\"fill:#5b006f;stroke-width:2;stroke:rgb(255,255,255)\"/></svg>"
      ],
      "text/plain": [
       "[(0.9970472895040369, 0.9346712802768166, 0.9204613610149942),\n",
       " (0.9940945790080739, 0.9007151095732411, 0.8879815455594002),\n",
       " (0.9916493656286044, 0.8647289504036909, 0.8519492502883507),\n",
       " (0.9901730103806229, 0.8248673587081892, 0.8091349480968858),\n",
       " (0.9886966551326414, 0.7850057670126874, 0.766320645905421),\n",
       " (0.9859592464436755, 0.7293041138023837, 0.7404229142637447),\n",
       " (0.9830065359477124, 0.673202614379085, 0.7241830065359477),\n",
       " (0.9798846597462514, 0.6142252979623222, 0.7064206074586697),\n",
       " (0.9754555940023067, 0.5330257593233372, 0.6768935024990388),\n",
       " (0.9710265282583621, 0.4518262206843522, 0.647366397539408),\n",
       " (0.947835447904652, 0.3662591311034218, 0.6233756247597078),\n",
       " (0.9094502114571319, 0.2894886582083814, 0.6086120722798923),\n",
       " (0.8710649750096117, 0.21271818531334102, 0.5938485198000769),\n",
       " (0.8052287581699347, 0.13725490196078433, 0.5594771241830065),\n",
       " (0.735840061514802, 0.06196078431372548, 0.5225682429834679),\n",
       " (0.6583621683967705, 0.00392156862745098, 0.49088811995386394),\n",
       " (0.5815916955017302, 0.00392156862745098, 0.4805536332179931),\n",
       " (0.5048212226066897, 0.00392156862745098, 0.47021914648212226),\n",
       " (0.43095732410611304, 0.002952710495963091, 0.4540715109573241),\n",
       " (0.35861591695501727, 0.0014763552479815454, 0.43487889273356406)]"
      ]
     },
     "metadata": {},
     "output_type": "display_data"
    },
    {
     "name": "stdout",
     "output_type": "stream",
     "text": [
      "RdPu_r\n"
     ]
    },
    {
     "data": {
      "text/html": [
       "<svg  width=\"1100\" height=\"55\"><rect x=\"0\" y=\"0\" width=\"55\" height=\"55\" style=\"fill:#5b006f;stroke-width:2;stroke:rgb(255,255,255)\"/><rect x=\"55\" y=\"0\" width=\"55\" height=\"55\" style=\"fill:#6e0174;stroke-width:2;stroke:rgb(255,255,255)\"/><rect x=\"110\" y=\"0\" width=\"55\" height=\"55\" style=\"fill:#810178;stroke-width:2;stroke:rgb(255,255,255)\"/><rect x=\"165\" y=\"0\" width=\"55\" height=\"55\" style=\"fill:#94017b;stroke-width:2;stroke:rgb(255,255,255)\"/><rect x=\"220\" y=\"0\" width=\"55\" height=\"55\" style=\"fill:#a8017d;stroke-width:2;stroke:rgb(255,255,255)\"/><rect x=\"275\" y=\"0\" width=\"55\" height=\"55\" style=\"fill:#bc1085;stroke-width:2;stroke:rgb(255,255,255)\"/><rect x=\"330\" y=\"0\" width=\"55\" height=\"55\" style=\"fill:#cd238f;stroke-width:2;stroke:rgb(255,255,255)\"/><rect x=\"385\" y=\"0\" width=\"55\" height=\"55\" style=\"fill:#de3697;stroke-width:2;stroke:rgb(255,255,255)\"/><rect x=\"440\" y=\"0\" width=\"55\" height=\"55\" style=\"fill:#e84a9b;stroke-width:2;stroke:rgb(255,255,255)\"/><rect x=\"495\" y=\"0\" width=\"55\" height=\"55\" style=\"fill:#f25d9f;stroke-width:2;stroke:rgb(255,255,255)\"/><rect x=\"550\" y=\"0\" width=\"55\" height=\"55\" style=\"fill:#f873a5;stroke-width:2;stroke:rgb(255,255,255)\"/><rect x=\"605\" y=\"0\" width=\"55\" height=\"55\" style=\"fill:#f988ad;stroke-width:2;stroke:rgb(255,255,255)\"/><rect x=\"660\" y=\"0\" width=\"55\" height=\"55\" style=\"fill:#fa9db4;stroke-width:2;stroke:rgb(255,255,255)\"/><rect x=\"715\" y=\"0\" width=\"55\" height=\"55\" style=\"fill:#fbacb9;stroke-width:2;stroke:rgb(255,255,255)\"/><rect x=\"770\" y=\"0\" width=\"55\" height=\"55\" style=\"fill:#fbbabd;stroke-width:2;stroke:rgb(255,255,255)\"/><rect x=\"825\" y=\"0\" width=\"55\" height=\"55\" style=\"fill:#fcc8c3;stroke-width:2;stroke:rgb(255,255,255)\"/><rect x=\"880\" y=\"0\" width=\"55\" height=\"55\" style=\"fill:#fcd2ce;stroke-width:2;stroke:rgb(255,255,255)\"/><rect x=\"935\" y=\"0\" width=\"55\" height=\"55\" style=\"fill:#fdddd9;stroke-width:2;stroke:rgb(255,255,255)\"/><rect x=\"990\" y=\"0\" width=\"55\" height=\"55\" style=\"fill:#fde6e2;stroke-width:2;stroke:rgb(255,255,255)\"/><rect x=\"1045\" y=\"0\" width=\"55\" height=\"55\" style=\"fill:#feeeeb;stroke-width:2;stroke:rgb(255,255,255)\"/></svg>"
      ],
      "text/plain": [
       "[(0.35861591695501727, 0.0014763552479815456, 0.434878892733564),\n",
       " (0.43095732410611304, 0.0029527104959630912, 0.4540715109573241),\n",
       " (0.5048212226066897, 0.00392156862745098, 0.47021914648212226),\n",
       " (0.5815916955017302, 0.00392156862745098, 0.4805536332179931),\n",
       " (0.6583621683967704, 0.00392156862745098, 0.49088811995386394),\n",
       " (0.735840061514802, 0.061960784313725495, 0.5225682429834679),\n",
       " (0.8052287581699347, 0.13725490196078433, 0.5594771241830065),\n",
       " (0.8710649750096117, 0.21271818531334102, 0.5938485198000769),\n",
       " (0.9094502114571319, 0.2894886582083814, 0.6086120722798923),\n",
       " (0.947835447904652, 0.36625913110342173, 0.6233756247597078),\n",
       " (0.9710265282583621, 0.4518262206843522, 0.647366397539408),\n",
       " (0.9754555940023067, 0.5330257593233372, 0.6768935024990388),\n",
       " (0.9798846597462514, 0.6142252979623222, 0.7064206074586697),\n",
       " (0.9830065359477124, 0.673202614379085, 0.7241830065359477),\n",
       " (0.9859592464436755, 0.7293041138023837, 0.7404229142637447),\n",
       " (0.9886966551326414, 0.7850057670126874, 0.766320645905421),\n",
       " (0.9901730103806229, 0.8248673587081892, 0.8091349480968858),\n",
       " (0.9916493656286044, 0.8647289504036909, 0.8519492502883507),\n",
       " (0.9940945790080739, 0.9007151095732411, 0.8879815455594002),\n",
       " (0.9970472895040369, 0.9346712802768166, 0.9204613610149942)]"
      ]
     },
     "metadata": {},
     "output_type": "display_data"
    },
    {
     "name": "stdout",
     "output_type": "stream",
     "text": [
      "RdYlBu\n"
     ]
    },
    {
     "data": {
      "text/html": [
       "<svg  width=\"1100\" height=\"55\"><rect x=\"0\" y=\"0\" width=\"55\" height=\"55\" style=\"fill:#bd1726;stroke-width:2;stroke:rgb(255,255,255)\"/><rect x=\"55\" y=\"0\" width=\"55\" height=\"55\" style=\"fill:#d42d27;stroke-width:2;stroke:rgb(255,255,255)\"/><rect x=\"110\" y=\"0\" width=\"55\" height=\"55\" style=\"fill:#e34933;stroke-width:2;stroke:rgb(255,255,255)\"/><rect x=\"165\" y=\"0\" width=\"55\" height=\"55\" style=\"fill:#f16640;stroke-width:2;stroke:rgb(255,255,255)\"/><rect x=\"220\" y=\"0\" width=\"55\" height=\"55\" style=\"fill:#f7844e;stroke-width:2;stroke:rgb(255,255,255)\"/><rect x=\"275\" y=\"0\" width=\"55\" height=\"55\" style=\"fill:#fca55d;stroke-width:2;stroke:rgb(255,255,255)\"/><rect x=\"330\" y=\"0\" width=\"55\" height=\"55\" style=\"fill:#fdbf71;stroke-width:2;stroke:rgb(255,255,255)\"/><rect x=\"385\" y=\"0\" width=\"55\" height=\"55\" style=\"fill:#fed687;stroke-width:2;stroke:rgb(255,255,255)\"/><rect x=\"440\" y=\"0\" width=\"55\" height=\"55\" style=\"fill:#fee99d;stroke-width:2;stroke:rgb(255,255,255)\"/><rect x=\"495\" y=\"0\" width=\"55\" height=\"55\" style=\"fill:#fff7b3;stroke-width:2;stroke:rgb(255,255,255)\"/><rect x=\"550\" y=\"0\" width=\"55\" height=\"55\" style=\"fill:#f7fcce;stroke-width:2;stroke:rgb(255,255,255)\"/><rect x=\"605\" y=\"0\" width=\"55\" height=\"55\" style=\"fill:#e9f6e8;stroke-width:2;stroke:rgb(255,255,255)\"/><rect x=\"660\" y=\"0\" width=\"55\" height=\"55\" style=\"fill:#d6eef5;stroke-width:2;stroke:rgb(255,255,255)\"/><rect x=\"715\" y=\"0\" width=\"55\" height=\"55\" style=\"fill:#bde2ee;stroke-width:2;stroke:rgb(255,255,255)\"/><rect x=\"770\" y=\"0\" width=\"55\" height=\"55\" style=\"fill:#a3d3e6;stroke-width:2;stroke:rgb(255,255,255)\"/><rect x=\"825\" y=\"0\" width=\"55\" height=\"55\" style=\"fill:#87bdd9;stroke-width:2;stroke:rgb(255,255,255)\"/><rect x=\"880\" y=\"0\" width=\"55\" height=\"55\" style=\"fill:#6ea6ce;stroke-width:2;stroke:rgb(255,255,255)\"/><rect x=\"935\" y=\"0\" width=\"55\" height=\"55\" style=\"fill:#588cc0;stroke-width:2;stroke:rgb(255,255,255)\"/><rect x=\"990\" y=\"0\" width=\"55\" height=\"55\" style=\"fill:#4471b2;stroke-width:2;stroke:rgb(255,255,255)\"/><rect x=\"1045\" y=\"0\" width=\"55\" height=\"55\" style=\"fill:#3a54a4;stroke-width:2;stroke:rgb(255,255,255)\"/></svg>"
      ],
      "text/plain": [
       "[(0.7393310265282584, 0.08858131487889273, 0.1508650519031142),\n",
       " (0.831603229527105, 0.17716262975778546, 0.15271049596309114),\n",
       " (0.8899653979238754, 0.2867358708189158, 0.19815455594002307),\n",
       " (0.9434832756632066, 0.39930795847750866, 0.24982698961937716),\n",
       " (0.9693194925028835, 0.5174163783160323, 0.30426758938869664),\n",
       " (0.9873125720876587, 0.6473663975394078, 0.3642445213379469),\n",
       " (0.9934640522875817, 0.7477124183006535, 0.44183006535947705),\n",
       " (0.9953094963475586, 0.8399846212995001, 0.5285659361783929),\n",
       " (0.9971549404075356, 0.9118031526336025, 0.6153018069973087),\n",
       " (0.9990003844675125, 0.9690119184928874, 0.7020376778162245),\n",
       " (0.9690119184928874, 0.9880046136101499, 0.805997693194925),\n",
       " (0.9118031526336026, 0.9658592848904267, 0.9111880046136099),\n",
       " (0.8376778162245292, 0.9329488658208382, 0.9610149942329873),\n",
       " (0.7398692810457519, 0.884967320261438, 0.9333333333333333),\n",
       " (0.6409842368319879, 0.8272971933871589, 0.90080738177624),\n",
       " (0.5310265282583623, 0.7393310265282584, 0.8528258362168397),\n",
       " (0.43321799307958475, 0.6525951557093426, 0.8062283737024222),\n",
       " (0.346482122260669, 0.5492502883506344, 0.7527104959630911),\n",
       " (0.2659746251441753, 0.44429065743944635, 0.6987312572087659),\n",
       " (0.2290657439446367, 0.32802768166089963, 0.641522491349481)]"
      ]
     },
     "metadata": {},
     "output_type": "display_data"
    },
    {
     "name": "stdout",
     "output_type": "stream",
     "text": [
      "RdYlBu_r\n"
     ]
    },
    {
     "data": {
      "text/html": [
       "<svg  width=\"1100\" height=\"55\"><rect x=\"0\" y=\"0\" width=\"55\" height=\"55\" style=\"fill:#3a54a4;stroke-width:2;stroke:rgb(255,255,255)\"/><rect x=\"55\" y=\"0\" width=\"55\" height=\"55\" style=\"fill:#4471b2;stroke-width:2;stroke:rgb(255,255,255)\"/><rect x=\"110\" y=\"0\" width=\"55\" height=\"55\" style=\"fill:#588cc0;stroke-width:2;stroke:rgb(255,255,255)\"/><rect x=\"165\" y=\"0\" width=\"55\" height=\"55\" style=\"fill:#6ea6ce;stroke-width:2;stroke:rgb(255,255,255)\"/><rect x=\"220\" y=\"0\" width=\"55\" height=\"55\" style=\"fill:#87bdd9;stroke-width:2;stroke:rgb(255,255,255)\"/><rect x=\"275\" y=\"0\" width=\"55\" height=\"55\" style=\"fill:#a3d3e6;stroke-width:2;stroke:rgb(255,255,255)\"/><rect x=\"330\" y=\"0\" width=\"55\" height=\"55\" style=\"fill:#bde2ee;stroke-width:2;stroke:rgb(255,255,255)\"/><rect x=\"385\" y=\"0\" width=\"55\" height=\"55\" style=\"fill:#d6eef5;stroke-width:2;stroke:rgb(255,255,255)\"/><rect x=\"440\" y=\"0\" width=\"55\" height=\"55\" style=\"fill:#e9f6e8;stroke-width:2;stroke:rgb(255,255,255)\"/><rect x=\"495\" y=\"0\" width=\"55\" height=\"55\" style=\"fill:#f7fcce;stroke-width:2;stroke:rgb(255,255,255)\"/><rect x=\"550\" y=\"0\" width=\"55\" height=\"55\" style=\"fill:#fff7b3;stroke-width:2;stroke:rgb(255,255,255)\"/><rect x=\"605\" y=\"0\" width=\"55\" height=\"55\" style=\"fill:#fee99d;stroke-width:2;stroke:rgb(255,255,255)\"/><rect x=\"660\" y=\"0\" width=\"55\" height=\"55\" style=\"fill:#fed687;stroke-width:2;stroke:rgb(255,255,255)\"/><rect x=\"715\" y=\"0\" width=\"55\" height=\"55\" style=\"fill:#fdbf71;stroke-width:2;stroke:rgb(255,255,255)\"/><rect x=\"770\" y=\"0\" width=\"55\" height=\"55\" style=\"fill:#fca55d;stroke-width:2;stroke:rgb(255,255,255)\"/><rect x=\"825\" y=\"0\" width=\"55\" height=\"55\" style=\"fill:#f7844e;stroke-width:2;stroke:rgb(255,255,255)\"/><rect x=\"880\" y=\"0\" width=\"55\" height=\"55\" style=\"fill:#f16640;stroke-width:2;stroke:rgb(255,255,255)\"/><rect x=\"935\" y=\"0\" width=\"55\" height=\"55\" style=\"fill:#e34933;stroke-width:2;stroke:rgb(255,255,255)\"/><rect x=\"990\" y=\"0\" width=\"55\" height=\"55\" style=\"fill:#d42d27;stroke-width:2;stroke:rgb(255,255,255)\"/><rect x=\"1045\" y=\"0\" width=\"55\" height=\"55\" style=\"fill:#bd1726;stroke-width:2;stroke:rgb(255,255,255)\"/></svg>"
      ],
      "text/plain": [
       "[(0.2290657439446367, 0.3280276816608997, 0.641522491349481),\n",
       " (0.2659746251441753, 0.4442906574394464, 0.6987312572087659),\n",
       " (0.34648212226066905, 0.5492502883506345, 0.7527104959630911),\n",
       " (0.43321799307958486, 0.6525951557093427, 0.8062283737024222),\n",
       " (0.5310265282583623, 0.7393310265282584, 0.8528258362168397),\n",
       " (0.6409842368319878, 0.8272971933871589, 0.90080738177624),\n",
       " (0.7398692810457518, 0.884967320261438, 0.9333333333333333),\n",
       " (0.8376778162245292, 0.9329488658208382, 0.9610149942329873),\n",
       " (0.9118031526336026, 0.9658592848904267, 0.9111880046136099),\n",
       " (0.9690119184928874, 0.9880046136101499, 0.805997693194925),\n",
       " (0.9990003844675125, 0.9690119184928874, 0.7020376778162245),\n",
       " (0.9971549404075356, 0.9118031526336025, 0.6153018069973087),\n",
       " (0.9953094963475586, 0.8399846212995001, 0.5285659361783929),\n",
       " (0.9934640522875817, 0.7477124183006536, 0.4418300653594771),\n",
       " (0.9873125720876587, 0.647366397539408, 0.36424452133794694),\n",
       " (0.9693194925028835, 0.5174163783160323, 0.30426758938869664),\n",
       " (0.9434832756632064, 0.39930795847750866, 0.24982698961937716),\n",
       " (0.8899653979238754, 0.28673587081891583, 0.19815455594002307),\n",
       " (0.831603229527105, 0.17716262975778546, 0.15271049596309114),\n",
       " (0.7393310265282584, 0.08858131487889273, 0.1508650519031142)]"
      ]
     },
     "metadata": {},
     "output_type": "display_data"
    },
    {
     "name": "stdout",
     "output_type": "stream",
     "text": [
      "RdYlGn\n"
     ]
    },
    {
     "data": {
      "text/html": [
       "<svg  width=\"1100\" height=\"55\"><rect x=\"0\" y=\"0\" width=\"55\" height=\"55\" style=\"fill:#bd1726;stroke-width:2;stroke:rgb(255,255,255)\"/><rect x=\"55\" y=\"0\" width=\"55\" height=\"55\" style=\"fill:#d42d27;stroke-width:2;stroke:rgb(255,255,255)\"/><rect x=\"110\" y=\"0\" width=\"55\" height=\"55\" style=\"fill:#e34933;stroke-width:2;stroke:rgb(255,255,255)\"/><rect x=\"165\" y=\"0\" width=\"55\" height=\"55\" style=\"fill:#f16640;stroke-width:2;stroke:rgb(255,255,255)\"/><rect x=\"220\" y=\"0\" width=\"55\" height=\"55\" style=\"fill:#f7844e;stroke-width:2;stroke:rgb(255,255,255)\"/><rect x=\"275\" y=\"0\" width=\"55\" height=\"55\" style=\"fill:#fca55d;stroke-width:2;stroke:rgb(255,255,255)\"/><rect x=\"330\" y=\"0\" width=\"55\" height=\"55\" style=\"fill:#fdbf6f;stroke-width:2;stroke:rgb(255,255,255)\"/><rect x=\"385\" y=\"0\" width=\"55\" height=\"55\" style=\"fill:#fed683;stroke-width:2;stroke:rgb(255,255,255)\"/><rect x=\"440\" y=\"0\" width=\"55\" height=\"55\" style=\"fill:#fee999;stroke-width:2;stroke:rgb(255,255,255)\"/><rect x=\"495\" y=\"0\" width=\"55\" height=\"55\" style=\"fill:#fff7b2;stroke-width:2;stroke:rgb(255,255,255)\"/><rect x=\"550\" y=\"0\" width=\"55\" height=\"55\" style=\"fill:#f5fbb2;stroke-width:2;stroke:rgb(255,255,255)\"/><rect x=\"605\" y=\"0\" width=\"55\" height=\"55\" style=\"fill:#e3f399;stroke-width:2;stroke:rgb(255,255,255)\"/><rect x=\"660\" y=\"0\" width=\"55\" height=\"55\" style=\"fill:#cfeb85;stroke-width:2;stroke:rgb(255,255,255)\"/><rect x=\"715\" y=\"0\" width=\"55\" height=\"55\" style=\"fill:#b7e075;stroke-width:2;stroke:rgb(255,255,255)\"/><rect x=\"770\" y=\"0\" width=\"55\" height=\"55\" style=\"fill:#9dd569;stroke-width:2;stroke:rgb(255,255,255)\"/><rect x=\"825\" y=\"0\" width=\"55\" height=\"55\" style=\"fill:#7dc765;stroke-width:2;stroke:rgb(255,255,255)\"/><rect x=\"880\" y=\"0\" width=\"55\" height=\"55\" style=\"fill:#5db961;stroke-width:2;stroke:rgb(255,255,255)\"/><rect x=\"935\" y=\"0\" width=\"55\" height=\"55\" style=\"fill:#39a758;stroke-width:2;stroke:rgb(255,255,255)\"/><rect x=\"990\" y=\"0\" width=\"55\" height=\"55\" style=\"fill:#18954f;stroke-width:2;stroke:rgb(255,255,255)\"/><rect x=\"1045\" y=\"0\" width=\"55\" height=\"55\" style=\"fill:#0c7f43;stroke-width:2;stroke:rgb(255,255,255)\"/></svg>"
      ],
      "text/plain": [
       "[(0.7393310265282584, 0.08858131487889273, 0.1508650519031142),\n",
       " (0.831603229527105, 0.17716262975778546, 0.15271049596309114),\n",
       " (0.8899653979238754, 0.2867358708189158, 0.19815455594002307),\n",
       " (0.9434832756632066, 0.39930795847750866, 0.24982698961937716),\n",
       " (0.9693194925028835, 0.5174163783160323, 0.30426758938869664),\n",
       " (0.9873125720876587, 0.6473663975394078, 0.3642445213379469),\n",
       " (0.9934640522875817, 0.7477124183006535, 0.4352941176470587),\n",
       " (0.9953094963475586, 0.8399846212995001, 0.5128027681660899),\n",
       " (0.9971549404075356, 0.9118031526336025, 0.6010765090349866),\n",
       " (0.9990003844675125, 0.9690119184928874, 0.697039600153787),\n",
       " (0.9620146097654748, 0.9840061514802, 0.6970396001537871),\n",
       " (0.8918877354863515, 0.954479046520569, 0.6010765090349867),\n",
       " (0.8117647058823532, 0.9203383314109959, 0.5197231833910035),\n",
       " (0.7176470588235296, 0.8797385620915034, 0.45882352941176485),\n",
       " (0.6165321030372937, 0.8359092656670513, 0.41191849288735105),\n",
       " (0.4885813148788929, 0.7799307958477509, 0.397923875432526),\n",
       " (0.3649365628604383, 0.7241061130334487, 0.37946943483275664),\n",
       " (0.22468281430219145, 0.6558246828143022, 0.3444059976931949),\n",
       " (0.09596309111880046, 0.5850057670126875, 0.3079584775086505),\n",
       " (0.04798154555940023, 0.4964244521337947, 0.2618223760092272)]"
      ]
     },
     "metadata": {},
     "output_type": "display_data"
    },
    {
     "name": "stdout",
     "output_type": "stream",
     "text": [
      "RdYlGn_r\n"
     ]
    },
    {
     "data": {
      "text/html": [
       "<svg  width=\"1100\" height=\"55\"><rect x=\"0\" y=\"0\" width=\"55\" height=\"55\" style=\"fill:#0c7f43;stroke-width:2;stroke:rgb(255,255,255)\"/><rect x=\"55\" y=\"0\" width=\"55\" height=\"55\" style=\"fill:#18954f;stroke-width:2;stroke:rgb(255,255,255)\"/><rect x=\"110\" y=\"0\" width=\"55\" height=\"55\" style=\"fill:#39a758;stroke-width:2;stroke:rgb(255,255,255)\"/><rect x=\"165\" y=\"0\" width=\"55\" height=\"55\" style=\"fill:#5db961;stroke-width:2;stroke:rgb(255,255,255)\"/><rect x=\"220\" y=\"0\" width=\"55\" height=\"55\" style=\"fill:#7dc765;stroke-width:2;stroke:rgb(255,255,255)\"/><rect x=\"275\" y=\"0\" width=\"55\" height=\"55\" style=\"fill:#9dd569;stroke-width:2;stroke:rgb(255,255,255)\"/><rect x=\"330\" y=\"0\" width=\"55\" height=\"55\" style=\"fill:#b7e075;stroke-width:2;stroke:rgb(255,255,255)\"/><rect x=\"385\" y=\"0\" width=\"55\" height=\"55\" style=\"fill:#cfeb85;stroke-width:2;stroke:rgb(255,255,255)\"/><rect x=\"440\" y=\"0\" width=\"55\" height=\"55\" style=\"fill:#e3f399;stroke-width:2;stroke:rgb(255,255,255)\"/><rect x=\"495\" y=\"0\" width=\"55\" height=\"55\" style=\"fill:#f5fbb2;stroke-width:2;stroke:rgb(255,255,255)\"/><rect x=\"550\" y=\"0\" width=\"55\" height=\"55\" style=\"fill:#fff7b2;stroke-width:2;stroke:rgb(255,255,255)\"/><rect x=\"605\" y=\"0\" width=\"55\" height=\"55\" style=\"fill:#fee999;stroke-width:2;stroke:rgb(255,255,255)\"/><rect x=\"660\" y=\"0\" width=\"55\" height=\"55\" style=\"fill:#fed683;stroke-width:2;stroke:rgb(255,255,255)\"/><rect x=\"715\" y=\"0\" width=\"55\" height=\"55\" style=\"fill:#fdbf6f;stroke-width:2;stroke:rgb(255,255,255)\"/><rect x=\"770\" y=\"0\" width=\"55\" height=\"55\" style=\"fill:#fca55d;stroke-width:2;stroke:rgb(255,255,255)\"/><rect x=\"825\" y=\"0\" width=\"55\" height=\"55\" style=\"fill:#f7844e;stroke-width:2;stroke:rgb(255,255,255)\"/><rect x=\"880\" y=\"0\" width=\"55\" height=\"55\" style=\"fill:#f16640;stroke-width:2;stroke:rgb(255,255,255)\"/><rect x=\"935\" y=\"0\" width=\"55\" height=\"55\" style=\"fill:#e34933;stroke-width:2;stroke:rgb(255,255,255)\"/><rect x=\"990\" y=\"0\" width=\"55\" height=\"55\" style=\"fill:#d42d27;stroke-width:2;stroke:rgb(255,255,255)\"/><rect x=\"1045\" y=\"0\" width=\"55\" height=\"55\" style=\"fill:#bd1726;stroke-width:2;stroke:rgb(255,255,255)\"/></svg>"
      ],
      "text/plain": [
       "[(0.04798154555940024, 0.4964244521337947, 0.26182237600922725),\n",
       " (0.09596309111880048, 0.5850057670126875, 0.3079584775086505),\n",
       " (0.2246828143021916, 0.6558246828143023, 0.34440599769319497),\n",
       " (0.3649365628604385, 0.7241061130334487, 0.3794694348327567),\n",
       " (0.4885813148788929, 0.7799307958477509, 0.397923875432526),\n",
       " (0.6165321030372936, 0.8359092656670511, 0.41191849288735105),\n",
       " (0.7176470588235295, 0.8797385620915034, 0.4588235294117648),\n",
       " (0.8117647058823532, 0.9203383314109959, 0.5197231833910035),\n",
       " (0.8918877354863515, 0.954479046520569, 0.6010765090349867),\n",
       " (0.9620146097654748, 0.9840061514802, 0.6970396001537871),\n",
       " (0.9990003844675125, 0.9690119184928874, 0.697039600153787),\n",
       " (0.9971549404075356, 0.9118031526336025, 0.6010765090349866),\n",
       " (0.9953094963475586, 0.8399846212995001, 0.5128027681660899),\n",
       " (0.9934640522875817, 0.7477124183006536, 0.43529411764705883),\n",
       " (0.9873125720876587, 0.647366397539408, 0.36424452133794694),\n",
       " (0.9693194925028835, 0.5174163783160323, 0.30426758938869664),\n",
       " (0.9434832756632064, 0.39930795847750866, 0.24982698961937716),\n",
       " (0.8899653979238754, 0.28673587081891583, 0.19815455594002307),\n",
       " (0.831603229527105, 0.17716262975778546, 0.15271049596309114),\n",
       " (0.7393310265282584, 0.08858131487889273, 0.1508650519031142)]"
      ]
     },
     "metadata": {},
     "output_type": "display_data"
    },
    {
     "name": "stdout",
     "output_type": "stream",
     "text": [
      "Reds\n"
     ]
    },
    {
     "data": {
      "text/html": [
       "<svg  width=\"1100\" height=\"55\"><rect x=\"0\" y=\"0\" width=\"55\" height=\"55\" style=\"fill:#ffede5;stroke-width:2;stroke:rgb(255,255,255)\"/><rect x=\"55\" y=\"0\" width=\"55\" height=\"55\" style=\"fill:#fee5d9;stroke-width:2;stroke:rgb(255,255,255)\"/><rect x=\"110\" y=\"0\" width=\"55\" height=\"55\" style=\"fill:#fedbcc;stroke-width:2;stroke:rgb(255,255,255)\"/><rect x=\"165\" y=\"0\" width=\"55\" height=\"55\" style=\"fill:#fdcdb9;stroke-width:2;stroke:rgb(255,255,255)\"/><rect x=\"220\" y=\"0\" width=\"55\" height=\"55\" style=\"fill:#fcbfa7;stroke-width:2;stroke:rgb(255,255,255)\"/><rect x=\"275\" y=\"0\" width=\"55\" height=\"55\" style=\"fill:#fcaf93;stroke-width:2;stroke:rgb(255,255,255)\"/><rect x=\"330\" y=\"0\" width=\"55\" height=\"55\" style=\"fill:#fca082;stroke-width:2;stroke:rgb(255,255,255)\"/><rect x=\"385\" y=\"0\" width=\"55\" height=\"55\" style=\"fill:#fc9070;stroke-width:2;stroke:rgb(255,255,255)\"/><rect x=\"440\" y=\"0\" width=\"55\" height=\"55\" style=\"fill:#fc8161;stroke-width:2;stroke:rgb(255,255,255)\"/><rect x=\"495\" y=\"0\" width=\"55\" height=\"55\" style=\"fill:#fb7252;stroke-width:2;stroke:rgb(255,255,255)\"/><rect x=\"550\" y=\"0\" width=\"55\" height=\"55\" style=\"fill:#f96044;stroke-width:2;stroke:rgb(255,255,255)\"/><rect x=\"605\" y=\"0\" width=\"55\" height=\"55\" style=\"fill:#f44f39;stroke-width:2;stroke:rgb(255,255,255)\"/><rect x=\"660\" y=\"0\" width=\"55\" height=\"55\" style=\"fill:#f03d2d;stroke-width:2;stroke:rgb(255,255,255)\"/><rect x=\"715\" y=\"0\" width=\"55\" height=\"55\" style=\"fill:#e32f27;stroke-width:2;stroke:rgb(255,255,255)\"/><rect x=\"770\" y=\"0\" width=\"55\" height=\"55\" style=\"fill:#d52221;stroke-width:2;stroke:rgb(255,255,255)\"/><rect x=\"825\" y=\"0\" width=\"55\" height=\"55\" style=\"fill:#c7171c;stroke-width:2;stroke:rgb(255,255,255)\"/><rect x=\"880\" y=\"0\" width=\"55\" height=\"55\" style=\"fill:#b81419;stroke-width:2;stroke:rgb(255,255,255)\"/><rect x=\"935\" y=\"0\" width=\"55\" height=\"55\" style=\"fill:#aa1016;stroke-width:2;stroke:rgb(255,255,255)\"/><rect x=\"990\" y=\"0\" width=\"55\" height=\"55\" style=\"fill:#960b13;stroke-width:2;stroke:rgb(255,255,255)\"/><rect x=\"1045\" y=\"0\" width=\"55\" height=\"55\" style=\"fill:#7e0610;stroke-width:2;stroke:rgb(255,255,255)\"/></svg>"
      ],
      "text/plain": [
       "[(0.9985236447520185, 0.9297808535178778, 0.8968858131487889),\n",
       " (0.9970472895040369, 0.8987773933102653, 0.8525951557093425),\n",
       " (0.9950634371395617, 0.8596539792387543, 0.7986620530565167),\n",
       " (0.9921107266435987, 0.8050288350634371, 0.726320645905421),\n",
       " (0.9891580161476355, 0.75040369088812, 0.6539792387543253),\n",
       " (0.9882352941176471, 0.6866743560169165, 0.5778854286812765),\n",
       " (0.9882352941176471, 0.6261437908496732, 0.5084967320261438),\n",
       " (0.9880661284121492, 0.5657823913879277, 0.44029219530949637),\n",
       " (0.9865897731641676, 0.5067281814686659, 0.38123798539023457),\n",
       " (0.985113417916186, 0.4476739715494041, 0.32218377547097277),\n",
       " (0.974717416378316, 0.37810073048827375, 0.26620530565167244),\n",
       " (0.9570011534025374, 0.3087120338331411, 0.22191464821222606),\n",
       " (0.9392848904267589, 0.23932333717800847, 0.17762399077277968),\n",
       " (0.8901960784313725, 0.18562091503267975, 0.15294117647058825),\n",
       " (0.8370472895040368, 0.13394848135332565, 0.13079584775086506),\n",
       " (0.7785467128027681, 0.08996539792387544, 0.11003460207612456),\n",
       " (0.7224452133794694, 0.07667820069204152, 0.0982237600922722),\n",
       " (0.6663437139561708, 0.06339100346020761, 0.08641291810841982),\n",
       " (0.5869896193771627, 0.044290657439446365, 0.07460207612456746),\n",
       " (0.4954555940023068, 0.022145328719723183, 0.06279123414071511)]"
      ]
     },
     "metadata": {},
     "output_type": "display_data"
    },
    {
     "name": "stdout",
     "output_type": "stream",
     "text": [
      "Reds_r\n"
     ]
    },
    {
     "data": {
      "text/html": [
       "<svg  width=\"1100\" height=\"55\"><rect x=\"0\" y=\"0\" width=\"55\" height=\"55\" style=\"fill:#7e0610;stroke-width:2;stroke:rgb(255,255,255)\"/><rect x=\"55\" y=\"0\" width=\"55\" height=\"55\" style=\"fill:#960b13;stroke-width:2;stroke:rgb(255,255,255)\"/><rect x=\"110\" y=\"0\" width=\"55\" height=\"55\" style=\"fill:#aa1016;stroke-width:2;stroke:rgb(255,255,255)\"/><rect x=\"165\" y=\"0\" width=\"55\" height=\"55\" style=\"fill:#b81419;stroke-width:2;stroke:rgb(255,255,255)\"/><rect x=\"220\" y=\"0\" width=\"55\" height=\"55\" style=\"fill:#c7171c;stroke-width:2;stroke:rgb(255,255,255)\"/><rect x=\"275\" y=\"0\" width=\"55\" height=\"55\" style=\"fill:#d52221;stroke-width:2;stroke:rgb(255,255,255)\"/><rect x=\"330\" y=\"0\" width=\"55\" height=\"55\" style=\"fill:#e32f27;stroke-width:2;stroke:rgb(255,255,255)\"/><rect x=\"385\" y=\"0\" width=\"55\" height=\"55\" style=\"fill:#f03d2d;stroke-width:2;stroke:rgb(255,255,255)\"/><rect x=\"440\" y=\"0\" width=\"55\" height=\"55\" style=\"fill:#f44f39;stroke-width:2;stroke:rgb(255,255,255)\"/><rect x=\"495\" y=\"0\" width=\"55\" height=\"55\" style=\"fill:#f96044;stroke-width:2;stroke:rgb(255,255,255)\"/><rect x=\"550\" y=\"0\" width=\"55\" height=\"55\" style=\"fill:#fb7252;stroke-width:2;stroke:rgb(255,255,255)\"/><rect x=\"605\" y=\"0\" width=\"55\" height=\"55\" style=\"fill:#fc8161;stroke-width:2;stroke:rgb(255,255,255)\"/><rect x=\"660\" y=\"0\" width=\"55\" height=\"55\" style=\"fill:#fc9070;stroke-width:2;stroke:rgb(255,255,255)\"/><rect x=\"715\" y=\"0\" width=\"55\" height=\"55\" style=\"fill:#fca082;stroke-width:2;stroke:rgb(255,255,255)\"/><rect x=\"770\" y=\"0\" width=\"55\" height=\"55\" style=\"fill:#fcaf93;stroke-width:2;stroke:rgb(255,255,255)\"/><rect x=\"825\" y=\"0\" width=\"55\" height=\"55\" style=\"fill:#fcbfa7;stroke-width:2;stroke:rgb(255,255,255)\"/><rect x=\"880\" y=\"0\" width=\"55\" height=\"55\" style=\"fill:#fdcdb9;stroke-width:2;stroke:rgb(255,255,255)\"/><rect x=\"935\" y=\"0\" width=\"55\" height=\"55\" style=\"fill:#fedbcc;stroke-width:2;stroke:rgb(255,255,255)\"/><rect x=\"990\" y=\"0\" width=\"55\" height=\"55\" style=\"fill:#fee5d9;stroke-width:2;stroke:rgb(255,255,255)\"/><rect x=\"1045\" y=\"0\" width=\"55\" height=\"55\" style=\"fill:#ffede5;stroke-width:2;stroke:rgb(255,255,255)\"/></svg>"
      ],
      "text/plain": [
       "[(0.4954555940023068, 0.022145328719723183, 0.0627912341407151),\n",
       " (0.5869896193771627, 0.044290657439446365, 0.07460207612456746),\n",
       " (0.6663437139561708, 0.06339100346020761, 0.08641291810841982),\n",
       " (0.7224452133794694, 0.07667820069204152, 0.0982237600922722),\n",
       " (0.7785467128027681, 0.08996539792387542, 0.11003460207612456),\n",
       " (0.8370472895040368, 0.13394848135332565, 0.13079584775086506),\n",
       " (0.8901960784313725, 0.18562091503267975, 0.15294117647058825),\n",
       " (0.9392848904267589, 0.23932333717800847, 0.1776239907727797),\n",
       " (0.9570011534025374, 0.3087120338331411, 0.22191464821222606),\n",
       " (0.974717416378316, 0.37810073048827375, 0.26620530565167244),\n",
       " (0.985113417916186, 0.4476739715494041, 0.3221837754709727),\n",
       " (0.9865897731641676, 0.5067281814686659, 0.38123798539023457),\n",
       " (0.9880661284121492, 0.5657823913879276, 0.44029219530949637),\n",
       " (0.9882352941176471, 0.6261437908496732, 0.5084967320261438),\n",
       " (0.9882352941176471, 0.6866743560169165, 0.5778854286812765),\n",
       " (0.9891580161476355, 0.7504036908881199, 0.6539792387543253),\n",
       " (0.9921107266435987, 0.8050288350634371, 0.726320645905421),\n",
       " (0.9950634371395617, 0.8596539792387543, 0.7986620530565167),\n",
       " (0.9970472895040369, 0.8987773933102653, 0.8525951557093425),\n",
       " (0.9985236447520185, 0.9297808535178778, 0.8968858131487889)]"
      ]
     },
     "metadata": {},
     "output_type": "display_data"
    },
    {
     "name": "stdout",
     "output_type": "stream",
     "text": [
      "Set1\n"
     ]
    },
    {
     "data": {
      "text/html": [
       "<svg  width=\"1100\" height=\"55\"><rect x=\"0\" y=\"0\" width=\"55\" height=\"55\" style=\"fill:#e41a1c;stroke-width:2;stroke:rgb(255,255,255)\"/><rect x=\"55\" y=\"0\" width=\"55\" height=\"55\" style=\"fill:#377eb8;stroke-width:2;stroke:rgb(255,255,255)\"/><rect x=\"110\" y=\"0\" width=\"55\" height=\"55\" style=\"fill:#4daf4a;stroke-width:2;stroke:rgb(255,255,255)\"/><rect x=\"165\" y=\"0\" width=\"55\" height=\"55\" style=\"fill:#984ea3;stroke-width:2;stroke:rgb(255,255,255)\"/><rect x=\"220\" y=\"0\" width=\"55\" height=\"55\" style=\"fill:#ff7f00;stroke-width:2;stroke:rgb(255,255,255)\"/><rect x=\"275\" y=\"0\" width=\"55\" height=\"55\" style=\"fill:#ffff33;stroke-width:2;stroke:rgb(255,255,255)\"/><rect x=\"330\" y=\"0\" width=\"55\" height=\"55\" style=\"fill:#a65628;stroke-width:2;stroke:rgb(255,255,255)\"/><rect x=\"385\" y=\"0\" width=\"55\" height=\"55\" style=\"fill:#f781bf;stroke-width:2;stroke:rgb(255,255,255)\"/><rect x=\"440\" y=\"0\" width=\"55\" height=\"55\" style=\"fill:#999999;stroke-width:2;stroke:rgb(255,255,255)\"/><rect x=\"495\" y=\"0\" width=\"55\" height=\"55\" style=\"fill:#e41a1c;stroke-width:2;stroke:rgb(255,255,255)\"/><rect x=\"550\" y=\"0\" width=\"55\" height=\"55\" style=\"fill:#377eb8;stroke-width:2;stroke:rgb(255,255,255)\"/><rect x=\"605\" y=\"0\" width=\"55\" height=\"55\" style=\"fill:#4daf4a;stroke-width:2;stroke:rgb(255,255,255)\"/><rect x=\"660\" y=\"0\" width=\"55\" height=\"55\" style=\"fill:#984ea3;stroke-width:2;stroke:rgb(255,255,255)\"/><rect x=\"715\" y=\"0\" width=\"55\" height=\"55\" style=\"fill:#ff7f00;stroke-width:2;stroke:rgb(255,255,255)\"/><rect x=\"770\" y=\"0\" width=\"55\" height=\"55\" style=\"fill:#ffff33;stroke-width:2;stroke:rgb(255,255,255)\"/><rect x=\"825\" y=\"0\" width=\"55\" height=\"55\" style=\"fill:#a65628;stroke-width:2;stroke:rgb(255,255,255)\"/><rect x=\"880\" y=\"0\" width=\"55\" height=\"55\" style=\"fill:#f781bf;stroke-width:2;stroke:rgb(255,255,255)\"/><rect x=\"935\" y=\"0\" width=\"55\" height=\"55\" style=\"fill:#999999;stroke-width:2;stroke:rgb(255,255,255)\"/><rect x=\"990\" y=\"0\" width=\"55\" height=\"55\" style=\"fill:#e41a1c;stroke-width:2;stroke:rgb(255,255,255)\"/><rect x=\"1045\" y=\"0\" width=\"55\" height=\"55\" style=\"fill:#377eb8;stroke-width:2;stroke:rgb(255,255,255)\"/></svg>"
      ],
      "text/plain": [
       "[(0.8941176470588236, 0.10196078431372549, 0.10980392156862745),\n",
       " (0.21568627450980393, 0.49411764705882355, 0.7215686274509804),\n",
       " (0.30196078431372547, 0.6862745098039216, 0.2901960784313726),\n",
       " (0.596078431372549, 0.3058823529411765, 0.6392156862745098),\n",
       " (1.0, 0.4980392156862745, 0.0),\n",
       " (1.0, 1.0, 0.2),\n",
       " (0.6509803921568628, 0.33725490196078434, 0.1568627450980392),\n",
       " (0.9686274509803922, 0.5058823529411764, 0.7490196078431373),\n",
       " (0.6, 0.6, 0.6),\n",
       " (0.8941176470588236, 0.10196078431372549, 0.10980392156862745),\n",
       " (0.21568627450980393, 0.49411764705882355, 0.7215686274509804),\n",
       " (0.30196078431372547, 0.6862745098039216, 0.2901960784313726),\n",
       " (0.596078431372549, 0.3058823529411765, 0.6392156862745098),\n",
       " (1.0, 0.4980392156862745, 0.0),\n",
       " (1.0, 1.0, 0.2),\n",
       " (0.6509803921568628, 0.33725490196078434, 0.1568627450980392),\n",
       " (0.9686274509803922, 0.5058823529411764, 0.7490196078431373),\n",
       " (0.6, 0.6, 0.6),\n",
       " (0.8941176470588236, 0.10196078431372549, 0.10980392156862745),\n",
       " (0.21568627450980393, 0.49411764705882355, 0.7215686274509804)]"
      ]
     },
     "metadata": {},
     "output_type": "display_data"
    },
    {
     "name": "stdout",
     "output_type": "stream",
     "text": [
      "Set1_r\n"
     ]
    },
    {
     "data": {
      "text/html": [
       "<svg  width=\"1100\" height=\"55\"><rect x=\"0\" y=\"0\" width=\"55\" height=\"55\" style=\"fill:#999999;stroke-width:2;stroke:rgb(255,255,255)\"/><rect x=\"55\" y=\"0\" width=\"55\" height=\"55\" style=\"fill:#999999;stroke-width:2;stroke:rgb(255,255,255)\"/><rect x=\"110\" y=\"0\" width=\"55\" height=\"55\" style=\"fill:#f781bf;stroke-width:2;stroke:rgb(255,255,255)\"/><rect x=\"165\" y=\"0\" width=\"55\" height=\"55\" style=\"fill:#f781bf;stroke-width:2;stroke:rgb(255,255,255)\"/><rect x=\"220\" y=\"0\" width=\"55\" height=\"55\" style=\"fill:#a65628;stroke-width:2;stroke:rgb(255,255,255)\"/><rect x=\"275\" y=\"0\" width=\"55\" height=\"55\" style=\"fill:#a65628;stroke-width:2;stroke:rgb(255,255,255)\"/><rect x=\"330\" y=\"0\" width=\"55\" height=\"55\" style=\"fill:#ffff33;stroke-width:2;stroke:rgb(255,255,255)\"/><rect x=\"385\" y=\"0\" width=\"55\" height=\"55\" style=\"fill:#ffff33;stroke-width:2;stroke:rgb(255,255,255)\"/><rect x=\"440\" y=\"0\" width=\"55\" height=\"55\" style=\"fill:#ffff33;stroke-width:2;stroke:rgb(255,255,255)\"/><rect x=\"495\" y=\"0\" width=\"55\" height=\"55\" style=\"fill:#ff7f00;stroke-width:2;stroke:rgb(255,255,255)\"/><rect x=\"550\" y=\"0\" width=\"55\" height=\"55\" style=\"fill:#ff7f00;stroke-width:2;stroke:rgb(255,255,255)\"/><rect x=\"605\" y=\"0\" width=\"55\" height=\"55\" style=\"fill:#984ea3;stroke-width:2;stroke:rgb(255,255,255)\"/><rect x=\"660\" y=\"0\" width=\"55\" height=\"55\" style=\"fill:#984ea3;stroke-width:2;stroke:rgb(255,255,255)\"/><rect x=\"715\" y=\"0\" width=\"55\" height=\"55\" style=\"fill:#4daf4a;stroke-width:2;stroke:rgb(255,255,255)\"/><rect x=\"770\" y=\"0\" width=\"55\" height=\"55\" style=\"fill:#4daf4a;stroke-width:2;stroke:rgb(255,255,255)\"/><rect x=\"825\" y=\"0\" width=\"55\" height=\"55\" style=\"fill:#4daf4a;stroke-width:2;stroke:rgb(255,255,255)\"/><rect x=\"880\" y=\"0\" width=\"55\" height=\"55\" style=\"fill:#377eb8;stroke-width:2;stroke:rgb(255,255,255)\"/><rect x=\"935\" y=\"0\" width=\"55\" height=\"55\" style=\"fill:#377eb8;stroke-width:2;stroke:rgb(255,255,255)\"/><rect x=\"990\" y=\"0\" width=\"55\" height=\"55\" style=\"fill:#e41a1c;stroke-width:2;stroke:rgb(255,255,255)\"/><rect x=\"1045\" y=\"0\" width=\"55\" height=\"55\" style=\"fill:#e41a1c;stroke-width:2;stroke:rgb(255,255,255)\"/></svg>"
      ],
      "text/plain": [
       "[(0.6, 0.6, 0.6),\n",
       " (0.6, 0.6, 0.6),\n",
       " (0.9686274509803922, 0.5058823529411764, 0.7490196078431373),\n",
       " (0.9686274509803922, 0.5058823529411764, 0.7490196078431373),\n",
       " (0.6509803921568628, 0.33725490196078434, 0.1568627450980392),\n",
       " (0.6509803921568628, 0.33725490196078434, 0.1568627450980392),\n",
       " (1.0, 1.0, 0.2),\n",
       " (1.0, 1.0, 0.2),\n",
       " (1.0, 1.0, 0.2),\n",
       " (1.0, 0.4980392156862745, 0.0),\n",
       " (1.0, 0.4980392156862745, 0.0),\n",
       " (0.596078431372549, 0.3058823529411765, 0.6392156862745098),\n",
       " (0.596078431372549, 0.3058823529411765, 0.6392156862745098),\n",
       " (0.30196078431372547, 0.6862745098039216, 0.2901960784313726),\n",
       " (0.30196078431372547, 0.6862745098039216, 0.2901960784313726),\n",
       " (0.30196078431372547, 0.6862745098039216, 0.2901960784313726),\n",
       " (0.21568627450980393, 0.49411764705882355, 0.7215686274509804),\n",
       " (0.21568627450980393, 0.49411764705882355, 0.7215686274509804),\n",
       " (0.8941176470588236, 0.10196078431372549, 0.10980392156862745),\n",
       " (0.8941176470588236, 0.10196078431372549, 0.10980392156862745)]"
      ]
     },
     "metadata": {},
     "output_type": "display_data"
    },
    {
     "name": "stdout",
     "output_type": "stream",
     "text": [
      "Set2\n"
     ]
    },
    {
     "data": {
      "text/html": [
       "<svg  width=\"1100\" height=\"55\"><rect x=\"0\" y=\"0\" width=\"55\" height=\"55\" style=\"fill:#66c2a5;stroke-width:2;stroke:rgb(255,255,255)\"/><rect x=\"55\" y=\"0\" width=\"55\" height=\"55\" style=\"fill:#fc8d62;stroke-width:2;stroke:rgb(255,255,255)\"/><rect x=\"110\" y=\"0\" width=\"55\" height=\"55\" style=\"fill:#8da0cb;stroke-width:2;stroke:rgb(255,255,255)\"/><rect x=\"165\" y=\"0\" width=\"55\" height=\"55\" style=\"fill:#e78ac3;stroke-width:2;stroke:rgb(255,255,255)\"/><rect x=\"220\" y=\"0\" width=\"55\" height=\"55\" style=\"fill:#a6d854;stroke-width:2;stroke:rgb(255,255,255)\"/><rect x=\"275\" y=\"0\" width=\"55\" height=\"55\" style=\"fill:#ffd92f;stroke-width:2;stroke:rgb(255,255,255)\"/><rect x=\"330\" y=\"0\" width=\"55\" height=\"55\" style=\"fill:#e5c494;stroke-width:2;stroke:rgb(255,255,255)\"/><rect x=\"385\" y=\"0\" width=\"55\" height=\"55\" style=\"fill:#b3b3b3;stroke-width:2;stroke:rgb(255,255,255)\"/><rect x=\"440\" y=\"0\" width=\"55\" height=\"55\" style=\"fill:#66c2a5;stroke-width:2;stroke:rgb(255,255,255)\"/><rect x=\"495\" y=\"0\" width=\"55\" height=\"55\" style=\"fill:#fc8d62;stroke-width:2;stroke:rgb(255,255,255)\"/><rect x=\"550\" y=\"0\" width=\"55\" height=\"55\" style=\"fill:#8da0cb;stroke-width:2;stroke:rgb(255,255,255)\"/><rect x=\"605\" y=\"0\" width=\"55\" height=\"55\" style=\"fill:#e78ac3;stroke-width:2;stroke:rgb(255,255,255)\"/><rect x=\"660\" y=\"0\" width=\"55\" height=\"55\" style=\"fill:#a6d854;stroke-width:2;stroke:rgb(255,255,255)\"/><rect x=\"715\" y=\"0\" width=\"55\" height=\"55\" style=\"fill:#ffd92f;stroke-width:2;stroke:rgb(255,255,255)\"/><rect x=\"770\" y=\"0\" width=\"55\" height=\"55\" style=\"fill:#e5c494;stroke-width:2;stroke:rgb(255,255,255)\"/><rect x=\"825\" y=\"0\" width=\"55\" height=\"55\" style=\"fill:#b3b3b3;stroke-width:2;stroke:rgb(255,255,255)\"/><rect x=\"880\" y=\"0\" width=\"55\" height=\"55\" style=\"fill:#66c2a5;stroke-width:2;stroke:rgb(255,255,255)\"/><rect x=\"935\" y=\"0\" width=\"55\" height=\"55\" style=\"fill:#fc8d62;stroke-width:2;stroke:rgb(255,255,255)\"/><rect x=\"990\" y=\"0\" width=\"55\" height=\"55\" style=\"fill:#8da0cb;stroke-width:2;stroke:rgb(255,255,255)\"/><rect x=\"1045\" y=\"0\" width=\"55\" height=\"55\" style=\"fill:#e78ac3;stroke-width:2;stroke:rgb(255,255,255)\"/></svg>"
      ],
      "text/plain": [
       "[(0.4, 0.7607843137254902, 0.6470588235294118),\n",
       " (0.9882352941176471, 0.5529411764705883, 0.3843137254901961),\n",
       " (0.5529411764705883, 0.6274509803921569, 0.796078431372549),\n",
       " (0.9058823529411765, 0.5411764705882353, 0.7647058823529411),\n",
       " (0.6509803921568628, 0.8470588235294118, 0.32941176470588235),\n",
       " (1.0, 0.8509803921568627, 0.1843137254901961),\n",
       " (0.8980392156862745, 0.7686274509803922, 0.5803921568627451),\n",
       " (0.7019607843137254, 0.7019607843137254, 0.7019607843137254),\n",
       " (0.4, 0.7607843137254902, 0.6470588235294118),\n",
       " (0.9882352941176471, 0.5529411764705883, 0.3843137254901961),\n",
       " (0.5529411764705883, 0.6274509803921569, 0.796078431372549),\n",
       " (0.9058823529411765, 0.5411764705882353, 0.7647058823529411),\n",
       " (0.6509803921568628, 0.8470588235294118, 0.32941176470588235),\n",
       " (1.0, 0.8509803921568627, 0.1843137254901961),\n",
       " (0.8980392156862745, 0.7686274509803922, 0.5803921568627451),\n",
       " (0.7019607843137254, 0.7019607843137254, 0.7019607843137254),\n",
       " (0.4, 0.7607843137254902, 0.6470588235294118),\n",
       " (0.9882352941176471, 0.5529411764705883, 0.3843137254901961),\n",
       " (0.5529411764705883, 0.6274509803921569, 0.796078431372549),\n",
       " (0.9058823529411765, 0.5411764705882353, 0.7647058823529411)]"
      ]
     },
     "metadata": {},
     "output_type": "display_data"
    },
    {
     "name": "stdout",
     "output_type": "stream",
     "text": [
      "Set2_r\n"
     ]
    },
    {
     "data": {
      "text/html": [
       "<svg  width=\"1100\" height=\"55\"><rect x=\"0\" y=\"0\" width=\"55\" height=\"55\" style=\"fill:#b3b3b3;stroke-width:2;stroke:rgb(255,255,255)\"/><rect x=\"55\" y=\"0\" width=\"55\" height=\"55\" style=\"fill:#b3b3b3;stroke-width:2;stroke:rgb(255,255,255)\"/><rect x=\"110\" y=\"0\" width=\"55\" height=\"55\" style=\"fill:#e5c494;stroke-width:2;stroke:rgb(255,255,255)\"/><rect x=\"165\" y=\"0\" width=\"55\" height=\"55\" style=\"fill:#e5c494;stroke-width:2;stroke:rgb(255,255,255)\"/><rect x=\"220\" y=\"0\" width=\"55\" height=\"55\" style=\"fill:#e5c494;stroke-width:2;stroke:rgb(255,255,255)\"/><rect x=\"275\" y=\"0\" width=\"55\" height=\"55\" style=\"fill:#ffd92f;stroke-width:2;stroke:rgb(255,255,255)\"/><rect x=\"330\" y=\"0\" width=\"55\" height=\"55\" style=\"fill:#ffd92f;stroke-width:2;stroke:rgb(255,255,255)\"/><rect x=\"385\" y=\"0\" width=\"55\" height=\"55\" style=\"fill:#a6d854;stroke-width:2;stroke:rgb(255,255,255)\"/><rect x=\"440\" y=\"0\" width=\"55\" height=\"55\" style=\"fill:#a6d854;stroke-width:2;stroke:rgb(255,255,255)\"/><rect x=\"495\" y=\"0\" width=\"55\" height=\"55\" style=\"fill:#a6d854;stroke-width:2;stroke:rgb(255,255,255)\"/><rect x=\"550\" y=\"0\" width=\"55\" height=\"55\" style=\"fill:#e78ac3;stroke-width:2;stroke:rgb(255,255,255)\"/><rect x=\"605\" y=\"0\" width=\"55\" height=\"55\" style=\"fill:#e78ac3;stroke-width:2;stroke:rgb(255,255,255)\"/><rect x=\"660\" y=\"0\" width=\"55\" height=\"55\" style=\"fill:#e78ac3;stroke-width:2;stroke:rgb(255,255,255)\"/><rect x=\"715\" y=\"0\" width=\"55\" height=\"55\" style=\"fill:#8da0cb;stroke-width:2;stroke:rgb(255,255,255)\"/><rect x=\"770\" y=\"0\" width=\"55\" height=\"55\" style=\"fill:#8da0cb;stroke-width:2;stroke:rgb(255,255,255)\"/><rect x=\"825\" y=\"0\" width=\"55\" height=\"55\" style=\"fill:#fc8d62;stroke-width:2;stroke:rgb(255,255,255)\"/><rect x=\"880\" y=\"0\" width=\"55\" height=\"55\" style=\"fill:#fc8d62;stroke-width:2;stroke:rgb(255,255,255)\"/><rect x=\"935\" y=\"0\" width=\"55\" height=\"55\" style=\"fill:#fc8d62;stroke-width:2;stroke:rgb(255,255,255)\"/><rect x=\"990\" y=\"0\" width=\"55\" height=\"55\" style=\"fill:#66c2a5;stroke-width:2;stroke:rgb(255,255,255)\"/><rect x=\"1045\" y=\"0\" width=\"55\" height=\"55\" style=\"fill:#66c2a5;stroke-width:2;stroke:rgb(255,255,255)\"/></svg>"
      ],
      "text/plain": [
       "[(0.7019607843137254, 0.7019607843137254, 0.7019607843137254),\n",
       " (0.7019607843137254, 0.7019607843137254, 0.7019607843137254),\n",
       " (0.8980392156862745, 0.7686274509803922, 0.5803921568627451),\n",
       " (0.8980392156862745, 0.7686274509803922, 0.5803921568627451),\n",
       " (0.8980392156862745, 0.7686274509803922, 0.5803921568627451),\n",
       " (1.0, 0.8509803921568627, 0.1843137254901961),\n",
       " (1.0, 0.8509803921568627, 0.1843137254901961),\n",
       " (0.6509803921568628, 0.8470588235294118, 0.32941176470588235),\n",
       " (0.6509803921568628, 0.8470588235294118, 0.32941176470588235),\n",
       " (0.6509803921568628, 0.8470588235294118, 0.32941176470588235),\n",
       " (0.9058823529411765, 0.5411764705882353, 0.7647058823529411),\n",
       " (0.9058823529411765, 0.5411764705882353, 0.7647058823529411),\n",
       " (0.9058823529411765, 0.5411764705882353, 0.7647058823529411),\n",
       " (0.5529411764705883, 0.6274509803921569, 0.796078431372549),\n",
       " (0.5529411764705883, 0.6274509803921569, 0.796078431372549),\n",
       " (0.9882352941176471, 0.5529411764705883, 0.3843137254901961),\n",
       " (0.9882352941176471, 0.5529411764705883, 0.3843137254901961),\n",
       " (0.9882352941176471, 0.5529411764705883, 0.3843137254901961),\n",
       " (0.4, 0.7607843137254902, 0.6470588235294118),\n",
       " (0.4, 0.7607843137254902, 0.6470588235294118)]"
      ]
     },
     "metadata": {},
     "output_type": "display_data"
    },
    {
     "name": "stdout",
     "output_type": "stream",
     "text": [
      "Set3\n"
     ]
    },
    {
     "data": {
      "text/html": [
       "<svg  width=\"1100\" height=\"55\"><rect x=\"0\" y=\"0\" width=\"55\" height=\"55\" style=\"fill:#8dd3c7;stroke-width:2;stroke:rgb(255,255,255)\"/><rect x=\"55\" y=\"0\" width=\"55\" height=\"55\" style=\"fill:#ffffb3;stroke-width:2;stroke:rgb(255,255,255)\"/><rect x=\"110\" y=\"0\" width=\"55\" height=\"55\" style=\"fill:#bebada;stroke-width:2;stroke:rgb(255,255,255)\"/><rect x=\"165\" y=\"0\" width=\"55\" height=\"55\" style=\"fill:#fb8072;stroke-width:2;stroke:rgb(255,255,255)\"/><rect x=\"220\" y=\"0\" width=\"55\" height=\"55\" style=\"fill:#80b1d3;stroke-width:2;stroke:rgb(255,255,255)\"/><rect x=\"275\" y=\"0\" width=\"55\" height=\"55\" style=\"fill:#fdb462;stroke-width:2;stroke:rgb(255,255,255)\"/><rect x=\"330\" y=\"0\" width=\"55\" height=\"55\" style=\"fill:#b3de69;stroke-width:2;stroke:rgb(255,255,255)\"/><rect x=\"385\" y=\"0\" width=\"55\" height=\"55\" style=\"fill:#fccde5;stroke-width:2;stroke:rgb(255,255,255)\"/><rect x=\"440\" y=\"0\" width=\"55\" height=\"55\" style=\"fill:#d9d9d9;stroke-width:2;stroke:rgb(255,255,255)\"/><rect x=\"495\" y=\"0\" width=\"55\" height=\"55\" style=\"fill:#bc80bd;stroke-width:2;stroke:rgb(255,255,255)\"/><rect x=\"550\" y=\"0\" width=\"55\" height=\"55\" style=\"fill:#ccebc5;stroke-width:2;stroke:rgb(255,255,255)\"/><rect x=\"605\" y=\"0\" width=\"55\" height=\"55\" style=\"fill:#ffed6f;stroke-width:2;stroke:rgb(255,255,255)\"/><rect x=\"660\" y=\"0\" width=\"55\" height=\"55\" style=\"fill:#8dd3c7;stroke-width:2;stroke:rgb(255,255,255)\"/><rect x=\"715\" y=\"0\" width=\"55\" height=\"55\" style=\"fill:#ffffb3;stroke-width:2;stroke:rgb(255,255,255)\"/><rect x=\"770\" y=\"0\" width=\"55\" height=\"55\" style=\"fill:#bebada;stroke-width:2;stroke:rgb(255,255,255)\"/><rect x=\"825\" y=\"0\" width=\"55\" height=\"55\" style=\"fill:#fb8072;stroke-width:2;stroke:rgb(255,255,255)\"/><rect x=\"880\" y=\"0\" width=\"55\" height=\"55\" style=\"fill:#80b1d3;stroke-width:2;stroke:rgb(255,255,255)\"/><rect x=\"935\" y=\"0\" width=\"55\" height=\"55\" style=\"fill:#fdb462;stroke-width:2;stroke:rgb(255,255,255)\"/><rect x=\"990\" y=\"0\" width=\"55\" height=\"55\" style=\"fill:#b3de69;stroke-width:2;stroke:rgb(255,255,255)\"/><rect x=\"1045\" y=\"0\" width=\"55\" height=\"55\" style=\"fill:#fccde5;stroke-width:2;stroke:rgb(255,255,255)\"/></svg>"
      ],
      "text/plain": [
       "[(0.5529411764705883, 0.8274509803921568, 0.7803921568627451),\n",
       " (1.0, 1.0, 0.7019607843137254),\n",
       " (0.7450980392156863, 0.7294117647058823, 0.8549019607843137),\n",
       " (0.984313725490196, 0.5019607843137255, 0.4470588235294118),\n",
       " (0.5019607843137255, 0.6941176470588235, 0.8274509803921568),\n",
       " (0.9921568627450981, 0.7058823529411765, 0.3843137254901961),\n",
       " (0.7019607843137254, 0.8705882352941177, 0.4117647058823529),\n",
       " (0.9882352941176471, 0.803921568627451, 0.8980392156862745),\n",
       " (0.8509803921568627, 0.8509803921568627, 0.8509803921568627),\n",
       " (0.7372549019607844, 0.5019607843137255, 0.7411764705882353),\n",
       " (0.8, 0.9215686274509803, 0.7725490196078432),\n",
       " (1.0, 0.9294117647058824, 0.43529411764705883),\n",
       " (0.5529411764705883, 0.8274509803921568, 0.7803921568627451),\n",
       " (1.0, 1.0, 0.7019607843137254),\n",
       " (0.7450980392156863, 0.7294117647058823, 0.8549019607843137),\n",
       " (0.984313725490196, 0.5019607843137255, 0.4470588235294118),\n",
       " (0.5019607843137255, 0.6941176470588235, 0.8274509803921568),\n",
       " (0.9921568627450981, 0.7058823529411765, 0.3843137254901961),\n",
       " (0.7019607843137254, 0.8705882352941177, 0.4117647058823529),\n",
       " (0.9882352941176471, 0.803921568627451, 0.8980392156862745)]"
      ]
     },
     "metadata": {},
     "output_type": "display_data"
    },
    {
     "name": "stdout",
     "output_type": "stream",
     "text": [
      "Set3_r\n"
     ]
    },
    {
     "data": {
      "text/html": [
       "<svg  width=\"1100\" height=\"55\"><rect x=\"0\" y=\"0\" width=\"55\" height=\"55\" style=\"fill:#ffed6f;stroke-width:2;stroke:rgb(255,255,255)\"/><rect x=\"55\" y=\"0\" width=\"55\" height=\"55\" style=\"fill:#ccebc5;stroke-width:2;stroke:rgb(255,255,255)\"/><rect x=\"110\" y=\"0\" width=\"55\" height=\"55\" style=\"fill:#ccebc5;stroke-width:2;stroke:rgb(255,255,255)\"/><rect x=\"165\" y=\"0\" width=\"55\" height=\"55\" style=\"fill:#bc80bd;stroke-width:2;stroke:rgb(255,255,255)\"/><rect x=\"220\" y=\"0\" width=\"55\" height=\"55\" style=\"fill:#bc80bd;stroke-width:2;stroke:rgb(255,255,255)\"/><rect x=\"275\" y=\"0\" width=\"55\" height=\"55\" style=\"fill:#d9d9d9;stroke-width:2;stroke:rgb(255,255,255)\"/><rect x=\"330\" y=\"0\" width=\"55\" height=\"55\" style=\"fill:#fccde5;stroke-width:2;stroke:rgb(255,255,255)\"/><rect x=\"385\" y=\"0\" width=\"55\" height=\"55\" style=\"fill:#fccde5;stroke-width:2;stroke:rgb(255,255,255)\"/><rect x=\"440\" y=\"0\" width=\"55\" height=\"55\" style=\"fill:#b3de69;stroke-width:2;stroke:rgb(255,255,255)\"/><rect x=\"495\" y=\"0\" width=\"55\" height=\"55\" style=\"fill:#b3de69;stroke-width:2;stroke:rgb(255,255,255)\"/><rect x=\"550\" y=\"0\" width=\"55\" height=\"55\" style=\"fill:#fdb462;stroke-width:2;stroke:rgb(255,255,255)\"/><rect x=\"605\" y=\"0\" width=\"55\" height=\"55\" style=\"fill:#fdb462;stroke-width:2;stroke:rgb(255,255,255)\"/><rect x=\"660\" y=\"0\" width=\"55\" height=\"55\" style=\"fill:#80b1d3;stroke-width:2;stroke:rgb(255,255,255)\"/><rect x=\"715\" y=\"0\" width=\"55\" height=\"55\" style=\"fill:#fb8072;stroke-width:2;stroke:rgb(255,255,255)\"/><rect x=\"770\" y=\"0\" width=\"55\" height=\"55\" style=\"fill:#fb8072;stroke-width:2;stroke:rgb(255,255,255)\"/><rect x=\"825\" y=\"0\" width=\"55\" height=\"55\" style=\"fill:#bebada;stroke-width:2;stroke:rgb(255,255,255)\"/><rect x=\"880\" y=\"0\" width=\"55\" height=\"55\" style=\"fill:#bebada;stroke-width:2;stroke:rgb(255,255,255)\"/><rect x=\"935\" y=\"0\" width=\"55\" height=\"55\" style=\"fill:#ffffb3;stroke-width:2;stroke:rgb(255,255,255)\"/><rect x=\"990\" y=\"0\" width=\"55\" height=\"55\" style=\"fill:#ffffb3;stroke-width:2;stroke:rgb(255,255,255)\"/><rect x=\"1045\" y=\"0\" width=\"55\" height=\"55\" style=\"fill:#8dd3c7;stroke-width:2;stroke:rgb(255,255,255)\"/></svg>"
      ],
      "text/plain": [
       "[(1.0, 0.9294117647058824, 0.43529411764705883),\n",
       " (0.8, 0.9215686274509803, 0.7725490196078432),\n",
       " (0.8, 0.9215686274509803, 0.7725490196078432),\n",
       " (0.7372549019607844, 0.5019607843137255, 0.7411764705882353),\n",
       " (0.7372549019607844, 0.5019607843137255, 0.7411764705882353),\n",
       " (0.8509803921568627, 0.8509803921568627, 0.8509803921568627),\n",
       " (0.9882352941176471, 0.803921568627451, 0.8980392156862745),\n",
       " (0.9882352941176471, 0.803921568627451, 0.8980392156862745),\n",
       " (0.7019607843137254, 0.8705882352941177, 0.4117647058823529),\n",
       " (0.7019607843137254, 0.8705882352941177, 0.4117647058823529),\n",
       " (0.9921568627450981, 0.7058823529411765, 0.3843137254901961),\n",
       " (0.9921568627450981, 0.7058823529411765, 0.3843137254901961),\n",
       " (0.5019607843137255, 0.6941176470588235, 0.8274509803921568),\n",
       " (0.984313725490196, 0.5019607843137255, 0.4470588235294118),\n",
       " (0.984313725490196, 0.5019607843137255, 0.4470588235294118),\n",
       " (0.7450980392156863, 0.7294117647058823, 0.8549019607843137),\n",
       " (0.7450980392156863, 0.7294117647058823, 0.8549019607843137),\n",
       " (1.0, 1.0, 0.7019607843137254),\n",
       " (1.0, 1.0, 0.7019607843137254),\n",
       " (0.5529411764705883, 0.8274509803921568, 0.7803921568627451)]"
      ]
     },
     "metadata": {},
     "output_type": "display_data"
    },
    {
     "name": "stdout",
     "output_type": "stream",
     "text": [
      "Spectral\n"
     ]
    },
    {
     "data": {
      "text/html": [
       "<svg  width=\"1100\" height=\"55\"><rect x=\"0\" y=\"0\" width=\"55\" height=\"55\" style=\"fill:#b81e48;stroke-width:2;stroke:rgb(255,255,255)\"/><rect x=\"55\" y=\"0\" width=\"55\" height=\"55\" style=\"fill:#d23a4e;stroke-width:2;stroke:rgb(255,255,255)\"/><rect x=\"110\" y=\"0\" width=\"55\" height=\"55\" style=\"fill:#e2514a;stroke-width:2;stroke:rgb(255,255,255)\"/><rect x=\"165\" y=\"0\" width=\"55\" height=\"55\" style=\"fill:#f06744;stroke-width:2;stroke:rgb(255,255,255)\"/><rect x=\"220\" y=\"0\" width=\"55\" height=\"55\" style=\"fill:#f7844e;stroke-width:2;stroke:rgb(255,255,255)\"/><rect x=\"275\" y=\"0\" width=\"55\" height=\"55\" style=\"fill:#fca55d;stroke-width:2;stroke:rgb(255,255,255)\"/><rect x=\"330\" y=\"0\" width=\"55\" height=\"55\" style=\"fill:#fdbf6f;stroke-width:2;stroke:rgb(255,255,255)\"/><rect x=\"385\" y=\"0\" width=\"55\" height=\"55\" style=\"fill:#fed683;stroke-width:2;stroke:rgb(255,255,255)\"/><rect x=\"440\" y=\"0\" width=\"55\" height=\"55\" style=\"fill:#fee999;stroke-width:2;stroke:rgb(255,255,255)\"/><rect x=\"495\" y=\"0\" width=\"55\" height=\"55\" style=\"fill:#fff7b2;stroke-width:2;stroke:rgb(255,255,255)\"/><rect x=\"550\" y=\"0\" width=\"55\" height=\"55\" style=\"fill:#f9fcb5;stroke-width:2;stroke:rgb(255,255,255)\"/><rect x=\"605\" y=\"0\" width=\"55\" height=\"55\" style=\"fill:#edf8a3;stroke-width:2;stroke:rgb(255,255,255)\"/><rect x=\"660\" y=\"0\" width=\"55\" height=\"55\" style=\"fill:#daf09a;stroke-width:2;stroke:rgb(255,255,255)\"/><rect x=\"715\" y=\"0\" width=\"55\" height=\"55\" style=\"fill:#bfe5a0;stroke-width:2;stroke:rgb(255,255,255)\"/><rect x=\"770\" y=\"0\" width=\"55\" height=\"55\" style=\"fill:#a2d9a4;stroke-width:2;stroke:rgb(255,255,255)\"/><rect x=\"825\" y=\"0\" width=\"55\" height=\"55\" style=\"fill:#7ecca5;stroke-width:2;stroke:rgb(255,255,255)\"/><rect x=\"880\" y=\"0\" width=\"55\" height=\"55\" style=\"fill:#60bba8;stroke-width:2;stroke:rgb(255,255,255)\"/><rect x=\"935\" y=\"0\" width=\"55\" height=\"55\" style=\"fill:#47a0b3;stroke-width:2;stroke:rgb(255,255,255)\"/><rect x=\"990\" y=\"0\" width=\"55\" height=\"55\" style=\"fill:#3585bb;stroke-width:2;stroke:rgb(255,255,255)\"/><rect x=\"1045\" y=\"0\" width=\"55\" height=\"55\" style=\"fill:#496aaf;stroke-width:2;stroke:rgb(255,255,255)\"/></svg>"
      ],
      "text/plain": [
       "[(0.7211072664359862, 0.11649365628604381, 0.28281430219146486),\n",
       " (0.8226066897347175, 0.22906574394463664, 0.30680507497116494),\n",
       " (0.8853517877739331, 0.3190311418685121, 0.29042675893886966),\n",
       " (0.942560553633218, 0.4057670126874279, 0.2682814302191465),\n",
       " (0.9693194925028835, 0.5174163783160323, 0.30426758938869664),\n",
       " (0.9873125720876587, 0.6473663975394078, 0.3642445213379469),\n",
       " (0.9934640522875817, 0.7477124183006535, 0.4352941176470587),\n",
       " (0.9953094963475586, 0.8399846212995001, 0.5128027681660899),\n",
       " (0.9971549404075356, 0.9118031526336025, 0.6010765090349866),\n",
       " (0.9990003844675125, 0.9690119184928874, 0.697039600153787),\n",
       " (0.9750096116878124, 0.9900038446751249, 0.7100346020761246),\n",
       " (0.9288735101883892, 0.9715494040753557, 0.6380622837370243),\n",
       " (0.8565936178392929, 0.942329873125721, 0.6053056516724337),\n",
       " (0.7477124183006538, 0.8980392156862746, 0.6274509803921569),\n",
       " (0.6334486735870821, 0.8521337946943485, 0.6436755094194541),\n",
       " (0.4955017301038063, 0.7981545559400232, 0.6456747404844291),\n",
       " (0.3760092272202999, 0.7340253748558246, 0.6581314878892733),\n",
       " (0.2800461361014994, 0.6269896193771626, 0.7024221453287197),\n",
       " (0.20622837370242214, 0.5201845444059977, 0.7349480968858132),\n",
       " (0.2874279123414072, 0.4149942329873126, 0.6851211072664359)]"
      ]
     },
     "metadata": {},
     "output_type": "display_data"
    },
    {
     "name": "stdout",
     "output_type": "stream",
     "text": [
      "Spectral_r\n"
     ]
    },
    {
     "data": {
      "text/html": [
       "<svg  width=\"1100\" height=\"55\"><rect x=\"0\" y=\"0\" width=\"55\" height=\"55\" style=\"fill:#496aaf;stroke-width:2;stroke:rgb(255,255,255)\"/><rect x=\"55\" y=\"0\" width=\"55\" height=\"55\" style=\"fill:#3585bb;stroke-width:2;stroke:rgb(255,255,255)\"/><rect x=\"110\" y=\"0\" width=\"55\" height=\"55\" style=\"fill:#47a0b3;stroke-width:2;stroke:rgb(255,255,255)\"/><rect x=\"165\" y=\"0\" width=\"55\" height=\"55\" style=\"fill:#60bba8;stroke-width:2;stroke:rgb(255,255,255)\"/><rect x=\"220\" y=\"0\" width=\"55\" height=\"55\" style=\"fill:#7ecca5;stroke-width:2;stroke:rgb(255,255,255)\"/><rect x=\"275\" y=\"0\" width=\"55\" height=\"55\" style=\"fill:#a2d9a4;stroke-width:2;stroke:rgb(255,255,255)\"/><rect x=\"330\" y=\"0\" width=\"55\" height=\"55\" style=\"fill:#bfe5a0;stroke-width:2;stroke:rgb(255,255,255)\"/><rect x=\"385\" y=\"0\" width=\"55\" height=\"55\" style=\"fill:#daf09a;stroke-width:2;stroke:rgb(255,255,255)\"/><rect x=\"440\" y=\"0\" width=\"55\" height=\"55\" style=\"fill:#edf8a3;stroke-width:2;stroke:rgb(255,255,255)\"/><rect x=\"495\" y=\"0\" width=\"55\" height=\"55\" style=\"fill:#f9fcb5;stroke-width:2;stroke:rgb(255,255,255)\"/><rect x=\"550\" y=\"0\" width=\"55\" height=\"55\" style=\"fill:#fff7b2;stroke-width:2;stroke:rgb(255,255,255)\"/><rect x=\"605\" y=\"0\" width=\"55\" height=\"55\" style=\"fill:#fee999;stroke-width:2;stroke:rgb(255,255,255)\"/><rect x=\"660\" y=\"0\" width=\"55\" height=\"55\" style=\"fill:#fed683;stroke-width:2;stroke:rgb(255,255,255)\"/><rect x=\"715\" y=\"0\" width=\"55\" height=\"55\" style=\"fill:#fdbf6f;stroke-width:2;stroke:rgb(255,255,255)\"/><rect x=\"770\" y=\"0\" width=\"55\" height=\"55\" style=\"fill:#fca55d;stroke-width:2;stroke:rgb(255,255,255)\"/><rect x=\"825\" y=\"0\" width=\"55\" height=\"55\" style=\"fill:#f7844e;stroke-width:2;stroke:rgb(255,255,255)\"/><rect x=\"880\" y=\"0\" width=\"55\" height=\"55\" style=\"fill:#f06744;stroke-width:2;stroke:rgb(255,255,255)\"/><rect x=\"935\" y=\"0\" width=\"55\" height=\"55\" style=\"fill:#e2514a;stroke-width:2;stroke:rgb(255,255,255)\"/><rect x=\"990\" y=\"0\" width=\"55\" height=\"55\" style=\"fill:#d23a4e;stroke-width:2;stroke:rgb(255,255,255)\"/><rect x=\"1045\" y=\"0\" width=\"55\" height=\"55\" style=\"fill:#b81e48;stroke-width:2;stroke:rgb(255,255,255)\"/></svg>"
      ],
      "text/plain": [
       "[(0.28742791234140713, 0.4149942329873126, 0.685121107266436),\n",
       " (0.2062283737024221, 0.5201845444059977, 0.7349480968858132),\n",
       " (0.28004613610149953, 0.6269896193771627, 0.7024221453287197),\n",
       " (0.3760092272203, 0.7340253748558248, 0.6581314878892733),\n",
       " (0.4955017301038064, 0.7981545559400232, 0.6456747404844291),\n",
       " (0.633448673587082, 0.8521337946943484, 0.6436755094194541),\n",
       " (0.7477124183006537, 0.8980392156862746, 0.6274509803921569),\n",
       " (0.8565936178392928, 0.942329873125721, 0.6053056516724337),\n",
       " (0.9288735101883892, 0.9715494040753557, 0.6380622837370243),\n",
       " (0.9750096116878124, 0.9900038446751249, 0.7100346020761246),\n",
       " (0.9990003844675125, 0.9690119184928874, 0.697039600153787),\n",
       " (0.9971549404075356, 0.9118031526336025, 0.6010765090349866),\n",
       " (0.9953094963475586, 0.8399846212995001, 0.5128027681660899),\n",
       " (0.9934640522875817, 0.7477124183006536, 0.43529411764705883),\n",
       " (0.9873125720876587, 0.647366397539408, 0.36424452133794694),\n",
       " (0.9693194925028835, 0.5174163783160323, 0.30426758938869664),\n",
       " (0.942560553633218, 0.4057670126874279, 0.26828143021914647),\n",
       " (0.8853517877739332, 0.3190311418685121, 0.29042675893886966),\n",
       " (0.8226066897347174, 0.2290657439446367, 0.30680507497116494),\n",
       " (0.7211072664359862, 0.11649365628604383, 0.28281430219146486)]"
      ]
     },
     "metadata": {},
     "output_type": "display_data"
    },
    {
     "name": "stdout",
     "output_type": "stream",
     "text": [
      "Wistia\n"
     ]
    },
    {
     "data": {
      "text/html": [
       "<svg  width=\"1100\" height=\"55\"><rect x=\"0\" y=\"0\" width=\"55\" height=\"55\" style=\"fill:#e9fb68;stroke-width:2;stroke:rgb(255,255,255)\"/><rect x=\"55\" y=\"0\" width=\"55\" height=\"55\" style=\"fill:#eef656;stroke-width:2;stroke:rgb(255,255,255)\"/><rect x=\"110\" y=\"0\" width=\"55\" height=\"55\" style=\"fill:#f3f244;stroke-width:2;stroke:rgb(255,255,255)\"/><rect x=\"165\" y=\"0\" width=\"55\" height=\"55\" style=\"fill:#f8ee32;stroke-width:2;stroke:rgb(255,255,255)\"/><rect x=\"220\" y=\"0\" width=\"55\" height=\"55\" style=\"fill:#fde920;stroke-width:2;stroke:rgb(255,255,255)\"/><rect x=\"275\" y=\"0\" width=\"55\" height=\"55\" style=\"fill:#ffe216;stroke-width:2;stroke:rgb(255,255,255)\"/><rect x=\"330\" y=\"0\" width=\"55\" height=\"55\" style=\"fill:#ffda11;stroke-width:2;stroke:rgb(255,255,255)\"/><rect x=\"385\" y=\"0\" width=\"55\" height=\"55\" style=\"fill:#ffd20c;stroke-width:2;stroke:rgb(255,255,255)\"/><rect x=\"440\" y=\"0\" width=\"55\" height=\"55\" style=\"fill:#ffc908;stroke-width:2;stroke:rgb(255,255,255)\"/><rect x=\"495\" y=\"0\" width=\"55\" height=\"55\" style=\"fill:#ffc103;stroke-width:2;stroke:rgb(255,255,255)\"/><rect x=\"550\" y=\"0\" width=\"55\" height=\"55\" style=\"fill:#ffba00;stroke-width:2;stroke:rgb(255,255,255)\"/><rect x=\"605\" y=\"0\" width=\"55\" height=\"55\" style=\"fill:#ffb500;stroke-width:2;stroke:rgb(255,255,255)\"/><rect x=\"660\" y=\"0\" width=\"55\" height=\"55\" style=\"fill:#ffaf00;stroke-width:2;stroke:rgb(255,255,255)\"/><rect x=\"715\" y=\"0\" width=\"55\" height=\"55\" style=\"fill:#ffaa00;stroke-width:2;stroke:rgb(255,255,255)\"/><rect x=\"770\" y=\"0\" width=\"55\" height=\"55\" style=\"fill:#ffa400;stroke-width:2;stroke:rgb(255,255,255)\"/><rect x=\"825\" y=\"0\" width=\"55\" height=\"55\" style=\"fill:#ff9e00;stroke-width:2;stroke:rgb(255,255,255)\"/><rect x=\"880\" y=\"0\" width=\"55\" height=\"55\" style=\"fill:#fe9800;stroke-width:2;stroke:rgb(255,255,255)\"/><rect x=\"935\" y=\"0\" width=\"55\" height=\"55\" style=\"fill:#fe9200;stroke-width:2;stroke:rgb(255,255,255)\"/><rect x=\"990\" y=\"0\" width=\"55\" height=\"55\" style=\"fill:#fd8b00;stroke-width:2;stroke:rgb(255,255,255)\"/><rect x=\"1045\" y=\"0\" width=\"55\" height=\"55\" style=\"fill:#fd8500;stroke-width:2;stroke:rgb(255,255,255)\"/></svg>"
      ],
      "text/plain": [
       "[(0.9140484429065744, 0.9830219146482122, 0.4075663206459055),\n",
       " (0.9339792387543253, 0.9660438292964244, 0.33670126874279127),\n",
       " (0.9539100346020761, 0.9490657439446367, 0.26583621683967706),\n",
       " (0.9738408304498269, 0.9320876585928489, 0.1949711649365629),\n",
       " (0.9937716262975779, 0.9151095732410611, 0.1241061130334487),\n",
       " (1.0, 0.8853364090734333, 0.08716647443291042),\n",
       " (1.0, 0.85359477124183, 0.06797385620915034),\n",
       " (1.0, 0.8218531334102268, 0.04878123798539023),\n",
       " (1.0, 0.7901114955786236, 0.029588619761630144),\n",
       " (1.0, 0.7583698577470204, 0.010396001537870042),\n",
       " (1.0, 0.7295809304113803, 0.0),\n",
       " (1.0, 0.7081737793156478, 0.0),\n",
       " (1.0, 0.6867666282199154, 0.0),\n",
       " (1.0, 0.665359477124183, 0.0),\n",
       " (1.0, 0.6439523260284505, 0.0),\n",
       " (0.9993079584775086, 0.619838523644752, 0.0),\n",
       " (0.9970934256055364, 0.5954786620530566, 0.0),\n",
       " (0.994878892733564, 0.571118800461361, 0.0),\n",
       " (0.9926643598615917, 0.5467589388696655, 0.0),\n",
       " (0.9904498269896194, 0.52239907727797, 0.0)]"
      ]
     },
     "metadata": {},
     "output_type": "display_data"
    },
    {
     "name": "stdout",
     "output_type": "stream",
     "text": [
      "Wistia_r\n"
     ]
    },
    {
     "data": {
      "text/html": [
       "<svg  width=\"1100\" height=\"55\"><rect x=\"0\" y=\"0\" width=\"55\" height=\"55\" style=\"fill:#fd8500;stroke-width:2;stroke:rgb(255,255,255)\"/><rect x=\"55\" y=\"0\" width=\"55\" height=\"55\" style=\"fill:#fd8b00;stroke-width:2;stroke:rgb(255,255,255)\"/><rect x=\"110\" y=\"0\" width=\"55\" height=\"55\" style=\"fill:#fe9200;stroke-width:2;stroke:rgb(255,255,255)\"/><rect x=\"165\" y=\"0\" width=\"55\" height=\"55\" style=\"fill:#fe9800;stroke-width:2;stroke:rgb(255,255,255)\"/><rect x=\"220\" y=\"0\" width=\"55\" height=\"55\" style=\"fill:#ff9e00;stroke-width:2;stroke:rgb(255,255,255)\"/><rect x=\"275\" y=\"0\" width=\"55\" height=\"55\" style=\"fill:#ffa400;stroke-width:2;stroke:rgb(255,255,255)\"/><rect x=\"330\" y=\"0\" width=\"55\" height=\"55\" style=\"fill:#ffaa00;stroke-width:2;stroke:rgb(255,255,255)\"/><rect x=\"385\" y=\"0\" width=\"55\" height=\"55\" style=\"fill:#ffaf00;stroke-width:2;stroke:rgb(255,255,255)\"/><rect x=\"440\" y=\"0\" width=\"55\" height=\"55\" style=\"fill:#ffb500;stroke-width:2;stroke:rgb(255,255,255)\"/><rect x=\"495\" y=\"0\" width=\"55\" height=\"55\" style=\"fill:#ffba00;stroke-width:2;stroke:rgb(255,255,255)\"/><rect x=\"550\" y=\"0\" width=\"55\" height=\"55\" style=\"fill:#ffc103;stroke-width:2;stroke:rgb(255,255,255)\"/><rect x=\"605\" y=\"0\" width=\"55\" height=\"55\" style=\"fill:#ffc908;stroke-width:2;stroke:rgb(255,255,255)\"/><rect x=\"660\" y=\"0\" width=\"55\" height=\"55\" style=\"fill:#ffd20c;stroke-width:2;stroke:rgb(255,255,255)\"/><rect x=\"715\" y=\"0\" width=\"55\" height=\"55\" style=\"fill:#ffda11;stroke-width:2;stroke:rgb(255,255,255)\"/><rect x=\"770\" y=\"0\" width=\"55\" height=\"55\" style=\"fill:#ffe216;stroke-width:2;stroke:rgb(255,255,255)\"/><rect x=\"825\" y=\"0\" width=\"55\" height=\"55\" style=\"fill:#fde920;stroke-width:2;stroke:rgb(255,255,255)\"/><rect x=\"880\" y=\"0\" width=\"55\" height=\"55\" style=\"fill:#f8ee32;stroke-width:2;stroke:rgb(255,255,255)\"/><rect x=\"935\" y=\"0\" width=\"55\" height=\"55\" style=\"fill:#f3f244;stroke-width:2;stroke:rgb(255,255,255)\"/><rect x=\"990\" y=\"0\" width=\"55\" height=\"55\" style=\"fill:#eef656;stroke-width:2;stroke:rgb(255,255,255)\"/><rect x=\"1045\" y=\"0\" width=\"55\" height=\"55\" style=\"fill:#e9fb68;stroke-width:2;stroke:rgb(255,255,255)\"/></svg>"
      ],
      "text/plain": [
       "[(0.9904498269896194, 0.52239907727797, 0.0),\n",
       " (0.9926643598615917, 0.5467589388696655, 0.0),\n",
       " (0.994878892733564, 0.571118800461361, 0.0),\n",
       " (0.9970934256055364, 0.5954786620530566, 0.0),\n",
       " (0.9993079584775086, 0.619838523644752, 0.0),\n",
       " (1.0, 0.6439523260284505, 0.0),\n",
       " (1.0, 0.665359477124183, 0.0),\n",
       " (1.0, 0.6867666282199154, 0.0),\n",
       " (1.0, 0.7081737793156478, 0.0),\n",
       " (1.0, 0.7295809304113803, 0.0),\n",
       " (1.0, 0.7583698577470204, 0.010396001537870049),\n",
       " (1.0, 0.7901114955786236, 0.029588619761630144),\n",
       " (1.0, 0.8218531334102268, 0.04878123798539023),\n",
       " (1.0, 0.85359477124183, 0.06797385620915032),\n",
       " (1.0, 0.8853364090734333, 0.08716647443291041),\n",
       " (0.9937716262975779, 0.9151095732410611, 0.12410611303344868),\n",
       " (0.9738408304498269, 0.9320876585928489, 0.19497116493656286),\n",
       " (0.9539100346020761, 0.9490657439446367, 0.26583621683967706),\n",
       " (0.9339792387543253, 0.9660438292964244, 0.33670126874279127),\n",
       " (0.9140484429065744, 0.9830219146482122, 0.40756632064590537)]"
      ]
     },
     "metadata": {},
     "output_type": "display_data"
    },
    {
     "name": "stdout",
     "output_type": "stream",
     "text": [
      "YlGn\n"
     ]
    },
    {
     "data": {
      "text/html": [
       "<svg  width=\"1100\" height=\"55\"><rect x=\"0\" y=\"0\" width=\"55\" height=\"55\" style=\"fill:#fcfed4;stroke-width:2;stroke:rgb(255,255,255)\"/><rect x=\"55\" y=\"0\" width=\"55\" height=\"55\" style=\"fill:#f9fdc4;stroke-width:2;stroke:rgb(255,255,255)\"/><rect x=\"110\" y=\"0\" width=\"55\" height=\"55\" style=\"fill:#f3fab6;stroke-width:2;stroke:rgb(255,255,255)\"/><rect x=\"165\" y=\"0\" width=\"55\" height=\"55\" style=\"fill:#e8f6ae;stroke-width:2;stroke:rgb(255,255,255)\"/><rect x=\"220\" y=\"0\" width=\"55\" height=\"55\" style=\"fill:#ddf1a6;stroke-width:2;stroke:rgb(255,255,255)\"/><rect x=\"275\" y=\"0\" width=\"55\" height=\"55\" style=\"fill:#ccea9d;stroke-width:2;stroke:rgb(255,255,255)\"/><rect x=\"330\" y=\"0\" width=\"55\" height=\"55\" style=\"fill:#bce395;stroke-width:2;stroke:rgb(255,255,255)\"/><rect x=\"385\" y=\"0\" width=\"55\" height=\"55\" style=\"fill:#abdc8d;stroke-width:2;stroke:rgb(255,255,255)\"/><rect x=\"440\" y=\"0\" width=\"55\" height=\"55\" style=\"fill:#97d385;stroke-width:2;stroke:rgb(255,255,255)\"/><rect x=\"495\" y=\"0\" width=\"55\" height=\"55\" style=\"fill:#83cb7d;stroke-width:2;stroke:rgb(255,255,255)\"/><rect x=\"550\" y=\"0\" width=\"55\" height=\"55\" style=\"fill:#6dc073;stroke-width:2;stroke:rgb(255,255,255)\"/><rect x=\"605\" y=\"0\" width=\"55\" height=\"55\" style=\"fill:#58b669;stroke-width:2;stroke:rgb(255,255,255)\"/><rect x=\"660\" y=\"0\" width=\"55\" height=\"55\" style=\"fill:#43ac5e;stroke-width:2;stroke:rgb(255,255,255)\"/><rect x=\"715\" y=\"0\" width=\"55\" height=\"55\" style=\"fill:#379e54;stroke-width:2;stroke:rgb(255,255,255)\"/><rect x=\"770\" y=\"0\" width=\"55\" height=\"55\" style=\"fill:#2c8f4b;stroke-width:2;stroke:rgb(255,255,255)\"/><rect x=\"825\" y=\"0\" width=\"55\" height=\"55\" style=\"fill:#1f8142;stroke-width:2;stroke:rgb(255,255,255)\"/><rect x=\"880\" y=\"0\" width=\"55\" height=\"55\" style=\"fill:#12763d;stroke-width:2;stroke:rgb(255,255,255)\"/><rect x=\"935\" y=\"0\" width=\"55\" height=\"55\" style=\"fill:#056c39;stroke-width:2;stroke:rgb(255,255,255)\"/><rect x=\"990\" y=\"0\" width=\"55\" height=\"55\" style=\"fill:#005f34;stroke-width:2;stroke:rgb(255,255,255)\"/><rect x=\"1045\" y=\"0\" width=\"55\" height=\"55\" style=\"fill:#00522e;stroke-width:2;stroke:rgb(255,255,255)\"/></svg>"
      ],
      "text/plain": [
       "[(0.9881891580161476, 0.9955709342560554, 0.8330795847750865),\n",
       " (0.9763783160322953, 0.9911418685121107, 0.7681199538638985),\n",
       " (0.9534025374855825, 0.9821453287197233, 0.7143252595155709),\n",
       " (0.9091118800461361, 0.9644290657439446, 0.6818454440599769),\n",
       " (0.8648212226066897, 0.946712802768166, 0.6493656286043828),\n",
       " (0.8009073433294887, 0.9195540176855056, 0.6153171856978085),\n",
       " (0.7359477124183007, 0.8915032679738563, 0.5843137254901961),\n",
       " (0.6694655901576317, 0.8627758554402153, 0.5533102652825836),\n",
       " (0.5912187620146098, 0.8288196847366398, 0.5223068050749712),\n",
       " (0.5129719338715879, 0.7948635140330642, 0.4913033448673587),\n",
       " (0.4266051518646674, 0.754878892733564, 0.4521184159938485),\n",
       " (0.3454056132256824, 0.7150173010380623, 0.41078046905036525),\n",
       " (0.2642060745866974, 0.6751557093425605, 0.36944252210688194),\n",
       " (0.21568627450980393, 0.6196078431372549, 0.330718954248366),\n",
       " (0.17139561707035755, 0.5620299884659746, 0.2923337178008458),\n",
       " (0.12110726643598617, 0.5047289504036909, 0.2572087658592849),\n",
       " (0.06943483275663206, 0.4633910034602076, 0.23949250288350635),\n",
       " (0.017762399077277974, 0.4220530565167243, 0.22177623990772782),\n",
       " (0.0, 0.3739331026528258, 0.20212226066897349),\n",
       " (0.0, 0.3222606689734717, 0.18145328719723186)]"
      ]
     },
     "metadata": {},
     "output_type": "display_data"
    },
    {
     "name": "stdout",
     "output_type": "stream",
     "text": [
      "YlGnBu\n"
     ]
    },
    {
     "data": {
      "text/html": [
       "<svg  width=\"1100\" height=\"55\"><rect x=\"0\" y=\"0\" width=\"55\" height=\"55\" style=\"fill:#f8fcca;stroke-width:2;stroke:rgb(255,255,255)\"/><rect x=\"55\" y=\"0\" width=\"55\" height=\"55\" style=\"fill:#f1fabb;stroke-width:2;stroke:rgb(255,255,255)\"/><rect x=\"110\" y=\"0\" width=\"55\" height=\"55\" style=\"fill:#e8f6b1;stroke-width:2;stroke:rgb(255,255,255)\"/><rect x=\"165\" y=\"0\" width=\"55\" height=\"55\" style=\"fill:#daf0b3;stroke-width:2;stroke:rgb(255,255,255)\"/><rect x=\"220\" y=\"0\" width=\"55\" height=\"55\" style=\"fill:#cbebb4;stroke-width:2;stroke:rgb(255,255,255)\"/><rect x=\"275\" y=\"0\" width=\"55\" height=\"55\" style=\"fill:#b2e1b6;stroke-width:2;stroke:rgb(255,255,255)\"/><rect x=\"330\" y=\"0\" width=\"55\" height=\"55\" style=\"fill:#97d6b9;stroke-width:2;stroke:rgb(255,255,255)\"/><rect x=\"385\" y=\"0\" width=\"55\" height=\"55\" style=\"fill:#7cccbb;stroke-width:2;stroke:rgb(255,255,255)\"/><rect x=\"440\" y=\"0\" width=\"55\" height=\"55\" style=\"fill:#65c3bf;stroke-width:2;stroke:rgb(255,255,255)\"/><rect x=\"495\" y=\"0\" width=\"55\" height=\"55\" style=\"fill:#4ebbc2;stroke-width:2;stroke:rgb(255,255,255)\"/><rect x=\"550\" y=\"0\" width=\"55\" height=\"55\" style=\"fill:#3aaec3;stroke-width:2;stroke:rgb(255,255,255)\"/><rect x=\"605\" y=\"0\" width=\"55\" height=\"55\" style=\"fill:#2ca1c2;stroke-width:2;stroke:rgb(255,255,255)\"/><rect x=\"660\" y=\"0\" width=\"55\" height=\"55\" style=\"fill:#1f93c0;stroke-width:2;stroke:rgb(255,255,255)\"/><rect x=\"715\" y=\"0\" width=\"55\" height=\"55\" style=\"fill:#1f80b8;stroke-width:2;stroke:rgb(255,255,255)\"/><rect x=\"770\" y=\"0\" width=\"55\" height=\"55\" style=\"fill:#216daf;stroke-width:2;stroke:rgb(255,255,255)\"/><rect x=\"825\" y=\"0\" width=\"55\" height=\"55\" style=\"fill:#2259a6;stroke-width:2;stroke:rgb(255,255,255)\"/><rect x=\"880\" y=\"0\" width=\"55\" height=\"55\" style=\"fill:#23499e;stroke-width:2;stroke:rgb(255,255,255)\"/><rect x=\"935\" y=\"0\" width=\"55\" height=\"55\" style=\"fill:#253997;stroke-width:2;stroke:rgb(255,255,255)\"/><rect x=\"990\" y=\"0\" width=\"55\" height=\"55\" style=\"fill:#1e2e85;stroke-width:2;stroke:rgb(255,255,255)\"/><rect x=\"1045\" y=\"0\" width=\"55\" height=\"55\" style=\"fill:#13266f;stroke-width:2;stroke:rgb(255,255,255)\"/></svg>"
      ],
      "text/plain": [
       "[(0.9734256055363322, 0.9896655132641292, 0.7919261822376009),\n",
       " (0.9468512110726643, 0.9793310265282583, 0.7328719723183391),\n",
       " (0.9101268742791234, 0.9649365628604383, 0.6956401384083045),\n",
       " (0.8540253748558247, 0.9427912341407151, 0.7000692041522492),\n",
       " (0.797923875432526, 0.9206459054209919, 0.7044982698961938),\n",
       " (0.6984544405997694, 0.8818608227604767, 0.7138485198000769),\n",
       " (0.592156862745098, 0.8405228758169935, 0.7241830065359477),\n",
       " (0.4875509419454056, 0.8000307574009996, 0.7348558246828143),\n",
       " (0.39601691657054977, 0.7660745866974241, 0.7481430219146482),\n",
       " (0.30448289119569394, 0.7321184159938485, 0.7614302191464821),\n",
       " (0.22611303344867356, 0.6841368704344483, 0.7654286812764322),\n",
       " (0.1729642445213379, 0.6295117262591311, 0.759523260284506),\n",
       " (0.11981545559400228, 0.5748865820838138, 0.7536178392925797),\n",
       " (0.12026143790849673, 0.5019607843137255, 0.7215686274509804),\n",
       " (0.12764321414840446, 0.42666666666666664, 0.6861361014994233),\n",
       " (0.13471741637831602, 0.3492502883506344, 0.64959630911188),\n",
       " (0.13914648212226066, 0.28724336793540944, 0.6200692041522492),\n",
       " (0.14357554786620533, 0.22523644752018454, 0.5905420991926182),\n",
       " (0.1170011534025375, 0.18163783160322952, 0.5222606689734718),\n",
       " (0.07418685121107267, 0.14768166089965398, 0.43367935409457903)]"
      ]
     },
     "metadata": {},
     "output_type": "display_data"
    },
    {
     "name": "stdout",
     "output_type": "stream",
     "text": [
      "YlGnBu_r\n"
     ]
    },
    {
     "data": {
      "text/html": [
       "<svg  width=\"1100\" height=\"55\"><rect x=\"0\" y=\"0\" width=\"55\" height=\"55\" style=\"fill:#13266f;stroke-width:2;stroke:rgb(255,255,255)\"/><rect x=\"55\" y=\"0\" width=\"55\" height=\"55\" style=\"fill:#1e2e85;stroke-width:2;stroke:rgb(255,255,255)\"/><rect x=\"110\" y=\"0\" width=\"55\" height=\"55\" style=\"fill:#253997;stroke-width:2;stroke:rgb(255,255,255)\"/><rect x=\"165\" y=\"0\" width=\"55\" height=\"55\" style=\"fill:#23499e;stroke-width:2;stroke:rgb(255,255,255)\"/><rect x=\"220\" y=\"0\" width=\"55\" height=\"55\" style=\"fill:#2259a6;stroke-width:2;stroke:rgb(255,255,255)\"/><rect x=\"275\" y=\"0\" width=\"55\" height=\"55\" style=\"fill:#216daf;stroke-width:2;stroke:rgb(255,255,255)\"/><rect x=\"330\" y=\"0\" width=\"55\" height=\"55\" style=\"fill:#1f80b8;stroke-width:2;stroke:rgb(255,255,255)\"/><rect x=\"385\" y=\"0\" width=\"55\" height=\"55\" style=\"fill:#1f93c0;stroke-width:2;stroke:rgb(255,255,255)\"/><rect x=\"440\" y=\"0\" width=\"55\" height=\"55\" style=\"fill:#2ca1c2;stroke-width:2;stroke:rgb(255,255,255)\"/><rect x=\"495\" y=\"0\" width=\"55\" height=\"55\" style=\"fill:#3aaec3;stroke-width:2;stroke:rgb(255,255,255)\"/><rect x=\"550\" y=\"0\" width=\"55\" height=\"55\" style=\"fill:#4ebbc2;stroke-width:2;stroke:rgb(255,255,255)\"/><rect x=\"605\" y=\"0\" width=\"55\" height=\"55\" style=\"fill:#65c3bf;stroke-width:2;stroke:rgb(255,255,255)\"/><rect x=\"660\" y=\"0\" width=\"55\" height=\"55\" style=\"fill:#7cccbb;stroke-width:2;stroke:rgb(255,255,255)\"/><rect x=\"715\" y=\"0\" width=\"55\" height=\"55\" style=\"fill:#97d6b9;stroke-width:2;stroke:rgb(255,255,255)\"/><rect x=\"770\" y=\"0\" width=\"55\" height=\"55\" style=\"fill:#b2e1b6;stroke-width:2;stroke:rgb(255,255,255)\"/><rect x=\"825\" y=\"0\" width=\"55\" height=\"55\" style=\"fill:#cbebb4;stroke-width:2;stroke:rgb(255,255,255)\"/><rect x=\"880\" y=\"0\" width=\"55\" height=\"55\" style=\"fill:#daf0b3;stroke-width:2;stroke:rgb(255,255,255)\"/><rect x=\"935\" y=\"0\" width=\"55\" height=\"55\" style=\"fill:#e8f6b1;stroke-width:2;stroke:rgb(255,255,255)\"/><rect x=\"990\" y=\"0\" width=\"55\" height=\"55\" style=\"fill:#f1fabb;stroke-width:2;stroke:rgb(255,255,255)\"/><rect x=\"1045\" y=\"0\" width=\"55\" height=\"55\" style=\"fill:#f8fcca;stroke-width:2;stroke:rgb(255,255,255)\"/></svg>"
      ],
      "text/plain": [
       "[(0.07418685121107267, 0.14768166089965398, 0.43367935409457903),\n",
       " (0.1170011534025375, 0.18163783160322952, 0.5222606689734718),\n",
       " (0.14357554786620533, 0.22523644752018454, 0.5905420991926182),\n",
       " (0.13914648212226066, 0.28724336793540944, 0.6200692041522492),\n",
       " (0.13471741637831602, 0.3492502883506344, 0.64959630911188),\n",
       " (0.12764321414840446, 0.4266666666666667, 0.6861361014994233),\n",
       " (0.12026143790849673, 0.5019607843137255, 0.7215686274509804),\n",
       " (0.1198154555940023, 0.5748865820838139, 0.7536178392925797),\n",
       " (0.17296424452133796, 0.6295117262591311, 0.759523260284506),\n",
       " (0.22611303344867356, 0.6841368704344483, 0.7654286812764322),\n",
       " (0.30448289119569394, 0.7321184159938485, 0.7614302191464821),\n",
       " (0.3960169165705498, 0.7660745866974241, 0.7481430219146482),\n",
       " (0.4875509419454056, 0.8000307574009996, 0.7348558246828143),\n",
       " (0.592156862745098, 0.8405228758169935, 0.7241830065359477),\n",
       " (0.6984544405997694, 0.8818608227604767, 0.7138485198000769),\n",
       " (0.797923875432526, 0.9206459054209919, 0.7044982698961938),\n",
       " (0.8540253748558247, 0.9427912341407151, 0.7000692041522492),\n",
       " (0.9101268742791234, 0.9649365628604383, 0.6956401384083045),\n",
       " (0.9468512110726643, 0.9793310265282583, 0.7328719723183391),\n",
       " (0.9734256055363322, 0.9896655132641292, 0.7919261822376009)]"
      ]
     },
     "metadata": {},
     "output_type": "display_data"
    },
    {
     "name": "stdout",
     "output_type": "stream",
     "text": [
      "YlGn_r\n"
     ]
    },
    {
     "data": {
      "text/html": [
       "<svg  width=\"1100\" height=\"55\"><rect x=\"0\" y=\"0\" width=\"55\" height=\"55\" style=\"fill:#00522e;stroke-width:2;stroke:rgb(255,255,255)\"/><rect x=\"55\" y=\"0\" width=\"55\" height=\"55\" style=\"fill:#005f34;stroke-width:2;stroke:rgb(255,255,255)\"/><rect x=\"110\" y=\"0\" width=\"55\" height=\"55\" style=\"fill:#056c39;stroke-width:2;stroke:rgb(255,255,255)\"/><rect x=\"165\" y=\"0\" width=\"55\" height=\"55\" style=\"fill:#12763d;stroke-width:2;stroke:rgb(255,255,255)\"/><rect x=\"220\" y=\"0\" width=\"55\" height=\"55\" style=\"fill:#1f8142;stroke-width:2;stroke:rgb(255,255,255)\"/><rect x=\"275\" y=\"0\" width=\"55\" height=\"55\" style=\"fill:#2c8f4b;stroke-width:2;stroke:rgb(255,255,255)\"/><rect x=\"330\" y=\"0\" width=\"55\" height=\"55\" style=\"fill:#379e54;stroke-width:2;stroke:rgb(255,255,255)\"/><rect x=\"385\" y=\"0\" width=\"55\" height=\"55\" style=\"fill:#43ac5e;stroke-width:2;stroke:rgb(255,255,255)\"/><rect x=\"440\" y=\"0\" width=\"55\" height=\"55\" style=\"fill:#58b669;stroke-width:2;stroke:rgb(255,255,255)\"/><rect x=\"495\" y=\"0\" width=\"55\" height=\"55\" style=\"fill:#6dc073;stroke-width:2;stroke:rgb(255,255,255)\"/><rect x=\"550\" y=\"0\" width=\"55\" height=\"55\" style=\"fill:#83cb7d;stroke-width:2;stroke:rgb(255,255,255)\"/><rect x=\"605\" y=\"0\" width=\"55\" height=\"55\" style=\"fill:#97d385;stroke-width:2;stroke:rgb(255,255,255)\"/><rect x=\"660\" y=\"0\" width=\"55\" height=\"55\" style=\"fill:#abdc8d;stroke-width:2;stroke:rgb(255,255,255)\"/><rect x=\"715\" y=\"0\" width=\"55\" height=\"55\" style=\"fill:#bce395;stroke-width:2;stroke:rgb(255,255,255)\"/><rect x=\"770\" y=\"0\" width=\"55\" height=\"55\" style=\"fill:#ccea9d;stroke-width:2;stroke:rgb(255,255,255)\"/><rect x=\"825\" y=\"0\" width=\"55\" height=\"55\" style=\"fill:#ddf1a6;stroke-width:2;stroke:rgb(255,255,255)\"/><rect x=\"880\" y=\"0\" width=\"55\" height=\"55\" style=\"fill:#e8f6ae;stroke-width:2;stroke:rgb(255,255,255)\"/><rect x=\"935\" y=\"0\" width=\"55\" height=\"55\" style=\"fill:#f3fab6;stroke-width:2;stroke:rgb(255,255,255)\"/><rect x=\"990\" y=\"0\" width=\"55\" height=\"55\" style=\"fill:#f9fdc4;stroke-width:2;stroke:rgb(255,255,255)\"/><rect x=\"1045\" y=\"0\" width=\"55\" height=\"55\" style=\"fill:#fcfed4;stroke-width:2;stroke:rgb(255,255,255)\"/></svg>"
      ],
      "text/plain": [
       "[(0.0, 0.3222606689734717, 0.18145328719723183),\n",
       " (0.0, 0.3739331026528258, 0.20212226066897349),\n",
       " (0.017762399077277974, 0.4220530565167243, 0.2217762399077278),\n",
       " (0.06943483275663206, 0.4633910034602076, 0.23949250288350635),\n",
       " (0.12110726643598617, 0.5047289504036909, 0.25720876585928487),\n",
       " (0.17139561707035755, 0.5620299884659746, 0.2923337178008458),\n",
       " (0.2156862745098039, 0.6196078431372549, 0.330718954248366),\n",
       " (0.2642060745866974, 0.6751557093425605, 0.36944252210688194),\n",
       " (0.3454056132256824, 0.7150173010380623, 0.41078046905036525),\n",
       " (0.4266051518646674, 0.754878892733564, 0.4521184159938485),\n",
       " (0.5129719338715879, 0.7948635140330642, 0.4913033448673587),\n",
       " (0.5912187620146098, 0.8288196847366398, 0.5223068050749712),\n",
       " (0.6694655901576317, 0.8627758554402153, 0.5533102652825836),\n",
       " (0.7359477124183007, 0.8915032679738563, 0.5843137254901961),\n",
       " (0.8009073433294887, 0.9195540176855056, 0.6153171856978085),\n",
       " (0.8648212226066897, 0.946712802768166, 0.6493656286043828),\n",
       " (0.9091118800461361, 0.9644290657439446, 0.6818454440599769),\n",
       " (0.9534025374855825, 0.9821453287197233, 0.7143252595155709),\n",
       " (0.9763783160322953, 0.9911418685121107, 0.7681199538638985),\n",
       " (0.9881891580161476, 0.9955709342560554, 0.8330795847750865)]"
      ]
     },
     "metadata": {},
     "output_type": "display_data"
    },
    {
     "name": "stdout",
     "output_type": "stream",
     "text": [
      "YlOrBr\n"
     ]
    },
    {
     "data": {
      "text/html": [
       "<svg  width=\"1100\" height=\"55\"><rect x=\"0\" y=\"0\" width=\"55\" height=\"55\" style=\"fill:#fffcd6;stroke-width:2;stroke:rgb(255,255,255)\"/><rect x=\"55\" y=\"0\" width=\"55\" height=\"55\" style=\"fill:#fff9c6;stroke-width:2;stroke:rgb(255,255,255)\"/><rect x=\"110\" y=\"0\" width=\"55\" height=\"55\" style=\"fill:#fff4b6;stroke-width:2;stroke:rgb(255,255,255)\"/><rect x=\"165\" y=\"0\" width=\"55\" height=\"55\" style=\"fill:#feeda6;stroke-width:2;stroke:rgb(255,255,255)\"/><rect x=\"220\" y=\"0\" width=\"55\" height=\"55\" style=\"fill:#fee596;stroke-width:2;stroke:rgb(255,255,255)\"/><rect x=\"275\" y=\"0\" width=\"55\" height=\"55\" style=\"fill:#feda7e;stroke-width:2;stroke:rgb(255,255,255)\"/><rect x=\"330\" y=\"0\" width=\"55\" height=\"55\" style=\"fill:#fece65;stroke-width:2;stroke:rgb(255,255,255)\"/><rect x=\"385\" y=\"0\" width=\"55\" height=\"55\" style=\"fill:#fec24d;stroke-width:2;stroke:rgb(255,255,255)\"/><rect x=\"440\" y=\"0\" width=\"55\" height=\"55\" style=\"fill:#feb23f;stroke-width:2;stroke:rgb(255,255,255)\"/><rect x=\"495\" y=\"0\" width=\"55\" height=\"55\" style=\"fill:#fea231;stroke-width:2;stroke:rgb(255,255,255)\"/><rect x=\"550\" y=\"0\" width=\"55\" height=\"55\" style=\"fill:#fa9125;stroke-width:2;stroke:rgb(255,255,255)\"/><rect x=\"605\" y=\"0\" width=\"55\" height=\"55\" style=\"fill:#f4811d;stroke-width:2;stroke:rgb(255,255,255)\"/><rect x=\"660\" y=\"0\" width=\"55\" height=\"55\" style=\"fill:#ed7215;stroke-width:2;stroke:rgb(255,255,255)\"/><rect x=\"715\" y=\"0\" width=\"55\" height=\"55\" style=\"fill:#e1640e;stroke-width:2;stroke:rgb(255,255,255)\"/><rect x=\"770\" y=\"0\" width=\"55\" height=\"55\" style=\"fill:#d55607;stroke-width:2;stroke:rgb(255,255,255)\"/><rect x=\"825\" y=\"0\" width=\"55\" height=\"55\" style=\"fill:#c64902;stroke-width:2;stroke:rgb(255,255,255)\"/><rect x=\"880\" y=\"0\" width=\"55\" height=\"55\" style=\"fill:#b34003;stroke-width:2;stroke:rgb(255,255,255)\"/><rect x=\"935\" y=\"0\" width=\"55\" height=\"55\" style=\"fill:#a03704;stroke-width:2;stroke:rgb(255,255,255)\"/><rect x=\"990\" y=\"0\" width=\"55\" height=\"55\" style=\"fill:#8c3004;stroke-width:2;stroke:rgb(255,255,255)\"/><rect x=\"1045\" y=\"0\" width=\"55\" height=\"55\" style=\"fill:#792b05;stroke-width:2;stroke:rgb(255,255,255)\"/></svg>"
      ],
      "text/plain": [
       "[(1.0, 0.9881891580161476, 0.8375086505190312),\n",
       " (1.0, 0.9763783160322953, 0.7769780853517878),\n",
       " (0.9994925028835063, 0.9584775086505191, 0.7154325259515572),\n",
       " (0.9980161476355248, 0.9289504036908881, 0.6519492502883506),\n",
       " (0.9965397923875433, 0.8994232987312571, 0.5884659746251442),\n",
       " (0.996078431372549, 0.8549173394848135, 0.493517877739331),\n",
       " (0.996078431372549, 0.8091503267973856, 0.39607843137254906),\n",
       " (0.996078431372549, 0.7613533256439832, 0.3033756247597078),\n",
       " (0.996078431372549, 0.6978700499807766, 0.24727412533640908),\n",
       " (0.996078431372549, 0.6343867743175702, 0.19117262591311035),\n",
       " (0.981683967704729, 0.5672126105344099, 0.14399077277970013),\n",
       " (0.9551095732410612, 0.5066820453671664, 0.11298731257208766),\n",
       " (0.9285351787773933, 0.4461514801999231, 0.0819838523644752),\n",
       " (0.8836601307189543, 0.39215686274509803, 0.054901960784313725),\n",
       " (0.8364167627835448, 0.3390080738177624, 0.028327566320645904),\n",
       " (0.7764705882352941, 0.2869665513264129, 0.008765859284890426),\n",
       " (0.7011764705882353, 0.2515340253748558, 0.011718569780853519),\n",
       " (0.6258823529411764, 0.21610149942329873, 0.01467128027681661),\n",
       " (0.5505882352941176, 0.18938869665513264, 0.0176239907727797),\n",
       " (0.4752941176470588, 0.16724336793540945, 0.020576701268742788)]"
      ]
     },
     "metadata": {},
     "output_type": "display_data"
    },
    {
     "name": "stdout",
     "output_type": "stream",
     "text": [
      "YlOrBr_r\n"
     ]
    },
    {
     "data": {
      "text/html": [
       "<svg  width=\"1100\" height=\"55\"><rect x=\"0\" y=\"0\" width=\"55\" height=\"55\" style=\"fill:#792b05;stroke-width:2;stroke:rgb(255,255,255)\"/><rect x=\"55\" y=\"0\" width=\"55\" height=\"55\" style=\"fill:#8c3004;stroke-width:2;stroke:rgb(255,255,255)\"/><rect x=\"110\" y=\"0\" width=\"55\" height=\"55\" style=\"fill:#a03704;stroke-width:2;stroke:rgb(255,255,255)\"/><rect x=\"165\" y=\"0\" width=\"55\" height=\"55\" style=\"fill:#b34003;stroke-width:2;stroke:rgb(255,255,255)\"/><rect x=\"220\" y=\"0\" width=\"55\" height=\"55\" style=\"fill:#c64902;stroke-width:2;stroke:rgb(255,255,255)\"/><rect x=\"275\" y=\"0\" width=\"55\" height=\"55\" style=\"fill:#d55607;stroke-width:2;stroke:rgb(255,255,255)\"/><rect x=\"330\" y=\"0\" width=\"55\" height=\"55\" style=\"fill:#e1640e;stroke-width:2;stroke:rgb(255,255,255)\"/><rect x=\"385\" y=\"0\" width=\"55\" height=\"55\" style=\"fill:#ed7215;stroke-width:2;stroke:rgb(255,255,255)\"/><rect x=\"440\" y=\"0\" width=\"55\" height=\"55\" style=\"fill:#f4811d;stroke-width:2;stroke:rgb(255,255,255)\"/><rect x=\"495\" y=\"0\" width=\"55\" height=\"55\" style=\"fill:#fa9125;stroke-width:2;stroke:rgb(255,255,255)\"/><rect x=\"550\" y=\"0\" width=\"55\" height=\"55\" style=\"fill:#fea231;stroke-width:2;stroke:rgb(255,255,255)\"/><rect x=\"605\" y=\"0\" width=\"55\" height=\"55\" style=\"fill:#feb23f;stroke-width:2;stroke:rgb(255,255,255)\"/><rect x=\"660\" y=\"0\" width=\"55\" height=\"55\" style=\"fill:#fec24d;stroke-width:2;stroke:rgb(255,255,255)\"/><rect x=\"715\" y=\"0\" width=\"55\" height=\"55\" style=\"fill:#fece65;stroke-width:2;stroke:rgb(255,255,255)\"/><rect x=\"770\" y=\"0\" width=\"55\" height=\"55\" style=\"fill:#feda7e;stroke-width:2;stroke:rgb(255,255,255)\"/><rect x=\"825\" y=\"0\" width=\"55\" height=\"55\" style=\"fill:#fee596;stroke-width:2;stroke:rgb(255,255,255)\"/><rect x=\"880\" y=\"0\" width=\"55\" height=\"55\" style=\"fill:#feeda6;stroke-width:2;stroke:rgb(255,255,255)\"/><rect x=\"935\" y=\"0\" width=\"55\" height=\"55\" style=\"fill:#fff4b6;stroke-width:2;stroke:rgb(255,255,255)\"/><rect x=\"990\" y=\"0\" width=\"55\" height=\"55\" style=\"fill:#fff9c6;stroke-width:2;stroke:rgb(255,255,255)\"/><rect x=\"1045\" y=\"0\" width=\"55\" height=\"55\" style=\"fill:#fffcd6;stroke-width:2;stroke:rgb(255,255,255)\"/></svg>"
      ],
      "text/plain": [
       "[(0.4752941176470588, 0.16724336793540948, 0.020576701268742788),\n",
       " (0.5505882352941176, 0.18938869665513264, 0.0176239907727797),\n",
       " (0.6258823529411764, 0.21610149942329873, 0.01467128027681661),\n",
       " (0.7011764705882353, 0.2515340253748558, 0.011718569780853519),\n",
       " (0.7764705882352941, 0.2869665513264129, 0.008765859284890428),\n",
       " (0.8364167627835448, 0.3390080738177624, 0.028327566320645908),\n",
       " (0.8836601307189543, 0.39215686274509803, 0.054901960784313725),\n",
       " (0.9285351787773933, 0.4461514801999231, 0.0819838523644752),\n",
       " (0.9551095732410612, 0.5066820453671664, 0.11298731257208766),\n",
       " (0.981683967704729, 0.5672126105344099, 0.14399077277970013),\n",
       " (0.996078431372549, 0.6343867743175702, 0.19117262591311035),\n",
       " (0.996078431372549, 0.6978700499807766, 0.24727412533640908),\n",
       " (0.996078431372549, 0.7613533256439832, 0.3033756247597078),\n",
       " (0.996078431372549, 0.8091503267973856, 0.396078431372549),\n",
       " (0.996078431372549, 0.8549173394848135, 0.49351787773933103),\n",
       " (0.9965397923875433, 0.8994232987312571, 0.5884659746251442),\n",
       " (0.9980161476355248, 0.9289504036908881, 0.6519492502883506),\n",
       " (0.9994925028835063, 0.9584775086505191, 0.7154325259515572),\n",
       " (1.0, 0.9763783160322953, 0.7769780853517878),\n",
       " (1.0, 0.9881891580161476, 0.8375086505190312)]"
      ]
     },
     "metadata": {},
     "output_type": "display_data"
    },
    {
     "name": "stdout",
     "output_type": "stream",
     "text": [
      "YlOrRd\n"
     ]
    },
    {
     "data": {
      "text/html": [
       "<svg  width=\"1100\" height=\"55\"><rect x=\"0\" y=\"0\" width=\"55\" height=\"55\" style=\"fill:#fff8bb;stroke-width:2;stroke:rgb(255,255,255)\"/><rect x=\"55\" y=\"0\" width=\"55\" height=\"55\" style=\"fill:#fff1ab;stroke-width:2;stroke:rgb(255,255,255)\"/><rect x=\"110\" y=\"0\" width=\"55\" height=\"55\" style=\"fill:#ffea9b;stroke-width:2;stroke:rgb(255,255,255)\"/><rect x=\"165\" y=\"0\" width=\"55\" height=\"55\" style=\"fill:#fee38b;stroke-width:2;stroke:rgb(255,255,255)\"/><rect x=\"220\" y=\"0\" width=\"55\" height=\"55\" style=\"fill:#fedb7b;stroke-width:2;stroke:rgb(255,255,255)\"/><rect x=\"275\" y=\"0\" width=\"55\" height=\"55\" style=\"fill:#fece6a;stroke-width:2;stroke:rgb(255,255,255)\"/><rect x=\"330\" y=\"0\" width=\"55\" height=\"55\" style=\"fill:#febf5a;stroke-width:2;stroke:rgb(255,255,255)\"/><rect x=\"385\" y=\"0\" width=\"55\" height=\"55\" style=\"fill:#feb04b;stroke-width:2;stroke:rgb(255,255,255)\"/><rect x=\"440\" y=\"0\" width=\"55\" height=\"55\" style=\"fill:#fea245;stroke-width:2;stroke:rgb(255,255,255)\"/><rect x=\"495\" y=\"0\" width=\"55\" height=\"55\" style=\"fill:#fd953f;stroke-width:2;stroke:rgb(255,255,255)\"/><rect x=\"550\" y=\"0\" width=\"55\" height=\"55\" style=\"fill:#fd8038;stroke-width:2;stroke:rgb(255,255,255)\"/><rect x=\"605\" y=\"0\" width=\"55\" height=\"55\" style=\"fill:#fc6832;stroke-width:2;stroke:rgb(255,255,255)\"/><rect x=\"660\" y=\"0\" width=\"55\" height=\"55\" style=\"fill:#fc512b;stroke-width:2;stroke:rgb(255,255,255)\"/><rect x=\"715\" y=\"0\" width=\"55\" height=\"55\" style=\"fill:#f43d25;stroke-width:2;stroke:rgb(255,255,255)\"/><rect x=\"770\" y=\"0\" width=\"55\" height=\"55\" style=\"fill:#ea2920;stroke-width:2;stroke:rgb(255,255,255)\"/><rect x=\"825\" y=\"0\" width=\"55\" height=\"55\" style=\"fill:#df171d;stroke-width:2;stroke:rgb(255,255,255)\"/><rect x=\"880\" y=\"0\" width=\"55\" height=\"55\" style=\"fill:#d00d21;stroke-width:2;stroke:rgb(255,255,255)\"/><rect x=\"935\" y=\"0\" width=\"55\" height=\"55\" style=\"fill:#c20325;stroke-width:2;stroke:rgb(255,255,255)\"/><rect x=\"990\" y=\"0\" width=\"55\" height=\"55\" style=\"fill:#ae0026;stroke-width:2;stroke:rgb(255,255,255)\"/><rect x=\"1045\" y=\"0\" width=\"55\" height=\"55\" style=\"fill:#970026;stroke-width:2;stroke:rgb(255,255,255)\"/></svg>"
      ],
      "text/plain": [
       "[(1.0, 0.9734256055363322, 0.735040369088812),\n",
       " (1.0, 0.9468512110726643, 0.670080738177624),\n",
       " (0.9994925028835063, 0.9192618223760093, 0.6061361014994233),\n",
       " (0.9980161476355248, 0.8897347174163783, 0.5441291810841984),\n",
       " (0.9965397923875433, 0.8602076124567474, 0.48212226066897346),\n",
       " (0.996078431372549, 0.8065974625144174, 0.41494809688581313),\n",
       " (0.996078431372549, 0.7490196078431373, 0.35294117647058826),\n",
       " (0.9959092656670512, 0.6917800845828527, 0.29533256439830835),\n",
       " (0.9944329104190696, 0.6371549404075355, 0.2717108804306036),\n",
       " (0.992956555171088, 0.5825297962322185, 0.2480891964628989),\n",
       " (0.9913571703191081, 0.502560553633218, 0.22089965397923875),\n",
       " (0.9898808150711266, 0.40955017301038066, 0.19432525951557092),\n",
       " (0.988404459823145, 0.31653979238754326, 0.16775086505190312),\n",
       " (0.9555555555555556, 0.23790849673202616, 0.14640522875816994),\n",
       " (0.9186466743560169, 0.16113802383698578, 0.1257362552864283),\n",
       " (0.8726643598615916, 0.08996539792387544, 0.11441753171856978),\n",
       " (0.816562860438293, 0.051580161476355246, 0.12918108419838523),\n",
       " (0.7604613610149943, 0.013194925028835056, 0.14394463667820068),\n",
       " (0.682076124567474, 0.0, 0.14901960784313725),\n",
       " (0.5920184544405998, 0.0, 0.14901960784313725)]"
      ]
     },
     "metadata": {},
     "output_type": "display_data"
    },
    {
     "name": "stdout",
     "output_type": "stream",
     "text": [
      "YlOrRd_r\n"
     ]
    },
    {
     "data": {
      "text/html": [
       "<svg  width=\"1100\" height=\"55\"><rect x=\"0\" y=\"0\" width=\"55\" height=\"55\" style=\"fill:#970026;stroke-width:2;stroke:rgb(255,255,255)\"/><rect x=\"55\" y=\"0\" width=\"55\" height=\"55\" style=\"fill:#ae0026;stroke-width:2;stroke:rgb(255,255,255)\"/><rect x=\"110\" y=\"0\" width=\"55\" height=\"55\" style=\"fill:#c20325;stroke-width:2;stroke:rgb(255,255,255)\"/><rect x=\"165\" y=\"0\" width=\"55\" height=\"55\" style=\"fill:#d00d21;stroke-width:2;stroke:rgb(255,255,255)\"/><rect x=\"220\" y=\"0\" width=\"55\" height=\"55\" style=\"fill:#df171d;stroke-width:2;stroke:rgb(255,255,255)\"/><rect x=\"275\" y=\"0\" width=\"55\" height=\"55\" style=\"fill:#ea2920;stroke-width:2;stroke:rgb(255,255,255)\"/><rect x=\"330\" y=\"0\" width=\"55\" height=\"55\" style=\"fill:#f43d25;stroke-width:2;stroke:rgb(255,255,255)\"/><rect x=\"385\" y=\"0\" width=\"55\" height=\"55\" style=\"fill:#fc512b;stroke-width:2;stroke:rgb(255,255,255)\"/><rect x=\"440\" y=\"0\" width=\"55\" height=\"55\" style=\"fill:#fc6832;stroke-width:2;stroke:rgb(255,255,255)\"/><rect x=\"495\" y=\"0\" width=\"55\" height=\"55\" style=\"fill:#fd8038;stroke-width:2;stroke:rgb(255,255,255)\"/><rect x=\"550\" y=\"0\" width=\"55\" height=\"55\" style=\"fill:#fd953f;stroke-width:2;stroke:rgb(255,255,255)\"/><rect x=\"605\" y=\"0\" width=\"55\" height=\"55\" style=\"fill:#fea245;stroke-width:2;stroke:rgb(255,255,255)\"/><rect x=\"660\" y=\"0\" width=\"55\" height=\"55\" style=\"fill:#feb04b;stroke-width:2;stroke:rgb(255,255,255)\"/><rect x=\"715\" y=\"0\" width=\"55\" height=\"55\" style=\"fill:#febf5a;stroke-width:2;stroke:rgb(255,255,255)\"/><rect x=\"770\" y=\"0\" width=\"55\" height=\"55\" style=\"fill:#fece6a;stroke-width:2;stroke:rgb(255,255,255)\"/><rect x=\"825\" y=\"0\" width=\"55\" height=\"55\" style=\"fill:#fedb7b;stroke-width:2;stroke:rgb(255,255,255)\"/><rect x=\"880\" y=\"0\" width=\"55\" height=\"55\" style=\"fill:#fee38b;stroke-width:2;stroke:rgb(255,255,255)\"/><rect x=\"935\" y=\"0\" width=\"55\" height=\"55\" style=\"fill:#ffea9b;stroke-width:2;stroke:rgb(255,255,255)\"/><rect x=\"990\" y=\"0\" width=\"55\" height=\"55\" style=\"fill:#fff1ab;stroke-width:2;stroke:rgb(255,255,255)\"/><rect x=\"1045\" y=\"0\" width=\"55\" height=\"55\" style=\"fill:#fff8bb;stroke-width:2;stroke:rgb(255,255,255)\"/></svg>"
      ],
      "text/plain": [
       "[(0.5920184544405998, 0.0, 0.14901960784313725),\n",
       " (0.682076124567474, 0.0, 0.14901960784313725),\n",
       " (0.7604613610149943, 0.013194925028835064, 0.14394463667820068),\n",
       " (0.816562860438293, 0.051580161476355246, 0.12918108419838523),\n",
       " (0.8726643598615916, 0.08996539792387542, 0.11441753171856978),\n",
       " (0.9186466743560169, 0.16113802383698578, 0.1257362552864283),\n",
       " (0.9555555555555556, 0.23790849673202616, 0.14640522875816991),\n",
       " (0.988404459823145, 0.31653979238754326, 0.16775086505190312),\n",
       " (0.9898808150711266, 0.40955017301038066, 0.19432525951557095),\n",
       " (0.9913571703191081, 0.502560553633218, 0.22089965397923875),\n",
       " (0.992956555171088, 0.5825297962322183, 0.24808919646289887),\n",
       " (0.9944329104190696, 0.6371549404075356, 0.2717108804306036),\n",
       " (0.9959092656670512, 0.6917800845828528, 0.29533256439830835),\n",
       " (0.996078431372549, 0.7490196078431373, 0.35294117647058826),\n",
       " (0.996078431372549, 0.8065974625144176, 0.41494809688581313),\n",
       " (0.9965397923875433, 0.8602076124567474, 0.4821222606689735),\n",
       " (0.9980161476355248, 0.8897347174163783, 0.5441291810841984),\n",
       " (0.9994925028835063, 0.9192618223760093, 0.6061361014994233),\n",
       " (1.0, 0.9468512110726643, 0.670080738177624),\n",
       " (1.0, 0.9734256055363322, 0.735040369088812)]"
      ]
     },
     "metadata": {},
     "output_type": "display_data"
    },
    {
     "name": "stdout",
     "output_type": "stream",
     "text": [
      "afmhot\n"
     ]
    },
    {
     "data": {
      "text/html": [
       "<svg  width=\"1100\" height=\"55\"><rect x=\"0\" y=\"0\" width=\"55\" height=\"55\" style=\"fill:#180000;stroke-width:2;stroke:rgb(255,255,255)\"/><rect x=\"55\" y=\"0\" width=\"55\" height=\"55\" style=\"fill:#300000;stroke-width:2;stroke:rgb(255,255,255)\"/><rect x=\"110\" y=\"0\" width=\"55\" height=\"55\" style=\"fill:#480000;stroke-width:2;stroke:rgb(255,255,255)\"/><rect x=\"165\" y=\"0\" width=\"55\" height=\"55\" style=\"fill:#600000;stroke-width:2;stroke:rgb(255,255,255)\"/><rect x=\"220\" y=\"0\" width=\"55\" height=\"55\" style=\"fill:#780000;stroke-width:2;stroke:rgb(255,255,255)\"/><rect x=\"275\" y=\"0\" width=\"55\" height=\"55\" style=\"fill:#921200;stroke-width:2;stroke:rgb(255,255,255)\"/><rect x=\"330\" y=\"0\" width=\"55\" height=\"55\" style=\"fill:#aa2a00;stroke-width:2;stroke:rgb(255,255,255)\"/><rect x=\"385\" y=\"0\" width=\"55\" height=\"55\" style=\"fill:#c24200;stroke-width:2;stroke:rgb(255,255,255)\"/><rect x=\"440\" y=\"0\" width=\"55\" height=\"55\" style=\"fill:#da5a00;stroke-width:2;stroke:rgb(255,255,255)\"/><rect x=\"495\" y=\"0\" width=\"55\" height=\"55\" style=\"fill:#f27200;stroke-width:2;stroke:rgb(255,255,255)\"/><rect x=\"550\" y=\"0\" width=\"55\" height=\"55\" style=\"fill:#ff8c0d;stroke-width:2;stroke:rgb(255,255,255)\"/><rect x=\"605\" y=\"0\" width=\"55\" height=\"55\" style=\"fill:#ffa425;stroke-width:2;stroke:rgb(255,255,255)\"/><rect x=\"660\" y=\"0\" width=\"55\" height=\"55\" style=\"fill:#ffbc3d;stroke-width:2;stroke:rgb(255,255,255)\"/><rect x=\"715\" y=\"0\" width=\"55\" height=\"55\" style=\"fill:#ffd455;stroke-width:2;stroke:rgb(255,255,255)\"/><rect x=\"770\" y=\"0\" width=\"55\" height=\"55\" style=\"fill:#ffec6d;stroke-width:2;stroke:rgb(255,255,255)\"/><rect x=\"825\" y=\"0\" width=\"55\" height=\"55\" style=\"fill:#ffff87;stroke-width:2;stroke:rgb(255,255,255)\"/><rect x=\"880\" y=\"0\" width=\"55\" height=\"55\" style=\"fill:#ffff9f;stroke-width:2;stroke:rgb(255,255,255)\"/><rect x=\"935\" y=\"0\" width=\"55\" height=\"55\" style=\"fill:#ffffb7;stroke-width:2;stroke:rgb(255,255,255)\"/><rect x=\"990\" y=\"0\" width=\"55\" height=\"55\" style=\"fill:#ffffcf;stroke-width:2;stroke:rgb(255,255,255)\"/><rect x=\"1045\" y=\"0\" width=\"55\" height=\"55\" style=\"fill:#ffffe7;stroke-width:2;stroke:rgb(255,255,255)\"/></svg>"
      ],
      "text/plain": [
       "[(0.09411764705882353, 0.0, 0.0),\n",
       " (0.18823529411764706, 0.0, 0.0),\n",
       " (0.2823529411764706, 0.0, 0.0),\n",
       " (0.3764705882352941, 0.0, 0.0),\n",
       " (0.47058823529411764, 0.0, 0.0),\n",
       " (0.5725490196078431, 0.0725490196078431, 0.0),\n",
       " (0.6666666666666666, 0.16666666666666663, 0.0),\n",
       " (0.7607843137254902, 0.26078431372549016, 0.0),\n",
       " (0.8549019607843137, 0.3549019607843137, 0.0),\n",
       " (0.9490196078431372, 0.4490196078431372, 0.0),\n",
       " (1.0, 0.5509803921568628, 0.050980392156862786),\n",
       " (1.0, 0.6450980392156862, 0.1450980392156862),\n",
       " (1.0, 0.7392156862745098, 0.23921568627450984),\n",
       " (1.0, 0.8333333333333333, 0.33333333333333326),\n",
       " (1.0, 0.9274509803921569, 0.4274509803921569),\n",
       " (1.0, 1.0, 0.5294117647058822),\n",
       " (1.0, 1.0, 0.6235294117647059),\n",
       " (1.0, 1.0, 0.7176470588235293),\n",
       " (1.0, 1.0, 0.8117647058823529),\n",
       " (1.0, 1.0, 0.9058823529411764)]"
      ]
     },
     "metadata": {},
     "output_type": "display_data"
    },
    {
     "name": "stdout",
     "output_type": "stream",
     "text": [
      "afmhot_r\n"
     ]
    },
    {
     "data": {
      "text/html": [
       "<svg  width=\"1100\" height=\"55\"><rect x=\"0\" y=\"0\" width=\"55\" height=\"55\" style=\"fill:#ffffe7;stroke-width:2;stroke:rgb(255,255,255)\"/><rect x=\"55\" y=\"0\" width=\"55\" height=\"55\" style=\"fill:#ffffcf;stroke-width:2;stroke:rgb(255,255,255)\"/><rect x=\"110\" y=\"0\" width=\"55\" height=\"55\" style=\"fill:#ffffb7;stroke-width:2;stroke:rgb(255,255,255)\"/><rect x=\"165\" y=\"0\" width=\"55\" height=\"55\" style=\"fill:#ffff9f;stroke-width:2;stroke:rgb(255,255,255)\"/><rect x=\"220\" y=\"0\" width=\"55\" height=\"55\" style=\"fill:#ffff87;stroke-width:2;stroke:rgb(255,255,255)\"/><rect x=\"275\" y=\"0\" width=\"55\" height=\"55\" style=\"fill:#ffec6d;stroke-width:2;stroke:rgb(255,255,255)\"/><rect x=\"330\" y=\"0\" width=\"55\" height=\"55\" style=\"fill:#ffd555;stroke-width:2;stroke:rgb(255,255,255)\"/><rect x=\"385\" y=\"0\" width=\"55\" height=\"55\" style=\"fill:#ffbc3d;stroke-width:2;stroke:rgb(255,255,255)\"/><rect x=\"440\" y=\"0\" width=\"55\" height=\"55\" style=\"fill:#ffa425;stroke-width:2;stroke:rgb(255,255,255)\"/><rect x=\"495\" y=\"0\" width=\"55\" height=\"55\" style=\"fill:#ff8c0d;stroke-width:2;stroke:rgb(255,255,255)\"/><rect x=\"550\" y=\"0\" width=\"55\" height=\"55\" style=\"fill:#f27200;stroke-width:2;stroke:rgb(255,255,255)\"/><rect x=\"605\" y=\"0\" width=\"55\" height=\"55\" style=\"fill:#da5b00;stroke-width:2;stroke:rgb(255,255,255)\"/><rect x=\"660\" y=\"0\" width=\"55\" height=\"55\" style=\"fill:#c24200;stroke-width:2;stroke:rgb(255,255,255)\"/><rect x=\"715\" y=\"0\" width=\"55\" height=\"55\" style=\"fill:#aa2b00;stroke-width:2;stroke:rgb(255,255,255)\"/><rect x=\"770\" y=\"0\" width=\"55\" height=\"55\" style=\"fill:#921200;stroke-width:2;stroke:rgb(255,255,255)\"/><rect x=\"825\" y=\"0\" width=\"55\" height=\"55\" style=\"fill:#780000;stroke-width:2;stroke:rgb(255,255,255)\"/><rect x=\"880\" y=\"0\" width=\"55\" height=\"55\" style=\"fill:#600000;stroke-width:2;stroke:rgb(255,255,255)\"/><rect x=\"935\" y=\"0\" width=\"55\" height=\"55\" style=\"fill:#480000;stroke-width:2;stroke:rgb(255,255,255)\"/><rect x=\"990\" y=\"0\" width=\"55\" height=\"55\" style=\"fill:#300000;stroke-width:2;stroke:rgb(255,255,255)\"/><rect x=\"1045\" y=\"0\" width=\"55\" height=\"55\" style=\"fill:#180000;stroke-width:2;stroke:rgb(255,255,255)\"/></svg>"
      ],
      "text/plain": [
       "[(1.0, 1.0, 0.9058823529411764),\n",
       " (1.0, 1.0, 0.8117647058823529),\n",
       " (1.0, 1.0, 0.7176470588235295),\n",
       " (1.0, 1.0, 0.6235294117647059),\n",
       " (1.0, 1.0, 0.5294117647058822),\n",
       " (1.0, 0.9274509803921569, 0.4274509803921569),\n",
       " (1.0, 0.8333333333333335, 0.3333333333333335),\n",
       " (1.0, 0.7392156862745098, 0.23921568627450984),\n",
       " (1.0, 0.6450980392156862, 0.1450980392156862),\n",
       " (1.0, 0.5509803921568628, 0.050980392156862786),\n",
       " (0.9490196078431372, 0.4490196078431372, 0.0),\n",
       " (0.8549019607843138, 0.3549019607843138, 0.0),\n",
       " (0.7607843137254902, 0.26078431372549016, 0.0),\n",
       " (0.6666666666666667, 0.16666666666666674, 0.0),\n",
       " (0.5725490196078431, 0.0725490196078431, 0.0),\n",
       " (0.47058823529411775, 0.0, 0.0),\n",
       " (0.3764705882352941, 0.0, 0.0),\n",
       " (0.2823529411764707, 0.0, 0.0),\n",
       " (0.18823529411764706, 0.0, 0.0),\n",
       " (0.09411764705882364, 0.0, 0.0)]"
      ]
     },
     "metadata": {},
     "output_type": "display_data"
    },
    {
     "name": "stdout",
     "output_type": "stream",
     "text": [
      "autumn\n"
     ]
    },
    {
     "data": {
      "text/html": [
       "<svg  width=\"1100\" height=\"55\"><rect x=\"0\" y=\"0\" width=\"55\" height=\"55\" style=\"fill:#ff0c00;stroke-width:2;stroke:rgb(255,255,255)\"/><rect x=\"55\" y=\"0\" width=\"55\" height=\"55\" style=\"fill:#ff1800;stroke-width:2;stroke:rgb(255,255,255)\"/><rect x=\"110\" y=\"0\" width=\"55\" height=\"55\" style=\"fill:#ff2400;stroke-width:2;stroke:rgb(255,255,255)\"/><rect x=\"165\" y=\"0\" width=\"55\" height=\"55\" style=\"fill:#ff3000;stroke-width:2;stroke:rgb(255,255,255)\"/><rect x=\"220\" y=\"0\" width=\"55\" height=\"55\" style=\"fill:#ff3c00;stroke-width:2;stroke:rgb(255,255,255)\"/><rect x=\"275\" y=\"0\" width=\"55\" height=\"55\" style=\"fill:#ff4900;stroke-width:2;stroke:rgb(255,255,255)\"/><rect x=\"330\" y=\"0\" width=\"55\" height=\"55\" style=\"fill:#ff5500;stroke-width:2;stroke:rgb(255,255,255)\"/><rect x=\"385\" y=\"0\" width=\"55\" height=\"55\" style=\"fill:#ff6100;stroke-width:2;stroke:rgb(255,255,255)\"/><rect x=\"440\" y=\"0\" width=\"55\" height=\"55\" style=\"fill:#ff6d00;stroke-width:2;stroke:rgb(255,255,255)\"/><rect x=\"495\" y=\"0\" width=\"55\" height=\"55\" style=\"fill:#ff7900;stroke-width:2;stroke:rgb(255,255,255)\"/><rect x=\"550\" y=\"0\" width=\"55\" height=\"55\" style=\"fill:#ff8600;stroke-width:2;stroke:rgb(255,255,255)\"/><rect x=\"605\" y=\"0\" width=\"55\" height=\"55\" style=\"fill:#ff9200;stroke-width:2;stroke:rgb(255,255,255)\"/><rect x=\"660\" y=\"0\" width=\"55\" height=\"55\" style=\"fill:#ff9e00;stroke-width:2;stroke:rgb(255,255,255)\"/><rect x=\"715\" y=\"0\" width=\"55\" height=\"55\" style=\"fill:#ffaa00;stroke-width:2;stroke:rgb(255,255,255)\"/><rect x=\"770\" y=\"0\" width=\"55\" height=\"55\" style=\"fill:#ffb600;stroke-width:2;stroke:rgb(255,255,255)\"/><rect x=\"825\" y=\"0\" width=\"55\" height=\"55\" style=\"fill:#ffc300;stroke-width:2;stroke:rgb(255,255,255)\"/><rect x=\"880\" y=\"0\" width=\"55\" height=\"55\" style=\"fill:#ffcf00;stroke-width:2;stroke:rgb(255,255,255)\"/><rect x=\"935\" y=\"0\" width=\"55\" height=\"55\" style=\"fill:#ffdb00;stroke-width:2;stroke:rgb(255,255,255)\"/><rect x=\"990\" y=\"0\" width=\"55\" height=\"55\" style=\"fill:#ffe700;stroke-width:2;stroke:rgb(255,255,255)\"/><rect x=\"1045\" y=\"0\" width=\"55\" height=\"55\" style=\"fill:#fff300;stroke-width:2;stroke:rgb(255,255,255)\"/></svg>"
      ],
      "text/plain": [
       "[(1.0, 0.047058823529411764, 0.0),\n",
       " (1.0, 0.09411764705882353, 0.0),\n",
       " (1.0, 0.1411764705882353, 0.0),\n",
       " (1.0, 0.18823529411764706, 0.0),\n",
       " (1.0, 0.23529411764705882, 0.0),\n",
       " (1.0, 0.28627450980392155, 0.0),\n",
       " (1.0, 0.3333333333333333, 0.0),\n",
       " (1.0, 0.3803921568627451, 0.0),\n",
       " (1.0, 0.42745098039215684, 0.0),\n",
       " (1.0, 0.4745098039215686, 0.0),\n",
       " (1.0, 0.5254901960784314, 0.0),\n",
       " (1.0, 0.5725490196078431, 0.0),\n",
       " (1.0, 0.6196078431372549, 0.0),\n",
       " (1.0, 0.6666666666666666, 0.0),\n",
       " (1.0, 0.7137254901960784, 0.0),\n",
       " (1.0, 0.7647058823529411, 0.0),\n",
       " (1.0, 0.8117647058823529, 0.0),\n",
       " (1.0, 0.8588235294117647, 0.0),\n",
       " (1.0, 0.9058823529411765, 0.0),\n",
       " (1.0, 0.9529411764705882, 0.0)]"
      ]
     },
     "metadata": {},
     "output_type": "display_data"
    },
    {
     "name": "stdout",
     "output_type": "stream",
     "text": [
      "autumn_r\n"
     ]
    },
    {
     "data": {
      "text/html": [
       "<svg  width=\"1100\" height=\"55\"><rect x=\"0\" y=\"0\" width=\"55\" height=\"55\" style=\"fill:#fff300;stroke-width:2;stroke:rgb(255,255,255)\"/><rect x=\"55\" y=\"0\" width=\"55\" height=\"55\" style=\"fill:#ffe700;stroke-width:2;stroke:rgb(255,255,255)\"/><rect x=\"110\" y=\"0\" width=\"55\" height=\"55\" style=\"fill:#ffdb00;stroke-width:2;stroke:rgb(255,255,255)\"/><rect x=\"165\" y=\"0\" width=\"55\" height=\"55\" style=\"fill:#ffcf00;stroke-width:2;stroke:rgb(255,255,255)\"/><rect x=\"220\" y=\"0\" width=\"55\" height=\"55\" style=\"fill:#ffc300;stroke-width:2;stroke:rgb(255,255,255)\"/><rect x=\"275\" y=\"0\" width=\"55\" height=\"55\" style=\"fill:#ffb600;stroke-width:2;stroke:rgb(255,255,255)\"/><rect x=\"330\" y=\"0\" width=\"55\" height=\"55\" style=\"fill:#ffaa00;stroke-width:2;stroke:rgb(255,255,255)\"/><rect x=\"385\" y=\"0\" width=\"55\" height=\"55\" style=\"fill:#ff9e00;stroke-width:2;stroke:rgb(255,255,255)\"/><rect x=\"440\" y=\"0\" width=\"55\" height=\"55\" style=\"fill:#ff9200;stroke-width:2;stroke:rgb(255,255,255)\"/><rect x=\"495\" y=\"0\" width=\"55\" height=\"55\" style=\"fill:#ff8600;stroke-width:2;stroke:rgb(255,255,255)\"/><rect x=\"550\" y=\"0\" width=\"55\" height=\"55\" style=\"fill:#ff7900;stroke-width:2;stroke:rgb(255,255,255)\"/><rect x=\"605\" y=\"0\" width=\"55\" height=\"55\" style=\"fill:#ff6d00;stroke-width:2;stroke:rgb(255,255,255)\"/><rect x=\"660\" y=\"0\" width=\"55\" height=\"55\" style=\"fill:#ff6100;stroke-width:2;stroke:rgb(255,255,255)\"/><rect x=\"715\" y=\"0\" width=\"55\" height=\"55\" style=\"fill:#ff5500;stroke-width:2;stroke:rgb(255,255,255)\"/><rect x=\"770\" y=\"0\" width=\"55\" height=\"55\" style=\"fill:#ff4900;stroke-width:2;stroke:rgb(255,255,255)\"/><rect x=\"825\" y=\"0\" width=\"55\" height=\"55\" style=\"fill:#ff3c00;stroke-width:2;stroke:rgb(255,255,255)\"/><rect x=\"880\" y=\"0\" width=\"55\" height=\"55\" style=\"fill:#ff3000;stroke-width:2;stroke:rgb(255,255,255)\"/><rect x=\"935\" y=\"0\" width=\"55\" height=\"55\" style=\"fill:#ff2400;stroke-width:2;stroke:rgb(255,255,255)\"/><rect x=\"990\" y=\"0\" width=\"55\" height=\"55\" style=\"fill:#ff1800;stroke-width:2;stroke:rgb(255,255,255)\"/><rect x=\"1045\" y=\"0\" width=\"55\" height=\"55\" style=\"fill:#ff0c00;stroke-width:2;stroke:rgb(255,255,255)\"/></svg>"
      ],
      "text/plain": [
       "[(1.0, 0.9529411764705882, 0.0),\n",
       " (1.0, 0.9058823529411765, 0.0),\n",
       " (1.0, 0.8588235294117648, 0.0),\n",
       " (1.0, 0.8117647058823529, 0.0),\n",
       " (1.0, 0.7647058823529411, 0.0),\n",
       " (1.0, 0.7137254901960784, 0.0),\n",
       " (1.0, 0.6666666666666667, 0.0),\n",
       " (1.0, 0.6196078431372549, 0.0),\n",
       " (1.0, 0.5725490196078431, 0.0),\n",
       " (1.0, 0.5254901960784314, 0.0),\n",
       " (1.0, 0.4745098039215686, 0.0),\n",
       " (1.0, 0.4274509803921569, 0.0),\n",
       " (1.0, 0.3803921568627451, 0.0),\n",
       " (1.0, 0.33333333333333337, 0.0),\n",
       " (1.0, 0.28627450980392155, 0.0),\n",
       " (1.0, 0.23529411764705888, 0.0),\n",
       " (1.0, 0.18823529411764706, 0.0),\n",
       " (1.0, 0.14117647058823535, 0.0),\n",
       " (1.0, 0.09411764705882353, 0.0),\n",
       " (1.0, 0.04705882352941182, 0.0)]"
      ]
     },
     "metadata": {},
     "output_type": "display_data"
    },
    {
     "name": "stdout",
     "output_type": "stream",
     "text": [
      "binary\n"
     ]
    },
    {
     "data": {
      "text/html": [
       "<svg  width=\"1100\" height=\"55\"><rect x=\"0\" y=\"0\" width=\"55\" height=\"55\" style=\"fill:#f3f3f3;stroke-width:2;stroke:rgb(255,255,255)\"/><rect x=\"55\" y=\"0\" width=\"55\" height=\"55\" style=\"fill:#e7e7e7;stroke-width:2;stroke:rgb(255,255,255)\"/><rect x=\"110\" y=\"0\" width=\"55\" height=\"55\" style=\"fill:#dbdbdb;stroke-width:2;stroke:rgb(255,255,255)\"/><rect x=\"165\" y=\"0\" width=\"55\" height=\"55\" style=\"fill:#cfcfcf;stroke-width:2;stroke:rgb(255,255,255)\"/><rect x=\"220\" y=\"0\" width=\"55\" height=\"55\" style=\"fill:#c3c3c3;stroke-width:2;stroke:rgb(255,255,255)\"/><rect x=\"275\" y=\"0\" width=\"55\" height=\"55\" style=\"fill:#b6b6b6;stroke-width:2;stroke:rgb(255,255,255)\"/><rect x=\"330\" y=\"0\" width=\"55\" height=\"55\" style=\"fill:#aaaaaa;stroke-width:2;stroke:rgb(255,255,255)\"/><rect x=\"385\" y=\"0\" width=\"55\" height=\"55\" style=\"fill:#9e9e9e;stroke-width:2;stroke:rgb(255,255,255)\"/><rect x=\"440\" y=\"0\" width=\"55\" height=\"55\" style=\"fill:#929292;stroke-width:2;stroke:rgb(255,255,255)\"/><rect x=\"495\" y=\"0\" width=\"55\" height=\"55\" style=\"fill:#868686;stroke-width:2;stroke:rgb(255,255,255)\"/><rect x=\"550\" y=\"0\" width=\"55\" height=\"55\" style=\"fill:#797979;stroke-width:2;stroke:rgb(255,255,255)\"/><rect x=\"605\" y=\"0\" width=\"55\" height=\"55\" style=\"fill:#6d6d6d;stroke-width:2;stroke:rgb(255,255,255)\"/><rect x=\"660\" y=\"0\" width=\"55\" height=\"55\" style=\"fill:#616161;stroke-width:2;stroke:rgb(255,255,255)\"/><rect x=\"715\" y=\"0\" width=\"55\" height=\"55\" style=\"fill:#555555;stroke-width:2;stroke:rgb(255,255,255)\"/><rect x=\"770\" y=\"0\" width=\"55\" height=\"55\" style=\"fill:#494949;stroke-width:2;stroke:rgb(255,255,255)\"/><rect x=\"825\" y=\"0\" width=\"55\" height=\"55\" style=\"fill:#3c3c3c;stroke-width:2;stroke:rgb(255,255,255)\"/><rect x=\"880\" y=\"0\" width=\"55\" height=\"55\" style=\"fill:#303030;stroke-width:2;stroke:rgb(255,255,255)\"/><rect x=\"935\" y=\"0\" width=\"55\" height=\"55\" style=\"fill:#242424;stroke-width:2;stroke:rgb(255,255,255)\"/><rect x=\"990\" y=\"0\" width=\"55\" height=\"55\" style=\"fill:#181818;stroke-width:2;stroke:rgb(255,255,255)\"/><rect x=\"1045\" y=\"0\" width=\"55\" height=\"55\" style=\"fill:#0c0c0c;stroke-width:2;stroke:rgb(255,255,255)\"/></svg>"
      ],
      "text/plain": [
       "[(0.9529411764705882, 0.9529411764705882, 0.9529411764705882),\n",
       " (0.9058823529411765, 0.9058823529411765, 0.9058823529411765),\n",
       " (0.8588235294117648, 0.8588235294117648, 0.8588235294117648),\n",
       " (0.8117647058823529, 0.8117647058823529, 0.8117647058823529),\n",
       " (0.7647058823529411, 0.7647058823529411, 0.7647058823529411),\n",
       " (0.7137254901960784, 0.7137254901960784, 0.7137254901960784),\n",
       " (0.6666666666666667, 0.6666666666666667, 0.6666666666666667),\n",
       " (0.6196078431372549, 0.6196078431372549, 0.6196078431372549),\n",
       " (0.5725490196078431, 0.5725490196078431, 0.5725490196078431),\n",
       " (0.5254901960784314, 0.5254901960784314, 0.5254901960784314),\n",
       " (0.4745098039215686, 0.4745098039215686, 0.4745098039215686),\n",
       " (0.4274509803921569, 0.4274509803921569, 0.4274509803921569),\n",
       " (0.3803921568627451, 0.3803921568627451, 0.3803921568627451),\n",
       " (0.33333333333333337, 0.33333333333333337, 0.33333333333333337),\n",
       " (0.28627450980392155, 0.28627450980392155, 0.28627450980392155),\n",
       " (0.23529411764705888, 0.23529411764705888, 0.23529411764705888),\n",
       " (0.18823529411764706, 0.18823529411764706, 0.18823529411764706),\n",
       " (0.14117647058823535, 0.14117647058823535, 0.14117647058823535),\n",
       " (0.09411764705882353, 0.09411764705882353, 0.09411764705882353),\n",
       " (0.04705882352941182, 0.04705882352941182, 0.04705882352941182)]"
      ]
     },
     "metadata": {},
     "output_type": "display_data"
    },
    {
     "name": "stdout",
     "output_type": "stream",
     "text": [
      "binary_r\n"
     ]
    },
    {
     "data": {
      "text/html": [
       "<svg  width=\"1100\" height=\"55\"><rect x=\"0\" y=\"0\" width=\"55\" height=\"55\" style=\"fill:#0c0c0c;stroke-width:2;stroke:rgb(255,255,255)\"/><rect x=\"55\" y=\"0\" width=\"55\" height=\"55\" style=\"fill:#181818;stroke-width:2;stroke:rgb(255,255,255)\"/><rect x=\"110\" y=\"0\" width=\"55\" height=\"55\" style=\"fill:#242424;stroke-width:2;stroke:rgb(255,255,255)\"/><rect x=\"165\" y=\"0\" width=\"55\" height=\"55\" style=\"fill:#303030;stroke-width:2;stroke:rgb(255,255,255)\"/><rect x=\"220\" y=\"0\" width=\"55\" height=\"55\" style=\"fill:#3c3c3c;stroke-width:2;stroke:rgb(255,255,255)\"/><rect x=\"275\" y=\"0\" width=\"55\" height=\"55\" style=\"fill:#494949;stroke-width:2;stroke:rgb(255,255,255)\"/><rect x=\"330\" y=\"0\" width=\"55\" height=\"55\" style=\"fill:#555555;stroke-width:2;stroke:rgb(255,255,255)\"/><rect x=\"385\" y=\"0\" width=\"55\" height=\"55\" style=\"fill:#616161;stroke-width:2;stroke:rgb(255,255,255)\"/><rect x=\"440\" y=\"0\" width=\"55\" height=\"55\" style=\"fill:#6d6d6d;stroke-width:2;stroke:rgb(255,255,255)\"/><rect x=\"495\" y=\"0\" width=\"55\" height=\"55\" style=\"fill:#797979;stroke-width:2;stroke:rgb(255,255,255)\"/><rect x=\"550\" y=\"0\" width=\"55\" height=\"55\" style=\"fill:#868686;stroke-width:2;stroke:rgb(255,255,255)\"/><rect x=\"605\" y=\"0\" width=\"55\" height=\"55\" style=\"fill:#929292;stroke-width:2;stroke:rgb(255,255,255)\"/><rect x=\"660\" y=\"0\" width=\"55\" height=\"55\" style=\"fill:#9e9e9e;stroke-width:2;stroke:rgb(255,255,255)\"/><rect x=\"715\" y=\"0\" width=\"55\" height=\"55\" style=\"fill:#aaaaaa;stroke-width:2;stroke:rgb(255,255,255)\"/><rect x=\"770\" y=\"0\" width=\"55\" height=\"55\" style=\"fill:#b6b6b6;stroke-width:2;stroke:rgb(255,255,255)\"/><rect x=\"825\" y=\"0\" width=\"55\" height=\"55\" style=\"fill:#c3c3c3;stroke-width:2;stroke:rgb(255,255,255)\"/><rect x=\"880\" y=\"0\" width=\"55\" height=\"55\" style=\"fill:#cfcfcf;stroke-width:2;stroke:rgb(255,255,255)\"/><rect x=\"935\" y=\"0\" width=\"55\" height=\"55\" style=\"fill:#dbdbdb;stroke-width:2;stroke:rgb(255,255,255)\"/><rect x=\"990\" y=\"0\" width=\"55\" height=\"55\" style=\"fill:#e7e7e7;stroke-width:2;stroke:rgb(255,255,255)\"/><rect x=\"1045\" y=\"0\" width=\"55\" height=\"55\" style=\"fill:#f3f3f3;stroke-width:2;stroke:rgb(255,255,255)\"/></svg>"
      ],
      "text/plain": [
       "[(0.047058823529411764, 0.047058823529411764, 0.047058823529411764),\n",
       " (0.09411764705882353, 0.09411764705882353, 0.09411764705882353),\n",
       " (0.1411764705882353, 0.1411764705882353, 0.1411764705882353),\n",
       " (0.18823529411764706, 0.18823529411764706, 0.18823529411764706),\n",
       " (0.23529411764705882, 0.23529411764705882, 0.23529411764705882),\n",
       " (0.28627450980392155, 0.28627450980392155, 0.28627450980392155),\n",
       " (0.3333333333333333, 0.3333333333333333, 0.3333333333333333),\n",
       " (0.3803921568627451, 0.3803921568627451, 0.3803921568627451),\n",
       " (0.42745098039215684, 0.42745098039215684, 0.42745098039215684),\n",
       " (0.4745098039215686, 0.4745098039215686, 0.4745098039215686),\n",
       " (0.5254901960784314, 0.5254901960784314, 0.5254901960784314),\n",
       " (0.5725490196078431, 0.5725490196078431, 0.5725490196078431),\n",
       " (0.6196078431372549, 0.6196078431372549, 0.6196078431372549),\n",
       " (0.6666666666666666, 0.6666666666666666, 0.6666666666666666),\n",
       " (0.7137254901960784, 0.7137254901960784, 0.7137254901960784),\n",
       " (0.7647058823529411, 0.7647058823529411, 0.7647058823529411),\n",
       " (0.8117647058823529, 0.8117647058823529, 0.8117647058823529),\n",
       " (0.8588235294117647, 0.8588235294117647, 0.8588235294117647),\n",
       " (0.9058823529411765, 0.9058823529411765, 0.9058823529411765),\n",
       " (0.9529411764705882, 0.9529411764705882, 0.9529411764705882)]"
      ]
     },
     "metadata": {},
     "output_type": "display_data"
    },
    {
     "name": "stdout",
     "output_type": "stream",
     "text": [
      "bone\n"
     ]
    },
    {
     "data": {
      "text/html": [
       "<svg  width=\"1100\" height=\"55\"><rect x=\"0\" y=\"0\" width=\"55\" height=\"55\" style=\"fill:#0a0a0f;stroke-width:2;stroke:rgb(255,255,255)\"/><rect x=\"55\" y=\"0\" width=\"55\" height=\"55\" style=\"fill:#15151d;stroke-width:2;stroke:rgb(255,255,255)\"/><rect x=\"110\" y=\"0\" width=\"55\" height=\"55\" style=\"fill:#201f2c;stroke-width:2;stroke:rgb(255,255,255)\"/><rect x=\"165\" y=\"0\" width=\"55\" height=\"55\" style=\"fill:#2a2a3a;stroke-width:2;stroke:rgb(255,255,255)\"/><rect x=\"220\" y=\"0\" width=\"55\" height=\"55\" style=\"fill:#343449;stroke-width:2;stroke:rgb(255,255,255)\"/><rect x=\"275\" y=\"0\" width=\"55\" height=\"55\" style=\"fill:#404059;stroke-width:2;stroke:rgb(255,255,255)\"/><rect x=\"330\" y=\"0\" width=\"55\" height=\"55\" style=\"fill:#4a4a67;stroke-width:2;stroke:rgb(255,255,255)\"/><rect x=\"385\" y=\"0\" width=\"55\" height=\"55\" style=\"fill:#555675;stroke-width:2;stroke:rgb(255,255,255)\"/><rect x=\"440\" y=\"0\" width=\"55\" height=\"55\" style=\"fill:#5f657f;stroke-width:2;stroke:rgb(255,255,255)\"/><rect x=\"495\" y=\"0\" width=\"55\" height=\"55\" style=\"fill:#6a738a;stroke-width:2;stroke:rgb(255,255,255)\"/><rect x=\"550\" y=\"0\" width=\"55\" height=\"55\" style=\"fill:#758395;stroke-width:2;stroke:rgb(255,255,255)\"/><rect x=\"605\" y=\"0\" width=\"55\" height=\"55\" style=\"fill:#8091a0;stroke-width:2;stroke:rgb(255,255,255)\"/><rect x=\"660\" y=\"0\" width=\"55\" height=\"55\" style=\"fill:#8aa0aa;stroke-width:2;stroke:rgb(255,255,255)\"/><rect x=\"715\" y=\"0\" width=\"55\" height=\"55\" style=\"fill:#95aeb5;stroke-width:2;stroke:rgb(255,255,255)\"/><rect x=\"770\" y=\"0\" width=\"55\" height=\"55\" style=\"fill:#9fbcbf;stroke-width:2;stroke:rgb(255,255,255)\"/><rect x=\"825\" y=\"0\" width=\"55\" height=\"55\" style=\"fill:#adcaca;stroke-width:2;stroke:rgb(255,255,255)\"/><rect x=\"880\" y=\"0\" width=\"55\" height=\"55\" style=\"fill:#bdd5d5;stroke-width:2;stroke:rgb(255,255,255)\"/><rect x=\"935\" y=\"0\" width=\"55\" height=\"55\" style=\"fill:#cee0df;stroke-width:2;stroke:rgb(255,255,255)\"/><rect x=\"990\" y=\"0\" width=\"55\" height=\"55\" style=\"fill:#deeaea;stroke-width:2;stroke:rgb(255,255,255)\"/><rect x=\"1045\" y=\"0\" width=\"55\" height=\"55\" style=\"fill:#eff4f4;stroke-width:2;stroke:rgb(255,255,255)\"/></svg>"
      ],
      "text/plain": [
       "[(0.041176470588235294, 0.04117645447568721, 0.05728900255754476),\n",
       " (0.08235294117647059, 0.08235290895137443, 0.11457800511508952),\n",
       " (0.12352941176470589, 0.12352936342706163, 0.17186700767263427),\n",
       " (0.16470588235294117, 0.16470581790274885, 0.22915601023017904),\n",
       " (0.20588235294117646, 0.20588227237843607, 0.2864450127877238),\n",
       " (0.25049019607843137, 0.25049009806043054, 0.3485080988917306),\n",
       " (0.2916666666666667, 0.29166655253611773, 0.40579710144927533),\n",
       " (0.33284313725490194, 0.3378676387101018, 0.45784301526967797),\n",
       " (0.3740196078431372, 0.3944852761182057, 0.49901949512261384),\n",
       " (0.4151960784313726, 0.45110291352630966, 0.5401959749755497),\n",
       " (0.4598039215686274, 0.5124386873850888, 0.5848038281495636),\n",
       " (0.5009803921568627, 0.5690563247931928, 0.6259803080024994),\n",
       " (0.542156862745098, 0.6256739622012967, 0.6671567878554352),\n",
       " (0.5833333333333334, 0.6822915996094006, 0.708333267708371),\n",
       " (0.6245098039215686, 0.7389092370175045, 0.7495097475613068),\n",
       " (0.6783087077204725, 0.7941176470588235, 0.7941176007353208),\n",
       " (0.7426469661763779, 0.8352941176470589, 0.8352940805882566),\n",
       " (0.8069852246322835, 0.8764705882352941, 0.8764705604411924),\n",
       " (0.871323483088189, 0.9176470588235295, 0.9176470402941282),\n",
       " (0.9356617415440944, 0.9588235294117647, 0.9588235201470641)]"
      ]
     },
     "metadata": {},
     "output_type": "display_data"
    },
    {
     "name": "stdout",
     "output_type": "stream",
     "text": [
      "bone_r\n"
     ]
    },
    {
     "data": {
      "text/html": [
       "<svg  width=\"1100\" height=\"55\"><rect x=\"0\" y=\"0\" width=\"55\" height=\"55\" style=\"fill:#eff4f4;stroke-width:2;stroke:rgb(255,255,255)\"/><rect x=\"55\" y=\"0\" width=\"55\" height=\"55\" style=\"fill:#deeaea;stroke-width:2;stroke:rgb(255,255,255)\"/><rect x=\"110\" y=\"0\" width=\"55\" height=\"55\" style=\"fill:#cee0df;stroke-width:2;stroke:rgb(255,255,255)\"/><rect x=\"165\" y=\"0\" width=\"55\" height=\"55\" style=\"fill:#bdd5d5;stroke-width:2;stroke:rgb(255,255,255)\"/><rect x=\"220\" y=\"0\" width=\"55\" height=\"55\" style=\"fill:#adcaca;stroke-width:2;stroke:rgb(255,255,255)\"/><rect x=\"275\" y=\"0\" width=\"55\" height=\"55\" style=\"fill:#9fbcbf;stroke-width:2;stroke:rgb(255,255,255)\"/><rect x=\"330\" y=\"0\" width=\"55\" height=\"55\" style=\"fill:#95aeb5;stroke-width:2;stroke:rgb(255,255,255)\"/><rect x=\"385\" y=\"0\" width=\"55\" height=\"55\" style=\"fill:#8aa0aa;stroke-width:2;stroke:rgb(255,255,255)\"/><rect x=\"440\" y=\"0\" width=\"55\" height=\"55\" style=\"fill:#8091a0;stroke-width:2;stroke:rgb(255,255,255)\"/><rect x=\"495\" y=\"0\" width=\"55\" height=\"55\" style=\"fill:#758395;stroke-width:2;stroke:rgb(255,255,255)\"/><rect x=\"550\" y=\"0\" width=\"55\" height=\"55\" style=\"fill:#6a738a;stroke-width:2;stroke:rgb(255,255,255)\"/><rect x=\"605\" y=\"0\" width=\"55\" height=\"55\" style=\"fill:#5f657f;stroke-width:2;stroke:rgb(255,255,255)\"/><rect x=\"660\" y=\"0\" width=\"55\" height=\"55\" style=\"fill:#555675;stroke-width:2;stroke:rgb(255,255,255)\"/><rect x=\"715\" y=\"0\" width=\"55\" height=\"55\" style=\"fill:#4a4a67;stroke-width:2;stroke:rgb(255,255,255)\"/><rect x=\"770\" y=\"0\" width=\"55\" height=\"55\" style=\"fill:#404059;stroke-width:2;stroke:rgb(255,255,255)\"/><rect x=\"825\" y=\"0\" width=\"55\" height=\"55\" style=\"fill:#343449;stroke-width:2;stroke:rgb(255,255,255)\"/><rect x=\"880\" y=\"0\" width=\"55\" height=\"55\" style=\"fill:#2a2a3a;stroke-width:2;stroke:rgb(255,255,255)\"/><rect x=\"935\" y=\"0\" width=\"55\" height=\"55\" style=\"fill:#201f2c;stroke-width:2;stroke:rgb(255,255,255)\"/><rect x=\"990\" y=\"0\" width=\"55\" height=\"55\" style=\"fill:#15151d;stroke-width:2;stroke:rgb(255,255,255)\"/><rect x=\"1045\" y=\"0\" width=\"55\" height=\"55\" style=\"fill:#0a0a0f;stroke-width:2;stroke:rgb(255,255,255)\"/></svg>"
      ],
      "text/plain": [
       "[(0.9356617415440944, 0.9588235294117647, 0.9588235201470642),\n",
       " (0.871323483088189, 0.9176470588235294, 0.9176470402941284),\n",
       " (0.8069852246322834, 0.8764705882352941, 0.8764705604411924),\n",
       " (0.7426469661763779, 0.8352941176470587, 0.8352940805882566),\n",
       " (0.6783087077204724, 0.7941176470588235, 0.7941176007353208),\n",
       " (0.6245098039215685, 0.7389092370175045, 0.7495097475613071),\n",
       " (0.5833333333333333, 0.6822915996094006, 0.7083332677083711),\n",
       " (0.542156862745098, 0.6256739622012968, 0.6671567878554354),\n",
       " (0.5009803921568627, 0.5690563247931928, 0.6259803080024995),\n",
       " (0.45980392156862737, 0.5124386873850889, 0.5848038281495637),\n",
       " (0.4151960784313725, 0.4511029135263097, 0.5401959749755498),\n",
       " (0.3740196078431372, 0.39448527611820583, 0.499019495122614),\n",
       " (0.3328431372549019, 0.3378676387101019, 0.4578430152696781),\n",
       " (0.29166666666666663, 0.29166655253611784, 0.4057971014492755),\n",
       " (0.2504901960784313, 0.2504900980604306, 0.34850809889173073),\n",
       " (0.20588235294117646, 0.20588227237843612, 0.28644501278772383),\n",
       " (0.1647058823529412, 0.1647058179027489, 0.2291560102301791),\n",
       " (0.12352941176470589, 0.12352936342706167, 0.1718670076726343),\n",
       " (0.08235294117647052, 0.08235290895137443, 0.11457800511508953),\n",
       " (0.04117647058823526, 0.04117645447568724, 0.057289002557544766)]"
      ]
     },
     "metadata": {},
     "output_type": "display_data"
    },
    {
     "name": "stdout",
     "output_type": "stream",
     "text": [
      "brg\n"
     ]
    },
    {
     "data": {
      "text/html": [
       "<svg  width=\"1100\" height=\"55\"><rect x=\"0\" y=\"0\" width=\"55\" height=\"55\" style=\"fill:#1800e7;stroke-width:2;stroke:rgb(255,255,255)\"/><rect x=\"55\" y=\"0\" width=\"55\" height=\"55\" style=\"fill:#3000cf;stroke-width:2;stroke:rgb(255,255,255)\"/><rect x=\"110\" y=\"0\" width=\"55\" height=\"55\" style=\"fill:#4800b7;stroke-width:2;stroke:rgb(255,255,255)\"/><rect x=\"165\" y=\"0\" width=\"55\" height=\"55\" style=\"fill:#60009f;stroke-width:2;stroke:rgb(255,255,255)\"/><rect x=\"220\" y=\"0\" width=\"55\" height=\"55\" style=\"fill:#780087;stroke-width:2;stroke:rgb(255,255,255)\"/><rect x=\"275\" y=\"0\" width=\"55\" height=\"55\" style=\"fill:#92006d;stroke-width:2;stroke:rgb(255,255,255)\"/><rect x=\"330\" y=\"0\" width=\"55\" height=\"55\" style=\"fill:#aa0055;stroke-width:2;stroke:rgb(255,255,255)\"/><rect x=\"385\" y=\"0\" width=\"55\" height=\"55\" style=\"fill:#c2003d;stroke-width:2;stroke:rgb(255,255,255)\"/><rect x=\"440\" y=\"0\" width=\"55\" height=\"55\" style=\"fill:#da0025;stroke-width:2;stroke:rgb(255,255,255)\"/><rect x=\"495\" y=\"0\" width=\"55\" height=\"55\" style=\"fill:#f2000d;stroke-width:2;stroke:rgb(255,255,255)\"/><rect x=\"550\" y=\"0\" width=\"55\" height=\"55\" style=\"fill:#f20d00;stroke-width:2;stroke:rgb(255,255,255)\"/><rect x=\"605\" y=\"0\" width=\"55\" height=\"55\" style=\"fill:#da2500;stroke-width:2;stroke:rgb(255,255,255)\"/><rect x=\"660\" y=\"0\" width=\"55\" height=\"55\" style=\"fill:#c23d00;stroke-width:2;stroke:rgb(255,255,255)\"/><rect x=\"715\" y=\"0\" width=\"55\" height=\"55\" style=\"fill:#aa5500;stroke-width:2;stroke:rgb(255,255,255)\"/><rect x=\"770\" y=\"0\" width=\"55\" height=\"55\" style=\"fill:#926d00;stroke-width:2;stroke:rgb(255,255,255)\"/><rect x=\"825\" y=\"0\" width=\"55\" height=\"55\" style=\"fill:#788700;stroke-width:2;stroke:rgb(255,255,255)\"/><rect x=\"880\" y=\"0\" width=\"55\" height=\"55\" style=\"fill:#609f00;stroke-width:2;stroke:rgb(255,255,255)\"/><rect x=\"935\" y=\"0\" width=\"55\" height=\"55\" style=\"fill:#48b700;stroke-width:2;stroke:rgb(255,255,255)\"/><rect x=\"990\" y=\"0\" width=\"55\" height=\"55\" style=\"fill:#30cf00;stroke-width:2;stroke:rgb(255,255,255)\"/><rect x=\"1045\" y=\"0\" width=\"55\" height=\"55\" style=\"fill:#18e700;stroke-width:2;stroke:rgb(255,255,255)\"/></svg>"
      ],
      "text/plain": [
       "[(0.09411764705882353, 0.0, 0.9058823529411765),\n",
       " (0.18823529411764706, 0.0, 0.8117647058823529),\n",
       " (0.2823529411764706, 0.0, 0.7176470588235294),\n",
       " (0.3764705882352941, 0.0, 0.6235294117647059),\n",
       " (0.47058823529411764, 0.0, 0.5294117647058824),\n",
       " (0.5725490196078431, 0.0, 0.4274509803921569),\n",
       " (0.6666666666666666, 0.0, 0.33333333333333337),\n",
       " (0.7607843137254902, 0.0, 0.23921568627450984),\n",
       " (0.8549019607843137, 0.0, 0.14509803921568631),\n",
       " (0.9490196078431372, 0.0, 0.050980392156862786),\n",
       " (0.9490196078431372, 0.050980392156862744, 0.0),\n",
       " (0.8549019607843137, 0.1450980392156863, 0.0),\n",
       " (0.7607843137254902, 0.23921568627450981, 0.0),\n",
       " (0.6666666666666667, 0.3333333333333333, 0.0),\n",
       " (0.5725490196078431, 0.42745098039215684, 0.0),\n",
       " (0.47058823529411764, 0.5294117647058824, 0.0),\n",
       " (0.3764705882352941, 0.6235294117647059, 0.0),\n",
       " (0.2823529411764706, 0.7176470588235294, 0.0),\n",
       " (0.18823529411764706, 0.8117647058823529, 0.0),\n",
       " (0.09411764705882353, 0.9058823529411765, 0.0)]"
      ]
     },
     "metadata": {},
     "output_type": "display_data"
    },
    {
     "name": "stdout",
     "output_type": "stream",
     "text": [
      "brg_r\n"
     ]
    },
    {
     "data": {
      "text/html": [
       "<svg  width=\"1100\" height=\"55\"><rect x=\"0\" y=\"0\" width=\"55\" height=\"55\" style=\"fill:#18e700;stroke-width:2;stroke:rgb(255,255,255)\"/><rect x=\"55\" y=\"0\" width=\"55\" height=\"55\" style=\"fill:#30cf00;stroke-width:2;stroke:rgb(255,255,255)\"/><rect x=\"110\" y=\"0\" width=\"55\" height=\"55\" style=\"fill:#48b700;stroke-width:2;stroke:rgb(255,255,255)\"/><rect x=\"165\" y=\"0\" width=\"55\" height=\"55\" style=\"fill:#609f00;stroke-width:2;stroke:rgb(255,255,255)\"/><rect x=\"220\" y=\"0\" width=\"55\" height=\"55\" style=\"fill:#788700;stroke-width:2;stroke:rgb(255,255,255)\"/><rect x=\"275\" y=\"0\" width=\"55\" height=\"55\" style=\"fill:#926d00;stroke-width:2;stroke:rgb(255,255,255)\"/><rect x=\"330\" y=\"0\" width=\"55\" height=\"55\" style=\"fill:#aa5500;stroke-width:2;stroke:rgb(255,255,255)\"/><rect x=\"385\" y=\"0\" width=\"55\" height=\"55\" style=\"fill:#c23d00;stroke-width:2;stroke:rgb(255,255,255)\"/><rect x=\"440\" y=\"0\" width=\"55\" height=\"55\" style=\"fill:#da2500;stroke-width:2;stroke:rgb(255,255,255)\"/><rect x=\"495\" y=\"0\" width=\"55\" height=\"55\" style=\"fill:#f20d00;stroke-width:2;stroke:rgb(255,255,255)\"/><rect x=\"550\" y=\"0\" width=\"55\" height=\"55\" style=\"fill:#f2000d;stroke-width:2;stroke:rgb(255,255,255)\"/><rect x=\"605\" y=\"0\" width=\"55\" height=\"55\" style=\"fill:#da0025;stroke-width:2;stroke:rgb(255,255,255)\"/><rect x=\"660\" y=\"0\" width=\"55\" height=\"55\" style=\"fill:#c2003d;stroke-width:2;stroke:rgb(255,255,255)\"/><rect x=\"715\" y=\"0\" width=\"55\" height=\"55\" style=\"fill:#aa0055;stroke-width:2;stroke:rgb(255,255,255)\"/><rect x=\"770\" y=\"0\" width=\"55\" height=\"55\" style=\"fill:#92006d;stroke-width:2;stroke:rgb(255,255,255)\"/><rect x=\"825\" y=\"0\" width=\"55\" height=\"55\" style=\"fill:#780087;stroke-width:2;stroke:rgb(255,255,255)\"/><rect x=\"880\" y=\"0\" width=\"55\" height=\"55\" style=\"fill:#60009f;stroke-width:2;stroke:rgb(255,255,255)\"/><rect x=\"935\" y=\"0\" width=\"55\" height=\"55\" style=\"fill:#4800b7;stroke-width:2;stroke:rgb(255,255,255)\"/><rect x=\"990\" y=\"0\" width=\"55\" height=\"55\" style=\"fill:#3000cf;stroke-width:2;stroke:rgb(255,255,255)\"/><rect x=\"1045\" y=\"0\" width=\"55\" height=\"55\" style=\"fill:#1800e7;stroke-width:2;stroke:rgb(255,255,255)\"/></svg>"
      ],
      "text/plain": [
       "[(0.09411764705882353, 0.9058823529411765, 0.0),\n",
       " (0.18823529411764706, 0.8117647058823529, 0.0),\n",
       " (0.2823529411764706, 0.7176470588235294, 0.0),\n",
       " (0.3764705882352941, 0.6235294117647059, 0.0),\n",
       " (0.47058823529411764, 0.5294117647058824, 0.0),\n",
       " (0.5725490196078431, 0.4274509803921569, 0.0),\n",
       " (0.6666666666666666, 0.33333333333333337, 0.0),\n",
       " (0.7607843137254902, 0.23921568627450984, 0.0),\n",
       " (0.8549019607843137, 0.14509803921568631, 0.0),\n",
       " (0.9490196078431372, 0.050980392156862786, 0.0),\n",
       " (0.9490196078431372, 0.0, 0.050980392156862744),\n",
       " (0.8549019607843137, 0.0, 0.1450980392156863),\n",
       " (0.7607843137254902, 0.0, 0.23921568627450981),\n",
       " (0.6666666666666667, 0.0, 0.3333333333333333),\n",
       " (0.5725490196078431, 0.0, 0.42745098039215684),\n",
       " (0.47058823529411764, 0.0, 0.5294117647058824),\n",
       " (0.3764705882352941, 0.0, 0.6235294117647059),\n",
       " (0.2823529411764706, 0.0, 0.7176470588235294),\n",
       " (0.18823529411764706, 0.0, 0.8117647058823529),\n",
       " (0.09411764705882353, 0.0, 0.9058823529411765)]"
      ]
     },
     "metadata": {},
     "output_type": "display_data"
    },
    {
     "name": "stdout",
     "output_type": "stream",
     "text": [
      "bwr\n"
     ]
    },
    {
     "data": {
      "text/html": [
       "<svg  width=\"1100\" height=\"55\"><rect x=\"0\" y=\"0\" width=\"55\" height=\"55\" style=\"fill:#1818ff;stroke-width:2;stroke:rgb(255,255,255)\"/><rect x=\"55\" y=\"0\" width=\"55\" height=\"55\" style=\"fill:#3030ff;stroke-width:2;stroke:rgb(255,255,255)\"/><rect x=\"110\" y=\"0\" width=\"55\" height=\"55\" style=\"fill:#4848ff;stroke-width:2;stroke:rgb(255,255,255)\"/><rect x=\"165\" y=\"0\" width=\"55\" height=\"55\" style=\"fill:#6060ff;stroke-width:2;stroke:rgb(255,255,255)\"/><rect x=\"220\" y=\"0\" width=\"55\" height=\"55\" style=\"fill:#7878ff;stroke-width:2;stroke:rgb(255,255,255)\"/><rect x=\"275\" y=\"0\" width=\"55\" height=\"55\" style=\"fill:#9292ff;stroke-width:2;stroke:rgb(255,255,255)\"/><rect x=\"330\" y=\"0\" width=\"55\" height=\"55\" style=\"fill:#aaaaff;stroke-width:2;stroke:rgb(255,255,255)\"/><rect x=\"385\" y=\"0\" width=\"55\" height=\"55\" style=\"fill:#c2c2ff;stroke-width:2;stroke:rgb(255,255,255)\"/><rect x=\"440\" y=\"0\" width=\"55\" height=\"55\" style=\"fill:#dadaff;stroke-width:2;stroke:rgb(255,255,255)\"/><rect x=\"495\" y=\"0\" width=\"55\" height=\"55\" style=\"fill:#f2f2ff;stroke-width:2;stroke:rgb(255,255,255)\"/><rect x=\"550\" y=\"0\" width=\"55\" height=\"55\" style=\"fill:#fff2f2;stroke-width:2;stroke:rgb(255,255,255)\"/><rect x=\"605\" y=\"0\" width=\"55\" height=\"55\" style=\"fill:#ffdada;stroke-width:2;stroke:rgb(255,255,255)\"/><rect x=\"660\" y=\"0\" width=\"55\" height=\"55\" style=\"fill:#ffc2c2;stroke-width:2;stroke:rgb(255,255,255)\"/><rect x=\"715\" y=\"0\" width=\"55\" height=\"55\" style=\"fill:#ffaaaa;stroke-width:2;stroke:rgb(255,255,255)\"/><rect x=\"770\" y=\"0\" width=\"55\" height=\"55\" style=\"fill:#ff9292;stroke-width:2;stroke:rgb(255,255,255)\"/><rect x=\"825\" y=\"0\" width=\"55\" height=\"55\" style=\"fill:#ff7878;stroke-width:2;stroke:rgb(255,255,255)\"/><rect x=\"880\" y=\"0\" width=\"55\" height=\"55\" style=\"fill:#ff6060;stroke-width:2;stroke:rgb(255,255,255)\"/><rect x=\"935\" y=\"0\" width=\"55\" height=\"55\" style=\"fill:#ff4848;stroke-width:2;stroke:rgb(255,255,255)\"/><rect x=\"990\" y=\"0\" width=\"55\" height=\"55\" style=\"fill:#ff3030;stroke-width:2;stroke:rgb(255,255,255)\"/><rect x=\"1045\" y=\"0\" width=\"55\" height=\"55\" style=\"fill:#ff1818;stroke-width:2;stroke:rgb(255,255,255)\"/></svg>"
      ],
      "text/plain": [
       "[(0.09411764705882353, 0.09411764705882353, 1.0),\n",
       " (0.18823529411764706, 0.18823529411764706, 1.0),\n",
       " (0.2823529411764706, 0.2823529411764706, 1.0),\n",
       " (0.3764705882352941, 0.3764705882352941, 1.0),\n",
       " (0.47058823529411764, 0.47058823529411764, 1.0),\n",
       " (0.5725490196078431, 0.5725490196078431, 1.0),\n",
       " (0.6666666666666666, 0.6666666666666666, 1.0),\n",
       " (0.7607843137254902, 0.7607843137254902, 1.0),\n",
       " (0.8549019607843137, 0.8549019607843137, 1.0),\n",
       " (0.9490196078431372, 0.9490196078431372, 1.0),\n",
       " (1.0, 0.9490196078431372, 0.9490196078431372),\n",
       " (1.0, 0.8549019607843137, 0.8549019607843137),\n",
       " (1.0, 0.7607843137254902, 0.7607843137254902),\n",
       " (1.0, 0.6666666666666667, 0.6666666666666667),\n",
       " (1.0, 0.5725490196078431, 0.5725490196078431),\n",
       " (1.0, 0.47058823529411764, 0.47058823529411764),\n",
       " (1.0, 0.3764705882352941, 0.3764705882352941),\n",
       " (1.0, 0.2823529411764706, 0.2823529411764706),\n",
       " (1.0, 0.18823529411764706, 0.18823529411764706),\n",
       " (1.0, 0.09411764705882353, 0.09411764705882353)]"
      ]
     },
     "metadata": {},
     "output_type": "display_data"
    },
    {
     "name": "stdout",
     "output_type": "stream",
     "text": [
      "bwr_r\n"
     ]
    },
    {
     "data": {
      "text/html": [
       "<svg  width=\"1100\" height=\"55\"><rect x=\"0\" y=\"0\" width=\"55\" height=\"55\" style=\"fill:#ff1818;stroke-width:2;stroke:rgb(255,255,255)\"/><rect x=\"55\" y=\"0\" width=\"55\" height=\"55\" style=\"fill:#ff3030;stroke-width:2;stroke:rgb(255,255,255)\"/><rect x=\"110\" y=\"0\" width=\"55\" height=\"55\" style=\"fill:#ff4848;stroke-width:2;stroke:rgb(255,255,255)\"/><rect x=\"165\" y=\"0\" width=\"55\" height=\"55\" style=\"fill:#ff6060;stroke-width:2;stroke:rgb(255,255,255)\"/><rect x=\"220\" y=\"0\" width=\"55\" height=\"55\" style=\"fill:#ff7878;stroke-width:2;stroke:rgb(255,255,255)\"/><rect x=\"275\" y=\"0\" width=\"55\" height=\"55\" style=\"fill:#ff9292;stroke-width:2;stroke:rgb(255,255,255)\"/><rect x=\"330\" y=\"0\" width=\"55\" height=\"55\" style=\"fill:#ffaaaa;stroke-width:2;stroke:rgb(255,255,255)\"/><rect x=\"385\" y=\"0\" width=\"55\" height=\"55\" style=\"fill:#ffc2c2;stroke-width:2;stroke:rgb(255,255,255)\"/><rect x=\"440\" y=\"0\" width=\"55\" height=\"55\" style=\"fill:#ffdada;stroke-width:2;stroke:rgb(255,255,255)\"/><rect x=\"495\" y=\"0\" width=\"55\" height=\"55\" style=\"fill:#fff2f2;stroke-width:2;stroke:rgb(255,255,255)\"/><rect x=\"550\" y=\"0\" width=\"55\" height=\"55\" style=\"fill:#f2f2ff;stroke-width:2;stroke:rgb(255,255,255)\"/><rect x=\"605\" y=\"0\" width=\"55\" height=\"55\" style=\"fill:#dadaff;stroke-width:2;stroke:rgb(255,255,255)\"/><rect x=\"660\" y=\"0\" width=\"55\" height=\"55\" style=\"fill:#c2c2ff;stroke-width:2;stroke:rgb(255,255,255)\"/><rect x=\"715\" y=\"0\" width=\"55\" height=\"55\" style=\"fill:#aaaaff;stroke-width:2;stroke:rgb(255,255,255)\"/><rect x=\"770\" y=\"0\" width=\"55\" height=\"55\" style=\"fill:#9292ff;stroke-width:2;stroke:rgb(255,255,255)\"/><rect x=\"825\" y=\"0\" width=\"55\" height=\"55\" style=\"fill:#7878ff;stroke-width:2;stroke:rgb(255,255,255)\"/><rect x=\"880\" y=\"0\" width=\"55\" height=\"55\" style=\"fill:#6060ff;stroke-width:2;stroke:rgb(255,255,255)\"/><rect x=\"935\" y=\"0\" width=\"55\" height=\"55\" style=\"fill:#4848ff;stroke-width:2;stroke:rgb(255,255,255)\"/><rect x=\"990\" y=\"0\" width=\"55\" height=\"55\" style=\"fill:#3030ff;stroke-width:2;stroke:rgb(255,255,255)\"/><rect x=\"1045\" y=\"0\" width=\"55\" height=\"55\" style=\"fill:#1818ff;stroke-width:2;stroke:rgb(255,255,255)\"/></svg>"
      ],
      "text/plain": [
       "[(1.0, 0.09411764705882353, 0.09411764705882353),\n",
       " (1.0, 0.18823529411764706, 0.18823529411764706),\n",
       " (1.0, 0.2823529411764706, 0.2823529411764706),\n",
       " (1.0, 0.3764705882352941, 0.3764705882352941),\n",
       " (1.0, 0.47058823529411764, 0.47058823529411764),\n",
       " (1.0, 0.5725490196078431, 0.5725490196078431),\n",
       " (1.0, 0.6666666666666666, 0.6666666666666666),\n",
       " (1.0, 0.7607843137254902, 0.7607843137254902),\n",
       " (1.0, 0.8549019607843137, 0.8549019607843137),\n",
       " (1.0, 0.9490196078431372, 0.9490196078431372),\n",
       " (0.9490196078431372, 0.9490196078431372, 1.0),\n",
       " (0.8549019607843137, 0.8549019607843137, 1.0),\n",
       " (0.7607843137254902, 0.7607843137254902, 1.0),\n",
       " (0.6666666666666667, 0.6666666666666667, 1.0),\n",
       " (0.5725490196078431, 0.5725490196078431, 1.0),\n",
       " (0.47058823529411764, 0.47058823529411764, 1.0),\n",
       " (0.3764705882352941, 0.3764705882352941, 1.0),\n",
       " (0.2823529411764706, 0.2823529411764706, 1.0),\n",
       " (0.18823529411764706, 0.18823529411764706, 1.0),\n",
       " (0.09411764705882353, 0.09411764705882353, 1.0)]"
      ]
     },
     "metadata": {},
     "output_type": "display_data"
    },
    {
     "name": "stdout",
     "output_type": "stream",
     "text": [
      "cividis\n"
     ]
    },
    {
     "data": {
      "text/html": [
       "<svg  width=\"1100\" height=\"55\"><rect x=\"0\" y=\"0\" width=\"55\" height=\"55\" style=\"fill:#002b62;stroke-width:2;stroke:rgb(255,255,255)\"/><rect x=\"55\" y=\"0\" width=\"55\" height=\"55\" style=\"fill:#053371;stroke-width:2;stroke:rgb(255,255,255)\"/><rect x=\"110\" y=\"0\" width=\"55\" height=\"55\" style=\"fill:#213b6e;stroke-width:2;stroke:rgb(255,255,255)\"/><rect x=\"165\" y=\"0\" width=\"55\" height=\"55\" style=\"fill:#32436d;stroke-width:2;stroke:rgb(255,255,255)\"/><rect x=\"220\" y=\"0\" width=\"55\" height=\"55\" style=\"fill:#3f4c6c;stroke-width:2;stroke:rgb(255,255,255)\"/><rect x=\"275\" y=\"0\" width=\"55\" height=\"55\" style=\"fill:#4c556c;stroke-width:2;stroke:rgb(255,255,255)\"/><rect x=\"330\" y=\"0\" width=\"55\" height=\"55\" style=\"fill:#575d6d;stroke-width:2;stroke:rgb(255,255,255)\"/><rect x=\"385\" y=\"0\" width=\"55\" height=\"55\" style=\"fill:#62656f;stroke-width:2;stroke:rgb(255,255,255)\"/><rect x=\"440\" y=\"0\" width=\"55\" height=\"55\" style=\"fill:#6c6e72;stroke-width:2;stroke:rgb(255,255,255)\"/><rect x=\"495\" y=\"0\" width=\"55\" height=\"55\" style=\"fill:#777776;stroke-width:2;stroke:rgb(255,255,255)\"/><rect x=\"550\" y=\"0\" width=\"55\" height=\"55\" style=\"fill:#828079;stroke-width:2;stroke:rgb(255,255,255)\"/><rect x=\"605\" y=\"0\" width=\"55\" height=\"55\" style=\"fill:#8e8978;stroke-width:2;stroke:rgb(255,255,255)\"/><rect x=\"660\" y=\"0\" width=\"55\" height=\"55\" style=\"fill:#999277;stroke-width:2;stroke:rgb(255,255,255)\"/><rect x=\"715\" y=\"0\" width=\"55\" height=\"55\" style=\"fill:#a59c74;stroke-width:2;stroke:rgb(255,255,255)\"/><rect x=\"770\" y=\"0\" width=\"55\" height=\"55\" style=\"fill:#b1a570;stroke-width:2;stroke:rgb(255,255,255)\"/><rect x=\"825\" y=\"0\" width=\"55\" height=\"55\" style=\"fill:#bfb06b;stroke-width:2;stroke:rgb(255,255,255)\"/><rect x=\"880\" y=\"0\" width=\"55\" height=\"55\" style=\"fill:#ccba64;stroke-width:2;stroke:rgb(255,255,255)\"/><rect x=\"935\" y=\"0\" width=\"55\" height=\"55\" style=\"fill:#d9c55c;stroke-width:2;stroke:rgb(255,255,255)\"/><rect x=\"990\" y=\"0\" width=\"55\" height=\"55\" style=\"fill:#e6d051;stroke-width:2;stroke:rgb(255,255,255)\"/><rect x=\"1045\" y=\"0\" width=\"55\" height=\"55\" style=\"fill:#f3db42;stroke-width:2;stroke:rgb(255,255,255)\"/></svg>"
      ],
      "text/plain": [
       "[(0.0, 0.168204, 0.385902),\n",
       " (0.017852, 0.198528, 0.441248),\n",
       " (0.130669, 0.231458, 0.43284),\n",
       " (0.195057, 0.264372, 0.425924),\n",
       " (0.247605, 0.296986, 0.422917),\n",
       " (0.298421, 0.332247, 0.423973),\n",
       " (0.342246, 0.364939, 0.428559),\n",
       " (0.384268, 0.397928, 0.436475),\n",
       " (0.42512, 0.431334, 0.447692),\n",
       " (0.464947, 0.465241, 0.463395),\n",
       " (0.51054, 0.502643, 0.47255),\n",
       " (0.555393, 0.537807, 0.471147),\n",
       " (0.601354, 0.573743, 0.465074),\n",
       " (0.648222, 0.610553, 0.454801),\n",
       " (0.695985, 0.648334, 0.440072),\n",
       " (0.748772, 0.69047, 0.418448),\n",
       " (0.79848, 0.73058, 0.392597),\n",
       " (0.849223, 0.771947, 0.359729),\n",
       " (0.901195, 0.814639, 0.317021),\n",
       " (0.954725, 0.858646, 0.259365)]"
      ]
     },
     "metadata": {},
     "output_type": "display_data"
    },
    {
     "name": "stdout",
     "output_type": "stream",
     "text": [
      "cividis_r\n"
     ]
    },
    {
     "data": {
      "text/html": [
       "<svg  width=\"1100\" height=\"55\"><rect x=\"0\" y=\"0\" width=\"55\" height=\"55\" style=\"fill:#f3db42;stroke-width:2;stroke:rgb(255,255,255)\"/><rect x=\"55\" y=\"0\" width=\"55\" height=\"55\" style=\"fill:#e6d051;stroke-width:2;stroke:rgb(255,255,255)\"/><rect x=\"110\" y=\"0\" width=\"55\" height=\"55\" style=\"fill:#d9c55c;stroke-width:2;stroke:rgb(255,255,255)\"/><rect x=\"165\" y=\"0\" width=\"55\" height=\"55\" style=\"fill:#ccba64;stroke-width:2;stroke:rgb(255,255,255)\"/><rect x=\"220\" y=\"0\" width=\"55\" height=\"55\" style=\"fill:#bfb06b;stroke-width:2;stroke:rgb(255,255,255)\"/><rect x=\"275\" y=\"0\" width=\"55\" height=\"55\" style=\"fill:#b1a570;stroke-width:2;stroke:rgb(255,255,255)\"/><rect x=\"330\" y=\"0\" width=\"55\" height=\"55\" style=\"fill:#a59c74;stroke-width:2;stroke:rgb(255,255,255)\"/><rect x=\"385\" y=\"0\" width=\"55\" height=\"55\" style=\"fill:#999277;stroke-width:2;stroke:rgb(255,255,255)\"/><rect x=\"440\" y=\"0\" width=\"55\" height=\"55\" style=\"fill:#8e8978;stroke-width:2;stroke:rgb(255,255,255)\"/><rect x=\"495\" y=\"0\" width=\"55\" height=\"55\" style=\"fill:#828079;stroke-width:2;stroke:rgb(255,255,255)\"/><rect x=\"550\" y=\"0\" width=\"55\" height=\"55\" style=\"fill:#777776;stroke-width:2;stroke:rgb(255,255,255)\"/><rect x=\"605\" y=\"0\" width=\"55\" height=\"55\" style=\"fill:#6c6e72;stroke-width:2;stroke:rgb(255,255,255)\"/><rect x=\"660\" y=\"0\" width=\"55\" height=\"55\" style=\"fill:#62656f;stroke-width:2;stroke:rgb(255,255,255)\"/><rect x=\"715\" y=\"0\" width=\"55\" height=\"55\" style=\"fill:#575d6d;stroke-width:2;stroke:rgb(255,255,255)\"/><rect x=\"770\" y=\"0\" width=\"55\" height=\"55\" style=\"fill:#4c556c;stroke-width:2;stroke:rgb(255,255,255)\"/><rect x=\"825\" y=\"0\" width=\"55\" height=\"55\" style=\"fill:#3f4c6c;stroke-width:2;stroke:rgb(255,255,255)\"/><rect x=\"880\" y=\"0\" width=\"55\" height=\"55\" style=\"fill:#32436d;stroke-width:2;stroke:rgb(255,255,255)\"/><rect x=\"935\" y=\"0\" width=\"55\" height=\"55\" style=\"fill:#213b6e;stroke-width:2;stroke:rgb(255,255,255)\"/><rect x=\"990\" y=\"0\" width=\"55\" height=\"55\" style=\"fill:#053371;stroke-width:2;stroke:rgb(255,255,255)\"/><rect x=\"1045\" y=\"0\" width=\"55\" height=\"55\" style=\"fill:#002b62;stroke-width:2;stroke:rgb(255,255,255)\"/></svg>"
      ],
      "text/plain": [
       "[(0.954725, 0.858646, 0.259365),\n",
       " (0.901195, 0.814639, 0.317021),\n",
       " (0.849223, 0.771947, 0.359729),\n",
       " (0.79848, 0.73058, 0.392597),\n",
       " (0.748772, 0.69047, 0.418448),\n",
       " (0.695985, 0.648334, 0.440072),\n",
       " (0.648222, 0.610553, 0.454801),\n",
       " (0.601354, 0.573743, 0.465074),\n",
       " (0.555393, 0.537807, 0.471147),\n",
       " (0.51054, 0.502643, 0.47255),\n",
       " (0.464947, 0.465241, 0.463395),\n",
       " (0.42512, 0.431334, 0.447692),\n",
       " (0.384268, 0.397928, 0.436475),\n",
       " (0.342246, 0.364939, 0.428559),\n",
       " (0.298421, 0.332247, 0.423973),\n",
       " (0.247605, 0.296986, 0.422917),\n",
       " (0.195057, 0.264372, 0.425924),\n",
       " (0.130669, 0.231458, 0.43284),\n",
       " (0.017852, 0.198528, 0.441248),\n",
       " (0.0, 0.168204, 0.385902)]"
      ]
     },
     "metadata": {},
     "output_type": "display_data"
    },
    {
     "name": "stdout",
     "output_type": "stream",
     "text": [
      "cool\n"
     ]
    },
    {
     "data": {
      "text/html": [
       "<svg  width=\"1100\" height=\"55\"><rect x=\"0\" y=\"0\" width=\"55\" height=\"55\" style=\"fill:#0cf3ff;stroke-width:2;stroke:rgb(255,255,255)\"/><rect x=\"55\" y=\"0\" width=\"55\" height=\"55\" style=\"fill:#18e7ff;stroke-width:2;stroke:rgb(255,255,255)\"/><rect x=\"110\" y=\"0\" width=\"55\" height=\"55\" style=\"fill:#24dbff;stroke-width:2;stroke:rgb(255,255,255)\"/><rect x=\"165\" y=\"0\" width=\"55\" height=\"55\" style=\"fill:#30cfff;stroke-width:2;stroke:rgb(255,255,255)\"/><rect x=\"220\" y=\"0\" width=\"55\" height=\"55\" style=\"fill:#3cc3ff;stroke-width:2;stroke:rgb(255,255,255)\"/><rect x=\"275\" y=\"0\" width=\"55\" height=\"55\" style=\"fill:#49b6ff;stroke-width:2;stroke:rgb(255,255,255)\"/><rect x=\"330\" y=\"0\" width=\"55\" height=\"55\" style=\"fill:#55aaff;stroke-width:2;stroke:rgb(255,255,255)\"/><rect x=\"385\" y=\"0\" width=\"55\" height=\"55\" style=\"fill:#619eff;stroke-width:2;stroke:rgb(255,255,255)\"/><rect x=\"440\" y=\"0\" width=\"55\" height=\"55\" style=\"fill:#6d92ff;stroke-width:2;stroke:rgb(255,255,255)\"/><rect x=\"495\" y=\"0\" width=\"55\" height=\"55\" style=\"fill:#7986ff;stroke-width:2;stroke:rgb(255,255,255)\"/><rect x=\"550\" y=\"0\" width=\"55\" height=\"55\" style=\"fill:#8679ff;stroke-width:2;stroke:rgb(255,255,255)\"/><rect x=\"605\" y=\"0\" width=\"55\" height=\"55\" style=\"fill:#926dff;stroke-width:2;stroke:rgb(255,255,255)\"/><rect x=\"660\" y=\"0\" width=\"55\" height=\"55\" style=\"fill:#9e61ff;stroke-width:2;stroke:rgb(255,255,255)\"/><rect x=\"715\" y=\"0\" width=\"55\" height=\"55\" style=\"fill:#aa55ff;stroke-width:2;stroke:rgb(255,255,255)\"/><rect x=\"770\" y=\"0\" width=\"55\" height=\"55\" style=\"fill:#b649ff;stroke-width:2;stroke:rgb(255,255,255)\"/><rect x=\"825\" y=\"0\" width=\"55\" height=\"55\" style=\"fill:#c33cff;stroke-width:2;stroke:rgb(255,255,255)\"/><rect x=\"880\" y=\"0\" width=\"55\" height=\"55\" style=\"fill:#cf30ff;stroke-width:2;stroke:rgb(255,255,255)\"/><rect x=\"935\" y=\"0\" width=\"55\" height=\"55\" style=\"fill:#db24ff;stroke-width:2;stroke:rgb(255,255,255)\"/><rect x=\"990\" y=\"0\" width=\"55\" height=\"55\" style=\"fill:#e718ff;stroke-width:2;stroke:rgb(255,255,255)\"/><rect x=\"1045\" y=\"0\" width=\"55\" height=\"55\" style=\"fill:#f30cff;stroke-width:2;stroke:rgb(255,255,255)\"/></svg>"
      ],
      "text/plain": [
       "[(0.047058823529411764, 0.9529411764705882, 1.0),\n",
       " (0.09411764705882353, 0.9058823529411765, 1.0),\n",
       " (0.1411764705882353, 0.8588235294117648, 1.0),\n",
       " (0.18823529411764706, 0.8117647058823529, 1.0),\n",
       " (0.23529411764705882, 0.7647058823529411, 1.0),\n",
       " (0.28627450980392155, 0.7137254901960784, 1.0),\n",
       " (0.3333333333333333, 0.6666666666666667, 1.0),\n",
       " (0.3803921568627451, 0.6196078431372549, 1.0),\n",
       " (0.42745098039215684, 0.5725490196078431, 1.0),\n",
       " (0.4745098039215686, 0.5254901960784314, 1.0),\n",
       " (0.5254901960784314, 0.4745098039215686, 1.0),\n",
       " (0.5725490196078431, 0.4274509803921569, 1.0),\n",
       " (0.6196078431372549, 0.3803921568627451, 1.0),\n",
       " (0.6666666666666666, 0.33333333333333337, 1.0),\n",
       " (0.7137254901960784, 0.28627450980392155, 1.0),\n",
       " (0.7647058823529411, 0.23529411764705888, 1.0),\n",
       " (0.8117647058823529, 0.18823529411764706, 1.0),\n",
       " (0.8588235294117647, 0.14117647058823535, 1.0),\n",
       " (0.9058823529411765, 0.09411764705882353, 1.0),\n",
       " (0.9529411764705882, 0.04705882352941182, 1.0)]"
      ]
     },
     "metadata": {},
     "output_type": "display_data"
    },
    {
     "name": "stdout",
     "output_type": "stream",
     "text": [
      "cool_r\n"
     ]
    },
    {
     "data": {
      "text/html": [
       "<svg  width=\"1100\" height=\"55\"><rect x=\"0\" y=\"0\" width=\"55\" height=\"55\" style=\"fill:#f30cff;stroke-width:2;stroke:rgb(255,255,255)\"/><rect x=\"55\" y=\"0\" width=\"55\" height=\"55\" style=\"fill:#e718ff;stroke-width:2;stroke:rgb(255,255,255)\"/><rect x=\"110\" y=\"0\" width=\"55\" height=\"55\" style=\"fill:#db24ff;stroke-width:2;stroke:rgb(255,255,255)\"/><rect x=\"165\" y=\"0\" width=\"55\" height=\"55\" style=\"fill:#cf30ff;stroke-width:2;stroke:rgb(255,255,255)\"/><rect x=\"220\" y=\"0\" width=\"55\" height=\"55\" style=\"fill:#c33cff;stroke-width:2;stroke:rgb(255,255,255)\"/><rect x=\"275\" y=\"0\" width=\"55\" height=\"55\" style=\"fill:#b649ff;stroke-width:2;stroke:rgb(255,255,255)\"/><rect x=\"330\" y=\"0\" width=\"55\" height=\"55\" style=\"fill:#aa55ff;stroke-width:2;stroke:rgb(255,255,255)\"/><rect x=\"385\" y=\"0\" width=\"55\" height=\"55\" style=\"fill:#9e61ff;stroke-width:2;stroke:rgb(255,255,255)\"/><rect x=\"440\" y=\"0\" width=\"55\" height=\"55\" style=\"fill:#926dff;stroke-width:2;stroke:rgb(255,255,255)\"/><rect x=\"495\" y=\"0\" width=\"55\" height=\"55\" style=\"fill:#8679ff;stroke-width:2;stroke:rgb(255,255,255)\"/><rect x=\"550\" y=\"0\" width=\"55\" height=\"55\" style=\"fill:#7986ff;stroke-width:2;stroke:rgb(255,255,255)\"/><rect x=\"605\" y=\"0\" width=\"55\" height=\"55\" style=\"fill:#6d92ff;stroke-width:2;stroke:rgb(255,255,255)\"/><rect x=\"660\" y=\"0\" width=\"55\" height=\"55\" style=\"fill:#619eff;stroke-width:2;stroke:rgb(255,255,255)\"/><rect x=\"715\" y=\"0\" width=\"55\" height=\"55\" style=\"fill:#55aaff;stroke-width:2;stroke:rgb(255,255,255)\"/><rect x=\"770\" y=\"0\" width=\"55\" height=\"55\" style=\"fill:#49b6ff;stroke-width:2;stroke:rgb(255,255,255)\"/><rect x=\"825\" y=\"0\" width=\"55\" height=\"55\" style=\"fill:#3cc3ff;stroke-width:2;stroke:rgb(255,255,255)\"/><rect x=\"880\" y=\"0\" width=\"55\" height=\"55\" style=\"fill:#30cfff;stroke-width:2;stroke:rgb(255,255,255)\"/><rect x=\"935\" y=\"0\" width=\"55\" height=\"55\" style=\"fill:#24dbff;stroke-width:2;stroke:rgb(255,255,255)\"/><rect x=\"990\" y=\"0\" width=\"55\" height=\"55\" style=\"fill:#18e7ff;stroke-width:2;stroke:rgb(255,255,255)\"/><rect x=\"1045\" y=\"0\" width=\"55\" height=\"55\" style=\"fill:#0cf3ff;stroke-width:2;stroke:rgb(255,255,255)\"/></svg>"
      ],
      "text/plain": [
       "[(0.9529411764705882, 0.047058823529411764, 1.0),\n",
       " (0.9058823529411765, 0.09411764705882353, 1.0),\n",
       " (0.8588235294117648, 0.1411764705882353, 1.0),\n",
       " (0.8117647058823529, 0.18823529411764706, 1.0),\n",
       " (0.7647058823529411, 0.23529411764705882, 1.0),\n",
       " (0.7137254901960784, 0.28627450980392155, 1.0),\n",
       " (0.6666666666666667, 0.3333333333333333, 1.0),\n",
       " (0.6196078431372549, 0.3803921568627451, 1.0),\n",
       " (0.5725490196078431, 0.42745098039215684, 1.0),\n",
       " (0.5254901960784314, 0.4745098039215686, 1.0),\n",
       " (0.4745098039215686, 0.5254901960784314, 1.0),\n",
       " (0.4274509803921569, 0.5725490196078431, 1.0),\n",
       " (0.3803921568627451, 0.6196078431372549, 1.0),\n",
       " (0.33333333333333337, 0.6666666666666666, 1.0),\n",
       " (0.28627450980392155, 0.7137254901960784, 1.0),\n",
       " (0.23529411764705888, 0.7647058823529411, 1.0),\n",
       " (0.18823529411764706, 0.8117647058823529, 1.0),\n",
       " (0.14117647058823535, 0.8588235294117647, 1.0),\n",
       " (0.09411764705882353, 0.9058823529411765, 1.0),\n",
       " (0.04705882352941182, 0.9529411764705882, 1.0)]"
      ]
     },
     "metadata": {},
     "output_type": "display_data"
    },
    {
     "name": "stdout",
     "output_type": "stream",
     "text": [
      "coolwarm\n"
     ]
    },
    {
     "data": {
      "text/html": [
       "<svg  width=\"1100\" height=\"55\"><rect x=\"0\" y=\"0\" width=\"55\" height=\"55\" style=\"fill:#4961d2;stroke-width:2;stroke:rgb(255,255,255)\"/><rect x=\"55\" y=\"0\" width=\"55\" height=\"55\" style=\"fill:#5875e1;stroke-width:2;stroke:rgb(255,255,255)\"/><rect x=\"110\" y=\"0\" width=\"55\" height=\"55\" style=\"fill:#6788ee;stroke-width:2;stroke:rgb(255,255,255)\"/><rect x=\"165\" y=\"0\" width=\"55\" height=\"55\" style=\"fill:#779af7;stroke-width:2;stroke:rgb(255,255,255)\"/><rect x=\"220\" y=\"0\" width=\"55\" height=\"55\" style=\"fill:#88abfd;stroke-width:2;stroke:rgb(255,255,255)\"/><rect x=\"275\" y=\"0\" width=\"55\" height=\"55\" style=\"fill:#9abbff;stroke-width:2;stroke:rgb(255,255,255)\"/><rect x=\"330\" y=\"0\" width=\"55\" height=\"55\" style=\"fill:#aac7fd;stroke-width:2;stroke:rgb(255,255,255)\"/><rect x=\"385\" y=\"0\" width=\"55\" height=\"55\" style=\"fill:#bad0f8;stroke-width:2;stroke:rgb(255,255,255)\"/><rect x=\"440\" y=\"0\" width=\"55\" height=\"55\" style=\"fill:#c9d7f0;stroke-width:2;stroke:rgb(255,255,255)\"/><rect x=\"495\" y=\"0\" width=\"55\" height=\"55\" style=\"fill:#d6dce4;stroke-width:2;stroke:rgb(255,255,255)\"/><rect x=\"550\" y=\"0\" width=\"55\" height=\"55\" style=\"fill:#e3d9d3;stroke-width:2;stroke:rgb(255,255,255)\"/><rect x=\"605\" y=\"0\" width=\"55\" height=\"55\" style=\"fill:#edd1c2;stroke-width:2;stroke:rgb(255,255,255)\"/><rect x=\"660\" y=\"0\" width=\"55\" height=\"55\" style=\"fill:#f4c6af;stroke-width:2;stroke:rgb(255,255,255)\"/><rect x=\"715\" y=\"0\" width=\"55\" height=\"55\" style=\"fill:#f7b89c;stroke-width:2;stroke:rgb(255,255,255)\"/><rect x=\"770\" y=\"0\" width=\"55\" height=\"55\" style=\"fill:#f7a889;stroke-width:2;stroke:rgb(255,255,255)\"/><rect x=\"825\" y=\"0\" width=\"55\" height=\"55\" style=\"fill:#f39475;stroke-width:2;stroke:rgb(255,255,255)\"/><rect x=\"880\" y=\"0\" width=\"55\" height=\"55\" style=\"fill:#ec7f63;stroke-width:2;stroke:rgb(255,255,255)\"/><rect x=\"935\" y=\"0\" width=\"55\" height=\"55\" style=\"fill:#e26952;stroke-width:2;stroke:rgb(255,255,255)\"/><rect x=\"990\" y=\"0\" width=\"55\" height=\"55\" style=\"fill:#d55042;stroke-width:2;stroke:rgb(255,255,255)\"/><rect x=\"1045\" y=\"0\" width=\"55\" height=\"55\" style=\"fill:#c53334;stroke-width:2;stroke:rgb(255,255,255)\"/></svg>"
      ],
      "text/plain": [
       "[(0.28527277752941177, 0.38012942263529415, 0.8234685512470589),\n",
       " (0.34327752343529416, 0.45935363472941176, 0.8841219216235294),\n",
       " (0.4044212904941176, 0.5346434904470588, 0.9320019126352941),\n",
       " (0.46767809468235294, 0.6055912316235293, 0.9685462810941176),\n",
       " (0.5325682374117646, 0.6698005978823529, 0.9903932701176471),\n",
       " (0.603162067917647, 0.7315274773529412, 0.9995652785372549),\n",
       " (0.6672529243333334, 0.7791764569999999, 0.992959213),\n",
       " (0.7289695795686274, 0.8174641357058824, 0.973187668372549),\n",
       " (0.7867207013568628, 0.8448072103686275, 0.9398103849490196),\n",
       " (0.839351442772549, 0.861166825654902, 0.8944937634156863),\n",
       " (0.8918168921215687, 0.8519732770431372, 0.829085274254902),\n",
       " (0.9306685963333333, 0.818876999654902, 0.7591463906980392),\n",
       " (0.9563709270509804, 0.7751443261333334, 0.6864159483098039),\n",
       " (0.968203399, 0.7208441, 0.6122929913333334),\n",
       " (0.9673165156666667, 0.6574708288078431, 0.5381601507294118),\n",
       " (0.951253794882353, 0.5787993895882353, 0.4594078057647059),\n",
       " (0.9244088216823529, 0.49858955783529413, 0.38905901227058826),\n",
       " (0.8846434386941177, 0.41001709788235297, 0.32250654924705885),\n",
       " (0.8350272044352941, 0.3136443124235294, 0.25978315174117644),\n",
       " (0.7743368501529412, 0.19975926804705882, 0.2025345544352941)]"
      ]
     },
     "metadata": {},
     "output_type": "display_data"
    },
    {
     "name": "stdout",
     "output_type": "stream",
     "text": [
      "coolwarm_r\n"
     ]
    },
    {
     "data": {
      "text/html": [
       "<svg  width=\"1100\" height=\"55\"><rect x=\"0\" y=\"0\" width=\"55\" height=\"55\" style=\"fill:#c53334;stroke-width:2;stroke:rgb(255,255,255)\"/><rect x=\"55\" y=\"0\" width=\"55\" height=\"55\" style=\"fill:#d55042;stroke-width:2;stroke:rgb(255,255,255)\"/><rect x=\"110\" y=\"0\" width=\"55\" height=\"55\" style=\"fill:#e26952;stroke-width:2;stroke:rgb(255,255,255)\"/><rect x=\"165\" y=\"0\" width=\"55\" height=\"55\" style=\"fill:#ec7f63;stroke-width:2;stroke:rgb(255,255,255)\"/><rect x=\"220\" y=\"0\" width=\"55\" height=\"55\" style=\"fill:#f39475;stroke-width:2;stroke:rgb(255,255,255)\"/><rect x=\"275\" y=\"0\" width=\"55\" height=\"55\" style=\"fill:#f7a889;stroke-width:2;stroke:rgb(255,255,255)\"/><rect x=\"330\" y=\"0\" width=\"55\" height=\"55\" style=\"fill:#f7b89c;stroke-width:2;stroke:rgb(255,255,255)\"/><rect x=\"385\" y=\"0\" width=\"55\" height=\"55\" style=\"fill:#f4c6af;stroke-width:2;stroke:rgb(255,255,255)\"/><rect x=\"440\" y=\"0\" width=\"55\" height=\"55\" style=\"fill:#edd1c2;stroke-width:2;stroke:rgb(255,255,255)\"/><rect x=\"495\" y=\"0\" width=\"55\" height=\"55\" style=\"fill:#e3d9d3;stroke-width:2;stroke:rgb(255,255,255)\"/><rect x=\"550\" y=\"0\" width=\"55\" height=\"55\" style=\"fill:#d6dce4;stroke-width:2;stroke:rgb(255,255,255)\"/><rect x=\"605\" y=\"0\" width=\"55\" height=\"55\" style=\"fill:#c9d7f0;stroke-width:2;stroke:rgb(255,255,255)\"/><rect x=\"660\" y=\"0\" width=\"55\" height=\"55\" style=\"fill:#bad0f8;stroke-width:2;stroke:rgb(255,255,255)\"/><rect x=\"715\" y=\"0\" width=\"55\" height=\"55\" style=\"fill:#aac7fd;stroke-width:2;stroke:rgb(255,255,255)\"/><rect x=\"770\" y=\"0\" width=\"55\" height=\"55\" style=\"fill:#9abbff;stroke-width:2;stroke:rgb(255,255,255)\"/><rect x=\"825\" y=\"0\" width=\"55\" height=\"55\" style=\"fill:#88abfd;stroke-width:2;stroke:rgb(255,255,255)\"/><rect x=\"880\" y=\"0\" width=\"55\" height=\"55\" style=\"fill:#779af7;stroke-width:2;stroke:rgb(255,255,255)\"/><rect x=\"935\" y=\"0\" width=\"55\" height=\"55\" style=\"fill:#6788ee;stroke-width:2;stroke:rgb(255,255,255)\"/><rect x=\"990\" y=\"0\" width=\"55\" height=\"55\" style=\"fill:#5875e1;stroke-width:2;stroke:rgb(255,255,255)\"/><rect x=\"1045\" y=\"0\" width=\"55\" height=\"55\" style=\"fill:#4961d2;stroke-width:2;stroke:rgb(255,255,255)\"/></svg>"
      ],
      "text/plain": [
       "[(0.7743368501529412, 0.19975926804705882, 0.2025345544352941),\n",
       " (0.8350272044352941, 0.31364431242352936, 0.25978315174117644),\n",
       " (0.8846434386941177, 0.41001709788235297, 0.32250654924705885),\n",
       " (0.9244088216823529, 0.49858955783529413, 0.38905901227058826),\n",
       " (0.951253794882353, 0.5787993895882353, 0.4594078057647059),\n",
       " (0.9673165156666667, 0.6574708288078431, 0.5381601507294118),\n",
       " (0.968203399, 0.7208441, 0.6122929913333334),\n",
       " (0.9563709270509804, 0.7751443261333334, 0.6864159483098039),\n",
       " (0.9306685963333333, 0.818876999654902, 0.7591463906980392),\n",
       " (0.8918168921215687, 0.8519732770431372, 0.829085274254902),\n",
       " (0.839351442772549, 0.861166825654902, 0.8944937634156863),\n",
       " (0.7867207013568628, 0.8448072103686275, 0.9398103849490196),\n",
       " (0.7289695795686274, 0.8174641357058824, 0.973187668372549),\n",
       " (0.6672529243333334, 0.7791764569999999, 0.992959213),\n",
       " (0.603162067917647, 0.7315274773529412, 0.9995652785372549),\n",
       " (0.5325682374117646, 0.6698005978823529, 0.9903932701176471),\n",
       " (0.46767809468235294, 0.6055912316235293, 0.9685462810941176),\n",
       " (0.4044212904941176, 0.5346434904470588, 0.9320019126352941),\n",
       " (0.34327752343529416, 0.45935363472941176, 0.8841219216235294),\n",
       " (0.28527277752941177, 0.38012942263529415, 0.8234685512470589)]"
      ]
     },
     "metadata": {},
     "output_type": "display_data"
    },
    {
     "name": "stdout",
     "output_type": "stream",
     "text": [
      "copper\n"
     ]
    },
    {
     "data": {
      "text/html": [
       "<svg  width=\"1100\" height=\"55\"><rect x=\"0\" y=\"0\" width=\"55\" height=\"55\" style=\"fill:#0f0906;stroke-width:2;stroke:rgb(255,255,255)\"/><rect x=\"55\" y=\"0\" width=\"55\" height=\"55\" style=\"fill:#1e130c;stroke-width:2;stroke:rgb(255,255,255)\"/><rect x=\"110\" y=\"0\" width=\"55\" height=\"55\" style=\"fill:#2c1c12;stroke-width:2;stroke:rgb(255,255,255)\"/><rect x=\"165\" y=\"0\" width=\"55\" height=\"55\" style=\"fill:#3b2518;stroke-width:2;stroke:rgb(255,255,255)\"/><rect x=\"220\" y=\"0\" width=\"55\" height=\"55\" style=\"fill:#4a2f1e;stroke-width:2;stroke:rgb(255,255,255)\"/><rect x=\"275\" y=\"0\" width=\"55\" height=\"55\" style=\"fill:#5a3924;stroke-width:2;stroke:rgb(255,255,255)\"/><rect x=\"330\" y=\"0\" width=\"55\" height=\"55\" style=\"fill:#69422a;stroke-width:2;stroke:rgb(255,255,255)\"/><rect x=\"385\" y=\"0\" width=\"55\" height=\"55\" style=\"fill:#784c30;stroke-width:2;stroke:rgb(255,255,255)\"/><rect x=\"440\" y=\"0\" width=\"55\" height=\"55\" style=\"fill:#875536;stroke-width:2;stroke:rgb(255,255,255)\"/><rect x=\"495\" y=\"0\" width=\"55\" height=\"55\" style=\"fill:#955f3c;stroke-width:2;stroke:rgb(255,255,255)\"/><rect x=\"550\" y=\"0\" width=\"55\" height=\"55\" style=\"fill:#a66943;stroke-width:2;stroke:rgb(255,255,255)\"/><rect x=\"605\" y=\"0\" width=\"55\" height=\"55\" style=\"fill:#b47249;stroke-width:2;stroke:rgb(255,255,255)\"/><rect x=\"660\" y=\"0\" width=\"55\" height=\"55\" style=\"fill:#c37b4f;stroke-width:2;stroke:rgb(255,255,255)\"/><rect x=\"715\" y=\"0\" width=\"55\" height=\"55\" style=\"fill:#d28555;stroke-width:2;stroke:rgb(255,255,255)\"/><rect x=\"770\" y=\"0\" width=\"55\" height=\"55\" style=\"fill:#e18e5b;stroke-width:2;stroke:rgb(255,255,255)\"/><rect x=\"825\" y=\"0\" width=\"55\" height=\"55\" style=\"fill:#f19861;stroke-width:2;stroke:rgb(255,255,255)\"/><rect x=\"880\" y=\"0\" width=\"55\" height=\"55\" style=\"fill:#ffa267;stroke-width:2;stroke:rgb(255,255,255)\"/><rect x=\"935\" y=\"0\" width=\"55\" height=\"55\" style=\"fill:#ffab6d;stroke-width:2;stroke:rgb(255,255,255)\"/><rect x=\"990\" y=\"0\" width=\"55\" height=\"55\" style=\"fill:#ffb473;stroke-width:2;stroke:rgb(255,255,255)\"/><rect x=\"1045\" y=\"0\" width=\"55\" height=\"55\" style=\"fill:#ffbe79;stroke-width:2;stroke:rgb(255,255,255)\"/></svg>"
      ],
      "text/plain": [
       "[(0.05813147421127943, 0.03676235294117647, 0.023411764705882354),\n",
       " (0.11626294842255885, 0.07352470588235294, 0.04682352941176471),\n",
       " (0.17439442263383828, 0.1102870588235294, 0.07023529411764706),\n",
       " (0.2325258968451177, 0.14704941176470587, 0.09364705882352942),\n",
       " (0.2906573710563971, 0.18381176470588234, 0.11705882352941176),\n",
       " (0.3536331347852832, 0.22363764705882352, 0.14242156862745098),\n",
       " (0.4117646089965626, 0.26039999999999996, 0.16583333333333333),\n",
       " (0.46989608320784204, 0.29716235294117643, 0.1892450980392157),\n",
       " (0.5280275574191214, 0.3339247058823529, 0.21265686274509804),\n",
       " (0.5861590316304008, 0.3706870588235294, 0.23606862745098037),\n",
       " (0.649134795359287, 0.4105129411764706, 0.2614313725490196),\n",
       " (0.7072662695705664, 0.44727529411764705, 0.28484313725490196),\n",
       " (0.7653977437818458, 0.4840376470588236, 0.3082549019607843),\n",
       " (0.8235292179931252, 0.5207999999999999, 0.33166666666666667),\n",
       " (0.8816606922044046, 0.5575623529411765, 0.355078431372549),\n",
       " (0.9446364559332907, 0.5973882352941177, 0.3804411764705882),\n",
       " (1.0, 0.6341505882352941, 0.4038529411764706),\n",
       " (1.0, 0.6709129411764706, 0.42726470588235294),\n",
       " (1.0, 0.7076752941176471, 0.4506764705882353),\n",
       " (1.0, 0.7444376470588235, 0.47408823529411764)]"
      ]
     },
     "metadata": {},
     "output_type": "display_data"
    },
    {
     "name": "stdout",
     "output_type": "stream",
     "text": [
      "copper_r\n"
     ]
    },
    {
     "data": {
      "text/html": [
       "<svg  width=\"1100\" height=\"55\"><rect x=\"0\" y=\"0\" width=\"55\" height=\"55\" style=\"fill:#ffbe79;stroke-width:2;stroke:rgb(255,255,255)\"/><rect x=\"55\" y=\"0\" width=\"55\" height=\"55\" style=\"fill:#ffb473;stroke-width:2;stroke:rgb(255,255,255)\"/><rect x=\"110\" y=\"0\" width=\"55\" height=\"55\" style=\"fill:#ffab6d;stroke-width:2;stroke:rgb(255,255,255)\"/><rect x=\"165\" y=\"0\" width=\"55\" height=\"55\" style=\"fill:#ffa267;stroke-width:2;stroke:rgb(255,255,255)\"/><rect x=\"220\" y=\"0\" width=\"55\" height=\"55\" style=\"fill:#f19861;stroke-width:2;stroke:rgb(255,255,255)\"/><rect x=\"275\" y=\"0\" width=\"55\" height=\"55\" style=\"fill:#e18e5b;stroke-width:2;stroke:rgb(255,255,255)\"/><rect x=\"330\" y=\"0\" width=\"55\" height=\"55\" style=\"fill:#d28555;stroke-width:2;stroke:rgb(255,255,255)\"/><rect x=\"385\" y=\"0\" width=\"55\" height=\"55\" style=\"fill:#c37b4f;stroke-width:2;stroke:rgb(255,255,255)\"/><rect x=\"440\" y=\"0\" width=\"55\" height=\"55\" style=\"fill:#b47249;stroke-width:2;stroke:rgb(255,255,255)\"/><rect x=\"495\" y=\"0\" width=\"55\" height=\"55\" style=\"fill:#a66943;stroke-width:2;stroke:rgb(255,255,255)\"/><rect x=\"550\" y=\"0\" width=\"55\" height=\"55\" style=\"fill:#955f3c;stroke-width:2;stroke:rgb(255,255,255)\"/><rect x=\"605\" y=\"0\" width=\"55\" height=\"55\" style=\"fill:#875536;stroke-width:2;stroke:rgb(255,255,255)\"/><rect x=\"660\" y=\"0\" width=\"55\" height=\"55\" style=\"fill:#784c30;stroke-width:2;stroke:rgb(255,255,255)\"/><rect x=\"715\" y=\"0\" width=\"55\" height=\"55\" style=\"fill:#69422a;stroke-width:2;stroke:rgb(255,255,255)\"/><rect x=\"770\" y=\"0\" width=\"55\" height=\"55\" style=\"fill:#5a3924;stroke-width:2;stroke:rgb(255,255,255)\"/><rect x=\"825\" y=\"0\" width=\"55\" height=\"55\" style=\"fill:#4a2f1e;stroke-width:2;stroke:rgb(255,255,255)\"/><rect x=\"880\" y=\"0\" width=\"55\" height=\"55\" style=\"fill:#3b2518;stroke-width:2;stroke:rgb(255,255,255)\"/><rect x=\"935\" y=\"0\" width=\"55\" height=\"55\" style=\"fill:#2c1c12;stroke-width:2;stroke:rgb(255,255,255)\"/><rect x=\"990\" y=\"0\" width=\"55\" height=\"55\" style=\"fill:#1e130c;stroke-width:2;stroke:rgb(255,255,255)\"/><rect x=\"1045\" y=\"0\" width=\"55\" height=\"55\" style=\"fill:#0f0906;stroke-width:2;stroke:rgb(255,255,255)\"/></svg>"
      ],
      "text/plain": [
       "[(1.0, 0.7444376470588235, 0.47408823529411764),\n",
       " (1.0, 0.7076752941176471, 0.4506764705882353),\n",
       " (1.0, 0.6709129411764706, 0.42726470588235294),\n",
       " (1.0, 0.6341505882352941, 0.4038529411764706),\n",
       " (0.9446364559332906, 0.5973882352941177, 0.3804411764705882),\n",
       " (0.8816606922044046, 0.5575623529411765, 0.355078431372549),\n",
       " (0.8235292179931252, 0.5208, 0.33166666666666667),\n",
       " (0.7653977437818458, 0.4840376470588236, 0.3082549019607843),\n",
       " (0.7072662695705663, 0.4472752941176471, 0.28484313725490196),\n",
       " (0.649134795359287, 0.4105129411764706, 0.2614313725490196),\n",
       " (0.5861590316304008, 0.3706870588235294, 0.2360686274509804),\n",
       " (0.5280275574191214, 0.33392470588235296, 0.21265686274509804),\n",
       " (0.46989608320784204, 0.29716235294117643, 0.1892450980392157),\n",
       " (0.41176460899656264, 0.2604000000000001, 0.16583333333333333),\n",
       " (0.35363313478528313, 0.2236376470588235, 0.14242156862745098),\n",
       " (0.2906573710563971, 0.18381176470588234, 0.11705882352941177),\n",
       " (0.2325258968451177, 0.14704941176470587, 0.09364705882352942),\n",
       " (0.1743944226338383, 0.1102870588235294, 0.07023529411764706),\n",
       " (0.1162629484225588, 0.07352470588235294, 0.04682352941176471),\n",
       " (0.0581314742112794, 0.03676235294117647, 0.023411764705882354)]"
      ]
     },
     "metadata": {},
     "output_type": "display_data"
    },
    {
     "name": "stdout",
     "output_type": "stream",
     "text": [
      "crest\n"
     ]
    },
    {
     "data": {
      "text/html": [
       "<svg  width=\"1100\" height=\"55\"><rect x=\"0\" y=\"0\" width=\"55\" height=\"55\" style=\"fill:#98c691;stroke-width:2;stroke:rgb(255,255,255)\"/><rect x=\"55\" y=\"0\" width=\"55\" height=\"55\" style=\"fill:#8ac091;stroke-width:2;stroke:rgb(255,255,255)\"/><rect x=\"110\" y=\"0\" width=\"55\" height=\"55\" style=\"fill:#7dba91;stroke-width:2;stroke:rgb(255,255,255)\"/><rect x=\"165\" y=\"0\" width=\"55\" height=\"55\" style=\"fill:#70b390;stroke-width:2;stroke:rgb(255,255,255)\"/><rect x=\"220\" y=\"0\" width=\"55\" height=\"55\" style=\"fill:#64ad90;stroke-width:2;stroke:rgb(255,255,255)\"/><rect x=\"275\" y=\"0\" width=\"55\" height=\"55\" style=\"fill:#59a590;stroke-width:2;stroke:rgb(255,255,255)\"/><rect x=\"330\" y=\"0\" width=\"55\" height=\"55\" style=\"fill:#509e90;stroke-width:2;stroke:rgb(255,255,255)\"/><rect x=\"385\" y=\"0\" width=\"55\" height=\"55\" style=\"fill:#47978f;stroke-width:2;stroke:rgb(255,255,255)\"/><rect x=\"440\" y=\"0\" width=\"55\" height=\"55\" style=\"fill:#40908e;stroke-width:2;stroke:rgb(255,255,255)\"/><rect x=\"495\" y=\"0\" width=\"55\" height=\"55\" style=\"fill:#38898e;stroke-width:2;stroke:rgb(255,255,255)\"/><rect x=\"550\" y=\"0\" width=\"55\" height=\"55\" style=\"fill:#2f818d;stroke-width:2;stroke:rgb(255,255,255)\"/><rect x=\"605\" y=\"0\" width=\"55\" height=\"55\" style=\"fill:#287a8c;stroke-width:2;stroke:rgb(255,255,255)\"/><rect x=\"660\" y=\"0\" width=\"55\" height=\"55\" style=\"fill:#21738b;stroke-width:2;stroke:rgb(255,255,255)\"/><rect x=\"715\" y=\"0\" width=\"55\" height=\"55\" style=\"fill:#1d6c8a;stroke-width:2;stroke:rgb(255,255,255)\"/><rect x=\"770\" y=\"0\" width=\"55\" height=\"55\" style=\"fill:#1c6488;stroke-width:2;stroke:rgb(255,255,255)\"/><rect x=\"825\" y=\"0\" width=\"55\" height=\"55\" style=\"fill:#1e5b86;stroke-width:2;stroke:rgb(255,255,255)\"/><rect x=\"880\" y=\"0\" width=\"55\" height=\"55\" style=\"fill:#225383;stroke-width:2;stroke:rgb(255,255,255)\"/><rect x=\"935\" y=\"0\" width=\"55\" height=\"55\" style=\"fill:#254b7f;stroke-width:2;stroke:rgb(255,255,255)\"/><rect x=\"990\" y=\"0\" width=\"55\" height=\"55\" style=\"fill:#28427a;stroke-width:2;stroke:rgb(255,255,255)\"/><rect x=\"1045\" y=\"0\" width=\"55\" height=\"55\" style=\"fill:#2b3a76;stroke-width:2;stroke:rgb(255,255,255)\"/></svg>"
      ],
      "text/plain": [
       "[(0.59435366, 0.77778758, 0.56892099),\n",
       " (0.54228969, 0.75295306, 0.56919546),\n",
       " (0.48942421, 0.72854938, 0.56751036),\n",
       " (0.43894492, 0.70353863, 0.56629734),\n",
       " (0.39308781, 0.67748696, 0.56581581),\n",
       " (0.34892097, 0.64828676, 0.56513633),\n",
       " (0.31270304, 0.62072111, 0.56379321),\n",
       " (0.27987847, 0.59284232, 0.56159709),\n",
       " (0.24929311, 0.56486397, 0.5586654),\n",
       " (0.21885269, 0.53704347, 0.55537294),\n",
       " (0.18565609, 0.50701014, 0.55177937),\n",
       " (0.15615526, 0.47913212, 0.54850526),\n",
       " (0.13063777, 0.4508034, 0.54502674),\n",
       " (0.11409965, 0.42169502, 0.54065622),\n",
       " (0.11131735, 0.39155635, 0.53422678),\n",
       " (0.1189438, 0.35794203, 0.5248497),\n",
       " (0.13155228, 0.32608217, 0.51335321),\n",
       " (0.14573579, 0.29354139, 0.49847009),\n",
       " (0.15862147, 0.26048295, 0.48005785),\n",
       " (0.16768475, 0.22656122, 0.46170223)]"
      ]
     },
     "metadata": {},
     "output_type": "display_data"
    },
    {
     "name": "stdout",
     "output_type": "stream",
     "text": [
      "crest_r\n"
     ]
    },
    {
     "data": {
      "text/html": [
       "<svg  width=\"1100\" height=\"55\"><rect x=\"0\" y=\"0\" width=\"55\" height=\"55\" style=\"fill:#2b3a76;stroke-width:2;stroke:rgb(255,255,255)\"/><rect x=\"55\" y=\"0\" width=\"55\" height=\"55\" style=\"fill:#28427a;stroke-width:2;stroke:rgb(255,255,255)\"/><rect x=\"110\" y=\"0\" width=\"55\" height=\"55\" style=\"fill:#254b7f;stroke-width:2;stroke:rgb(255,255,255)\"/><rect x=\"165\" y=\"0\" width=\"55\" height=\"55\" style=\"fill:#225383;stroke-width:2;stroke:rgb(255,255,255)\"/><rect x=\"220\" y=\"0\" width=\"55\" height=\"55\" style=\"fill:#1e5b86;stroke-width:2;stroke:rgb(255,255,255)\"/><rect x=\"275\" y=\"0\" width=\"55\" height=\"55\" style=\"fill:#1c6488;stroke-width:2;stroke:rgb(255,255,255)\"/><rect x=\"330\" y=\"0\" width=\"55\" height=\"55\" style=\"fill:#1d6c8a;stroke-width:2;stroke:rgb(255,255,255)\"/><rect x=\"385\" y=\"0\" width=\"55\" height=\"55\" style=\"fill:#21738b;stroke-width:2;stroke:rgb(255,255,255)\"/><rect x=\"440\" y=\"0\" width=\"55\" height=\"55\" style=\"fill:#287a8c;stroke-width:2;stroke:rgb(255,255,255)\"/><rect x=\"495\" y=\"0\" width=\"55\" height=\"55\" style=\"fill:#2f818d;stroke-width:2;stroke:rgb(255,255,255)\"/><rect x=\"550\" y=\"0\" width=\"55\" height=\"55\" style=\"fill:#38898e;stroke-width:2;stroke:rgb(255,255,255)\"/><rect x=\"605\" y=\"0\" width=\"55\" height=\"55\" style=\"fill:#40908e;stroke-width:2;stroke:rgb(255,255,255)\"/><rect x=\"660\" y=\"0\" width=\"55\" height=\"55\" style=\"fill:#47978f;stroke-width:2;stroke:rgb(255,255,255)\"/><rect x=\"715\" y=\"0\" width=\"55\" height=\"55\" style=\"fill:#509e90;stroke-width:2;stroke:rgb(255,255,255)\"/><rect x=\"770\" y=\"0\" width=\"55\" height=\"55\" style=\"fill:#59a590;stroke-width:2;stroke:rgb(255,255,255)\"/><rect x=\"825\" y=\"0\" width=\"55\" height=\"55\" style=\"fill:#64ad90;stroke-width:2;stroke:rgb(255,255,255)\"/><rect x=\"880\" y=\"0\" width=\"55\" height=\"55\" style=\"fill:#70b390;stroke-width:2;stroke:rgb(255,255,255)\"/><rect x=\"935\" y=\"0\" width=\"55\" height=\"55\" style=\"fill:#7dba91;stroke-width:2;stroke:rgb(255,255,255)\"/><rect x=\"990\" y=\"0\" width=\"55\" height=\"55\" style=\"fill:#8ac091;stroke-width:2;stroke:rgb(255,255,255)\"/><rect x=\"1045\" y=\"0\" width=\"55\" height=\"55\" style=\"fill:#98c691;stroke-width:2;stroke:rgb(255,255,255)\"/></svg>"
      ],
      "text/plain": [
       "[(0.16768475, 0.22656122, 0.46170223),\n",
       " (0.15862147, 0.26048295, 0.48005785),\n",
       " (0.14573579, 0.29354139, 0.49847009),\n",
       " (0.13155228, 0.32608217, 0.51335321),\n",
       " (0.1189438, 0.35794203, 0.5248497),\n",
       " (0.11131735, 0.39155635, 0.53422678),\n",
       " (0.11409965, 0.42169502, 0.54065622),\n",
       " (0.13063777, 0.4508034, 0.54502674),\n",
       " (0.15615526, 0.47913212, 0.54850526),\n",
       " (0.18565609, 0.50701014, 0.55177937),\n",
       " (0.21885269, 0.53704347, 0.55537294),\n",
       " (0.24929311, 0.56486397, 0.5586654),\n",
       " (0.27987847, 0.59284232, 0.56159709),\n",
       " (0.31270304, 0.62072111, 0.56379321),\n",
       " (0.34892097, 0.64828676, 0.56513633),\n",
       " (0.39308781, 0.67748696, 0.56581581),\n",
       " (0.43894492, 0.70353863, 0.56629734),\n",
       " (0.48942421, 0.72854938, 0.56751036),\n",
       " (0.54228969, 0.75295306, 0.56919546),\n",
       " (0.59435366, 0.77778758, 0.56892099)]"
      ]
     },
     "metadata": {},
     "output_type": "display_data"
    },
    {
     "name": "stdout",
     "output_type": "stream",
     "text": [
      "cubehelix\n"
     ]
    },
    {
     "data": {
      "text/html": [
       "<svg  width=\"1100\" height=\"55\"><rect x=\"0\" y=\"0\" width=\"55\" height=\"55\" style=\"fill:#110815;stroke-width:2;stroke:rgb(255,255,255)\"/><rect x=\"55\" y=\"0\" width=\"55\" height=\"55\" style=\"fill:#19132d;stroke-width:2;stroke:rgb(255,255,255)\"/><rect x=\"110\" y=\"0\" width=\"55\" height=\"55\" style=\"fill:#1a2441;stroke-width:2;stroke:rgb(255,255,255)\"/><rect x=\"165\" y=\"0\" width=\"55\" height=\"55\" style=\"fill:#17374d;stroke-width:2;stroke:rgb(255,255,255)\"/><rect x=\"220\" y=\"0\" width=\"55\" height=\"55\" style=\"fill:#154d4e;stroke-width:2;stroke:rgb(255,255,255)\"/><rect x=\"275\" y=\"0\" width=\"55\" height=\"55\" style=\"fill:#1b6145;stroke-width:2;stroke:rgb(255,255,255)\"/><rect x=\"330\" y=\"0\" width=\"55\" height=\"55\" style=\"fill:#2b6f39;stroke-width:2;stroke:rgb(255,255,255)\"/><rect x=\"385\" y=\"0\" width=\"55\" height=\"55\" style=\"fill:#467830;stroke-width:2;stroke:rgb(255,255,255)\"/><rect x=\"440\" y=\"0\" width=\"55\" height=\"55\" style=\"fill:#697b30;stroke-width:2;stroke:rgb(255,255,255)\"/><rect x=\"495\" y=\"0\" width=\"55\" height=\"55\" style=\"fill:#8d7a3d;stroke-width:2;stroke:rgb(255,255,255)\"/><rect x=\"550\" y=\"0\" width=\"55\" height=\"55\" style=\"fill:#b17959;stroke-width:2;stroke:rgb(255,255,255)\"/><rect x=\"605\" y=\"0\" width=\"55\" height=\"55\" style=\"fill:#c87b7c;stroke-width:2;stroke:rgb(255,255,255)\"/><rect x=\"660\" y=\"0\" width=\"55\" height=\"55\" style=\"fill:#d382a3;stroke-width:2;stroke:rgb(255,255,255)\"/><rect x=\"715\" y=\"0\" width=\"55\" height=\"55\" style=\"fill:#d490c6;stroke-width:2;stroke:rgb(255,255,255)\"/><rect x=\"770\" y=\"0\" width=\"55\" height=\"55\" style=\"fill:#cda2e0;stroke-width:2;stroke:rgb(255,255,255)\"/><rect x=\"825\" y=\"0\" width=\"55\" height=\"55\" style=\"fill:#c5baf0;stroke-width:2;stroke:rgb(255,255,255)\"/><rect x=\"880\" y=\"0\" width=\"55\" height=\"55\" style=\"fill:#c1cff3;stroke-width:2;stroke:rgb(255,255,255)\"/><rect x=\"935\" y=\"0\" width=\"55\" height=\"55\" style=\"fill:#c6e1f1;stroke-width:2;stroke:rgb(255,255,255)\"/><rect x=\"990\" y=\"0\" width=\"55\" height=\"55\" style=\"fill:#d4efef;stroke-width:2;stroke:rgb(255,255,255)\"/><rect x=\"1045\" y=\"0\" width=\"55\" height=\"55\" style=\"fill:#e9f8f2;stroke-width:2;stroke:rgb(255,255,255)\"/></svg>"
      ],
      "text/plain": [
       "[(0.06700757826411259, 0.030125538823454635, 0.08347751484971086),\n",
       " (0.09998352692085306, 0.07565501051639596, 0.17714719988612818),\n",
       " (0.10231025194333628, 0.13952898866828906, 0.2560120319409181),\n",
       " (0.0892365585509959, 0.21757338956148978, 0.3008726640446374),\n",
       " (0.08238093761150347, 0.3001473774053336, 0.3044796804920607),\n",
       " (0.10594361078604106, 0.3809739011595331, 0.27015111282899046),\n",
       " (0.17004232121057958, 0.43679759647517286, 0.22372555555555548),\n",
       " (0.2755448951809807, 0.46939062099288875, 0.18898170995777125),\n",
       " (0.4106130272672762, 0.48044780541672255, 0.1891154277778484),\n",
       " (0.5544409136511972, 0.47789796625667885, 0.2383424026313099),\n",
       " (0.6926126323626934, 0.47363229044531197, 0.3478492710523138),\n",
       " (0.7829183382530567, 0.48158303462490826, 0.48672451968362596),\n",
       " (0.8276276653823276, 0.5103678256815796, 0.6382069084720281),\n",
       " (0.8299576787894204, 0.5632024035248271, 0.7762744444444445),\n",
       " (0.8046168329276406, 0.6365733569301846, 0.8796578402926125),\n",
       " (0.771147220055902, 0.7285891160099365, 0.9408568827998472),\n",
       " (0.7581010612365786, 0.8123776332007712, 0.9548328907488411),\n",
       " (0.7775608374378459, 0.8840392521212448, 0.9452007992345052),\n",
       " (0.8325954670187771, 0.9375724007447074, 0.9357812487297815),\n",
       " (0.9133623038576015, 0.9737257184842087, 0.9494024269915201)]"
      ]
     },
     "metadata": {},
     "output_type": "display_data"
    },
    {
     "name": "stdout",
     "output_type": "stream",
     "text": [
      "cubehelix_r\n"
     ]
    },
    {
     "data": {
      "text/html": [
       "<svg  width=\"1100\" height=\"55\"><rect x=\"0\" y=\"0\" width=\"55\" height=\"55\" style=\"fill:#e9f8f2;stroke-width:2;stroke:rgb(255,255,255)\"/><rect x=\"55\" y=\"0\" width=\"55\" height=\"55\" style=\"fill:#d4efef;stroke-width:2;stroke:rgb(255,255,255)\"/><rect x=\"110\" y=\"0\" width=\"55\" height=\"55\" style=\"fill:#c6e1f1;stroke-width:2;stroke:rgb(255,255,255)\"/><rect x=\"165\" y=\"0\" width=\"55\" height=\"55\" style=\"fill:#c1cff3;stroke-width:2;stroke:rgb(255,255,255)\"/><rect x=\"220\" y=\"0\" width=\"55\" height=\"55\" style=\"fill:#c5baf0;stroke-width:2;stroke:rgb(255,255,255)\"/><rect x=\"275\" y=\"0\" width=\"55\" height=\"55\" style=\"fill:#cda2e0;stroke-width:2;stroke:rgb(255,255,255)\"/><rect x=\"330\" y=\"0\" width=\"55\" height=\"55\" style=\"fill:#d490c6;stroke-width:2;stroke:rgb(255,255,255)\"/><rect x=\"385\" y=\"0\" width=\"55\" height=\"55\" style=\"fill:#d382a3;stroke-width:2;stroke:rgb(255,255,255)\"/><rect x=\"440\" y=\"0\" width=\"55\" height=\"55\" style=\"fill:#c87b7c;stroke-width:2;stroke:rgb(255,255,255)\"/><rect x=\"495\" y=\"0\" width=\"55\" height=\"55\" style=\"fill:#b17959;stroke-width:2;stroke:rgb(255,255,255)\"/><rect x=\"550\" y=\"0\" width=\"55\" height=\"55\" style=\"fill:#8d7a3d;stroke-width:2;stroke:rgb(255,255,255)\"/><rect x=\"605\" y=\"0\" width=\"55\" height=\"55\" style=\"fill:#697b30;stroke-width:2;stroke:rgb(255,255,255)\"/><rect x=\"660\" y=\"0\" width=\"55\" height=\"55\" style=\"fill:#467830;stroke-width:2;stroke:rgb(255,255,255)\"/><rect x=\"715\" y=\"0\" width=\"55\" height=\"55\" style=\"fill:#2b6f39;stroke-width:2;stroke:rgb(255,255,255)\"/><rect x=\"770\" y=\"0\" width=\"55\" height=\"55\" style=\"fill:#1b6145;stroke-width:2;stroke:rgb(255,255,255)\"/><rect x=\"825\" y=\"0\" width=\"55\" height=\"55\" style=\"fill:#154d4e;stroke-width:2;stroke:rgb(255,255,255)\"/><rect x=\"880\" y=\"0\" width=\"55\" height=\"55\" style=\"fill:#17374d;stroke-width:2;stroke:rgb(255,255,255)\"/><rect x=\"935\" y=\"0\" width=\"55\" height=\"55\" style=\"fill:#1a2441;stroke-width:2;stroke:rgb(255,255,255)\"/><rect x=\"990\" y=\"0\" width=\"55\" height=\"55\" style=\"fill:#19132d;stroke-width:2;stroke:rgb(255,255,255)\"/><rect x=\"1045\" y=\"0\" width=\"55\" height=\"55\" style=\"fill:#110815;stroke-width:2;stroke:rgb(255,255,255)\"/></svg>"
      ],
      "text/plain": [
       "[(0.9133623038576015, 0.9737257184842087, 0.9494024269915201),\n",
       " (0.8325954670187771, 0.9375724007447074, 0.9357812487297815),\n",
       " (0.7775608374378459, 0.884039252121245, 0.9452007992345051),\n",
       " (0.7581010612365786, 0.8123776332007712, 0.9548328907488411),\n",
       " (0.771147220055902, 0.7285891160099365, 0.9408568827998472),\n",
       " (0.8046168329276406, 0.6365733569301846, 0.8796578402926125),\n",
       " (0.8299576787894205, 0.5632024035248272, 0.7762744444444445),\n",
       " (0.8276276653823276, 0.5103678256815796, 0.6382069084720281),\n",
       " (0.7829183382530567, 0.48158303462490826, 0.48672451968362596),\n",
       " (0.6926126323626934, 0.47363229044531197, 0.3478492710523138),\n",
       " (0.5544409136511972, 0.47789796625667885, 0.2383424026313099),\n",
       " (0.4106130272672764, 0.4804478054167226, 0.1891154277778484),\n",
       " (0.2755448951809807, 0.46939062099288875, 0.18898170995777125),\n",
       " (0.17004232121057963, 0.4367975964751729, 0.22372555555555554),\n",
       " (0.10594361078604106, 0.3809739011595331, 0.27015111282899046),\n",
       " (0.08238093761150345, 0.3001473774053337, 0.30447968049206064),\n",
       " (0.0892365585509959, 0.21757338956148978, 0.3008726640446374),\n",
       " (0.10231025194333626, 0.13952898866828914, 0.25601203194091815),\n",
       " (0.09998352692085306, 0.07565501051639596, 0.17714719988612818),\n",
       " (0.06700757826411265, 0.030125538823454676, 0.08347751484971097)]"
      ]
     },
     "metadata": {},
     "output_type": "display_data"
    },
    {
     "name": "stdout",
     "output_type": "stream",
     "text": [
      "flag\n"
     ]
    },
    {
     "data": {
      "text/html": [
       "<svg  width=\"1100\" height=\"55\"><rect x=\"0\" y=\"0\" width=\"55\" height=\"55\" style=\"fill:#000000;stroke-width:2;stroke:rgb(255,255,255)\"/><rect x=\"55\" y=\"0\" width=\"55\" height=\"55\" style=\"fill:#081cff;stroke-width:2;stroke:rgb(255,255,255)\"/><rect x=\"110\" y=\"0\" width=\"55\" height=\"55\" style=\"fill:#fffbee;stroke-width:2;stroke:rgb(255,255,255)\"/><rect x=\"165\" y=\"0\" width=\"55\" height=\"55\" style=\"fill:#e60000;stroke-width:2;stroke:rgb(255,255,255)\"/><rect x=\"220\" y=\"0\" width=\"55\" height=\"55\" style=\"fill:#000022;stroke-width:2;stroke:rgb(255,255,255)\"/><rect x=\"275\" y=\"0\" width=\"55\" height=\"55\" style=\"fill:#0000ff;stroke-width:2;stroke:rgb(255,255,255)\"/><rect x=\"330\" y=\"0\" width=\"55\" height=\"55\" style=\"fill:#ffffff;stroke-width:2;stroke:rgb(255,255,255)\"/><rect x=\"385\" y=\"0\" width=\"55\" height=\"55\" style=\"fill:#ff0000;stroke-width:2;stroke:rgb(255,255,255)\"/><rect x=\"440\" y=\"0\" width=\"55\" height=\"55\" style=\"fill:#000008;stroke-width:2;stroke:rgb(255,255,255)\"/><rect x=\"495\" y=\"0\" width=\"55\" height=\"55\" style=\"fill:#112aff;stroke-width:2;stroke:rgb(255,255,255)\"/><rect x=\"550\" y=\"0\" width=\"55\" height=\"55\" style=\"fill:#eefbff;stroke-width:2;stroke:rgb(255,255,255)\"/><rect x=\"605\" y=\"0\" width=\"55\" height=\"55\" style=\"fill:#ff1c08;stroke-width:2;stroke:rgb(255,255,255)\"/><rect x=\"660\" y=\"0\" width=\"55\" height=\"55\" style=\"fill:#000000;stroke-width:2;stroke:rgb(255,255,255)\"/><rect x=\"715\" y=\"0\" width=\"55\" height=\"55\" style=\"fill:#0000ff;stroke-width:2;stroke:rgb(255,255,255)\"/><rect x=\"770\" y=\"0\" width=\"55\" height=\"55\" style=\"fill:#ffffff;stroke-width:2;stroke:rgb(255,255,255)\"/><rect x=\"825\" y=\"0\" width=\"55\" height=\"55\" style=\"fill:#ff4622;stroke-width:2;stroke:rgb(255,255,255)\"/><rect x=\"880\" y=\"0\" width=\"55\" height=\"55\" style=\"fill:#190000;stroke-width:2;stroke:rgb(255,255,255)\"/><rect x=\"935\" y=\"0\" width=\"55\" height=\"55\" style=\"fill:#0000ee;stroke-width:2;stroke:rgb(255,255,255)\"/><rect x=\"990\" y=\"0\" width=\"55\" height=\"55\" style=\"fill:#f7fdff;stroke-width:2;stroke:rgb(255,255,255)\"/><rect x=\"1045\" y=\"0\" width=\"55\" height=\"55\" style=\"fill:#ff0e00;stroke-width:2;stroke:rgb(255,255,255)\"/></svg>"
      ],
      "text/plain": [
       "[(0.0, 0.0, 0.0),\n",
       " (0.03160904485932525, 0.1106526818915009, 1.0),\n",
       " (1.0, 0.9862007473534027, 0.9352137256724868),\n",
       " (0.9006991749214167, 0.0, 0.0),\n",
       " (0.0, 0.0, 0.13504664107485786),\n",
       " (0.0, 0.0, 1.0),\n",
       " (1.0, 1.0, 1.0),\n",
       " (1.0, 0.0, 0.0),\n",
       " (0.0, 0.0, 0.031609044859326973),\n",
       " (0.06478627432751516, 0.16555387618413042, 1.0),\n",
       " (0.9352137256724828, 0.9862007473534022, 1.0),\n",
       " (1.0, 0.11065268189150011, 0.031609044859322644),\n",
       " (0.0, 0.0, 0.0),\n",
       " (0.0, 0.0, 1.0),\n",
       " (1.0, 0.9984636039674343, 1.0),\n",
       " (1.0, 0.27366299007207673, 0.13504664107485537),\n",
       " (0.09930082507858079, 0.0, 0.0),\n",
       " (0.0, 0.0, 0.9352137256724923),\n",
       " (0.9683909551406802, 0.9938591368952745, 1.0),\n",
       " (1.0, 0.05541147491596701, 0.0)]"
      ]
     },
     "metadata": {},
     "output_type": "display_data"
    },
    {
     "name": "stdout",
     "output_type": "stream",
     "text": [
      "flag_r\n"
     ]
    },
    {
     "data": {
      "text/html": [
       "<svg  width=\"1100\" height=\"55\"><rect x=\"0\" y=\"0\" width=\"55\" height=\"55\" style=\"fill:#ff0e00;stroke-width:2;stroke:rgb(255,255,255)\"/><rect x=\"55\" y=\"0\" width=\"55\" height=\"55\" style=\"fill:#f7fdff;stroke-width:2;stroke:rgb(255,255,255)\"/><rect x=\"110\" y=\"0\" width=\"55\" height=\"55\" style=\"fill:#0000ee;stroke-width:2;stroke:rgb(255,255,255)\"/><rect x=\"165\" y=\"0\" width=\"55\" height=\"55\" style=\"fill:#190000;stroke-width:2;stroke:rgb(255,255,255)\"/><rect x=\"220\" y=\"0\" width=\"55\" height=\"55\" style=\"fill:#ff4622;stroke-width:2;stroke:rgb(255,255,255)\"/><rect x=\"275\" y=\"0\" width=\"55\" height=\"55\" style=\"fill:#ffffff;stroke-width:2;stroke:rgb(255,255,255)\"/><rect x=\"330\" y=\"0\" width=\"55\" height=\"55\" style=\"fill:#0000ff;stroke-width:2;stroke:rgb(255,255,255)\"/><rect x=\"385\" y=\"0\" width=\"55\" height=\"55\" style=\"fill:#000000;stroke-width:2;stroke:rgb(255,255,255)\"/><rect x=\"440\" y=\"0\" width=\"55\" height=\"55\" style=\"fill:#ff1c08;stroke-width:2;stroke:rgb(255,255,255)\"/><rect x=\"495\" y=\"0\" width=\"55\" height=\"55\" style=\"fill:#eefbff;stroke-width:2;stroke:rgb(255,255,255)\"/><rect x=\"550\" y=\"0\" width=\"55\" height=\"55\" style=\"fill:#112aff;stroke-width:2;stroke:rgb(255,255,255)\"/><rect x=\"605\" y=\"0\" width=\"55\" height=\"55\" style=\"fill:#000008;stroke-width:2;stroke:rgb(255,255,255)\"/><rect x=\"660\" y=\"0\" width=\"55\" height=\"55\" style=\"fill:#ff0000;stroke-width:2;stroke:rgb(255,255,255)\"/><rect x=\"715\" y=\"0\" width=\"55\" height=\"55\" style=\"fill:#ffffff;stroke-width:2;stroke:rgb(255,255,255)\"/><rect x=\"770\" y=\"0\" width=\"55\" height=\"55\" style=\"fill:#0000ff;stroke-width:2;stroke:rgb(255,255,255)\"/><rect x=\"825\" y=\"0\" width=\"55\" height=\"55\" style=\"fill:#000022;stroke-width:2;stroke:rgb(255,255,255)\"/><rect x=\"880\" y=\"0\" width=\"55\" height=\"55\" style=\"fill:#e60000;stroke-width:2;stroke:rgb(255,255,255)\"/><rect x=\"935\" y=\"0\" width=\"55\" height=\"55\" style=\"fill:#fffbee;stroke-width:2;stroke:rgb(255,255,255)\"/><rect x=\"990\" y=\"0\" width=\"55\" height=\"55\" style=\"fill:#081cff;stroke-width:2;stroke:rgb(255,255,255)\"/><rect x=\"1045\" y=\"0\" width=\"55\" height=\"55\" style=\"fill:#000000;stroke-width:2;stroke:rgb(255,255,255)\"/></svg>"
      ],
      "text/plain": [
       "[(1.0, 0.05541147491596701, 0.0),\n",
       " (0.9683909551406802, 0.9938591368952745, 1.0),\n",
       " (0.0, 0.0, 0.9352137256724836),\n",
       " (0.09930082507858079, 0.0, 0.0),\n",
       " (1.0, 0.27366299007207673, 0.13504664107485537),\n",
       " (1.0, 0.9984636039674343, 1.0),\n",
       " (0.0, 0.0, 1.0),\n",
       " (0.0, 0.0, 0.0),\n",
       " (1.0, 0.11065268189150011, 0.031609044859322644),\n",
       " (0.9352137256724828, 0.9862007473534022, 1.0),\n",
       " (0.06478627432751516, 0.16555387618413042, 1.0),\n",
       " (0.0, 0.0, 0.03160904485932281),\n",
       " (1.0, 0.0, 0.0),\n",
       " (1.0, 1.0, 1.0),\n",
       " (0.0, 0.0, 1.0),\n",
       " (0.0, 0.0, 0.1350466410748532),\n",
       " (0.9006991749214167, 0.0, 0.0),\n",
       " (1.0, 0.9862007473534036, 0.9352137256724901),\n",
       " (0.03160904485932525, 0.1106526818915009, 1.0),\n",
       " (0.0, 0.0, 0.0)]"
      ]
     },
     "metadata": {},
     "output_type": "display_data"
    },
    {
     "name": "stdout",
     "output_type": "stream",
     "text": [
      "flare\n"
     ]
    },
    {
     "data": {
      "text/html": [
       "<svg  width=\"1100\" height=\"55\"><rect x=\"0\" y=\"0\" width=\"55\" height=\"55\" style=\"fill:#eca479;stroke-width:2;stroke:rgb(255,255,255)\"/><rect x=\"55\" y=\"0\" width=\"55\" height=\"55\" style=\"fill:#eb9972;stroke-width:2;stroke:rgb(255,255,255)\"/><rect x=\"110\" y=\"0\" width=\"55\" height=\"55\" style=\"fill:#e98d6b;stroke-width:2;stroke:rgb(255,255,255)\"/><rect x=\"165\" y=\"0\" width=\"55\" height=\"55\" style=\"fill:#e88165;stroke-width:2;stroke:rgb(255,255,255)\"/><rect x=\"220\" y=\"0\" width=\"55\" height=\"55\" style=\"fill:#e67560;stroke-width:2;stroke:rgb(255,255,255)\"/><rect x=\"275\" y=\"0\" width=\"55\" height=\"55\" style=\"fill:#e3685c;stroke-width:2;stroke:rgb(255,255,255)\"/><rect x=\"330\" y=\"0\" width=\"55\" height=\"55\" style=\"fill:#de5d5c;stroke-width:2;stroke:rgb(255,255,255)\"/><rect x=\"385\" y=\"0\" width=\"55\" height=\"55\" style=\"fill:#d9525e;stroke-width:2;stroke:rgb(255,255,255)\"/><rect x=\"440\" y=\"0\" width=\"55\" height=\"55\" style=\"fill:#d14a61;stroke-width:2;stroke:rgb(255,255,255)\"/><rect x=\"495\" y=\"0\" width=\"55\" height=\"55\" style=\"fill:#c84365;stroke-width:2;stroke:rgb(255,255,255)\"/><rect x=\"550\" y=\"0\" width=\"55\" height=\"55\" style=\"fill:#bc3f69;stroke-width:2;stroke:rgb(255,255,255)\"/><rect x=\"605\" y=\"0\" width=\"55\" height=\"55\" style=\"fill:#b13c6c;stroke-width:2;stroke:rgb(255,255,255)\"/><rect x=\"660\" y=\"0\" width=\"55\" height=\"55\" style=\"fill:#a5396e;stroke-width:2;stroke:rgb(255,255,255)\"/><rect x=\"715\" y=\"0\" width=\"55\" height=\"55\" style=\"fill:#9a3670;stroke-width:2;stroke:rgb(255,255,255)\"/><rect x=\"770\" y=\"0\" width=\"55\" height=\"55\" style=\"fill:#8f3371;stroke-width:2;stroke:rgb(255,255,255)\"/><rect x=\"825\" y=\"0\" width=\"55\" height=\"55\" style=\"fill:#833070;stroke-width:2;stroke:rgb(255,255,255)\"/><rect x=\"880\" y=\"0\" width=\"55\" height=\"55\" style=\"fill:#772d6f;stroke-width:2;stroke:rgb(255,255,255)\"/><rect x=\"935\" y=\"0\" width=\"55\" height=\"55\" style=\"fill:#6c2b6d;stroke-width:2;stroke:rgb(255,255,255)\"/><rect x=\"990\" y=\"0\" width=\"55\" height=\"55\" style=\"fill:#612969;stroke-width:2;stroke:rgb(255,255,255)\"/><rect x=\"1045\" y=\"0\" width=\"55\" height=\"55\" style=\"fill:#562666;stroke-width:2;stroke:rgb(255,255,255)\"/></svg>"
      ],
      "text/plain": [
       "[(0.92539502, 0.64345456, 0.47594352),\n",
       " (0.92077582, 0.59804722, 0.44818634),\n",
       " (0.9155979, 0.55210684, 0.42070204),\n",
       " (0.90921368, 0.5056543, 0.39544411),\n",
       " (0.90077904, 0.45884905, 0.37556121),\n",
       " (0.888292, 0.40830288, 0.36223756),\n",
       " (0.87199254, 0.3633634, 0.35974223),\n",
       " (0.84916723, 0.32289973, 0.36711424),\n",
       " (0.81942908, 0.28911553, 0.38102921),\n",
       " (0.7826624, 0.26420493, 0.39754146),\n",
       " (0.73695678, 0.24620072, 0.41357737),\n",
       " (0.69226314, 0.23413578, 0.42480327),\n",
       " (0.64795375, 0.22217149, 0.43330852),\n",
       " (0.60407977, 0.21017746, 0.43913439),\n",
       " (0.56041794, 0.19845221, 0.44207535),\n",
       " (0.51278481, 0.18693492, 0.44112605),\n",
       " (0.46818879, 0.17788392, 0.43552047),\n",
       " (0.42355299, 0.16934709, 0.42581586),\n",
       " (0.37928736, 0.16052483, 0.41270599),\n",
       " (0.33604378, 0.15006017, 0.39835754)]"
      ]
     },
     "metadata": {},
     "output_type": "display_data"
    },
    {
     "name": "stdout",
     "output_type": "stream",
     "text": [
      "flare_r\n"
     ]
    },
    {
     "data": {
      "text/html": [
       "<svg  width=\"1100\" height=\"55\"><rect x=\"0\" y=\"0\" width=\"55\" height=\"55\" style=\"fill:#562666;stroke-width:2;stroke:rgb(255,255,255)\"/><rect x=\"55\" y=\"0\" width=\"55\" height=\"55\" style=\"fill:#612969;stroke-width:2;stroke:rgb(255,255,255)\"/><rect x=\"110\" y=\"0\" width=\"55\" height=\"55\" style=\"fill:#6c2b6d;stroke-width:2;stroke:rgb(255,255,255)\"/><rect x=\"165\" y=\"0\" width=\"55\" height=\"55\" style=\"fill:#772d6f;stroke-width:2;stroke:rgb(255,255,255)\"/><rect x=\"220\" y=\"0\" width=\"55\" height=\"55\" style=\"fill:#833070;stroke-width:2;stroke:rgb(255,255,255)\"/><rect x=\"275\" y=\"0\" width=\"55\" height=\"55\" style=\"fill:#8f3371;stroke-width:2;stroke:rgb(255,255,255)\"/><rect x=\"330\" y=\"0\" width=\"55\" height=\"55\" style=\"fill:#9a3670;stroke-width:2;stroke:rgb(255,255,255)\"/><rect x=\"385\" y=\"0\" width=\"55\" height=\"55\" style=\"fill:#a5396e;stroke-width:2;stroke:rgb(255,255,255)\"/><rect x=\"440\" y=\"0\" width=\"55\" height=\"55\" style=\"fill:#b13c6c;stroke-width:2;stroke:rgb(255,255,255)\"/><rect x=\"495\" y=\"0\" width=\"55\" height=\"55\" style=\"fill:#bc3f69;stroke-width:2;stroke:rgb(255,255,255)\"/><rect x=\"550\" y=\"0\" width=\"55\" height=\"55\" style=\"fill:#c84365;stroke-width:2;stroke:rgb(255,255,255)\"/><rect x=\"605\" y=\"0\" width=\"55\" height=\"55\" style=\"fill:#d14a61;stroke-width:2;stroke:rgb(255,255,255)\"/><rect x=\"660\" y=\"0\" width=\"55\" height=\"55\" style=\"fill:#d9525e;stroke-width:2;stroke:rgb(255,255,255)\"/><rect x=\"715\" y=\"0\" width=\"55\" height=\"55\" style=\"fill:#de5d5c;stroke-width:2;stroke:rgb(255,255,255)\"/><rect x=\"770\" y=\"0\" width=\"55\" height=\"55\" style=\"fill:#e3685c;stroke-width:2;stroke:rgb(255,255,255)\"/><rect x=\"825\" y=\"0\" width=\"55\" height=\"55\" style=\"fill:#e67560;stroke-width:2;stroke:rgb(255,255,255)\"/><rect x=\"880\" y=\"0\" width=\"55\" height=\"55\" style=\"fill:#e88165;stroke-width:2;stroke:rgb(255,255,255)\"/><rect x=\"935\" y=\"0\" width=\"55\" height=\"55\" style=\"fill:#e98d6b;stroke-width:2;stroke:rgb(255,255,255)\"/><rect x=\"990\" y=\"0\" width=\"55\" height=\"55\" style=\"fill:#eb9972;stroke-width:2;stroke:rgb(255,255,255)\"/><rect x=\"1045\" y=\"0\" width=\"55\" height=\"55\" style=\"fill:#eca479;stroke-width:2;stroke:rgb(255,255,255)\"/></svg>"
      ],
      "text/plain": [
       "[(0.33604378, 0.15006017, 0.39835754),\n",
       " (0.37928736, 0.16052483, 0.41270599),\n",
       " (0.42355299, 0.16934709, 0.42581586),\n",
       " (0.46818879, 0.17788392, 0.43552047),\n",
       " (0.51278481, 0.18693492, 0.44112605),\n",
       " (0.56041794, 0.19845221, 0.44207535),\n",
       " (0.60407977, 0.21017746, 0.43913439),\n",
       " (0.64795375, 0.22217149, 0.43330852),\n",
       " (0.69226314, 0.23413578, 0.42480327),\n",
       " (0.73695678, 0.24620072, 0.41357737),\n",
       " (0.7826624, 0.26420493, 0.39754146),\n",
       " (0.81942908, 0.28911553, 0.38102921),\n",
       " (0.84916723, 0.32289973, 0.36711424),\n",
       " (0.87199254, 0.3633634, 0.35974223),\n",
       " (0.888292, 0.40830288, 0.36223756),\n",
       " (0.90077904, 0.45884905, 0.37556121),\n",
       " (0.90921368, 0.5056543, 0.39544411),\n",
       " (0.9155979, 0.55210684, 0.42070204),\n",
       " (0.92077582, 0.59804722, 0.44818634),\n",
       " (0.92539502, 0.64345456, 0.47594352)]"
      ]
     },
     "metadata": {},
     "output_type": "display_data"
    },
    {
     "name": "stdout",
     "output_type": "stream",
     "text": [
      "gist_earth\n"
     ]
    },
    {
     "data": {
      "text/html": [
       "<svg  width=\"1100\" height=\"55\"><rect x=\"0\" y=\"0\" width=\"55\" height=\"55\" style=\"fill:#080b75;stroke-width:2;stroke:rgb(255,255,255)\"/><rect x=\"55\" y=\"0\" width=\"55\" height=\"55\" style=\"fill:#102777;stroke-width:2;stroke:rgb(255,255,255)\"/><rect x=\"110\" y=\"0\" width=\"55\" height=\"55\" style=\"fill:#184179;stroke-width:2;stroke:rgb(255,255,255)\"/><rect x=\"165\" y=\"0\" width=\"55\" height=\"55\" style=\"fill:#20597b;stroke-width:2;stroke:rgb(255,255,255)\"/><rect x=\"220\" y=\"0\" width=\"55\" height=\"55\" style=\"fill:#286d7d;stroke-width:2;stroke:rgb(255,255,255)\"/><rect x=\"275\" y=\"0\" width=\"55\" height=\"55\" style=\"fill:#30817e;stroke-width:2;stroke:rgb(255,255,255)\"/><rect x=\"330\" y=\"0\" width=\"55\" height=\"55\" style=\"fill:#368770;stroke-width:2;stroke:rgb(255,255,255)\"/><rect x=\"385\" y=\"0\" width=\"55\" height=\"55\" style=\"fill:#3c8e61;stroke-width:2;stroke:rgb(255,255,255)\"/><rect x=\"440\" y=\"0\" width=\"55\" height=\"55\" style=\"fill:#419552;stroke-width:2;stroke:rgb(255,255,255)\"/><rect x=\"495\" y=\"0\" width=\"55\" height=\"55\" style=\"fill:#4e9c47;stroke-width:2;stroke:rgb(255,255,255)\"/><rect x=\"550\" y=\"0\" width=\"55\" height=\"55\" style=\"fill:#6ba44f;stroke-width:2;stroke:rgb(255,255,255)\"/><rect x=\"605\" y=\"0\" width=\"55\" height=\"55\" style=\"fill:#82a954;stroke-width:2;stroke:rgb(255,255,255)\"/><rect x=\"660\" y=\"0\" width=\"55\" height=\"55\" style=\"fill:#96ae58;stroke-width:2;stroke:rgb(255,255,255)\"/><rect x=\"715\" y=\"0\" width=\"55\" height=\"55\" style=\"fill:#aab35c;stroke-width:2;stroke:rgb(255,255,255)\"/><rect x=\"770\" y=\"0\" width=\"55\" height=\"55\" style=\"fill:#b9b35f;stroke-width:2;stroke:rgb(255,255,255)\"/><rect x=\"825\" y=\"0\" width=\"55\" height=\"55\" style=\"fill:#bea863;stroke-width:2;stroke:rgb(255,255,255)\"/><rect x=\"880\" y=\"0\" width=\"55\" height=\"55\" style=\"fill:#c7a676;stroke-width:2;stroke:rgb(255,255,255)\"/><rect x=\"935\" y=\"0\" width=\"55\" height=\"55\" style=\"fill:#d5b194;stroke-width:2;stroke:rgb(255,255,255)\"/><rect x=\"990\" y=\"0\" width=\"55\" height=\"55\" style=\"fill:#e2c1b3;stroke-width:2;stroke:rgb(255,255,255)\"/><rect x=\"1045\" y=\"0\" width=\"55\" height=\"55\" style=\"fill:#f0dad7;stroke-width:2;stroke:rgb(255,255,255)\"/></svg>"
      ],
      "text/plain": [
       "[(0.031361439760039994, 0.04498767064541491, 0.45773855167565036),\n",
       " (0.06272287952007999, 0.15322868272460868, 0.46626913522381064),\n",
       " (0.09408431928011998, 0.25456763098682095, 0.4747997187719709),\n",
       " (0.12544575904015998, 0.3475126381875256, 0.48333030232013124),\n",
       " (0.15680719880019997, 0.4275524996057404, 0.4918608858682915),\n",
       " (0.19002743319550042, 0.5042304347826086, 0.49565724681625223),\n",
       " (0.21222297808012094, 0.5313207357859532, 0.4380529571351058),\n",
       " (0.23441852296474144, 0.5584110367892977, 0.38044866745395933),\n",
       " (0.25661406784936197, 0.5855013377926422, 0.32284437777281283),\n",
       " (0.30632035128907437, 0.6125916387959867, 0.27935239845938376),\n",
       " (0.4196415112386418, 0.6414069227691077, 0.3090692852140856),\n",
       " (0.5107321752862218, 0.6620551820728292, 0.32917535903993705),\n",
       " (0.5883318594551915, 0.6827034413765507, 0.34404846547314577),\n",
       " (0.6659315436241612, 0.7033517006802721, 0.35892157190635454),\n",
       " (0.724172627277075, 0.7035188948306594, 0.37379467833956326),\n",
       " (0.7454803965044998, 0.6594903743315508, 0.3899072103088727),\n",
       " (0.7816573126701104, 0.6515126582278481, 0.46338602807243123),\n",
       " (0.8342929845025828, 0.6922737254901962, 0.5786758598521377),\n",
       " (0.8869286563350552, 0.75841802832244, 0.7006139476753875),\n",
       " (0.9395643281675277, 0.8544224428624954, 0.8424569738376937)]"
      ]
     },
     "metadata": {},
     "output_type": "display_data"
    },
    {
     "name": "stdout",
     "output_type": "stream",
     "text": [
      "gist_earth_r\n"
     ]
    },
    {
     "data": {
      "text/html": [
       "<svg  width=\"1100\" height=\"55\"><rect x=\"0\" y=\"0\" width=\"55\" height=\"55\" style=\"fill:#f0dad7;stroke-width:2;stroke:rgb(255,255,255)\"/><rect x=\"55\" y=\"0\" width=\"55\" height=\"55\" style=\"fill:#e2c1b3;stroke-width:2;stroke:rgb(255,255,255)\"/><rect x=\"110\" y=\"0\" width=\"55\" height=\"55\" style=\"fill:#d5b194;stroke-width:2;stroke:rgb(255,255,255)\"/><rect x=\"165\" y=\"0\" width=\"55\" height=\"55\" style=\"fill:#c7a676;stroke-width:2;stroke:rgb(255,255,255)\"/><rect x=\"220\" y=\"0\" width=\"55\" height=\"55\" style=\"fill:#bea863;stroke-width:2;stroke:rgb(255,255,255)\"/><rect x=\"275\" y=\"0\" width=\"55\" height=\"55\" style=\"fill:#b9b35f;stroke-width:2;stroke:rgb(255,255,255)\"/><rect x=\"330\" y=\"0\" width=\"55\" height=\"55\" style=\"fill:#aab35c;stroke-width:2;stroke:rgb(255,255,255)\"/><rect x=\"385\" y=\"0\" width=\"55\" height=\"55\" style=\"fill:#96ae58;stroke-width:2;stroke:rgb(255,255,255)\"/><rect x=\"440\" y=\"0\" width=\"55\" height=\"55\" style=\"fill:#82a954;stroke-width:2;stroke:rgb(255,255,255)\"/><rect x=\"495\" y=\"0\" width=\"55\" height=\"55\" style=\"fill:#6ba44f;stroke-width:2;stroke:rgb(255,255,255)\"/><rect x=\"550\" y=\"0\" width=\"55\" height=\"55\" style=\"fill:#4e9c47;stroke-width:2;stroke:rgb(255,255,255)\"/><rect x=\"605\" y=\"0\" width=\"55\" height=\"55\" style=\"fill:#419552;stroke-width:2;stroke:rgb(255,255,255)\"/><rect x=\"660\" y=\"0\" width=\"55\" height=\"55\" style=\"fill:#3c8e61;stroke-width:2;stroke:rgb(255,255,255)\"/><rect x=\"715\" y=\"0\" width=\"55\" height=\"55\" style=\"fill:#368770;stroke-width:2;stroke:rgb(255,255,255)\"/><rect x=\"770\" y=\"0\" width=\"55\" height=\"55\" style=\"fill:#30817e;stroke-width:2;stroke:rgb(255,255,255)\"/><rect x=\"825\" y=\"0\" width=\"55\" height=\"55\" style=\"fill:#286d7d;stroke-width:2;stroke:rgb(255,255,255)\"/><rect x=\"880\" y=\"0\" width=\"55\" height=\"55\" style=\"fill:#20597b;stroke-width:2;stroke:rgb(255,255,255)\"/><rect x=\"935\" y=\"0\" width=\"55\" height=\"55\" style=\"fill:#184179;stroke-width:2;stroke:rgb(255,255,255)\"/><rect x=\"990\" y=\"0\" width=\"55\" height=\"55\" style=\"fill:#102777;stroke-width:2;stroke:rgb(255,255,255)\"/><rect x=\"1045\" y=\"0\" width=\"55\" height=\"55\" style=\"fill:#080b75;stroke-width:2;stroke:rgb(255,255,255)\"/></svg>"
      ],
      "text/plain": [
       "[(0.9395643281675277, 0.8544224428624954, 0.8424569738376937),\n",
       " (0.8869286563350552, 0.75841802832244, 0.7006139476753874),\n",
       " (0.8342929845025828, 0.6922737254901962, 0.5786758598521375),\n",
       " (0.7816573126701105, 0.6515126582278481, 0.46338602807243123),\n",
       " (0.7454803965044998, 0.6594903743315508, 0.3899072103088727),\n",
       " (0.7241726272770749, 0.7035188948306594, 0.37379467833956326),\n",
       " (0.6659315436241611, 0.7033517006802721, 0.35892157190635454),\n",
       " (0.5883318594551915, 0.6827034413765506, 0.34404846547314577),\n",
       " (0.5107321752862218, 0.6620551820728292, 0.32917535903993705),\n",
       " (0.41964151123864174, 0.6414069227691077, 0.3090692852140856),\n",
       " (0.30632035128907437, 0.6125916387959867, 0.27935239845938376),\n",
       " (0.25661406784936197, 0.5855013377926422, 0.32284437777281283),\n",
       " (0.23441852296474144, 0.5584110367892977, 0.38044866745395933),\n",
       " (0.21222297808012094, 0.5313207357859532, 0.4380529571351057),\n",
       " (0.19002743319550042, 0.5042304347826088, 0.49565724681625223),\n",
       " (0.15680719880019997, 0.4275524996057404, 0.4918608858682915),\n",
       " (0.12544575904015998, 0.34751263818752554, 0.48333030232013124),\n",
       " (0.09408431928011998, 0.25456763098682095, 0.4747997187719709),\n",
       " (0.06272287952007999, 0.1532286827246087, 0.46626913522381064),\n",
       " (0.031361439760039994, 0.04498767064541501, 0.45773855167565036)]"
      ]
     },
     "metadata": {},
     "output_type": "display_data"
    },
    {
     "name": "stdout",
     "output_type": "stream",
     "text": [
      "gist_gray\n"
     ]
    },
    {
     "data": {
      "text/html": [
       "<svg  width=\"1100\" height=\"55\"><rect x=\"0\" y=\"0\" width=\"55\" height=\"55\" style=\"fill:#0c0c0c;stroke-width:2;stroke:rgb(255,255,255)\"/><rect x=\"55\" y=\"0\" width=\"55\" height=\"55\" style=\"fill:#181818;stroke-width:2;stroke:rgb(255,255,255)\"/><rect x=\"110\" y=\"0\" width=\"55\" height=\"55\" style=\"fill:#242424;stroke-width:2;stroke:rgb(255,255,255)\"/><rect x=\"165\" y=\"0\" width=\"55\" height=\"55\" style=\"fill:#303030;stroke-width:2;stroke:rgb(255,255,255)\"/><rect x=\"220\" y=\"0\" width=\"55\" height=\"55\" style=\"fill:#3c3c3c;stroke-width:2;stroke:rgb(255,255,255)\"/><rect x=\"275\" y=\"0\" width=\"55\" height=\"55\" style=\"fill:#494949;stroke-width:2;stroke:rgb(255,255,255)\"/><rect x=\"330\" y=\"0\" width=\"55\" height=\"55\" style=\"fill:#555555;stroke-width:2;stroke:rgb(255,255,255)\"/><rect x=\"385\" y=\"0\" width=\"55\" height=\"55\" style=\"fill:#616161;stroke-width:2;stroke:rgb(255,255,255)\"/><rect x=\"440\" y=\"0\" width=\"55\" height=\"55\" style=\"fill:#6d6d6d;stroke-width:2;stroke:rgb(255,255,255)\"/><rect x=\"495\" y=\"0\" width=\"55\" height=\"55\" style=\"fill:#797979;stroke-width:2;stroke:rgb(255,255,255)\"/><rect x=\"550\" y=\"0\" width=\"55\" height=\"55\" style=\"fill:#868686;stroke-width:2;stroke:rgb(255,255,255)\"/><rect x=\"605\" y=\"0\" width=\"55\" height=\"55\" style=\"fill:#929292;stroke-width:2;stroke:rgb(255,255,255)\"/><rect x=\"660\" y=\"0\" width=\"55\" height=\"55\" style=\"fill:#9e9e9e;stroke-width:2;stroke:rgb(255,255,255)\"/><rect x=\"715\" y=\"0\" width=\"55\" height=\"55\" style=\"fill:#aaaaaa;stroke-width:2;stroke:rgb(255,255,255)\"/><rect x=\"770\" y=\"0\" width=\"55\" height=\"55\" style=\"fill:#b6b6b6;stroke-width:2;stroke:rgb(255,255,255)\"/><rect x=\"825\" y=\"0\" width=\"55\" height=\"55\" style=\"fill:#c3c3c3;stroke-width:2;stroke:rgb(255,255,255)\"/><rect x=\"880\" y=\"0\" width=\"55\" height=\"55\" style=\"fill:#cfcfcf;stroke-width:2;stroke:rgb(255,255,255)\"/><rect x=\"935\" y=\"0\" width=\"55\" height=\"55\" style=\"fill:#dbdbdb;stroke-width:2;stroke:rgb(255,255,255)\"/><rect x=\"990\" y=\"0\" width=\"55\" height=\"55\" style=\"fill:#e7e7e7;stroke-width:2;stroke:rgb(255,255,255)\"/><rect x=\"1045\" y=\"0\" width=\"55\" height=\"55\" style=\"fill:#f3f3f3;stroke-width:2;stroke:rgb(255,255,255)\"/></svg>"
      ],
      "text/plain": [
       "[(0.047058823529411764, 0.047058823529411764, 0.047058823529411764),\n",
       " (0.09411764705882353, 0.09411764705882353, 0.09411764705882353),\n",
       " (0.1411764705882353, 0.1411764705882353, 0.1411764705882353),\n",
       " (0.18823529411764706, 0.18823529411764706, 0.18823529411764706),\n",
       " (0.23529411764705882, 0.23529411764705882, 0.23529411764705882),\n",
       " (0.28627450980392155, 0.28627450980392155, 0.28627450980392155),\n",
       " (0.3333333333333333, 0.3333333333333333, 0.3333333333333333),\n",
       " (0.3803921568627451, 0.3803921568627451, 0.3803921568627451),\n",
       " (0.42745098039215684, 0.42745098039215684, 0.42745098039215684),\n",
       " (0.4745098039215686, 0.4745098039215686, 0.4745098039215686),\n",
       " (0.5254901960784314, 0.5254901960784314, 0.5254901960784314),\n",
       " (0.5725490196078431, 0.5725490196078431, 0.5725490196078431),\n",
       " (0.6196078431372549, 0.6196078431372549, 0.6196078431372549),\n",
       " (0.6666666666666666, 0.6666666666666666, 0.6666666666666666),\n",
       " (0.7137254901960784, 0.7137254901960784, 0.7137254901960784),\n",
       " (0.7647058823529411, 0.7647058823529411, 0.7647058823529411),\n",
       " (0.8117647058823529, 0.8117647058823529, 0.8117647058823529),\n",
       " (0.8588235294117647, 0.8588235294117647, 0.8588235294117647),\n",
       " (0.9058823529411765, 0.9058823529411765, 0.9058823529411765),\n",
       " (0.9529411764705882, 0.9529411764705882, 0.9529411764705882)]"
      ]
     },
     "metadata": {},
     "output_type": "display_data"
    },
    {
     "name": "stdout",
     "output_type": "stream",
     "text": [
      "gist_gray_r\n"
     ]
    },
    {
     "data": {
      "text/html": [
       "<svg  width=\"1100\" height=\"55\"><rect x=\"0\" y=\"0\" width=\"55\" height=\"55\" style=\"fill:#f3f3f3;stroke-width:2;stroke:rgb(255,255,255)\"/><rect x=\"55\" y=\"0\" width=\"55\" height=\"55\" style=\"fill:#e7e7e7;stroke-width:2;stroke:rgb(255,255,255)\"/><rect x=\"110\" y=\"0\" width=\"55\" height=\"55\" style=\"fill:#dbdbdb;stroke-width:2;stroke:rgb(255,255,255)\"/><rect x=\"165\" y=\"0\" width=\"55\" height=\"55\" style=\"fill:#cfcfcf;stroke-width:2;stroke:rgb(255,255,255)\"/><rect x=\"220\" y=\"0\" width=\"55\" height=\"55\" style=\"fill:#c3c3c3;stroke-width:2;stroke:rgb(255,255,255)\"/><rect x=\"275\" y=\"0\" width=\"55\" height=\"55\" style=\"fill:#b6b6b6;stroke-width:2;stroke:rgb(255,255,255)\"/><rect x=\"330\" y=\"0\" width=\"55\" height=\"55\" style=\"fill:#aaaaaa;stroke-width:2;stroke:rgb(255,255,255)\"/><rect x=\"385\" y=\"0\" width=\"55\" height=\"55\" style=\"fill:#9e9e9e;stroke-width:2;stroke:rgb(255,255,255)\"/><rect x=\"440\" y=\"0\" width=\"55\" height=\"55\" style=\"fill:#929292;stroke-width:2;stroke:rgb(255,255,255)\"/><rect x=\"495\" y=\"0\" width=\"55\" height=\"55\" style=\"fill:#868686;stroke-width:2;stroke:rgb(255,255,255)\"/><rect x=\"550\" y=\"0\" width=\"55\" height=\"55\" style=\"fill:#797979;stroke-width:2;stroke:rgb(255,255,255)\"/><rect x=\"605\" y=\"0\" width=\"55\" height=\"55\" style=\"fill:#6d6d6d;stroke-width:2;stroke:rgb(255,255,255)\"/><rect x=\"660\" y=\"0\" width=\"55\" height=\"55\" style=\"fill:#616161;stroke-width:2;stroke:rgb(255,255,255)\"/><rect x=\"715\" y=\"0\" width=\"55\" height=\"55\" style=\"fill:#555555;stroke-width:2;stroke:rgb(255,255,255)\"/><rect x=\"770\" y=\"0\" width=\"55\" height=\"55\" style=\"fill:#494949;stroke-width:2;stroke:rgb(255,255,255)\"/><rect x=\"825\" y=\"0\" width=\"55\" height=\"55\" style=\"fill:#3c3c3c;stroke-width:2;stroke:rgb(255,255,255)\"/><rect x=\"880\" y=\"0\" width=\"55\" height=\"55\" style=\"fill:#303030;stroke-width:2;stroke:rgb(255,255,255)\"/><rect x=\"935\" y=\"0\" width=\"55\" height=\"55\" style=\"fill:#242424;stroke-width:2;stroke:rgb(255,255,255)\"/><rect x=\"990\" y=\"0\" width=\"55\" height=\"55\" style=\"fill:#181818;stroke-width:2;stroke:rgb(255,255,255)\"/><rect x=\"1045\" y=\"0\" width=\"55\" height=\"55\" style=\"fill:#0c0c0c;stroke-width:2;stroke:rgb(255,255,255)\"/></svg>"
      ],
      "text/plain": [
       "[(0.9529411764705882, 0.9529411764705882, 0.9529411764705882),\n",
       " (0.9058823529411765, 0.9058823529411765, 0.9058823529411765),\n",
       " (0.8588235294117648, 0.8588235294117648, 0.8588235294117648),\n",
       " (0.8117647058823529, 0.8117647058823529, 0.8117647058823529),\n",
       " (0.7647058823529411, 0.7647058823529411, 0.7647058823529411),\n",
       " (0.7137254901960784, 0.7137254901960784, 0.7137254901960784),\n",
       " (0.6666666666666667, 0.6666666666666667, 0.6666666666666667),\n",
       " (0.6196078431372549, 0.6196078431372549, 0.6196078431372549),\n",
       " (0.5725490196078431, 0.5725490196078431, 0.5725490196078431),\n",
       " (0.5254901960784314, 0.5254901960784314, 0.5254901960784314),\n",
       " (0.4745098039215686, 0.4745098039215686, 0.4745098039215686),\n",
       " (0.4274509803921569, 0.4274509803921569, 0.4274509803921569),\n",
       " (0.3803921568627451, 0.3803921568627451, 0.3803921568627451),\n",
       " (0.33333333333333337, 0.33333333333333337, 0.33333333333333337),\n",
       " (0.28627450980392155, 0.28627450980392155, 0.28627450980392155),\n",
       " (0.23529411764705888, 0.23529411764705888, 0.23529411764705888),\n",
       " (0.18823529411764706, 0.18823529411764706, 0.18823529411764706),\n",
       " (0.14117647058823535, 0.14117647058823535, 0.14117647058823535),\n",
       " (0.09411764705882353, 0.09411764705882353, 0.09411764705882353),\n",
       " (0.04705882352941182, 0.04705882352941182, 0.04705882352941182)]"
      ]
     },
     "metadata": {},
     "output_type": "display_data"
    },
    {
     "name": "stdout",
     "output_type": "stream",
     "text": [
      "gist_heat\n"
     ]
    },
    {
     "data": {
      "text/html": [
       "<svg  width=\"1100\" height=\"55\"><rect x=\"0\" y=\"0\" width=\"55\" height=\"55\" style=\"fill:#120000;stroke-width:2;stroke:rgb(255,255,255)\"/><rect x=\"55\" y=\"0\" width=\"55\" height=\"55\" style=\"fill:#240000;stroke-width:2;stroke:rgb(255,255,255)\"/><rect x=\"110\" y=\"0\" width=\"55\" height=\"55\" style=\"fill:#360000;stroke-width:2;stroke:rgb(255,255,255)\"/><rect x=\"165\" y=\"0\" width=\"55\" height=\"55\" style=\"fill:#480000;stroke-width:2;stroke:rgb(255,255,255)\"/><rect x=\"220\" y=\"0\" width=\"55\" height=\"55\" style=\"fill:#5a0000;stroke-width:2;stroke:rgb(255,255,255)\"/><rect x=\"275\" y=\"0\" width=\"55\" height=\"55\" style=\"fill:#6e0000;stroke-width:2;stroke:rgb(255,255,255)\"/><rect x=\"330\" y=\"0\" width=\"55\" height=\"55\" style=\"fill:#800000;stroke-width:2;stroke:rgb(255,255,255)\"/><rect x=\"385\" y=\"0\" width=\"55\" height=\"55\" style=\"fill:#920000;stroke-width:2;stroke:rgb(255,255,255)\"/><rect x=\"440\" y=\"0\" width=\"55\" height=\"55\" style=\"fill:#a30000;stroke-width:2;stroke:rgb(255,255,255)\"/><rect x=\"495\" y=\"0\" width=\"55\" height=\"55\" style=\"fill:#b50000;stroke-width:2;stroke:rgb(255,255,255)\"/><rect x=\"550\" y=\"0\" width=\"55\" height=\"55\" style=\"fill:#c90d00;stroke-width:2;stroke:rgb(255,255,255)\"/><rect x=\"605\" y=\"0\" width=\"55\" height=\"55\" style=\"fill:#db2500;stroke-width:2;stroke:rgb(255,255,255)\"/><rect x=\"660\" y=\"0\" width=\"55\" height=\"55\" style=\"fill:#ed3d00;stroke-width:2;stroke:rgb(255,255,255)\"/><rect x=\"715\" y=\"0\" width=\"55\" height=\"55\" style=\"fill:#ff5500;stroke-width:2;stroke:rgb(255,255,255)\"/><rect x=\"770\" y=\"0\" width=\"55\" height=\"55\" style=\"fill:#ff6d00;stroke-width:2;stroke:rgb(255,255,255)\"/><rect x=\"825\" y=\"0\" width=\"55\" height=\"55\" style=\"fill:#ff870f;stroke-width:2;stroke:rgb(255,255,255)\"/><rect x=\"880\" y=\"0\" width=\"55\" height=\"55\" style=\"fill:#ff9f3f;stroke-width:2;stroke:rgb(255,255,255)\"/><rect x=\"935\" y=\"0\" width=\"55\" height=\"55\" style=\"fill:#ffb76f;stroke-width:2;stroke:rgb(255,255,255)\"/><rect x=\"990\" y=\"0\" width=\"55\" height=\"55\" style=\"fill:#ffcf9f;stroke-width:2;stroke:rgb(255,255,255)\"/><rect x=\"1045\" y=\"0\" width=\"55\" height=\"55\" style=\"fill:#ffe7cf;stroke-width:2;stroke:rgb(255,255,255)\"/></svg>"
      ],
      "text/plain": [
       "[(0.07058823529411765, 0.0, 0.0),\n",
       " (0.1411764705882353, 0.0, 0.0),\n",
       " (0.21176470588235294, 0.0, 0.0),\n",
       " (0.2823529411764706, 0.0, 0.0),\n",
       " (0.3529411764705882, 0.0, 0.0),\n",
       " (0.4294117647058823, 0.0, 0.0),\n",
       " (0.5, 0.0, 0.0),\n",
       " (0.5705882352941176, 0.0, 0.0),\n",
       " (0.6411764705882352, 0.0, 0.0),\n",
       " (0.7117647058823529, 0.0, 0.0),\n",
       " (0.7882352941176471, 0.050980392156862786, 0.0),\n",
       " (0.8588235294117647, 0.1450980392156862, 0.0),\n",
       " (0.9294117647058824, 0.23921568627450984, 0.0),\n",
       " (1.0, 0.33333333333333326, 0.0),\n",
       " (1.0, 0.4274509803921569, 0.0),\n",
       " (1.0, 0.5294117647058822, 0.0588235294117645),\n",
       " (1.0, 0.6235294117647059, 0.24705882352941178),\n",
       " (1.0, 0.7176470588235293, 0.4352941176470586),\n",
       " (1.0, 0.8117647058823529, 0.6235294117647059),\n",
       " (1.0, 0.9058823529411764, 0.8117647058823527)]"
      ]
     },
     "metadata": {},
     "output_type": "display_data"
    },
    {
     "name": "stdout",
     "output_type": "stream",
     "text": [
      "gist_heat_r\n"
     ]
    },
    {
     "data": {
      "text/html": [
       "<svg  width=\"1100\" height=\"55\"><rect x=\"0\" y=\"0\" width=\"55\" height=\"55\" style=\"fill:#ffe7cf;stroke-width:2;stroke:rgb(255,255,255)\"/><rect x=\"55\" y=\"0\" width=\"55\" height=\"55\" style=\"fill:#ffcf9f;stroke-width:2;stroke:rgb(255,255,255)\"/><rect x=\"110\" y=\"0\" width=\"55\" height=\"55\" style=\"fill:#ffb76f;stroke-width:2;stroke:rgb(255,255,255)\"/><rect x=\"165\" y=\"0\" width=\"55\" height=\"55\" style=\"fill:#ff9f3f;stroke-width:2;stroke:rgb(255,255,255)\"/><rect x=\"220\" y=\"0\" width=\"55\" height=\"55\" style=\"fill:#ff870f;stroke-width:2;stroke:rgb(255,255,255)\"/><rect x=\"275\" y=\"0\" width=\"55\" height=\"55\" style=\"fill:#ff6d00;stroke-width:2;stroke:rgb(255,255,255)\"/><rect x=\"330\" y=\"0\" width=\"55\" height=\"55\" style=\"fill:#ff5500;stroke-width:2;stroke:rgb(255,255,255)\"/><rect x=\"385\" y=\"0\" width=\"55\" height=\"55\" style=\"fill:#ed3d00;stroke-width:2;stroke:rgb(255,255,255)\"/><rect x=\"440\" y=\"0\" width=\"55\" height=\"55\" style=\"fill:#db2500;stroke-width:2;stroke:rgb(255,255,255)\"/><rect x=\"495\" y=\"0\" width=\"55\" height=\"55\" style=\"fill:#c90d00;stroke-width:2;stroke:rgb(255,255,255)\"/><rect x=\"550\" y=\"0\" width=\"55\" height=\"55\" style=\"fill:#b50000;stroke-width:2;stroke:rgb(255,255,255)\"/><rect x=\"605\" y=\"0\" width=\"55\" height=\"55\" style=\"fill:#a40000;stroke-width:2;stroke:rgb(255,255,255)\"/><rect x=\"660\" y=\"0\" width=\"55\" height=\"55\" style=\"fill:#920000;stroke-width:2;stroke:rgb(255,255,255)\"/><rect x=\"715\" y=\"0\" width=\"55\" height=\"55\" style=\"fill:#800000;stroke-width:2;stroke:rgb(255,255,255)\"/><rect x=\"770\" y=\"0\" width=\"55\" height=\"55\" style=\"fill:#6e0000;stroke-width:2;stroke:rgb(255,255,255)\"/><rect x=\"825\" y=\"0\" width=\"55\" height=\"55\" style=\"fill:#5a0000;stroke-width:2;stroke:rgb(255,255,255)\"/><rect x=\"880\" y=\"0\" width=\"55\" height=\"55\" style=\"fill:#480000;stroke-width:2;stroke:rgb(255,255,255)\"/><rect x=\"935\" y=\"0\" width=\"55\" height=\"55\" style=\"fill:#360000;stroke-width:2;stroke:rgb(255,255,255)\"/><rect x=\"990\" y=\"0\" width=\"55\" height=\"55\" style=\"fill:#240000;stroke-width:2;stroke:rgb(255,255,255)\"/><rect x=\"1045\" y=\"0\" width=\"55\" height=\"55\" style=\"fill:#120000;stroke-width:2;stroke:rgb(255,255,255)\"/></svg>"
      ],
      "text/plain": [
       "[(1.0, 0.9058823529411764, 0.8117647058823527),\n",
       " (1.0, 0.8117647058823529, 0.6235294117647059),\n",
       " (1.0, 0.7176470588235295, 0.43529411764705905),\n",
       " (1.0, 0.6235294117647059, 0.24705882352941178),\n",
       " (1.0, 0.5294117647058822, 0.0588235294117645),\n",
       " (1.0, 0.4274509803921569, 0.0),\n",
       " (1.0, 0.3333333333333335, 0.0),\n",
       " (0.9294117647058824, 0.23921568627450984, 0.0),\n",
       " (0.8588235294117647, 0.1450980392156862, 0.0),\n",
       " (0.7882352941176471, 0.050980392156862786, 0.0),\n",
       " (0.7117647058823529, 0.0, 0.0),\n",
       " (0.6411764705882353, 0.0, 0.0),\n",
       " (0.5705882352941176, 0.0, 0.0),\n",
       " (0.5, 0.0, 0.0),\n",
       " (0.4294117647058823, 0.0, 0.0),\n",
       " (0.3529411764705883, 0.0, 0.0),\n",
       " (0.2823529411764706, 0.0, 0.0),\n",
       " (0.21176470588235302, 0.0, 0.0),\n",
       " (0.1411764705882353, 0.0, 0.0),\n",
       " (0.07058823529411773, 0.0, 0.0)]"
      ]
     },
     "metadata": {},
     "output_type": "display_data"
    },
    {
     "name": "stdout",
     "output_type": "stream",
     "text": [
      "gist_ncar\n"
     ]
    },
    {
     "data": {
      "text/html": [
       "<svg  width=\"1100\" height=\"55\"><rect x=\"0\" y=\"0\" width=\"55\" height=\"55\" style=\"fill:#00580f;stroke-width:2;stroke:rgb(255,255,255)\"/><rect x=\"55\" y=\"0\" width=\"55\" height=\"55\" style=\"fill:#0014bc;stroke-width:2;stroke:rgb(255,255,255)\"/><rect x=\"110\" y=\"0\" width=\"55\" height=\"55\" style=\"fill:#007fff;stroke-width:2;stroke:rgb(255,255,255)\"/><rect x=\"165\" y=\"0\" width=\"55\" height=\"55\" style=\"fill:#00e0ff;stroke-width:2;stroke:rgb(255,255,255)\"/><rect x=\"220\" y=\"0\" width=\"55\" height=\"55\" style=\"fill:#00fdcb;stroke-width:2;stroke:rgb(255,255,255)\"/><rect x=\"275\" y=\"0\" width=\"55\" height=\"55\" style=\"fill:#00fc5e;stroke-width:2;stroke:rgb(255,255,255)\"/><rect x=\"330\" y=\"0\" width=\"55\" height=\"55\" style=\"fill:#26f000;stroke-width:2;stroke:rgb(255,255,255)\"/><rect x=\"385\" y=\"0\" width=\"55\" height=\"55\" style=\"fill:#6ad800;stroke-width:2;stroke:rgb(255,255,255)\"/><rect x=\"440\" y=\"0\" width=\"55\" height=\"55\" style=\"fill:#84ff0c;stroke-width:2;stroke:rgb(255,255,255)\"/><rect x=\"495\" y=\"0\" width=\"55\" height=\"55\" style=\"fill:#bbff3c;stroke-width:2;stroke:rgb(255,255,255)\"/><rect x=\"550\" y=\"0\" width=\"55\" height=\"55\" style=\"fill:#f6fd08;stroke-width:2;stroke:rgb(255,255,255)\"/><rect x=\"605\" y=\"0\" width=\"55\" height=\"55\" style=\"fill:#ffdf00;stroke-width:2;stroke:rgb(255,255,255)\"/><rect x=\"660\" y=\"0\" width=\"55\" height=\"55\" style=\"fill:#ffc10b;stroke-width:2;stroke:rgb(255,255,255)\"/><rect x=\"715\" y=\"0\" width=\"55\" height=\"55\" style=\"fill:#ff7006;stroke-width:2;stroke:rgb(255,255,255)\"/><rect x=\"770\" y=\"0\" width=\"55\" height=\"55\" style=\"fill:#ff2600;stroke-width:2;stroke:rgb(255,255,255)\"/><rect x=\"825\" y=\"0\" width=\"55\" height=\"55\" style=\"fill:#ff007c;stroke-width:2;stroke:rgb(255,255,255)\"/><rect x=\"880\" y=\"0\" width=\"55\" height=\"55\" style=\"fill:#dd11ff;stroke-width:2;stroke:rgb(255,255,255)\"/><rect x=\"935\" y=\"0\" width=\"55\" height=\"55\" style=\"fill:#b044fa;stroke-width:2;stroke:rgb(255,255,255)\"/><rect x=\"990\" y=\"0\" width=\"55\" height=\"55\" style=\"fill:#ed89ef;stroke-width:2;stroke:rgb(255,255,255)\"/><rect x=\"1045\" y=\"0\" width=\"55\" height=\"55\" style=\"fill:#f5c0f7;stroke-width:2;stroke:rgb(255,255,255)\"/></svg>"
      ],
      "text/plain": [
       "[(0.0, 0.34343713956170707, 0.059277970011533954),\n",
       " (0.0, 0.07987963141540771, 0.7392142056822729),\n",
       " (0.0, 0.4981591003460206, 1.0),\n",
       " (0.0, 0.8789398846597463, 1.0),\n",
       " (0.0, 0.9910894499795277, 0.7941763205282114),\n",
       " (0.0, 0.986936604088444, 0.368548620127168),\n",
       " (0.14987017543859635, 0.940799477124183, 0.0),\n",
       " (0.4149295655517109, 0.8465196078431373, 0.0),\n",
       " (0.5182809189613916, 0.9998402909550916, 0.04680407496331866),\n",
       " (0.7324457105610915, 1.0, 0.23416095104708531),\n",
       " (0.9644575681274331, 0.990405600200007, 0.03110639589169001),\n",
       " (1.0, 0.8743443122968675, 0.0),\n",
       " (1.0, 0.7582830243937281, 0.042206089965397986),\n",
       " (1.0, 0.44038591378263514, 0.021972448979591816),\n",
       " (1.0, 0.14918899559823937, 0.0),\n",
       " (1.0, 0.0, 0.4861174541947934),\n",
       " (0.8652209150326795, 0.06738100080896804, 1.0),\n",
       " (0.6912889749219927, 0.2682950819672131, 0.9811260366441659),\n",
       " (0.9291103806228374, 0.5365138408304497, 0.9388912341407152),\n",
       " (0.9626051903114187, 0.7545069204152248, 0.9674956170703576)]"
      ]
     },
     "metadata": {},
     "output_type": "display_data"
    },
    {
     "name": "stdout",
     "output_type": "stream",
     "text": [
      "gist_ncar_r\n"
     ]
    },
    {
     "data": {
      "text/html": [
       "<svg  width=\"1100\" height=\"55\"><rect x=\"0\" y=\"0\" width=\"55\" height=\"55\" style=\"fill:#f5c0f7;stroke-width:2;stroke:rgb(255,255,255)\"/><rect x=\"55\" y=\"0\" width=\"55\" height=\"55\" style=\"fill:#ed89ef;stroke-width:2;stroke:rgb(255,255,255)\"/><rect x=\"110\" y=\"0\" width=\"55\" height=\"55\" style=\"fill:#b044fa;stroke-width:2;stroke:rgb(255,255,255)\"/><rect x=\"165\" y=\"0\" width=\"55\" height=\"55\" style=\"fill:#dd11ff;stroke-width:2;stroke:rgb(255,255,255)\"/><rect x=\"220\" y=\"0\" width=\"55\" height=\"55\" style=\"fill:#ff007c;stroke-width:2;stroke:rgb(255,255,255)\"/><rect x=\"275\" y=\"0\" width=\"55\" height=\"55\" style=\"fill:#ff2600;stroke-width:2;stroke:rgb(255,255,255)\"/><rect x=\"330\" y=\"0\" width=\"55\" height=\"55\" style=\"fill:#ff7006;stroke-width:2;stroke:rgb(255,255,255)\"/><rect x=\"385\" y=\"0\" width=\"55\" height=\"55\" style=\"fill:#ffc10b;stroke-width:2;stroke:rgb(255,255,255)\"/><rect x=\"440\" y=\"0\" width=\"55\" height=\"55\" style=\"fill:#ffdf00;stroke-width:2;stroke:rgb(255,255,255)\"/><rect x=\"495\" y=\"0\" width=\"55\" height=\"55\" style=\"fill:#f6fd08;stroke-width:2;stroke:rgb(255,255,255)\"/><rect x=\"550\" y=\"0\" width=\"55\" height=\"55\" style=\"fill:#bbff3c;stroke-width:2;stroke:rgb(255,255,255)\"/><rect x=\"605\" y=\"0\" width=\"55\" height=\"55\" style=\"fill:#84ff0c;stroke-width:2;stroke:rgb(255,255,255)\"/><rect x=\"660\" y=\"0\" width=\"55\" height=\"55\" style=\"fill:#6ad800;stroke-width:2;stroke:rgb(255,255,255)\"/><rect x=\"715\" y=\"0\" width=\"55\" height=\"55\" style=\"fill:#26f000;stroke-width:2;stroke:rgb(255,255,255)\"/><rect x=\"770\" y=\"0\" width=\"55\" height=\"55\" style=\"fill:#00fc5e;stroke-width:2;stroke:rgb(255,255,255)\"/><rect x=\"825\" y=\"0\" width=\"55\" height=\"55\" style=\"fill:#00fdcb;stroke-width:2;stroke:rgb(255,255,255)\"/><rect x=\"880\" y=\"0\" width=\"55\" height=\"55\" style=\"fill:#00e0ff;stroke-width:2;stroke:rgb(255,255,255)\"/><rect x=\"935\" y=\"0\" width=\"55\" height=\"55\" style=\"fill:#007fff;stroke-width:2;stroke:rgb(255,255,255)\"/><rect x=\"990\" y=\"0\" width=\"55\" height=\"55\" style=\"fill:#0014bc;stroke-width:2;stroke:rgb(255,255,255)\"/><rect x=\"1045\" y=\"0\" width=\"55\" height=\"55\" style=\"fill:#00580f;stroke-width:2;stroke:rgb(255,255,255)\"/></svg>"
      ],
      "text/plain": [
       "[(0.9626051903114187, 0.7545069204152248, 0.9674956170703576),\n",
       " (0.9291103806228374, 0.5365138408304497, 0.9388912341407152),\n",
       " (0.6912889749219925, 0.26829508196721324, 0.9811260366441659),\n",
       " (0.8652209150326797, 0.06738100080896801, 1.0),\n",
       " (1.0, 0.0, 0.4861174541947932),\n",
       " (1.0, 0.14918899559823937, 0.0),\n",
       " (1.0, 0.44038591378263503, 0.021972448979591833),\n",
       " (1.0, 0.7582830243937282, 0.042206089965397944),\n",
       " (1.0, 0.8743443122968676, 0.0),\n",
       " (0.9644575681274331, 0.990405600200007, 0.03110639589168998),\n",
       " (0.7324457105610913, 1.0, 0.2341609510470851),\n",
       " (0.5182809189613913, 0.9998402909550919, 0.046804074963318704),\n",
       " (0.4149295655517108, 0.8465196078431371, 0.0),\n",
       " (0.14987017543859601, 0.9407994771241831, 0.0),\n",
       " (0.0, 0.986936604088444, 0.3685486201271679),\n",
       " (0.0, 0.9910894499795277, 0.794176320528211),\n",
       " (0.0, 0.8789398846597462, 1.0),\n",
       " (0.0, 0.4981591003460205, 1.0),\n",
       " (0.0, 0.07987963141540796, 0.7392142056822728),\n",
       " (0.0, 0.3434371395617064, 0.05927797001153484)]"
      ]
     },
     "metadata": {},
     "output_type": "display_data"
    },
    {
     "name": "stdout",
     "output_type": "stream",
     "text": [
      "gist_rainbow\n"
     ]
    },
    {
     "data": {
      "text/html": [
       "<svg  width=\"1100\" height=\"55\"><rect x=\"0\" y=\"0\" width=\"55\" height=\"55\" style=\"fill:#ff1800;stroke-width:2;stroke:rgb(255,255,255)\"/><rect x=\"55\" y=\"0\" width=\"55\" height=\"55\" style=\"fill:#ff5800;stroke-width:2;stroke:rgb(255,255,255)\"/><rect x=\"110\" y=\"0\" width=\"55\" height=\"55\" style=\"fill:#ff9900;stroke-width:2;stroke:rgb(255,255,255)\"/><rect x=\"165\" y=\"0\" width=\"55\" height=\"55\" style=\"fill:#ffda00;stroke-width:2;stroke:rgb(255,255,255)\"/><rect x=\"220\" y=\"0\" width=\"55\" height=\"55\" style=\"fill:#e3ff00;stroke-width:2;stroke:rgb(255,255,255)\"/><rect x=\"275\" y=\"0\" width=\"55\" height=\"55\" style=\"fill:#9dff00;stroke-width:2;stroke:rgb(255,255,255)\"/><rect x=\"330\" y=\"0\" width=\"55\" height=\"55\" style=\"fill:#5cff00;stroke-width:2;stroke:rgb(255,255,255)\"/><rect x=\"385\" y=\"0\" width=\"55\" height=\"55\" style=\"fill:#1bff00;stroke-width:2;stroke:rgb(255,255,255)\"/><rect x=\"440\" y=\"0\" width=\"55\" height=\"55\" style=\"fill:#00ff26;stroke-width:2;stroke:rgb(255,255,255)\"/><rect x=\"495\" y=\"0\" width=\"55\" height=\"55\" style=\"fill:#00ff66;stroke-width:2;stroke:rgb(255,255,255)\"/><rect x=\"550\" y=\"0\" width=\"55\" height=\"55\" style=\"fill:#00ffac;stroke-width:2;stroke:rgb(255,255,255)\"/><rect x=\"605\" y=\"0\" width=\"55\" height=\"55\" style=\"fill:#00ffed;stroke-width:2;stroke:rgb(255,255,255)\"/><rect x=\"660\" y=\"0\" width=\"55\" height=\"55\" style=\"fill:#00d0ff;stroke-width:2;stroke:rgb(255,255,255)\"/><rect x=\"715\" y=\"0\" width=\"55\" height=\"55\" style=\"fill:#008fff;stroke-width:2;stroke:rgb(255,255,255)\"/><rect x=\"770\" y=\"0\" width=\"55\" height=\"55\" style=\"fill:#004eff;stroke-width:2;stroke:rgb(255,255,255)\"/><rect x=\"825\" y=\"0\" width=\"55\" height=\"55\" style=\"fill:#0007ff;stroke-width:2;stroke:rgb(255,255,255)\"/><rect x=\"880\" y=\"0\" width=\"55\" height=\"55\" style=\"fill:#3a00ff;stroke-width:2;stroke:rgb(255,255,255)\"/><rect x=\"935\" y=\"0\" width=\"55\" height=\"55\" style=\"fill:#7b00ff;stroke-width:2;stroke:rgb(255,255,255)\"/><rect x=\"990\" y=\"0\" width=\"55\" height=\"55\" style=\"fill:#bc00ff;stroke-width:2;stroke:rgb(255,255,255)\"/><rect x=\"1045\" y=\"0\" width=\"55\" height=\"55\" style=\"fill:#fe00ff;stroke-width:2;stroke:rgb(255,255,255)\"/></svg>"
      ],
      "text/plain": [
       "[(1.0, 0.09220985691573928, 0.0),\n",
       " (1.0, 0.34658187599364076, 0.0),\n",
       " (1.0, 0.6009538950715422, 0.0),\n",
       " (1.0, 0.8553259141494436, 0.0),\n",
       " (0.8903020667726549, 1.0, 0.0),\n",
       " (0.6147323794382618, 1.0, 0.0),\n",
       " (0.36036036036036034, 1.0, 0.0),\n",
       " (0.10598834128245893, 1.0, 0.0),\n",
       " (0.0, 1.0, 0.14758591608686492),\n",
       " (0.0, 1.0, 0.40059034366434765),\n",
       " (0.0, 1.0, 0.6746784735399539),\n",
       " (0.0, 1.0, 0.9276829011174367),\n",
       " (0.0, 0.8173486786018751, 1.0),\n",
       " (0.0, 0.5615942028985503, 1.0),\n",
       " (0.0, 0.3058397271952257, 1.0),\n",
       " (0.0, 0.028772378516623953, 1.0),\n",
       " (0.22698209718670095, 0.0, 1.0),\n",
       " (0.4827365728900258, 0.0, 1.0),\n",
       " (0.7384910485933507, 0.0, 1.0),\n",
       " (0.9942455242966756, 0.0, 1.0)]"
      ]
     },
     "metadata": {},
     "output_type": "display_data"
    },
    {
     "name": "stdout",
     "output_type": "stream",
     "text": [
      "gist_rainbow_r\n"
     ]
    },
    {
     "data": {
      "text/html": [
       "<svg  width=\"1100\" height=\"55\"><rect x=\"0\" y=\"0\" width=\"55\" height=\"55\" style=\"fill:#fe00ff;stroke-width:2;stroke:rgb(255,255,255)\"/><rect x=\"55\" y=\"0\" width=\"55\" height=\"55\" style=\"fill:#bc00ff;stroke-width:2;stroke:rgb(255,255,255)\"/><rect x=\"110\" y=\"0\" width=\"55\" height=\"55\" style=\"fill:#7b00ff;stroke-width:2;stroke:rgb(255,255,255)\"/><rect x=\"165\" y=\"0\" width=\"55\" height=\"55\" style=\"fill:#3a00ff;stroke-width:2;stroke:rgb(255,255,255)\"/><rect x=\"220\" y=\"0\" width=\"55\" height=\"55\" style=\"fill:#0007ff;stroke-width:2;stroke:rgb(255,255,255)\"/><rect x=\"275\" y=\"0\" width=\"55\" height=\"55\" style=\"fill:#004eff;stroke-width:2;stroke:rgb(255,255,255)\"/><rect x=\"330\" y=\"0\" width=\"55\" height=\"55\" style=\"fill:#008fff;stroke-width:2;stroke:rgb(255,255,255)\"/><rect x=\"385\" y=\"0\" width=\"55\" height=\"55\" style=\"fill:#00d0ff;stroke-width:2;stroke:rgb(255,255,255)\"/><rect x=\"440\" y=\"0\" width=\"55\" height=\"55\" style=\"fill:#00ffed;stroke-width:2;stroke:rgb(255,255,255)\"/><rect x=\"495\" y=\"0\" width=\"55\" height=\"55\" style=\"fill:#00ffac;stroke-width:2;stroke:rgb(255,255,255)\"/><rect x=\"550\" y=\"0\" width=\"55\" height=\"55\" style=\"fill:#00ff66;stroke-width:2;stroke:rgb(255,255,255)\"/><rect x=\"605\" y=\"0\" width=\"55\" height=\"55\" style=\"fill:#00ff26;stroke-width:2;stroke:rgb(255,255,255)\"/><rect x=\"660\" y=\"0\" width=\"55\" height=\"55\" style=\"fill:#1bff00;stroke-width:2;stroke:rgb(255,255,255)\"/><rect x=\"715\" y=\"0\" width=\"55\" height=\"55\" style=\"fill:#5cff00;stroke-width:2;stroke:rgb(255,255,255)\"/><rect x=\"770\" y=\"0\" width=\"55\" height=\"55\" style=\"fill:#9dff00;stroke-width:2;stroke:rgb(255,255,255)\"/><rect x=\"825\" y=\"0\" width=\"55\" height=\"55\" style=\"fill:#e3ff00;stroke-width:2;stroke:rgb(255,255,255)\"/><rect x=\"880\" y=\"0\" width=\"55\" height=\"55\" style=\"fill:#ffda00;stroke-width:2;stroke:rgb(255,255,255)\"/><rect x=\"935\" y=\"0\" width=\"55\" height=\"55\" style=\"fill:#ff9900;stroke-width:2;stroke:rgb(255,255,255)\"/><rect x=\"990\" y=\"0\" width=\"55\" height=\"55\" style=\"fill:#ff5800;stroke-width:2;stroke:rgb(255,255,255)\"/><rect x=\"1045\" y=\"0\" width=\"55\" height=\"55\" style=\"fill:#ff1800;stroke-width:2;stroke:rgb(255,255,255)\"/></svg>"
      ],
      "text/plain": [
       "[(0.9942455242966755, 0.0, 1.0),\n",
       " (0.7384910485933506, 0.0, 1.0),\n",
       " (0.4827365728900257, 0.0, 1.0),\n",
       " (0.22698209718670082, 0.0, 1.0),\n",
       " (0.0, 0.028772378516624064, 1.0),\n",
       " (0.0, 0.3058397271952259, 1.0),\n",
       " (0.0, 0.5615942028985507, 1.0),\n",
       " (0.0, 0.8173486786018754, 1.0),\n",
       " (0.0, 1.0, 0.9276829011174363),\n",
       " (0.0, 1.0, 0.6746784735399537),\n",
       " (0.0, 1.0, 0.40059034366434754),\n",
       " (0.0, 1.0, 0.1475859160868649),\n",
       " (0.1059883412824589, 1.0, 0.0),\n",
       " (0.3603603603603603, 1.0, 0.0),\n",
       " (0.6147323794382616, 1.0, 0.0),\n",
       " (0.8903020667726548, 1.0, 0.0),\n",
       " (1.0, 0.8553259141494438, 0.0),\n",
       " (1.0, 0.6009538950715423, 0.0),\n",
       " (1.0, 0.34658187599364065, 0.0),\n",
       " (1.0, 0.09220985691573913, 0.0)]"
      ]
     },
     "metadata": {},
     "output_type": "display_data"
    },
    {
     "name": "stdout",
     "output_type": "stream",
     "text": [
      "gist_stern\n"
     ]
    },
    {
     "data": {
      "text/html": [
       "<svg  width=\"1100\" height=\"55\"><rect x=\"0\" y=\"0\" width=\"55\" height=\"55\" style=\"fill:#db0c18;stroke-width:2;stroke:rgb(255,255,255)\"/><rect x=\"55\" y=\"0\" width=\"55\" height=\"55\" style=\"fill:#cd1830;stroke-width:2;stroke:rgb(255,255,255)\"/><rect x=\"110\" y=\"0\" width=\"55\" height=\"55\" style=\"fill:#912448;stroke-width:2;stroke:rgb(255,255,255)\"/><rect x=\"165\" y=\"0\" width=\"55\" height=\"55\" style=\"fill:#553060;stroke-width:2;stroke:rgb(255,255,255)\"/><rect x=\"220\" y=\"0\" width=\"55\" height=\"55\" style=\"fill:#1a3c78;stroke-width:2;stroke:rgb(255,255,255)\"/><rect x=\"275\" y=\"0\" width=\"55\" height=\"55\" style=\"fill:#494992;stroke-width:2;stroke:rgb(255,255,255)\"/><rect x=\"330\" y=\"0\" width=\"55\" height=\"55\" style=\"fill:#5555aa;stroke-width:2;stroke:rgb(255,255,255)\"/><rect x=\"385\" y=\"0\" width=\"55\" height=\"55\" style=\"fill:#6161c2;stroke-width:2;stroke:rgb(255,255,255)\"/><rect x=\"440\" y=\"0\" width=\"55\" height=\"55\" style=\"fill:#6d6dda;stroke-width:2;stroke:rgb(255,255,255)\"/><rect x=\"495\" y=\"0\" width=\"55\" height=\"55\" style=\"fill:#7979f2;stroke-width:2;stroke:rgb(255,255,255)\"/><rect x=\"550\" y=\"0\" width=\"55\" height=\"55\" style=\"fill:#8686e3;stroke-width:2;stroke:rgb(255,255,255)\"/><rect x=\"605\" y=\"0\" width=\"55\" height=\"55\" style=\"fill:#9292b0;stroke-width:2;stroke:rgb(255,255,255)\"/><rect x=\"660\" y=\"0\" width=\"55\" height=\"55\" style=\"fill:#9e9e7d;stroke-width:2;stroke:rgb(255,255,255)\"/><rect x=\"715\" y=\"0\" width=\"55\" height=\"55\" style=\"fill:#aaaa4a;stroke-width:2;stroke:rgb(255,255,255)\"/><rect x=\"770\" y=\"0\" width=\"55\" height=\"55\" style=\"fill:#b6b617;stroke-width:2;stroke:rgb(255,255,255)\"/><rect x=\"825\" y=\"0\" width=\"55\" height=\"55\" style=\"fill:#c3c31d;stroke-width:2;stroke:rgb(255,255,255)\"/><rect x=\"880\" y=\"0\" width=\"55\" height=\"55\" style=\"fill:#cfcf4a;stroke-width:2;stroke:rgb(255,255,255)\"/><rect x=\"935\" y=\"0\" width=\"55\" height=\"55\" style=\"fill:#dbdb77;stroke-width:2;stroke:rgb(255,255,255)\"/><rect x=\"990\" y=\"0\" width=\"55\" height=\"55\" style=\"fill:#e7e7a4;stroke-width:2;stroke:rgb(255,255,255)\"/><rect x=\"1045\" y=\"0\" width=\"55\" height=\"55\" style=\"fill:#f3f3d2;stroke-width:2;stroke:rgb(255,255,255)\"/></svg>"
      ],
      "text/plain": [
       "[(0.8603075599526832, 0.047058823529411764, 0.09411764705882353),\n",
       " (0.803618174151381, 0.09411764705882353, 0.18823529411764706),\n",
       " (0.5691674045962472, 0.1411764705882353, 0.2823529411764706),\n",
       " (0.33471663504111326, 0.18823529411764706, 0.3764705882352941),\n",
       " (0.10026586548597938, 0.23529411764705882, 0.47058823529411764),\n",
       " (0.28627450980392155, 0.28627450980392155, 0.5725490196078431),\n",
       " (0.3333333333333333, 0.3333333333333333, 0.6666666666666666),\n",
       " (0.3803921568627451, 0.3803921568627451, 0.7607843137254902),\n",
       " (0.42745098039215684, 0.42745098039215684, 0.8549019607843137),\n",
       " (0.4745098039215686, 0.4745098039215686, 0.9490196078431372),\n",
       " (0.5254901960784314, 0.5254901960784314, 0.8915310805173133),\n",
       " (0.5725490196078431, 0.5725490196078431, 0.6912807676261994),\n",
       " (0.6196078431372549, 0.6196078431372549, 0.49103045473508533),\n",
       " (0.6666666666666667, 0.6666666666666666, 0.2907801418439714),\n",
       " (0.7137254901960784, 0.7137254901960784, 0.09052982895285744),\n",
       " (0.7647058823529411, 0.7647058823529411, 0.11209766925638202),\n",
       " (0.8117647058823529, 0.8117647058823529, 0.2896781354051056),\n",
       " (0.8588235294117648, 0.8588235294117647, 0.4672586015538292),\n",
       " (0.9058823529411765, 0.9058823529411765, 0.6448390677025528),\n",
       " (0.9529411764705882, 0.9529411764705882, 0.8224195338512764)]"
      ]
     },
     "metadata": {},
     "output_type": "display_data"
    },
    {
     "name": "stdout",
     "output_type": "stream",
     "text": [
      "gist_stern_r\n"
     ]
    },
    {
     "data": {
      "text/html": [
       "<svg  width=\"1100\" height=\"55\"><rect x=\"0\" y=\"0\" width=\"55\" height=\"55\" style=\"fill:#f3f3d2;stroke-width:2;stroke:rgb(255,255,255)\"/><rect x=\"55\" y=\"0\" width=\"55\" height=\"55\" style=\"fill:#e7e7a4;stroke-width:2;stroke:rgb(255,255,255)\"/><rect x=\"110\" y=\"0\" width=\"55\" height=\"55\" style=\"fill:#dbdb77;stroke-width:2;stroke:rgb(255,255,255)\"/><rect x=\"165\" y=\"0\" width=\"55\" height=\"55\" style=\"fill:#cfcf4a;stroke-width:2;stroke:rgb(255,255,255)\"/><rect x=\"220\" y=\"0\" width=\"55\" height=\"55\" style=\"fill:#c3c31d;stroke-width:2;stroke:rgb(255,255,255)\"/><rect x=\"275\" y=\"0\" width=\"55\" height=\"55\" style=\"fill:#b6b617;stroke-width:2;stroke:rgb(255,255,255)\"/><rect x=\"330\" y=\"0\" width=\"55\" height=\"55\" style=\"fill:#aaaa4a;stroke-width:2;stroke:rgb(255,255,255)\"/><rect x=\"385\" y=\"0\" width=\"55\" height=\"55\" style=\"fill:#9e9e7d;stroke-width:2;stroke:rgb(255,255,255)\"/><rect x=\"440\" y=\"0\" width=\"55\" height=\"55\" style=\"fill:#9292b0;stroke-width:2;stroke:rgb(255,255,255)\"/><rect x=\"495\" y=\"0\" width=\"55\" height=\"55\" style=\"fill:#8686e3;stroke-width:2;stroke:rgb(255,255,255)\"/><rect x=\"550\" y=\"0\" width=\"55\" height=\"55\" style=\"fill:#7979f2;stroke-width:2;stroke:rgb(255,255,255)\"/><rect x=\"605\" y=\"0\" width=\"55\" height=\"55\" style=\"fill:#6d6dda;stroke-width:2;stroke:rgb(255,255,255)\"/><rect x=\"660\" y=\"0\" width=\"55\" height=\"55\" style=\"fill:#6161c2;stroke-width:2;stroke:rgb(255,255,255)\"/><rect x=\"715\" y=\"0\" width=\"55\" height=\"55\" style=\"fill:#5555aa;stroke-width:2;stroke:rgb(255,255,255)\"/><rect x=\"770\" y=\"0\" width=\"55\" height=\"55\" style=\"fill:#494992;stroke-width:2;stroke:rgb(255,255,255)\"/><rect x=\"825\" y=\"0\" width=\"55\" height=\"55\" style=\"fill:#1a3c78;stroke-width:2;stroke:rgb(255,255,255)\"/><rect x=\"880\" y=\"0\" width=\"55\" height=\"55\" style=\"fill:#553060;stroke-width:2;stroke:rgb(255,255,255)\"/><rect x=\"935\" y=\"0\" width=\"55\" height=\"55\" style=\"fill:#912448;stroke-width:2;stroke:rgb(255,255,255)\"/><rect x=\"990\" y=\"0\" width=\"55\" height=\"55\" style=\"fill:#cd1830;stroke-width:2;stroke:rgb(255,255,255)\"/><rect x=\"1045\" y=\"0\" width=\"55\" height=\"55\" style=\"fill:#db0c18;stroke-width:2;stroke:rgb(255,255,255)\"/></svg>"
      ],
      "text/plain": [
       "[(0.9529411764705882, 0.9529411764705882, 0.8224195338512763),\n",
       " (0.9058823529411765, 0.9058823529411765, 0.6448390677025527),\n",
       " (0.8588235294117648, 0.8588235294117648, 0.46725860155382914),\n",
       " (0.8117647058823529, 0.8117647058823529, 0.28967813540510545),\n",
       " (0.7647058823529411, 0.7647058823529411, 0.11209766925638187),\n",
       " (0.7137254901960784, 0.7137254901960784, 0.0905298289528577),\n",
       " (0.6666666666666667, 0.6666666666666667, 0.2907801418439716),\n",
       " (0.6196078431372549, 0.6196078431372549, 0.4910304547350855),\n",
       " (0.5725490196078431, 0.5725490196078431, 0.6912807676261994),\n",
       " (0.5254901960784314, 0.5254901960784314, 0.8915310805173133),\n",
       " (0.4745098039215687, 0.4745098039215686, 0.9490196078431372),\n",
       " (0.4274509803921569, 0.4274509803921569, 0.8549019607843137),\n",
       " (0.3803921568627451, 0.3803921568627451, 0.7607843137254902),\n",
       " (0.33333333333333337, 0.33333333333333337, 0.6666666666666667),\n",
       " (0.28627450980392166, 0.28627450980392155, 0.5725490196078431),\n",
       " (0.10026586548597932, 0.23529411764705888, 0.47058823529411764),\n",
       " (0.3347166350411132, 0.18823529411764706, 0.3764705882352941),\n",
       " (0.569167404596247, 0.14117647058823535, 0.2823529411764706),\n",
       " (0.8036181741513808, 0.09411764705882353, 0.18823529411764706),\n",
       " (0.8603075599526834, 0.04705882352941182, 0.09411764705882353)]"
      ]
     },
     "metadata": {},
     "output_type": "display_data"
    },
    {
     "name": "stdout",
     "output_type": "stream",
     "text": [
      "gist_yarg\n"
     ]
    },
    {
     "data": {
      "text/html": [
       "<svg  width=\"1100\" height=\"55\"><rect x=\"0\" y=\"0\" width=\"55\" height=\"55\" style=\"fill:#f3f3f3;stroke-width:2;stroke:rgb(255,255,255)\"/><rect x=\"55\" y=\"0\" width=\"55\" height=\"55\" style=\"fill:#e7e7e7;stroke-width:2;stroke:rgb(255,255,255)\"/><rect x=\"110\" y=\"0\" width=\"55\" height=\"55\" style=\"fill:#dbdbdb;stroke-width:2;stroke:rgb(255,255,255)\"/><rect x=\"165\" y=\"0\" width=\"55\" height=\"55\" style=\"fill:#cfcfcf;stroke-width:2;stroke:rgb(255,255,255)\"/><rect x=\"220\" y=\"0\" width=\"55\" height=\"55\" style=\"fill:#c3c3c3;stroke-width:2;stroke:rgb(255,255,255)\"/><rect x=\"275\" y=\"0\" width=\"55\" height=\"55\" style=\"fill:#b6b6b6;stroke-width:2;stroke:rgb(255,255,255)\"/><rect x=\"330\" y=\"0\" width=\"55\" height=\"55\" style=\"fill:#aaaaaa;stroke-width:2;stroke:rgb(255,255,255)\"/><rect x=\"385\" y=\"0\" width=\"55\" height=\"55\" style=\"fill:#9e9e9e;stroke-width:2;stroke:rgb(255,255,255)\"/><rect x=\"440\" y=\"0\" width=\"55\" height=\"55\" style=\"fill:#929292;stroke-width:2;stroke:rgb(255,255,255)\"/><rect x=\"495\" y=\"0\" width=\"55\" height=\"55\" style=\"fill:#868686;stroke-width:2;stroke:rgb(255,255,255)\"/><rect x=\"550\" y=\"0\" width=\"55\" height=\"55\" style=\"fill:#797979;stroke-width:2;stroke:rgb(255,255,255)\"/><rect x=\"605\" y=\"0\" width=\"55\" height=\"55\" style=\"fill:#6d6d6d;stroke-width:2;stroke:rgb(255,255,255)\"/><rect x=\"660\" y=\"0\" width=\"55\" height=\"55\" style=\"fill:#616161;stroke-width:2;stroke:rgb(255,255,255)\"/><rect x=\"715\" y=\"0\" width=\"55\" height=\"55\" style=\"fill:#555555;stroke-width:2;stroke:rgb(255,255,255)\"/><rect x=\"770\" y=\"0\" width=\"55\" height=\"55\" style=\"fill:#494949;stroke-width:2;stroke:rgb(255,255,255)\"/><rect x=\"825\" y=\"0\" width=\"55\" height=\"55\" style=\"fill:#3c3c3c;stroke-width:2;stroke:rgb(255,255,255)\"/><rect x=\"880\" y=\"0\" width=\"55\" height=\"55\" style=\"fill:#303030;stroke-width:2;stroke:rgb(255,255,255)\"/><rect x=\"935\" y=\"0\" width=\"55\" height=\"55\" style=\"fill:#242424;stroke-width:2;stroke:rgb(255,255,255)\"/><rect x=\"990\" y=\"0\" width=\"55\" height=\"55\" style=\"fill:#181818;stroke-width:2;stroke:rgb(255,255,255)\"/><rect x=\"1045\" y=\"0\" width=\"55\" height=\"55\" style=\"fill:#0c0c0c;stroke-width:2;stroke:rgb(255,255,255)\"/></svg>"
      ],
      "text/plain": [
       "[(0.9529411764705882, 0.9529411764705882, 0.9529411764705882),\n",
       " (0.9058823529411765, 0.9058823529411765, 0.9058823529411765),\n",
       " (0.8588235294117648, 0.8588235294117648, 0.8588235294117648),\n",
       " (0.8117647058823529, 0.8117647058823529, 0.8117647058823529),\n",
       " (0.7647058823529411, 0.7647058823529411, 0.7647058823529411),\n",
       " (0.7137254901960784, 0.7137254901960784, 0.7137254901960784),\n",
       " (0.6666666666666667, 0.6666666666666667, 0.6666666666666667),\n",
       " (0.6196078431372549, 0.6196078431372549, 0.6196078431372549),\n",
       " (0.5725490196078431, 0.5725490196078431, 0.5725490196078431),\n",
       " (0.5254901960784314, 0.5254901960784314, 0.5254901960784314),\n",
       " (0.4745098039215686, 0.4745098039215686, 0.4745098039215686),\n",
       " (0.4274509803921569, 0.4274509803921569, 0.4274509803921569),\n",
       " (0.3803921568627451, 0.3803921568627451, 0.3803921568627451),\n",
       " (0.33333333333333337, 0.33333333333333337, 0.33333333333333337),\n",
       " (0.28627450980392155, 0.28627450980392155, 0.28627450980392155),\n",
       " (0.23529411764705888, 0.23529411764705888, 0.23529411764705888),\n",
       " (0.18823529411764706, 0.18823529411764706, 0.18823529411764706),\n",
       " (0.14117647058823535, 0.14117647058823535, 0.14117647058823535),\n",
       " (0.09411764705882353, 0.09411764705882353, 0.09411764705882353),\n",
       " (0.04705882352941182, 0.04705882352941182, 0.04705882352941182)]"
      ]
     },
     "metadata": {},
     "output_type": "display_data"
    },
    {
     "name": "stdout",
     "output_type": "stream",
     "text": [
      "gist_yarg_r\n"
     ]
    },
    {
     "data": {
      "text/html": [
       "<svg  width=\"1100\" height=\"55\"><rect x=\"0\" y=\"0\" width=\"55\" height=\"55\" style=\"fill:#0c0c0c;stroke-width:2;stroke:rgb(255,255,255)\"/><rect x=\"55\" y=\"0\" width=\"55\" height=\"55\" style=\"fill:#181818;stroke-width:2;stroke:rgb(255,255,255)\"/><rect x=\"110\" y=\"0\" width=\"55\" height=\"55\" style=\"fill:#242424;stroke-width:2;stroke:rgb(255,255,255)\"/><rect x=\"165\" y=\"0\" width=\"55\" height=\"55\" style=\"fill:#303030;stroke-width:2;stroke:rgb(255,255,255)\"/><rect x=\"220\" y=\"0\" width=\"55\" height=\"55\" style=\"fill:#3c3c3c;stroke-width:2;stroke:rgb(255,255,255)\"/><rect x=\"275\" y=\"0\" width=\"55\" height=\"55\" style=\"fill:#494949;stroke-width:2;stroke:rgb(255,255,255)\"/><rect x=\"330\" y=\"0\" width=\"55\" height=\"55\" style=\"fill:#555555;stroke-width:2;stroke:rgb(255,255,255)\"/><rect x=\"385\" y=\"0\" width=\"55\" height=\"55\" style=\"fill:#616161;stroke-width:2;stroke:rgb(255,255,255)\"/><rect x=\"440\" y=\"0\" width=\"55\" height=\"55\" style=\"fill:#6d6d6d;stroke-width:2;stroke:rgb(255,255,255)\"/><rect x=\"495\" y=\"0\" width=\"55\" height=\"55\" style=\"fill:#797979;stroke-width:2;stroke:rgb(255,255,255)\"/><rect x=\"550\" y=\"0\" width=\"55\" height=\"55\" style=\"fill:#868686;stroke-width:2;stroke:rgb(255,255,255)\"/><rect x=\"605\" y=\"0\" width=\"55\" height=\"55\" style=\"fill:#929292;stroke-width:2;stroke:rgb(255,255,255)\"/><rect x=\"660\" y=\"0\" width=\"55\" height=\"55\" style=\"fill:#9e9e9e;stroke-width:2;stroke:rgb(255,255,255)\"/><rect x=\"715\" y=\"0\" width=\"55\" height=\"55\" style=\"fill:#aaaaaa;stroke-width:2;stroke:rgb(255,255,255)\"/><rect x=\"770\" y=\"0\" width=\"55\" height=\"55\" style=\"fill:#b6b6b6;stroke-width:2;stroke:rgb(255,255,255)\"/><rect x=\"825\" y=\"0\" width=\"55\" height=\"55\" style=\"fill:#c3c3c3;stroke-width:2;stroke:rgb(255,255,255)\"/><rect x=\"880\" y=\"0\" width=\"55\" height=\"55\" style=\"fill:#cfcfcf;stroke-width:2;stroke:rgb(255,255,255)\"/><rect x=\"935\" y=\"0\" width=\"55\" height=\"55\" style=\"fill:#dbdbdb;stroke-width:2;stroke:rgb(255,255,255)\"/><rect x=\"990\" y=\"0\" width=\"55\" height=\"55\" style=\"fill:#e7e7e7;stroke-width:2;stroke:rgb(255,255,255)\"/><rect x=\"1045\" y=\"0\" width=\"55\" height=\"55\" style=\"fill:#f3f3f3;stroke-width:2;stroke:rgb(255,255,255)\"/></svg>"
      ],
      "text/plain": [
       "[(0.04705882352941182, 0.04705882352941182, 0.04705882352941182),\n",
       " (0.09411764705882353, 0.09411764705882353, 0.09411764705882353),\n",
       " (0.14117647058823524, 0.14117647058823524, 0.14117647058823524),\n",
       " (0.18823529411764706, 0.18823529411764706, 0.18823529411764706),\n",
       " (0.23529411764705888, 0.23529411764705888, 0.23529411764705888),\n",
       " (0.28627450980392155, 0.28627450980392155, 0.28627450980392155),\n",
       " (0.33333333333333326, 0.33333333333333326, 0.33333333333333326),\n",
       " (0.3803921568627451, 0.3803921568627451, 0.3803921568627451),\n",
       " (0.4274509803921569, 0.4274509803921569, 0.4274509803921569),\n",
       " (0.4745098039215686, 0.4745098039215686, 0.4745098039215686),\n",
       " (0.5254901960784314, 0.5254901960784314, 0.5254901960784314),\n",
       " (0.5725490196078431, 0.5725490196078431, 0.5725490196078431),\n",
       " (0.6196078431372549, 0.6196078431372549, 0.6196078431372549),\n",
       " (0.6666666666666666, 0.6666666666666666, 0.6666666666666666),\n",
       " (0.7137254901960784, 0.7137254901960784, 0.7137254901960784),\n",
       " (0.7647058823529411, 0.7647058823529411, 0.7647058823529411),\n",
       " (0.8117647058823529, 0.8117647058823529, 0.8117647058823529),\n",
       " (0.8588235294117647, 0.8588235294117647, 0.8588235294117647),\n",
       " (0.9058823529411765, 0.9058823529411765, 0.9058823529411765),\n",
       " (0.9529411764705882, 0.9529411764705882, 0.9529411764705882)]"
      ]
     },
     "metadata": {},
     "output_type": "display_data"
    },
    {
     "name": "stdout",
     "output_type": "stream",
     "text": [
      "gnuplot\n"
     ]
    },
    {
     "data": {
      "text/html": [
       "<svg  width=\"1100\" height=\"55\"><rect x=\"0\" y=\"0\" width=\"55\" height=\"55\" style=\"fill:#37004a;stroke-width:2;stroke:rgb(255,255,255)\"/><rect x=\"55\" y=\"0\" width=\"55\" height=\"55\" style=\"fill:#4e008e;stroke-width:2;stroke:rgb(255,255,255)\"/><rect x=\"110\" y=\"0\" width=\"55\" height=\"55\" style=\"fill:#6001c6;stroke-width:2;stroke:rgb(255,255,255)\"/><rect x=\"165\" y=\"0\" width=\"55\" height=\"55\" style=\"fill:#6f02ec;stroke-width:2;stroke:rgb(255,255,255)\"/><rect x=\"220\" y=\"0\" width=\"55\" height=\"55\" style=\"fill:#7c03fe;stroke-width:2;stroke:rgb(255,255,255)\"/><rect x=\"275\" y=\"0\" width=\"55\" height=\"55\" style=\"fill:#8806f8;stroke-width:2;stroke:rgb(255,255,255)\"/><rect x=\"330\" y=\"0\" width=\"55\" height=\"55\" style=\"fill:#9309dd;stroke-width:2;stroke:rgb(255,255,255)\"/><rect x=\"385\" y=\"0\" width=\"55\" height=\"55\" style=\"fill:#9d0eae;stroke-width:2;stroke:rgb(255,255,255)\"/><rect x=\"440\" y=\"0\" width=\"55\" height=\"55\" style=\"fill:#a71470;stroke-width:2;stroke:rgb(255,255,255)\"/><rect x=\"495\" y=\"0\" width=\"55\" height=\"55\" style=\"fill:#b01b29;stroke-width:2;stroke:rgb(255,255,255)\"/><rect x=\"550\" y=\"0\" width=\"55\" height=\"55\" style=\"fill:#b92500;stroke-width:2;stroke:rgb(255,255,255)\"/><rect x=\"605\" y=\"0\" width=\"55\" height=\"55\" style=\"fill:#c13000;stroke-width:2;stroke:rgb(255,255,255)\"/><rect x=\"660\" y=\"0\" width=\"55\" height=\"55\" style=\"fill:#c93d00;stroke-width:2;stroke:rgb(255,255,255)\"/><rect x=\"715\" y=\"0\" width=\"55\" height=\"55\" style=\"fill:#d04c00;stroke-width:2;stroke:rgb(255,255,255)\"/><rect x=\"770\" y=\"0\" width=\"55\" height=\"55\" style=\"fill:#d75d00;stroke-width:2;stroke:rgb(255,255,255)\"/><rect x=\"825\" y=\"0\" width=\"55\" height=\"55\" style=\"fill:#df7200;stroke-width:2;stroke:rgb(255,255,255)\"/><rect x=\"880\" y=\"0\" width=\"55\" height=\"55\" style=\"fill:#e68800;stroke-width:2;stroke:rgb(255,255,255)\"/><rect x=\"935\" y=\"0\" width=\"55\" height=\"55\" style=\"fill:#eca200;stroke-width:2;stroke:rgb(255,255,255)\"/><rect x=\"990\" y=\"0\" width=\"55\" height=\"55\" style=\"fill:#f3be00;stroke-width:2;stroke:rgb(255,255,255)\"/><rect x=\"1045\" y=\"0\" width=\"55\" height=\"55\" style=\"fill:#f9dd00;stroke-width:2;stroke:rgb(255,255,255)\"/></svg>"
      ],
      "text/plain": [
       "[(0.21693045781865616, 0.00010421331162222675, 0.2913897468893246),\n",
       " (0.3067859955389482, 0.000833706492977814, 0.5574894393428855),\n",
       " (0.37573457465108967, 0.002813759413800122, 0.7752039761111298),\n",
       " (0.4338609156373123, 0.006669651943822512, 0.9256376597815562),\n",
       " (0.48507125007266594, 0.013026663952778343, 0.9957341762950345),\n",
       " (0.5350462688440333, 0.023461082087583202, 0.9741386021045102),\n",
       " (0.5773502691896257, 0.03703703703703703, 0.8660254037844387),\n",
       " (0.6167593994928209, 0.055042057730435495, 0.6827488552151856),\n",
       " (0.6537973542254181, 0.07810142403751195, 0.44021574083098747),\n",
       " (0.6888467201936644, 0.10684041582799977, 0.1594757912099809),\n",
       " (0.7249070258167122, 0.14510883446035086, 0.0),\n",
       " (0.7566696898963531, 0.18768865670066562, 0.0),\n",
       " (0.787151728154906, 0.23787605068940304, 0.0),\n",
       " (0.816496580927726, 0.2962962962962962, 0.0),\n",
       " (0.8448227566750782, 0.36357467339107885, 0.0),\n",
       " (0.8744746321952062, 0.44718094850396894, 0.0),\n",
       " (0.9009798587550961, 0.5349220435579076, 0.0),\n",
       " (0.9267273220380225, 0.6334492163647465, 0.0),\n",
       " (0.9517785209496884, 0.7433877467942194, 0.0),\n",
       " (0.9761870601839527, 0.8653629147160593, 0.0)]"
      ]
     },
     "metadata": {},
     "output_type": "display_data"
    },
    {
     "name": "stdout",
     "output_type": "stream",
     "text": [
      "gnuplot2\n"
     ]
    },
    {
     "data": {
      "text/html": [
       "<svg  width=\"1100\" height=\"55\"><rect x=\"0\" y=\"0\" width=\"55\" height=\"55\" style=\"fill:#000030;stroke-width:2;stroke:rgb(255,255,255)\"/><rect x=\"55\" y=\"0\" width=\"55\" height=\"55\" style=\"fill:#000060;stroke-width:2;stroke:rgb(255,255,255)\"/><rect x=\"110\" y=\"0\" width=\"55\" height=\"55\" style=\"fill:#000090;stroke-width:2;stroke:rgb(255,255,255)\"/><rect x=\"165\" y=\"0\" width=\"55\" height=\"55\" style=\"fill:#0000c0;stroke-width:2;stroke:rgb(255,255,255)\"/><rect x=\"220\" y=\"0\" width=\"55\" height=\"55\" style=\"fill:#0000f0;stroke-width:2;stroke:rgb(255,255,255)\"/><rect x=\"275\" y=\"0\" width=\"55\" height=\"55\" style=\"fill:#1d00ff;stroke-width:2;stroke:rgb(255,255,255)\"/><rect x=\"330\" y=\"0\" width=\"55\" height=\"55\" style=\"fill:#4200ff;stroke-width:2;stroke:rgb(255,255,255)\"/><rect x=\"385\" y=\"0\" width=\"55\" height=\"55\" style=\"fill:#6800ff;stroke-width:2;stroke:rgb(255,255,255)\"/><rect x=\"440\" y=\"0\" width=\"55\" height=\"55\" style=\"fill:#8d04fb;stroke-width:2;stroke:rgb(255,255,255)\"/><rect x=\"495\" y=\"0\" width=\"55\" height=\"55\" style=\"fill:#b31ce3;stroke-width:2;stroke:rgb(255,255,255)\"/><rect x=\"550\" y=\"0\" width=\"55\" height=\"55\" style=\"fill:#dc36c9;stroke-width:2;stroke:rgb(255,255,255)\"/><rect x=\"605\" y=\"0\" width=\"55\" height=\"55\" style=\"fill:#ff4eb1;stroke-width:2;stroke:rgb(255,255,255)\"/><rect x=\"660\" y=\"0\" width=\"55\" height=\"55\" style=\"fill:#ff6699;stroke-width:2;stroke:rgb(255,255,255)\"/><rect x=\"715\" y=\"0\" width=\"55\" height=\"55\" style=\"fill:#ff7e81;stroke-width:2;stroke:rgb(255,255,255)\"/><rect x=\"770\" y=\"0\" width=\"55\" height=\"55\" style=\"fill:#ff9669;stroke-width:2;stroke:rgb(255,255,255)\"/><rect x=\"825\" y=\"0\" width=\"55\" height=\"55\" style=\"fill:#ffb04f;stroke-width:2;stroke:rgb(255,255,255)\"/><rect x=\"880\" y=\"0\" width=\"55\" height=\"55\" style=\"fill:#ffc837;stroke-width:2;stroke:rgb(255,255,255)\"/><rect x=\"935\" y=\"0\" width=\"55\" height=\"55\" style=\"fill:#ffe01f;stroke-width:2;stroke:rgb(255,255,255)\"/><rect x=\"990\" y=\"0\" width=\"55\" height=\"55\" style=\"fill:#fff807;stroke-width:2;stroke:rgb(255,255,255)\"/><rect x=\"1045\" y=\"0\" width=\"55\" height=\"55\" style=\"fill:#ffff69;stroke-width:2;stroke:rgb(255,255,255)\"/></svg>"
      ],
      "text/plain": [
       "[(0.0, 0.0, 0.18823529411764706),\n",
       " (0.0, 0.0, 0.3764705882352941),\n",
       " (0.0, 0.0, 0.5647058823529412),\n",
       " (0.0, 0.0, 0.7529411764705882),\n",
       " (0.0, 0.0, 0.9411764705882353),\n",
       " (0.11335784313725483, 0.0, 1.0),\n",
       " (0.2604166666666665, 0.0, 1.0),\n",
       " (0.4074754901960784, 0.0, 1.0),\n",
       " (0.5545343137254901, 0.014901960784313717, 0.9850980392156864),\n",
       " (0.7015931372549018, 0.10901960784313725, 0.8909803921568629),\n",
       " (0.860906862745098, 0.21098039215686282, 0.7890196078431373),\n",
       " (1.0, 0.30509803921568623, 0.6949019607843139),\n",
       " (1.0, 0.3992156862745099, 0.6007843137254902),\n",
       " (1.0, 0.4933333333333333, 0.5066666666666668),\n",
       " (1.0, 0.5874509803921569, 0.4125490196078432),\n",
       " (1.0, 0.6894117647058823, 0.31058823529411783),\n",
       " (1.0, 0.7835294117647059, 0.2164705882352942),\n",
       " (1.0, 0.8776470588235293, 0.12235294117647078),\n",
       " (1.0, 0.971764705882353, 0.028235294117647136),\n",
       " (1.0, 1.0, 0.4117647058823515)]"
      ]
     },
     "metadata": {},
     "output_type": "display_data"
    },
    {
     "name": "stdout",
     "output_type": "stream",
     "text": [
      "gnuplot2_r\n"
     ]
    },
    {
     "data": {
      "text/html": [
       "<svg  width=\"1100\" height=\"55\"><rect x=\"0\" y=\"0\" width=\"55\" height=\"55\" style=\"fill:#ffff69;stroke-width:2;stroke:rgb(255,255,255)\"/><rect x=\"55\" y=\"0\" width=\"55\" height=\"55\" style=\"fill:#fff807;stroke-width:2;stroke:rgb(255,255,255)\"/><rect x=\"110\" y=\"0\" width=\"55\" height=\"55\" style=\"fill:#ffe01f;stroke-width:2;stroke:rgb(255,255,255)\"/><rect x=\"165\" y=\"0\" width=\"55\" height=\"55\" style=\"fill:#ffc837;stroke-width:2;stroke:rgb(255,255,255)\"/><rect x=\"220\" y=\"0\" width=\"55\" height=\"55\" style=\"fill:#ffb04f;stroke-width:2;stroke:rgb(255,255,255)\"/><rect x=\"275\" y=\"0\" width=\"55\" height=\"55\" style=\"fill:#ff9669;stroke-width:2;stroke:rgb(255,255,255)\"/><rect x=\"330\" y=\"0\" width=\"55\" height=\"55\" style=\"fill:#ff7e81;stroke-width:2;stroke:rgb(255,255,255)\"/><rect x=\"385\" y=\"0\" width=\"55\" height=\"55\" style=\"fill:#ff6699;stroke-width:2;stroke:rgb(255,255,255)\"/><rect x=\"440\" y=\"0\" width=\"55\" height=\"55\" style=\"fill:#ff4eb1;stroke-width:2;stroke:rgb(255,255,255)\"/><rect x=\"495\" y=\"0\" width=\"55\" height=\"55\" style=\"fill:#dc36c9;stroke-width:2;stroke:rgb(255,255,255)\"/><rect x=\"550\" y=\"0\" width=\"55\" height=\"55\" style=\"fill:#b31ce3;stroke-width:2;stroke:rgb(255,255,255)\"/><rect x=\"605\" y=\"0\" width=\"55\" height=\"55\" style=\"fill:#8d04fb;stroke-width:2;stroke:rgb(255,255,255)\"/><rect x=\"660\" y=\"0\" width=\"55\" height=\"55\" style=\"fill:#6800ff;stroke-width:2;stroke:rgb(255,255,255)\"/><rect x=\"715\" y=\"0\" width=\"55\" height=\"55\" style=\"fill:#4200ff;stroke-width:2;stroke:rgb(255,255,255)\"/><rect x=\"770\" y=\"0\" width=\"55\" height=\"55\" style=\"fill:#1d00ff;stroke-width:2;stroke:rgb(255,255,255)\"/><rect x=\"825\" y=\"0\" width=\"55\" height=\"55\" style=\"fill:#0000f0;stroke-width:2;stroke:rgb(255,255,255)\"/><rect x=\"880\" y=\"0\" width=\"55\" height=\"55\" style=\"fill:#0000c0;stroke-width:2;stroke:rgb(255,255,255)\"/><rect x=\"935\" y=\"0\" width=\"55\" height=\"55\" style=\"fill:#000090;stroke-width:2;stroke:rgb(255,255,255)\"/><rect x=\"990\" y=\"0\" width=\"55\" height=\"55\" style=\"fill:#000060;stroke-width:2;stroke:rgb(255,255,255)\"/><rect x=\"1045\" y=\"0\" width=\"55\" height=\"55\" style=\"fill:#000030;stroke-width:2;stroke:rgb(255,255,255)\"/></svg>"
      ],
      "text/plain": [
       "[(1.0, 1.0, 0.4117647058823515),\n",
       " (1.0, 0.971764705882353, 0.028235294117647136),\n",
       " (1.0, 0.8776470588235296, 0.12235294117647055),\n",
       " (1.0, 0.7835294117647059, 0.2164705882352942),\n",
       " (1.0, 0.6894117647058823, 0.31058823529411783),\n",
       " (1.0, 0.5874509803921569, 0.4125490196078432),\n",
       " (1.0, 0.4933333333333335, 0.5066666666666666),\n",
       " (1.0, 0.3992156862745099, 0.6007843137254902),\n",
       " (1.0, 0.30509803921568623, 0.6949019607843139),\n",
       " (0.860906862745098, 0.21098039215686282, 0.7890196078431373),\n",
       " (0.7015931372549018, 0.10901960784313725, 0.8909803921568629),\n",
       " (0.5545343137254903, 0.014901960784313828, 0.9850980392156863),\n",
       " (0.4074754901960784, 0.0, 1.0),\n",
       " (0.26041666666666674, 0.0, 1.0),\n",
       " (0.11335784313725483, 0.0, 1.0),\n",
       " (0.0, 0.0, 0.9411764705882355),\n",
       " (0.0, 0.0, 0.7529411764705882),\n",
       " (0.0, 0.0, 0.5647058823529414),\n",
       " (0.0, 0.0, 0.3764705882352941),\n",
       " (0.0, 0.0, 0.18823529411764728)]"
      ]
     },
     "metadata": {},
     "output_type": "display_data"
    },
    {
     "name": "stdout",
     "output_type": "stream",
     "text": [
      "gnuplot_r\n"
     ]
    },
    {
     "data": {
      "text/html": [
       "<svg  width=\"1100\" height=\"55\"><rect x=\"0\" y=\"0\" width=\"55\" height=\"55\" style=\"fill:#f9dd00;stroke-width:2;stroke:rgb(255,255,255)\"/><rect x=\"55\" y=\"0\" width=\"55\" height=\"55\" style=\"fill:#f3be00;stroke-width:2;stroke:rgb(255,255,255)\"/><rect x=\"110\" y=\"0\" width=\"55\" height=\"55\" style=\"fill:#eca200;stroke-width:2;stroke:rgb(255,255,255)\"/><rect x=\"165\" y=\"0\" width=\"55\" height=\"55\" style=\"fill:#e68800;stroke-width:2;stroke:rgb(255,255,255)\"/><rect x=\"220\" y=\"0\" width=\"55\" height=\"55\" style=\"fill:#df7200;stroke-width:2;stroke:rgb(255,255,255)\"/><rect x=\"275\" y=\"0\" width=\"55\" height=\"55\" style=\"fill:#d75d00;stroke-width:2;stroke:rgb(255,255,255)\"/><rect x=\"330\" y=\"0\" width=\"55\" height=\"55\" style=\"fill:#d04c00;stroke-width:2;stroke:rgb(255,255,255)\"/><rect x=\"385\" y=\"0\" width=\"55\" height=\"55\" style=\"fill:#c93d00;stroke-width:2;stroke:rgb(255,255,255)\"/><rect x=\"440\" y=\"0\" width=\"55\" height=\"55\" style=\"fill:#c13000;stroke-width:2;stroke:rgb(255,255,255)\"/><rect x=\"495\" y=\"0\" width=\"55\" height=\"55\" style=\"fill:#b92500;stroke-width:2;stroke:rgb(255,255,255)\"/><rect x=\"550\" y=\"0\" width=\"55\" height=\"55\" style=\"fill:#b01b29;stroke-width:2;stroke:rgb(255,255,255)\"/><rect x=\"605\" y=\"0\" width=\"55\" height=\"55\" style=\"fill:#a71470;stroke-width:2;stroke:rgb(255,255,255)\"/><rect x=\"660\" y=\"0\" width=\"55\" height=\"55\" style=\"fill:#9d0eae;stroke-width:2;stroke:rgb(255,255,255)\"/><rect x=\"715\" y=\"0\" width=\"55\" height=\"55\" style=\"fill:#9309dd;stroke-width:2;stroke:rgb(255,255,255)\"/><rect x=\"770\" y=\"0\" width=\"55\" height=\"55\" style=\"fill:#8806f8;stroke-width:2;stroke:rgb(255,255,255)\"/><rect x=\"825\" y=\"0\" width=\"55\" height=\"55\" style=\"fill:#7c03fe;stroke-width:2;stroke:rgb(255,255,255)\"/><rect x=\"880\" y=\"0\" width=\"55\" height=\"55\" style=\"fill:#6f02ec;stroke-width:2;stroke:rgb(255,255,255)\"/><rect x=\"935\" y=\"0\" width=\"55\" height=\"55\" style=\"fill:#6001c6;stroke-width:2;stroke:rgb(255,255,255)\"/><rect x=\"990\" y=\"0\" width=\"55\" height=\"55\" style=\"fill:#4e008e;stroke-width:2;stroke:rgb(255,255,255)\"/><rect x=\"1045\" y=\"0\" width=\"55\" height=\"55\" style=\"fill:#37004a;stroke-width:2;stroke:rgb(255,255,255)\"/></svg>"
      ],
      "text/plain": [
       "[(0.9761870601839527, 0.8653629147160593, 0.0),\n",
       " (0.9517785209496884, 0.7433877467942194, 0.0),\n",
       " (0.9267273220380225, 0.6334492163647467, 0.0),\n",
       " (0.9009798587550961, 0.5349220435579076, 0.0),\n",
       " (0.8744746321952062, 0.44718094850396894, 0.0),\n",
       " (0.8448227566750782, 0.36357467339107885, 0.0),\n",
       " (0.816496580927726, 0.2962962962962964, 0.0),\n",
       " (0.787151728154906, 0.23787605068940304, 0.0),\n",
       " (0.7566696898963531, 0.18768865670066562, 0.0),\n",
       " (0.7249070258167122, 0.14510883446035086, 0.0),\n",
       " (0.6888467201936644, 0.10684041582799977, 0.1594757912099809),\n",
       " (0.6537973542254182, 0.07810142403751198, 0.4402157408309871),\n",
       " (0.6167593994928209, 0.055042057730435495, 0.6827488552151856),\n",
       " (0.5773502691896258, 0.03703703703703705, 0.8660254037844386),\n",
       " (0.5350462688440333, 0.023461082087583202, 0.9741386021045102),\n",
       " (0.485071250072666, 0.013026663952778352, 0.9957341762950346),\n",
       " (0.4338609156373123, 0.006669651943822512, 0.9256376597815562),\n",
       " (0.3757345746510898, 0.002813759413800125, 0.77520397611113),\n",
       " (0.3067859955389482, 0.000833706492977814, 0.5574894393428855),\n",
       " (0.2169304578186563, 0.00010421331162222711, 0.29138974688932495)]"
      ]
     },
     "metadata": {},
     "output_type": "display_data"
    },
    {
     "name": "stdout",
     "output_type": "stream",
     "text": [
      "gray\n"
     ]
    },
    {
     "data": {
      "text/html": [
       "<svg  width=\"1100\" height=\"55\"><rect x=\"0\" y=\"0\" width=\"55\" height=\"55\" style=\"fill:#0c0c0c;stroke-width:2;stroke:rgb(255,255,255)\"/><rect x=\"55\" y=\"0\" width=\"55\" height=\"55\" style=\"fill:#181818;stroke-width:2;stroke:rgb(255,255,255)\"/><rect x=\"110\" y=\"0\" width=\"55\" height=\"55\" style=\"fill:#242424;stroke-width:2;stroke:rgb(255,255,255)\"/><rect x=\"165\" y=\"0\" width=\"55\" height=\"55\" style=\"fill:#303030;stroke-width:2;stroke:rgb(255,255,255)\"/><rect x=\"220\" y=\"0\" width=\"55\" height=\"55\" style=\"fill:#3c3c3c;stroke-width:2;stroke:rgb(255,255,255)\"/><rect x=\"275\" y=\"0\" width=\"55\" height=\"55\" style=\"fill:#494949;stroke-width:2;stroke:rgb(255,255,255)\"/><rect x=\"330\" y=\"0\" width=\"55\" height=\"55\" style=\"fill:#555555;stroke-width:2;stroke:rgb(255,255,255)\"/><rect x=\"385\" y=\"0\" width=\"55\" height=\"55\" style=\"fill:#616161;stroke-width:2;stroke:rgb(255,255,255)\"/><rect x=\"440\" y=\"0\" width=\"55\" height=\"55\" style=\"fill:#6d6d6d;stroke-width:2;stroke:rgb(255,255,255)\"/><rect x=\"495\" y=\"0\" width=\"55\" height=\"55\" style=\"fill:#797979;stroke-width:2;stroke:rgb(255,255,255)\"/><rect x=\"550\" y=\"0\" width=\"55\" height=\"55\" style=\"fill:#868686;stroke-width:2;stroke:rgb(255,255,255)\"/><rect x=\"605\" y=\"0\" width=\"55\" height=\"55\" style=\"fill:#929292;stroke-width:2;stroke:rgb(255,255,255)\"/><rect x=\"660\" y=\"0\" width=\"55\" height=\"55\" style=\"fill:#9e9e9e;stroke-width:2;stroke:rgb(255,255,255)\"/><rect x=\"715\" y=\"0\" width=\"55\" height=\"55\" style=\"fill:#aaaaaa;stroke-width:2;stroke:rgb(255,255,255)\"/><rect x=\"770\" y=\"0\" width=\"55\" height=\"55\" style=\"fill:#b6b6b6;stroke-width:2;stroke:rgb(255,255,255)\"/><rect x=\"825\" y=\"0\" width=\"55\" height=\"55\" style=\"fill:#c3c3c3;stroke-width:2;stroke:rgb(255,255,255)\"/><rect x=\"880\" y=\"0\" width=\"55\" height=\"55\" style=\"fill:#cfcfcf;stroke-width:2;stroke:rgb(255,255,255)\"/><rect x=\"935\" y=\"0\" width=\"55\" height=\"55\" style=\"fill:#dbdbdb;stroke-width:2;stroke:rgb(255,255,255)\"/><rect x=\"990\" y=\"0\" width=\"55\" height=\"55\" style=\"fill:#e7e7e7;stroke-width:2;stroke:rgb(255,255,255)\"/><rect x=\"1045\" y=\"0\" width=\"55\" height=\"55\" style=\"fill:#f3f3f3;stroke-width:2;stroke:rgb(255,255,255)\"/></svg>"
      ],
      "text/plain": [
       "[(0.047058823529411764, 0.047058823529411764, 0.047058823529411764),\n",
       " (0.09411764705882353, 0.09411764705882353, 0.09411764705882353),\n",
       " (0.1411764705882353, 0.1411764705882353, 0.1411764705882353),\n",
       " (0.18823529411764706, 0.18823529411764706, 0.18823529411764706),\n",
       " (0.23529411764705882, 0.23529411764705882, 0.23529411764705882),\n",
       " (0.28627450980392155, 0.28627450980392155, 0.28627450980392155),\n",
       " (0.3333333333333333, 0.3333333333333333, 0.3333333333333333),\n",
       " (0.3803921568627451, 0.3803921568627451, 0.3803921568627451),\n",
       " (0.42745098039215684, 0.42745098039215684, 0.42745098039215684),\n",
       " (0.4745098039215686, 0.4745098039215686, 0.4745098039215686),\n",
       " (0.5254901960784314, 0.5254901960784314, 0.5254901960784314),\n",
       " (0.5725490196078431, 0.5725490196078431, 0.5725490196078431),\n",
       " (0.6196078431372549, 0.6196078431372549, 0.6196078431372549),\n",
       " (0.6666666666666666, 0.6666666666666666, 0.6666666666666666),\n",
       " (0.7137254901960784, 0.7137254901960784, 0.7137254901960784),\n",
       " (0.7647058823529411, 0.7647058823529411, 0.7647058823529411),\n",
       " (0.8117647058823529, 0.8117647058823529, 0.8117647058823529),\n",
       " (0.8588235294117647, 0.8588235294117647, 0.8588235294117647),\n",
       " (0.9058823529411765, 0.9058823529411765, 0.9058823529411765),\n",
       " (0.9529411764705882, 0.9529411764705882, 0.9529411764705882)]"
      ]
     },
     "metadata": {},
     "output_type": "display_data"
    },
    {
     "name": "stdout",
     "output_type": "stream",
     "text": [
      "gray_r\n"
     ]
    },
    {
     "data": {
      "text/html": [
       "<svg  width=\"1100\" height=\"55\"><rect x=\"0\" y=\"0\" width=\"55\" height=\"55\" style=\"fill:#f3f3f3;stroke-width:2;stroke:rgb(255,255,255)\"/><rect x=\"55\" y=\"0\" width=\"55\" height=\"55\" style=\"fill:#e7e7e7;stroke-width:2;stroke:rgb(255,255,255)\"/><rect x=\"110\" y=\"0\" width=\"55\" height=\"55\" style=\"fill:#dbdbdb;stroke-width:2;stroke:rgb(255,255,255)\"/><rect x=\"165\" y=\"0\" width=\"55\" height=\"55\" style=\"fill:#cfcfcf;stroke-width:2;stroke:rgb(255,255,255)\"/><rect x=\"220\" y=\"0\" width=\"55\" height=\"55\" style=\"fill:#c3c3c3;stroke-width:2;stroke:rgb(255,255,255)\"/><rect x=\"275\" y=\"0\" width=\"55\" height=\"55\" style=\"fill:#b6b6b6;stroke-width:2;stroke:rgb(255,255,255)\"/><rect x=\"330\" y=\"0\" width=\"55\" height=\"55\" style=\"fill:#aaaaaa;stroke-width:2;stroke:rgb(255,255,255)\"/><rect x=\"385\" y=\"0\" width=\"55\" height=\"55\" style=\"fill:#9e9e9e;stroke-width:2;stroke:rgb(255,255,255)\"/><rect x=\"440\" y=\"0\" width=\"55\" height=\"55\" style=\"fill:#929292;stroke-width:2;stroke:rgb(255,255,255)\"/><rect x=\"495\" y=\"0\" width=\"55\" height=\"55\" style=\"fill:#868686;stroke-width:2;stroke:rgb(255,255,255)\"/><rect x=\"550\" y=\"0\" width=\"55\" height=\"55\" style=\"fill:#797979;stroke-width:2;stroke:rgb(255,255,255)\"/><rect x=\"605\" y=\"0\" width=\"55\" height=\"55\" style=\"fill:#6d6d6d;stroke-width:2;stroke:rgb(255,255,255)\"/><rect x=\"660\" y=\"0\" width=\"55\" height=\"55\" style=\"fill:#616161;stroke-width:2;stroke:rgb(255,255,255)\"/><rect x=\"715\" y=\"0\" width=\"55\" height=\"55\" style=\"fill:#555555;stroke-width:2;stroke:rgb(255,255,255)\"/><rect x=\"770\" y=\"0\" width=\"55\" height=\"55\" style=\"fill:#494949;stroke-width:2;stroke:rgb(255,255,255)\"/><rect x=\"825\" y=\"0\" width=\"55\" height=\"55\" style=\"fill:#3c3c3c;stroke-width:2;stroke:rgb(255,255,255)\"/><rect x=\"880\" y=\"0\" width=\"55\" height=\"55\" style=\"fill:#303030;stroke-width:2;stroke:rgb(255,255,255)\"/><rect x=\"935\" y=\"0\" width=\"55\" height=\"55\" style=\"fill:#242424;stroke-width:2;stroke:rgb(255,255,255)\"/><rect x=\"990\" y=\"0\" width=\"55\" height=\"55\" style=\"fill:#181818;stroke-width:2;stroke:rgb(255,255,255)\"/><rect x=\"1045\" y=\"0\" width=\"55\" height=\"55\" style=\"fill:#0c0c0c;stroke-width:2;stroke:rgb(255,255,255)\"/></svg>"
      ],
      "text/plain": [
       "[(0.9529411764705882, 0.9529411764705882, 0.9529411764705882),\n",
       " (0.9058823529411765, 0.9058823529411765, 0.9058823529411765),\n",
       " (0.8588235294117648, 0.8588235294117648, 0.8588235294117648),\n",
       " (0.8117647058823529, 0.8117647058823529, 0.8117647058823529),\n",
       " (0.7647058823529411, 0.7647058823529411, 0.7647058823529411),\n",
       " (0.7137254901960784, 0.7137254901960784, 0.7137254901960784),\n",
       " (0.6666666666666667, 0.6666666666666667, 0.6666666666666667),\n",
       " (0.6196078431372549, 0.6196078431372549, 0.6196078431372549),\n",
       " (0.5725490196078431, 0.5725490196078431, 0.5725490196078431),\n",
       " (0.5254901960784314, 0.5254901960784314, 0.5254901960784314),\n",
       " (0.4745098039215686, 0.4745098039215686, 0.4745098039215686),\n",
       " (0.4274509803921569, 0.4274509803921569, 0.4274509803921569),\n",
       " (0.3803921568627451, 0.3803921568627451, 0.3803921568627451),\n",
       " (0.33333333333333337, 0.33333333333333337, 0.33333333333333337),\n",
       " (0.28627450980392155, 0.28627450980392155, 0.28627450980392155),\n",
       " (0.23529411764705888, 0.23529411764705888, 0.23529411764705888),\n",
       " (0.18823529411764706, 0.18823529411764706, 0.18823529411764706),\n",
       " (0.14117647058823535, 0.14117647058823535, 0.14117647058823535),\n",
       " (0.09411764705882353, 0.09411764705882353, 0.09411764705882353),\n",
       " (0.04705882352941182, 0.04705882352941182, 0.04705882352941182)]"
      ]
     },
     "metadata": {},
     "output_type": "display_data"
    },
    {
     "name": "stdout",
     "output_type": "stream",
     "text": [
      "hot\n"
     ]
    },
    {
     "data": {
      "text/html": [
       "<svg  width=\"1100\" height=\"55\"><rect x=\"0\" y=\"0\" width=\"55\" height=\"55\" style=\"fill:#2a0000;stroke-width:2;stroke:rgb(255,255,255)\"/><rect x=\"55\" y=\"0\" width=\"55\" height=\"55\" style=\"fill:#4a0000;stroke-width:2;stroke:rgb(255,255,255)\"/><rect x=\"110\" y=\"0\" width=\"55\" height=\"55\" style=\"fill:#690000;stroke-width:2;stroke:rgb(255,255,255)\"/><rect x=\"165\" y=\"0\" width=\"55\" height=\"55\" style=\"fill:#890000;stroke-width:2;stroke:rgb(255,255,255)\"/><rect x=\"220\" y=\"0\" width=\"55\" height=\"55\" style=\"fill:#a80000;stroke-width:2;stroke:rgb(255,255,255)\"/><rect x=\"275\" y=\"0\" width=\"55\" height=\"55\" style=\"fill:#ca0000;stroke-width:2;stroke:rgb(255,255,255)\"/><rect x=\"330\" y=\"0\" width=\"55\" height=\"55\" style=\"fill:#ea0000;stroke-width:2;stroke:rgb(255,255,255)\"/><rect x=\"385\" y=\"0\" width=\"55\" height=\"55\" style=\"fill:#ff0a00;stroke-width:2;stroke:rgb(255,255,255)\"/><rect x=\"440\" y=\"0\" width=\"55\" height=\"55\" style=\"fill:#ff2a00;stroke-width:2;stroke:rgb(255,255,255)\"/><rect x=\"495\" y=\"0\" width=\"55\" height=\"55\" style=\"fill:#ff4900;stroke-width:2;stroke:rgb(255,255,255)\"/><rect x=\"550\" y=\"0\" width=\"55\" height=\"55\" style=\"fill:#ff6b00;stroke-width:2;stroke:rgb(255,255,255)\"/><rect x=\"605\" y=\"0\" width=\"55\" height=\"55\" style=\"fill:#ff8b00;stroke-width:2;stroke:rgb(255,255,255)\"/><rect x=\"660\" y=\"0\" width=\"55\" height=\"55\" style=\"fill:#ffaa00;stroke-width:2;stroke:rgb(255,255,255)\"/><rect x=\"715\" y=\"0\" width=\"55\" height=\"55\" style=\"fill:#ffca00;stroke-width:2;stroke:rgb(255,255,255)\"/><rect x=\"770\" y=\"0\" width=\"55\" height=\"55\" style=\"fill:#ffe900;stroke-width:2;stroke:rgb(255,255,255)\"/><rect x=\"825\" y=\"0\" width=\"55\" height=\"55\" style=\"fill:#ffff13;stroke-width:2;stroke:rgb(255,255,255)\"/><rect x=\"880\" y=\"0\" width=\"55\" height=\"55\" style=\"fill:#ffff42;stroke-width:2;stroke:rgb(255,255,255)\"/><rect x=\"935\" y=\"0\" width=\"55\" height=\"55\" style=\"fill:#ffff71;stroke-width:2;stroke:rgb(255,255,255)\"/><rect x=\"990\" y=\"0\" width=\"55\" height=\"55\" style=\"fill:#ffffa0;stroke-width:2;stroke:rgb(255,255,255)\"/><rect x=\"1045\" y=\"0\" width=\"55\" height=\"55\" style=\"fill:#ffffd0;stroke-width:2;stroke:rgb(255,255,255)\"/></svg>"
      ],
      "text/plain": [
       "[(0.1651381286532182, 0.0, 0.0),\n",
       " (0.28867625730643637, 0.0, 0.0),\n",
       " (0.41221438595965454, 0.0, 0.0),\n",
       " (0.5357525146128728, 0.0, 0.0),\n",
       " (0.6592906432660908, 0.0, 0.0),\n",
       " (0.7931236159737438, 0.0, 0.0),\n",
       " (0.9166617446269619, 0.0, 0.0),\n",
       " (1.0, 0.040196971444627264, 0.0),\n",
       " (1.0, 0.16372618247436524, 0.0),\n",
       " (1.0, 0.28725539350410323, 0.0),\n",
       " (1.0, 0.421078705452986, 0.0),\n",
       " (1.0, 0.544607916482724, 0.0),\n",
       " (1.0, 0.6681371275124619, 0.0),\n",
       " (1.0, 0.7916663385421999, 0.0),\n",
       " (1.0, 0.9151955495719379, 0.0),\n",
       " (1.0, 1.0, 0.07352848529319127),\n",
       " (1.0, 1.0, 0.258822788234553),\n",
       " (1.0, 1.0, 0.44411709117591475),\n",
       " (1.0, 1.0, 0.6294113941172765),\n",
       " (1.0, 1.0, 0.8147056970586383)]"
      ]
     },
     "metadata": {},
     "output_type": "display_data"
    },
    {
     "name": "stdout",
     "output_type": "stream",
     "text": [
      "hot_r\n"
     ]
    },
    {
     "data": {
      "text/html": [
       "<svg  width=\"1100\" height=\"55\"><rect x=\"0\" y=\"0\" width=\"55\" height=\"55\" style=\"fill:#ffffd0;stroke-width:2;stroke:rgb(255,255,255)\"/><rect x=\"55\" y=\"0\" width=\"55\" height=\"55\" style=\"fill:#ffffa0;stroke-width:2;stroke:rgb(255,255,255)\"/><rect x=\"110\" y=\"0\" width=\"55\" height=\"55\" style=\"fill:#ffff71;stroke-width:2;stroke:rgb(255,255,255)\"/><rect x=\"165\" y=\"0\" width=\"55\" height=\"55\" style=\"fill:#ffff42;stroke-width:2;stroke:rgb(255,255,255)\"/><rect x=\"220\" y=\"0\" width=\"55\" height=\"55\" style=\"fill:#ffff13;stroke-width:2;stroke:rgb(255,255,255)\"/><rect x=\"275\" y=\"0\" width=\"55\" height=\"55\" style=\"fill:#ffe900;stroke-width:2;stroke:rgb(255,255,255)\"/><rect x=\"330\" y=\"0\" width=\"55\" height=\"55\" style=\"fill:#ffca00;stroke-width:2;stroke:rgb(255,255,255)\"/><rect x=\"385\" y=\"0\" width=\"55\" height=\"55\" style=\"fill:#ffaa00;stroke-width:2;stroke:rgb(255,255,255)\"/><rect x=\"440\" y=\"0\" width=\"55\" height=\"55\" style=\"fill:#ff8b00;stroke-width:2;stroke:rgb(255,255,255)\"/><rect x=\"495\" y=\"0\" width=\"55\" height=\"55\" style=\"fill:#ff6b00;stroke-width:2;stroke:rgb(255,255,255)\"/><rect x=\"550\" y=\"0\" width=\"55\" height=\"55\" style=\"fill:#ff4900;stroke-width:2;stroke:rgb(255,255,255)\"/><rect x=\"605\" y=\"0\" width=\"55\" height=\"55\" style=\"fill:#ff2a00;stroke-width:2;stroke:rgb(255,255,255)\"/><rect x=\"660\" y=\"0\" width=\"55\" height=\"55\" style=\"fill:#ff0a00;stroke-width:2;stroke:rgb(255,255,255)\"/><rect x=\"715\" y=\"0\" width=\"55\" height=\"55\" style=\"fill:#ea0000;stroke-width:2;stroke:rgb(255,255,255)\"/><rect x=\"770\" y=\"0\" width=\"55\" height=\"55\" style=\"fill:#ca0000;stroke-width:2;stroke:rgb(255,255,255)\"/><rect x=\"825\" y=\"0\" width=\"55\" height=\"55\" style=\"fill:#a80000;stroke-width:2;stroke:rgb(255,255,255)\"/><rect x=\"880\" y=\"0\" width=\"55\" height=\"55\" style=\"fill:#890000;stroke-width:2;stroke:rgb(255,255,255)\"/><rect x=\"935\" y=\"0\" width=\"55\" height=\"55\" style=\"fill:#690000;stroke-width:2;stroke:rgb(255,255,255)\"/><rect x=\"990\" y=\"0\" width=\"55\" height=\"55\" style=\"fill:#4a0000;stroke-width:2;stroke:rgb(255,255,255)\"/><rect x=\"1045\" y=\"0\" width=\"55\" height=\"55\" style=\"fill:#2a0000;stroke-width:2;stroke:rgb(255,255,255)\"/></svg>"
      ],
      "text/plain": [
       "[(1.0, 1.0, 0.8147056970586382),\n",
       " (1.0, 1.0, 0.6294113941172764),\n",
       " (1.0, 1.0, 0.4441170911759147),\n",
       " (1.0, 1.0, 0.25882278823455285),\n",
       " (1.0, 1.0, 0.07352848529319111),\n",
       " (1.0, 0.9151955495719377, 0.0),\n",
       " (1.0, 0.7916663385421998, 0.0),\n",
       " (1.0, 0.6681371275124619, 0.0),\n",
       " (1.0, 0.544607916482724, 0.0),\n",
       " (1.0, 0.4210787054529861, 0.0),\n",
       " (1.0, 0.28725539350410334, 0.0),\n",
       " (1.0, 0.16372618247436543, 0.0),\n",
       " (1.0, 0.04019697144462753, 0.0),\n",
       " (0.9166617446269623, 0.0, 0.0),\n",
       " (0.793123615973744, 0.0, 0.0),\n",
       " (0.659290643266091, 0.0, 0.0),\n",
       " (0.5357525146128728, 0.0, 0.0),\n",
       " (0.41221438595965454, 0.0, 0.0),\n",
       " (0.2886762573064363, 0.0, 0.0),\n",
       " (0.1651381286532182, 0.0, 0.0)]"
      ]
     },
     "metadata": {},
     "output_type": "display_data"
    },
    {
     "name": "stdout",
     "output_type": "stream",
     "text": [
      "hsv\n"
     ]
    },
    {
     "data": {
      "text/html": [
       "<svg  width=\"1100\" height=\"55\"><rect x=\"0\" y=\"0\" width=\"55\" height=\"55\" style=\"fill:#ff4700;stroke-width:2;stroke:rgb(255,255,255)\"/><rect x=\"55\" y=\"0\" width=\"55\" height=\"55\" style=\"fill:#ff8e00;stroke-width:2;stroke:rgb(255,255,255)\"/><rect x=\"110\" y=\"0\" width=\"55\" height=\"55\" style=\"fill:#ffd500;stroke-width:2;stroke:rgb(255,255,255)\"/><rect x=\"165\" y=\"0\" width=\"55\" height=\"55\" style=\"fill:#e2ff00;stroke-width:2;stroke:rgb(255,255,255)\"/><rect x=\"220\" y=\"0\" width=\"55\" height=\"55\" style=\"fill:#9cff00;stroke-width:2;stroke:rgb(255,255,255)\"/><rect x=\"275\" y=\"0\" width=\"55\" height=\"55\" style=\"fill:#4fff00;stroke-width:2;stroke:rgb(255,255,255)\"/><rect x=\"330\" y=\"0\" width=\"55\" height=\"55\" style=\"fill:#08ff00;stroke-width:2;stroke:rgb(255,255,255)\"/><rect x=\"385\" y=\"0\" width=\"55\" height=\"55\" style=\"fill:#00ff3f;stroke-width:2;stroke:rgb(255,255,255)\"/><rect x=\"440\" y=\"0\" width=\"55\" height=\"55\" style=\"fill:#00ff86;stroke-width:2;stroke:rgb(255,255,255)\"/><rect x=\"495\" y=\"0\" width=\"55\" height=\"55\" style=\"fill:#00ffcd;stroke-width:2;stroke:rgb(255,255,255)\"/><rect x=\"550\" y=\"0\" width=\"55\" height=\"55\" style=\"fill:#00e5ff;stroke-width:2;stroke:rgb(255,255,255)\"/><rect x=\"605\" y=\"0\" width=\"55\" height=\"55\" style=\"fill:#009eff;stroke-width:2;stroke:rgb(255,255,255)\"/><rect x=\"660\" y=\"0\" width=\"55\" height=\"55\" style=\"fill:#0057ff;stroke-width:2;stroke:rgb(255,255,255)\"/><rect x=\"715\" y=\"0\" width=\"55\" height=\"55\" style=\"fill:#0010ff;stroke-width:2;stroke:rgb(255,255,255)\"/><rect x=\"770\" y=\"0\" width=\"55\" height=\"55\" style=\"fill:#3700ff;stroke-width:2;stroke:rgb(255,255,255)\"/><rect x=\"825\" y=\"0\" width=\"55\" height=\"55\" style=\"fill:#8400ff;stroke-width:2;stroke:rgb(255,255,255)\"/><rect x=\"880\" y=\"0\" width=\"55\" height=\"55\" style=\"fill:#cb00ff;stroke-width:2;stroke:rgb(255,255,255)\"/><rect x=\"935\" y=\"0\" width=\"55\" height=\"55\" style=\"fill:#ff00ed;stroke-width:2;stroke:rgb(255,255,255)\"/><rect x=\"990\" y=\"0\" width=\"55\" height=\"55\" style=\"fill:#ff00a6;stroke-width:2;stroke:rgb(255,255,255)\"/><rect x=\"1045\" y=\"0\" width=\"55\" height=\"55\" style=\"fill:#ff005f;stroke-width:2;stroke:rgb(255,255,255)\"/></svg>"
      ],
      "text/plain": [
       "[(1.0, 0.2779414544120426, 0.0),\n",
       " (1.0, 0.5558829088240852, 0.0),\n",
       " (1.0, 0.8338243632361279, 0.0),\n",
       " (0.8882341823518295, 1.0, 0.0),\n",
       " (0.6102927279397868, 1.0, 0.0),\n",
       " (0.309189485660074, 1.0, 0.0),\n",
       " (0.03124934374934376, 1.0, 1.3125013124790507e-06),\n",
       " (0.0, 1.0, 0.2466922627515955),\n",
       " (0.0, 1.0, 0.5246319661417559),\n",
       " (0.0, 1.0, 0.8025716695319163),\n",
       " (0.0, 0.8963263319880966, 1.0),\n",
       " (0.0, 0.6183848775760541, 1.0),\n",
       " (0.0, 0.34044342316401155, 1.0),\n",
       " (0.0, 0.062501968751969, 1.0),\n",
       " (0.2154394856600736, 0.0, 1.0),\n",
       " (0.5165427279397867, 0.0, 1.0),\n",
       " (0.7944841823518297, 0.0, 1.0),\n",
       " (1.0, 0.0, 0.9275743632361277),\n",
       " (1.0, 0.0, 0.6496329088240851),\n",
       " (1.0, 0.0, 0.37169145441204254)]"
      ]
     },
     "metadata": {},
     "output_type": "display_data"
    },
    {
     "name": "stdout",
     "output_type": "stream",
     "text": [
      "hsv_r\n"
     ]
    },
    {
     "data": {
      "text/html": [
       "<svg  width=\"1100\" height=\"55\"><rect x=\"0\" y=\"0\" width=\"55\" height=\"55\" style=\"fill:#ff005f;stroke-width:2;stroke:rgb(255,255,255)\"/><rect x=\"55\" y=\"0\" width=\"55\" height=\"55\" style=\"fill:#ff00a6;stroke-width:2;stroke:rgb(255,255,255)\"/><rect x=\"110\" y=\"0\" width=\"55\" height=\"55\" style=\"fill:#ff00ed;stroke-width:2;stroke:rgb(255,255,255)\"/><rect x=\"165\" y=\"0\" width=\"55\" height=\"55\" style=\"fill:#cb00ff;stroke-width:2;stroke:rgb(255,255,255)\"/><rect x=\"220\" y=\"0\" width=\"55\" height=\"55\" style=\"fill:#8400ff;stroke-width:2;stroke:rgb(255,255,255)\"/><rect x=\"275\" y=\"0\" width=\"55\" height=\"55\" style=\"fill:#3700ff;stroke-width:2;stroke:rgb(255,255,255)\"/><rect x=\"330\" y=\"0\" width=\"55\" height=\"55\" style=\"fill:#0010ff;stroke-width:2;stroke:rgb(255,255,255)\"/><rect x=\"385\" y=\"0\" width=\"55\" height=\"55\" style=\"fill:#0057ff;stroke-width:2;stroke:rgb(255,255,255)\"/><rect x=\"440\" y=\"0\" width=\"55\" height=\"55\" style=\"fill:#009eff;stroke-width:2;stroke:rgb(255,255,255)\"/><rect x=\"495\" y=\"0\" width=\"55\" height=\"55\" style=\"fill:#00e5ff;stroke-width:2;stroke:rgb(255,255,255)\"/><rect x=\"550\" y=\"0\" width=\"55\" height=\"55\" style=\"fill:#00ffcd;stroke-width:2;stroke:rgb(255,255,255)\"/><rect x=\"605\" y=\"0\" width=\"55\" height=\"55\" style=\"fill:#00ff86;stroke-width:2;stroke:rgb(255,255,255)\"/><rect x=\"660\" y=\"0\" width=\"55\" height=\"55\" style=\"fill:#00ff3f;stroke-width:2;stroke:rgb(255,255,255)\"/><rect x=\"715\" y=\"0\" width=\"55\" height=\"55\" style=\"fill:#08ff00;stroke-width:2;stroke:rgb(255,255,255)\"/><rect x=\"770\" y=\"0\" width=\"55\" height=\"55\" style=\"fill:#4fff00;stroke-width:2;stroke:rgb(255,255,255)\"/><rect x=\"825\" y=\"0\" width=\"55\" height=\"55\" style=\"fill:#9cff00;stroke-width:2;stroke:rgb(255,255,255)\"/><rect x=\"880\" y=\"0\" width=\"55\" height=\"55\" style=\"fill:#e2ff00;stroke-width:2;stroke:rgb(255,255,255)\"/><rect x=\"935\" y=\"0\" width=\"55\" height=\"55\" style=\"fill:#ffd500;stroke-width:2;stroke:rgb(255,255,255)\"/><rect x=\"990\" y=\"0\" width=\"55\" height=\"55\" style=\"fill:#ff8e00;stroke-width:2;stroke:rgb(255,255,255)\"/><rect x=\"1045\" y=\"0\" width=\"55\" height=\"55\" style=\"fill:#ff4700;stroke-width:2;stroke:rgb(255,255,255)\"/></svg>"
      ],
      "text/plain": [
       "[(1.0, 0.0, 0.37169145441204265),\n",
       " (1.0, 0.0, 0.6496329088240853),\n",
       " (1.0, 0.0, 0.9275743632361279),\n",
       " (0.7944841823518296, 0.0, 1.0),\n",
       " (0.5165427279397868, 0.0, 1.0),\n",
       " (0.21543948566007387, 0.0, 1.0),\n",
       " (0.0, 0.06250196875196871, 1.0),\n",
       " (0.0, 0.3404434231640113, 1.0),\n",
       " (0.0, 0.618384877576054, 1.0),\n",
       " (0.0, 0.8963263319880965, 1.0),\n",
       " (0.0, 1.0, 0.8025716695319163),\n",
       " (0.0, 1.0, 0.524631966141756),\n",
       " (0.0, 1.0, 0.24669226275159573),\n",
       " (0.031249343749343652, 1.0, 1.3125013126960572e-06),\n",
       " (0.30918948566007387, 1.0, 0.0),\n",
       " (0.610292727939787, 1.0, 0.0),\n",
       " (0.8882341823518299, 1.0, 0.0),\n",
       " (1.0, 0.8338243632361275, 0.0),\n",
       " (1.0, 0.5558829088240851, 0.0),\n",
       " (1.0, 0.27794145441204254, 0.0)]"
      ]
     },
     "metadata": {},
     "output_type": "display_data"
    },
    {
     "name": "stdout",
     "output_type": "stream",
     "text": [
      "icefire\n"
     ]
    },
    {
     "data": {
      "text/html": [
       "<svg  width=\"1100\" height=\"55\"><rect x=\"0\" y=\"0\" width=\"55\" height=\"55\" style=\"fill:#9bcfd3;stroke-width:2;stroke:rgb(255,255,255)\"/><rect x=\"55\" y=\"0\" width=\"55\" height=\"55\" style=\"fill:#78b9ce;stroke-width:2;stroke:rgb(255,255,255)\"/><rect x=\"110\" y=\"0\" width=\"55\" height=\"55\" style=\"fill:#55a3cd;stroke-width:2;stroke:rgb(255,255,255)\"/><rect x=\"165\" y=\"0\" width=\"55\" height=\"55\" style=\"fill:#3c8ccf;stroke-width:2;stroke:rgb(255,255,255)\"/><rect x=\"220\" y=\"0\" width=\"55\" height=\"55\" style=\"fill:#3b71cd;stroke-width:2;stroke:rgb(255,255,255)\"/><rect x=\"275\" y=\"0\" width=\"55\" height=\"55\" style=\"fill:#4954b0;stroke-width:2;stroke:rgb(255,255,255)\"/><rect x=\"330\" y=\"0\" width=\"55\" height=\"55\" style=\"fill:#444282;stroke-width:2;stroke:rgb(255,255,255)\"/><rect x=\"385\" y=\"0\" width=\"55\" height=\"55\" style=\"fill:#363459;stroke-width:2;stroke:rgb(255,255,255)\"/><rect x=\"440\" y=\"0\" width=\"55\" height=\"55\" style=\"fill:#282739;stroke-width:2;stroke:rgb(255,255,255)\"/><rect x=\"495\" y=\"0\" width=\"55\" height=\"55\" style=\"fill:#201f24;stroke-width:2;stroke:rgb(255,255,255)\"/><rect x=\"550\" y=\"0\" width=\"55\" height=\"55\" style=\"fill:#261e1f;stroke-width:2;stroke:rgb(255,255,255)\"/><rect x=\"605\" y=\"0\" width=\"55\" height=\"55\" style=\"fill:#3b2127;stroke-width:2;stroke:rgb(255,255,255)\"/><rect x=\"660\" y=\"0\" width=\"55\" height=\"55\" style=\"fill:#572833;stroke-width:2;stroke:rgb(255,255,255)\"/><rect x=\"715\" y=\"0\" width=\"55\" height=\"55\" style=\"fill:#782c3f;stroke-width:2;stroke:rgb(255,255,255)\"/><rect x=\"770\" y=\"0\" width=\"55\" height=\"55\" style=\"fill:#9c2f45;stroke-width:2;stroke:rgb(255,255,255)\"/><rect x=\"825\" y=\"0\" width=\"55\" height=\"55\" style=\"fill:#c0393d;stroke-width:2;stroke:rgb(255,255,255)\"/><rect x=\"880\" y=\"0\" width=\"55\" height=\"55\" style=\"fill:#d95034;stroke-width:2;stroke:rgb(255,255,255)\"/><rect x=\"935\" y=\"0\" width=\"55\" height=\"55\" style=\"fill:#e96f36;stroke-width:2;stroke:rgb(255,255,255)\"/><rect x=\"990\" y=\"0\" width=\"55\" height=\"55\" style=\"fill:#f29255;stroke-width:2;stroke:rgb(255,255,255)\"/><rect x=\"1045\" y=\"0\" width=\"55\" height=\"55\" style=\"fill:#f8b380;stroke-width:2;stroke:rgb(255,255,255)\"/></svg>"
      ],
      "text/plain": [
       "[(0.60879435, 0.81256797, 0.82648905),\n",
       " (0.46982587, 0.72703075, 0.80747097),\n",
       " (0.33355526, 0.64107876, 0.80445484),\n",
       " (0.23526251, 0.54739477, 0.8115939),\n",
       " (0.23176013, 0.44119137, 0.80494325),\n",
       " (0.28708711, 0.32912157, 0.69034504),\n",
       " (0.2659204, 0.25949691, 0.511417),\n",
       " (0.21074637, 0.20302717, 0.34903192),\n",
       " (0.15652427, 0.15348248, 0.22238175),\n",
       " (0.12442647, 0.12213143, 0.13992571),\n",
       " (0.148417, 0.11626929, 0.12125453),\n",
       " (0.22994394, 0.13076731, 0.15146314),\n",
       " (0.34119892, 0.15504762, 0.1996803),\n",
       " (0.47151732, 0.17401641, 0.24610337),\n",
       " (0.61319563, 0.1824336, 0.2687872),\n",
       " (0.75361506, 0.22163653, 0.24043996),\n",
       " (0.84995458, 0.31415945, 0.2057863),\n",
       " (0.91463791, 0.43668557, 0.21367954),\n",
       " (0.94792955, 0.57219822, 0.33184256),\n",
       " (0.97450723, 0.70187358, 0.50178034)]"
      ]
     },
     "metadata": {},
     "output_type": "display_data"
    },
    {
     "name": "stdout",
     "output_type": "stream",
     "text": [
      "icefire_r\n"
     ]
    },
    {
     "data": {
      "text/html": [
       "<svg  width=\"1100\" height=\"55\"><rect x=\"0\" y=\"0\" width=\"55\" height=\"55\" style=\"fill:#f8b380;stroke-width:2;stroke:rgb(255,255,255)\"/><rect x=\"55\" y=\"0\" width=\"55\" height=\"55\" style=\"fill:#f29255;stroke-width:2;stroke:rgb(255,255,255)\"/><rect x=\"110\" y=\"0\" width=\"55\" height=\"55\" style=\"fill:#e96f36;stroke-width:2;stroke:rgb(255,255,255)\"/><rect x=\"165\" y=\"0\" width=\"55\" height=\"55\" style=\"fill:#d95034;stroke-width:2;stroke:rgb(255,255,255)\"/><rect x=\"220\" y=\"0\" width=\"55\" height=\"55\" style=\"fill:#c0393d;stroke-width:2;stroke:rgb(255,255,255)\"/><rect x=\"275\" y=\"0\" width=\"55\" height=\"55\" style=\"fill:#9c2f45;stroke-width:2;stroke:rgb(255,255,255)\"/><rect x=\"330\" y=\"0\" width=\"55\" height=\"55\" style=\"fill:#782c3f;stroke-width:2;stroke:rgb(255,255,255)\"/><rect x=\"385\" y=\"0\" width=\"55\" height=\"55\" style=\"fill:#572833;stroke-width:2;stroke:rgb(255,255,255)\"/><rect x=\"440\" y=\"0\" width=\"55\" height=\"55\" style=\"fill:#3b2127;stroke-width:2;stroke:rgb(255,255,255)\"/><rect x=\"495\" y=\"0\" width=\"55\" height=\"55\" style=\"fill:#261e1f;stroke-width:2;stroke:rgb(255,255,255)\"/><rect x=\"550\" y=\"0\" width=\"55\" height=\"55\" style=\"fill:#201f24;stroke-width:2;stroke:rgb(255,255,255)\"/><rect x=\"605\" y=\"0\" width=\"55\" height=\"55\" style=\"fill:#282739;stroke-width:2;stroke:rgb(255,255,255)\"/><rect x=\"660\" y=\"0\" width=\"55\" height=\"55\" style=\"fill:#363459;stroke-width:2;stroke:rgb(255,255,255)\"/><rect x=\"715\" y=\"0\" width=\"55\" height=\"55\" style=\"fill:#444282;stroke-width:2;stroke:rgb(255,255,255)\"/><rect x=\"770\" y=\"0\" width=\"55\" height=\"55\" style=\"fill:#4954b0;stroke-width:2;stroke:rgb(255,255,255)\"/><rect x=\"825\" y=\"0\" width=\"55\" height=\"55\" style=\"fill:#3b71cd;stroke-width:2;stroke:rgb(255,255,255)\"/><rect x=\"880\" y=\"0\" width=\"55\" height=\"55\" style=\"fill:#3c8ccf;stroke-width:2;stroke:rgb(255,255,255)\"/><rect x=\"935\" y=\"0\" width=\"55\" height=\"55\" style=\"fill:#55a3cd;stroke-width:2;stroke:rgb(255,255,255)\"/><rect x=\"990\" y=\"0\" width=\"55\" height=\"55\" style=\"fill:#78b9ce;stroke-width:2;stroke:rgb(255,255,255)\"/><rect x=\"1045\" y=\"0\" width=\"55\" height=\"55\" style=\"fill:#9bcfd3;stroke-width:2;stroke:rgb(255,255,255)\"/></svg>"
      ],
      "text/plain": [
       "[(0.97450723, 0.70187358, 0.50178034),\n",
       " (0.94792955, 0.57219822, 0.33184256),\n",
       " (0.91463791, 0.43668557, 0.21367954),\n",
       " (0.84995458, 0.31415945, 0.2057863),\n",
       " (0.75361506, 0.22163653, 0.24043996),\n",
       " (0.61319563, 0.1824336, 0.2687872),\n",
       " (0.47151732, 0.17401641, 0.24610337),\n",
       " (0.34119892, 0.15504762, 0.1996803),\n",
       " (0.22994394, 0.13076731, 0.15146314),\n",
       " (0.148417, 0.11626929, 0.12125453),\n",
       " (0.12442647, 0.12213143, 0.13992571),\n",
       " (0.15652427, 0.15348248, 0.22238175),\n",
       " (0.21074637, 0.20302717, 0.34903192),\n",
       " (0.2659204, 0.25949691, 0.511417),\n",
       " (0.28708711, 0.32912157, 0.69034504),\n",
       " (0.23176013, 0.44119137, 0.80494325),\n",
       " (0.23526251, 0.54739477, 0.8115939),\n",
       " (0.33355526, 0.64107876, 0.80445484),\n",
       " (0.46982587, 0.72703075, 0.80747097),\n",
       " (0.60879435, 0.81256797, 0.82648905)]"
      ]
     },
     "metadata": {},
     "output_type": "display_data"
    },
    {
     "name": "stdout",
     "output_type": "stream",
     "text": [
      "inferno\n"
     ]
    },
    {
     "data": {
      "text/html": [
       "<svg  width=\"1100\" height=\"55\"><rect x=\"0\" y=\"0\" width=\"55\" height=\"55\" style=\"fill:#07051b;stroke-width:2;stroke:rgb(255,255,255)\"/><rect x=\"55\" y=\"0\" width=\"55\" height=\"55\" style=\"fill:#150b37;stroke-width:2;stroke:rgb(255,255,255)\"/><rect x=\"110\" y=\"0\" width=\"55\" height=\"55\" style=\"fill:#280b53;stroke-width:2;stroke:rgb(255,255,255)\"/><rect x=\"165\" y=\"0\" width=\"55\" height=\"55\" style=\"fill:#3d0965;stroke-width:2;stroke:rgb(255,255,255)\"/><rect x=\"220\" y=\"0\" width=\"55\" height=\"55\" style=\"fill:#510e6c;stroke-width:2;stroke:rgb(255,255,255)\"/><rect x=\"275\" y=\"0\" width=\"55\" height=\"55\" style=\"fill:#65156e;stroke-width:2;stroke:rgb(255,255,255)\"/><rect x=\"330\" y=\"0\" width=\"55\" height=\"55\" style=\"fill:#781c6d;stroke-width:2;stroke:rgb(255,255,255)\"/><rect x=\"385\" y=\"0\" width=\"55\" height=\"55\" style=\"fill:#8c2369;stroke-width:2;stroke:rgb(255,255,255)\"/><rect x=\"440\" y=\"0\" width=\"55\" height=\"55\" style=\"fill:#9f2a63;stroke-width:2;stroke:rgb(255,255,255)\"/><rect x=\"495\" y=\"0\" width=\"55\" height=\"55\" style=\"fill:#b1325a;stroke-width:2;stroke:rgb(255,255,255)\"/><rect x=\"550\" y=\"0\" width=\"55\" height=\"55\" style=\"fill:#c43c4e;stroke-width:2;stroke:rgb(255,255,255)\"/><rect x=\"605\" y=\"0\" width=\"55\" height=\"55\" style=\"fill:#d44842;stroke-width:2;stroke:rgb(255,255,255)\"/><rect x=\"660\" y=\"0\" width=\"55\" height=\"55\" style=\"fill:#e25734;stroke-width:2;stroke:rgb(255,255,255)\"/><rect x=\"715\" y=\"0\" width=\"55\" height=\"55\" style=\"fill:#ed6925;stroke-width:2;stroke:rgb(255,255,255)\"/><rect x=\"770\" y=\"0\" width=\"55\" height=\"55\" style=\"fill:#f57d15;stroke-width:2;stroke:rgb(255,255,255)\"/><rect x=\"825\" y=\"0\" width=\"55\" height=\"55\" style=\"fill:#fa9407;stroke-width:2;stroke:rgb(255,255,255)\"/><rect x=\"880\" y=\"0\" width=\"55\" height=\"55\" style=\"fill:#fcaa0f;stroke-width:2;stroke:rgb(255,255,255)\"/><rect x=\"935\" y=\"0\" width=\"55\" height=\"55\" style=\"fill:#fac228;stroke-width:2;stroke:rgb(255,255,255)\"/><rect x=\"990\" y=\"0\" width=\"55\" height=\"55\" style=\"fill:#f5d949;stroke-width:2;stroke:rgb(255,255,255)\"/><rect x=\"1045\" y=\"0\" width=\"55\" height=\"55\" style=\"fill:#f1ef75;stroke-width:2;stroke:rgb(255,255,255)\"/></svg>"
      ],
      "text/plain": [
       "[(0.025793, 0.019331, 0.10593),\n",
       " (0.081962, 0.043328, 0.215289),\n",
       " (0.15585, 0.044559, 0.325338),\n",
       " (0.238273, 0.036621, 0.396353),\n",
       " (0.316282, 0.05349, 0.425116),\n",
       " (0.397674, 0.083257, 0.433183),\n",
       " (0.472328, 0.110547, 0.428334),\n",
       " (0.547157, 0.136929, 0.413511),\n",
       " (0.621685, 0.164184, 0.388781),\n",
       " (0.694627, 0.195021, 0.354388),\n",
       " (0.769556, 0.236077, 0.307485),\n",
       " (0.832299, 0.283913, 0.257383),\n",
       " (0.886302, 0.342586, 0.202968),\n",
       " (0.929644, 0.411479, 0.145367),\n",
       " (0.961293, 0.488716, 0.084289),\n",
       " (0.981895, 0.579392, 0.02625),\n",
       " (0.987945, 0.667748, 0.058329),\n",
       " (0.981173, 0.759135, 0.156863),\n",
       " (0.962517, 0.851476, 0.285546),\n",
       " (0.946403, 0.937159, 0.458592)]"
      ]
     },
     "metadata": {},
     "output_type": "display_data"
    },
    {
     "name": "stdout",
     "output_type": "stream",
     "text": [
      "inferno_r\n"
     ]
    },
    {
     "data": {
      "text/html": [
       "<svg  width=\"1100\" height=\"55\"><rect x=\"0\" y=\"0\" width=\"55\" height=\"55\" style=\"fill:#f1ef75;stroke-width:2;stroke:rgb(255,255,255)\"/><rect x=\"55\" y=\"0\" width=\"55\" height=\"55\" style=\"fill:#f5d949;stroke-width:2;stroke:rgb(255,255,255)\"/><rect x=\"110\" y=\"0\" width=\"55\" height=\"55\" style=\"fill:#fac228;stroke-width:2;stroke:rgb(255,255,255)\"/><rect x=\"165\" y=\"0\" width=\"55\" height=\"55\" style=\"fill:#fcaa0f;stroke-width:2;stroke:rgb(255,255,255)\"/><rect x=\"220\" y=\"0\" width=\"55\" height=\"55\" style=\"fill:#fa9407;stroke-width:2;stroke:rgb(255,255,255)\"/><rect x=\"275\" y=\"0\" width=\"55\" height=\"55\" style=\"fill:#f57d15;stroke-width:2;stroke:rgb(255,255,255)\"/><rect x=\"330\" y=\"0\" width=\"55\" height=\"55\" style=\"fill:#ed6925;stroke-width:2;stroke:rgb(255,255,255)\"/><rect x=\"385\" y=\"0\" width=\"55\" height=\"55\" style=\"fill:#e25734;stroke-width:2;stroke:rgb(255,255,255)\"/><rect x=\"440\" y=\"0\" width=\"55\" height=\"55\" style=\"fill:#d44842;stroke-width:2;stroke:rgb(255,255,255)\"/><rect x=\"495\" y=\"0\" width=\"55\" height=\"55\" style=\"fill:#c43c4e;stroke-width:2;stroke:rgb(255,255,255)\"/><rect x=\"550\" y=\"0\" width=\"55\" height=\"55\" style=\"fill:#b1325a;stroke-width:2;stroke:rgb(255,255,255)\"/><rect x=\"605\" y=\"0\" width=\"55\" height=\"55\" style=\"fill:#9f2a63;stroke-width:2;stroke:rgb(255,255,255)\"/><rect x=\"660\" y=\"0\" width=\"55\" height=\"55\" style=\"fill:#8c2369;stroke-width:2;stroke:rgb(255,255,255)\"/><rect x=\"715\" y=\"0\" width=\"55\" height=\"55\" style=\"fill:#781c6d;stroke-width:2;stroke:rgb(255,255,255)\"/><rect x=\"770\" y=\"0\" width=\"55\" height=\"55\" style=\"fill:#65156e;stroke-width:2;stroke:rgb(255,255,255)\"/><rect x=\"825\" y=\"0\" width=\"55\" height=\"55\" style=\"fill:#510e6c;stroke-width:2;stroke:rgb(255,255,255)\"/><rect x=\"880\" y=\"0\" width=\"55\" height=\"55\" style=\"fill:#3d0965;stroke-width:2;stroke:rgb(255,255,255)\"/><rect x=\"935\" y=\"0\" width=\"55\" height=\"55\" style=\"fill:#280b53;stroke-width:2;stroke:rgb(255,255,255)\"/><rect x=\"990\" y=\"0\" width=\"55\" height=\"55\" style=\"fill:#150b37;stroke-width:2;stroke:rgb(255,255,255)\"/><rect x=\"1045\" y=\"0\" width=\"55\" height=\"55\" style=\"fill:#07051b;stroke-width:2;stroke:rgb(255,255,255)\"/></svg>"
      ],
      "text/plain": [
       "[(0.946403, 0.937159, 0.458592),\n",
       " (0.962517, 0.851476, 0.285546),\n",
       " (0.981173, 0.759135, 0.156863),\n",
       " (0.987945, 0.667748, 0.058329),\n",
       " (0.981895, 0.579392, 0.02625),\n",
       " (0.961293, 0.488716, 0.084289),\n",
       " (0.929644, 0.411479, 0.145367),\n",
       " (0.886302, 0.342586, 0.202968),\n",
       " (0.832299, 0.283913, 0.257383),\n",
       " (0.769556, 0.236077, 0.307485),\n",
       " (0.694627, 0.195021, 0.354388),\n",
       " (0.621685, 0.164184, 0.388781),\n",
       " (0.547157, 0.136929, 0.413511),\n",
       " (0.472328, 0.110547, 0.428334),\n",
       " (0.397674, 0.083257, 0.433183),\n",
       " (0.316282, 0.05349, 0.425116),\n",
       " (0.238273, 0.036621, 0.396353),\n",
       " (0.15585, 0.044559, 0.325338),\n",
       " (0.081962, 0.043328, 0.215289),\n",
       " (0.025793, 0.019331, 0.10593)]"
      ]
     },
     "metadata": {},
     "output_type": "display_data"
    },
    {
     "name": "stdout",
     "output_type": "stream",
     "text": [
      "jet\n",
      "jet_r\n"
     ]
    },
    {
     "data": {
      "text/html": [
       "<svg  width=\"1100\" height=\"55\"><rect x=\"0\" y=\"0\" width=\"55\" height=\"55\" style=\"fill:#b60000;stroke-width:2;stroke:rgb(255,255,255)\"/><rect x=\"55\" y=\"0\" width=\"55\" height=\"55\" style=\"fill:#ed0400;stroke-width:2;stroke:rgb(255,255,255)\"/><rect x=\"110\" y=\"0\" width=\"55\" height=\"55\" style=\"fill:#ff3000;stroke-width:2;stroke:rgb(255,255,255)\"/><rect x=\"165\" y=\"0\" width=\"55\" height=\"55\" style=\"fill:#ff5d00;stroke-width:2;stroke:rgb(255,255,255)\"/><rect x=\"220\" y=\"0\" width=\"55\" height=\"55\" style=\"fill:#ff8900;stroke-width:2;stroke:rgb(255,255,255)\"/><rect x=\"275\" y=\"0\" width=\"55\" height=\"55\" style=\"fill:#ffb900;stroke-width:2;stroke:rgb(255,255,255)\"/><rect x=\"330\" y=\"0\" width=\"55\" height=\"55\" style=\"fill:#ffe600;stroke-width:2;stroke:rgb(255,255,255)\"/><rect x=\"385\" y=\"0\" width=\"55\" height=\"55\" style=\"fill:#deff19;stroke-width:2;stroke:rgb(255,255,255)\"/><rect x=\"440\" y=\"0\" width=\"55\" height=\"55\" style=\"fill:#b7ff40;stroke-width:2;stroke:rgb(255,255,255)\"/><rect x=\"495\" y=\"0\" width=\"55\" height=\"55\" style=\"fill:#90ff66;stroke-width:2;stroke:rgb(255,255,255)\"/><rect x=\"550\" y=\"0\" width=\"55\" height=\"55\" style=\"fill:#66ff90;stroke-width:2;stroke:rgb(255,255,255)\"/><rect x=\"605\" y=\"0\" width=\"55\" height=\"55\" style=\"fill:#40ffb7;stroke-width:2;stroke:rgb(255,255,255)\"/><rect x=\"660\" y=\"0\" width=\"55\" height=\"55\" style=\"fill:#19ffde;stroke-width:2;stroke:rgb(255,255,255)\"/><rect x=\"715\" y=\"0\" width=\"55\" height=\"55\" style=\"fill:#00d4ff;stroke-width:2;stroke:rgb(255,255,255)\"/><rect x=\"770\" y=\"0\" width=\"55\" height=\"55\" style=\"fill:#00a4ff;stroke-width:2;stroke:rgb(255,255,255)\"/><rect x=\"825\" y=\"0\" width=\"55\" height=\"55\" style=\"fill:#0070ff;stroke-width:2;stroke:rgb(255,255,255)\"/><rect x=\"880\" y=\"0\" width=\"55\" height=\"55\" style=\"fill:#0040ff;stroke-width:2;stroke:rgb(255,255,255)\"/><rect x=\"935\" y=\"0\" width=\"55\" height=\"55\" style=\"fill:#0010ff;stroke-width:2;stroke:rgb(255,255,255)\"/><rect x=\"990\" y=\"0\" width=\"55\" height=\"55\" style=\"fill:#0000ed;stroke-width:2;stroke:rgb(255,255,255)\"/><rect x=\"1045\" y=\"0\" width=\"55\" height=\"55\" style=\"fill:#0000b6;stroke-width:2;stroke:rgb(255,255,255)\"/></svg>"
      ],
      "text/plain": [
       "[(0.713903743315508, 0.0, 0.0),\n",
       " (0.9278074866310161, 0.01525054466230948, 0.0),\n",
       " (1.0, 0.18954248366013082, 0.0),\n",
       " (1.0, 0.36383442265795213, 0.0),\n",
       " (1.0, 0.5381263616557735, 0.0),\n",
       " (1.0, 0.7269426289034133, 0.0),\n",
       " (1.0, 0.9012345679012346, 0.0),\n",
       " (0.8697027197975964, 1.0, 0.09803921568627454),\n",
       " (0.7179000632511068, 1.0, 0.24984187223276413),\n",
       " (0.5660974067046172, 1.0, 0.4016445287792537),\n",
       " (0.4016445287792536, 1.0, 0.5660974067046175),\n",
       " (0.249841872232764, 1.0, 0.717900063251107),\n",
       " (0.0980392156862745, 1.0, 0.8697027197975966),\n",
       " (0.0, 0.8333333333333334, 1.0),\n",
       " (0.0, 0.6450980392156862, 1.0),\n",
       " (0.0, 0.4411764705882353, 1.0),\n",
       " (0.0, 0.2529411764705882, 1.0),\n",
       " (0.0, 0.06470588235294117, 1.0),\n",
       " (0.0, 0.0, 0.9278074866310163),\n",
       " (0.0, 0.0, 0.7139037433155082)]"
      ]
     },
     "metadata": {},
     "output_type": "display_data"
    },
    {
     "name": "stdout",
     "output_type": "stream",
     "text": [
      "magma\n"
     ]
    },
    {
     "data": {
      "text/html": [
       "<svg  width=\"1100\" height=\"55\"><rect x=\"0\" y=\"0\" width=\"55\" height=\"55\" style=\"fill:#06051a;stroke-width:2;stroke:rgb(255,255,255)\"/><rect x=\"55\" y=\"0\" width=\"55\" height=\"55\" style=\"fill:#130d34;stroke-width:2;stroke:rgb(255,255,255)\"/><rect x=\"110\" y=\"0\" width=\"55\" height=\"55\" style=\"fill:#221150;stroke-width:2;stroke:rgb(255,255,255)\"/><rect x=\"165\" y=\"0\" width=\"55\" height=\"55\" style=\"fill:#36106b;stroke-width:2;stroke:rgb(255,255,255)\"/><rect x=\"220\" y=\"0\" width=\"55\" height=\"55\" style=\"fill:#4a1079;stroke-width:2;stroke:rgb(255,255,255)\"/><rect x=\"275\" y=\"0\" width=\"55\" height=\"55\" style=\"fill:#5f187f;stroke-width:2;stroke:rgb(255,255,255)\"/><rect x=\"330\" y=\"0\" width=\"55\" height=\"55\" style=\"fill:#721f81;stroke-width:2;stroke:rgb(255,255,255)\"/><rect x=\"385\" y=\"0\" width=\"55\" height=\"55\" style=\"fill:#842681;stroke-width:2;stroke:rgb(255,255,255)\"/><rect x=\"440\" y=\"0\" width=\"55\" height=\"55\" style=\"fill:#982d80;stroke-width:2;stroke:rgb(255,255,255)\"/><rect x=\"495\" y=\"0\" width=\"55\" height=\"55\" style=\"fill:#ab337c;stroke-width:2;stroke:rgb(255,255,255)\"/><rect x=\"550\" y=\"0\" width=\"55\" height=\"55\" style=\"fill:#c03a76;stroke-width:2;stroke:rgb(255,255,255)\"/><rect x=\"605\" y=\"0\" width=\"55\" height=\"55\" style=\"fill:#d3436e;stroke-width:2;stroke:rgb(255,255,255)\"/><rect x=\"660\" y=\"0\" width=\"55\" height=\"55\" style=\"fill:#e44f64;stroke-width:2;stroke:rgb(255,255,255)\"/><rect x=\"715\" y=\"0\" width=\"55\" height=\"55\" style=\"fill:#f1605d;stroke-width:2;stroke:rgb(255,255,255)\"/><rect x=\"770\" y=\"0\" width=\"55\" height=\"55\" style=\"fill:#f8765c;stroke-width:2;stroke:rgb(255,255,255)\"/><rect x=\"825\" y=\"0\" width=\"55\" height=\"55\" style=\"fill:#fc8e64;stroke-width:2;stroke:rgb(255,255,255)\"/><rect x=\"880\" y=\"0\" width=\"55\" height=\"55\" style=\"fill:#fea571;stroke-width:2;stroke:rgb(255,255,255)\"/><rect x=\"935\" y=\"0\" width=\"55\" height=\"55\" style=\"fill:#febb81;stroke-width:2;stroke:rgb(255,255,255)\"/><rect x=\"990\" y=\"0\" width=\"55\" height=\"55\" style=\"fill:#fed194;stroke-width:2;stroke:rgb(255,255,255)\"/><rect x=\"1045\" y=\"0\" width=\"55\" height=\"55\" style=\"fill:#fde7a9;stroke-width:2;stroke:rgb(255,255,255)\"/></svg>"
      ],
      "text/plain": [
       "[(0.024792, 0.020715, 0.100676),\n",
       " (0.074257, 0.052017, 0.20266),\n",
       " (0.135053, 0.068391, 0.315),\n",
       " (0.211718, 0.061992, 0.418647),\n",
       " (0.291366, 0.064553, 0.475462),\n",
       " (0.372116, 0.092816, 0.499053),\n",
       " (0.445163, 0.122724, 0.506901),\n",
       " (0.519045, 0.150383, 0.507443),\n",
       " (0.594508, 0.175701, 0.501241),\n",
       " (0.671349, 0.200133, 0.487358),\n",
       " (0.754737, 0.228772, 0.462509),\n",
       " (0.828886, 0.262229, 0.430644),\n",
       " (0.8947, 0.309773, 0.393995),\n",
       " (0.944006, 0.377643, 0.365136),\n",
       " (0.973381, 0.46152, 0.361965),\n",
       " (0.989363, 0.557873, 0.391671),\n",
       " (0.99581, 0.646344, 0.441361),\n",
       " (0.997341, 0.733545, 0.505167),\n",
       " (0.995424, 0.819875, 0.57914),\n",
       " (0.991332, 0.905763, 0.661309)]"
      ]
     },
     "metadata": {},
     "output_type": "display_data"
    },
    {
     "name": "stdout",
     "output_type": "stream",
     "text": [
      "magma_r\n"
     ]
    },
    {
     "data": {
      "text/html": [
       "<svg  width=\"1100\" height=\"55\"><rect x=\"0\" y=\"0\" width=\"55\" height=\"55\" style=\"fill:#fde7a9;stroke-width:2;stroke:rgb(255,255,255)\"/><rect x=\"55\" y=\"0\" width=\"55\" height=\"55\" style=\"fill:#fed194;stroke-width:2;stroke:rgb(255,255,255)\"/><rect x=\"110\" y=\"0\" width=\"55\" height=\"55\" style=\"fill:#febb81;stroke-width:2;stroke:rgb(255,255,255)\"/><rect x=\"165\" y=\"0\" width=\"55\" height=\"55\" style=\"fill:#fea571;stroke-width:2;stroke:rgb(255,255,255)\"/><rect x=\"220\" y=\"0\" width=\"55\" height=\"55\" style=\"fill:#fc8e64;stroke-width:2;stroke:rgb(255,255,255)\"/><rect x=\"275\" y=\"0\" width=\"55\" height=\"55\" style=\"fill:#f8765c;stroke-width:2;stroke:rgb(255,255,255)\"/><rect x=\"330\" y=\"0\" width=\"55\" height=\"55\" style=\"fill:#f1605d;stroke-width:2;stroke:rgb(255,255,255)\"/><rect x=\"385\" y=\"0\" width=\"55\" height=\"55\" style=\"fill:#e44f64;stroke-width:2;stroke:rgb(255,255,255)\"/><rect x=\"440\" y=\"0\" width=\"55\" height=\"55\" style=\"fill:#d3436e;stroke-width:2;stroke:rgb(255,255,255)\"/><rect x=\"495\" y=\"0\" width=\"55\" height=\"55\" style=\"fill:#c03a76;stroke-width:2;stroke:rgb(255,255,255)\"/><rect x=\"550\" y=\"0\" width=\"55\" height=\"55\" style=\"fill:#ab337c;stroke-width:2;stroke:rgb(255,255,255)\"/><rect x=\"605\" y=\"0\" width=\"55\" height=\"55\" style=\"fill:#982d80;stroke-width:2;stroke:rgb(255,255,255)\"/><rect x=\"660\" y=\"0\" width=\"55\" height=\"55\" style=\"fill:#842681;stroke-width:2;stroke:rgb(255,255,255)\"/><rect x=\"715\" y=\"0\" width=\"55\" height=\"55\" style=\"fill:#721f81;stroke-width:2;stroke:rgb(255,255,255)\"/><rect x=\"770\" y=\"0\" width=\"55\" height=\"55\" style=\"fill:#5f187f;stroke-width:2;stroke:rgb(255,255,255)\"/><rect x=\"825\" y=\"0\" width=\"55\" height=\"55\" style=\"fill:#4a1079;stroke-width:2;stroke:rgb(255,255,255)\"/><rect x=\"880\" y=\"0\" width=\"55\" height=\"55\" style=\"fill:#36106b;stroke-width:2;stroke:rgb(255,255,255)\"/><rect x=\"935\" y=\"0\" width=\"55\" height=\"55\" style=\"fill:#221150;stroke-width:2;stroke:rgb(255,255,255)\"/><rect x=\"990\" y=\"0\" width=\"55\" height=\"55\" style=\"fill:#130d34;stroke-width:2;stroke:rgb(255,255,255)\"/><rect x=\"1045\" y=\"0\" width=\"55\" height=\"55\" style=\"fill:#06051a;stroke-width:2;stroke:rgb(255,255,255)\"/></svg>"
      ],
      "text/plain": [
       "[(0.991332, 0.905763, 0.661309),\n",
       " (0.995424, 0.819875, 0.57914),\n",
       " (0.997341, 0.733545, 0.505167),\n",
       " (0.99581, 0.646344, 0.441361),\n",
       " (0.989363, 0.557873, 0.391671),\n",
       " (0.973381, 0.46152, 0.361965),\n",
       " (0.944006, 0.377643, 0.365136),\n",
       " (0.8947, 0.309773, 0.393995),\n",
       " (0.828886, 0.262229, 0.430644),\n",
       " (0.754737, 0.228772, 0.462509),\n",
       " (0.671349, 0.200133, 0.487358),\n",
       " (0.594508, 0.175701, 0.501241),\n",
       " (0.519045, 0.150383, 0.507443),\n",
       " (0.445163, 0.122724, 0.506901),\n",
       " (0.372116, 0.092816, 0.499053),\n",
       " (0.291366, 0.064553, 0.475462),\n",
       " (0.211718, 0.061992, 0.418647),\n",
       " (0.135053, 0.068391, 0.315),\n",
       " (0.074257, 0.052017, 0.20266),\n",
       " (0.024792, 0.020715, 0.100676)]"
      ]
     },
     "metadata": {},
     "output_type": "display_data"
    },
    {
     "name": "stdout",
     "output_type": "stream",
     "text": [
      "mako\n"
     ]
    },
    {
     "data": {
      "text/html": [
       "<svg  width=\"1100\" height=\"55\"><rect x=\"0\" y=\"0\" width=\"55\" height=\"55\" style=\"fill:#180d16;stroke-width:2;stroke:rgb(255,255,255)\"/><rect x=\"55\" y=\"0\" width=\"55\" height=\"55\" style=\"fill:#241628;stroke-width:2;stroke:rgb(255,255,255)\"/><rect x=\"110\" y=\"0\" width=\"55\" height=\"55\" style=\"fill:#2e1e3b;stroke-width:2;stroke:rgb(255,255,255)\"/><rect x=\"165\" y=\"0\" width=\"55\" height=\"55\" style=\"fill:#37284f;stroke-width:2;stroke:rgb(255,255,255)\"/><rect x=\"220\" y=\"0\" width=\"55\" height=\"55\" style=\"fill:#3d3164;stroke-width:2;stroke:rgb(255,255,255)\"/><rect x=\"275\" y=\"0\" width=\"55\" height=\"55\" style=\"fill:#413d7b;stroke-width:2;stroke:rgb(255,255,255)\"/><rect x=\"330\" y=\"0\" width=\"55\" height=\"55\" style=\"fill:#40498e;stroke-width:2;stroke:rgb(255,255,255)\"/><rect x=\"385\" y=\"0\" width=\"55\" height=\"55\" style=\"fill:#3b5799;stroke-width:2;stroke:rgb(255,255,255)\"/><rect x=\"440\" y=\"0\" width=\"55\" height=\"55\" style=\"fill:#37659e;stroke-width:2;stroke:rgb(255,255,255)\"/><rect x=\"495\" y=\"0\" width=\"55\" height=\"55\" style=\"fill:#3573a1;stroke-width:2;stroke:rgb(255,255,255)\"/><rect x=\"550\" y=\"0\" width=\"55\" height=\"55\" style=\"fill:#3482a4;stroke-width:2;stroke:rgb(255,255,255)\"/><rect x=\"605\" y=\"0\" width=\"55\" height=\"55\" style=\"fill:#348fa7;stroke-width:2;stroke:rgb(255,255,255)\"/><rect x=\"660\" y=\"0\" width=\"55\" height=\"55\" style=\"fill:#359caa;stroke-width:2;stroke:rgb(255,255,255)\"/><rect x=\"715\" y=\"0\" width=\"55\" height=\"55\" style=\"fill:#38aaac;stroke-width:2;stroke:rgb(255,255,255)\"/><rect x=\"770\" y=\"0\" width=\"55\" height=\"55\" style=\"fill:#40b7ad;stroke-width:2;stroke:rgb(255,255,255)\"/><rect x=\"825\" y=\"0\" width=\"55\" height=\"55\" style=\"fill:#4fc5ad;stroke-width:2;stroke:rgb(255,255,255)\"/><rect x=\"880\" y=\"0\" width=\"55\" height=\"55\" style=\"fill:#68d1ad;stroke-width:2;stroke:rgb(255,255,255)\"/><rect x=\"935\" y=\"0\" width=\"55\" height=\"55\" style=\"fill:#8bdab2;stroke-width:2;stroke:rgb(255,255,255)\"/><rect x=\"990\" y=\"0\" width=\"55\" height=\"55\" style=\"fill:#abe2be;stroke-width:2;stroke:rgb(255,255,255)\"/><rect x=\"1045\" y=\"0\" width=\"55\" height=\"55\" style=\"fill:#c6ebd1;stroke-width:2;stroke:rgb(255,255,255)\"/></svg>"
      ],
      "text/plain": [
       "[(0.09405308, 0.04985685, 0.08673591),\n",
       " (0.14079223, 0.08542126, 0.15659379),\n",
       " (0.18195582, 0.11955283, 0.23136943),\n",
       " (0.21458611, 0.15539445, 0.31023563),\n",
       " (0.23834119, 0.19356547, 0.39196711),\n",
       " (0.25307401, 0.23772973, 0.48316271),\n",
       " (0.24958205, 0.28556371, 0.55701246),\n",
       " (0.2315855, 0.34122763, 0.60016456),\n",
       " (0.21607792, 0.39736958, 0.61948028),\n",
       " (0.20916709, 0.45122981, 0.63124483),\n",
       " (0.20527189, 0.50828072, 0.64429331),\n",
       " (0.20344718, 0.56074869, 0.65649508),\n",
       " (0.20654832, 0.61333521, 0.66715744),\n",
       " (0.220668, 0.66594665, 0.67485792),\n",
       " (0.25187832, 0.71827158, 0.67872193),\n",
       " (0.30835665, 0.77407636, 0.67833512),\n",
       " (0.40634556, 0.81991799, 0.67686215),\n",
       " (0.54578602, 0.8544913, 0.69848331),\n",
       " (0.67097934, 0.88687758, 0.74631123),\n",
       " (0.77647029, 0.921603, 0.81855729)]"
      ]
     },
     "metadata": {},
     "output_type": "display_data"
    },
    {
     "name": "stdout",
     "output_type": "stream",
     "text": [
      "mako_r\n"
     ]
    },
    {
     "data": {
      "text/html": [
       "<svg  width=\"1100\" height=\"55\"><rect x=\"0\" y=\"0\" width=\"55\" height=\"55\" style=\"fill:#c6ebd1;stroke-width:2;stroke:rgb(255,255,255)\"/><rect x=\"55\" y=\"0\" width=\"55\" height=\"55\" style=\"fill:#abe2be;stroke-width:2;stroke:rgb(255,255,255)\"/><rect x=\"110\" y=\"0\" width=\"55\" height=\"55\" style=\"fill:#8bdab2;stroke-width:2;stroke:rgb(255,255,255)\"/><rect x=\"165\" y=\"0\" width=\"55\" height=\"55\" style=\"fill:#68d1ad;stroke-width:2;stroke:rgb(255,255,255)\"/><rect x=\"220\" y=\"0\" width=\"55\" height=\"55\" style=\"fill:#4fc5ad;stroke-width:2;stroke:rgb(255,255,255)\"/><rect x=\"275\" y=\"0\" width=\"55\" height=\"55\" style=\"fill:#40b7ad;stroke-width:2;stroke:rgb(255,255,255)\"/><rect x=\"330\" y=\"0\" width=\"55\" height=\"55\" style=\"fill:#38aaac;stroke-width:2;stroke:rgb(255,255,255)\"/><rect x=\"385\" y=\"0\" width=\"55\" height=\"55\" style=\"fill:#359caa;stroke-width:2;stroke:rgb(255,255,255)\"/><rect x=\"440\" y=\"0\" width=\"55\" height=\"55\" style=\"fill:#348fa7;stroke-width:2;stroke:rgb(255,255,255)\"/><rect x=\"495\" y=\"0\" width=\"55\" height=\"55\" style=\"fill:#3482a4;stroke-width:2;stroke:rgb(255,255,255)\"/><rect x=\"550\" y=\"0\" width=\"55\" height=\"55\" style=\"fill:#3573a1;stroke-width:2;stroke:rgb(255,255,255)\"/><rect x=\"605\" y=\"0\" width=\"55\" height=\"55\" style=\"fill:#37659e;stroke-width:2;stroke:rgb(255,255,255)\"/><rect x=\"660\" y=\"0\" width=\"55\" height=\"55\" style=\"fill:#3b5799;stroke-width:2;stroke:rgb(255,255,255)\"/><rect x=\"715\" y=\"0\" width=\"55\" height=\"55\" style=\"fill:#40498e;stroke-width:2;stroke:rgb(255,255,255)\"/><rect x=\"770\" y=\"0\" width=\"55\" height=\"55\" style=\"fill:#413d7b;stroke-width:2;stroke:rgb(255,255,255)\"/><rect x=\"825\" y=\"0\" width=\"55\" height=\"55\" style=\"fill:#3d3164;stroke-width:2;stroke:rgb(255,255,255)\"/><rect x=\"880\" y=\"0\" width=\"55\" height=\"55\" style=\"fill:#37284f;stroke-width:2;stroke:rgb(255,255,255)\"/><rect x=\"935\" y=\"0\" width=\"55\" height=\"55\" style=\"fill:#2e1e3b;stroke-width:2;stroke:rgb(255,255,255)\"/><rect x=\"990\" y=\"0\" width=\"55\" height=\"55\" style=\"fill:#241628;stroke-width:2;stroke:rgb(255,255,255)\"/><rect x=\"1045\" y=\"0\" width=\"55\" height=\"55\" style=\"fill:#180d16;stroke-width:2;stroke:rgb(255,255,255)\"/></svg>"
      ],
      "text/plain": [
       "[(0.77647029, 0.921603, 0.81855729),\n",
       " (0.67097934, 0.88687758, 0.74631123),\n",
       " (0.54578602, 0.8544913, 0.69848331),\n",
       " (0.40634556, 0.81991799, 0.67686215),\n",
       " (0.30835665, 0.77407636, 0.67833512),\n",
       " (0.25187832, 0.71827158, 0.67872193),\n",
       " (0.220668, 0.66594665, 0.67485792),\n",
       " (0.20654832, 0.61333521, 0.66715744),\n",
       " (0.20344718, 0.56074869, 0.65649508),\n",
       " (0.20527189, 0.50828072, 0.64429331),\n",
       " (0.20916709, 0.45122981, 0.63124483),\n",
       " (0.21607792, 0.39736958, 0.61948028),\n",
       " (0.2315855, 0.34122763, 0.60016456),\n",
       " (0.24958205, 0.28556371, 0.55701246),\n",
       " (0.25307401, 0.23772973, 0.48316271),\n",
       " (0.23834119, 0.19356547, 0.39196711),\n",
       " (0.21458611, 0.15539445, 0.31023563),\n",
       " (0.18195582, 0.11955283, 0.23136943),\n",
       " (0.14079223, 0.08542126, 0.15659379),\n",
       " (0.09405308, 0.04985685, 0.08673591)]"
      ]
     },
     "metadata": {},
     "output_type": "display_data"
    },
    {
     "name": "stdout",
     "output_type": "stream",
     "text": [
      "nipy_spectral\n"
     ]
    },
    {
     "data": {
      "text/html": [
       "<svg  width=\"1100\" height=\"55\"><rect x=\"0\" y=\"0\" width=\"55\" height=\"55\" style=\"fill:#700080;stroke-width:2;stroke:rgb(255,255,255)\"/><rect x=\"55\" y=\"0\" width=\"55\" height=\"55\" style=\"fill:#860097;stroke-width:2;stroke:rgb(255,255,255)\"/><rect x=\"110\" y=\"0\" width=\"55\" height=\"55\" style=\"fill:#1800a7;stroke-width:2;stroke:rgb(255,255,255)\"/><rect x=\"165\" y=\"0\" width=\"55\" height=\"55\" style=\"fill:#0000d1;stroke-width:2;stroke:rgb(255,255,255)\"/><rect x=\"220\" y=\"0\" width=\"55\" height=\"55\" style=\"fill:#0054dd;stroke-width:2;stroke:rgb(255,255,255)\"/><rect x=\"275\" y=\"0\" width=\"55\" height=\"55\" style=\"fill:#0090dd;stroke-width:2;stroke:rgb(255,255,255)\"/><rect x=\"330\" y=\"0\" width=\"55\" height=\"55\" style=\"fill:#00a4bb;stroke-width:2;stroke:rgb(255,255,255)\"/><rect x=\"385\" y=\"0\" width=\"55\" height=\"55\" style=\"fill:#00aa95;stroke-width:2;stroke:rgb(255,255,255)\"/><rect x=\"440\" y=\"0\" width=\"55\" height=\"55\" style=\"fill:#00a13d;stroke-width:2;stroke:rgb(255,255,255)\"/><rect x=\"495\" y=\"0\" width=\"55\" height=\"55\" style=\"fill:#00aa00;stroke-width:2;stroke:rgb(255,255,255)\"/><rect x=\"550\" y=\"0\" width=\"55\" height=\"55\" style=\"fill:#00cc00;stroke-width:2;stroke:rgb(255,255,255)\"/><rect x=\"605\" y=\"0\" width=\"55\" height=\"55\" style=\"fill:#00ec00;stroke-width:2;stroke:rgb(255,255,255)\"/><rect x=\"660\" y=\"0\" width=\"55\" height=\"55\" style=\"fill:#49ff00;stroke-width:2;stroke:rgb(255,255,255)\"/><rect x=\"715\" y=\"0\" width=\"55\" height=\"55\" style=\"fill:#ccf900;stroke-width:2;stroke:rgb(255,255,255)\"/><rect x=\"770\" y=\"0\" width=\"55\" height=\"55\" style=\"fill:#f3e500;stroke-width:2;stroke:rgb(255,255,255)\"/><rect x=\"825\" y=\"0\" width=\"55\" height=\"55\" style=\"fill:#ffbd00;stroke-width:2;stroke:rgb(255,255,255)\"/><rect x=\"880\" y=\"0\" width=\"55\" height=\"55\" style=\"fill:#ff7500;stroke-width:2;stroke:rgb(255,255,255)\"/><rect x=\"935\" y=\"0\" width=\"55\" height=\"55\" style=\"fill:#f90000;stroke-width:2;stroke:rgb(255,255,255)\"/><rect x=\"990\" y=\"0\" width=\"55\" height=\"55\" style=\"fill:#db0000;stroke-width:2;stroke:rgb(255,255,255)\"/><rect x=\"1045\" y=\"0\" width=\"55\" height=\"55\" style=\"fill:#cc0c0c;stroke-width:2;stroke:rgb(255,255,255)\"/></svg>"
      ],
      "text/plain": [
       "[(0.43924705882352943, 0.0, 0.5019294117647058),\n",
       " (0.525464705882353, 0.0, 0.5921529411764705),\n",
       " (0.0941117647058824, 0.0, 0.6549294117647059),\n",
       " (0.0, 0.0, 0.8196411764705882),\n",
       " (0.0, 0.3294352941176471, 0.8667),\n",
       " (0.0, 0.5634078431372549, 0.8667),\n",
       " (0.0, 0.6444666666666666, 0.7333666666666667),\n",
       " (0.0, 0.6667, 0.5856137254901961),\n",
       " (0.0, 0.6300803921568627, 0.24050784313725487),\n",
       " (0.0, 0.6653431372549019, 0.0),\n",
       " (0.0, 0.8013078431372549, 0.0),\n",
       " (0.0, 0.9268156862745098, 0.0),\n",
       " (0.2875686274509804, 1.0, 0.0),\n",
       " (0.7999666666666666, 0.9777666666666667, 0.0),\n",
       " (0.9516098039215687, 0.8967078431372549, 0.0),\n",
       " (1.0, 0.7411764705882353, 0.0),\n",
       " (1.0, 0.4588235294117647, 0.0),\n",
       " (0.9764764705882353, 0.0, 0.0),\n",
       " (0.8588529411764706, 0.0, 0.0),\n",
       " (0.8, 0.047058823529411764, 0.047058823529411764)]"
      ]
     },
     "metadata": {},
     "output_type": "display_data"
    },
    {
     "name": "stdout",
     "output_type": "stream",
     "text": [
      "nipy_spectral_r\n"
     ]
    },
    {
     "data": {
      "text/html": [
       "<svg  width=\"1100\" height=\"55\"><rect x=\"0\" y=\"0\" width=\"55\" height=\"55\" style=\"fill:#cc0c0c;stroke-width:2;stroke:rgb(255,255,255)\"/><rect x=\"55\" y=\"0\" width=\"55\" height=\"55\" style=\"fill:#db0000;stroke-width:2;stroke:rgb(255,255,255)\"/><rect x=\"110\" y=\"0\" width=\"55\" height=\"55\" style=\"fill:#f90000;stroke-width:2;stroke:rgb(255,255,255)\"/><rect x=\"165\" y=\"0\" width=\"55\" height=\"55\" style=\"fill:#ff7500;stroke-width:2;stroke:rgb(255,255,255)\"/><rect x=\"220\" y=\"0\" width=\"55\" height=\"55\" style=\"fill:#ffbd00;stroke-width:2;stroke:rgb(255,255,255)\"/><rect x=\"275\" y=\"0\" width=\"55\" height=\"55\" style=\"fill:#f3e500;stroke-width:2;stroke:rgb(255,255,255)\"/><rect x=\"330\" y=\"0\" width=\"55\" height=\"55\" style=\"fill:#ccf900;stroke-width:2;stroke:rgb(255,255,255)\"/><rect x=\"385\" y=\"0\" width=\"55\" height=\"55\" style=\"fill:#49ff00;stroke-width:2;stroke:rgb(255,255,255)\"/><rect x=\"440\" y=\"0\" width=\"55\" height=\"55\" style=\"fill:#00ec00;stroke-width:2;stroke:rgb(255,255,255)\"/><rect x=\"495\" y=\"0\" width=\"55\" height=\"55\" style=\"fill:#00cc00;stroke-width:2;stroke:rgb(255,255,255)\"/><rect x=\"550\" y=\"0\" width=\"55\" height=\"55\" style=\"fill:#00aa00;stroke-width:2;stroke:rgb(255,255,255)\"/><rect x=\"605\" y=\"0\" width=\"55\" height=\"55\" style=\"fill:#00a13d;stroke-width:2;stroke:rgb(255,255,255)\"/><rect x=\"660\" y=\"0\" width=\"55\" height=\"55\" style=\"fill:#00aa95;stroke-width:2;stroke:rgb(255,255,255)\"/><rect x=\"715\" y=\"0\" width=\"55\" height=\"55\" style=\"fill:#00a4bb;stroke-width:2;stroke:rgb(255,255,255)\"/><rect x=\"770\" y=\"0\" width=\"55\" height=\"55\" style=\"fill:#0090dd;stroke-width:2;stroke:rgb(255,255,255)\"/><rect x=\"825\" y=\"0\" width=\"55\" height=\"55\" style=\"fill:#0054dd;stroke-width:2;stroke:rgb(255,255,255)\"/><rect x=\"880\" y=\"0\" width=\"55\" height=\"55\" style=\"fill:#0000d1;stroke-width:2;stroke:rgb(255,255,255)\"/><rect x=\"935\" y=\"0\" width=\"55\" height=\"55\" style=\"fill:#1800a7;stroke-width:2;stroke:rgb(255,255,255)\"/><rect x=\"990\" y=\"0\" width=\"55\" height=\"55\" style=\"fill:#860097;stroke-width:2;stroke:rgb(255,255,255)\"/><rect x=\"1045\" y=\"0\" width=\"55\" height=\"55\" style=\"fill:#700080;stroke-width:2;stroke:rgb(255,255,255)\"/></svg>"
      ],
      "text/plain": [
       "[(0.8, 0.047058823529412375, 0.047058823529412375),\n",
       " (0.8588529411764706, 0.0, 0.0),\n",
       " (0.9764764705882353, 0.0, 0.0),\n",
       " (1.0, 0.45882352941176513, 0.0),\n",
       " (1.0, 0.7411764705882353, 0.0),\n",
       " (0.9516098039215687, 0.8967078431372548, 0.0),\n",
       " (0.7999666666666667, 0.9777666666666667, 0.0),\n",
       " (0.2875686274509804, 1.0, 0.0),\n",
       " (0.0, 0.9268156862745097, 0.0),\n",
       " (0.0, 0.8013078431372548, 0.0),\n",
       " (0.0, 0.6653431372549019, 0.0),\n",
       " (0.0, 0.6300803921568627, 0.2405078431372549),\n",
       " (0.0, 0.6667, 0.5856137254901961),\n",
       " (0.0, 0.6444666666666666, 0.7333666666666666),\n",
       " (0.0, 0.5634078431372549, 0.8667),\n",
       " (0.0, 0.32943529411764705, 0.8667),\n",
       " (0.0, 0.0, 0.8196411764705882),\n",
       " (0.09411176470588235, 0.0, 0.6549294117647059),\n",
       " (0.525464705882353, 0.0, 0.5921529411764705),\n",
       " (0.43924705882352943, 0.0, 0.5019294117647058)]"
      ]
     },
     "metadata": {},
     "output_type": "display_data"
    },
    {
     "name": "stdout",
     "output_type": "stream",
     "text": [
      "ocean\n"
     ]
    },
    {
     "data": {
      "text/html": [
       "<svg  width=\"1100\" height=\"55\"><rect x=\"0\" y=\"0\" width=\"55\" height=\"55\" style=\"fill:#006e0c;stroke-width:2;stroke:rgb(255,255,255)\"/><rect x=\"55\" y=\"0\" width=\"55\" height=\"55\" style=\"fill:#005c18;stroke-width:2;stroke:rgb(255,255,255)\"/><rect x=\"110\" y=\"0\" width=\"55\" height=\"55\" style=\"fill:#004a24;stroke-width:2;stroke:rgb(255,255,255)\"/><rect x=\"165\" y=\"0\" width=\"55\" height=\"55\" style=\"fill:#003830;stroke-width:2;stroke:rgb(255,255,255)\"/><rect x=\"220\" y=\"0\" width=\"55\" height=\"55\" style=\"fill:#00263c;stroke-width:2;stroke:rgb(255,255,255)\"/><rect x=\"275\" y=\"0\" width=\"55\" height=\"55\" style=\"fill:#001249;stroke-width:2;stroke:rgb(255,255,255)\"/><rect x=\"330\" y=\"0\" width=\"55\" height=\"55\" style=\"fill:#000055;stroke-width:2;stroke:rgb(255,255,255)\"/><rect x=\"385\" y=\"0\" width=\"55\" height=\"55\" style=\"fill:#001261;stroke-width:2;stroke:rgb(255,255,255)\"/><rect x=\"440\" y=\"0\" width=\"55\" height=\"55\" style=\"fill:#00246d;stroke-width:2;stroke:rgb(255,255,255)\"/><rect x=\"495\" y=\"0\" width=\"55\" height=\"55\" style=\"fill:#003679;stroke-width:2;stroke:rgb(255,255,255)\"/><rect x=\"550\" y=\"0\" width=\"55\" height=\"55\" style=\"fill:#004a86;stroke-width:2;stroke:rgb(255,255,255)\"/><rect x=\"605\" y=\"0\" width=\"55\" height=\"55\" style=\"fill:#005b92;stroke-width:2;stroke:rgb(255,255,255)\"/><rect x=\"660\" y=\"0\" width=\"55\" height=\"55\" style=\"fill:#006e9e;stroke-width:2;stroke:rgb(255,255,255)\"/><rect x=\"715\" y=\"0\" width=\"55\" height=\"55\" style=\"fill:#0080aa;stroke-width:2;stroke:rgb(255,255,255)\"/><rect x=\"770\" y=\"0\" width=\"55\" height=\"55\" style=\"fill:#2492b6;stroke-width:2;stroke:rgb(255,255,255)\"/><rect x=\"825\" y=\"0\" width=\"55\" height=\"55\" style=\"fill:#4ba5c3;stroke-width:2;stroke:rgb(255,255,255)\"/><rect x=\"880\" y=\"0\" width=\"55\" height=\"55\" style=\"fill:#6fb7cf;stroke-width:2;stroke:rgb(255,255,255)\"/><rect x=\"935\" y=\"0\" width=\"55\" height=\"55\" style=\"fill:#93c9db;stroke-width:2;stroke:rgb(255,255,255)\"/><rect x=\"990\" y=\"0\" width=\"55\" height=\"55\" style=\"fill:#b7dbe7;stroke-width:2;stroke:rgb(255,255,255)\"/><rect x=\"1045\" y=\"0\" width=\"55\" height=\"55\" style=\"fill:#dbedf3;stroke-width:2;stroke:rgb(255,255,255)\"/></svg>"
      ],
      "text/plain": [
       "[(0.0, 0.4294117647058824, 0.047058823529411764),\n",
       " (0.0, 0.3588235294117647, 0.09411764705882353),\n",
       " (0.0, 0.28823529411764703, 0.1411764705882353),\n",
       " (0.0, 0.21764705882352942, 0.18823529411764706),\n",
       " (0.0, 0.1470588235294118, 0.23529411764705882),\n",
       " (0.0, 0.07058823529411767, 0.28627450980392155),\n",
       " (0.0, 0.0, 0.3333333333333333),\n",
       " (0.0, 0.07058823529411762, 0.3803921568627451),\n",
       " (0.0, 0.14117647058823524, 0.42745098039215684),\n",
       " (0.0, 0.21176470588235285, 0.4745098039215686),\n",
       " (0.0, 0.28823529411764715, 0.5254901960784314),\n",
       " (0.0, 0.35882352941176465, 0.5725490196078431),\n",
       " (0.0, 0.4294117647058824, 0.6196078431372549),\n",
       " (0.0, 0.5, 0.6666666666666666),\n",
       " (0.14117647058823524, 0.5705882352941176, 0.7137254901960784),\n",
       " (0.2941176470588234, 0.6470588235294117, 0.7647058823529411),\n",
       " (0.43529411764705905, 0.7176470588235295, 0.8117647058823529),\n",
       " (0.5764705882352938, 0.7882352941176469, 0.8588235294117647),\n",
       " (0.7176470588235295, 0.8588235294117648, 0.9058823529411765),\n",
       " (0.8588235294117643, 0.9294117647058822, 0.9529411764705882)]"
      ]
     },
     "metadata": {},
     "output_type": "display_data"
    },
    {
     "name": "stdout",
     "output_type": "stream",
     "text": [
      "ocean_r\n"
     ]
    },
    {
     "data": {
      "text/html": [
       "<svg  width=\"1100\" height=\"55\"><rect x=\"0\" y=\"0\" width=\"55\" height=\"55\" style=\"fill:#dbedf3;stroke-width:2;stroke:rgb(255,255,255)\"/><rect x=\"55\" y=\"0\" width=\"55\" height=\"55\" style=\"fill:#b7dbe7;stroke-width:2;stroke:rgb(255,255,255)\"/><rect x=\"110\" y=\"0\" width=\"55\" height=\"55\" style=\"fill:#93c9db;stroke-width:2;stroke:rgb(255,255,255)\"/><rect x=\"165\" y=\"0\" width=\"55\" height=\"55\" style=\"fill:#6fb7cf;stroke-width:2;stroke:rgb(255,255,255)\"/><rect x=\"220\" y=\"0\" width=\"55\" height=\"55\" style=\"fill:#4ba5c3;stroke-width:2;stroke:rgb(255,255,255)\"/><rect x=\"275\" y=\"0\" width=\"55\" height=\"55\" style=\"fill:#2492b6;stroke-width:2;stroke:rgb(255,255,255)\"/><rect x=\"330\" y=\"0\" width=\"55\" height=\"55\" style=\"fill:#0080aa;stroke-width:2;stroke:rgb(255,255,255)\"/><rect x=\"385\" y=\"0\" width=\"55\" height=\"55\" style=\"fill:#006e9e;stroke-width:2;stroke:rgb(255,255,255)\"/><rect x=\"440\" y=\"0\" width=\"55\" height=\"55\" style=\"fill:#005b92;stroke-width:2;stroke:rgb(255,255,255)\"/><rect x=\"495\" y=\"0\" width=\"55\" height=\"55\" style=\"fill:#004a86;stroke-width:2;stroke:rgb(255,255,255)\"/><rect x=\"550\" y=\"0\" width=\"55\" height=\"55\" style=\"fill:#003679;stroke-width:2;stroke:rgb(255,255,255)\"/><rect x=\"605\" y=\"0\" width=\"55\" height=\"55\" style=\"fill:#00246d;stroke-width:2;stroke:rgb(255,255,255)\"/><rect x=\"660\" y=\"0\" width=\"55\" height=\"55\" style=\"fill:#001261;stroke-width:2;stroke:rgb(255,255,255)\"/><rect x=\"715\" y=\"0\" width=\"55\" height=\"55\" style=\"fill:#000055;stroke-width:2;stroke:rgb(255,255,255)\"/><rect x=\"770\" y=\"0\" width=\"55\" height=\"55\" style=\"fill:#001249;stroke-width:2;stroke:rgb(255,255,255)\"/><rect x=\"825\" y=\"0\" width=\"55\" height=\"55\" style=\"fill:#00253c;stroke-width:2;stroke:rgb(255,255,255)\"/><rect x=\"880\" y=\"0\" width=\"55\" height=\"55\" style=\"fill:#003830;stroke-width:2;stroke:rgb(255,255,255)\"/><rect x=\"935\" y=\"0\" width=\"55\" height=\"55\" style=\"fill:#004924;stroke-width:2;stroke:rgb(255,255,255)\"/><rect x=\"990\" y=\"0\" width=\"55\" height=\"55\" style=\"fill:#005c18;stroke-width:2;stroke:rgb(255,255,255)\"/><rect x=\"1045\" y=\"0\" width=\"55\" height=\"55\" style=\"fill:#006d0c;stroke-width:2;stroke:rgb(255,255,255)\"/></svg>"
      ],
      "text/plain": [
       "[(0.8588235294117643, 0.9294117647058822, 0.9529411764705882),\n",
       " (0.7176470588235295, 0.8588235294117648, 0.9058823529411765),\n",
       " (0.5764705882352943, 0.7882352941176471, 0.8588235294117648),\n",
       " (0.43529411764705905, 0.7176470588235295, 0.8117647058823529),\n",
       " (0.2941176470588234, 0.6470588235294117, 0.7647058823529411),\n",
       " (0.14117647058823524, 0.5705882352941176, 0.7137254901960784),\n",
       " (0.0, 0.5, 0.6666666666666667),\n",
       " (0.0, 0.4294117647058824, 0.6196078431372549),\n",
       " (0.0, 0.35882352941176465, 0.5725490196078431),\n",
       " (0.0, 0.28823529411764715, 0.5254901960784314),\n",
       " (0.0, 0.21176470588235285, 0.4745098039215686),\n",
       " (0.0, 0.14117647058823535, 0.4274509803921569),\n",
       " (0.0, 0.07058823529411762, 0.3803921568627451),\n",
       " (0.0, 0.0, 0.33333333333333337),\n",
       " (0.0, 0.07058823529411767, 0.28627450980392155),\n",
       " (0.0, 0.1470588235294117, 0.23529411764705888),\n",
       " (0.0, 0.21764705882352942, 0.18823529411764706),\n",
       " (0.0, 0.288235294117647, 0.14117647058823535),\n",
       " (0.0, 0.3588235294117647, 0.09411764705882353),\n",
       " (0.0, 0.42941176470588227, 0.04705882352941182)]"
      ]
     },
     "metadata": {},
     "output_type": "display_data"
    },
    {
     "name": "stdout",
     "output_type": "stream",
     "text": [
      "pink\n"
     ]
    },
    {
     "data": {
      "text/html": [
       "<svg  width=\"1100\" height=\"55\"><rect x=\"0\" y=\"0\" width=\"55\" height=\"55\" style=\"fill:#4b2d2d;stroke-width:2;stroke:rgb(255,255,255)\"/><rect x=\"55\" y=\"0\" width=\"55\" height=\"55\" style=\"fill:#664040;stroke-width:2;stroke:rgb(255,255,255)\"/><rect x=\"110\" y=\"0\" width=\"55\" height=\"55\" style=\"fill:#7b4e4e;stroke-width:2;stroke:rgb(255,255,255)\"/><rect x=\"165\" y=\"0\" width=\"55\" height=\"55\" style=\"fill:#8d5a5a;stroke-width:2;stroke:rgb(255,255,255)\"/><rect x=\"220\" y=\"0\" width=\"55\" height=\"55\" style=\"fill:#9c6565;stroke-width:2;stroke:rgb(255,255,255)\"/><rect x=\"275\" y=\"0\" width=\"55\" height=\"55\" style=\"fill:#ac6f6f;stroke-width:2;stroke:rgb(255,255,255)\"/><rect x=\"330\" y=\"0\" width=\"55\" height=\"55\" style=\"fill:#b97878;stroke-width:2;stroke:rgb(255,255,255)\"/><rect x=\"385\" y=\"0\" width=\"55\" height=\"55\" style=\"fill:#c38480;stroke-width:2;stroke:rgb(255,255,255)\"/><rect x=\"440\" y=\"0\" width=\"55\" height=\"55\" style=\"fill:#c99588;stroke-width:2;stroke:rgb(255,255,255)\"/><rect x=\"495\" y=\"0\" width=\"55\" height=\"55\" style=\"fill:#cea48f;stroke-width:2;stroke:rgb(255,255,255)\"/><rect x=\"550\" y=\"0\" width=\"55\" height=\"55\" style=\"fill:#d3b397;stroke-width:2;stroke:rgb(255,255,255)\"/><rect x=\"605\" y=\"0\" width=\"55\" height=\"55\" style=\"fill:#d8bf9e;stroke-width:2;stroke:rgb(255,255,255)\"/><rect x=\"660\" y=\"0\" width=\"55\" height=\"55\" style=\"fill:#dccba4;stroke-width:2;stroke:rgb(255,255,255)\"/><rect x=\"715\" y=\"0\" width=\"55\" height=\"55\" style=\"fill:#e1d7aa;stroke-width:2;stroke:rgb(255,255,255)\"/><rect x=\"770\" y=\"0\" width=\"55\" height=\"55\" style=\"fill:#e5e1b0;stroke-width:2;stroke:rgb(255,255,255)\"/><rect x=\"825\" y=\"0\" width=\"55\" height=\"55\" style=\"fill:#eaeaba;stroke-width:2;stroke:rgb(255,255,255)\"/><rect x=\"880\" y=\"0\" width=\"55\" height=\"55\" style=\"fill:#eeeeca;stroke-width:2;stroke:rgb(255,255,255)\"/><rect x=\"935\" y=\"0\" width=\"55\" height=\"55\" style=\"fill:#f3f3d8;stroke-width:2;stroke:rgb(255,255,255)\"/><rect x=\"990\" y=\"0\" width=\"55\" height=\"55\" style=\"fill:#f7f7e6;stroke-width:2;stroke:rgb(255,255,255)\"/><rect x=\"1045\" y=\"0\" width=\"55\" height=\"55\" style=\"fill:#fbfbf3;stroke-width:2;stroke:rgb(255,255,255)\"/></svg>"
      ],
      "text/plain": [
       "[(0.29388670931029753, 0.17702015575468516, 0.17702015575468516),\n",
       " (0.39864889431924727, 0.25042643605678894, 0.25042643605678894),\n",
       " (0.4811158781727017, 0.3067383334519217, 0.3067383334519217),\n",
       " (0.5513838317787141, 0.35420653283970926, 0.35420653283970926),\n",
       " (0.6136570634299457, 0.3960260826190238, 0.3960260826190238),\n",
       " (0.6746985819081114, 0.4368582980372392, 0.4368582980372392),\n",
       " (0.7264833496713496, 0.47140523295323294, 0.47140523295323294),\n",
       " (0.7661114014895192, 0.5166952154083331, 0.5035787484073955),\n",
       " (0.7863194289402525, 0.5826776451008805, 0.5338170219931986),\n",
       " (0.8060208557063852, 0.6419162119223296, 0.5624335772152244),\n",
       " (0.8268352328346446, 0.7004691416846711, 0.591877710801299),\n",
       " (0.8455941614259261, 0.7504779178960943, 0.6178137589580531),\n",
       " (0.8639462890134066, 0.7973554590258708, 0.6427046509314744),\n",
       " (0.8819168735798735, 0.8416246920346919, 0.6666668323148323),\n",
       " (0.8995266582975406, 0.8836714660905248, 0.6897937079885315),\n",
       " (0.9182226206469736, 0.9182226206469736, 0.730922566774508),\n",
       " (0.9351500153979566, 0.9351500153979566, 0.7920885904440021),\n",
       " (0.951777174202586, 0.951777174202586, 0.8488555662223309),\n",
       " (0.9681178147316383, 0.9681178147316383, 0.9020560975870977),\n",
       " (0.9841882311620547, 0.9841882311620547, 0.9522885044266809)]"
      ]
     },
     "metadata": {},
     "output_type": "display_data"
    },
    {
     "name": "stdout",
     "output_type": "stream",
     "text": [
      "pink_r\n"
     ]
    },
    {
     "data": {
      "text/html": [
       "<svg  width=\"1100\" height=\"55\"><rect x=\"0\" y=\"0\" width=\"55\" height=\"55\" style=\"fill:#fbfbf3;stroke-width:2;stroke:rgb(255,255,255)\"/><rect x=\"55\" y=\"0\" width=\"55\" height=\"55\" style=\"fill:#f7f7e6;stroke-width:2;stroke:rgb(255,255,255)\"/><rect x=\"110\" y=\"0\" width=\"55\" height=\"55\" style=\"fill:#f3f3d8;stroke-width:2;stroke:rgb(255,255,255)\"/><rect x=\"165\" y=\"0\" width=\"55\" height=\"55\" style=\"fill:#eeeeca;stroke-width:2;stroke:rgb(255,255,255)\"/><rect x=\"220\" y=\"0\" width=\"55\" height=\"55\" style=\"fill:#eaeaba;stroke-width:2;stroke:rgb(255,255,255)\"/><rect x=\"275\" y=\"0\" width=\"55\" height=\"55\" style=\"fill:#e5e1b0;stroke-width:2;stroke:rgb(255,255,255)\"/><rect x=\"330\" y=\"0\" width=\"55\" height=\"55\" style=\"fill:#e1d7aa;stroke-width:2;stroke:rgb(255,255,255)\"/><rect x=\"385\" y=\"0\" width=\"55\" height=\"55\" style=\"fill:#dccba4;stroke-width:2;stroke:rgb(255,255,255)\"/><rect x=\"440\" y=\"0\" width=\"55\" height=\"55\" style=\"fill:#d8bf9e;stroke-width:2;stroke:rgb(255,255,255)\"/><rect x=\"495\" y=\"0\" width=\"55\" height=\"55\" style=\"fill:#d3b397;stroke-width:2;stroke:rgb(255,255,255)\"/><rect x=\"550\" y=\"0\" width=\"55\" height=\"55\" style=\"fill:#cea48f;stroke-width:2;stroke:rgb(255,255,255)\"/><rect x=\"605\" y=\"0\" width=\"55\" height=\"55\" style=\"fill:#c99588;stroke-width:2;stroke:rgb(255,255,255)\"/><rect x=\"660\" y=\"0\" width=\"55\" height=\"55\" style=\"fill:#c38480;stroke-width:2;stroke:rgb(255,255,255)\"/><rect x=\"715\" y=\"0\" width=\"55\" height=\"55\" style=\"fill:#b97878;stroke-width:2;stroke:rgb(255,255,255)\"/><rect x=\"770\" y=\"0\" width=\"55\" height=\"55\" style=\"fill:#ac6f6f;stroke-width:2;stroke:rgb(255,255,255)\"/><rect x=\"825\" y=\"0\" width=\"55\" height=\"55\" style=\"fill:#9c6565;stroke-width:2;stroke:rgb(255,255,255)\"/><rect x=\"880\" y=\"0\" width=\"55\" height=\"55\" style=\"fill:#8d5a5a;stroke-width:2;stroke:rgb(255,255,255)\"/><rect x=\"935\" y=\"0\" width=\"55\" height=\"55\" style=\"fill:#7b4e4e;stroke-width:2;stroke:rgb(255,255,255)\"/><rect x=\"990\" y=\"0\" width=\"55\" height=\"55\" style=\"fill:#664040;stroke-width:2;stroke:rgb(255,255,255)\"/><rect x=\"1045\" y=\"0\" width=\"55\" height=\"55\" style=\"fill:#4b2d2d;stroke-width:2;stroke:rgb(255,255,255)\"/></svg>"
      ],
      "text/plain": [
       "[(0.9841882311620547, 0.9841882311620547, 0.9522885044266809),\n",
       " (0.9681178147316383, 0.9681178147316383, 0.9020560975870976),\n",
       " (0.951777174202586, 0.951777174202586, 0.8488555662223309),\n",
       " (0.9351500153979566, 0.9351500153979566, 0.7920885904440021),\n",
       " (0.9182226206469736, 0.9182226206469736, 0.7309225667745078),\n",
       " (0.8995266582975406, 0.8836714660905249, 0.6897937079885315),\n",
       " (0.8819168735798736, 0.841624692034692, 0.6666668323148324),\n",
       " (0.8639462890134066, 0.7973554590258708, 0.6427046509314744),\n",
       " (0.8455941614259261, 0.7504779178960943, 0.6178137589580531),\n",
       " (0.8268352328346446, 0.7004691416846711, 0.591877710801299),\n",
       " (0.8060208557063852, 0.6419162119223296, 0.5624335772152244),\n",
       " (0.7863194289402525, 0.5826776451008804, 0.5338170219931985),\n",
       " (0.7661114014895192, 0.5166952154083332, 0.5035787484073955),\n",
       " (0.7264833496713498, 0.471405232953233, 0.471405232953233),\n",
       " (0.6746985819081114, 0.43685829803723925, 0.43685829803723925),\n",
       " (0.6136570634299457, 0.3960260826190238, 0.3960260826190238),\n",
       " (0.5513838317787141, 0.35420653283970926, 0.35420653283970926),\n",
       " (0.4811158781727016, 0.30673833345192164, 0.30673833345192164),\n",
       " (0.39864889431924716, 0.2504264360567889, 0.2504264360567889),\n",
       " (0.2938867093102976, 0.17702015575468522, 0.17702015575468522)]"
      ]
     },
     "metadata": {},
     "output_type": "display_data"
    },
    {
     "name": "stdout",
     "output_type": "stream",
     "text": [
      "plasma\n"
     ]
    },
    {
     "data": {
      "text/html": [
       "<svg  width=\"1100\" height=\"55\"><rect x=\"0\" y=\"0\" width=\"55\" height=\"55\" style=\"fill:#2a0593;stroke-width:2;stroke:rgb(255,255,255)\"/><rect x=\"55\" y=\"0\" width=\"55\" height=\"55\" style=\"fill:#3f049c;stroke-width:2;stroke:rgb(255,255,255)\"/><rect x=\"110\" y=\"0\" width=\"55\" height=\"55\" style=\"fill:#5302a3;stroke-width:2;stroke:rgb(255,255,255)\"/><rect x=\"165\" y=\"0\" width=\"55\" height=\"55\" style=\"fill:#6600a7;stroke-width:2;stroke:rgb(255,255,255)\"/><rect x=\"220\" y=\"0\" width=\"55\" height=\"55\" style=\"fill:#7801a8;stroke-width:2;stroke:rgb(255,255,255)\"/><rect x=\"275\" y=\"0\" width=\"55\" height=\"55\" style=\"fill:#8b0aa5;stroke-width:2;stroke:rgb(255,255,255)\"/><rect x=\"330\" y=\"0\" width=\"55\" height=\"55\" style=\"fill:#9c179e;stroke-width:2;stroke:rgb(255,255,255)\"/><rect x=\"385\" y=\"0\" width=\"55\" height=\"55\" style=\"fill:#ab2494;stroke-width:2;stroke:rgb(255,255,255)\"/><rect x=\"440\" y=\"0\" width=\"55\" height=\"55\" style=\"fill:#b83289;stroke-width:2;stroke:rgb(255,255,255)\"/><rect x=\"495\" y=\"0\" width=\"55\" height=\"55\" style=\"fill:#c5407e;stroke-width:2;stroke:rgb(255,255,255)\"/><rect x=\"550\" y=\"0\" width=\"55\" height=\"55\" style=\"fill:#d14e72;stroke-width:2;stroke:rgb(255,255,255)\"/><rect x=\"605\" y=\"0\" width=\"55\" height=\"55\" style=\"fill:#db5c68;stroke-width:2;stroke:rgb(255,255,255)\"/><rect x=\"660\" y=\"0\" width=\"55\" height=\"55\" style=\"fill:#e56a5d;stroke-width:2;stroke:rgb(255,255,255)\"/><rect x=\"715\" y=\"0\" width=\"55\" height=\"55\" style=\"fill:#ed7953;stroke-width:2;stroke:rgb(255,255,255)\"/><rect x=\"770\" y=\"0\" width=\"55\" height=\"55\" style=\"fill:#f48849;stroke-width:2;stroke:rgb(255,255,255)\"/><rect x=\"825\" y=\"0\" width=\"55\" height=\"55\" style=\"fill:#f99a3e;stroke-width:2;stroke:rgb(255,255,255)\"/><rect x=\"880\" y=\"0\" width=\"55\" height=\"55\" style=\"fill:#fdab33;stroke-width:2;stroke:rgb(255,255,255)\"/><rect x=\"935\" y=\"0\" width=\"55\" height=\"55\" style=\"fill:#febd2a;stroke-width:2;stroke:rgb(255,255,255)\"/><rect x=\"990\" y=\"0\" width=\"55\" height=\"55\" style=\"fill:#fcd025;stroke-width:2;stroke:rgb(255,255,255)\"/><rect x=\"1045\" y=\"0\" width=\"55\" height=\"55\" style=\"fill:#f7e425;stroke-width:2;stroke:rgb(255,255,255)\"/></svg>"
      ],
      "text/plain": [
       "[(0.16407, 0.020171, 0.577478),\n",
       " (0.248032, 0.014439, 0.612868),\n",
       " (0.32515, 0.006915, 0.639512),\n",
       " (0.399411, 0.000859, 0.656133),\n",
       " (0.471457, 0.005678, 0.659897),\n",
       " (0.546157, 0.038954, 0.64701),\n",
       " (0.610667, 0.090204, 0.619951),\n",
       " (0.669845, 0.142992, 0.582154),\n",
       " (0.723444, 0.196158, 0.538981),\n",
       " (0.771958, 0.249237, 0.494813),\n",
       " (0.819651, 0.306812, 0.448306),\n",
       " (0.85975, 0.360588, 0.406917),\n",
       " (0.896131, 0.415712, 0.366407),\n",
       " (0.928329, 0.472975, 0.326067),\n",
       " (0.95547, 0.533093, 0.28549),\n",
       " (0.977856, 0.602051, 0.241387),\n",
       " (0.990681, 0.669558, 0.201642),\n",
       " (0.994495, 0.74088, 0.166335),\n",
       " (0.987621, 0.815978, 0.144363),\n",
       " (0.968443, 0.894564, 0.147014)]"
      ]
     },
     "metadata": {},
     "output_type": "display_data"
    },
    {
     "name": "stdout",
     "output_type": "stream",
     "text": [
      "plasma_r\n"
     ]
    },
    {
     "data": {
      "text/html": [
       "<svg  width=\"1100\" height=\"55\"><rect x=\"0\" y=\"0\" width=\"55\" height=\"55\" style=\"fill:#f7e425;stroke-width:2;stroke:rgb(255,255,255)\"/><rect x=\"55\" y=\"0\" width=\"55\" height=\"55\" style=\"fill:#fcd025;stroke-width:2;stroke:rgb(255,255,255)\"/><rect x=\"110\" y=\"0\" width=\"55\" height=\"55\" style=\"fill:#febd2a;stroke-width:2;stroke:rgb(255,255,255)\"/><rect x=\"165\" y=\"0\" width=\"55\" height=\"55\" style=\"fill:#fdab33;stroke-width:2;stroke:rgb(255,255,255)\"/><rect x=\"220\" y=\"0\" width=\"55\" height=\"55\" style=\"fill:#f99a3e;stroke-width:2;stroke:rgb(255,255,255)\"/><rect x=\"275\" y=\"0\" width=\"55\" height=\"55\" style=\"fill:#f48849;stroke-width:2;stroke:rgb(255,255,255)\"/><rect x=\"330\" y=\"0\" width=\"55\" height=\"55\" style=\"fill:#ed7953;stroke-width:2;stroke:rgb(255,255,255)\"/><rect x=\"385\" y=\"0\" width=\"55\" height=\"55\" style=\"fill:#e56a5d;stroke-width:2;stroke:rgb(255,255,255)\"/><rect x=\"440\" y=\"0\" width=\"55\" height=\"55\" style=\"fill:#db5c68;stroke-width:2;stroke:rgb(255,255,255)\"/><rect x=\"495\" y=\"0\" width=\"55\" height=\"55\" style=\"fill:#d14e72;stroke-width:2;stroke:rgb(255,255,255)\"/><rect x=\"550\" y=\"0\" width=\"55\" height=\"55\" style=\"fill:#c5407e;stroke-width:2;stroke:rgb(255,255,255)\"/><rect x=\"605\" y=\"0\" width=\"55\" height=\"55\" style=\"fill:#b83289;stroke-width:2;stroke:rgb(255,255,255)\"/><rect x=\"660\" y=\"0\" width=\"55\" height=\"55\" style=\"fill:#ab2494;stroke-width:2;stroke:rgb(255,255,255)\"/><rect x=\"715\" y=\"0\" width=\"55\" height=\"55\" style=\"fill:#9c179e;stroke-width:2;stroke:rgb(255,255,255)\"/><rect x=\"770\" y=\"0\" width=\"55\" height=\"55\" style=\"fill:#8b0aa5;stroke-width:2;stroke:rgb(255,255,255)\"/><rect x=\"825\" y=\"0\" width=\"55\" height=\"55\" style=\"fill:#7801a8;stroke-width:2;stroke:rgb(255,255,255)\"/><rect x=\"880\" y=\"0\" width=\"55\" height=\"55\" style=\"fill:#6600a7;stroke-width:2;stroke:rgb(255,255,255)\"/><rect x=\"935\" y=\"0\" width=\"55\" height=\"55\" style=\"fill:#5302a3;stroke-width:2;stroke:rgb(255,255,255)\"/><rect x=\"990\" y=\"0\" width=\"55\" height=\"55\" style=\"fill:#3f049c;stroke-width:2;stroke:rgb(255,255,255)\"/><rect x=\"1045\" y=\"0\" width=\"55\" height=\"55\" style=\"fill:#2a0593;stroke-width:2;stroke:rgb(255,255,255)\"/></svg>"
      ],
      "text/plain": [
       "[(0.968443, 0.894564, 0.147014),\n",
       " (0.987621, 0.815978, 0.144363),\n",
       " (0.994495, 0.74088, 0.166335),\n",
       " (0.990681, 0.669558, 0.201642),\n",
       " (0.977856, 0.602051, 0.241387),\n",
       " (0.95547, 0.533093, 0.28549),\n",
       " (0.928329, 0.472975, 0.326067),\n",
       " (0.896131, 0.415712, 0.366407),\n",
       " (0.85975, 0.360588, 0.406917),\n",
       " (0.819651, 0.306812, 0.448306),\n",
       " (0.771958, 0.249237, 0.494813),\n",
       " (0.723444, 0.196158, 0.538981),\n",
       " (0.669845, 0.142992, 0.582154),\n",
       " (0.610667, 0.090204, 0.619951),\n",
       " (0.546157, 0.038954, 0.64701),\n",
       " (0.471457, 0.005678, 0.659897),\n",
       " (0.399411, 0.000859, 0.656133),\n",
       " (0.32515, 0.006915, 0.639512),\n",
       " (0.248032, 0.014439, 0.612868),\n",
       " (0.16407, 0.020171, 0.577478)]"
      ]
     },
     "metadata": {},
     "output_type": "display_data"
    },
    {
     "name": "stdout",
     "output_type": "stream",
     "text": [
      "prism\n"
     ]
    },
    {
     "data": {
      "text/html": [
       "<svg  width=\"1100\" height=\"55\"><rect x=\"0\" y=\"0\" width=\"55\" height=\"55\" style=\"fill:#2be200;stroke-width:2;stroke:rgb(255,255,255)\"/><rect x=\"55\" y=\"0\" width=\"55\" height=\"55\" style=\"fill:#ff001d;stroke-width:2;stroke:rgb(255,255,255)\"/><rect x=\"110\" y=\"0\" width=\"55\" height=\"55\" style=\"fill:#3aef00;stroke-width:2;stroke:rgb(255,255,255)\"/><rect x=\"165\" y=\"0\" width=\"55\" height=\"55\" style=\"fill:#ff003a;stroke-width:2;stroke:rgb(255,255,255)\"/><rect x=\"220\" y=\"0\" width=\"55\" height=\"55\" style=\"fill:#4bf900;stroke-width:2;stroke:rgb(255,255,255)\"/><rect x=\"275\" y=\"0\" width=\"55\" height=\"55\" style=\"fill:#ff000f;stroke-width:2;stroke:rgb(255,255,255)\"/><rect x=\"330\" y=\"0\" width=\"55\" height=\"55\" style=\"fill:#32e900;stroke-width:2;stroke:rgb(255,255,255)\"/><rect x=\"385\" y=\"0\" width=\"55\" height=\"55\" style=\"fill:#ff002c;stroke-width:2;stroke:rgb(255,255,255)\"/><rect x=\"440\" y=\"0\" width=\"55\" height=\"55\" style=\"fill:#42f400;stroke-width:2;stroke:rgb(255,255,255)\"/><rect x=\"495\" y=\"0\" width=\"55\" height=\"55\" style=\"fill:#ff0048;stroke-width:2;stroke:rgb(255,255,255)\"/><rect x=\"550\" y=\"0\" width=\"55\" height=\"55\" style=\"fill:#2be300;stroke-width:2;stroke:rgb(255,255,255)\"/><rect x=\"605\" y=\"0\" width=\"55\" height=\"55\" style=\"fill:#ff001e;stroke-width:2;stroke:rgb(255,255,255)\"/><rect x=\"660\" y=\"0\" width=\"55\" height=\"55\" style=\"fill:#3bef00;stroke-width:2;stroke:rgb(255,255,255)\"/><rect x=\"715\" y=\"0\" width=\"55\" height=\"55\" style=\"fill:#ff003a;stroke-width:2;stroke:rgb(255,255,255)\"/><rect x=\"770\" y=\"0\" width=\"55\" height=\"55\" style=\"fill:#4bfa00;stroke-width:2;stroke:rgb(255,255,255)\"/><rect x=\"825\" y=\"0\" width=\"55\" height=\"55\" style=\"fill:#ff0010;stroke-width:2;stroke:rgb(255,255,255)\"/><rect x=\"880\" y=\"0\" width=\"55\" height=\"55\" style=\"fill:#33e900;stroke-width:2;stroke:rgb(255,255,255)\"/><rect x=\"935\" y=\"0\" width=\"55\" height=\"55\" style=\"fill:#ff002c;stroke-width:2;stroke:rgb(255,255,255)\"/><rect x=\"990\" y=\"0\" width=\"55\" height=\"55\" style=\"fill:#43f500;stroke-width:2;stroke:rgb(255,255,255)\"/><rect x=\"1045\" y=\"0\" width=\"55\" height=\"55\" style=\"fill:#ff0049;stroke-width:2;stroke:rgb(255,255,255)\"/></svg>"
      ],
      "text/plain": [
       "[(0.1678088083602195, 0.8870493757643187, 0.0),\n",
       " (1.0, 0.0, 0.11363344975416512),\n",
       " (0.2280405192384154, 0.9359470417164775, 0.0),\n",
       " (1.0, 0.0, 0.2260510032669593),\n",
       " (0.2930012678485353, 0.9783609765834069, 0.0),\n",
       " (1.0, 0.0, 0.0582462106923429),\n",
       " (0.1980097067126243, 0.9128594710927294, 0.0),\n",
       " (1.0, 0.0, 0.17140862288416459),\n",
       " (0.2607461041404445, 0.9584992034392541, 0.0),\n",
       " (1.0, 0.0, 0.2827369351630226),\n",
       " (0.1691828978913611, 0.8882850797177961, 0.0),\n",
       " (1.0, 0.0, 0.11632899491412466),\n",
       " (0.22953490937348364, 0.9370341867962395, 0.0),\n",
       " (1.0, 0.0, 0.22870285989954603),\n",
       " (0.29459996837203783, 0.9792879301617472, 0.0),\n",
       " (1.0, 0.0, 0.06095262240757771),\n",
       " (0.1994473004267684, 0.9140206819320229, 0.0),\n",
       " (1.0, 0.0, 0.1740853847346898),\n",
       " (0.2622959633336974, 0.9595056937677395, 0.0),\n",
       " (1.0, 0.0, 0.28535540536526627)]"
      ]
     },
     "metadata": {},
     "output_type": "display_data"
    },
    {
     "name": "stdout",
     "output_type": "stream",
     "text": [
      "prism_r\n"
     ]
    },
    {
     "data": {
      "text/html": [
       "<svg  width=\"1100\" height=\"55\"><rect x=\"0\" y=\"0\" width=\"55\" height=\"55\" style=\"fill:#ff0049;stroke-width:2;stroke:rgb(255,255,255)\"/><rect x=\"55\" y=\"0\" width=\"55\" height=\"55\" style=\"fill:#43f500;stroke-width:2;stroke:rgb(255,255,255)\"/><rect x=\"110\" y=\"0\" width=\"55\" height=\"55\" style=\"fill:#ff002c;stroke-width:2;stroke:rgb(255,255,255)\"/><rect x=\"165\" y=\"0\" width=\"55\" height=\"55\" style=\"fill:#33e900;stroke-width:2;stroke:rgb(255,255,255)\"/><rect x=\"220\" y=\"0\" width=\"55\" height=\"55\" style=\"fill:#ff0010;stroke-width:2;stroke:rgb(255,255,255)\"/><rect x=\"275\" y=\"0\" width=\"55\" height=\"55\" style=\"fill:#4bfa00;stroke-width:2;stroke:rgb(255,255,255)\"/><rect x=\"330\" y=\"0\" width=\"55\" height=\"55\" style=\"fill:#ff003a;stroke-width:2;stroke:rgb(255,255,255)\"/><rect x=\"385\" y=\"0\" width=\"55\" height=\"55\" style=\"fill:#3bef00;stroke-width:2;stroke:rgb(255,255,255)\"/><rect x=\"440\" y=\"0\" width=\"55\" height=\"55\" style=\"fill:#ff001e;stroke-width:2;stroke:rgb(255,255,255)\"/><rect x=\"495\" y=\"0\" width=\"55\" height=\"55\" style=\"fill:#2be300;stroke-width:2;stroke:rgb(255,255,255)\"/><rect x=\"550\" y=\"0\" width=\"55\" height=\"55\" style=\"fill:#ff0048;stroke-width:2;stroke:rgb(255,255,255)\"/><rect x=\"605\" y=\"0\" width=\"55\" height=\"55\" style=\"fill:#42f400;stroke-width:2;stroke:rgb(255,255,255)\"/><rect x=\"660\" y=\"0\" width=\"55\" height=\"55\" style=\"fill:#ff002c;stroke-width:2;stroke:rgb(255,255,255)\"/><rect x=\"715\" y=\"0\" width=\"55\" height=\"55\" style=\"fill:#32e900;stroke-width:2;stroke:rgb(255,255,255)\"/><rect x=\"770\" y=\"0\" width=\"55\" height=\"55\" style=\"fill:#ff000f;stroke-width:2;stroke:rgb(255,255,255)\"/><rect x=\"825\" y=\"0\" width=\"55\" height=\"55\" style=\"fill:#4bf900;stroke-width:2;stroke:rgb(255,255,255)\"/><rect x=\"880\" y=\"0\" width=\"55\" height=\"55\" style=\"fill:#ff003a;stroke-width:2;stroke:rgb(255,255,255)\"/><rect x=\"935\" y=\"0\" width=\"55\" height=\"55\" style=\"fill:#3aef00;stroke-width:2;stroke:rgb(255,255,255)\"/><rect x=\"990\" y=\"0\" width=\"55\" height=\"55\" style=\"fill:#ff001d;stroke-width:2;stroke:rgb(255,255,255)\"/><rect x=\"1045\" y=\"0\" width=\"55\" height=\"55\" style=\"fill:#2be200;stroke-width:2;stroke:rgb(255,255,255)\"/></svg>"
      ],
      "text/plain": [
       "[(1.0, 0.0, 0.28535540536526627),\n",
       " (0.2622959633336974, 0.9595056937677395, 0.0),\n",
       " (1.0, 0.0, 0.17408538473467436),\n",
       " (0.1994473004267684, 0.9140206819320229, 0.0),\n",
       " (1.0, 0.0, 0.06095262240757771),\n",
       " (0.29459996837203783, 0.9792879301617472, 0.0),\n",
       " (1.0, 0.0, 0.2287028598995384),\n",
       " (0.22953490937348364, 0.9370341867962395, 0.0),\n",
       " (1.0, 0.0, 0.11632899491412466),\n",
       " (0.1691828978913611, 0.8882850797177961, 0.0),\n",
       " (1.0, 0.0, 0.2827369351630226),\n",
       " (0.26074610414044, 0.9584992034392512, 0.0),\n",
       " (1.0, 0.0, 0.17140862288416459),\n",
       " (0.1980097067126223, 0.9128594710927276, 0.0),\n",
       " (1.0, 0.0, 0.0582462106923429),\n",
       " (0.293001267848533, 0.9783609765834049, 0.0),\n",
       " (1.0, 0.0, 0.2260510032669593),\n",
       " (0.2280405192384133, 0.9359470417164759, 0.0),\n",
       " (1.0, 0.0, 0.11363344975416512),\n",
       " (0.16780880836021728, 0.8870493757643167, 0.0)]"
      ]
     },
     "metadata": {},
     "output_type": "display_data"
    },
    {
     "name": "stdout",
     "output_type": "stream",
     "text": [
      "rainbow\n"
     ]
    },
    {
     "data": {
      "text/html": [
       "<svg  width=\"1100\" height=\"55\"><rect x=\"0\" y=\"0\" width=\"55\" height=\"55\" style=\"fill:#6826fe;stroke-width:2;stroke:rgb(255,255,255)\"/><rect x=\"55\" y=\"0\" width=\"55\" height=\"55\" style=\"fill:#504afc;stroke-width:2;stroke:rgb(255,255,255)\"/><rect x=\"110\" y=\"0\" width=\"55\" height=\"55\" style=\"fill:#386df9;stroke-width:2;stroke:rgb(255,255,255)\"/><rect x=\"165\" y=\"0\" width=\"55\" height=\"55\" style=\"fill:#208ef4;stroke-width:2;stroke:rgb(255,255,255)\"/><rect x=\"220\" y=\"0\" width=\"55\" height=\"55\" style=\"fill:#08acee;stroke-width:2;stroke:rgb(255,255,255)\"/><rect x=\"275\" y=\"0\" width=\"55\" height=\"55\" style=\"fill:#12c8e6;stroke-width:2;stroke:rgb(255,255,255)\"/><rect x=\"330\" y=\"0\" width=\"55\" height=\"55\" style=\"fill:#2adddd;stroke-width:2;stroke:rgb(255,255,255)\"/><rect x=\"385\" y=\"0\" width=\"55\" height=\"55\" style=\"fill:#42edd3;stroke-width:2;stroke:rgb(255,255,255)\"/><rect x=\"440\" y=\"0\" width=\"55\" height=\"55\" style=\"fill:#5af8c8;stroke-width:2;stroke:rgb(255,255,255)\"/><rect x=\"495\" y=\"0\" width=\"55\" height=\"55\" style=\"fill:#72febb;stroke-width:2;stroke:rgb(255,255,255)\"/><rect x=\"550\" y=\"0\" width=\"55\" height=\"55\" style=\"fill:#8cfead;stroke-width:2;stroke:rgb(255,255,255)\"/><rect x=\"605\" y=\"0\" width=\"55\" height=\"55\" style=\"fill:#a4f89f;stroke-width:2;stroke:rgb(255,255,255)\"/><rect x=\"660\" y=\"0\" width=\"55\" height=\"55\" style=\"fill:#bced8f;stroke-width:2;stroke:rgb(255,255,255)\"/><rect x=\"715\" y=\"0\" width=\"55\" height=\"55\" style=\"fill:#d4dd80;stroke-width:2;stroke:rgb(255,255,255)\"/><rect x=\"770\" y=\"0\" width=\"55\" height=\"55\" style=\"fill:#ecc86f;stroke-width:2;stroke:rgb(255,255,255)\"/><rect x=\"825\" y=\"0\" width=\"55\" height=\"55\" style=\"fill:#ffac5c;stroke-width:2;stroke:rgb(255,255,255)\"/><rect x=\"880\" y=\"0\" width=\"55\" height=\"55\" style=\"fill:#ff8e4a;stroke-width:2;stroke:rgb(255,255,255)\"/><rect x=\"935\" y=\"0\" width=\"55\" height=\"55\" style=\"fill:#ff6d38;stroke-width:2;stroke:rgb(255,255,255)\"/><rect x=\"990\" y=\"0\" width=\"55\" height=\"55\" style=\"fill:#ff4a26;stroke-width:2;stroke:rgb(255,255,255)\"/><rect x=\"1045\" y=\"0\" width=\"55\" height=\"55\" style=\"fill:#ff2613;stroke-width:2;stroke:rgb(255,255,255)\"/></svg>"
      ],
      "text/plain": [
       "[(0.40588235294117647, 0.1473016980546375, 0.997269173385788),\n",
       " (0.31176470588235294, 0.2913897468893246, 0.989091608371146),\n",
       " (0.21764705882352942, 0.42912060877260894, 0.9755119679804366),\n",
       " (0.12352941176470589, 0.5574894393428855, 0.9566044195004408),\n",
       " (0.02941176470588236, 0.6736956436465572, 0.9324722294043558),\n",
       " (0.0725490196078431, 0.7829276104921027, 0.9005867023006374),\n",
       " (0.16666666666666663, 0.8660254037844386, 0.8660254037844387),\n",
       " (0.26078431372549016, 0.9302293085467402, 0.8267341748257635),\n",
       " (0.3549019607843137, 0.9741386021045101, 0.7829276104921028),\n",
       " (0.4490196078431372, 0.9967953249171991, 0.7348449670469757),\n",
       " (0.5509803921568628, 0.9967953249171991, 0.678235117349234),\n",
       " (0.6450980392156862, 0.9741386021045102, 0.622112816721474),\n",
       " (0.7392156862745098, 0.9302293085467404, 0.5625927516198231),\n",
       " (0.8333333333333333, 0.8660254037844387, 0.5000000000000001),\n",
       " (0.9274509803921569, 0.7829276104921029, 0.43467642176596505),\n",
       " (1.0, 0.6736956436465574, 0.36124166618715303),\n",
       " (1.0, 0.5574894393428858, 0.29138974688932473),\n",
       " (1.0, 0.42912060877260916, 0.2199463578396687),\n",
       " (1.0, 0.2913897468893248, 0.14730169805463758),\n",
       " (1.0, 0.14730169805463766, 0.07385252747487403)]"
      ]
     },
     "metadata": {},
     "output_type": "display_data"
    },
    {
     "name": "stdout",
     "output_type": "stream",
     "text": [
      "rainbow_r\n"
     ]
    },
    {
     "data": {
      "text/html": [
       "<svg  width=\"1100\" height=\"55\"><rect x=\"0\" y=\"0\" width=\"55\" height=\"55\" style=\"fill:#ff2613;stroke-width:2;stroke:rgb(255,255,255)\"/><rect x=\"55\" y=\"0\" width=\"55\" height=\"55\" style=\"fill:#ff4a26;stroke-width:2;stroke:rgb(255,255,255)\"/><rect x=\"110\" y=\"0\" width=\"55\" height=\"55\" style=\"fill:#ff6d38;stroke-width:2;stroke:rgb(255,255,255)\"/><rect x=\"165\" y=\"0\" width=\"55\" height=\"55\" style=\"fill:#ff8e4a;stroke-width:2;stroke:rgb(255,255,255)\"/><rect x=\"220\" y=\"0\" width=\"55\" height=\"55\" style=\"fill:#ffac5c;stroke-width:2;stroke:rgb(255,255,255)\"/><rect x=\"275\" y=\"0\" width=\"55\" height=\"55\" style=\"fill:#ecc86f;stroke-width:2;stroke:rgb(255,255,255)\"/><rect x=\"330\" y=\"0\" width=\"55\" height=\"55\" style=\"fill:#d5dd7f;stroke-width:2;stroke:rgb(255,255,255)\"/><rect x=\"385\" y=\"0\" width=\"55\" height=\"55\" style=\"fill:#bced8f;stroke-width:2;stroke:rgb(255,255,255)\"/><rect x=\"440\" y=\"0\" width=\"55\" height=\"55\" style=\"fill:#a4f89f;stroke-width:2;stroke:rgb(255,255,255)\"/><rect x=\"495\" y=\"0\" width=\"55\" height=\"55\" style=\"fill:#8cfead;stroke-width:2;stroke:rgb(255,255,255)\"/><rect x=\"550\" y=\"0\" width=\"55\" height=\"55\" style=\"fill:#72febb;stroke-width:2;stroke:rgb(255,255,255)\"/><rect x=\"605\" y=\"0\" width=\"55\" height=\"55\" style=\"fill:#5bf8c8;stroke-width:2;stroke:rgb(255,255,255)\"/><rect x=\"660\" y=\"0\" width=\"55\" height=\"55\" style=\"fill:#42edd3;stroke-width:2;stroke:rgb(255,255,255)\"/><rect x=\"715\" y=\"0\" width=\"55\" height=\"55\" style=\"fill:#2bdddd;stroke-width:2;stroke:rgb(255,255,255)\"/><rect x=\"770\" y=\"0\" width=\"55\" height=\"55\" style=\"fill:#12c8e6;stroke-width:2;stroke:rgb(255,255,255)\"/><rect x=\"825\" y=\"0\" width=\"55\" height=\"55\" style=\"fill:#07acee;stroke-width:2;stroke:rgb(255,255,255)\"/><rect x=\"880\" y=\"0\" width=\"55\" height=\"55\" style=\"fill:#208ef4;stroke-width:2;stroke:rgb(255,255,255)\"/><rect x=\"935\" y=\"0\" width=\"55\" height=\"55\" style=\"fill:#376df9;stroke-width:2;stroke:rgb(255,255,255)\"/><rect x=\"990\" y=\"0\" width=\"55\" height=\"55\" style=\"fill:#504afc;stroke-width:2;stroke:rgb(255,255,255)\"/><rect x=\"1045\" y=\"0\" width=\"55\" height=\"55\" style=\"fill:#6726fe;stroke-width:2;stroke:rgb(255,255,255)\"/></svg>"
      ],
      "text/plain": [
       "[(1.0, 0.14730169805463766, 0.07385252747487403),\n",
       " (1.0, 0.2913897468893248, 0.14730169805463758),\n",
       " (1.0, 0.4291206087726087, 0.2199463578396685),\n",
       " (1.0, 0.5574894393428858, 0.29138974688932473),\n",
       " (1.0, 0.6736956436465574, 0.36124166618715303),\n",
       " (0.9274509803921569, 0.7829276104921029, 0.43467642176596505),\n",
       " (0.8333333333333335, 0.8660254037844386, 0.4999999999999999),\n",
       " (0.7392156862745098, 0.9302293085467404, 0.5625927516198231),\n",
       " (0.6450980392156862, 0.9741386021045102, 0.622112816721474),\n",
       " (0.5509803921568628, 0.9967953249171991, 0.678235117349234),\n",
       " (0.4490196078431372, 0.9967953249171991, 0.7348449670469757),\n",
       " (0.3549019607843138, 0.9741386021045101, 0.7829276104921028),\n",
       " (0.26078431372549016, 0.9302293085467402, 0.8267341748257635),\n",
       " (0.16666666666666674, 0.8660254037844387, 0.8660254037844386),\n",
       " (0.0725490196078431, 0.7829276104921027, 0.9005867023006374),\n",
       " (0.02941176470588225, 0.6736956436465573, 0.9324722294043558),\n",
       " (0.12352941176470589, 0.5574894393428855, 0.9566044195004408),\n",
       " (0.2176470588235293, 0.4291206087726091, 0.9755119679804366),\n",
       " (0.31176470588235294, 0.2913897468893246, 0.989091608371146),\n",
       " (0.40588235294117636, 0.14730169805463766, 0.997269173385788)]"
      ]
     },
     "metadata": {},
     "output_type": "display_data"
    },
    {
     "name": "stdout",
     "output_type": "stream",
     "text": [
      "rocket\n"
     ]
    },
    {
     "data": {
      "text/html": [
       "<svg  width=\"1100\" height=\"55\"><rect x=\"0\" y=\"0\" width=\"55\" height=\"55\" style=\"fill:#130d25;stroke-width:2;stroke:rgb(255,255,255)\"/><rect x=\"55\" y=\"0\" width=\"55\" height=\"55\" style=\"fill:#241432;stroke-width:2;stroke:rgb(255,255,255)\"/><rect x=\"110\" y=\"0\" width=\"55\" height=\"55\" style=\"fill:#35193e;stroke-width:2;stroke:rgb(255,255,255)\"/><rect x=\"165\" y=\"0\" width=\"55\" height=\"55\" style=\"fill:#481c48;stroke-width:2;stroke:rgb(255,255,255)\"/><rect x=\"220\" y=\"0\" width=\"55\" height=\"55\" style=\"fill:#5b1e51;stroke-width:2;stroke:rgb(255,255,255)\"/><rect x=\"275\" y=\"0\" width=\"55\" height=\"55\" style=\"fill:#701f57;stroke-width:2;stroke:rgb(255,255,255)\"/><rect x=\"330\" y=\"0\" width=\"55\" height=\"55\" style=\"fill:#841e5a;stroke-width:2;stroke:rgb(255,255,255)\"/><rect x=\"385\" y=\"0\" width=\"55\" height=\"55\" style=\"fill:#981b5b;stroke-width:2;stroke:rgb(255,255,255)\"/><rect x=\"440\" y=\"0\" width=\"55\" height=\"55\" style=\"fill:#ad1759;stroke-width:2;stroke:rgb(255,255,255)\"/><rect x=\"495\" y=\"0\" width=\"55\" height=\"55\" style=\"fill:#c11754;stroke-width:2;stroke:rgb(255,255,255)\"/><rect x=\"550\" y=\"0\" width=\"55\" height=\"55\" style=\"fill:#d3214b;stroke-width:2;stroke:rgb(255,255,255)\"/><rect x=\"605\" y=\"0\" width=\"55\" height=\"55\" style=\"fill:#e13342;stroke-width:2;stroke:rgb(255,255,255)\"/><rect x=\"660\" y=\"0\" width=\"55\" height=\"55\" style=\"fill:#eb483e;stroke-width:2;stroke:rgb(255,255,255)\"/><rect x=\"715\" y=\"0\" width=\"55\" height=\"55\" style=\"fill:#f06043;stroke-width:2;stroke:rgb(255,255,255)\"/><rect x=\"770\" y=\"0\" width=\"55\" height=\"55\" style=\"fill:#f37651;stroke-width:2;stroke:rgb(255,255,255)\"/><rect x=\"825\" y=\"0\" width=\"55\" height=\"55\" style=\"fill:#f58d64;stroke-width:2;stroke:rgb(255,255,255)\"/><rect x=\"880\" y=\"0\" width=\"55\" height=\"55\" style=\"fill:#f6a178;stroke-width:2;stroke:rgb(255,255,255)\"/><rect x=\"935\" y=\"0\" width=\"55\" height=\"55\" style=\"fill:#f6b48f;stroke-width:2;stroke:rgb(255,255,255)\"/><rect x=\"990\" y=\"0\" width=\"55\" height=\"55\" style=\"fill:#f7c7a8;stroke-width:2;stroke:rgb(255,255,255)\"/><rect x=\"1045\" y=\"0\" width=\"55\" height=\"55\" style=\"fill:#f8d9c3;stroke-width:2;stroke:rgb(255,255,255)\"/></svg>"
      ],
      "text/plain": [
       "[(0.0732236, 0.05045047, 0.14597263),\n",
       " (0.14066867, 0.0778224, 0.19452676),\n",
       " (0.20973515, 0.09747934, 0.24238489),\n",
       " (0.28144375, 0.11104133, 0.2835489),\n",
       " (0.355676, 0.11910909, 0.31620996),\n",
       " (0.43860848, 0.12177004, 0.34119475),\n",
       " (0.51728314, 0.1179558, 0.35453252),\n",
       " (0.59770215, 0.10693774, 0.35838029),\n",
       " (0.67824099, 0.09192342, 0.3504148),\n",
       " (0.75535825, 0.08919792, 0.32876184),\n",
       " (0.82852822, 0.13014118, 0.29347474),\n",
       " (0.8833417, 0.19830556, 0.26014181),\n",
       " (0.92223947, 0.28287251, 0.24229568),\n",
       " (0.94291042, 0.37549479, 0.26369821),\n",
       " (0.95381595, 0.46373781, 0.31769923),\n",
       " (0.96042097, 0.55328624, 0.39319057),\n",
       " (0.96355923, 0.63201624, 0.47204746),\n",
       " (0.96516917, 0.70776351, 0.5606593),\n",
       " (0.96773482, 0.78044149, 0.65912731),\n",
       " (0.97327085, 0.85072354, 0.76299805)]"
      ]
     },
     "metadata": {},
     "output_type": "display_data"
    },
    {
     "name": "stdout",
     "output_type": "stream",
     "text": [
      "rocket_r\n"
     ]
    },
    {
     "data": {
      "text/html": [
       "<svg  width=\"1100\" height=\"55\"><rect x=\"0\" y=\"0\" width=\"55\" height=\"55\" style=\"fill:#f8d9c3;stroke-width:2;stroke:rgb(255,255,255)\"/><rect x=\"55\" y=\"0\" width=\"55\" height=\"55\" style=\"fill:#f7c7a8;stroke-width:2;stroke:rgb(255,255,255)\"/><rect x=\"110\" y=\"0\" width=\"55\" height=\"55\" style=\"fill:#f6b48f;stroke-width:2;stroke:rgb(255,255,255)\"/><rect x=\"165\" y=\"0\" width=\"55\" height=\"55\" style=\"fill:#f6a178;stroke-width:2;stroke:rgb(255,255,255)\"/><rect x=\"220\" y=\"0\" width=\"55\" height=\"55\" style=\"fill:#f58d64;stroke-width:2;stroke:rgb(255,255,255)\"/><rect x=\"275\" y=\"0\" width=\"55\" height=\"55\" style=\"fill:#f37651;stroke-width:2;stroke:rgb(255,255,255)\"/><rect x=\"330\" y=\"0\" width=\"55\" height=\"55\" style=\"fill:#f06043;stroke-width:2;stroke:rgb(255,255,255)\"/><rect x=\"385\" y=\"0\" width=\"55\" height=\"55\" style=\"fill:#eb483e;stroke-width:2;stroke:rgb(255,255,255)\"/><rect x=\"440\" y=\"0\" width=\"55\" height=\"55\" style=\"fill:#e13342;stroke-width:2;stroke:rgb(255,255,255)\"/><rect x=\"495\" y=\"0\" width=\"55\" height=\"55\" style=\"fill:#d3214b;stroke-width:2;stroke:rgb(255,255,255)\"/><rect x=\"550\" y=\"0\" width=\"55\" height=\"55\" style=\"fill:#c11754;stroke-width:2;stroke:rgb(255,255,255)\"/><rect x=\"605\" y=\"0\" width=\"55\" height=\"55\" style=\"fill:#ad1759;stroke-width:2;stroke:rgb(255,255,255)\"/><rect x=\"660\" y=\"0\" width=\"55\" height=\"55\" style=\"fill:#981b5b;stroke-width:2;stroke:rgb(255,255,255)\"/><rect x=\"715\" y=\"0\" width=\"55\" height=\"55\" style=\"fill:#841e5a;stroke-width:2;stroke:rgb(255,255,255)\"/><rect x=\"770\" y=\"0\" width=\"55\" height=\"55\" style=\"fill:#701f57;stroke-width:2;stroke:rgb(255,255,255)\"/><rect x=\"825\" y=\"0\" width=\"55\" height=\"55\" style=\"fill:#5b1e51;stroke-width:2;stroke:rgb(255,255,255)\"/><rect x=\"880\" y=\"0\" width=\"55\" height=\"55\" style=\"fill:#481c48;stroke-width:2;stroke:rgb(255,255,255)\"/><rect x=\"935\" y=\"0\" width=\"55\" height=\"55\" style=\"fill:#35193e;stroke-width:2;stroke:rgb(255,255,255)\"/><rect x=\"990\" y=\"0\" width=\"55\" height=\"55\" style=\"fill:#241432;stroke-width:2;stroke:rgb(255,255,255)\"/><rect x=\"1045\" y=\"0\" width=\"55\" height=\"55\" style=\"fill:#130d25;stroke-width:2;stroke:rgb(255,255,255)\"/></svg>"
      ],
      "text/plain": [
       "[(0.97327085, 0.85072354, 0.76299805),\n",
       " (0.96773482, 0.78044149, 0.65912731),\n",
       " (0.96516917, 0.70776351, 0.5606593),\n",
       " (0.96355923, 0.63201624, 0.47204746),\n",
       " (0.96042097, 0.55328624, 0.39319057),\n",
       " (0.95381595, 0.46373781, 0.31769923),\n",
       " (0.94291042, 0.37549479, 0.26369821),\n",
       " (0.92223947, 0.28287251, 0.24229568),\n",
       " (0.8833417, 0.19830556, 0.26014181),\n",
       " (0.82852822, 0.13014118, 0.29347474),\n",
       " (0.75535825, 0.08919792, 0.32876184),\n",
       " (0.67824099, 0.09192342, 0.3504148),\n",
       " (0.59770215, 0.10693774, 0.35838029),\n",
       " (0.51728314, 0.1179558, 0.35453252),\n",
       " (0.43860848, 0.12177004, 0.34119475),\n",
       " (0.355676, 0.11910909, 0.31620996),\n",
       " (0.28144375, 0.11104133, 0.2835489),\n",
       " (0.20973515, 0.09747934, 0.24238489),\n",
       " (0.14066867, 0.0778224, 0.19452676),\n",
       " (0.0732236, 0.05045047, 0.14597263)]"
      ]
     },
     "metadata": {},
     "output_type": "display_data"
    },
    {
     "name": "stdout",
     "output_type": "stream",
     "text": [
      "seismic\n"
     ]
    },
    {
     "data": {
      "text/html": [
       "<svg  width=\"1100\" height=\"55\"><rect x=\"0\" y=\"0\" width=\"55\" height=\"55\" style=\"fill:#00006e;stroke-width:2;stroke:rgb(255,255,255)\"/><rect x=\"55\" y=\"0\" width=\"55\" height=\"55\" style=\"fill:#000090;stroke-width:2;stroke:rgb(255,255,255)\"/><rect x=\"110\" y=\"0\" width=\"55\" height=\"55\" style=\"fill:#0000b1;stroke-width:2;stroke:rgb(255,255,255)\"/><rect x=\"165\" y=\"0\" width=\"55\" height=\"55\" style=\"fill:#0000d3;stroke-width:2;stroke:rgb(255,255,255)\"/><rect x=\"220\" y=\"0\" width=\"55\" height=\"55\" style=\"fill:#0000f4;stroke-width:2;stroke:rgb(255,255,255)\"/><rect x=\"275\" y=\"0\" width=\"55\" height=\"55\" style=\"fill:#2525ff;stroke-width:2;stroke:rgb(255,255,255)\"/><rect x=\"330\" y=\"0\" width=\"55\" height=\"55\" style=\"fill:#5555ff;stroke-width:2;stroke:rgb(255,255,255)\"/><rect x=\"385\" y=\"0\" width=\"55\" height=\"55\" style=\"fill:#8585ff;stroke-width:2;stroke:rgb(255,255,255)\"/><rect x=\"440\" y=\"0\" width=\"55\" height=\"55\" style=\"fill:#b5b5ff;stroke-width:2;stroke:rgb(255,255,255)\"/><rect x=\"495\" y=\"0\" width=\"55\" height=\"55\" style=\"fill:#e5e5ff;stroke-width:2;stroke:rgb(255,255,255)\"/><rect x=\"550\" y=\"0\" width=\"55\" height=\"55\" style=\"fill:#ffe5e5;stroke-width:2;stroke:rgb(255,255,255)\"/><rect x=\"605\" y=\"0\" width=\"55\" height=\"55\" style=\"fill:#ffb5b5;stroke-width:2;stroke:rgb(255,255,255)\"/><rect x=\"660\" y=\"0\" width=\"55\" height=\"55\" style=\"fill:#ff8585;stroke-width:2;stroke:rgb(255,255,255)\"/><rect x=\"715\" y=\"0\" width=\"55\" height=\"55\" style=\"fill:#ff5555;stroke-width:2;stroke:rgb(255,255,255)\"/><rect x=\"770\" y=\"0\" width=\"55\" height=\"55\" style=\"fill:#ff2525;stroke-width:2;stroke:rgb(255,255,255)\"/><rect x=\"825\" y=\"0\" width=\"55\" height=\"55\" style=\"fill:#f80000;stroke-width:2;stroke:rgb(255,255,255)\"/><rect x=\"880\" y=\"0\" width=\"55\" height=\"55\" style=\"fill:#e00000;stroke-width:2;stroke:rgb(255,255,255)\"/><rect x=\"935\" y=\"0\" width=\"55\" height=\"55\" style=\"fill:#c80000;stroke-width:2;stroke:rgb(255,255,255)\"/><rect x=\"990\" y=\"0\" width=\"55\" height=\"55\" style=\"fill:#b00000;stroke-width:2;stroke:rgb(255,255,255)\"/><rect x=\"1045\" y=\"0\" width=\"55\" height=\"55\" style=\"fill:#980000;stroke-width:2;stroke:rgb(255,255,255)\"/></svg>"
      ],
      "text/plain": [
       "[(0.0, 0.0, 0.43176470588235294),\n",
       " (0.0, 0.0, 0.5635294117647058),\n",
       " (0.0, 0.0, 0.6952941176470588),\n",
       " (0.0, 0.0, 0.8270588235294116),\n",
       " (0.0, 0.0, 0.9588235294117646),\n",
       " (0.1450980392156863, 0.1450980392156863, 1.0),\n",
       " (0.3333333333333333, 0.3333333333333333, 1.0),\n",
       " (0.5215686274509804, 0.5215686274509804, 1.0),\n",
       " (0.7098039215686275, 0.7098039215686275, 1.0),\n",
       " (0.8980392156862745, 0.8980392156862745, 1.0),\n",
       " (1.0, 0.8980392156862745, 0.8980392156862745),\n",
       " (1.0, 0.7098039215686274, 0.7098039215686274),\n",
       " (1.0, 0.5215686274509803, 0.5215686274509803),\n",
       " (1.0, 0.33333333333333337, 0.33333333333333337),\n",
       " (1.0, 0.14509803921568631, 0.14509803921568631),\n",
       " (0.9705882352941176, 0.0, 0.0),\n",
       " (0.8764705882352941, 0.0, 0.0),\n",
       " (0.7823529411764706, 0.0, 0.0),\n",
       " (0.6882352941176471, 0.0, 0.0),\n",
       " (0.5941176470588235, 0.0, 0.0)]"
      ]
     },
     "metadata": {},
     "output_type": "display_data"
    },
    {
     "name": "stdout",
     "output_type": "stream",
     "text": [
      "seismic_r\n"
     ]
    },
    {
     "data": {
      "text/html": [
       "<svg  width=\"1100\" height=\"55\"><rect x=\"0\" y=\"0\" width=\"55\" height=\"55\" style=\"fill:#980000;stroke-width:2;stroke:rgb(255,255,255)\"/><rect x=\"55\" y=\"0\" width=\"55\" height=\"55\" style=\"fill:#b00000;stroke-width:2;stroke:rgb(255,255,255)\"/><rect x=\"110\" y=\"0\" width=\"55\" height=\"55\" style=\"fill:#c80000;stroke-width:2;stroke:rgb(255,255,255)\"/><rect x=\"165\" y=\"0\" width=\"55\" height=\"55\" style=\"fill:#e00000;stroke-width:2;stroke:rgb(255,255,255)\"/><rect x=\"220\" y=\"0\" width=\"55\" height=\"55\" style=\"fill:#f80000;stroke-width:2;stroke:rgb(255,255,255)\"/><rect x=\"275\" y=\"0\" width=\"55\" height=\"55\" style=\"fill:#ff2525;stroke-width:2;stroke:rgb(255,255,255)\"/><rect x=\"330\" y=\"0\" width=\"55\" height=\"55\" style=\"fill:#ff5555;stroke-width:2;stroke:rgb(255,255,255)\"/><rect x=\"385\" y=\"0\" width=\"55\" height=\"55\" style=\"fill:#ff8585;stroke-width:2;stroke:rgb(255,255,255)\"/><rect x=\"440\" y=\"0\" width=\"55\" height=\"55\" style=\"fill:#ffb5b5;stroke-width:2;stroke:rgb(255,255,255)\"/><rect x=\"495\" y=\"0\" width=\"55\" height=\"55\" style=\"fill:#ffe5e5;stroke-width:2;stroke:rgb(255,255,255)\"/><rect x=\"550\" y=\"0\" width=\"55\" height=\"55\" style=\"fill:#e5e5ff;stroke-width:2;stroke:rgb(255,255,255)\"/><rect x=\"605\" y=\"0\" width=\"55\" height=\"55\" style=\"fill:#b5b5ff;stroke-width:2;stroke:rgb(255,255,255)\"/><rect x=\"660\" y=\"0\" width=\"55\" height=\"55\" style=\"fill:#8585ff;stroke-width:2;stroke:rgb(255,255,255)\"/><rect x=\"715\" y=\"0\" width=\"55\" height=\"55\" style=\"fill:#5555ff;stroke-width:2;stroke:rgb(255,255,255)\"/><rect x=\"770\" y=\"0\" width=\"55\" height=\"55\" style=\"fill:#2525ff;stroke-width:2;stroke:rgb(255,255,255)\"/><rect x=\"825\" y=\"0\" width=\"55\" height=\"55\" style=\"fill:#0000f4;stroke-width:2;stroke:rgb(255,255,255)\"/><rect x=\"880\" y=\"0\" width=\"55\" height=\"55\" style=\"fill:#0000d3;stroke-width:2;stroke:rgb(255,255,255)\"/><rect x=\"935\" y=\"0\" width=\"55\" height=\"55\" style=\"fill:#0000b1;stroke-width:2;stroke:rgb(255,255,255)\"/><rect x=\"990\" y=\"0\" width=\"55\" height=\"55\" style=\"fill:#000090;stroke-width:2;stroke:rgb(255,255,255)\"/><rect x=\"1045\" y=\"0\" width=\"55\" height=\"55\" style=\"fill:#00006e;stroke-width:2;stroke:rgb(255,255,255)\"/></svg>"
      ],
      "text/plain": [
       "[(0.5941176470588235, 0.0, 0.0),\n",
       " (0.6882352941176471, 0.0, 0.0),\n",
       " (0.7823529411764706, 0.0, 0.0),\n",
       " (0.8764705882352941, 0.0, 0.0),\n",
       " (0.9705882352941176, 0.0, 0.0),\n",
       " (1.0, 0.1450980392156863, 0.1450980392156863),\n",
       " (1.0, 0.3333333333333333, 0.3333333333333333),\n",
       " (1.0, 0.5215686274509804, 0.5215686274509804),\n",
       " (1.0, 0.7098039215686275, 0.7098039215686275),\n",
       " (1.0, 0.8980392156862745, 0.8980392156862745),\n",
       " (0.8980392156862745, 0.8980392156862745, 1.0),\n",
       " (0.7098039215686274, 0.7098039215686274, 1.0),\n",
       " (0.5215686274509803, 0.5215686274509803, 1.0),\n",
       " (0.33333333333333337, 0.33333333333333337, 1.0),\n",
       " (0.14509803921568631, 0.14509803921568631, 1.0),\n",
       " (0.0, 0.0, 0.9588235294117647),\n",
       " (0.0, 0.0, 0.8270588235294117),\n",
       " (0.0, 0.0, 0.6952941176470588),\n",
       " (0.0, 0.0, 0.5635294117647058),\n",
       " (0.0, 0.0, 0.43176470588235294)]"
      ]
     },
     "metadata": {},
     "output_type": "display_data"
    },
    {
     "name": "stdout",
     "output_type": "stream",
     "text": [
      "spring\n"
     ]
    },
    {
     "data": {
      "text/html": [
       "<svg  width=\"1100\" height=\"55\"><rect x=\"0\" y=\"0\" width=\"55\" height=\"55\" style=\"fill:#ff0cf3;stroke-width:2;stroke:rgb(255,255,255)\"/><rect x=\"55\" y=\"0\" width=\"55\" height=\"55\" style=\"fill:#ff18e7;stroke-width:2;stroke:rgb(255,255,255)\"/><rect x=\"110\" y=\"0\" width=\"55\" height=\"55\" style=\"fill:#ff24db;stroke-width:2;stroke:rgb(255,255,255)\"/><rect x=\"165\" y=\"0\" width=\"55\" height=\"55\" style=\"fill:#ff30cf;stroke-width:2;stroke:rgb(255,255,255)\"/><rect x=\"220\" y=\"0\" width=\"55\" height=\"55\" style=\"fill:#ff3cc3;stroke-width:2;stroke:rgb(255,255,255)\"/><rect x=\"275\" y=\"0\" width=\"55\" height=\"55\" style=\"fill:#ff49b6;stroke-width:2;stroke:rgb(255,255,255)\"/><rect x=\"330\" y=\"0\" width=\"55\" height=\"55\" style=\"fill:#ff55aa;stroke-width:2;stroke:rgb(255,255,255)\"/><rect x=\"385\" y=\"0\" width=\"55\" height=\"55\" style=\"fill:#ff619e;stroke-width:2;stroke:rgb(255,255,255)\"/><rect x=\"440\" y=\"0\" width=\"55\" height=\"55\" style=\"fill:#ff6d92;stroke-width:2;stroke:rgb(255,255,255)\"/><rect x=\"495\" y=\"0\" width=\"55\" height=\"55\" style=\"fill:#ff7986;stroke-width:2;stroke:rgb(255,255,255)\"/><rect x=\"550\" y=\"0\" width=\"55\" height=\"55\" style=\"fill:#ff8679;stroke-width:2;stroke:rgb(255,255,255)\"/><rect x=\"605\" y=\"0\" width=\"55\" height=\"55\" style=\"fill:#ff926d;stroke-width:2;stroke:rgb(255,255,255)\"/><rect x=\"660\" y=\"0\" width=\"55\" height=\"55\" style=\"fill:#ff9e61;stroke-width:2;stroke:rgb(255,255,255)\"/><rect x=\"715\" y=\"0\" width=\"55\" height=\"55\" style=\"fill:#ffaa55;stroke-width:2;stroke:rgb(255,255,255)\"/><rect x=\"770\" y=\"0\" width=\"55\" height=\"55\" style=\"fill:#ffb649;stroke-width:2;stroke:rgb(255,255,255)\"/><rect x=\"825\" y=\"0\" width=\"55\" height=\"55\" style=\"fill:#ffc33c;stroke-width:2;stroke:rgb(255,255,255)\"/><rect x=\"880\" y=\"0\" width=\"55\" height=\"55\" style=\"fill:#ffcf30;stroke-width:2;stroke:rgb(255,255,255)\"/><rect x=\"935\" y=\"0\" width=\"55\" height=\"55\" style=\"fill:#ffdb24;stroke-width:2;stroke:rgb(255,255,255)\"/><rect x=\"990\" y=\"0\" width=\"55\" height=\"55\" style=\"fill:#ffe718;stroke-width:2;stroke:rgb(255,255,255)\"/><rect x=\"1045\" y=\"0\" width=\"55\" height=\"55\" style=\"fill:#fff30c;stroke-width:2;stroke:rgb(255,255,255)\"/></svg>"
      ],
      "text/plain": [
       "[(1.0, 0.047058823529411764, 0.9529411764705882),\n",
       " (1.0, 0.09411764705882353, 0.9058823529411765),\n",
       " (1.0, 0.1411764705882353, 0.8588235294117648),\n",
       " (1.0, 0.18823529411764706, 0.8117647058823529),\n",
       " (1.0, 0.23529411764705882, 0.7647058823529411),\n",
       " (1.0, 0.28627450980392155, 0.7137254901960784),\n",
       " (1.0, 0.3333333333333333, 0.6666666666666667),\n",
       " (1.0, 0.3803921568627451, 0.6196078431372549),\n",
       " (1.0, 0.42745098039215684, 0.5725490196078431),\n",
       " (1.0, 0.4745098039215686, 0.5254901960784314),\n",
       " (1.0, 0.5254901960784314, 0.4745098039215686),\n",
       " (1.0, 0.5725490196078431, 0.4274509803921569),\n",
       " (1.0, 0.6196078431372549, 0.3803921568627451),\n",
       " (1.0, 0.6666666666666666, 0.33333333333333337),\n",
       " (1.0, 0.7137254901960784, 0.28627450980392155),\n",
       " (1.0, 0.7647058823529411, 0.23529411764705888),\n",
       " (1.0, 0.8117647058823529, 0.18823529411764706),\n",
       " (1.0, 0.8588235294117647, 0.14117647058823535),\n",
       " (1.0, 0.9058823529411765, 0.09411764705882353),\n",
       " (1.0, 0.9529411764705882, 0.04705882352941182)]"
      ]
     },
     "metadata": {},
     "output_type": "display_data"
    },
    {
     "name": "stdout",
     "output_type": "stream",
     "text": [
      "spring_r\n"
     ]
    },
    {
     "data": {
      "text/html": [
       "<svg  width=\"1100\" height=\"55\"><rect x=\"0\" y=\"0\" width=\"55\" height=\"55\" style=\"fill:#fff30c;stroke-width:2;stroke:rgb(255,255,255)\"/><rect x=\"55\" y=\"0\" width=\"55\" height=\"55\" style=\"fill:#ffe718;stroke-width:2;stroke:rgb(255,255,255)\"/><rect x=\"110\" y=\"0\" width=\"55\" height=\"55\" style=\"fill:#ffdb24;stroke-width:2;stroke:rgb(255,255,255)\"/><rect x=\"165\" y=\"0\" width=\"55\" height=\"55\" style=\"fill:#ffcf30;stroke-width:2;stroke:rgb(255,255,255)\"/><rect x=\"220\" y=\"0\" width=\"55\" height=\"55\" style=\"fill:#ffc33c;stroke-width:2;stroke:rgb(255,255,255)\"/><rect x=\"275\" y=\"0\" width=\"55\" height=\"55\" style=\"fill:#ffb649;stroke-width:2;stroke:rgb(255,255,255)\"/><rect x=\"330\" y=\"0\" width=\"55\" height=\"55\" style=\"fill:#ffaa55;stroke-width:2;stroke:rgb(255,255,255)\"/><rect x=\"385\" y=\"0\" width=\"55\" height=\"55\" style=\"fill:#ff9e61;stroke-width:2;stroke:rgb(255,255,255)\"/><rect x=\"440\" y=\"0\" width=\"55\" height=\"55\" style=\"fill:#ff926d;stroke-width:2;stroke:rgb(255,255,255)\"/><rect x=\"495\" y=\"0\" width=\"55\" height=\"55\" style=\"fill:#ff8679;stroke-width:2;stroke:rgb(255,255,255)\"/><rect x=\"550\" y=\"0\" width=\"55\" height=\"55\" style=\"fill:#ff7986;stroke-width:2;stroke:rgb(255,255,255)\"/><rect x=\"605\" y=\"0\" width=\"55\" height=\"55\" style=\"fill:#ff6d92;stroke-width:2;stroke:rgb(255,255,255)\"/><rect x=\"660\" y=\"0\" width=\"55\" height=\"55\" style=\"fill:#ff619e;stroke-width:2;stroke:rgb(255,255,255)\"/><rect x=\"715\" y=\"0\" width=\"55\" height=\"55\" style=\"fill:#ff55aa;stroke-width:2;stroke:rgb(255,255,255)\"/><rect x=\"770\" y=\"0\" width=\"55\" height=\"55\" style=\"fill:#ff49b6;stroke-width:2;stroke:rgb(255,255,255)\"/><rect x=\"825\" y=\"0\" width=\"55\" height=\"55\" style=\"fill:#ff3cc3;stroke-width:2;stroke:rgb(255,255,255)\"/><rect x=\"880\" y=\"0\" width=\"55\" height=\"55\" style=\"fill:#ff30cf;stroke-width:2;stroke:rgb(255,255,255)\"/><rect x=\"935\" y=\"0\" width=\"55\" height=\"55\" style=\"fill:#ff24db;stroke-width:2;stroke:rgb(255,255,255)\"/><rect x=\"990\" y=\"0\" width=\"55\" height=\"55\" style=\"fill:#ff18e7;stroke-width:2;stroke:rgb(255,255,255)\"/><rect x=\"1045\" y=\"0\" width=\"55\" height=\"55\" style=\"fill:#ff0cf3;stroke-width:2;stroke:rgb(255,255,255)\"/></svg>"
      ],
      "text/plain": [
       "[(1.0, 0.9529411764705882, 0.047058823529411764),\n",
       " (1.0, 0.9058823529411765, 0.09411764705882353),\n",
       " (1.0, 0.8588235294117648, 0.1411764705882353),\n",
       " (1.0, 0.8117647058823529, 0.18823529411764706),\n",
       " (1.0, 0.7647058823529411, 0.23529411764705882),\n",
       " (1.0, 0.7137254901960784, 0.28627450980392155),\n",
       " (1.0, 0.6666666666666667, 0.3333333333333333),\n",
       " (1.0, 0.6196078431372549, 0.3803921568627451),\n",
       " (1.0, 0.5725490196078431, 0.42745098039215684),\n",
       " (1.0, 0.5254901960784314, 0.4745098039215686),\n",
       " (1.0, 0.4745098039215686, 0.5254901960784314),\n",
       " (1.0, 0.4274509803921569, 0.5725490196078431),\n",
       " (1.0, 0.3803921568627451, 0.6196078431372549),\n",
       " (1.0, 0.33333333333333337, 0.6666666666666666),\n",
       " (1.0, 0.28627450980392155, 0.7137254901960784),\n",
       " (1.0, 0.23529411764705888, 0.7647058823529411),\n",
       " (1.0, 0.18823529411764706, 0.8117647058823529),\n",
       " (1.0, 0.14117647058823535, 0.8588235294117647),\n",
       " (1.0, 0.09411764705882353, 0.9058823529411765),\n",
       " (1.0, 0.04705882352941182, 0.9529411764705882)]"
      ]
     },
     "metadata": {},
     "output_type": "display_data"
    },
    {
     "name": "stdout",
     "output_type": "stream",
     "text": [
      "summer\n"
     ]
    },
    {
     "data": {
      "text/html": [
       "<svg  width=\"1100\" height=\"55\"><rect x=\"0\" y=\"0\" width=\"55\" height=\"55\" style=\"fill:#0c8666;stroke-width:2;stroke:rgb(255,255,255)\"/><rect x=\"55\" y=\"0\" width=\"55\" height=\"55\" style=\"fill:#188c66;stroke-width:2;stroke:rgb(255,255,255)\"/><rect x=\"110\" y=\"0\" width=\"55\" height=\"55\" style=\"fill:#249266;stroke-width:2;stroke:rgb(255,255,255)\"/><rect x=\"165\" y=\"0\" width=\"55\" height=\"55\" style=\"fill:#309866;stroke-width:2;stroke:rgb(255,255,255)\"/><rect x=\"220\" y=\"0\" width=\"55\" height=\"55\" style=\"fill:#3c9e66;stroke-width:2;stroke:rgb(255,255,255)\"/><rect x=\"275\" y=\"0\" width=\"55\" height=\"55\" style=\"fill:#49a466;stroke-width:2;stroke:rgb(255,255,255)\"/><rect x=\"330\" y=\"0\" width=\"55\" height=\"55\" style=\"fill:#55aa66;stroke-width:2;stroke:rgb(255,255,255)\"/><rect x=\"385\" y=\"0\" width=\"55\" height=\"55\" style=\"fill:#61b066;stroke-width:2;stroke:rgb(255,255,255)\"/><rect x=\"440\" y=\"0\" width=\"55\" height=\"55\" style=\"fill:#6db666;stroke-width:2;stroke:rgb(255,255,255)\"/><rect x=\"495\" y=\"0\" width=\"55\" height=\"55\" style=\"fill:#79bc66;stroke-width:2;stroke:rgb(255,255,255)\"/><rect x=\"550\" y=\"0\" width=\"55\" height=\"55\" style=\"fill:#86c266;stroke-width:2;stroke:rgb(255,255,255)\"/><rect x=\"605\" y=\"0\" width=\"55\" height=\"55\" style=\"fill:#92c866;stroke-width:2;stroke:rgb(255,255,255)\"/><rect x=\"660\" y=\"0\" width=\"55\" height=\"55\" style=\"fill:#9ece66;stroke-width:2;stroke:rgb(255,255,255)\"/><rect x=\"715\" y=\"0\" width=\"55\" height=\"55\" style=\"fill:#aad466;stroke-width:2;stroke:rgb(255,255,255)\"/><rect x=\"770\" y=\"0\" width=\"55\" height=\"55\" style=\"fill:#b6db66;stroke-width:2;stroke:rgb(255,255,255)\"/><rect x=\"825\" y=\"0\" width=\"55\" height=\"55\" style=\"fill:#c3e166;stroke-width:2;stroke:rgb(255,255,255)\"/><rect x=\"880\" y=\"0\" width=\"55\" height=\"55\" style=\"fill:#cfe766;stroke-width:2;stroke:rgb(255,255,255)\"/><rect x=\"935\" y=\"0\" width=\"55\" height=\"55\" style=\"fill:#dbed66;stroke-width:2;stroke:rgb(255,255,255)\"/><rect x=\"990\" y=\"0\" width=\"55\" height=\"55\" style=\"fill:#e7f366;stroke-width:2;stroke:rgb(255,255,255)\"/><rect x=\"1045\" y=\"0\" width=\"55\" height=\"55\" style=\"fill:#f3f966;stroke-width:2;stroke:rgb(255,255,255)\"/></svg>"
      ],
      "text/plain": [
       "[(0.047058823529411764, 0.5235294117647059, 0.4),\n",
       " (0.09411764705882353, 0.5470588235294118, 0.4),\n",
       " (0.1411764705882353, 0.5705882352941176, 0.4),\n",
       " (0.18823529411764706, 0.5941176470588235, 0.4),\n",
       " (0.23529411764705882, 0.6176470588235294, 0.4),\n",
       " (0.28627450980392155, 0.6431372549019607, 0.4),\n",
       " (0.3333333333333333, 0.6666666666666666, 0.4),\n",
       " (0.3803921568627451, 0.6901960784313725, 0.4),\n",
       " (0.42745098039215684, 0.7137254901960784, 0.4),\n",
       " (0.4745098039215686, 0.7372549019607844, 0.4),\n",
       " (0.5254901960784314, 0.7627450980392156, 0.4),\n",
       " (0.5725490196078431, 0.7862745098039216, 0.4),\n",
       " (0.6196078431372549, 0.8098039215686275, 0.4),\n",
       " (0.6666666666666666, 0.8333333333333333, 0.4),\n",
       " (0.7137254901960784, 0.8568627450980393, 0.4),\n",
       " (0.7647058823529411, 0.8823529411764706, 0.4),\n",
       " (0.8117647058823529, 0.9058823529411765, 0.4),\n",
       " (0.8588235294117647, 0.9294117647058824, 0.4),\n",
       " (0.9058823529411765, 0.9529411764705882, 0.4),\n",
       " (0.9529411764705882, 0.9764705882352941, 0.4)]"
      ]
     },
     "metadata": {},
     "output_type": "display_data"
    },
    {
     "name": "stdout",
     "output_type": "stream",
     "text": [
      "summer_r\n"
     ]
    },
    {
     "data": {
      "text/html": [
       "<svg  width=\"1100\" height=\"55\"><rect x=\"0\" y=\"0\" width=\"55\" height=\"55\" style=\"fill:#f3f966;stroke-width:2;stroke:rgb(255,255,255)\"/><rect x=\"55\" y=\"0\" width=\"55\" height=\"55\" style=\"fill:#e7f366;stroke-width:2;stroke:rgb(255,255,255)\"/><rect x=\"110\" y=\"0\" width=\"55\" height=\"55\" style=\"fill:#dbed66;stroke-width:2;stroke:rgb(255,255,255)\"/><rect x=\"165\" y=\"0\" width=\"55\" height=\"55\" style=\"fill:#cfe766;stroke-width:2;stroke:rgb(255,255,255)\"/><rect x=\"220\" y=\"0\" width=\"55\" height=\"55\" style=\"fill:#c3e166;stroke-width:2;stroke:rgb(255,255,255)\"/><rect x=\"275\" y=\"0\" width=\"55\" height=\"55\" style=\"fill:#b6db66;stroke-width:2;stroke:rgb(255,255,255)\"/><rect x=\"330\" y=\"0\" width=\"55\" height=\"55\" style=\"fill:#aad466;stroke-width:2;stroke:rgb(255,255,255)\"/><rect x=\"385\" y=\"0\" width=\"55\" height=\"55\" style=\"fill:#9ece66;stroke-width:2;stroke:rgb(255,255,255)\"/><rect x=\"440\" y=\"0\" width=\"55\" height=\"55\" style=\"fill:#92c866;stroke-width:2;stroke:rgb(255,255,255)\"/><rect x=\"495\" y=\"0\" width=\"55\" height=\"55\" style=\"fill:#86c266;stroke-width:2;stroke:rgb(255,255,255)\"/><rect x=\"550\" y=\"0\" width=\"55\" height=\"55\" style=\"fill:#79bc66;stroke-width:2;stroke:rgb(255,255,255)\"/><rect x=\"605\" y=\"0\" width=\"55\" height=\"55\" style=\"fill:#6db666;stroke-width:2;stroke:rgb(255,255,255)\"/><rect x=\"660\" y=\"0\" width=\"55\" height=\"55\" style=\"fill:#61b066;stroke-width:2;stroke:rgb(255,255,255)\"/><rect x=\"715\" y=\"0\" width=\"55\" height=\"55\" style=\"fill:#55aa66;stroke-width:2;stroke:rgb(255,255,255)\"/><rect x=\"770\" y=\"0\" width=\"55\" height=\"55\" style=\"fill:#49a466;stroke-width:2;stroke:rgb(255,255,255)\"/><rect x=\"825\" y=\"0\" width=\"55\" height=\"55\" style=\"fill:#3c9e66;stroke-width:2;stroke:rgb(255,255,255)\"/><rect x=\"880\" y=\"0\" width=\"55\" height=\"55\" style=\"fill:#309866;stroke-width:2;stroke:rgb(255,255,255)\"/><rect x=\"935\" y=\"0\" width=\"55\" height=\"55\" style=\"fill:#249266;stroke-width:2;stroke:rgb(255,255,255)\"/><rect x=\"990\" y=\"0\" width=\"55\" height=\"55\" style=\"fill:#188c66;stroke-width:2;stroke:rgb(255,255,255)\"/><rect x=\"1045\" y=\"0\" width=\"55\" height=\"55\" style=\"fill:#0c8666;stroke-width:2;stroke:rgb(255,255,255)\"/></svg>"
      ],
      "text/plain": [
       "[(0.9529411764705882, 0.9764705882352941, 0.4),\n",
       " (0.9058823529411765, 0.9529411764705882, 0.4),\n",
       " (0.8588235294117648, 0.9294117647058824, 0.4),\n",
       " (0.8117647058823529, 0.9058823529411765, 0.4),\n",
       " (0.7647058823529411, 0.8823529411764706, 0.4),\n",
       " (0.7137254901960784, 0.8568627450980393, 0.4),\n",
       " (0.6666666666666667, 0.8333333333333334, 0.4),\n",
       " (0.6196078431372549, 0.8098039215686275, 0.4),\n",
       " (0.5725490196078431, 0.7862745098039216, 0.4),\n",
       " (0.5254901960784314, 0.7627450980392156, 0.4),\n",
       " (0.4745098039215686, 0.7372549019607844, 0.4),\n",
       " (0.4274509803921569, 0.7137254901960784, 0.4),\n",
       " (0.3803921568627451, 0.6901960784313725, 0.4),\n",
       " (0.33333333333333337, 0.6666666666666667, 0.4),\n",
       " (0.28627450980392155, 0.6431372549019607, 0.4),\n",
       " (0.23529411764705888, 0.6176470588235294, 0.4),\n",
       " (0.18823529411764706, 0.5941176470588235, 0.4),\n",
       " (0.14117647058823535, 0.5705882352941176, 0.4),\n",
       " (0.09411764705882353, 0.5470588235294118, 0.4),\n",
       " (0.04705882352941182, 0.5235294117647059, 0.4)]"
      ]
     },
     "metadata": {},
     "output_type": "display_data"
    },
    {
     "name": "stdout",
     "output_type": "stream",
     "text": [
      "tab10\n"
     ]
    },
    {
     "data": {
      "text/html": [
       "<svg  width=\"1100\" height=\"55\"><rect x=\"0\" y=\"0\" width=\"55\" height=\"55\" style=\"fill:#1f77b4;stroke-width:2;stroke:rgb(255,255,255)\"/><rect x=\"55\" y=\"0\" width=\"55\" height=\"55\" style=\"fill:#ff7f0e;stroke-width:2;stroke:rgb(255,255,255)\"/><rect x=\"110\" y=\"0\" width=\"55\" height=\"55\" style=\"fill:#2ca02c;stroke-width:2;stroke:rgb(255,255,255)\"/><rect x=\"165\" y=\"0\" width=\"55\" height=\"55\" style=\"fill:#d62728;stroke-width:2;stroke:rgb(255,255,255)\"/><rect x=\"220\" y=\"0\" width=\"55\" height=\"55\" style=\"fill:#9467bd;stroke-width:2;stroke:rgb(255,255,255)\"/><rect x=\"275\" y=\"0\" width=\"55\" height=\"55\" style=\"fill:#8c564b;stroke-width:2;stroke:rgb(255,255,255)\"/><rect x=\"330\" y=\"0\" width=\"55\" height=\"55\" style=\"fill:#e377c2;stroke-width:2;stroke:rgb(255,255,255)\"/><rect x=\"385\" y=\"0\" width=\"55\" height=\"55\" style=\"fill:#7f7f7f;stroke-width:2;stroke:rgb(255,255,255)\"/><rect x=\"440\" y=\"0\" width=\"55\" height=\"55\" style=\"fill:#bcbd22;stroke-width:2;stroke:rgb(255,255,255)\"/><rect x=\"495\" y=\"0\" width=\"55\" height=\"55\" style=\"fill:#17becf;stroke-width:2;stroke:rgb(255,255,255)\"/><rect x=\"550\" y=\"0\" width=\"55\" height=\"55\" style=\"fill:#1f77b4;stroke-width:2;stroke:rgb(255,255,255)\"/><rect x=\"605\" y=\"0\" width=\"55\" height=\"55\" style=\"fill:#ff7f0e;stroke-width:2;stroke:rgb(255,255,255)\"/><rect x=\"660\" y=\"0\" width=\"55\" height=\"55\" style=\"fill:#2ca02c;stroke-width:2;stroke:rgb(255,255,255)\"/><rect x=\"715\" y=\"0\" width=\"55\" height=\"55\" style=\"fill:#d62728;stroke-width:2;stroke:rgb(255,255,255)\"/><rect x=\"770\" y=\"0\" width=\"55\" height=\"55\" style=\"fill:#9467bd;stroke-width:2;stroke:rgb(255,255,255)\"/><rect x=\"825\" y=\"0\" width=\"55\" height=\"55\" style=\"fill:#8c564b;stroke-width:2;stroke:rgb(255,255,255)\"/><rect x=\"880\" y=\"0\" width=\"55\" height=\"55\" style=\"fill:#e377c2;stroke-width:2;stroke:rgb(255,255,255)\"/><rect x=\"935\" y=\"0\" width=\"55\" height=\"55\" style=\"fill:#7f7f7f;stroke-width:2;stroke:rgb(255,255,255)\"/><rect x=\"990\" y=\"0\" width=\"55\" height=\"55\" style=\"fill:#bcbd22;stroke-width:2;stroke:rgb(255,255,255)\"/><rect x=\"1045\" y=\"0\" width=\"55\" height=\"55\" style=\"fill:#17becf;stroke-width:2;stroke:rgb(255,255,255)\"/></svg>"
      ],
      "text/plain": [
       "[(0.12156862745098039, 0.4666666666666667, 0.7058823529411765),\n",
       " (1.0, 0.4980392156862745, 0.054901960784313725),\n",
       " (0.17254901960784313, 0.6274509803921569, 0.17254901960784313),\n",
       " (0.8392156862745098, 0.15294117647058825, 0.1568627450980392),\n",
       " (0.5803921568627451, 0.403921568627451, 0.7411764705882353),\n",
       " (0.5490196078431373, 0.33725490196078434, 0.29411764705882354),\n",
       " (0.8901960784313725, 0.4666666666666667, 0.7607843137254902),\n",
       " (0.4980392156862745, 0.4980392156862745, 0.4980392156862745),\n",
       " (0.7372549019607844, 0.7411764705882353, 0.13333333333333333),\n",
       " (0.09019607843137255, 0.7450980392156863, 0.8117647058823529),\n",
       " (0.12156862745098039, 0.4666666666666667, 0.7058823529411765),\n",
       " (1.0, 0.4980392156862745, 0.054901960784313725),\n",
       " (0.17254901960784313, 0.6274509803921569, 0.17254901960784313),\n",
       " (0.8392156862745098, 0.15294117647058825, 0.1568627450980392),\n",
       " (0.5803921568627451, 0.403921568627451, 0.7411764705882353),\n",
       " (0.5490196078431373, 0.33725490196078434, 0.29411764705882354),\n",
       " (0.8901960784313725, 0.4666666666666667, 0.7607843137254902),\n",
       " (0.4980392156862745, 0.4980392156862745, 0.4980392156862745),\n",
       " (0.7372549019607844, 0.7411764705882353, 0.13333333333333333),\n",
       " (0.09019607843137255, 0.7450980392156863, 0.8117647058823529)]"
      ]
     },
     "metadata": {},
     "output_type": "display_data"
    },
    {
     "name": "stdout",
     "output_type": "stream",
     "text": [
      "tab10_r\n"
     ]
    },
    {
     "data": {
      "text/html": [
       "<svg  width=\"1100\" height=\"55\"><rect x=\"0\" y=\"0\" width=\"55\" height=\"55\" style=\"fill:#17becf;stroke-width:2;stroke:rgb(255,255,255)\"/><rect x=\"55\" y=\"0\" width=\"55\" height=\"55\" style=\"fill:#17becf;stroke-width:2;stroke:rgb(255,255,255)\"/><rect x=\"110\" y=\"0\" width=\"55\" height=\"55\" style=\"fill:#bcbd22;stroke-width:2;stroke:rgb(255,255,255)\"/><rect x=\"165\" y=\"0\" width=\"55\" height=\"55\" style=\"fill:#bcbd22;stroke-width:2;stroke:rgb(255,255,255)\"/><rect x=\"220\" y=\"0\" width=\"55\" height=\"55\" style=\"fill:#7f7f7f;stroke-width:2;stroke:rgb(255,255,255)\"/><rect x=\"275\" y=\"0\" width=\"55\" height=\"55\" style=\"fill:#7f7f7f;stroke-width:2;stroke:rgb(255,255,255)\"/><rect x=\"330\" y=\"0\" width=\"55\" height=\"55\" style=\"fill:#e377c2;stroke-width:2;stroke:rgb(255,255,255)\"/><rect x=\"385\" y=\"0\" width=\"55\" height=\"55\" style=\"fill:#e377c2;stroke-width:2;stroke:rgb(255,255,255)\"/><rect x=\"440\" y=\"0\" width=\"55\" height=\"55\" style=\"fill:#8c564b;stroke-width:2;stroke:rgb(255,255,255)\"/><rect x=\"495\" y=\"0\" width=\"55\" height=\"55\" style=\"fill:#8c564b;stroke-width:2;stroke:rgb(255,255,255)\"/><rect x=\"550\" y=\"0\" width=\"55\" height=\"55\" style=\"fill:#9467bd;stroke-width:2;stroke:rgb(255,255,255)\"/><rect x=\"605\" y=\"0\" width=\"55\" height=\"55\" style=\"fill:#9467bd;stroke-width:2;stroke:rgb(255,255,255)\"/><rect x=\"660\" y=\"0\" width=\"55\" height=\"55\" style=\"fill:#d62728;stroke-width:2;stroke:rgb(255,255,255)\"/><rect x=\"715\" y=\"0\" width=\"55\" height=\"55\" style=\"fill:#d62728;stroke-width:2;stroke:rgb(255,255,255)\"/><rect x=\"770\" y=\"0\" width=\"55\" height=\"55\" style=\"fill:#2ca02c;stroke-width:2;stroke:rgb(255,255,255)\"/><rect x=\"825\" y=\"0\" width=\"55\" height=\"55\" style=\"fill:#2ca02c;stroke-width:2;stroke:rgb(255,255,255)\"/><rect x=\"880\" y=\"0\" width=\"55\" height=\"55\" style=\"fill:#ff7f0e;stroke-width:2;stroke:rgb(255,255,255)\"/><rect x=\"935\" y=\"0\" width=\"55\" height=\"55\" style=\"fill:#ff7f0e;stroke-width:2;stroke:rgb(255,255,255)\"/><rect x=\"990\" y=\"0\" width=\"55\" height=\"55\" style=\"fill:#1f77b4;stroke-width:2;stroke:rgb(255,255,255)\"/><rect x=\"1045\" y=\"0\" width=\"55\" height=\"55\" style=\"fill:#1f77b4;stroke-width:2;stroke:rgb(255,255,255)\"/></svg>"
      ],
      "text/plain": [
       "[(0.09019607843137255, 0.7450980392156863, 0.8117647058823529),\n",
       " (0.09019607843137255, 0.7450980392156863, 0.8117647058823529),\n",
       " (0.7372549019607844, 0.7411764705882353, 0.13333333333333333),\n",
       " (0.7372549019607844, 0.7411764705882353, 0.13333333333333333),\n",
       " (0.4980392156862745, 0.4980392156862745, 0.4980392156862745),\n",
       " (0.4980392156862745, 0.4980392156862745, 0.4980392156862745),\n",
       " (0.8901960784313725, 0.4666666666666667, 0.7607843137254902),\n",
       " (0.8901960784313725, 0.4666666666666667, 0.7607843137254902),\n",
       " (0.5490196078431373, 0.33725490196078434, 0.29411764705882354),\n",
       " (0.5490196078431373, 0.33725490196078434, 0.29411764705882354),\n",
       " (0.5803921568627451, 0.403921568627451, 0.7411764705882353),\n",
       " (0.5803921568627451, 0.403921568627451, 0.7411764705882353),\n",
       " (0.8392156862745098, 0.15294117647058825, 0.1568627450980392),\n",
       " (0.8392156862745098, 0.15294117647058825, 0.1568627450980392),\n",
       " (0.17254901960784313, 0.6274509803921569, 0.17254901960784313),\n",
       " (0.17254901960784313, 0.6274509803921569, 0.17254901960784313),\n",
       " (1.0, 0.4980392156862745, 0.054901960784313725),\n",
       " (1.0, 0.4980392156862745, 0.054901960784313725),\n",
       " (0.12156862745098039, 0.4666666666666667, 0.7058823529411765),\n",
       " (0.12156862745098039, 0.4666666666666667, 0.7058823529411765)]"
      ]
     },
     "metadata": {},
     "output_type": "display_data"
    },
    {
     "name": "stdout",
     "output_type": "stream",
     "text": [
      "tab20\n"
     ]
    },
    {
     "data": {
      "text/html": [
       "<svg  width=\"1100\" height=\"55\"><rect x=\"0\" y=\"0\" width=\"55\" height=\"55\" style=\"fill:#1f77b4;stroke-width:2;stroke:rgb(255,255,255)\"/><rect x=\"55\" y=\"0\" width=\"55\" height=\"55\" style=\"fill:#aec7e8;stroke-width:2;stroke:rgb(255,255,255)\"/><rect x=\"110\" y=\"0\" width=\"55\" height=\"55\" style=\"fill:#ff7f0e;stroke-width:2;stroke:rgb(255,255,255)\"/><rect x=\"165\" y=\"0\" width=\"55\" height=\"55\" style=\"fill:#ffbb78;stroke-width:2;stroke:rgb(255,255,255)\"/><rect x=\"220\" y=\"0\" width=\"55\" height=\"55\" style=\"fill:#2ca02c;stroke-width:2;stroke:rgb(255,255,255)\"/><rect x=\"275\" y=\"0\" width=\"55\" height=\"55\" style=\"fill:#98df8a;stroke-width:2;stroke:rgb(255,255,255)\"/><rect x=\"330\" y=\"0\" width=\"55\" height=\"55\" style=\"fill:#d62728;stroke-width:2;stroke:rgb(255,255,255)\"/><rect x=\"385\" y=\"0\" width=\"55\" height=\"55\" style=\"fill:#ff9896;stroke-width:2;stroke:rgb(255,255,255)\"/><rect x=\"440\" y=\"0\" width=\"55\" height=\"55\" style=\"fill:#9467bd;stroke-width:2;stroke:rgb(255,255,255)\"/><rect x=\"495\" y=\"0\" width=\"55\" height=\"55\" style=\"fill:#c5b0d5;stroke-width:2;stroke:rgb(255,255,255)\"/><rect x=\"550\" y=\"0\" width=\"55\" height=\"55\" style=\"fill:#8c564b;stroke-width:2;stroke:rgb(255,255,255)\"/><rect x=\"605\" y=\"0\" width=\"55\" height=\"55\" style=\"fill:#c49c94;stroke-width:2;stroke:rgb(255,255,255)\"/><rect x=\"660\" y=\"0\" width=\"55\" height=\"55\" style=\"fill:#e377c2;stroke-width:2;stroke:rgb(255,255,255)\"/><rect x=\"715\" y=\"0\" width=\"55\" height=\"55\" style=\"fill:#f7b6d2;stroke-width:2;stroke:rgb(255,255,255)\"/><rect x=\"770\" y=\"0\" width=\"55\" height=\"55\" style=\"fill:#7f7f7f;stroke-width:2;stroke:rgb(255,255,255)\"/><rect x=\"825\" y=\"0\" width=\"55\" height=\"55\" style=\"fill:#c7c7c7;stroke-width:2;stroke:rgb(255,255,255)\"/><rect x=\"880\" y=\"0\" width=\"55\" height=\"55\" style=\"fill:#bcbd22;stroke-width:2;stroke:rgb(255,255,255)\"/><rect x=\"935\" y=\"0\" width=\"55\" height=\"55\" style=\"fill:#dbdb8d;stroke-width:2;stroke:rgb(255,255,255)\"/><rect x=\"990\" y=\"0\" width=\"55\" height=\"55\" style=\"fill:#17becf;stroke-width:2;stroke:rgb(255,255,255)\"/><rect x=\"1045\" y=\"0\" width=\"55\" height=\"55\" style=\"fill:#9edae5;stroke-width:2;stroke:rgb(255,255,255)\"/></svg>"
      ],
      "text/plain": [
       "[(0.12156862745098039, 0.4666666666666667, 0.7058823529411765),\n",
       " (0.6823529411764706, 0.7803921568627451, 0.9098039215686274),\n",
       " (1.0, 0.4980392156862745, 0.054901960784313725),\n",
       " (1.0, 0.7333333333333333, 0.47058823529411764),\n",
       " (0.17254901960784313, 0.6274509803921569, 0.17254901960784313),\n",
       " (0.596078431372549, 0.8745098039215686, 0.5411764705882353),\n",
       " (0.8392156862745098, 0.15294117647058825, 0.1568627450980392),\n",
       " (1.0, 0.596078431372549, 0.5882352941176471),\n",
       " (0.5803921568627451, 0.403921568627451, 0.7411764705882353),\n",
       " (0.7725490196078432, 0.6901960784313725, 0.8352941176470589),\n",
       " (0.5490196078431373, 0.33725490196078434, 0.29411764705882354),\n",
       " (0.7686274509803922, 0.611764705882353, 0.5803921568627451),\n",
       " (0.8901960784313725, 0.4666666666666667, 0.7607843137254902),\n",
       " (0.9686274509803922, 0.7137254901960784, 0.8235294117647058),\n",
       " (0.4980392156862745, 0.4980392156862745, 0.4980392156862745),\n",
       " (0.7803921568627451, 0.7803921568627451, 0.7803921568627451),\n",
       " (0.7372549019607844, 0.7411764705882353, 0.13333333333333333),\n",
       " (0.8588235294117647, 0.8588235294117647, 0.5529411764705883),\n",
       " (0.09019607843137255, 0.7450980392156863, 0.8117647058823529),\n",
       " (0.6196078431372549, 0.8549019607843137, 0.8980392156862745)]"
      ]
     },
     "metadata": {},
     "output_type": "display_data"
    },
    {
     "name": "stdout",
     "output_type": "stream",
     "text": [
      "tab20_r\n"
     ]
    },
    {
     "data": {
      "text/html": [
       "<svg  width=\"1100\" height=\"55\"><rect x=\"0\" y=\"0\" width=\"55\" height=\"55\" style=\"fill:#9edae5;stroke-width:2;stroke:rgb(255,255,255)\"/><rect x=\"55\" y=\"0\" width=\"55\" height=\"55\" style=\"fill:#17becf;stroke-width:2;stroke:rgb(255,255,255)\"/><rect x=\"110\" y=\"0\" width=\"55\" height=\"55\" style=\"fill:#dbdb8d;stroke-width:2;stroke:rgb(255,255,255)\"/><rect x=\"165\" y=\"0\" width=\"55\" height=\"55\" style=\"fill:#bcbd22;stroke-width:2;stroke:rgb(255,255,255)\"/><rect x=\"220\" y=\"0\" width=\"55\" height=\"55\" style=\"fill:#c7c7c7;stroke-width:2;stroke:rgb(255,255,255)\"/><rect x=\"275\" y=\"0\" width=\"55\" height=\"55\" style=\"fill:#7f7f7f;stroke-width:2;stroke:rgb(255,255,255)\"/><rect x=\"330\" y=\"0\" width=\"55\" height=\"55\" style=\"fill:#f7b6d2;stroke-width:2;stroke:rgb(255,255,255)\"/><rect x=\"385\" y=\"0\" width=\"55\" height=\"55\" style=\"fill:#e377c2;stroke-width:2;stroke:rgb(255,255,255)\"/><rect x=\"440\" y=\"0\" width=\"55\" height=\"55\" style=\"fill:#c49c94;stroke-width:2;stroke:rgb(255,255,255)\"/><rect x=\"495\" y=\"0\" width=\"55\" height=\"55\" style=\"fill:#8c564b;stroke-width:2;stroke:rgb(255,255,255)\"/><rect x=\"550\" y=\"0\" width=\"55\" height=\"55\" style=\"fill:#c5b0d5;stroke-width:2;stroke:rgb(255,255,255)\"/><rect x=\"605\" y=\"0\" width=\"55\" height=\"55\" style=\"fill:#9467bd;stroke-width:2;stroke:rgb(255,255,255)\"/><rect x=\"660\" y=\"0\" width=\"55\" height=\"55\" style=\"fill:#ff9896;stroke-width:2;stroke:rgb(255,255,255)\"/><rect x=\"715\" y=\"0\" width=\"55\" height=\"55\" style=\"fill:#d62728;stroke-width:2;stroke:rgb(255,255,255)\"/><rect x=\"770\" y=\"0\" width=\"55\" height=\"55\" style=\"fill:#98df8a;stroke-width:2;stroke:rgb(255,255,255)\"/><rect x=\"825\" y=\"0\" width=\"55\" height=\"55\" style=\"fill:#2ca02c;stroke-width:2;stroke:rgb(255,255,255)\"/><rect x=\"880\" y=\"0\" width=\"55\" height=\"55\" style=\"fill:#ffbb78;stroke-width:2;stroke:rgb(255,255,255)\"/><rect x=\"935\" y=\"0\" width=\"55\" height=\"55\" style=\"fill:#ff7f0e;stroke-width:2;stroke:rgb(255,255,255)\"/><rect x=\"990\" y=\"0\" width=\"55\" height=\"55\" style=\"fill:#aec7e8;stroke-width:2;stroke:rgb(255,255,255)\"/><rect x=\"1045\" y=\"0\" width=\"55\" height=\"55\" style=\"fill:#1f77b4;stroke-width:2;stroke:rgb(255,255,255)\"/></svg>"
      ],
      "text/plain": [
       "[(0.6196078431372549, 0.8549019607843137, 0.8980392156862745),\n",
       " (0.09019607843137255, 0.7450980392156863, 0.8117647058823529),\n",
       " (0.8588235294117647, 0.8588235294117647, 0.5529411764705883),\n",
       " (0.7372549019607844, 0.7411764705882353, 0.13333333333333333),\n",
       " (0.7803921568627451, 0.7803921568627451, 0.7803921568627451),\n",
       " (0.4980392156862745, 0.4980392156862745, 0.4980392156862745),\n",
       " (0.9686274509803922, 0.7137254901960784, 0.8235294117647058),\n",
       " (0.8901960784313725, 0.4666666666666667, 0.7607843137254902),\n",
       " (0.7686274509803922, 0.611764705882353, 0.5803921568627451),\n",
       " (0.5490196078431373, 0.33725490196078434, 0.29411764705882354),\n",
       " (0.7725490196078432, 0.6901960784313725, 0.8352941176470589),\n",
       " (0.5803921568627451, 0.403921568627451, 0.7411764705882353),\n",
       " (1.0, 0.596078431372549, 0.5882352941176471),\n",
       " (0.8392156862745098, 0.15294117647058825, 0.1568627450980392),\n",
       " (0.596078431372549, 0.8745098039215686, 0.5411764705882353),\n",
       " (0.17254901960784313, 0.6274509803921569, 0.17254901960784313),\n",
       " (1.0, 0.7333333333333333, 0.47058823529411764),\n",
       " (1.0, 0.4980392156862745, 0.054901960784313725),\n",
       " (0.6823529411764706, 0.7803921568627451, 0.9098039215686274),\n",
       " (0.12156862745098039, 0.4666666666666667, 0.7058823529411765)]"
      ]
     },
     "metadata": {},
     "output_type": "display_data"
    },
    {
     "name": "stdout",
     "output_type": "stream",
     "text": [
      "tab20b\n"
     ]
    },
    {
     "data": {
      "text/html": [
       "<svg  width=\"1100\" height=\"55\"><rect x=\"0\" y=\"0\" width=\"55\" height=\"55\" style=\"fill:#393b79;stroke-width:2;stroke:rgb(255,255,255)\"/><rect x=\"55\" y=\"0\" width=\"55\" height=\"55\" style=\"fill:#5254a3;stroke-width:2;stroke:rgb(255,255,255)\"/><rect x=\"110\" y=\"0\" width=\"55\" height=\"55\" style=\"fill:#6b6ecf;stroke-width:2;stroke:rgb(255,255,255)\"/><rect x=\"165\" y=\"0\" width=\"55\" height=\"55\" style=\"fill:#9c9ede;stroke-width:2;stroke:rgb(255,255,255)\"/><rect x=\"220\" y=\"0\" width=\"55\" height=\"55\" style=\"fill:#637939;stroke-width:2;stroke:rgb(255,255,255)\"/><rect x=\"275\" y=\"0\" width=\"55\" height=\"55\" style=\"fill:#8ca252;stroke-width:2;stroke:rgb(255,255,255)\"/><rect x=\"330\" y=\"0\" width=\"55\" height=\"55\" style=\"fill:#b5cf6b;stroke-width:2;stroke:rgb(255,255,255)\"/><rect x=\"385\" y=\"0\" width=\"55\" height=\"55\" style=\"fill:#cedb9c;stroke-width:2;stroke:rgb(255,255,255)\"/><rect x=\"440\" y=\"0\" width=\"55\" height=\"55\" style=\"fill:#8c6d31;stroke-width:2;stroke:rgb(255,255,255)\"/><rect x=\"495\" y=\"0\" width=\"55\" height=\"55\" style=\"fill:#bd9e39;stroke-width:2;stroke:rgb(255,255,255)\"/><rect x=\"550\" y=\"0\" width=\"55\" height=\"55\" style=\"fill:#e7ba52;stroke-width:2;stroke:rgb(255,255,255)\"/><rect x=\"605\" y=\"0\" width=\"55\" height=\"55\" style=\"fill:#e7cb94;stroke-width:2;stroke:rgb(255,255,255)\"/><rect x=\"660\" y=\"0\" width=\"55\" height=\"55\" style=\"fill:#843c39;stroke-width:2;stroke:rgb(255,255,255)\"/><rect x=\"715\" y=\"0\" width=\"55\" height=\"55\" style=\"fill:#ad494a;stroke-width:2;stroke:rgb(255,255,255)\"/><rect x=\"770\" y=\"0\" width=\"55\" height=\"55\" style=\"fill:#d6616b;stroke-width:2;stroke:rgb(255,255,255)\"/><rect x=\"825\" y=\"0\" width=\"55\" height=\"55\" style=\"fill:#e7969c;stroke-width:2;stroke:rgb(255,255,255)\"/><rect x=\"880\" y=\"0\" width=\"55\" height=\"55\" style=\"fill:#7b4173;stroke-width:2;stroke:rgb(255,255,255)\"/><rect x=\"935\" y=\"0\" width=\"55\" height=\"55\" style=\"fill:#a55194;stroke-width:2;stroke:rgb(255,255,255)\"/><rect x=\"990\" y=\"0\" width=\"55\" height=\"55\" style=\"fill:#ce6dbd;stroke-width:2;stroke:rgb(255,255,255)\"/><rect x=\"1045\" y=\"0\" width=\"55\" height=\"55\" style=\"fill:#de9ed6;stroke-width:2;stroke:rgb(255,255,255)\"/></svg>"
      ],
      "text/plain": [
       "[(0.2235294117647059, 0.23137254901960785, 0.4745098039215686),\n",
       " (0.3215686274509804, 0.32941176470588235, 0.6392156862745098),\n",
       " (0.4196078431372549, 0.43137254901960786, 0.8117647058823529),\n",
       " (0.611764705882353, 0.6196078431372549, 0.8705882352941177),\n",
       " (0.38823529411764707, 0.4745098039215686, 0.2235294117647059),\n",
       " (0.5490196078431373, 0.6352941176470588, 0.3215686274509804),\n",
       " (0.7098039215686275, 0.8117647058823529, 0.4196078431372549),\n",
       " (0.807843137254902, 0.8588235294117647, 0.611764705882353),\n",
       " (0.5490196078431373, 0.42745098039215684, 0.19215686274509805),\n",
       " (0.7411764705882353, 0.6196078431372549, 0.2235294117647059),\n",
       " (0.9058823529411765, 0.7294117647058823, 0.3215686274509804),\n",
       " (0.9058823529411765, 0.796078431372549, 0.5803921568627451),\n",
       " (0.5176470588235295, 0.23529411764705882, 0.2235294117647059),\n",
       " (0.6784313725490196, 0.28627450980392155, 0.2901960784313726),\n",
       " (0.8392156862745098, 0.3803921568627451, 0.4196078431372549),\n",
       " (0.9058823529411765, 0.5882352941176471, 0.611764705882353),\n",
       " (0.4823529411764706, 0.2549019607843137, 0.45098039215686275),\n",
       " (0.6470588235294118, 0.3176470588235294, 0.5803921568627451),\n",
       " (0.807843137254902, 0.42745098039215684, 0.7411764705882353),\n",
       " (0.8705882352941177, 0.6196078431372549, 0.8392156862745098)]"
      ]
     },
     "metadata": {},
     "output_type": "display_data"
    },
    {
     "name": "stdout",
     "output_type": "stream",
     "text": [
      "tab20b_r\n"
     ]
    },
    {
     "data": {
      "text/html": [
       "<svg  width=\"1100\" height=\"55\"><rect x=\"0\" y=\"0\" width=\"55\" height=\"55\" style=\"fill:#de9ed6;stroke-width:2;stroke:rgb(255,255,255)\"/><rect x=\"55\" y=\"0\" width=\"55\" height=\"55\" style=\"fill:#ce6dbd;stroke-width:2;stroke:rgb(255,255,255)\"/><rect x=\"110\" y=\"0\" width=\"55\" height=\"55\" style=\"fill:#a55194;stroke-width:2;stroke:rgb(255,255,255)\"/><rect x=\"165\" y=\"0\" width=\"55\" height=\"55\" style=\"fill:#7b4173;stroke-width:2;stroke:rgb(255,255,255)\"/><rect x=\"220\" y=\"0\" width=\"55\" height=\"55\" style=\"fill:#e7969c;stroke-width:2;stroke:rgb(255,255,255)\"/><rect x=\"275\" y=\"0\" width=\"55\" height=\"55\" style=\"fill:#d6616b;stroke-width:2;stroke:rgb(255,255,255)\"/><rect x=\"330\" y=\"0\" width=\"55\" height=\"55\" style=\"fill:#ad494a;stroke-width:2;stroke:rgb(255,255,255)\"/><rect x=\"385\" y=\"0\" width=\"55\" height=\"55\" style=\"fill:#843c39;stroke-width:2;stroke:rgb(255,255,255)\"/><rect x=\"440\" y=\"0\" width=\"55\" height=\"55\" style=\"fill:#e7cb94;stroke-width:2;stroke:rgb(255,255,255)\"/><rect x=\"495\" y=\"0\" width=\"55\" height=\"55\" style=\"fill:#e7ba52;stroke-width:2;stroke:rgb(255,255,255)\"/><rect x=\"550\" y=\"0\" width=\"55\" height=\"55\" style=\"fill:#bd9e39;stroke-width:2;stroke:rgb(255,255,255)\"/><rect x=\"605\" y=\"0\" width=\"55\" height=\"55\" style=\"fill:#8c6d31;stroke-width:2;stroke:rgb(255,255,255)\"/><rect x=\"660\" y=\"0\" width=\"55\" height=\"55\" style=\"fill:#cedb9c;stroke-width:2;stroke:rgb(255,255,255)\"/><rect x=\"715\" y=\"0\" width=\"55\" height=\"55\" style=\"fill:#b5cf6b;stroke-width:2;stroke:rgb(255,255,255)\"/><rect x=\"770\" y=\"0\" width=\"55\" height=\"55\" style=\"fill:#8ca252;stroke-width:2;stroke:rgb(255,255,255)\"/><rect x=\"825\" y=\"0\" width=\"55\" height=\"55\" style=\"fill:#637939;stroke-width:2;stroke:rgb(255,255,255)\"/><rect x=\"880\" y=\"0\" width=\"55\" height=\"55\" style=\"fill:#9c9ede;stroke-width:2;stroke:rgb(255,255,255)\"/><rect x=\"935\" y=\"0\" width=\"55\" height=\"55\" style=\"fill:#6b6ecf;stroke-width:2;stroke:rgb(255,255,255)\"/><rect x=\"990\" y=\"0\" width=\"55\" height=\"55\" style=\"fill:#5254a3;stroke-width:2;stroke:rgb(255,255,255)\"/><rect x=\"1045\" y=\"0\" width=\"55\" height=\"55\" style=\"fill:#393b79;stroke-width:2;stroke:rgb(255,255,255)\"/></svg>"
      ],
      "text/plain": [
       "[(0.8705882352941177, 0.6196078431372549, 0.8392156862745098),\n",
       " (0.807843137254902, 0.42745098039215684, 0.7411764705882353),\n",
       " (0.6470588235294118, 0.3176470588235294, 0.5803921568627451),\n",
       " (0.4823529411764706, 0.2549019607843137, 0.45098039215686275),\n",
       " (0.9058823529411765, 0.5882352941176471, 0.611764705882353),\n",
       " (0.8392156862745098, 0.3803921568627451, 0.4196078431372549),\n",
       " (0.6784313725490196, 0.28627450980392155, 0.2901960784313726),\n",
       " (0.5176470588235295, 0.23529411764705882, 0.2235294117647059),\n",
       " (0.9058823529411765, 0.796078431372549, 0.5803921568627451),\n",
       " (0.9058823529411765, 0.7294117647058823, 0.3215686274509804),\n",
       " (0.7411764705882353, 0.6196078431372549, 0.2235294117647059),\n",
       " (0.5490196078431373, 0.42745098039215684, 0.19215686274509805),\n",
       " (0.807843137254902, 0.8588235294117647, 0.611764705882353),\n",
       " (0.7098039215686275, 0.8117647058823529, 0.4196078431372549),\n",
       " (0.5490196078431373, 0.6352941176470588, 0.3215686274509804),\n",
       " (0.38823529411764707, 0.4745098039215686, 0.2235294117647059),\n",
       " (0.611764705882353, 0.6196078431372549, 0.8705882352941177),\n",
       " (0.4196078431372549, 0.43137254901960786, 0.8117647058823529),\n",
       " (0.3215686274509804, 0.32941176470588235, 0.6392156862745098),\n",
       " (0.2235294117647059, 0.23137254901960785, 0.4745098039215686)]"
      ]
     },
     "metadata": {},
     "output_type": "display_data"
    },
    {
     "name": "stdout",
     "output_type": "stream",
     "text": [
      "tab20c\n"
     ]
    },
    {
     "data": {
      "text/html": [
       "<svg  width=\"1100\" height=\"55\"><rect x=\"0\" y=\"0\" width=\"55\" height=\"55\" style=\"fill:#3182bd;stroke-width:2;stroke:rgb(255,255,255)\"/><rect x=\"55\" y=\"0\" width=\"55\" height=\"55\" style=\"fill:#6baed6;stroke-width:2;stroke:rgb(255,255,255)\"/><rect x=\"110\" y=\"0\" width=\"55\" height=\"55\" style=\"fill:#9ecae1;stroke-width:2;stroke:rgb(255,255,255)\"/><rect x=\"165\" y=\"0\" width=\"55\" height=\"55\" style=\"fill:#c6dbef;stroke-width:2;stroke:rgb(255,255,255)\"/><rect x=\"220\" y=\"0\" width=\"55\" height=\"55\" style=\"fill:#e6550d;stroke-width:2;stroke:rgb(255,255,255)\"/><rect x=\"275\" y=\"0\" width=\"55\" height=\"55\" style=\"fill:#fd8d3c;stroke-width:2;stroke:rgb(255,255,255)\"/><rect x=\"330\" y=\"0\" width=\"55\" height=\"55\" style=\"fill:#fdae6b;stroke-width:2;stroke:rgb(255,255,255)\"/><rect x=\"385\" y=\"0\" width=\"55\" height=\"55\" style=\"fill:#fdd0a2;stroke-width:2;stroke:rgb(255,255,255)\"/><rect x=\"440\" y=\"0\" width=\"55\" height=\"55\" style=\"fill:#31a354;stroke-width:2;stroke:rgb(255,255,255)\"/><rect x=\"495\" y=\"0\" width=\"55\" height=\"55\" style=\"fill:#74c476;stroke-width:2;stroke:rgb(255,255,255)\"/><rect x=\"550\" y=\"0\" width=\"55\" height=\"55\" style=\"fill:#a1d99b;stroke-width:2;stroke:rgb(255,255,255)\"/><rect x=\"605\" y=\"0\" width=\"55\" height=\"55\" style=\"fill:#c7e9c0;stroke-width:2;stroke:rgb(255,255,255)\"/><rect x=\"660\" y=\"0\" width=\"55\" height=\"55\" style=\"fill:#756bb1;stroke-width:2;stroke:rgb(255,255,255)\"/><rect x=\"715\" y=\"0\" width=\"55\" height=\"55\" style=\"fill:#9e9ac8;stroke-width:2;stroke:rgb(255,255,255)\"/><rect x=\"770\" y=\"0\" width=\"55\" height=\"55\" style=\"fill:#bcbddc;stroke-width:2;stroke:rgb(255,255,255)\"/><rect x=\"825\" y=\"0\" width=\"55\" height=\"55\" style=\"fill:#dadaeb;stroke-width:2;stroke:rgb(255,255,255)\"/><rect x=\"880\" y=\"0\" width=\"55\" height=\"55\" style=\"fill:#636363;stroke-width:2;stroke:rgb(255,255,255)\"/><rect x=\"935\" y=\"0\" width=\"55\" height=\"55\" style=\"fill:#969696;stroke-width:2;stroke:rgb(255,255,255)\"/><rect x=\"990\" y=\"0\" width=\"55\" height=\"55\" style=\"fill:#bdbdbd;stroke-width:2;stroke:rgb(255,255,255)\"/><rect x=\"1045\" y=\"0\" width=\"55\" height=\"55\" style=\"fill:#d9d9d9;stroke-width:2;stroke:rgb(255,255,255)\"/></svg>"
      ],
      "text/plain": [
       "[(0.19215686274509805, 0.5098039215686274, 0.7411764705882353),\n",
       " (0.4196078431372549, 0.6823529411764706, 0.8392156862745098),\n",
       " (0.6196078431372549, 0.792156862745098, 0.8823529411764706),\n",
       " (0.7764705882352941, 0.8588235294117647, 0.9372549019607843),\n",
       " (0.9019607843137255, 0.3333333333333333, 0.050980392156862744),\n",
       " (0.9921568627450981, 0.5529411764705883, 0.23529411764705882),\n",
       " (0.9921568627450981, 0.6823529411764706, 0.4196078431372549),\n",
       " (0.9921568627450981, 0.8156862745098039, 0.6352941176470588),\n",
       " (0.19215686274509805, 0.6392156862745098, 0.32941176470588235),\n",
       " (0.4549019607843137, 0.7686274509803922, 0.4627450980392157),\n",
       " (0.6313725490196078, 0.8509803921568627, 0.6078431372549019),\n",
       " (0.7803921568627451, 0.9137254901960784, 0.7529411764705882),\n",
       " (0.4588235294117647, 0.4196078431372549, 0.6941176470588235),\n",
       " (0.6196078431372549, 0.6039215686274509, 0.7843137254901961),\n",
       " (0.7372549019607844, 0.7411764705882353, 0.8627450980392157),\n",
       " (0.8549019607843137, 0.8549019607843137, 0.9215686274509803),\n",
       " (0.38823529411764707, 0.38823529411764707, 0.38823529411764707),\n",
       " (0.5882352941176471, 0.5882352941176471, 0.5882352941176471),\n",
       " (0.7411764705882353, 0.7411764705882353, 0.7411764705882353),\n",
       " (0.8509803921568627, 0.8509803921568627, 0.8509803921568627)]"
      ]
     },
     "metadata": {},
     "output_type": "display_data"
    },
    {
     "name": "stdout",
     "output_type": "stream",
     "text": [
      "tab20c_r\n"
     ]
    },
    {
     "data": {
      "text/html": [
       "<svg  width=\"1100\" height=\"55\"><rect x=\"0\" y=\"0\" width=\"55\" height=\"55\" style=\"fill:#d9d9d9;stroke-width:2;stroke:rgb(255,255,255)\"/><rect x=\"55\" y=\"0\" width=\"55\" height=\"55\" style=\"fill:#bdbdbd;stroke-width:2;stroke:rgb(255,255,255)\"/><rect x=\"110\" y=\"0\" width=\"55\" height=\"55\" style=\"fill:#969696;stroke-width:2;stroke:rgb(255,255,255)\"/><rect x=\"165\" y=\"0\" width=\"55\" height=\"55\" style=\"fill:#636363;stroke-width:2;stroke:rgb(255,255,255)\"/><rect x=\"220\" y=\"0\" width=\"55\" height=\"55\" style=\"fill:#dadaeb;stroke-width:2;stroke:rgb(255,255,255)\"/><rect x=\"275\" y=\"0\" width=\"55\" height=\"55\" style=\"fill:#bcbddc;stroke-width:2;stroke:rgb(255,255,255)\"/><rect x=\"330\" y=\"0\" width=\"55\" height=\"55\" style=\"fill:#9e9ac8;stroke-width:2;stroke:rgb(255,255,255)\"/><rect x=\"385\" y=\"0\" width=\"55\" height=\"55\" style=\"fill:#756bb1;stroke-width:2;stroke:rgb(255,255,255)\"/><rect x=\"440\" y=\"0\" width=\"55\" height=\"55\" style=\"fill:#c7e9c0;stroke-width:2;stroke:rgb(255,255,255)\"/><rect x=\"495\" y=\"0\" width=\"55\" height=\"55\" style=\"fill:#a1d99b;stroke-width:2;stroke:rgb(255,255,255)\"/><rect x=\"550\" y=\"0\" width=\"55\" height=\"55\" style=\"fill:#74c476;stroke-width:2;stroke:rgb(255,255,255)\"/><rect x=\"605\" y=\"0\" width=\"55\" height=\"55\" style=\"fill:#31a354;stroke-width:2;stroke:rgb(255,255,255)\"/><rect x=\"660\" y=\"0\" width=\"55\" height=\"55\" style=\"fill:#fdd0a2;stroke-width:2;stroke:rgb(255,255,255)\"/><rect x=\"715\" y=\"0\" width=\"55\" height=\"55\" style=\"fill:#fdae6b;stroke-width:2;stroke:rgb(255,255,255)\"/><rect x=\"770\" y=\"0\" width=\"55\" height=\"55\" style=\"fill:#fd8d3c;stroke-width:2;stroke:rgb(255,255,255)\"/><rect x=\"825\" y=\"0\" width=\"55\" height=\"55\" style=\"fill:#e6550d;stroke-width:2;stroke:rgb(255,255,255)\"/><rect x=\"880\" y=\"0\" width=\"55\" height=\"55\" style=\"fill:#c6dbef;stroke-width:2;stroke:rgb(255,255,255)\"/><rect x=\"935\" y=\"0\" width=\"55\" height=\"55\" style=\"fill:#9ecae1;stroke-width:2;stroke:rgb(255,255,255)\"/><rect x=\"990\" y=\"0\" width=\"55\" height=\"55\" style=\"fill:#6baed6;stroke-width:2;stroke:rgb(255,255,255)\"/><rect x=\"1045\" y=\"0\" width=\"55\" height=\"55\" style=\"fill:#3182bd;stroke-width:2;stroke:rgb(255,255,255)\"/></svg>"
      ],
      "text/plain": [
       "[(0.8509803921568627, 0.8509803921568627, 0.8509803921568627),\n",
       " (0.7411764705882353, 0.7411764705882353, 0.7411764705882353),\n",
       " (0.5882352941176471, 0.5882352941176471, 0.5882352941176471),\n",
       " (0.38823529411764707, 0.38823529411764707, 0.38823529411764707),\n",
       " (0.8549019607843137, 0.8549019607843137, 0.9215686274509803),\n",
       " (0.7372549019607844, 0.7411764705882353, 0.8627450980392157),\n",
       " (0.6196078431372549, 0.6039215686274509, 0.7843137254901961),\n",
       " (0.4588235294117647, 0.4196078431372549, 0.6941176470588235),\n",
       " (0.7803921568627451, 0.9137254901960784, 0.7529411764705882),\n",
       " (0.6313725490196078, 0.8509803921568627, 0.6078431372549019),\n",
       " (0.4549019607843137, 0.7686274509803922, 0.4627450980392157),\n",
       " (0.19215686274509805, 0.6392156862745098, 0.32941176470588235),\n",
       " (0.9921568627450981, 0.8156862745098039, 0.6352941176470588),\n",
       " (0.9921568627450981, 0.6823529411764706, 0.4196078431372549),\n",
       " (0.9921568627450981, 0.5529411764705883, 0.23529411764705882),\n",
       " (0.9019607843137255, 0.3333333333333333, 0.050980392156862744),\n",
       " (0.7764705882352941, 0.8588235294117647, 0.9372549019607843),\n",
       " (0.6196078431372549, 0.792156862745098, 0.8823529411764706),\n",
       " (0.4196078431372549, 0.6823529411764706, 0.8392156862745098),\n",
       " (0.19215686274509805, 0.5098039215686274, 0.7411764705882353)]"
      ]
     },
     "metadata": {},
     "output_type": "display_data"
    },
    {
     "name": "stdout",
     "output_type": "stream",
     "text": [
      "terrain\n"
     ]
    },
    {
     "data": {
      "text/html": [
       "<svg  width=\"1100\" height=\"55\"><rect x=\"0\" y=\"0\" width=\"55\" height=\"55\" style=\"fill:#2353b9;stroke-width:2;stroke:rgb(255,255,255)\"/><rect x=\"55\" y=\"0\" width=\"55\" height=\"55\" style=\"fill:#1373d9;stroke-width:2;stroke:rgb(255,255,255)\"/><rect x=\"110\" y=\"0\" width=\"55\" height=\"55\" style=\"fill:#0393f9;stroke-width:2;stroke:rgb(255,255,255)\"/><rect x=\"165\" y=\"0\" width=\"55\" height=\"55\" style=\"fill:#00acc4;stroke-width:2;stroke:rgb(255,255,255)\"/><rect x=\"220\" y=\"0\" width=\"55\" height=\"55\" style=\"fill:#00c47d;stroke-width:2;stroke:rgb(255,255,255)\"/><rect x=\"275\" y=\"0\" width=\"55\" height=\"55\" style=\"fill:#25d36d;stroke-width:2;stroke:rgb(255,255,255)\"/><rect x=\"330\" y=\"0\" width=\"55\" height=\"55\" style=\"fill:#55dd77;stroke-width:2;stroke:rgb(255,255,255)\"/><rect x=\"385\" y=\"0\" width=\"55\" height=\"55\" style=\"fill:#85e781;stroke-width:2;stroke:rgb(255,255,255)\"/><rect x=\"440\" y=\"0\" width=\"55\" height=\"55\" style=\"fill:#b5f08a;stroke-width:2;stroke:rgb(255,255,255)\"/><rect x=\"495\" y=\"0\" width=\"55\" height=\"55\" style=\"fill:#e5fa94;stroke-width:2;stroke:rgb(255,255,255)\"/><rect x=\"550\" y=\"0\" width=\"55\" height=\"55\" style=\"fill:#f2ee92;stroke-width:2;stroke:rgb(255,255,255)\"/><rect x=\"605\" y=\"0\" width=\"55\" height=\"55\" style=\"fill:#dad085;stroke-width:2;stroke:rgb(255,255,255)\"/><rect x=\"660\" y=\"0\" width=\"55\" height=\"55\" style=\"fill:#c2b178;stroke-width:2;stroke:rgb(255,255,255)\"/><rect x=\"715\" y=\"0\" width=\"55\" height=\"55\" style=\"fill:#aa926b;stroke-width:2;stroke:rgb(255,255,255)\"/><rect x=\"770\" y=\"0\" width=\"55\" height=\"55\" style=\"fill:#92735e;stroke-width:2;stroke:rgb(255,255,255)\"/><rect x=\"825\" y=\"0\" width=\"55\" height=\"55\" style=\"fill:#87655e;stroke-width:2;stroke:rgb(255,255,255)\"/><rect x=\"880\" y=\"0\" width=\"55\" height=\"55\" style=\"fill:#9f847e;stroke-width:2;stroke:rgb(255,255,255)\"/><rect x=\"935\" y=\"0\" width=\"55\" height=\"55\" style=\"fill:#b7a39f;stroke-width:2;stroke:rgb(255,255,255)\"/><rect x=\"990\" y=\"0\" width=\"55\" height=\"55\" style=\"fill:#cfc2bf;stroke-width:2;stroke:rgb(255,255,255)\"/><rect x=\"1045\" y=\"0\" width=\"55\" height=\"55\" style=\"fill:#e7e0df;stroke-width:2;stroke:rgb(255,255,255)\"/></svg>"
      ],
      "text/plain": [
       "[(0.13725490196078433, 0.3254901960784314, 0.7254901960784313),\n",
       " (0.07450980392156864, 0.45098039215686275, 0.8509803921568627),\n",
       " (0.011764705882352955, 0.5764705882352941, 0.9764705882352941),\n",
       " (0.0, 0.6764705882352942, 0.7705882352941177),\n",
       " (0.0, 0.7705882352941177, 0.4882352941176471),\n",
       " (0.1450980392156863, 0.8290196078431373, 0.42901960784313725),\n",
       " (0.3333333333333333, 0.8666666666666667, 0.4666666666666667),\n",
       " (0.5215686274509804, 0.9043137254901961, 0.504313725490196),\n",
       " (0.7098039215686275, 0.9419607843137255, 0.5419607843137255),\n",
       " (0.8980392156862745, 0.9796078431372549, 0.5796078431372549),\n",
       " (0.9490196078431372, 0.9347450980392157, 0.5724705882352941),\n",
       " (0.8549019607843137, 0.8142745098039216, 0.5216470588235294),\n",
       " (0.7607843137254902, 0.6938039215686274, 0.4708235294117647),\n",
       " (0.6666666666666667, 0.5733333333333334, 0.42000000000000004),\n",
       " (0.5725490196078431, 0.45286274509803925, 0.36917647058823533),\n",
       " (0.5294117647058824, 0.3976470588235294, 0.3694117647058824),\n",
       " (0.6235294117647059, 0.5181176470588236, 0.4955294117647059),\n",
       " (0.7176470588235294, 0.6385882352941177, 0.6216470588235294),\n",
       " (0.8117647058823529, 0.7590588235294118, 0.7477647058823529),\n",
       " (0.9058823529411765, 0.8795294117647059, 0.8738823529411763)]"
      ]
     },
     "metadata": {},
     "output_type": "display_data"
    },
    {
     "name": "stdout",
     "output_type": "stream",
     "text": [
      "terrain_r\n"
     ]
    },
    {
     "data": {
      "text/html": [
       "<svg  width=\"1100\" height=\"55\"><rect x=\"0\" y=\"0\" width=\"55\" height=\"55\" style=\"fill:#e7e0df;stroke-width:2;stroke:rgb(255,255,255)\"/><rect x=\"55\" y=\"0\" width=\"55\" height=\"55\" style=\"fill:#cfc2bf;stroke-width:2;stroke:rgb(255,255,255)\"/><rect x=\"110\" y=\"0\" width=\"55\" height=\"55\" style=\"fill:#b7a39f;stroke-width:2;stroke:rgb(255,255,255)\"/><rect x=\"165\" y=\"0\" width=\"55\" height=\"55\" style=\"fill:#9f847e;stroke-width:2;stroke:rgb(255,255,255)\"/><rect x=\"220\" y=\"0\" width=\"55\" height=\"55\" style=\"fill:#87655e;stroke-width:2;stroke:rgb(255,255,255)\"/><rect x=\"275\" y=\"0\" width=\"55\" height=\"55\" style=\"fill:#92735e;stroke-width:2;stroke:rgb(255,255,255)\"/><rect x=\"330\" y=\"0\" width=\"55\" height=\"55\" style=\"fill:#aa926b;stroke-width:2;stroke:rgb(255,255,255)\"/><rect x=\"385\" y=\"0\" width=\"55\" height=\"55\" style=\"fill:#c2b178;stroke-width:2;stroke:rgb(255,255,255)\"/><rect x=\"440\" y=\"0\" width=\"55\" height=\"55\" style=\"fill:#dad085;stroke-width:2;stroke:rgb(255,255,255)\"/><rect x=\"495\" y=\"0\" width=\"55\" height=\"55\" style=\"fill:#f2ee92;stroke-width:2;stroke:rgb(255,255,255)\"/><rect x=\"550\" y=\"0\" width=\"55\" height=\"55\" style=\"fill:#e5fa94;stroke-width:2;stroke:rgb(255,255,255)\"/><rect x=\"605\" y=\"0\" width=\"55\" height=\"55\" style=\"fill:#b5f08a;stroke-width:2;stroke:rgb(255,255,255)\"/><rect x=\"660\" y=\"0\" width=\"55\" height=\"55\" style=\"fill:#85e781;stroke-width:2;stroke:rgb(255,255,255)\"/><rect x=\"715\" y=\"0\" width=\"55\" height=\"55\" style=\"fill:#55dd77;stroke-width:2;stroke:rgb(255,255,255)\"/><rect x=\"770\" y=\"0\" width=\"55\" height=\"55\" style=\"fill:#25d36d;stroke-width:2;stroke:rgb(255,255,255)\"/><rect x=\"825\" y=\"0\" width=\"55\" height=\"55\" style=\"fill:#00c47d;stroke-width:2;stroke:rgb(255,255,255)\"/><rect x=\"880\" y=\"0\" width=\"55\" height=\"55\" style=\"fill:#00acc4;stroke-width:2;stroke:rgb(255,255,255)\"/><rect x=\"935\" y=\"0\" width=\"55\" height=\"55\" style=\"fill:#0393f9;stroke-width:2;stroke:rgb(255,255,255)\"/><rect x=\"990\" y=\"0\" width=\"55\" height=\"55\" style=\"fill:#1373d9;stroke-width:2;stroke:rgb(255,255,255)\"/><rect x=\"1045\" y=\"0\" width=\"55\" height=\"55\" style=\"fill:#2353b9;stroke-width:2;stroke:rgb(255,255,255)\"/></svg>"
      ],
      "text/plain": [
       "[(0.9058823529411765, 0.8795294117647059, 0.8738823529411766),\n",
       " (0.8117647058823529, 0.7590588235294118, 0.747764705882353),\n",
       " (0.7176470588235294, 0.6385882352941177, 0.6216470588235294),\n",
       " (0.6235294117647059, 0.5181176470588236, 0.495529411764706),\n",
       " (0.5294117647058824, 0.39764705882352935, 0.36941176470588244),\n",
       " (0.5725490196078431, 0.4528627450980392, 0.36917647058823533),\n",
       " (0.6666666666666666, 0.5733333333333333, 0.42),\n",
       " (0.7607843137254902, 0.6938039215686275, 0.47082352941176475),\n",
       " (0.8549019607843138, 0.8142745098039216, 0.5216470588235294),\n",
       " (0.9490196078431372, 0.9347450980392157, 0.5724705882352941),\n",
       " (0.8980392156862745, 0.9796078431372549, 0.5796078431372549),\n",
       " (0.7098039215686274, 0.9419607843137255, 0.5419607843137255),\n",
       " (0.5215686274509803, 0.9043137254901961, 0.504313725490196),\n",
       " (0.33333333333333337, 0.8666666666666667, 0.4666666666666667),\n",
       " (0.14509803921568631, 0.8290196078431373, 0.4290196078431373),\n",
       " (0.0, 0.7705882352941177, 0.4882352941176471),\n",
       " (0.0, 0.6764705882352942, 0.7705882352941177),\n",
       " (0.011764705882352941, 0.5764705882352941, 0.9764705882352941),\n",
       " (0.07450980392156863, 0.4509803921568627, 0.8509803921568627),\n",
       " (0.13725490196078433, 0.3254901960784314, 0.7254901960784313)]"
      ]
     },
     "metadata": {},
     "output_type": "display_data"
    },
    {
     "name": "stdout",
     "output_type": "stream",
     "text": [
      "turbo\n"
     ]
    },
    {
     "data": {
      "text/html": [
       "<svg  width=\"1100\" height=\"55\"><rect x=\"0\" y=\"0\" width=\"55\" height=\"55\" style=\"fill:#3d358b;stroke-width:2;stroke:rgb(255,255,255)\"/><rect x=\"55\" y=\"0\" width=\"55\" height=\"55\" style=\"fill:#4456c7;stroke-width:2;stroke:rgb(255,255,255)\"/><rect x=\"110\" y=\"0\" width=\"55\" height=\"55\" style=\"fill:#4776ee;stroke-width:2;stroke:rgb(255,255,255)\"/><rect x=\"165\" y=\"0\" width=\"55\" height=\"55\" style=\"fill:#4294ff;stroke-width:2;stroke:rgb(255,255,255)\"/><rect x=\"220\" y=\"0\" width=\"55\" height=\"55\" style=\"fill:#2fb2f4;stroke-width:2;stroke:rgb(255,255,255)\"/><rect x=\"275\" y=\"0\" width=\"55\" height=\"55\" style=\"fill:#1bd0d5;stroke-width:2;stroke:rgb(255,255,255)\"/><rect x=\"330\" y=\"0\" width=\"55\" height=\"55\" style=\"fill:#1ae4b6;stroke-width:2;stroke:rgb(255,255,255)\"/><rect x=\"385\" y=\"0\" width=\"55\" height=\"55\" style=\"fill:#35f394;stroke-width:2;stroke:rgb(255,255,255)\"/><rect x=\"440\" y=\"0\" width=\"55\" height=\"55\" style=\"fill:#61fc6c;stroke-width:2;stroke:rgb(255,255,255)\"/><rect x=\"495\" y=\"0\" width=\"55\" height=\"55\" style=\"fill:#8fff49;stroke-width:2;stroke:rgb(255,255,255)\"/><rect x=\"550\" y=\"0\" width=\"55\" height=\"55\" style=\"fill:#b4f836;stroke-width:2;stroke:rgb(255,255,255)\"/><rect x=\"605\" y=\"0\" width=\"55\" height=\"55\" style=\"fill:#d2e935;stroke-width:2;stroke:rgb(255,255,255)\"/><rect x=\"660\" y=\"0\" width=\"55\" height=\"55\" style=\"fill:#ebd339;stroke-width:2;stroke:rgb(255,255,255)\"/><rect x=\"715\" y=\"0\" width=\"55\" height=\"55\" style=\"fill:#faba39;stroke-width:2;stroke:rgb(255,255,255)\"/><rect x=\"770\" y=\"0\" width=\"55\" height=\"55\" style=\"fill:#fe9b2d;stroke-width:2;stroke:rgb(255,255,255)\"/><rect x=\"825\" y=\"0\" width=\"55\" height=\"55\" style=\"fill:#f9751d;stroke-width:2;stroke:rgb(255,255,255)\"/><rect x=\"880\" y=\"0\" width=\"55\" height=\"55\" style=\"fill:#ec530f;stroke-width:2;stroke:rgb(255,255,255)\"/><rect x=\"935\" y=\"0\" width=\"55\" height=\"55\" style=\"fill:#da3907;stroke-width:2;stroke:rgb(255,255,255)\"/><rect x=\"990\" y=\"0\" width=\"55\" height=\"55\" style=\"fill:#c12302;stroke-width:2;stroke:rgb(255,255,255)\"/><rect x=\"1045\" y=\"0\" width=\"55\" height=\"55\" style=\"fill:#a11201;stroke-width:2;stroke:rgb(255,255,255)\"/></svg>"
      ],
      "text/plain": [
       "[(0.23915, 0.20833, 0.54686),\n",
       " (0.26816, 0.33825, 0.7805),\n",
       " (0.27698, 0.46153, 0.93309),\n",
       " (0.25862, 0.57958, 0.99876),\n",
       " (0.18625, 0.69775, 0.95498),\n",
       " (0.10738, 0.81381, 0.83484),\n",
       " (0.10342, 0.896, 0.715),\n",
       " (0.20877, 0.95304, 0.58199),\n",
       " (0.38127, 0.98909, 0.42386),\n",
       " (0.56026, 0.99873, 0.28623),\n",
       " (0.70553, 0.97255, 0.21032),\n",
       " (0.82333, 0.91253, 0.20663),\n",
       " (0.92004, 0.82806, 0.22456),\n",
       " (0.98, 0.73, 0.22161),\n",
       " (0.99672, 0.60977, 0.17842),\n",
       " (0.97545, 0.4574, 0.11305),\n",
       " (0.92623, 0.32473, 0.05837),\n",
       " (0.8538, 0.2217, 0.02677),\n",
       " (0.75556, 0.13731, 0.00942),\n",
       " (0.63082, 0.06868, 0.00401)]"
      ]
     },
     "metadata": {},
     "output_type": "display_data"
    },
    {
     "name": "stdout",
     "output_type": "stream",
     "text": [
      "turbo_r\n"
     ]
    },
    {
     "data": {
      "text/html": [
       "<svg  width=\"1100\" height=\"55\"><rect x=\"0\" y=\"0\" width=\"55\" height=\"55\" style=\"fill:#a11201;stroke-width:2;stroke:rgb(255,255,255)\"/><rect x=\"55\" y=\"0\" width=\"55\" height=\"55\" style=\"fill:#c12302;stroke-width:2;stroke:rgb(255,255,255)\"/><rect x=\"110\" y=\"0\" width=\"55\" height=\"55\" style=\"fill:#da3907;stroke-width:2;stroke:rgb(255,255,255)\"/><rect x=\"165\" y=\"0\" width=\"55\" height=\"55\" style=\"fill:#ec530f;stroke-width:2;stroke:rgb(255,255,255)\"/><rect x=\"220\" y=\"0\" width=\"55\" height=\"55\" style=\"fill:#f9751d;stroke-width:2;stroke:rgb(255,255,255)\"/><rect x=\"275\" y=\"0\" width=\"55\" height=\"55\" style=\"fill:#fe9b2d;stroke-width:2;stroke:rgb(255,255,255)\"/><rect x=\"330\" y=\"0\" width=\"55\" height=\"55\" style=\"fill:#faba39;stroke-width:2;stroke:rgb(255,255,255)\"/><rect x=\"385\" y=\"0\" width=\"55\" height=\"55\" style=\"fill:#ebd339;stroke-width:2;stroke:rgb(255,255,255)\"/><rect x=\"440\" y=\"0\" width=\"55\" height=\"55\" style=\"fill:#d2e935;stroke-width:2;stroke:rgb(255,255,255)\"/><rect x=\"495\" y=\"0\" width=\"55\" height=\"55\" style=\"fill:#b4f836;stroke-width:2;stroke:rgb(255,255,255)\"/><rect x=\"550\" y=\"0\" width=\"55\" height=\"55\" style=\"fill:#8fff49;stroke-width:2;stroke:rgb(255,255,255)\"/><rect x=\"605\" y=\"0\" width=\"55\" height=\"55\" style=\"fill:#61fc6c;stroke-width:2;stroke:rgb(255,255,255)\"/><rect x=\"660\" y=\"0\" width=\"55\" height=\"55\" style=\"fill:#35f394;stroke-width:2;stroke:rgb(255,255,255)\"/><rect x=\"715\" y=\"0\" width=\"55\" height=\"55\" style=\"fill:#1ae4b6;stroke-width:2;stroke:rgb(255,255,255)\"/><rect x=\"770\" y=\"0\" width=\"55\" height=\"55\" style=\"fill:#1bd0d5;stroke-width:2;stroke:rgb(255,255,255)\"/><rect x=\"825\" y=\"0\" width=\"55\" height=\"55\" style=\"fill:#2fb2f4;stroke-width:2;stroke:rgb(255,255,255)\"/><rect x=\"880\" y=\"0\" width=\"55\" height=\"55\" style=\"fill:#4294ff;stroke-width:2;stroke:rgb(255,255,255)\"/><rect x=\"935\" y=\"0\" width=\"55\" height=\"55\" style=\"fill:#4776ee;stroke-width:2;stroke:rgb(255,255,255)\"/><rect x=\"990\" y=\"0\" width=\"55\" height=\"55\" style=\"fill:#4456c7;stroke-width:2;stroke:rgb(255,255,255)\"/><rect x=\"1045\" y=\"0\" width=\"55\" height=\"55\" style=\"fill:#3d358b;stroke-width:2;stroke:rgb(255,255,255)\"/></svg>"
      ],
      "text/plain": [
       "[(0.63082, 0.06868, 0.00401),\n",
       " (0.75556, 0.13731, 0.00942),\n",
       " (0.8538, 0.2217, 0.02677),\n",
       " (0.92623, 0.32473, 0.05837),\n",
       " (0.97545, 0.4574, 0.11305),\n",
       " (0.99672, 0.60977, 0.17842),\n",
       " (0.98, 0.73, 0.22161),\n",
       " (0.92004, 0.82806, 0.22456),\n",
       " (0.82333, 0.91253, 0.20663),\n",
       " (0.70553, 0.97255, 0.21032),\n",
       " (0.56026, 0.99873, 0.28623),\n",
       " (0.38127, 0.98909, 0.42386),\n",
       " (0.20877, 0.95304, 0.58199),\n",
       " (0.10342, 0.896, 0.715),\n",
       " (0.10738, 0.81381, 0.83484),\n",
       " (0.18625, 0.69775, 0.95498),\n",
       " (0.25862, 0.57958, 0.99876),\n",
       " (0.27698, 0.46153, 0.93309),\n",
       " (0.26816, 0.33825, 0.7805),\n",
       " (0.23915, 0.20833, 0.54686)]"
      ]
     },
     "metadata": {},
     "output_type": "display_data"
    },
    {
     "name": "stdout",
     "output_type": "stream",
     "text": [
      "twilight\n"
     ]
    },
    {
     "data": {
      "text/html": [
       "<svg  width=\"1100\" height=\"55\"><rect x=\"0\" y=\"0\" width=\"55\" height=\"55\" style=\"fill:#cdd3d8;stroke-width:2;stroke:rgb(255,255,255)\"/><rect x=\"55\" y=\"0\" width=\"55\" height=\"55\" style=\"fill:#aac2cc;stroke-width:2;stroke:rgb(255,255,255)\"/><rect x=\"110\" y=\"0\" width=\"55\" height=\"55\" style=\"fill:#89adc5;stroke-width:2;stroke:rgb(255,255,255)\"/><rect x=\"165\" y=\"0\" width=\"55\" height=\"55\" style=\"fill:#7195c0;stroke-width:2;stroke:rgb(255,255,255)\"/><rect x=\"220\" y=\"0\" width=\"55\" height=\"55\" style=\"fill:#647cbc;stroke-width:2;stroke:rgb(255,255,255)\"/><rect x=\"275\" y=\"0\" width=\"55\" height=\"55\" style=\"fill:#5f61b4;stroke-width:2;stroke:rgb(255,255,255)\"/><rect x=\"330\" y=\"0\" width=\"55\" height=\"55\" style=\"fill:#5e43a5;stroke-width:2;stroke:rgb(255,255,255)\"/><rect x=\"385\" y=\"0\" width=\"55\" height=\"55\" style=\"fill:#58278b;stroke-width:2;stroke:rgb(255,255,255)\"/><rect x=\"440\" y=\"0\" width=\"55\" height=\"55\" style=\"fill:#491564;stroke-width:2;stroke:rgb(255,255,255)\"/><rect x=\"495\" y=\"0\" width=\"55\" height=\"55\" style=\"fill:#361142;stroke-width:2;stroke:rgb(255,255,255)\"/><rect x=\"550\" y=\"0\" width=\"55\" height=\"55\" style=\"fill:#371139;stroke-width:2;stroke:rgb(255,255,255)\"/><rect x=\"605\" y=\"0\" width=\"55\" height=\"55\" style=\"fill:#501444;stroke-width:2;stroke:rgb(255,255,255)\"/><rect x=\"660\" y=\"0\" width=\"55\" height=\"55\" style=\"fill:#701c4e;stroke-width:2;stroke:rgb(255,255,255)\"/><rect x=\"715\" y=\"0\" width=\"55\" height=\"55\" style=\"fill:#8e2c50;stroke-width:2;stroke:rgb(255,255,255)\"/><rect x=\"770\" y=\"0\" width=\"55\" height=\"55\" style=\"fill:#a54350;stroke-width:2;stroke:rgb(255,255,255)\"/><rect x=\"825\" y=\"0\" width=\"55\" height=\"55\" style=\"fill:#b65d54;stroke-width:2;stroke:rgb(255,255,255)\"/><rect x=\"880\" y=\"0\" width=\"55\" height=\"55\" style=\"fill:#c27a61;stroke-width:2;stroke:rgb(255,255,255)\"/><rect x=\"935\" y=\"0\" width=\"55\" height=\"55\" style=\"fill:#ca997c;stroke-width:2;stroke:rgb(255,255,255)\"/><rect x=\"990\" y=\"0\" width=\"55\" height=\"55\" style=\"fill:#d1b5a1;stroke-width:2;stroke:rgb(255,255,255)\"/><rect x=\"1045\" y=\"0\" width=\"55\" height=\"55\" style=\"fill:#dccdca;stroke-width:2;stroke:rgb(255,255,255)\"/></svg>"
      ],
      "text/plain": [
       "[(0.8046916442981458, 0.8270983878056066, 0.8484244929697402),\n",
       " (0.6672147980375281, 0.7595112803730375, 0.7986367465453776),\n",
       " (0.5383401557517628, 0.677970811290954, 0.7711273443905772),\n",
       " (0.441912717666964, 0.5846144110017557, 0.7545183888441067),\n",
       " (0.390920175719949, 0.4870552025122304, 0.7369797713388125),\n",
       " (0.37324816143326384, 0.38140848555753937, 0.7059820097480604),\n",
       " (0.3668108554010799, 0.26404857724525643, 0.6464799165290824),\n",
       " (0.3463150717579309, 0.15312802296627787, 0.5457599924248665),\n",
       " (0.28669151388283165, 0.08242987384848069, 0.39331182532243375),\n",
       " (0.21237411048541005, 0.06608502466175845, 0.2576516509356954),\n",
       " (0.21625279838647882, 0.06761633027051639, 0.22324568672294431),\n",
       " (0.3153587000920581, 0.07942099731524319, 0.2681190407694196),\n",
       " (0.4385637818793154, 0.11077667828375456, 0.30712600062348083),\n",
       " (0.5566322903496934, 0.17269677158182117, 0.31423043195101424),\n",
       " (0.6456734938264543, 0.2615520316161528, 0.31248673753935263),\n",
       " (0.7129346683977347, 0.36517570519856757, 0.3288027427038317),\n",
       " (0.7595711110534006, 0.4775687122205708, 0.380360657784311),\n",
       " (0.7904577684772788, 0.5982813427706246, 0.48622257801969754),\n",
       " (0.8198723065045529, 0.7095047497878748, 0.6330385704006711),\n",
       " (0.8610711702756552, 0.8047851790981223, 0.7903952966373629)]"
      ]
     },
     "metadata": {},
     "output_type": "display_data"
    },
    {
     "name": "stdout",
     "output_type": "stream",
     "text": [
      "twilight_r\n"
     ]
    },
    {
     "data": {
      "text/html": [
       "<svg  width=\"1100\" height=\"55\"><rect x=\"0\" y=\"0\" width=\"55\" height=\"55\" style=\"fill:#dccdca;stroke-width:2;stroke:rgb(255,255,255)\"/><rect x=\"55\" y=\"0\" width=\"55\" height=\"55\" style=\"fill:#d1b5a1;stroke-width:2;stroke:rgb(255,255,255)\"/><rect x=\"110\" y=\"0\" width=\"55\" height=\"55\" style=\"fill:#ca997c;stroke-width:2;stroke:rgb(255,255,255)\"/><rect x=\"165\" y=\"0\" width=\"55\" height=\"55\" style=\"fill:#c27a61;stroke-width:2;stroke:rgb(255,255,255)\"/><rect x=\"220\" y=\"0\" width=\"55\" height=\"55\" style=\"fill:#b65d54;stroke-width:2;stroke:rgb(255,255,255)\"/><rect x=\"275\" y=\"0\" width=\"55\" height=\"55\" style=\"fill:#a54350;stroke-width:2;stroke:rgb(255,255,255)\"/><rect x=\"330\" y=\"0\" width=\"55\" height=\"55\" style=\"fill:#8d2b50;stroke-width:2;stroke:rgb(255,255,255)\"/><rect x=\"385\" y=\"0\" width=\"55\" height=\"55\" style=\"fill:#701c4e;stroke-width:2;stroke:rgb(255,255,255)\"/><rect x=\"440\" y=\"0\" width=\"55\" height=\"55\" style=\"fill:#501444;stroke-width:2;stroke:rgb(255,255,255)\"/><rect x=\"495\" y=\"0\" width=\"55\" height=\"55\" style=\"fill:#371139;stroke-width:2;stroke:rgb(255,255,255)\"/><rect x=\"550\" y=\"0\" width=\"55\" height=\"55\" style=\"fill:#361142;stroke-width:2;stroke:rgb(255,255,255)\"/><rect x=\"605\" y=\"0\" width=\"55\" height=\"55\" style=\"fill:#491564;stroke-width:2;stroke:rgb(255,255,255)\"/><rect x=\"660\" y=\"0\" width=\"55\" height=\"55\" style=\"fill:#58278b;stroke-width:2;stroke:rgb(255,255,255)\"/><rect x=\"715\" y=\"0\" width=\"55\" height=\"55\" style=\"fill:#5e45a6;stroke-width:2;stroke:rgb(255,255,255)\"/><rect x=\"770\" y=\"0\" width=\"55\" height=\"55\" style=\"fill:#5f61b4;stroke-width:2;stroke:rgb(255,255,255)\"/><rect x=\"825\" y=\"0\" width=\"55\" height=\"55\" style=\"fill:#647cbc;stroke-width:2;stroke:rgb(255,255,255)\"/><rect x=\"880\" y=\"0\" width=\"55\" height=\"55\" style=\"fill:#7195c0;stroke-width:2;stroke:rgb(255,255,255)\"/><rect x=\"935\" y=\"0\" width=\"55\" height=\"55\" style=\"fill:#89adc5;stroke-width:2;stroke:rgb(255,255,255)\"/><rect x=\"990\" y=\"0\" width=\"55\" height=\"55\" style=\"fill:#aac2cc;stroke-width:2;stroke:rgb(255,255,255)\"/><rect x=\"1045\" y=\"0\" width=\"55\" height=\"55\" style=\"fill:#cdd3d8;stroke-width:2;stroke:rgb(255,255,255)\"/></svg>"
      ],
      "text/plain": [
       "[(0.8610711702756552, 0.8047851790981223, 0.7903952966373629),\n",
       " (0.8198723065045529, 0.7095047497878748, 0.6330385704006711),\n",
       " (0.7904577684772788, 0.5982813427706246, 0.48622257801969754),\n",
       " (0.7595711110534006, 0.4775687122205708, 0.380360657784311),\n",
       " (0.7129346683977347, 0.36517570519856757, 0.3288027427038317),\n",
       " (0.6456734938264543, 0.2615520316161528, 0.31248673753935263),\n",
       " (0.5523952157271191, 0.16950338809328983, 0.3143729155461537),\n",
       " (0.4385637818793154, 0.11077667828375456, 0.30712600062348083),\n",
       " (0.3153587000920581, 0.07942099731524319, 0.2681190407694196),\n",
       " (0.21625279838647882, 0.06761633027051639, 0.22324568672294431),\n",
       " (0.21237411048541005, 0.06608502466175845, 0.2576516509356954),\n",
       " (0.28669151388283165, 0.08242987384848069, 0.39331182532243375),\n",
       " (0.3463150717579309, 0.15312802296627787, 0.5457599924248665),\n",
       " (0.36717513650699446, 0.26883085667326956, 0.6495927229789225),\n",
       " (0.37324816143326384, 0.38140848555753937, 0.7059820097480604),\n",
       " (0.390920175719949, 0.4870552025122304, 0.7369797713388125),\n",
       " (0.441912717666964, 0.5846144110017557, 0.7545183888441067),\n",
       " (0.5383401557517628, 0.677970811290954, 0.7711273443905772),\n",
       " (0.6672147980375281, 0.7595112803730375, 0.7986367465453776),\n",
       " (0.8046916442981458, 0.8270983878056066, 0.8484244929697402)]"
      ]
     },
     "metadata": {},
     "output_type": "display_data"
    },
    {
     "name": "stdout",
     "output_type": "stream",
     "text": [
      "twilight_shifted\n"
     ]
    },
    {
     "data": {
      "text/html": [
       "<svg  width=\"1100\" height=\"55\"><rect x=\"0\" y=\"0\" width=\"55\" height=\"55\" style=\"fill:#3f1251;stroke-width:2;stroke:rgb(255,255,255)\"/><rect x=\"55\" y=\"0\" width=\"55\" height=\"55\" style=\"fill:#521c79;stroke-width:2;stroke:rgb(255,255,255)\"/><rect x=\"110\" y=\"0\" width=\"55\" height=\"55\" style=\"fill:#5c359a;stroke-width:2;stroke:rgb(255,255,255)\"/><rect x=\"165\" y=\"0\" width=\"55\" height=\"55\" style=\"fill:#5e53ae;stroke-width:2;stroke:rgb(255,255,255)\"/><rect x=\"220\" y=\"0\" width=\"55\" height=\"55\" style=\"fill:#616fb9;stroke-width:2;stroke:rgb(255,255,255)\"/><rect x=\"275\" y=\"0\" width=\"55\" height=\"55\" style=\"fill:#6989be;stroke-width:2;stroke:rgb(255,255,255)\"/><rect x=\"330\" y=\"0\" width=\"55\" height=\"55\" style=\"fill:#7ca2c2;stroke-width:2;stroke:rgb(255,255,255)\"/><rect x=\"385\" y=\"0\" width=\"55\" height=\"55\" style=\"fill:#99b8c8;stroke-width:2;stroke:rgb(255,255,255)\"/><rect x=\"440\" y=\"0\" width=\"55\" height=\"55\" style=\"fill:#bccbd1;stroke-width:2;stroke:rgb(255,255,255)\"/><rect x=\"495\" y=\"0\" width=\"55\" height=\"55\" style=\"fill:#dad8df;stroke-width:2;stroke:rgb(255,255,255)\"/><rect x=\"550\" y=\"0\" width=\"55\" height=\"55\" style=\"fill:#e0d6d9;stroke-width:2;stroke:rgb(255,255,255)\"/><rect x=\"605\" y=\"0\" width=\"55\" height=\"55\" style=\"fill:#d6c2b6;stroke-width:2;stroke:rgb(255,255,255)\"/><rect x=\"660\" y=\"0\" width=\"55\" height=\"55\" style=\"fill:#cda78e;stroke-width:2;stroke:rgb(255,255,255)\"/><rect x=\"715\" y=\"0\" width=\"55\" height=\"55\" style=\"fill:#c6896c;stroke-width:2;stroke:rgb(255,255,255)\"/><rect x=\"770\" y=\"0\" width=\"55\" height=\"55\" style=\"fill:#bc6b59;stroke-width:2;stroke:rgb(255,255,255)\"/><rect x=\"825\" y=\"0\" width=\"55\" height=\"55\" style=\"fill:#ae5051;stroke-width:2;stroke:rgb(255,255,255)\"/><rect x=\"880\" y=\"0\" width=\"55\" height=\"55\" style=\"fill:#9a3750;stroke-width:2;stroke:rgb(255,255,255)\"/><rect x=\"935\" y=\"0\" width=\"55\" height=\"55\" style=\"fill:#7f2350;stroke-width:2;stroke:rgb(255,255,255)\"/><rect x=\"990\" y=\"0\" width=\"55\" height=\"55\" style=\"fill:#60184a;stroke-width:2;stroke:rgb(255,255,255)\"/><rect x=\"1045\" y=\"0\" width=\"55\" height=\"55\" style=\"fill:#42123e;stroke-width:2;stroke:rgb(255,255,255)\"/></svg>"
      ],
      "text/plain": [
       "[(0.24688226237959, 0.06905363944920445, 0.31786993834254956),\n",
       " (0.3220288227606932, 0.10960114111258401, 0.4736849472572688),\n",
       " (0.36002681809096376, 0.20694122817889948, 0.6029284543191687),\n",
       " (0.37030682071842685, 0.32580269697872455, 0.6817941168448668),\n",
       " (0.3790878928311076, 0.43521897612544935, 0.7238879869132313),\n",
       " (0.4113541469730457, 0.5368485776500593, 0.7466971285506578),\n",
       " (0.4867359599430568, 0.6341664625110051, 0.7625578008592404),\n",
       " (0.5989665814482068, 0.7198739489224673, 0.7824525989934664),\n",
       " (0.7387377170049494, 0.7959766573503101, 0.8214292278043301),\n",
       " (0.8547259318925698, 0.8478748812467282, 0.8726282980930582),\n",
       " (0.8768784845161469, 0.8375923807118654, 0.8496137354915025),\n",
       " (0.8398783988412087, 0.7603990719977968, 0.7136714781112923),\n",
       " (0.8037879253107763, 0.6549942654947263, 0.5555635086708381),\n",
       " (0.775907907306857, 0.5355421788246119, 0.42413367909988375),\n",
       " (0.7387914002459927, 0.4205367299231533, 0.34913260148542435),\n",
       " (0.6818945715094452, 0.31201133280550686, 0.3172838048924495),\n",
       " (0.6040840169673274, 0.21460331490206347, 0.31232652641170694),\n",
       " (0.4981443546207415, 0.13569380302451714, 0.314135190862664),\n",
       " (0.3764103053221462, 0.09294519809377791, 0.2911602415731392),\n",
       " (0.25999463887892144, 0.07005385560386188, 0.24308218808684579)]"
      ]
     },
     "metadata": {},
     "output_type": "display_data"
    },
    {
     "name": "stdout",
     "output_type": "stream",
     "text": [
      "twilight_shifted_r\n"
     ]
    },
    {
     "data": {
      "text/html": [
       "<svg  width=\"1100\" height=\"55\"><rect x=\"0\" y=\"0\" width=\"55\" height=\"55\" style=\"fill:#42123e;stroke-width:2;stroke:rgb(255,255,255)\"/><rect x=\"55\" y=\"0\" width=\"55\" height=\"55\" style=\"fill:#60184a;stroke-width:2;stroke:rgb(255,255,255)\"/><rect x=\"110\" y=\"0\" width=\"55\" height=\"55\" style=\"fill:#7f2350;stroke-width:2;stroke:rgb(255,255,255)\"/><rect x=\"165\" y=\"0\" width=\"55\" height=\"55\" style=\"fill:#9a3750;stroke-width:2;stroke:rgb(255,255,255)\"/><rect x=\"220\" y=\"0\" width=\"55\" height=\"55\" style=\"fill:#ae5051;stroke-width:2;stroke:rgb(255,255,255)\"/><rect x=\"275\" y=\"0\" width=\"55\" height=\"55\" style=\"fill:#bc6b59;stroke-width:2;stroke:rgb(255,255,255)\"/><rect x=\"330\" y=\"0\" width=\"55\" height=\"55\" style=\"fill:#c68a6d;stroke-width:2;stroke:rgb(255,255,255)\"/><rect x=\"385\" y=\"0\" width=\"55\" height=\"55\" style=\"fill:#cda78e;stroke-width:2;stroke:rgb(255,255,255)\"/><rect x=\"440\" y=\"0\" width=\"55\" height=\"55\" style=\"fill:#d6c2b6;stroke-width:2;stroke:rgb(255,255,255)\"/><rect x=\"495\" y=\"0\" width=\"55\" height=\"55\" style=\"fill:#e0d6d9;stroke-width:2;stroke:rgb(255,255,255)\"/><rect x=\"550\" y=\"0\" width=\"55\" height=\"55\" style=\"fill:#dad8df;stroke-width:2;stroke:rgb(255,255,255)\"/><rect x=\"605\" y=\"0\" width=\"55\" height=\"55\" style=\"fill:#bccbd1;stroke-width:2;stroke:rgb(255,255,255)\"/><rect x=\"660\" y=\"0\" width=\"55\" height=\"55\" style=\"fill:#99b8c8;stroke-width:2;stroke:rgb(255,255,255)\"/><rect x=\"715\" y=\"0\" width=\"55\" height=\"55\" style=\"fill:#7ba1c2;stroke-width:2;stroke:rgb(255,255,255)\"/><rect x=\"770\" y=\"0\" width=\"55\" height=\"55\" style=\"fill:#6989be;stroke-width:2;stroke:rgb(255,255,255)\"/><rect x=\"825\" y=\"0\" width=\"55\" height=\"55\" style=\"fill:#616fb9;stroke-width:2;stroke:rgb(255,255,255)\"/><rect x=\"880\" y=\"0\" width=\"55\" height=\"55\" style=\"fill:#5e53ae;stroke-width:2;stroke:rgb(255,255,255)\"/><rect x=\"935\" y=\"0\" width=\"55\" height=\"55\" style=\"fill:#5c359a;stroke-width:2;stroke:rgb(255,255,255)\"/><rect x=\"990\" y=\"0\" width=\"55\" height=\"55\" style=\"fill:#521c79;stroke-width:2;stroke:rgb(255,255,255)\"/><rect x=\"1045\" y=\"0\" width=\"55\" height=\"55\" style=\"fill:#3f1251;stroke-width:2;stroke:rgb(255,255,255)\"/></svg>"
      ],
      "text/plain": [
       "[(0.25999463887892144, 0.07005385560386188, 0.24308218808684579),\n",
       " (0.3764103053221462, 0.09294519809377791, 0.2911602415731392),\n",
       " (0.4981443546207415, 0.13569380302451714, 0.314135190862664),\n",
       " (0.6040840169673274, 0.21460331490206347, 0.31232652641170694),\n",
       " (0.6818945715094452, 0.31201133280550686, 0.3172838048924495),\n",
       " (0.7387914002459927, 0.4205367299231533, 0.34913260148542435),\n",
       " (0.7771103295521099, 0.5403867491056124, 0.4283745037125848),\n",
       " (0.8037879253107763, 0.6549942654947263, 0.5555635086708381),\n",
       " (0.8398783988412087, 0.7603990719977968, 0.7136714781112923),\n",
       " (0.8768784845161469, 0.8375923807118654, 0.8496137354915025),\n",
       " (0.8547259318925698, 0.8478748812467282, 0.8726282980930582),\n",
       " (0.7387377170049494, 0.7959766573503101, 0.8214292278043301),\n",
       " (0.5989665814482068, 0.7198739489224673, 0.7824525989934664),\n",
       " (0.4828677867260272, 0.6304330455306234, 0.761915371498953),\n",
       " (0.4113541469730457, 0.5368485776500593, 0.7466971285506578),\n",
       " (0.3790878928311076, 0.43521897612544935, 0.7238879869132313),\n",
       " (0.37030682071842685, 0.32580269697872455, 0.6817941168448668),\n",
       " (0.36002681809096376, 0.20694122817889948, 0.6029284543191687),\n",
       " (0.3220288227606932, 0.10960114111258401, 0.4736849472572688),\n",
       " (0.24688226237959, 0.06905363944920445, 0.31786993834254956)]"
      ]
     },
     "metadata": {},
     "output_type": "display_data"
    },
    {
     "name": "stdout",
     "output_type": "stream",
     "text": [
      "viridis\n"
     ]
    },
    {
     "data": {
      "text/html": [
       "<svg  width=\"1100\" height=\"55\"><rect x=\"0\" y=\"0\" width=\"55\" height=\"55\" style=\"fill:#471365;stroke-width:2;stroke:rgb(255,255,255)\"/><rect x=\"55\" y=\"0\" width=\"55\" height=\"55\" style=\"fill:#482374;stroke-width:2;stroke:rgb(255,255,255)\"/><rect x=\"110\" y=\"0\" width=\"55\" height=\"55\" style=\"fill:#46327e;stroke-width:2;stroke:rgb(255,255,255)\"/><rect x=\"165\" y=\"0\" width=\"55\" height=\"55\" style=\"fill:#424086;stroke-width:2;stroke:rgb(255,255,255)\"/><rect x=\"220\" y=\"0\" width=\"55\" height=\"55\" style=\"fill:#3d4e8a;stroke-width:2;stroke:rgb(255,255,255)\"/><rect x=\"275\" y=\"0\" width=\"55\" height=\"55\" style=\"fill:#365c8d;stroke-width:2;stroke:rgb(255,255,255)\"/><rect x=\"330\" y=\"0\" width=\"55\" height=\"55\" style=\"fill:#31688e;stroke-width:2;stroke:rgb(255,255,255)\"/><rect x=\"385\" y=\"0\" width=\"55\" height=\"55\" style=\"fill:#2c738e;stroke-width:2;stroke:rgb(255,255,255)\"/><rect x=\"440\" y=\"0\" width=\"55\" height=\"55\" style=\"fill:#277f8e;stroke-width:2;stroke:rgb(255,255,255)\"/><rect x=\"495\" y=\"0\" width=\"55\" height=\"55\" style=\"fill:#238a8d;stroke-width:2;stroke:rgb(255,255,255)\"/><rect x=\"550\" y=\"0\" width=\"55\" height=\"55\" style=\"fill:#1f968b;stroke-width:2;stroke:rgb(255,255,255)\"/><rect x=\"605\" y=\"0\" width=\"55\" height=\"55\" style=\"fill:#1fa187;stroke-width:2;stroke:rgb(255,255,255)\"/><rect x=\"660\" y=\"0\" width=\"55\" height=\"55\" style=\"fill:#26ad81;stroke-width:2;stroke:rgb(255,255,255)\"/><rect x=\"715\" y=\"0\" width=\"55\" height=\"55\" style=\"fill:#35b779;stroke-width:2;stroke:rgb(255,255,255)\"/><rect x=\"770\" y=\"0\" width=\"55\" height=\"55\" style=\"fill:#4ac16d;stroke-width:2;stroke:rgb(255,255,255)\"/><rect x=\"825\" y=\"0\" width=\"55\" height=\"55\" style=\"fill:#65cb5e;stroke-width:2;stroke:rgb(255,255,255)\"/><rect x=\"880\" y=\"0\" width=\"55\" height=\"55\" style=\"fill:#81d34d;stroke-width:2;stroke:rgb(255,255,255)\"/><rect x=\"935\" y=\"0\" width=\"55\" height=\"55\" style=\"fill:#a0da39;stroke-width:2;stroke:rgb(255,255,255)\"/><rect x=\"990\" y=\"0\" width=\"55\" height=\"55\" style=\"fill:#c0df25;stroke-width:2;stroke:rgb(255,255,255)\"/><rect x=\"1045\" y=\"0\" width=\"55\" height=\"55\" style=\"fill:#dfe318;stroke-width:2;stroke:rgb(255,255,255)\"/></svg>"
      ],
      "text/plain": [
       "[(0.280267, 0.073417, 0.397163),\n",
       " (0.282884, 0.13592, 0.453427),\n",
       " (0.275191, 0.194905, 0.496005),\n",
       " (0.258965, 0.251537, 0.524736),\n",
       " (0.237441, 0.305202, 0.541921),\n",
       " (0.212395, 0.359683, 0.55171),\n",
       " (0.190631, 0.407061, 0.556089),\n",
       " (0.171176, 0.45253, 0.557965),\n",
       " (0.153364, 0.497, 0.557724),\n",
       " (0.136408, 0.541173, 0.554483),\n",
       " (0.121831, 0.589055, 0.545623),\n",
       " (0.122312, 0.633153, 0.530398),\n",
       " (0.150148, 0.676631, 0.506589),\n",
       " (0.20803, 0.718701, 0.472873),\n",
       " (0.288921, 0.758394, 0.428426),\n",
       " (0.395174, 0.797475, 0.367757),\n",
       " (0.506271, 0.828786, 0.300362),\n",
       " (0.626579, 0.854645, 0.223353),\n",
       " (0.751884, 0.874951, 0.143228),\n",
       " (0.876168, 0.891125, 0.09525)]"
      ]
     },
     "metadata": {},
     "output_type": "display_data"
    },
    {
     "name": "stdout",
     "output_type": "stream",
     "text": [
      "viridis_r\n"
     ]
    },
    {
     "data": {
      "text/html": [
       "<svg  width=\"1100\" height=\"55\"><rect x=\"0\" y=\"0\" width=\"55\" height=\"55\" style=\"fill:#dfe318;stroke-width:2;stroke:rgb(255,255,255)\"/><rect x=\"55\" y=\"0\" width=\"55\" height=\"55\" style=\"fill:#c0df25;stroke-width:2;stroke:rgb(255,255,255)\"/><rect x=\"110\" y=\"0\" width=\"55\" height=\"55\" style=\"fill:#a0da39;stroke-width:2;stroke:rgb(255,255,255)\"/><rect x=\"165\" y=\"0\" width=\"55\" height=\"55\" style=\"fill:#81d34d;stroke-width:2;stroke:rgb(255,255,255)\"/><rect x=\"220\" y=\"0\" width=\"55\" height=\"55\" style=\"fill:#65cb5e;stroke-width:2;stroke:rgb(255,255,255)\"/><rect x=\"275\" y=\"0\" width=\"55\" height=\"55\" style=\"fill:#4ac16d;stroke-width:2;stroke:rgb(255,255,255)\"/><rect x=\"330\" y=\"0\" width=\"55\" height=\"55\" style=\"fill:#35b779;stroke-width:2;stroke:rgb(255,255,255)\"/><rect x=\"385\" y=\"0\" width=\"55\" height=\"55\" style=\"fill:#26ad81;stroke-width:2;stroke:rgb(255,255,255)\"/><rect x=\"440\" y=\"0\" width=\"55\" height=\"55\" style=\"fill:#1fa187;stroke-width:2;stroke:rgb(255,255,255)\"/><rect x=\"495\" y=\"0\" width=\"55\" height=\"55\" style=\"fill:#1f968b;stroke-width:2;stroke:rgb(255,255,255)\"/><rect x=\"550\" y=\"0\" width=\"55\" height=\"55\" style=\"fill:#238a8d;stroke-width:2;stroke:rgb(255,255,255)\"/><rect x=\"605\" y=\"0\" width=\"55\" height=\"55\" style=\"fill:#277f8e;stroke-width:2;stroke:rgb(255,255,255)\"/><rect x=\"660\" y=\"0\" width=\"55\" height=\"55\" style=\"fill:#2c738e;stroke-width:2;stroke:rgb(255,255,255)\"/><rect x=\"715\" y=\"0\" width=\"55\" height=\"55\" style=\"fill:#31688e;stroke-width:2;stroke:rgb(255,255,255)\"/><rect x=\"770\" y=\"0\" width=\"55\" height=\"55\" style=\"fill:#365c8d;stroke-width:2;stroke:rgb(255,255,255)\"/><rect x=\"825\" y=\"0\" width=\"55\" height=\"55\" style=\"fill:#3d4e8a;stroke-width:2;stroke:rgb(255,255,255)\"/><rect x=\"880\" y=\"0\" width=\"55\" height=\"55\" style=\"fill:#424086;stroke-width:2;stroke:rgb(255,255,255)\"/><rect x=\"935\" y=\"0\" width=\"55\" height=\"55\" style=\"fill:#46327e;stroke-width:2;stroke:rgb(255,255,255)\"/><rect x=\"990\" y=\"0\" width=\"55\" height=\"55\" style=\"fill:#482374;stroke-width:2;stroke:rgb(255,255,255)\"/><rect x=\"1045\" y=\"0\" width=\"55\" height=\"55\" style=\"fill:#471365;stroke-width:2;stroke:rgb(255,255,255)\"/></svg>"
      ],
      "text/plain": [
       "[(0.876168, 0.891125, 0.09525),\n",
       " (0.751884, 0.874951, 0.143228),\n",
       " (0.626579, 0.854645, 0.223353),\n",
       " (0.506271, 0.828786, 0.300362),\n",
       " (0.395174, 0.797475, 0.367757),\n",
       " (0.288921, 0.758394, 0.428426),\n",
       " (0.20803, 0.718701, 0.472873),\n",
       " (0.150148, 0.676631, 0.506589),\n",
       " (0.122312, 0.633153, 0.530398),\n",
       " (0.121831, 0.589055, 0.545623),\n",
       " (0.136408, 0.541173, 0.554483),\n",
       " (0.153364, 0.497, 0.557724),\n",
       " (0.171176, 0.45253, 0.557965),\n",
       " (0.190631, 0.407061, 0.556089),\n",
       " (0.212395, 0.359683, 0.55171),\n",
       " (0.237441, 0.305202, 0.541921),\n",
       " (0.258965, 0.251537, 0.524736),\n",
       " (0.275191, 0.194905, 0.496005),\n",
       " (0.282884, 0.13592, 0.453427),\n",
       " (0.280267, 0.073417, 0.397163)]"
      ]
     },
     "metadata": {},
     "output_type": "display_data"
    },
    {
     "name": "stdout",
     "output_type": "stream",
     "text": [
      "vlag\n"
     ]
    },
    {
     "data": {
      "text/html": [
       "<svg  width=\"1100\" height=\"55\"><rect x=\"0\" y=\"0\" width=\"55\" height=\"55\" style=\"fill:#4276bc;stroke-width:2;stroke:rgb(255,255,255)\"/><rect x=\"55\" y=\"0\" width=\"55\" height=\"55\" style=\"fill:#5983bd;stroke-width:2;stroke:rgb(255,255,255)\"/><rect x=\"110\" y=\"0\" width=\"55\" height=\"55\" style=\"fill:#6e90bf;stroke-width:2;stroke:rgb(255,255,255)\"/><rect x=\"165\" y=\"0\" width=\"55\" height=\"55\" style=\"fill:#829cc3;stroke-width:2;stroke:rgb(255,255,255)\"/><rect x=\"220\" y=\"0\" width=\"55\" height=\"55\" style=\"fill:#95a9c8;stroke-width:2;stroke:rgb(255,255,255)\"/><rect x=\"275\" y=\"0\" width=\"55\" height=\"55\" style=\"fill:#aab8d0;stroke-width:2;stroke:rgb(255,255,255)\"/><rect x=\"330\" y=\"0\" width=\"55\" height=\"55\" style=\"fill:#bdc6d7;stroke-width:2;stroke:rgb(255,255,255)\"/><rect x=\"385\" y=\"0\" width=\"55\" height=\"55\" style=\"fill:#d0d5e0;stroke-width:2;stroke:rgb(255,255,255)\"/><rect x=\"440\" y=\"0\" width=\"55\" height=\"55\" style=\"fill:#e4e5eb;stroke-width:2;stroke:rgb(255,255,255)\"/><rect x=\"495\" y=\"0\" width=\"55\" height=\"55\" style=\"fill:#f6f3f4;stroke-width:2;stroke:rgb(255,255,255)\"/><rect x=\"550\" y=\"0\" width=\"55\" height=\"55\" style=\"fill:#faf0ef;stroke-width:2;stroke:rgb(255,255,255)\"/><rect x=\"605\" y=\"0\" width=\"55\" height=\"55\" style=\"fill:#f2dfdd;stroke-width:2;stroke:rgb(255,255,255)\"/><rect x=\"660\" y=\"0\" width=\"55\" height=\"55\" style=\"fill:#e9cbc9;stroke-width:2;stroke:rgb(255,255,255)\"/><rect x=\"715\" y=\"0\" width=\"55\" height=\"55\" style=\"fill:#e1b9b6;stroke-width:2;stroke:rgb(255,255,255)\"/><rect x=\"770\" y=\"0\" width=\"55\" height=\"55\" style=\"fill:#d9a6a4;stroke-width:2;stroke:rgb(255,255,255)\"/><rect x=\"825\" y=\"0\" width=\"55\" height=\"55\" style=\"fill:#d19290;stroke-width:2;stroke:rgb(255,255,255)\"/><rect x=\"880\" y=\"0\" width=\"55\" height=\"55\" style=\"fill:#ca817e;stroke-width:2;stroke:rgb(255,255,255)\"/><rect x=\"935\" y=\"0\" width=\"55\" height=\"55\" style=\"fill:#c26f6d;stroke-width:2;stroke:rgb(255,255,255)\"/><rect x=\"990\" y=\"0\" width=\"55\" height=\"55\" style=\"fill:#ba5d5c;stroke-width:2;stroke:rgb(255,255,255)\"/><rect x=\"1045\" y=\"0\" width=\"55\" height=\"55\" style=\"fill:#b24a4b;stroke-width:2;stroke:rgb(255,255,255)\"/></svg>"
      ],
      "text/plain": [
       "[(0.25691416, 0.4639437, 0.73566943),\n",
       " (0.34840921, 0.51333892, 0.73933402),\n",
       " (0.4305964, 0.56276546, 0.74956387),\n",
       " (0.50845128, 0.61299312, 0.76538551),\n",
       " (0.58426817, 0.66456073, 0.78623458),\n",
       " (0.66563334, 0.72242871, 0.81414642),\n",
       " (0.74094862, 0.77809393, 0.84474951),\n",
       " (0.81711301, 0.8362844, 0.88008641),\n",
       " (0.89443865, 0.89721298, 0.9202854),\n",
       " (0.96422552, 0.95249273, 0.95723271),\n",
       " (0.97902107, 0.94300131, 0.93878672),\n",
       " (0.94742246, 0.87278899, 0.86691076),\n",
       " (0.9131367, 0.79743115, 0.78994),\n",
       " (0.88153537, 0.72369332, 0.71478461),\n",
       " (0.85164413, 0.65142189, 0.64145983),\n",
       " (0.82016611, 0.57442123, 0.56397539),\n",
       " (0.79112596, 0.50412707, 0.49415289),\n",
       " (0.76133542, 0.43410655, 0.42592523),\n",
       " (0.73011829, 0.36365761, 0.35927038),\n",
       " (0.6967754, 0.29162126, 0.29422741)]"
      ]
     },
     "metadata": {},
     "output_type": "display_data"
    },
    {
     "name": "stdout",
     "output_type": "stream",
     "text": [
      "vlag_r\n"
     ]
    },
    {
     "data": {
      "text/html": [
       "<svg  width=\"1100\" height=\"55\"><rect x=\"0\" y=\"0\" width=\"55\" height=\"55\" style=\"fill:#b24a4b;stroke-width:2;stroke:rgb(255,255,255)\"/><rect x=\"55\" y=\"0\" width=\"55\" height=\"55\" style=\"fill:#ba5d5c;stroke-width:2;stroke:rgb(255,255,255)\"/><rect x=\"110\" y=\"0\" width=\"55\" height=\"55\" style=\"fill:#c26f6d;stroke-width:2;stroke:rgb(255,255,255)\"/><rect x=\"165\" y=\"0\" width=\"55\" height=\"55\" style=\"fill:#ca817e;stroke-width:2;stroke:rgb(255,255,255)\"/><rect x=\"220\" y=\"0\" width=\"55\" height=\"55\" style=\"fill:#d19290;stroke-width:2;stroke:rgb(255,255,255)\"/><rect x=\"275\" y=\"0\" width=\"55\" height=\"55\" style=\"fill:#d9a6a4;stroke-width:2;stroke:rgb(255,255,255)\"/><rect x=\"330\" y=\"0\" width=\"55\" height=\"55\" style=\"fill:#e1b9b6;stroke-width:2;stroke:rgb(255,255,255)\"/><rect x=\"385\" y=\"0\" width=\"55\" height=\"55\" style=\"fill:#e9cbc9;stroke-width:2;stroke:rgb(255,255,255)\"/><rect x=\"440\" y=\"0\" width=\"55\" height=\"55\" style=\"fill:#f2dfdd;stroke-width:2;stroke:rgb(255,255,255)\"/><rect x=\"495\" y=\"0\" width=\"55\" height=\"55\" style=\"fill:#faf0ef;stroke-width:2;stroke:rgb(255,255,255)\"/><rect x=\"550\" y=\"0\" width=\"55\" height=\"55\" style=\"fill:#f6f3f4;stroke-width:2;stroke:rgb(255,255,255)\"/><rect x=\"605\" y=\"0\" width=\"55\" height=\"55\" style=\"fill:#e4e5eb;stroke-width:2;stroke:rgb(255,255,255)\"/><rect x=\"660\" y=\"0\" width=\"55\" height=\"55\" style=\"fill:#d0d5e0;stroke-width:2;stroke:rgb(255,255,255)\"/><rect x=\"715\" y=\"0\" width=\"55\" height=\"55\" style=\"fill:#bdc6d7;stroke-width:2;stroke:rgb(255,255,255)\"/><rect x=\"770\" y=\"0\" width=\"55\" height=\"55\" style=\"fill:#aab8d0;stroke-width:2;stroke:rgb(255,255,255)\"/><rect x=\"825\" y=\"0\" width=\"55\" height=\"55\" style=\"fill:#95a9c8;stroke-width:2;stroke:rgb(255,255,255)\"/><rect x=\"880\" y=\"0\" width=\"55\" height=\"55\" style=\"fill:#829cc3;stroke-width:2;stroke:rgb(255,255,255)\"/><rect x=\"935\" y=\"0\" width=\"55\" height=\"55\" style=\"fill:#6e90bf;stroke-width:2;stroke:rgb(255,255,255)\"/><rect x=\"990\" y=\"0\" width=\"55\" height=\"55\" style=\"fill:#5983bd;stroke-width:2;stroke:rgb(255,255,255)\"/><rect x=\"1045\" y=\"0\" width=\"55\" height=\"55\" style=\"fill:#4276bc;stroke-width:2;stroke:rgb(255,255,255)\"/></svg>"
      ],
      "text/plain": [
       "[(0.6967754, 0.29162126, 0.29422741),\n",
       " (0.73011829, 0.36365761, 0.35927038),\n",
       " (0.76133542, 0.43410655, 0.42592523),\n",
       " (0.79112596, 0.50412707, 0.49415289),\n",
       " (0.82016611, 0.57442123, 0.56397539),\n",
       " (0.85164413, 0.65142189, 0.64145983),\n",
       " (0.88153537, 0.72369332, 0.71478461),\n",
       " (0.9131367, 0.79743115, 0.78994),\n",
       " (0.94742246, 0.87278899, 0.86691076),\n",
       " (0.97902107, 0.94300131, 0.93878672),\n",
       " (0.96422552, 0.95249273, 0.95723271),\n",
       " (0.89443865, 0.89721298, 0.9202854),\n",
       " (0.81711301, 0.8362844, 0.88008641),\n",
       " (0.74094862, 0.77809393, 0.84474951),\n",
       " (0.66563334, 0.72242871, 0.81414642),\n",
       " (0.58426817, 0.66456073, 0.78623458),\n",
       " (0.50845128, 0.61299312, 0.76538551),\n",
       " (0.4305964, 0.56276546, 0.74956387),\n",
       " (0.34840921, 0.51333892, 0.73933402),\n",
       " (0.25691416, 0.4639437, 0.73566943)]"
      ]
     },
     "metadata": {},
     "output_type": "display_data"
    },
    {
     "name": "stdout",
     "output_type": "stream",
     "text": [
      "winter\n"
     ]
    },
    {
     "data": {
      "text/html": [
       "<svg  width=\"1100\" height=\"55\"><rect x=\"0\" y=\"0\" width=\"55\" height=\"55\" style=\"fill:#000cf9;stroke-width:2;stroke:rgb(255,255,255)\"/><rect x=\"55\" y=\"0\" width=\"55\" height=\"55\" style=\"fill:#0018f3;stroke-width:2;stroke:rgb(255,255,255)\"/><rect x=\"110\" y=\"0\" width=\"55\" height=\"55\" style=\"fill:#0024ed;stroke-width:2;stroke:rgb(255,255,255)\"/><rect x=\"165\" y=\"0\" width=\"55\" height=\"55\" style=\"fill:#0030e7;stroke-width:2;stroke:rgb(255,255,255)\"/><rect x=\"220\" y=\"0\" width=\"55\" height=\"55\" style=\"fill:#003ce1;stroke-width:2;stroke:rgb(255,255,255)\"/><rect x=\"275\" y=\"0\" width=\"55\" height=\"55\" style=\"fill:#0049db;stroke-width:2;stroke:rgb(255,255,255)\"/><rect x=\"330\" y=\"0\" width=\"55\" height=\"55\" style=\"fill:#0055d4;stroke-width:2;stroke:rgb(255,255,255)\"/><rect x=\"385\" y=\"0\" width=\"55\" height=\"55\" style=\"fill:#0061ce;stroke-width:2;stroke:rgb(255,255,255)\"/><rect x=\"440\" y=\"0\" width=\"55\" height=\"55\" style=\"fill:#006dc8;stroke-width:2;stroke:rgb(255,255,255)\"/><rect x=\"495\" y=\"0\" width=\"55\" height=\"55\" style=\"fill:#0079c2;stroke-width:2;stroke:rgb(255,255,255)\"/><rect x=\"550\" y=\"0\" width=\"55\" height=\"55\" style=\"fill:#0086bc;stroke-width:2;stroke:rgb(255,255,255)\"/><rect x=\"605\" y=\"0\" width=\"55\" height=\"55\" style=\"fill:#0092b6;stroke-width:2;stroke:rgb(255,255,255)\"/><rect x=\"660\" y=\"0\" width=\"55\" height=\"55\" style=\"fill:#009eb0;stroke-width:2;stroke:rgb(255,255,255)\"/><rect x=\"715\" y=\"0\" width=\"55\" height=\"55\" style=\"fill:#00aaaa;stroke-width:2;stroke:rgb(255,255,255)\"/><rect x=\"770\" y=\"0\" width=\"55\" height=\"55\" style=\"fill:#00b6a4;stroke-width:2;stroke:rgb(255,255,255)\"/><rect x=\"825\" y=\"0\" width=\"55\" height=\"55\" style=\"fill:#00c39e;stroke-width:2;stroke:rgb(255,255,255)\"/><rect x=\"880\" y=\"0\" width=\"55\" height=\"55\" style=\"fill:#00cf98;stroke-width:2;stroke:rgb(255,255,255)\"/><rect x=\"935\" y=\"0\" width=\"55\" height=\"55\" style=\"fill:#00db92;stroke-width:2;stroke:rgb(255,255,255)\"/><rect x=\"990\" y=\"0\" width=\"55\" height=\"55\" style=\"fill:#00e78c;stroke-width:2;stroke:rgb(255,255,255)\"/><rect x=\"1045\" y=\"0\" width=\"55\" height=\"55\" style=\"fill:#00f386;stroke-width:2;stroke:rgb(255,255,255)\"/></svg>"
      ],
      "text/plain": [
       "[(0.0, 0.047058823529411764, 0.9764705882352941),\n",
       " (0.0, 0.09411764705882353, 0.9529411764705882),\n",
       " (0.0, 0.1411764705882353, 0.9294117647058824),\n",
       " (0.0, 0.18823529411764706, 0.9058823529411765),\n",
       " (0.0, 0.23529411764705882, 0.8823529411764706),\n",
       " (0.0, 0.28627450980392155, 0.8568627450980393),\n",
       " (0.0, 0.3333333333333333, 0.8333333333333334),\n",
       " (0.0, 0.3803921568627451, 0.8098039215686275),\n",
       " (0.0, 0.42745098039215684, 0.7862745098039216),\n",
       " (0.0, 0.4745098039215686, 0.7627450980392156),\n",
       " (0.0, 0.5254901960784314, 0.7372549019607844),\n",
       " (0.0, 0.5725490196078431, 0.7137254901960784),\n",
       " (0.0, 0.6196078431372549, 0.6901960784313725),\n",
       " (0.0, 0.6666666666666666, 0.6666666666666667),\n",
       " (0.0, 0.7137254901960784, 0.6431372549019607),\n",
       " (0.0, 0.7647058823529411, 0.6176470588235294),\n",
       " (0.0, 0.8117647058823529, 0.5941176470588235),\n",
       " (0.0, 0.8588235294117647, 0.5705882352941176),\n",
       " (0.0, 0.9058823529411765, 0.5470588235294118),\n",
       " (0.0, 0.9529411764705882, 0.5235294117647059)]"
      ]
     },
     "metadata": {},
     "output_type": "display_data"
    },
    {
     "name": "stdout",
     "output_type": "stream",
     "text": [
      "winter_r\n"
     ]
    },
    {
     "data": {
      "text/html": [
       "<svg  width=\"1100\" height=\"55\"><rect x=\"0\" y=\"0\" width=\"55\" height=\"55\" style=\"fill:#00f386;stroke-width:2;stroke:rgb(255,255,255)\"/><rect x=\"55\" y=\"0\" width=\"55\" height=\"55\" style=\"fill:#00e78c;stroke-width:2;stroke:rgb(255,255,255)\"/><rect x=\"110\" y=\"0\" width=\"55\" height=\"55\" style=\"fill:#00db92;stroke-width:2;stroke:rgb(255,255,255)\"/><rect x=\"165\" y=\"0\" width=\"55\" height=\"55\" style=\"fill:#00cf98;stroke-width:2;stroke:rgb(255,255,255)\"/><rect x=\"220\" y=\"0\" width=\"55\" height=\"55\" style=\"fill:#00c39e;stroke-width:2;stroke:rgb(255,255,255)\"/><rect x=\"275\" y=\"0\" width=\"55\" height=\"55\" style=\"fill:#00b6a4;stroke-width:2;stroke:rgb(255,255,255)\"/><rect x=\"330\" y=\"0\" width=\"55\" height=\"55\" style=\"fill:#00aaaa;stroke-width:2;stroke:rgb(255,255,255)\"/><rect x=\"385\" y=\"0\" width=\"55\" height=\"55\" style=\"fill:#009eb0;stroke-width:2;stroke:rgb(255,255,255)\"/><rect x=\"440\" y=\"0\" width=\"55\" height=\"55\" style=\"fill:#0092b6;stroke-width:2;stroke:rgb(255,255,255)\"/><rect x=\"495\" y=\"0\" width=\"55\" height=\"55\" style=\"fill:#0086bc;stroke-width:2;stroke:rgb(255,255,255)\"/><rect x=\"550\" y=\"0\" width=\"55\" height=\"55\" style=\"fill:#0079c2;stroke-width:2;stroke:rgb(255,255,255)\"/><rect x=\"605\" y=\"0\" width=\"55\" height=\"55\" style=\"fill:#006dc8;stroke-width:2;stroke:rgb(255,255,255)\"/><rect x=\"660\" y=\"0\" width=\"55\" height=\"55\" style=\"fill:#0061ce;stroke-width:2;stroke:rgb(255,255,255)\"/><rect x=\"715\" y=\"0\" width=\"55\" height=\"55\" style=\"fill:#0055d4;stroke-width:2;stroke:rgb(255,255,255)\"/><rect x=\"770\" y=\"0\" width=\"55\" height=\"55\" style=\"fill:#0049db;stroke-width:2;stroke:rgb(255,255,255)\"/><rect x=\"825\" y=\"0\" width=\"55\" height=\"55\" style=\"fill:#003ce1;stroke-width:2;stroke:rgb(255,255,255)\"/><rect x=\"880\" y=\"0\" width=\"55\" height=\"55\" style=\"fill:#0030e7;stroke-width:2;stroke:rgb(255,255,255)\"/><rect x=\"935\" y=\"0\" width=\"55\" height=\"55\" style=\"fill:#0024ed;stroke-width:2;stroke:rgb(255,255,255)\"/><rect x=\"990\" y=\"0\" width=\"55\" height=\"55\" style=\"fill:#0018f3;stroke-width:2;stroke:rgb(255,255,255)\"/><rect x=\"1045\" y=\"0\" width=\"55\" height=\"55\" style=\"fill:#000cf9;stroke-width:2;stroke:rgb(255,255,255)\"/></svg>"
      ],
      "text/plain": [
       "[(0.0, 0.9529411764705882, 0.5235294117647059),\n",
       " (0.0, 0.9058823529411765, 0.5470588235294118),\n",
       " (0.0, 0.8588235294117648, 0.5705882352941176),\n",
       " (0.0, 0.8117647058823529, 0.5941176470588235),\n",
       " (0.0, 0.7647058823529411, 0.6176470588235294),\n",
       " (0.0, 0.7137254901960784, 0.6431372549019607),\n",
       " (0.0, 0.6666666666666667, 0.6666666666666666),\n",
       " (0.0, 0.6196078431372549, 0.6901960784313725),\n",
       " (0.0, 0.5725490196078431, 0.7137254901960784),\n",
       " (0.0, 0.5254901960784314, 0.7372549019607844),\n",
       " (0.0, 0.4745098039215686, 0.7627450980392156),\n",
       " (0.0, 0.4274509803921569, 0.7862745098039216),\n",
       " (0.0, 0.3803921568627451, 0.8098039215686275),\n",
       " (0.0, 0.33333333333333337, 0.8333333333333333),\n",
       " (0.0, 0.28627450980392155, 0.8568627450980393),\n",
       " (0.0, 0.23529411764705888, 0.8823529411764706),\n",
       " (0.0, 0.18823529411764706, 0.9058823529411765),\n",
       " (0.0, 0.14117647058823535, 0.9294117647058824),\n",
       " (0.0, 0.09411764705882353, 0.9529411764705882),\n",
       " (0.0, 0.04705882352941182, 0.9764705882352941)]"
      ]
     },
     "metadata": {},
     "output_type": "display_data"
    }
   ],
   "source": [
    "pals = ['Accent', 'Accent_r', 'Blues', 'Blues_r', 'BrBG', 'BrBG_r', 'BuGn', 'BuGn_r', 'BuPu', \n",
    "        'BuPu_r', 'CMRmap', 'CMRmap_r', 'Dark2', 'Dark2_r', 'GnBu', 'GnBu_r', 'Greens', 'Greens_r', \n",
    "        'Greys', 'Greys_r', 'OrRd', 'OrRd_r', 'Oranges', 'Oranges_r', 'PRGn', 'PRGn_r', 'Paired', \n",
    "        'Paired_r', 'Pastel1', 'Pastel1_r', 'Pastel2', 'Pastel2_r', 'PiYG', 'PiYG_r', 'PuBu', \n",
    "        'PuBuGn', 'PuBuGn_r', 'PuBu_r', 'PuOr', 'PuOr_r', 'PuRd', 'PuRd_r', 'Purples', 'Purples_r', \n",
    "        'RdBu', 'RdBu_r', 'RdGy', 'RdGy_r', 'RdPu', 'RdPu_r', 'RdYlBu', 'RdYlBu_r', 'RdYlGn', 'RdYlGn_r', \n",
    "        'Reds', 'Reds_r', 'Set1', 'Set1_r', 'Set2', 'Set2_r', 'Set3', 'Set3_r', 'Spectral', 'Spectral_r',\n",
    "        'Wistia', 'Wistia_r', 'YlGn', 'YlGnBu', 'YlGnBu_r', 'YlGn_r', 'YlOrBr', 'YlOrBr_r', 'YlOrRd', \n",
    "        'YlOrRd_r', 'afmhot', 'afmhot_r', 'autumn', 'autumn_r', 'binary', 'binary_r', 'bone', 'bone_r', \n",
    "        'brg', 'brg_r', 'bwr', 'bwr_r', 'cividis', 'cividis_r', 'cool', 'cool_r', 'coolwarm', \n",
    "        'coolwarm_r', 'copper', 'copper_r', 'crest', 'crest_r', 'cubehelix', 'cubehelix_r', 'flag',\n",
    "        'flag_r', 'flare', 'flare_r', 'gist_earth', 'gist_earth_r', 'gist_gray', 'gist_gray_r', \n",
    "        'gist_heat', 'gist_heat_r', 'gist_ncar', 'gist_ncar_r', 'gist_rainbow', 'gist_rainbow_r',\n",
    "        'gist_stern', 'gist_stern_r', 'gist_yarg', 'gist_yarg_r', 'gnuplot', 'gnuplot2', 'gnuplot2_r', \n",
    "        'gnuplot_r', 'gray', 'gray_r', 'hot', 'hot_r', 'hsv', 'hsv_r', 'icefire', 'icefire_r', 'inferno',\n",
    "        'inferno_r', 'jet', 'jet_r', 'magma', 'magma_r', 'mako', 'mako_r', 'nipy_spectral', 'nipy_spectral_r',\n",
    "        'ocean', 'ocean_r', 'pink', 'pink_r', 'plasma', 'plasma_r', 'prism', 'prism_r', 'rainbow', 'rainbow_r',\n",
    "        'rocket', 'rocket_r', 'seismic', 'seismic_r', 'spring', 'spring_r', 'summer', 'summer_r', \n",
    "        'tab10', 'tab10_r', 'tab20', 'tab20_r', 'tab20b', 'tab20b_r', 'tab20c', 'tab20c_r', \n",
    "        'terrain', 'terrain_r', 'turbo', 'turbo_r', 'twilight', 'twilight_r', 'twilight_shifted',\n",
    "        'twilight_shifted_r', 'viridis', 'viridis_r', 'vlag', 'vlag_r', 'winter', 'winter_r']\n",
    "for pal in pals:\n",
    "    try:\n",
    "        print(pal)\n",
    "        display(sns.color_palette(pal, n_colors=20))\n",
    "    except ValueError:\n",
    "        pass"
   ]
  },
  {
   "cell_type": "code",
   "execution_count": null,
   "id": "f0a9f217",
   "metadata": {},
   "outputs": [],
   "source": [
    "sns.color_palette('Set2', n_colors=15)"
   ]
  },
  {
   "cell_type": "code",
   "execution_count": null,
   "id": "fc317691",
   "metadata": {},
   "outputs": [],
   "source": [
    "sns.color_palette('Set3', n_colors=15, desat=0.9)"
   ]
  },
  {
   "cell_type": "code",
   "execution_count": null,
   "id": "31c1680c",
   "metadata": {},
   "outputs": [],
   "source": [
    "sns.color_palette('bright', n_colors=10)"
   ]
  },
  {
   "cell_type": "code",
   "execution_count": null,
   "id": "8516b52c",
   "metadata": {},
   "outputs": [],
   "source": [
    "sns.color_palette('pastel', n_colors=10)"
   ]
  },
  {
   "cell_type": "code",
   "execution_count": null,
   "id": "c27823eb",
   "metadata": {},
   "outputs": [],
   "source": [
    "sns.color_palette('colorblind', n_colors=10)\n"
   ]
  },
  {
   "cell_type": "code",
   "execution_count": null,
   "id": "d9369e30",
   "metadata": {},
   "outputs": [],
   "source": []
  },
  {
   "cell_type": "code",
   "execution_count": null,
   "id": "e2d7fe2b",
   "metadata": {},
   "outputs": [],
   "source": []
  },
  {
   "cell_type": "code",
   "execution_count": null,
   "id": "9869709e",
   "metadata": {},
   "outputs": [],
   "source": []
  },
  {
   "cell_type": "code",
   "execution_count": null,
   "id": "407e90da",
   "metadata": {},
   "outputs": [],
   "source": []
  },
  {
   "cell_type": "code",
   "execution_count": null,
   "id": "626ce616",
   "metadata": {},
   "outputs": [],
   "source": []
  },
  {
   "cell_type": "code",
   "execution_count": null,
   "id": "8d97c0a2",
   "metadata": {},
   "outputs": [],
   "source": []
  },
  {
   "cell_type": "code",
   "execution_count": null,
   "id": "d8fb974a",
   "metadata": {},
   "outputs": [],
   "source": []
  },
  {
   "cell_type": "code",
   "execution_count": null,
   "id": "578b98ab",
   "metadata": {},
   "outputs": [],
   "source": []
  },
  {
   "cell_type": "code",
   "execution_count": null,
   "id": "1c0aedb9",
   "metadata": {},
   "outputs": [],
   "source": []
  },
  {
   "cell_type": "code",
   "execution_count": null,
   "id": "b16c0439",
   "metadata": {},
   "outputs": [],
   "source": []
  },
  {
   "cell_type": "code",
   "execution_count": null,
   "id": "4e35781c",
   "metadata": {},
   "outputs": [],
   "source": []
  },
  {
   "cell_type": "code",
   "execution_count": null,
   "id": "49702763",
   "metadata": {},
   "outputs": [],
   "source": []
  },
  {
   "cell_type": "code",
   "execution_count": null,
   "id": "dee97753",
   "metadata": {},
   "outputs": [],
   "source": []
  },
  {
   "cell_type": "code",
   "execution_count": null,
   "id": "f1b1dab3",
   "metadata": {},
   "outputs": [],
   "source": []
  },
  {
   "cell_type": "code",
   "execution_count": null,
   "id": "5ec6259e",
   "metadata": {},
   "outputs": [],
   "source": []
  },
  {
   "cell_type": "code",
   "execution_count": null,
   "id": "d1ac6fa6",
   "metadata": {},
   "outputs": [],
   "source": []
  },
  {
   "cell_type": "code",
   "execution_count": null,
   "id": "9bf70454",
   "metadata": {},
   "outputs": [],
   "source": []
  },
  {
   "cell_type": "code",
   "execution_count": null,
   "id": "9583d105",
   "metadata": {},
   "outputs": [],
   "source": []
  },
  {
   "cell_type": "code",
   "execution_count": null,
   "id": "d2a48f98",
   "metadata": {},
   "outputs": [],
   "source": []
  },
  {
   "cell_type": "code",
   "execution_count": null,
   "id": "3d7a74c1",
   "metadata": {},
   "outputs": [],
   "source": []
  }
 ],
 "metadata": {
  "kernelspec": {
   "display_name": "Python 3",
   "language": "python",
   "name": "python3"
  },
  "language_info": {
   "codemirror_mode": {
    "name": "ipython",
    "version": 3
   },
   "file_extension": ".py",
   "mimetype": "text/x-python",
   "name": "python",
   "nbconvert_exporter": "python",
   "pygments_lexer": "ipython3",
   "version": "3.7.10"
  }
 },
 "nbformat": 4,
 "nbformat_minor": 5
}
