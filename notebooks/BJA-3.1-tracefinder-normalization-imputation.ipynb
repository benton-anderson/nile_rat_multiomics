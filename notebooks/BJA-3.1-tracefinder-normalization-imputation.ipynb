{
 "cells": [
  {
   "cell_type": "code",
   "execution_count": 1,
   "metadata": {},
   "outputs": [],
   "source": [
    "import pandas as pd\n",
    "import numpy as np\n",
    "import matplotlib.pyplot as plt\n",
    "\n",
    "from sklearn.linear_model import LinearRegression\n",
    "from scipy import stats\n",
    "from scipy.stats import linregress"
   ]
  },
  {
   "cell_type": "code",
   "execution_count": 31,
   "metadata": {
    "scrolled": true
   },
   "outputs": [
    {
     "data": {
      "text/html": [
       "<div>\n",
       "<style scoped>\n",
       "    .dataframe tbody tr th:only-of-type {\n",
       "        vertical-align: middle;\n",
       "    }\n",
       "\n",
       "    .dataframe tbody tr th {\n",
       "        vertical-align: top;\n",
       "    }\n",
       "\n",
       "    .dataframe thead th {\n",
       "        text-align: right;\n",
       "    }\n",
       "</style>\n",
       "<table border=\"1\" class=\"dataframe\">\n",
       "  <thead>\n",
       "    <tr style=\"text-align: right;\">\n",
       "      <th></th>\n",
       "      <th>File Name</th>\n",
       "      <th>analytical_order</th>\n",
       "      <th>fixed_filename</th>\n",
       "      <th>qc_file</th>\n",
       "      <th>quant_file</th>\n",
       "      <th>blank_file</th>\n",
       "      <th>animal</th>\n",
       "      <th>week</th>\n",
       "      <th>bg_type</th>\n",
       "    </tr>\n",
       "  </thead>\n",
       "  <tbody>\n",
       "    <tr>\n",
       "      <th>1</th>\n",
       "      <td>20210831_KAO_HILIC_ACN_20210831232610</td>\n",
       "      <td>1</td>\n",
       "      <td>20210831_KAO_HILIC_ACN_20210831232610</td>\n",
       "      <td>False</td>\n",
       "      <td>False</td>\n",
       "      <td>True</td>\n",
       "      <td>NaN</td>\n",
       "      <td>NaN</td>\n",
       "      <td>NaN</td>\n",
       "    </tr>\n",
       "    <tr>\n",
       "      <th>2</th>\n",
       "      <td>20210831_KAO_HILIC_extraction_blank_1</td>\n",
       "      <td>2</td>\n",
       "      <td>20210831_KAO_HILIC_extraction_blank_1</td>\n",
       "      <td>False</td>\n",
       "      <td>False</td>\n",
       "      <td>True</td>\n",
       "      <td>NaN</td>\n",
       "      <td>NaN</td>\n",
       "      <td>NaN</td>\n",
       "    </tr>\n",
       "    <tr>\n",
       "      <th>3</th>\n",
       "      <td>20210831_KAO_HILIC_extraction_blank_1_20210901...</td>\n",
       "      <td>3</td>\n",
       "      <td>20210831_KAO_HILIC_extraction_blank_1_20210901...</td>\n",
       "      <td>False</td>\n",
       "      <td>False</td>\n",
       "      <td>True</td>\n",
       "      <td>NaN</td>\n",
       "      <td>NaN</td>\n",
       "      <td>NaN</td>\n",
       "    </tr>\n",
       "    <tr>\n",
       "      <th>4</th>\n",
       "      <td>20210831_KAO_HILIC_human_plasma_1</td>\n",
       "      <td>4</td>\n",
       "      <td>20210831_KAO_HILIC_human_plasma_1</td>\n",
       "      <td>True</td>\n",
       "      <td>False</td>\n",
       "      <td>False</td>\n",
       "      <td>NaN</td>\n",
       "      <td>NaN</td>\n",
       "      <td>NaN</td>\n",
       "    </tr>\n",
       "    <tr>\n",
       "      <th>5</th>\n",
       "      <td>20210831_KAO_HILIC_T1060M_20210401_9wk_RBG</td>\n",
       "      <td>5</td>\n",
       "      <td>20210831_KAO_HILIC_T1060M_20210401_9wk_RBG</td>\n",
       "      <td>False</td>\n",
       "      <td>True</td>\n",
       "      <td>False</td>\n",
       "      <td>1060</td>\n",
       "      <td>9</td>\n",
       "      <td>RBG</td>\n",
       "    </tr>\n",
       "    <tr>\n",
       "      <th>...</th>\n",
       "      <td>...</td>\n",
       "      <td>...</td>\n",
       "      <td>...</td>\n",
       "      <td>...</td>\n",
       "      <td>...</td>\n",
       "      <td>...</td>\n",
       "      <td>...</td>\n",
       "      <td>...</td>\n",
       "      <td>...</td>\n",
       "    </tr>\n",
       "    <tr>\n",
       "      <th>64</th>\n",
       "      <td>20210831_KAO_HILIC_T1060M_20210408_10wk_RBG</td>\n",
       "      <td>64</td>\n",
       "      <td>20210831_KAO_HILIC_T1060M_20210408_10wk_RBG</td>\n",
       "      <td>False</td>\n",
       "      <td>True</td>\n",
       "      <td>False</td>\n",
       "      <td>1060</td>\n",
       "      <td>10</td>\n",
       "      <td>RBG</td>\n",
       "    </tr>\n",
       "    <tr>\n",
       "      <th>65</th>\n",
       "      <td>20210831_KAO_HILIC_T1102M_20210327_8wk_FBG</td>\n",
       "      <td>65</td>\n",
       "      <td>20210831_KAO_HILIC_T1102M_20210327_8wk_FBG</td>\n",
       "      <td>False</td>\n",
       "      <td>True</td>\n",
       "      <td>False</td>\n",
       "      <td>1102</td>\n",
       "      <td>8</td>\n",
       "      <td>FBG</td>\n",
       "    </tr>\n",
       "    <tr>\n",
       "      <th>66</th>\n",
       "      <td>20210831_KAO_HILIC_T1074M_20210322_8wk_FBG</td>\n",
       "      <td>66</td>\n",
       "      <td>20210831_KAO_HILIC_T1074M_20210322_8wk_FBG</td>\n",
       "      <td>False</td>\n",
       "      <td>True</td>\n",
       "      <td>False</td>\n",
       "      <td>1074</td>\n",
       "      <td>8</td>\n",
       "      <td>FBG</td>\n",
       "    </tr>\n",
       "    <tr>\n",
       "      <th>67</th>\n",
       "      <td>20210831_KAO_HILIC_T1082M_20210401_9wk_RBG</td>\n",
       "      <td>67</td>\n",
       "      <td>20210831_KAO_HILIC_T1082M_20210401_9wk_RBG</td>\n",
       "      <td>False</td>\n",
       "      <td>True</td>\n",
       "      <td>False</td>\n",
       "      <td>1082</td>\n",
       "      <td>9</td>\n",
       "      <td>RBG</td>\n",
       "    </tr>\n",
       "    <tr>\n",
       "      <th>68</th>\n",
       "      <td>20210831_KAO_HILIC_human_plasma_5</td>\n",
       "      <td>68</td>\n",
       "      <td>20210831_KAO_HILIC_human_plasma_5</td>\n",
       "      <td>True</td>\n",
       "      <td>False</td>\n",
       "      <td>False</td>\n",
       "      <td>NaN</td>\n",
       "      <td>NaN</td>\n",
       "      <td>NaN</td>\n",
       "    </tr>\n",
       "  </tbody>\n",
       "</table>\n",
       "<p>68 rows × 9 columns</p>\n",
       "</div>"
      ],
      "text/plain": [
       "                                            File Name  analytical_order  \\\n",
       "1               20210831_KAO_HILIC_ACN_20210831232610                 1   \n",
       "2               20210831_KAO_HILIC_extraction_blank_1                 2   \n",
       "3   20210831_KAO_HILIC_extraction_blank_1_20210901...                 3   \n",
       "4                   20210831_KAO_HILIC_human_plasma_1                 4   \n",
       "5          20210831_KAO_HILIC_T1060M_20210401_9wk_RBG                 5   \n",
       "..                                                ...               ...   \n",
       "64        20210831_KAO_HILIC_T1060M_20210408_10wk_RBG                64   \n",
       "65         20210831_KAO_HILIC_T1102M_20210327_8wk_FBG                65   \n",
       "66         20210831_KAO_HILIC_T1074M_20210322_8wk_FBG                66   \n",
       "67         20210831_KAO_HILIC_T1082M_20210401_9wk_RBG                67   \n",
       "68                  20210831_KAO_HILIC_human_plasma_5                68   \n",
       "\n",
       "                                       fixed_filename  qc_file  quant_file  \\\n",
       "1               20210831_KAO_HILIC_ACN_20210831232610    False       False   \n",
       "2               20210831_KAO_HILIC_extraction_blank_1    False       False   \n",
       "3   20210831_KAO_HILIC_extraction_blank_1_20210901...    False       False   \n",
       "4                   20210831_KAO_HILIC_human_plasma_1     True       False   \n",
       "5          20210831_KAO_HILIC_T1060M_20210401_9wk_RBG    False        True   \n",
       "..                                                ...      ...         ...   \n",
       "64        20210831_KAO_HILIC_T1060M_20210408_10wk_RBG    False        True   \n",
       "65         20210831_KAO_HILIC_T1102M_20210327_8wk_FBG    False        True   \n",
       "66         20210831_KAO_HILIC_T1074M_20210322_8wk_FBG    False        True   \n",
       "67         20210831_KAO_HILIC_T1082M_20210401_9wk_RBG    False        True   \n",
       "68                  20210831_KAO_HILIC_human_plasma_5     True       False   \n",
       "\n",
       "    blank_file animal week bg_type  \n",
       "1         True    NaN  NaN     NaN  \n",
       "2         True    NaN  NaN     NaN  \n",
       "3         True    NaN  NaN     NaN  \n",
       "4        False    NaN  NaN     NaN  \n",
       "5        False   1060    9     RBG  \n",
       "..         ...    ...  ...     ...  \n",
       "64       False   1060   10     RBG  \n",
       "65       False   1102    8     FBG  \n",
       "66       False   1074    8     FBG  \n",
       "67       False   1082    9     RBG  \n",
       "68       False    NaN  NaN     NaN  \n",
       "\n",
       "[68 rows x 9 columns]"
      ]
     },
     "execution_count": 31,
     "metadata": {},
     "output_type": "execute_result"
    }
   ],
   "source": [
    "metab_file_grouping = pd.read_csv(r'..\\data\\metadata\\20210831_KAO_HILIC_Huishi_sequence.csv',\n",
    "                               skiprows=1)\n",
    "metab_file_grouping['analytical_order'] = list(range(0,69))\n",
    "metab_file_grouping = metab_file_grouping[['File Name', 'analytical_order']]\n",
    "\n",
    "bad_file = '20210831_KAO_HILIC_ACN'  # file size is only 800 kB and it failed to convert in MSConvert\n",
    "typo_files = {'20210831_KAO_HILIC_T193M20210406_9wk_RBG': '20210831_KAO_HILIC_T1093M_20210406_9wk_RBG',\n",
    "              '20210831_KAO_HILIC_T1092_20210410_10wk_FBG': '20210831_KAO_HILIC_T1092M_20210410_10wk_FBG',\n",
    "              '20210831_KAO_HILIC_T112M_20210330_8wk_RBG': '20210831_KAO_HILIC_T1102M_20210330_8wk_RBG',\n",
    "              '20210831_KAO_HILIC_T1092M_20210402_wk_FBG': '20210831_KAO_HILIC_T1092M_20210402_9wk_FBG'}\n",
    "qc_files = metab_file_grouping[metab_file_grouping['File Name'].str.contains('human')]['File Name'].to_list()\n",
    "blank_files = ['20210831_KAO_HILIC_ACN', '20210831_KAO_HILIC_ACN_20210831232610',\n",
    "               '20210831_KAO_HILIC_extraction_blank_1', '20210831_KAO_HILIC_extraction_blank_1_20210901004002']\n",
    "\n",
    "def fix_filename(original_filename):\n",
    "    if original_filename in typo_files:\n",
    "        return typo_files[original_filename]\n",
    "    else:\n",
    "        return original_filename\n",
    "\n",
    "metab_file_grouping['fixed_filename'] = metab_file_grouping['File Name'].apply(fix_filename)\n",
    "\n",
    "metab_file_grouping['qc_file'] = metab_file_grouping['File Name'].isin(qc_files)\n",
    "metab_file_grouping['quant_file'] = metab_file_grouping['fixed_filename'].str.contains('HILIC_T')\n",
    "metab_file_grouping['blank_file'] = metab_file_grouping['File Name'].isin(blank_files)\n",
    "metab_file_grouping = metab_file_grouping.drop(0)  # File is 800 kB and doesn't open\n",
    "\n",
    "metab_file_grouping['animal'] = metab_file_grouping['fixed_filename'].str.split('HILIC_T').str[1].str.split('M_2021').str[0]\n",
    "metab_file_grouping['week'] = metab_file_grouping[metab_file_grouping['quant_file'] == True]\\\n",
    "                                 ['fixed_filename'].str.split('wk_').str[0].str.split('_').str[-1]\n",
    "metab_file_grouping['bg_type'] = metab_file_grouping[metab_file_grouping['quant_file'] == True]\\\n",
    "                                   ['fixed_filename'].str.split('_').str[-1]\n",
    "\n",
    "tf_quant_files = metab_file_grouping[metab_file_grouping['quant_file'] == True]['File Name'].to_list()\n",
    "metab_file_grouping"
   ]
  },
  {
   "cell_type": "code",
   "execution_count": 28,
   "metadata": {},
   "outputs": [],
   "source": []
  },
  {
   "cell_type": "code",
   "execution_count": 81,
   "metadata": {},
   "outputs": [],
   "source": [
    "tf = pd.read_excel(r'..\\data\\raw\\metabolomics\\20210904_KAO_Huishi_HILIC_Tracefinder_peakAreas.xlsx',\n",
    "                   index_col=0)\n",
    "\n",
    "# Some columns have notes in them. Others have strange characters. Others have distracting D / L labels\n",
    "fixed_metab_names = {\n",
    "    \"Acetyl-L-carnitine\": 'Acetylcarnitine',\n",
    "    \"Adenosine 5'-monophosphate\": 'Adenosine monophosphate',\n",
    "    \"Cytidine 5'-diphosphocholine\": 'Cytidine diphosphocholine',\n",
    "    \"DL-Carnitine\": 'Carnitine',\n",
    "    \"DL-Glutamine\": 'Glutamine',\n",
    "    \"DL-Leucine/Isoleucine\": 'Leucine/Isoleucine',\n",
    "    \"DL-Lysine\": 'Lysine',\n",
    "    \"DL-Proline\": 'Proline',\n",
    "    \"Guanosine: all right MS2\": 'Guanosine',\n",
    "    \"L-(+)-Arginine\": 'Arginine',\n",
    "    \"L-(+)-Citrulline\": 'Citrulline',\n",
    "    \"L(+)-Ornithine\": 'Ornithine',\n",
    "    \"L-Alanine\": 'Alanine',\n",
    "    \"L-Aspartic acid\": 'Aspartic acid',\n",
    "    \"L-Glutamic acid\": 'Glutamic acid',\n",
    "    \"L-Iditol to Six-carbon sugar alcohol\": 'Iditol',\n",
    "    \"L-Phenylalanine\": 'Phenylalanine',\n",
    "    \"L-Serine\": 'Serine', \n",
    "    \"L-Tyrosine\": 'Tyrosine',\n",
    "    \"L-Valine\": 'Valine',\n",
    "    \"O-Butyryl-L-carnitine\": 'Butyrylcarnitine',\n",
    "    \"O-Isovaleryl-L-carnitine: rt a little shift\": 'Isovalerylcarnitine',\n",
    "    \"α-Lactose\": 'Lactose'\n",
    "}\n",
    "\n",
    "tf = tf.rename(fixed_metab_names, axis=1)\n",
    "# for col in tf:\n",
    "#     display(tf[col])\n",
    "\n",
    "# tf.where(tf>10, lambda x: tf.replace(1))\n",
    "\n",
    "# for i, row in tf.iterrows():\n",
    "#     print(type(row))\n",
    "#     for thing in row:\n",
    "#         print(thing)\n",
    "#     row = row.replace(0.0, row.min())\n",
    "#     print(row)\n",
    "\n",
    "tf_imputed = pd.DataFrame()\n",
    "\n",
    "for col in tf:\n",
    "    col_min = tf[col][tf[col].gt(0)].min(0)  # https://stackoverflow.com/questions/51481884/min-value-in-each-column-of-a-data-frame-excluding-zeros\n",
    "#     print(col_min)\n",
    "    tf_imputed[col] = tf[col].replace(0, col_min )\n",
    "\n",
    "tf_imputed.to_csv(r'..\\data\\interim\\tracefinder_imputed_data.csv')\n",
    "\n",
    "tf_imputed"
   ]
  },
  {
   "cell_type": "code",
   "execution_count": 21,
   "metadata": {},
   "outputs": [
    {
     "data": {
      "image/png": "[encoded data removed]",
      "text/plain": [
       "<Figure size 432x288 with 1 Axes>"
      ]
     },
     "metadata": {
      "needs_background": "light"
     },
     "output_type": "display_data"
    }
   ],
   "source": [
    "quant = tf[tf.index.isin(metab_file_grouping[metab_file_grouping['quant_file'] == True]['File Name'])]\n",
    "qc = tf[tf.index.isin(metab_file_grouping[metab_file_grouping['qc_file'] == True]['File Name'])]\n",
    "\n",
    "# Find zeroes\n",
    "qc[~(qc < 1)]\n",
    "# Only column \"Guanosine: all right MS2\" has any zeroes in file \n",
    "\n",
    "np.log2(qc).median(axis=1).plot()\n",
    "plt.ylim(0, 23);"
   ]
  },
  {
   "cell_type": "code",
   "execution_count": 15,
   "metadata": {
    "scrolled": true
   },
   "outputs": [
    {
     "data": {
      "text/plain": [
       "<AxesSubplot:>"
      ]
     },
     "execution_count": 15,
     "metadata": {},
     "output_type": "execute_result"
    },
    {
     "data": {
      "image/png": "[encoded data removed]",
      "text/plain": [
       "<Figure size 432x288 with 1 Axes>"
      ]
     },
     "metadata": {
      "needs_background": "light"
     },
     "output_type": "display_data"
    }
   ],
   "source": [
    "log2quant = np.log2(quant).median(axis=1)\n",
    "log2quant.plot()\n"
   ]
  },
  {
   "cell_type": "code",
   "execution_count": 165,
   "metadata": {},
   "outputs": [
    {
     "name": "stdout",
     "output_type": "stream",
     "text": [
      "slope:  -0.0006788443306436636\n",
      "y-intercept:  22.940966206533293\n",
      "LinregressResult(slope=-0.0006788443306433434, intercept=22.94096620653329, rvalue=-0.03257805942864927, pvalue=0.804826409858866, stderr=0.002734641499292286)\n"
     ]
    },
    {
     "data": {
      "text/plain": [
       "[<matplotlib.lines.Line2D at 0x22bad13cfc8>]"
      ]
     },
     "execution_count": 165,
     "metadata": {},
     "output_type": "execute_result"
    },
    {
     "data": {
      "image/png": "[encoded data removed]",
      "text/plain": [
       "<Figure size 432x288 with 1 Axes>"
      ]
     },
     "metadata": {
      "needs_background": "light"
     },
     "output_type": "display_data"
    }
   ],
   "source": [
    "# get linear regression of data\n",
    "fit = np.polyfit(x=range(1,log2quant.shape[0]+1), y=log2quant, deg=1)\n",
    "print('slope: ', fit[0])\n",
    "print('y-intercept: ', fit[1])\n",
    "print(linregress(np.arange(1, 61), log2quant))\n",
    "### p-value of 0.8 suggests that there is no need to normalize for intensity drift over time, like we did for lipids\n",
    "\n",
    "x=np.arange(1, log2quant.shape[0] + 1, dtype='float64')\n",
    "plt.gca().set_xticks([], [])\n",
    "\n",
    "plt.plot(x, (fit[0] * x + fit[1]))\n",
    "plt.plot(log2quant)"
   ]
  },
  {
   "cell_type": "code",
   "execution_count": null,
   "metadata": {},
   "outputs": [],
   "source": []
  },
  {
   "cell_type": "code",
   "execution_count": null,
   "metadata": {},
   "outputs": [],
   "source": []
  },
  {
   "cell_type": "code",
   "execution_count": null,
   "metadata": {},
   "outputs": [],
   "source": []
  },
  {
   "cell_type": "code",
   "execution_count": null,
   "metadata": {},
   "outputs": [],
   "source": []
  },
  {
   "cell_type": "code",
   "execution_count": null,
   "metadata": {},
   "outputs": [],
   "source": []
  },
  {
   "cell_type": "code",
   "execution_count": null,
   "metadata": {},
   "outputs": [],
   "source": []
  },
  {
   "cell_type": "code",
   "execution_count": null,
   "metadata": {},
   "outputs": [],
   "source": []
  },
  {
   "cell_type": "code",
   "execution_count": null,
   "metadata": {},
   "outputs": [],
   "source": []
  },
  {
   "cell_type": "code",
   "execution_count": null,
   "metadata": {},
   "outputs": [],
   "source": []
  },
  {
   "cell_type": "code",
   "execution_count": null,
   "metadata": {},
   "outputs": [],
   "source": []
  },
  {
   "cell_type": "code",
   "execution_count": null,
   "metadata": {},
   "outputs": [],
   "source": []
  },
  {
   "cell_type": "code",
   "execution_count": null,
   "metadata": {},
   "outputs": [],
   "source": []
  },
  {
   "cell_type": "code",
   "execution_count": null,
   "metadata": {},
   "outputs": [],
   "source": []
  },
  {
   "cell_type": "code",
   "execution_count": null,
   "metadata": {},
   "outputs": [],
   "source": []
  },
  {
   "cell_type": "code",
   "execution_count": null,
   "metadata": {},
   "outputs": [],
   "source": []
  },
  {
   "cell_type": "code",
   "execution_count": null,
   "metadata": {},
   "outputs": [],
   "source": []
  }
 ],
 "metadata": {
  "kernelspec": {
   "display_name": "Python 3",
   "language": "python",
   "name": "python3"
  },
  "language_info": {
   "codemirror_mode": {
    "name": "ipython",
    "version": 3
   },
   "file_extension": ".py",
   "mimetype": "text/x-python",
   "name": "python",
   "nbconvert_exporter": "python",
   "pygments_lexer": "ipython3",
   "version": "3.7.10"
  }
 },
 "nbformat": 4,
 "nbformat_minor": 2
}
