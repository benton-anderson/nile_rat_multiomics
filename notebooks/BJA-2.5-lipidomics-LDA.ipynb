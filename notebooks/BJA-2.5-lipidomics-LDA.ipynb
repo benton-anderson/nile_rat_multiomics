{
 "cells": [
  {
   "cell_type": "code",
   "execution_count": 52,
   "id": "73231642",
   "metadata": {},
   "outputs": [],
   "source": [
    "import pandas as pd\n",
    "import matplotlib.pyplot as plt\n",
    "import matplotlib.patches as mpatches\n",
    "import matplotlib.colors as colors\n",
    "import numpy as np\n",
    "import dateutil\n",
    "from sklearn.decomposition import PCA\n",
    "from sklearn.preprocessing import StandardScaler\n",
    "from scipy import stats"
   ]
  },
  {
   "cell_type": "code",
   "execution_count": 5,
   "id": "a433810c",
   "metadata": {},
   "outputs": [],
   "source": [
    "# Import data\n",
    "\n",
    "fr_raw = pd.read_csv(r'..\\data\\search\\peak_finder\\Final_Results.csv').dropna(axis=1, how='all')\n",
    "fr_filt = pd.read_csv(r'..\\data\\processed\\filtered_raw_data.csv', index_col=0)\n",
    "fr_norm = pd.read_csv(r'..\\data\\processed\\run_1_median_linregress_normalized_data.csv', index_col=0)\n",
    "file_grouping = pd.read_csv(r'..\\data\\metadata\\file_groupings.csv')\n",
    "\n",
    "fr_quant_filenames_in_analytical_order = file_grouping[file_grouping['quant_file'] == True]['fr_name'].to_list()\n",
    "\n",
    "animals_used = [1091, 1093, 1060, 1062, 1074, 1092, 1102, 1076, 1082, 1101]\n",
    "\n",
    "obs = pd.read_excel(r'..\\data\\metadata\\20210421_FBGRBGOGTT_Huishi sample sheet.xlsx', sheet_name='cleaned')\n",
    "obs['animal'] = obs['animal'].str.strip('TM').astype('int')\n",
    "obs['datetime'] = obs['when'].apply(dateutil.parser.parse)\n",
    "animal_phenotypes = pd.read_excel(r'..\\data\\metadata\\20210421_FBGRBGOGTT_Huishi sample sheet.xlsx', sheet_name='animal phenotypes')\n",
    "animal_phenotypes['animal'] = animal_phenotypes['animal'].str.strip('TM').astype('int')"
   ]
  },
  {
   "cell_type": "markdown",
   "id": "44e6f2c6",
   "metadata": {},
   "source": [
    "### Before LDA can be applied, data must pass a few assumptions:\n",
    "\n",
    "1. Data is gaussian--every variable is shaped like a bell curve when plotted\n",
    "2. Each \"attribute\" has the same variance, i.e. that the values of each variable vary around the mean by the same amount on average "
   ]
  },
  {
   "cell_type": "code",
   "execution_count": 50,
   "id": "68d6b365",
   "metadata": {
    "scrolled": true
   },
   "outputs": [
    {
     "data": {
      "text/plain": [
       "<AxesSubplot:>"
      ]
     },
     "execution_count": 50,
     "metadata": {},
     "output_type": "execute_result"
    },
    {
     "data": {
      "image/png": "[encoded data removed]",
      "text/plain": [
       "<Figure size 432x288 with 1 Axes>"
      ]
     },
     "metadata": {
      "needs_background": "light"
     },
     "output_type": "display_data"
    }
   ],
   "source": [
    "# Get some data and look at histograms:\n",
    "# Generally they look non-normal\n",
    "data = fr_raw[fr_quant_filenames_in_analytical_order]\n",
    "np.log2(data).iloc[411].hist()"
   ]
  },
  {
   "cell_type": "code",
   "execution_count": 85,
   "id": "a2be207f",
   "metadata": {},
   "outputs": [
    {
     "data": {
      "text/plain": [
       "Text(0.5, 0, 'p-values per feature')"
      ]
     },
     "execution_count": 85,
     "metadata": {},
     "output_type": "execute_result"
    },
    {
     "data": {
      "image/png": "[encoded data removed]",
      "text/plain": [
       "<Figure size 432x288 with 1 Axes>"
      ]
     },
     "metadata": {
      "needs_background": "light"
     },
     "output_type": "display_data"
    }
   ],
   "source": [
    "data = np.log2(fr_raw[fr_quant_filenames_in_analytical_order])\n",
    "data['norm_test_pval'] = data.apply(stats.normaltest, axis=1)\n",
    "\n",
    "data['norm_test_pval'].str[1].hist(bins=20)\n",
    "\n",
    "plt.xlabel('p-values per feature')"
   ]
  },
  {
   "cell_type": "markdown",
   "id": "cd93004d",
   "metadata": {},
   "source": [
    "scipy.stats.normaltest gives a p-value that your data were sampled from a normal distribuion. \n",
    "\n",
    "If p-val < 0.05, then it likely DID NOT come from a normal distribution. \n",
    "\n",
    "Plotting the distribution of p-values for each feature, the histogram peak at 0.05 in my data suggests that most features did not come from a normal distribution. Which makes using LDA rather difficult because it doesn't pass the critical first assumption. \n",
    "\n",
    "### For this reason, I won't attempt to do LDA for now. PCA doesn't seem to have this same limitation on assumptions, so PCA still is appropriate. "
   ]
  },
  {
   "cell_type": "code",
   "execution_count": 96,
   "id": "2453e505",
   "metadata": {},
   "outputs": [
    {
     "data": {
      "text/plain": [
       "Text(0.5, 0, 'p-values per feature')"
      ]
     },
     "execution_count": 96,
     "metadata": {},
     "output_type": "execute_result"
    },
    {
     "data": {
      "image/png": "[encoded data removed]",
      "text/plain": [
       "<Figure size 432x288 with 1 Axes>"
      ]
     },
     "metadata": {
      "needs_background": "light"
     },
     "output_type": "display_data"
    }
   ],
   "source": [
    "data = np.log2(fr_raw[fr_quant_filenames_in_analytical_order]).T\n",
    "data['norm_test_pval'] = data.apply(stats.normaltest, axis=1)\n",
    "\n",
    "data['norm_test_pval'].str[1].hist(bins=20)\n",
    "\n",
    "plt.xlabel('p-values per feature')"
   ]
  },
  {
   "cell_type": "code",
   "execution_count": 212,
   "id": "182632ce",
   "metadata": {
    "scrolled": true
   },
   "outputs": [
    {
     "data": {
      "text/plain": [
       "NormaltestResult(statistic=55.36206938238227, pvalue=9.512165113991444e-13)"
      ]
     },
     "execution_count": 212,
     "metadata": {},
     "output_type": "execute_result"
    },
    {
     "data": {
      "image/png": "[encoded data removed]",
      "text/plain": [
       "<Figure size 432x288 with 1 Axes>"
      ]
     },
     "metadata": {
      "needs_background": "light"
     },
     "output_type": "display_data"
    }
   ],
   "source": [
    "data = np.log2(fr_raw[fr_quant_filenames_in_analytical_order])\n",
    "\n",
    "data = data.iloc[:, 0]\n",
    "\n",
    "((data - data.mean())/data.std()).hist(bins=21)\n",
    "stats.normaltest((data - data.mean())/data.std())"
   ]
  },
  {
   "cell_type": "markdown",
   "id": "457e9e77",
   "metadata": {},
   "source": [
    "### Even though the above histogram looks normal, the normaltest p-value is still <<<< 0.05, so it's definitely not from a normal distribution"
   ]
  },
  {
   "cell_type": "markdown",
   "id": "2b442874",
   "metadata": {},
   "source": [
    "### Even after z-scoring the data, the stats.normaltest() still returns the same p-value, so it seems that stats does a z-normalization under the hood on your raw data"
   ]
  },
  {
   "cell_type": "code",
   "execution_count": 115,
   "id": "88f2439b",
   "metadata": {},
   "outputs": [
    {
     "data": {
      "text/plain": [
       "NormaltestResult(statistic=55.362069382382586, pvalue=9.512165113989972e-13)"
      ]
     },
     "execution_count": 115,
     "metadata": {},
     "output_type": "execute_result"
    }
   ],
   "source": [
    "stats.normaltest(data.iloc[:, 0])"
   ]
  },
  {
   "cell_type": "code",
   "execution_count": 193,
   "id": "df71f4ce",
   "metadata": {},
   "outputs": [
    {
     "data": {
      "text/plain": [
       "NormaltestResult(statistic=0.9334255817373001, pvalue=0.6270601619564631)"
      ]
     },
     "execution_count": 193,
     "metadata": {},
     "output_type": "execute_result"
    }
   ],
   "source": [
    "stats.normaltest(np.random.normal(size=1000))"
   ]
  },
  {
   "cell_type": "code",
   "execution_count": 211,
   "id": "e14e7fcb",
   "metadata": {},
   "outputs": [
    {
     "data": {
      "text/plain": [
       "(array([  3.,  21.,  82., 186., 260., 247., 138.,  51.,  10.,   2.]),\n",
       " array([-3.44698738, -2.72878758, -2.01058778, -1.29238797, -0.57418817,\n",
       "         0.14401164,  0.86221144,  1.58041124,  2.29861105,  3.01681085,\n",
       "         3.73501065]),\n",
       " <BarContainer object of 10 artists>)"
      ]
     },
     "execution_count": 211,
     "metadata": {},
     "output_type": "execute_result"
    },
    {
     "data": {
      "image/png": "[encoded data removed]",
      "text/plain": [
       "<Figure size 432x288 with 1 Axes>"
      ]
     },
     "metadata": {
      "needs_background": "light"
     },
     "output_type": "display_data"
    }
   ],
   "source": [
    "plt.hist(np.random.normal(size=1000))"
   ]
  },
  {
   "cell_type": "code",
   "execution_count": null,
   "id": "fa1a0a20",
   "metadata": {},
   "outputs": [],
   "source": []
  },
  {
   "cell_type": "code",
   "execution_count": null,
   "id": "3d2762ad",
   "metadata": {},
   "outputs": [],
   "source": []
  },
  {
   "cell_type": "code",
   "execution_count": null,
   "id": "542c3e70",
   "metadata": {},
   "outputs": [],
   "source": []
  },
  {
   "cell_type": "code",
   "execution_count": null,
   "id": "847a2496",
   "metadata": {},
   "outputs": [],
   "source": []
  },
  {
   "cell_type": "code",
   "execution_count": null,
   "id": "effe1557",
   "metadata": {},
   "outputs": [],
   "source": []
  },
  {
   "cell_type": "code",
   "execution_count": null,
   "id": "a6dd6fd2",
   "metadata": {},
   "outputs": [],
   "source": []
  },
  {
   "cell_type": "code",
   "execution_count": null,
   "id": "7389270e",
   "metadata": {},
   "outputs": [],
   "source": []
  },
  {
   "cell_type": "code",
   "execution_count": null,
   "id": "3215747d",
   "metadata": {},
   "outputs": [],
   "source": []
  },
  {
   "cell_type": "code",
   "execution_count": null,
   "id": "66b1713f",
   "metadata": {},
   "outputs": [],
   "source": []
  }
 ],
 "metadata": {
  "kernelspec": {
   "display_name": "Python 3",
   "language": "python",
   "name": "python3"
  },
  "language_info": {
   "codemirror_mode": {
    "name": "ipython",
    "version": 3
   },
   "file_extension": ".py",
   "mimetype": "text/x-python",
   "name": "python",
   "nbconvert_exporter": "python",
   "pygments_lexer": "ipython3",
   "version": "3.7.10"
  }
 },
 "nbformat": 4,
 "nbformat_minor": 5
}
