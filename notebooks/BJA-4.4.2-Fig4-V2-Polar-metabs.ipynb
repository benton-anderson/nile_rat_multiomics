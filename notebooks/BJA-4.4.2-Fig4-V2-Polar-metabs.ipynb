{
 "cells": [
  {
   "cell_type": "code",
   "execution_count": 158,
   "id": "1c1e93dc",
   "metadata": {},
   "outputs": [],
   "source": [
    "import json\n",
    "import importlib\n",
    "import os\n",
    "import sys\n",
    "import xml\n",
    "sys.path.insert(1, os.path.join(sys.path[0], '..'))\n",
    "from src.utils import parse_lipid, parse_p_value, tight_bbox\n",
    "from src import plots\n",
    "importlib.reload(plots)\n",
    "\n",
    "import pandas as pd\n",
    "import numpy as np\n",
    "import matplotlib as mpl\n",
    "import matplotlib.pyplot as plt\n",
    "import matplotlib.patches as patches\n",
    "from matplotlib.colors import Normalize, TwoSlopeNorm, CenteredNorm\n",
    "import seaborn as sns\n",
    "plt.rcParams['svg.fonttype'] = 'none'\n",
    "plt.rcParams['pdf.use14corefonts'] = True\n",
    "plt.rcParams['axes.unicode_minus'] = False  # https://stackoverflow.com/questions/43102564/matplotlib-negative-numbers-on-tick-labels-displayed-as-boxes\n",
    "plt.style.use('seaborn-ticks')  # 'seaborn-ticks', 'seaborn-white', 'seaborn'\n",
    "# sns.set_style('white')\n",
    "\n",
    "from sklearn.preprocessing import StandardScaler\n",
    "import networkx as nx"
   ]
  },
  {
   "cell_type": "code",
   "execution_count": 2,
   "id": "f7d7b8e0",
   "metadata": {},
   "outputs": [],
   "source": [
    "colors = json.load(open(r'..\\data\\metadata\\color_schemes.json'))\n",
    "colors['Non-fasted'] = colors['RBG']\n",
    "colors['Fasted'] = colors['FBG']\n",
    "compound_superclasses = json.load(open('../data/metadata/compound_superclasses.json', 'r'))\n",
    "    \n",
    "data = pd.read_csv(r'../data/processed/combined_metabolites_data_with_model_params.csv').set_index('i')\n",
    "data_cols = data.filter(regex='_FBG|_RBG').columns\n",
    "fbg_cols = data.filter(regex='_FBG').columns\n",
    "rbg_cols = data.filter(regex='_RBG').columns\n",
    "\n",
    "ap = pd.read_excel(r'..\\data\\metadata\\animal_phenotypes.xlsx', index_col=0)\n",
    "fg = pd.read_csv(r'..\\data\\metadata\\combined_metab_lipid_file_grouping.csv', index_col=0)"
   ]
  },
  {
   "cell_type": "code",
   "execution_count": 3,
   "id": "65ce6fd9",
   "metadata": {},
   "outputs": [],
   "source": [
    "data['signif_interaction'] = data['qval_sampling:ogtt'] < 0.05\n",
    "data['signif_sampling'] = data['qval_sampling'] < 0.05\n",
    "gb_means = (data\n",
    "            .loc[:, data_cols]\n",
    "            .groupby(fg['bg_type'], axis=1)\n",
    "            .mean()\n",
    "           )\n",
    "\n",
    "data['fasted_mean'] = gb_means['FBG']\n",
    "data['fed_mean'] = gb_means['RBG']\n",
    "data['Log2 Fold Change'] = data['fed_mean'] - data['fasted_mean']\n",
    "\n",
    "data['Fed - Fasted slope'] = data['coef_fed'] - data['coef_fasted']\n",
    "data['signif_sampling'] = data['qval_sampling'] < 0.05\n",
    "data['signif_interact'] = data['qval_sampling:ogtt'] < 0.05\n",
    "data['log_qval_sampling'] = -np.log10(data['qval_sampling'])\n",
    "data['log_qval_ogtt'] = -np.log10(data['qval_ogtt'])\n",
    "data['log_qval_sampling:ogtt'] = -np.log10(data['qval_sampling:ogtt'])\n",
    "data['is_id'] = data['superclass'] != 'Unidentified'"
   ]
  },
  {
   "cell_type": "markdown",
   "id": "6a893e71",
   "metadata": {},
   "source": [
    "# The polar metabolomics figure might be improved with some enrichment/network analysis\n",
    "## Generate data table for Metaboanalyst and draw figures"
   ]
  },
  {
   "cell_type": "markdown",
   "id": "470951b8",
   "metadata": {},
   "source": [
    "## Enrichment node:\n",
    "1. can use Lipids or Metabolites in Concentration table\n",
    "1. Can do 2-category categorical or a continuous regression group\n",
    "\n",
    "## Pathway node:\n",
    "1. Compound list or Concentration table \n",
    "1. 2-category or continuous regression group\n",
    "\n",
    "## Joint-pathway node:\n",
    "1. Only usable with metabolites & genomic or transcriptomic data\n",
    "\n",
    "## Network node:\n",
    "1. Concentration table with Metabolites \n",
    "1. Multinomial categorical Groups"
   ]
  },
  {
   "cell_type": "code",
   "execution_count": 99,
   "id": "78ffc8cd",
   "metadata": {
    "scrolled": true
   },
   "outputs": [],
   "source": [
    "df = (data\n",
    "    .loc[(data['ID'] != 'Unidentified')]\n",
    "    .set_index('ID')\n",
    "    .loc[:, data_cols])\n",
    "df = 2**df\n",
    "df.rename({'4-Hydroxybutyric acid (GHB)': '4-Hydroxybutyric acid'}, inplace=True)\n",
    "metabs = df.loc[df.index.isin(data.loc[data['Type'] == 'metabolite', 'ID'])].T\n",
    "lipids = df.loc[df.index.isin(data.loc[data['Type'] == 'lipid', 'ID'])].T\n",
    "metabs.insert(0, 'Groups', None)\n",
    "lipids.insert(0, 'Groups', None)"
   ]
  },
  {
   "cell_type": "markdown",
   "id": "97d960bf",
   "metadata": {},
   "source": [
    "## Create list of metabolites we detect and are found in hmdb as a reference metabolome (AKA background database)"
   ]
  },
  {
   "cell_type": "code",
   "execution_count": 100,
   "id": "689e15b5",
   "metadata": {},
   "outputs": [],
   "source": [
    "metabs = metabs.drop([\n",
    "    'Pentose sugar', \n",
    "    'Hexose sugar',\n",
    "    'Anhydrohexose',\n",
    "    'N-Methyl-2-pyrrolidone',\n",
    "    'Methylaminopyrimidine',\n",
    "    '8-Hydroxyquinoline',\n",
    "    '5,5-Dimethylhydantoin',\n",
    "    '2-Mercaptoethanol',\n",
    "       ], axis=1)\n",
    "metabs.rename({\n",
    "    'Ethyl-beta-D-glucuronide': 'Ethyl glucuronide',\n",
    "    'Ascorbic acid 2-sulfate': 'Ascorbic acid',\n",
    "    'Indole-3-acrylic acid': 'Indoleacrylic acid',\n",
    "    'N3,N4-Dimethyl-L-arginine': 'Asymmetric dimethylarginine',\n",
    "    'N-Isovalerylglycine': 'Isovalerylglycine',\n",
    "    'Methylhistidine': '1-Methylhistidine',\n",
    "}, axis=1, inplace=True)\n",
    "metabs.columns\n",
    "\n",
    "(metabs\n",
    " .columns[1:]\n",
    " .to_frame()\n",
    " .to_clipboard('../data/metaboanalyst/metabolites_detected.csv', index=False, header=False, sep='\\n'))"
   ]
  },
  {
   "cell_type": "markdown",
   "id": "559b527a",
   "metadata": {},
   "source": [
    "# Generate csv files for each analysis node"
   ]
  },
  {
   "cell_type": "markdown",
   "id": "ef8e5210",
   "metadata": {},
   "source": [
    "## Enrichment node "
   ]
  },
  {
   "cell_type": "code",
   "execution_count": 114,
   "id": "d09685f2",
   "metadata": {
    "scrolled": true
   },
   "outputs": [],
   "source": [
    "df = metabs.copy()\n",
    "df['Groups'] = df.index.map(fg['bg_type'])\n",
    "df.to_csv('../data/metaboanalyst/enrichment/input_enr_sampling_metabs.csv')\n",
    "\n",
    "df = lipids.copy()\n",
    "df['Groups'] = df.index.map(fg['bg_type'])\n",
    "df.to_csv('../data/metaboanalyst/enrichment/input_enr_sampling_lipids.csv')\n",
    "\n",
    "df = metabs.copy()\n",
    "df['Groups'] = df.index.map(fg['ogtt'])\n",
    "df.to_csv('../data/metaboanalyst/enrichment/input_enr_ogtt_metabs.csv')\n",
    "\n",
    "df = metabs.copy()\n",
    "df['Groups'] = df.index.map(fg['ogtt'])\n",
    "df = df.loc[fg['bg_type'] == 'RBG']\n",
    "df.to_csv('../data/metaboanalyst/enrichment/input_enr_ogtt_metabs_fedonly.csv')\n",
    "\n",
    "df = metabs.copy()\n",
    "df['Groups'] = df.index.map(fg['ogtt'])\n",
    "df = df.loc[fg['bg_type'] == 'FBG']\n",
    "df.to_csv('../data/metaboanalyst/enrichment/input_enr_ogtt_metabs_fastedonly.csv')\n",
    "\n",
    "df = lipids.copy()\n",
    "df['Groups'] = df.index.map(fg['ogtt'])\n",
    "df = df.loc[fg['bg_type'] == 'RBG']\n",
    "df.to_csv('../data/metaboanalyst/enrichment/input_enr_ogtt_lipids.csv')\n",
    "\n",
    "df = lipids.copy()\n",
    "df['Groups'] = df.index.map(fg['ogtt'])\n",
    "df = df.loc[fg['bg_type'] == 'RBG']\n",
    "df.to_csv('../data/metaboanalyst/enrichment/input_enr_ogtt_lipids_fedonly.csv')\n",
    "\n",
    "df = lipids.copy()\n",
    "df['Groups'] = df.index.map(fg['ogtt'])\n",
    "df = df.loc[fg['bg_type'] == 'FBG']\n",
    "df.to_csv('../data/metaboanalyst/enrichment/input_enr_ogtt_lipids_fastedonly.csv')"
   ]
  },
  {
   "cell_type": "markdown",
   "id": "2c7a4256",
   "metadata": {},
   "source": [
    "## Pathway node"
   ]
  },
  {
   "cell_type": "code",
   "execution_count": 102,
   "id": "544c8c57",
   "metadata": {},
   "outputs": [],
   "source": [
    "df = metabs.copy()\n",
    "df['Groups'] = df.index.map(fg['bg_type'])\n",
    "df.to_csv('../data/metaboanalyst/pathway/input_pathway_sampling_metabs.csv')\n",
    "\n",
    "df = metabs.copy()\n",
    "df['Groups'] = df.index.map(fg['ogtt'])\n",
    "df.to_csv('../data/metaboanalyst/pathway/input_pathway_ogtt_metabs.csv')"
   ]
  },
  {
   "cell_type": "markdown",
   "id": "8e5442aa",
   "metadata": {},
   "source": [
    "## Network node"
   ]
  },
  {
   "cell_type": "code",
   "execution_count": 103,
   "id": "764a5395",
   "metadata": {},
   "outputs": [],
   "source": [
    "df = metabs.copy()\n",
    "df = df.loc[fg['bg_type'] == 'RBG']\n",
    "df['Groups'] = df.index.map(fg['animal'])\n",
    "df.to_csv('../data/metaboanalyst/network/input_network_fedonly_animalgroups_metabs.csv')"
   ]
  },
  {
   "cell_type": "markdown",
   "id": "c004ef3f",
   "metadata": {},
   "source": [
    "# The outputs from enrichment, pathway and network nodes are quite sparsely populated with our metabolite IDs in the sets (with few exceptions)\n",
    "# However the results suggest pathways that make sense, so write down the metabolite sets manually \n",
    "## Metaboanalyst is clunky because it doesn't save results online, closes your session after 10 minutes, and has scattered organization system for raw file downloads"
   ]
  },
  {
   "cell_type": "markdown",
   "id": "8a722e33",
   "metadata": {},
   "source": [
    "# After going through Enrichment and Pathway Nodes with the (1) fed-only OGTT-grouped data and (2) the fasted vs. fed-grouped data, I only found 5 KEGG pathway nodes with decent # metabolites found, and 1 Blood-based disease signature pathway \n",
    "# Network node only returned a reasonable result using Debiased Sparse Partial Correlation (DSPC) network on the fed-only OGTT-grouped data\n",
    "## Using network node on fasted-vs-fed data opened up the other 5 network possibilities, but only 1 worked (KEGG Global metabolic network) and it was so big it was hard to get anything interesting out of it \n",
    "## These metabolite sets can be named and their metabolite components can be plotted in a connection graph based on the DSPC network graph file I downloaded at `~/data/metaboanalyst/network/.graphml` file"
   ]
  },
  {
   "cell_type": "code",
   "execution_count": 182,
   "id": "744192f9",
   "metadata": {},
   "outputs": [],
   "source": [
    "metab_sets = {\n",
    "    'KEGG_pathway': \n",
    "    {\n",
    "    'Glycine, serine and threonine metabolism': ['Choline', 'Betaine', 'Threonine', 'Glyceric acid', 'Creatine'],\n",
    "    'Valine, leucine and isoleucine biosynthesis': ['Threonine', 'Leucine', 'Isoleucine'],\n",
    "    'Glycerophospholipid metabolism': ['Choline', 'Glycerophosphocholine'],\n",
    "    'Arginine and proline metabolism': ['Arginine', 'Creatine', 'Proline', \n",
    "                                        'Glutamic acid', 'Ornithine', '4-Guanidinobutanoic acid'],\n",
    "    'Aminoacyl-tRNA biosynthesis': ['Asparagine', 'Histidine', 'Phenylalanine', 'Arginine', 'Glutamine',\n",
    "                                    'Alanine', 'Isoleucine', 'Leucine', 'Threonine', \n",
    "                                    'Tryptophan', 'Tyrosine', 'Proline', 'Glutamic acid',] \n",
    "    },\n",
    "    'Blood_disease_signature': \n",
    "    {'DIABETES MELLITUS (MODY), NON-INSULIN-DEPENDENT': ['Glucose', 'Trigonelline', '3-Hydroxybutyric acid',\n",
    "                                                         'Taurine', 'Glutamine', 'Tryptophan', 'Histidine',\n",
    "                                                         'Isoleucine', 'Leucine', 'Creatinine', 'Creatine']\n",
    "    }\n",
    "}"
   ]
  },
  {
   "cell_type": "code",
   "execution_count": 179,
   "id": "652e583e",
   "metadata": {
    "scrolled": true
   },
   "outputs": [],
   "source": [
    "# g = nx.read_graphml('../data/metaboanalyst/network/fed_only_ogtt_groups_graph.graphml')\n",
    "# list(g)"
   ]
  },
  {
   "cell_type": "code",
   "execution_count": 216,
   "id": "eb1a5c79",
   "metadata": {},
   "outputs": [],
   "source": []
  },
  {
   "cell_type": "code",
   "execution_count": 217,
   "id": "5b30ee7f",
   "metadata": {},
   "outputs": [],
   "source": [
    "aa = {\n",
    "    'Alanine': 'Ala',\n",
    "    'Arginine': 'Arg',\n",
    "    'Asparagine': 'Asn',\n",
    "    'Aspartic acid': 'Asp',\n",
    "    'Cysteine': 'Cys',\n",
    "    'Glutamine': 'Gln',\n",
    "    'Glutamic acid': 'Glu',\n",
    "    'Glycine': 'Gly',\n",
    "    'Histidine': 'His',\n",
    "    'Isoleucine': 'Ile',\n",
    "    'Leucine': 'Leu',\n",
    "    'Lysine': 'Lys',\n",
    "    'Methionine': 'Met',\n",
    "    'Phenylalanine': 'Phe',\n",
    "    'Proline': 'Pro',\n",
    "    'Serine': 'Ser',\n",
    "    'Threonine': 'Thr',\n",
    "    'Tryptophan': 'Trp',\n",
    "    'Tyrosine': 'Tyr',\n",
    "    'Valine ': 'Val'\n",
    "}\n",
    "aa_deriv = ['Taurine', 'Stachydrine', 'Phenylacetyleglycine', 'Ornithine', \n",
    "            '1-Methylhistidine', 'N-Acetylornithine', 'Betaine', 'Beta alanine'\n",
    "           ]"
   ]
  },
  {
   "cell_type": "code",
   "execution_count": 197,
   "id": "5abbd71d",
   "metadata": {},
   "outputs": [
    {
     "data": {
      "image/png": "[encoded data removed]",
      "text/plain": [
       "<Figure size 432x288 with 1 Axes>"
      ]
     },
     "metadata": {},
     "output_type": "display_data"
    }
   ],
   "source": [
    "nx.draw_networkx(g)"
   ]
  },
  {
   "cell_type": "code",
   "execution_count": 219,
   "id": "d06f6edd",
   "metadata": {},
   "outputs": [],
   "source": [
    "g = nx.read_graphml('../data/metaboanalyst/network/fed_only_ogtt_groups_graph.graphml', force_multigraph=True)\n",
    "gnodes = pd.read_csv('../data/metaboanalyst/network/fed_only_ogtt_groups_graph_node_names.csv').set_index('Label')\n",
    "gnodes['node'] = list(g.nodes)\n",
    "g = nx.relabel_nodes(g, dict(zip(gnodes['node'], gnodes.index)))"
   ]
  },
  {
   "cell_type": "code",
   "execution_count": 220,
   "id": "2ecdf99e",
   "metadata": {
    "scrolled": true
   },
   "outputs": [],
   "source": [
    "# data.loc[data['molec_class'] == 'Amino acid derivative']"
   ]
  },
  {
   "cell_type": "code",
   "execution_count": 223,
   "id": "d8041508",
   "metadata": {
    "scrolled": false
   },
   "outputs": [
    {
     "data": {
      "image/png": "[encoded data removed]",
      "text/plain": [
       "<Figure size 600x600 with 1 Axes>"
      ]
     },
     "metadata": {},
     "output_type": "display_data"
    }
   ],
   "source": [
    "# subg = g.subgraph(metab_sets['KEGG_pathway']['Glycine, serine and threonine metabolism'])\n",
    "subg = g.subgraph(list(aa.keys()) + aa_deriv)\n",
    "fig, ax = plt.subplots(figsize=(4,4), dpi=150)\n",
    "nx.draw_networkx(\n",
    "    subg, \n",
    "#     pos=nx.spring_layout(subg, seed=3), \n",
    "    pos=nx.kamada_kawai_layout(subg),\n",
    "    ax=ax,\n",
    "    font_size=8, node_size=100,\n",
    "                 \n",
    ")\n",
    "\n",
    "ax.margins(0.15)\n",
    "sns.despine(bottom=True, left=True)"
   ]
  },
  {
   "cell_type": "code",
   "execution_count": 188,
   "id": "c42b239f",
   "metadata": {},
   "outputs": [
    {
     "data": {
      "text/plain": [
       "['Alanine',\n",
       " 'Arginine',\n",
       " 'Asparagine',\n",
       " 'Aspartic acid',\n",
       " 'Cysteine',\n",
       " 'Glutamine',\n",
       " 'Glutamic acid',\n",
       " 'Glycine',\n",
       " 'Histidine',\n",
       " 'Isoleucine',\n",
       " 'Leucine',\n",
       " 'Lysine',\n",
       " 'Methionine',\n",
       " 'Phenylalanine',\n",
       " 'Proline',\n",
       " 'Serine',\n",
       " 'Threonine',\n",
       " 'Tryptophan',\n",
       " 'Tyrosine',\n",
       " 'Valine']"
      ]
     },
     "execution_count": 188,
     "metadata": {},
     "output_type": "execute_result"
    }
   ],
   "source": [
    "[x.capitalize() for x in aa]"
   ]
  },
  {
   "cell_type": "code",
   "execution_count": 186,
   "id": "86a9d9b9",
   "metadata": {},
   "outputs": [],
   "source": [
    "aa = [\n",
    "'alanine',\n",
    "'arginine',\n",
    "'asparagine',\n",
    "'aspartic acid',\n",
    "'cysteine',\n",
    "'glutamine',\n",
    "'glutamic acid',\n",
    "'glycine',\n",
    "'histidine',\n",
    "'isoleucine',\n",
    "'leucine',\n",
    "'lysine',\n",
    "'methionine',\n",
    "'phenylalanine',\n",
    "'proline',\n",
    "'serine',\n",
    "'threonine',\n",
    "'tryptophan',\n",
    "'tyrosine',\n",
    "'valine',\n",
    "]"
   ]
  },
  {
   "cell_type": "code",
   "execution_count": 149,
   "id": "778d4de0",
   "metadata": {},
   "outputs": [
    {
     "data": {
      "text/plain": [
       "Index([], dtype='object', name='Label')"
      ]
     },
     "execution_count": 149,
     "metadata": {},
     "output_type": "execute_result"
    }
   ],
   "source": [
    "nodelist"
   ]
  },
  {
   "cell_type": "code",
   "execution_count": 150,
   "id": "bf0a9497",
   "metadata": {},
   "outputs": [
    {
     "data": {
      "image/png": "[encoded data removed]",
      "text/plain": [
       "<Figure size 1000x1000 with 1 Axes>"
      ]
     },
     "metadata": {},
     "output_type": "display_data"
    }
   ],
   "source": [
    "# nodelist = gnodes.loc[gnodes['Degree'] > 6].index\n",
    "# nodelist = gnodes.loc[gnodes['Betweenness'] > 0].index\n",
    "nodelist = gnodes.loc[gnodes.index.isin(\n",
    "    metab_sets['KEGG_pathway'][ 'Aminoacyl-tRNA biosynthesis'])].index\n",
    "subgraph = g.subgraph(nodelist)\n",
    "\n",
    "fig, ax = plt.subplots(figsize=(4, 4), dpi=250)\n",
    "nx.draw_networkx(\n",
    "    subgraph,\n",
    "    pos=nx.spring_layout(subgraph),\n",
    "    font_size=3,\n",
    "    nodelist=nodelist,\n",
    "    node_size=100, node_color='lightblue',\n",
    ")\n",
    "sns.despine(bottom=True, left=True)"
   ]
  },
  {
   "cell_type": "code",
   "execution_count": null,
   "id": "defbe04c",
   "metadata": {},
   "outputs": [],
   "source": []
  },
  {
   "cell_type": "code",
   "execution_count": null,
   "id": "b0288be7",
   "metadata": {},
   "outputs": [],
   "source": []
  },
  {
   "cell_type": "code",
   "execution_count": null,
   "id": "e0a4ee40",
   "metadata": {},
   "outputs": [],
   "source": []
  },
  {
   "cell_type": "code",
   "execution_count": null,
   "id": "b3c2b9ba",
   "metadata": {},
   "outputs": [],
   "source": []
  },
  {
   "cell_type": "markdown",
   "id": "95a1986a",
   "metadata": {},
   "source": [
    "# Older analysis (testing out metaboanalyst results) below"
   ]
  },
  {
   "cell_type": "code",
   "execution_count": 104,
   "id": "df35d423",
   "metadata": {
    "scrolled": true
   },
   "outputs": [
    {
     "data": {
      "text/plain": [
       "NodeView(('Alanine', 'Pentose sugar', 'Trigonelline', 'Threonine', 'Ornithine', 'Hydroxycinnamic acid', 'Indole-3-acrylic acid', 'Leucine', 'Isoleucine', 'Proline', 'Quinic acid', 'Acrylic acid', 'Phenylalanine', 'Hippuric acid', 'Hydrocinnamic acid', 'Choline', '4-Hydroxybenzaldehyde', 'Guanidinosuccinic acid', 'Tyrosine', 'Asparagine', 'Glucose', 'Lactic Acid', 'Tryptophan', 'Creatine', 'alpha-Glycerylphosphorylcholine', 'Threonic acid', 'N-Acetylneuraminic acid', 'N-Acetylornithine', 'N-Acetyl-L-aspartic acid', 'Gluconic acid', 'Anhydrohexose', 'Pipecolic acid', 'Nicotinamide 1-oxide', '3-Methylhistidine', 'Stachydrine', 'Ribose', 'Pseudouridine', 'Hexose sugar', 'Nicotinamide', 'Creatinine', 'Phenylacetylglycine', 'Carnitine', 'Histidine', 'Ergothioneine', 'Citramalic acid', 'Betaine', 'Anserine', '5,5-Dimethylhydantoin', '4-Hydroxybutyric acid'))"
      ]
     },
     "execution_count": 104,
     "metadata": {},
     "output_type": "execute_result"
    }
   ],
   "source": [
    "g = nx.read_graphml('../data/processed/metaboanalyst_graph.graphml')\n",
    "\n",
    "gnodes = pd.read_csv('../data/processed/metaboanalyst_graph_node_table.csv').set_index('Label')\n",
    "gnodes['node'] = list(g.nodes)\n",
    "gnodes\n",
    "\n",
    "g = nx.relabel_nodes(g, dict(zip(gnodes['node'], gnodes.index)))\n",
    "g.nodes"
   ]
  },
  {
   "cell_type": "code",
   "execution_count": 120,
   "id": "a28c1cc9",
   "metadata": {},
   "outputs": [
    {
     "data": {
      "image/png": "[encoded data removed]",
      "text/plain": [
       "<Figure size 1000x1000 with 1 Axes>"
      ]
     },
     "metadata": {},
     "output_type": "display_data"
    }
   ],
   "source": [
    "nodelist = gnodes.loc[gnodes['Degree'] > 6].index\n",
    "# nodelist = gnodes.loc[gnodes['Betweenness'] > 0].index\n",
    "subgraph = g.subgraph(nodelist)\n",
    "\n",
    "fig, ax = plt.subplots(figsize=(4, 4), dpi=250)\n",
    "nx.draw_networkx(\n",
    "    subgraph,\n",
    "    pos=nx.spring_layout(subgraph),\n",
    "    font_size=3,\n",
    "    nodelist=nodelist,\n",
    "    node_size=100, node_color='lightblue',\n",
    ")\n",
    "sns.despine(bottom=True, left=True)"
   ]
  },
  {
   "cell_type": "code",
   "execution_count": 10,
   "id": "b8e166ca",
   "metadata": {},
   "outputs": [
    {
     "data": {
      "text/plain": [
       "array(['Urocanic acid', 'Uridine', 'Uric acid', 'Tyrosine', 'Tryptophan',\n",
       "       'Trigonelline', 'Indole-3-acrylic acid', 'Threonine',\n",
       "       'Threonic acid', 'Taurine', 'Stachydrine', 'Serine', 'Ribose',\n",
       "       'Quinic acid', 'Pseudouridine', 'Proline', 'Pipecolic acid',\n",
       "       'Phenylalanine', 'Phenylacetylglycine', 'Pentose sugar',\n",
       "       'Ornithine', 'Nicotinamide 1-oxide', 'Nicotinamide',\n",
       "       'N6,N6,N6-Trimethyl-L-lysine', 'N3,N4-Dimethyl-L-arginine',\n",
       "       'N-Methyl-2-pyrrolidone', 'N-Isovalerylglycine',\n",
       "       'N-Acetylornithine', 'N-Acetylneuraminic acid',\n",
       "       'N-Acetyl-L-aspartic acid', 'Methylhistidine',\n",
       "       'Methylaminopyrimidine', 'Leucine', 'Lactic Acid', 'Isoleucine',\n",
       "       'Hydroxycinnamic acid', 'Hydrocinnamic acid', 'Histidine',\n",
       "       'Hippuric acid', 'Iditol', 'Hexose sugar',\n",
       "       'Guanidinosuccinic acid', 'Glyceric acid', 'Glutamine',\n",
       "       'Glutamic acid', 'Glucose', 'Gluconic acid',\n",
       "       'Ethyl-beta-D-glucuronide', 'Ergothioneine', 'Cytidine',\n",
       "       'Creatinine', 'Creatine', 'Citramalic acid', 'Choline',\n",
       "       'Carnitine', 'Betaine', 'Beta-D-Glucopyranuronic acid',\n",
       "       'Beta alanine', 'Asparagine', 'Ascorbic acid 2-sulfate',\n",
       "       'Arginine', 'Anserine', 'Anhydrohexose',\n",
       "       'alpha-Glycerylphosphorylcholine', 'Alanine',\n",
       "       \"Adenosine 5'-monophosphate\", 'Acrylic acid',\n",
       "       'Acetyl-β-methylcholine', '8-Hydroxyquinoline',\n",
       "       '5,5-Dimethylhydantoin', '4-Oxoproline',\n",
       "       '4-Hydroxybutyric acid (GHB)', '4-Hydroxybenzaldehyde',\n",
       "       '4-Guanidinobutyric acid', '3-Methylhistidine',\n",
       "       '3-Indoxyl sulphate', '3-Hydroxybutyric acid',\n",
       "       '2-Naphthalenesulfonic acid', '2-Mercaptoethanol',\n",
       "       '1,5-Anhydro-D-glucitol'], dtype=object)"
      ]
     },
     "execution_count": 10,
     "metadata": {},
     "output_type": "execute_result"
    }
   ],
   "source": [
    "data.loc[(data['Type'] == 'metabolite') & (data['ID'] != 'Unidentified'), 'ID'].values#.to_clipboard()"
   ]
  },
  {
   "cell_type": "code",
   "execution_count": null,
   "id": "a773c376",
   "metadata": {},
   "outputs": [],
   "source": [
    "fig, axs = plt.subplot_mosaic(\n",
    "    '''\n",
    "    .AAABB\n",
    "    .AAABB\n",
    "    x.CCCD\n",
    "    ..CCCE\n",
    "    ''',\n",
    "    dpi=150, figsize=(8,8), facecolor='white',\n",
    "    gridspec_kw=dict(wspace=1.2, hspace=1.1, \n",
    "                     width_ratios=[1, 0.1, 4, 4, 4, 7],\n",
    "                     height_ratios=[1, 1, 1, 1]),\n",
    ")\n",
    "\n",
    "axvol = plots.volcano(x='Log2 Fold Change', y='log_qval_sampling', \n",
    "                      df=data, metab_type='lipid', ax=axs['A'], legend=True)\n",
    "axvol.legend(loc=(-1, 0))\n",
    "axslopes = plots.fasted_fed_slope('lipid', alpha=0.8, ax=axs['B'])\n",
    "axvol.tick_params(length=3)\n",
    "axslopes.tick_params(length=3)\n",
    "\n",
    "ax = make_carbon_unsat_plot('TG', 0.18, ax=axs['C'], cax=axs['x'])\n",
    "num_tg = ids.loc[ids['molec_class'] == 'TG'].shape[0]\n",
    "axs['C'].set_title(f'TG  n={num_tg}', fontsize=10, pad=0)\n",
    "for xy, width, height in [\n",
    "#     ((45.5, -0.5), 13, 3), ((45.5, 2.5), 15, 3), ((51.3, 5.5), 7.5, 4), \n",
    "    ((57.3, 9.5), 9, 9)\n",
    "]:\n",
    "    ax.add_patch(patches.Rectangle(xy, width, height, linewidth=1, edgecolor='0.1', facecolor='none'))\n",
    "\n",
    "for unsat_low, unsat_high, subplot in [\n",
    "    (0, 99, 'E'), \n",
    "#     (0, 2, 'C'), (3, 5, 'D'), (6, 9, 'E'), \n",
    "    (10, 99, 'D')\n",
    "]:\n",
    "    plot_quant_vs_ogtt(lipid_means(unsat_low, unsat_high), x='ogtt', y='quant', palette=colors, \n",
    "                       animal_lines=False, xlabel='OGTT glucose AUC', ylabel='Mean log2 quant.', \n",
    "                       scatter_kws={'s': 14, 'edgecolor': '0.2', 'linewidth': 0.25, 'zorder': 10}, \n",
    "                       line_kws={'linewidth': 1}, ax=axs[subplot])\n",
    "fs=9   \n",
    "axs['B'].set_xlabel('Non-fasted regression slope')\n",
    "axs['B'].set_ylabel('Fasted regression slope')\n",
    "axs['D'].legend(loc=(1, 0), handles=axs['D'].get_legend_handles_labels()[0], labels=['Fasted', 'Non-fasted'],\n",
    "                markerscale=3,)\n",
    "axs['D'].tick_params(length=3)\n",
    "axs['D'].set_yticks([19, 21, 23], fontsize=fs)\n",
    "axs['D'].set_xticks([20000, 40000, 60000], ['20k', '40k', '60k'], fontsize=fs)\n",
    "axs['D'].set_ylabel('Mean log2 quant.', fontsize=fs)\n",
    "axs['D'].set_xlabel('OGTT glucose AUC', fontsize=fs)\n",
    "axs['E'].tick_params(length=3)\n",
    "axs['E'].set_yticks([21, 23, 25], fontsize=fs)\n",
    "axs['E'].set_xticks([20000, 40000, 60000], ['20k', '40k', '60k'], fontsize=fs)\n",
    "axs['E'].set_ylabel('Mean log2 quant.', fontsize=fs)\n",
    "axs['E'].set_xlabel('OGTT glucose AUC', fontsize=fs)\n",
    "# handles, labels = axs['B'].get_legend_handles_labels()\n",
    "# axs['B'].legend(handles=handles, labels=['Fasted', 'Non-fasted'], loc=(-1.4, 0.5), markerscale=2, title='Sampling')\n",
    "axs['x'].text(s='Fasted\\nHigher', x=0.5, y=-0.05, transform=axs['x'].transAxes, ha='center', va='top')\n",
    "# axs['x'].yaxis.set_label_position('left')\n",
    "\n",
    "for ax_letter, ax in axs.items():\n",
    "    if ax_letter == 'x':\n",
    "        continue\n",
    "    bb = tight_bbox(ax)\n",
    "    ax.text(s=ax_letter, x=bb.x0-0.002, y=bb.y1+0.01, fontweight='bold', transform=fig.transFigure)\n",
    "\n",
    "# plt.savefig(r'..\\reports\\figures\\Figure_TGs\\FA_unsat_carbons_mean_regplots.png', dpi=200, bbox_inches='tight', facecolor='white')\n",
    "# plt.savefig(r'..\\reports\\figures\\Figure_TGs\\FA_unsat_carbons_mean_regplots.pdf', dpi=200, bbox_inches='tight', facecolor='white')"
   ]
  },
  {
   "cell_type": "code",
   "execution_count": null,
   "id": "fb0801ae",
   "metadata": {},
   "outputs": [],
   "source": []
  },
  {
   "cell_type": "code",
   "execution_count": null,
   "id": "83948128",
   "metadata": {},
   "outputs": [],
   "source": []
  },
  {
   "cell_type": "code",
   "execution_count": null,
   "id": "b4de578e",
   "metadata": {},
   "outputs": [],
   "source": []
  },
  {
   "cell_type": "code",
   "execution_count": null,
   "id": "16ddf6ce",
   "metadata": {},
   "outputs": [],
   "source": []
  },
  {
   "cell_type": "code",
   "execution_count": null,
   "id": "e1e1f646",
   "metadata": {},
   "outputs": [],
   "source": []
  },
  {
   "cell_type": "code",
   "execution_count": null,
   "id": "8ca552ed",
   "metadata": {},
   "outputs": [],
   "source": []
  },
  {
   "cell_type": "code",
   "execution_count": null,
   "id": "cbcf8b35",
   "metadata": {},
   "outputs": [],
   "source": []
  },
  {
   "cell_type": "code",
   "execution_count": null,
   "id": "3885ea7f",
   "metadata": {},
   "outputs": [],
   "source": []
  },
  {
   "cell_type": "code",
   "execution_count": null,
   "id": "bb52bff8",
   "metadata": {},
   "outputs": [],
   "source": []
  },
  {
   "cell_type": "code",
   "execution_count": null,
   "id": "886b7a9d",
   "metadata": {},
   "outputs": [],
   "source": []
  },
  {
   "cell_type": "code",
   "execution_count": null,
   "id": "1456548c",
   "metadata": {},
   "outputs": [],
   "source": []
  },
  {
   "cell_type": "code",
   "execution_count": null,
   "id": "ba496550",
   "metadata": {},
   "outputs": [],
   "source": []
  },
  {
   "cell_type": "code",
   "execution_count": null,
   "id": "12b49d6d",
   "metadata": {},
   "outputs": [],
   "source": []
  },
  {
   "cell_type": "code",
   "execution_count": null,
   "id": "2a1559bb",
   "metadata": {},
   "outputs": [],
   "source": []
  },
  {
   "cell_type": "code",
   "execution_count": null,
   "id": "9bddaf63",
   "metadata": {},
   "outputs": [],
   "source": []
  },
  {
   "cell_type": "code",
   "execution_count": null,
   "id": "f992a3eb",
   "metadata": {},
   "outputs": [],
   "source": []
  },
  {
   "cell_type": "code",
   "execution_count": null,
   "id": "f8540eb6",
   "metadata": {},
   "outputs": [],
   "source": []
  },
  {
   "cell_type": "code",
   "execution_count": null,
   "id": "22d1097f",
   "metadata": {},
   "outputs": [],
   "source": []
  },
  {
   "cell_type": "code",
   "execution_count": null,
   "id": "510dfba1",
   "metadata": {},
   "outputs": [],
   "source": []
  },
  {
   "cell_type": "code",
   "execution_count": null,
   "id": "0e978d89",
   "metadata": {},
   "outputs": [],
   "source": []
  },
  {
   "cell_type": "code",
   "execution_count": null,
   "id": "ddb7abcc",
   "metadata": {},
   "outputs": [],
   "source": []
  },
  {
   "cell_type": "code",
   "execution_count": null,
   "id": "a4bfecdc",
   "metadata": {},
   "outputs": [],
   "source": []
  },
  {
   "cell_type": "code",
   "execution_count": null,
   "id": "59a0675a",
   "metadata": {},
   "outputs": [],
   "source": []
  },
  {
   "cell_type": "code",
   "execution_count": null,
   "id": "503b8659",
   "metadata": {},
   "outputs": [],
   "source": []
  },
  {
   "cell_type": "code",
   "execution_count": null,
   "id": "3d6563cb",
   "metadata": {},
   "outputs": [],
   "source": []
  }
 ],
 "metadata": {
  "kernelspec": {
   "display_name": "Python 3",
   "language": "python",
   "name": "python3"
  },
  "language_info": {
   "codemirror_mode": {
    "name": "ipython",
    "version": 3
   },
   "file_extension": ".py",
   "mimetype": "text/x-python",
   "name": "python",
   "nbconvert_exporter": "python",
   "pygments_lexer": "ipython3",
   "version": "3.7.10"
  }
 },
 "nbformat": 4,
 "nbformat_minor": 5
}
