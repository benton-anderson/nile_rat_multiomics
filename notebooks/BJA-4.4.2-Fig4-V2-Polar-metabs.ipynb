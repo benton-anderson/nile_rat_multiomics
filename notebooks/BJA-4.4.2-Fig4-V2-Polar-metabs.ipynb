{
 "cells": [
  {
   "cell_type": "code",
   "execution_count": 1,
   "id": "28064af1",
   "metadata": {},
   "outputs": [],
   "source": [
    "import json\n",
    "import importlib\n",
    "import os\n",
    "import sys\n",
    "sys.path.insert(1, os.path.join(sys.path[0], '..'))\n",
    "from src.utils import parse_lipid, parse_p_value, tight_bbox\n",
    "from src import plots\n",
    "importlib.reload(plots)\n",
    "\n",
    "import pandas as pd\n",
    "import numpy as np\n",
    "import matplotlib as mpl\n",
    "import matplotlib.pyplot as plt\n",
    "import matplotlib.patches as patches\n",
    "from matplotlib.colors import Normalize, TwoSlopeNorm, CenteredNorm\n",
    "import seaborn as sns\n",
    "plt.rcParams['svg.fonttype'] = 'none'\n",
    "plt.rcParams['pdf.use14corefonts'] = True\n",
    "plt.rcParams['axes.unicode_minus'] = False  # https://stackoverflow.com/questions/43102564/matplotlib-negative-numbers-on-tick-labels-displayed-as-boxes\n",
    "plt.style.use('seaborn-ticks')  # 'seaborn-ticks', 'seaborn-white', 'seaborn'\n",
    "# sns.set_style('white')\n",
    "\n",
    "from sklearn.preprocessing import StandardScaler\n",
    "import networkx as nx"
   ]
  },
  {
   "cell_type": "code",
   "execution_count": 2,
   "id": "784d5bd0",
   "metadata": {},
   "outputs": [],
   "source": [
    "colors = json.load(open(r'..\\data\\metadata\\color_schemes.json'))\n",
    "colors['Non-fasted'] = colors['RBG']\n",
    "colors['Fasted'] = colors['FBG']\n",
    "compound_superclasses = json.load(open('../data/metadata/compound_superclasses.json', 'r'))\n",
    "    \n",
    "data = pd.read_csv(r'../data/processed/combined_metabolites_data_with_model_params.csv').set_index('i')\n",
    "data_cols = data.filter(regex='_FBG|_RBG').columns\n",
    "fbg_cols = data.filter(regex='_FBG').columns\n",
    "rbg_cols = data.filter(regex='_RBG').columns\n",
    "\n",
    "ap = pd.read_excel(r'..\\data\\metadata\\animal_phenotypes.xlsx', index_col=0)\n",
    "fg = pd.read_csv(r'..\\data\\metadata\\combined_metab_lipid_file_grouping.csv', index_col=0)"
   ]
  },
  {
   "cell_type": "code",
   "execution_count": 3,
   "id": "29ddf3f4",
   "metadata": {},
   "outputs": [],
   "source": [
    "data['signif_interaction'] = data['qval_sampling:ogtt'] < 0.05\n",
    "data['signif_sampling'] = data['qval_sampling'] < 0.05\n",
    "gb_means = (data\n",
    "            .loc[:, data_cols]\n",
    "            .groupby(fg['bg_type'], axis=1)\n",
    "            .mean()\n",
    "           )\n",
    "\n",
    "data['fasted_mean'] = gb_means['FBG']\n",
    "data['fed_mean'] = gb_means['RBG']\n",
    "data['Log2 Fold Change'] = data['fed_mean'] - data['fasted_mean']\n",
    "\n",
    "data['Fed - Fasted slope'] = data['coef_fed'] - data['coef_fasted']\n",
    "data['signif_sampling'] = data['qval_sampling'] < 0.05\n",
    "data['signif_interact'] = data['qval_sampling:ogtt'] < 0.05\n",
    "data['log_qval_sampling'] = -np.log10(data['qval_sampling'])\n",
    "data['log_qval_ogtt'] = -np.log10(data['qval_ogtt'])\n",
    "data['log_qval_sampling:ogtt'] = -np.log10(data['qval_sampling:ogtt'])\n",
    "data['is_id'] = data['superclass'] != 'Unidentified'"
   ]
  },
  {
   "cell_type": "markdown",
   "id": "d3448d6c",
   "metadata": {},
   "source": [
    "# The polar metabolomics figure might be improved with some enrichment/network analysis\n",
    "## Generate data table for Metaboanalyst and draw figures"
   ]
  },
  {
   "cell_type": "markdown",
   "id": "5b87467f",
   "metadata": {},
   "source": [
    "## Enrichment node:\n",
    "1. can use Lipids or Metabolites in Concentration table\n",
    "1. Can do 2-category categorical or a continuous regression group\n",
    "\n",
    "## Pathway node:\n",
    "1. Compound list or Concentration table \n",
    "1. 2-category or continuous regression group\n",
    "\n",
    "## Joint-pathway node:\n",
    "1. Only usable with metabolites & genomic or transcriptomic data\n",
    "\n",
    "## Network node:\n",
    "1. Concentration table with Metabolites \n",
    "1. Multinomial categorical Groups"
   ]
  },
  {
   "cell_type": "code",
   "execution_count": 99,
   "id": "f6c0ca16",
   "metadata": {
    "scrolled": true
   },
   "outputs": [],
   "source": [
    "df = (data\n",
    "    .loc[(data['ID'] != 'Unidentified')]\n",
    "    .set_index('ID')\n",
    "    .loc[:, data_cols])\n",
    "df = 2**df\n",
    "df.rename({'4-Hydroxybutyric acid (GHB)': '4-Hydroxybutyric acid'}, inplace=True)\n",
    "metabs = df.loc[df.index.isin(data.loc[data['Type'] == 'metabolite', 'ID'])].T\n",
    "lipids = df.loc[df.index.isin(data.loc[data['Type'] == 'lipid', 'ID'])].T\n",
    "metabs.insert(0, 'Groups', None)\n",
    "lipids.insert(0, 'Groups', None)"
   ]
  },
  {
   "cell_type": "markdown",
   "id": "8067fa26",
   "metadata": {},
   "source": [
    "## Create list of metabolites we detect and are found in hmdb as a reference metabolome (AKA background database)"
   ]
  },
  {
   "cell_type": "code",
   "execution_count": 100,
   "id": "8131cf06",
   "metadata": {},
   "outputs": [],
   "source": [
    "metabs = metabs.drop([\n",
    "    'Pentose sugar', \n",
    "    'Hexose sugar',\n",
    "    'Anhydrohexose',\n",
    "    'N-Methyl-2-pyrrolidone',\n",
    "    'Methylaminopyrimidine',\n",
    "    '8-Hydroxyquinoline',\n",
    "    '5,5-Dimethylhydantoin',\n",
    "    '2-Mercaptoethanol',\n",
    "       ], axis=1)\n",
    "metabs.rename({\n",
    "    'Ethyl-beta-D-glucuronide': 'Ethyl glucuronide',\n",
    "    'Ascorbic acid 2-sulfate': 'Ascorbic acid',\n",
    "    'Indole-3-acrylic acid': 'Indoleacrylic acid',\n",
    "    'N3,N4-Dimethyl-L-arginine': 'Asymmetric dimethylarginine',\n",
    "    'N-Isovalerylglycine': 'Isovalerylglycine',\n",
    "    'Methylhistidine': '1-Methylhistidine',\n",
    "}, axis=1, inplace=True)\n",
    "metabs.columns\n",
    "\n",
    "(metabs\n",
    " .columns[1:]\n",
    " .to_frame()\n",
    " .to_clipboard('../data/metaboanalyst/metabolites_detected.csv', index=False, header=False, sep='\\n'))"
   ]
  },
  {
   "cell_type": "markdown",
   "id": "8cdc34b2",
   "metadata": {},
   "source": [
    "# Generate csv files for each analysis node"
   ]
  },
  {
   "cell_type": "markdown",
   "id": "ac80efec",
   "metadata": {},
   "source": [
    "## Enrichment node "
   ]
  },
  {
   "cell_type": "code",
   "execution_count": 114,
   "id": "33122458",
   "metadata": {
    "scrolled": true
   },
   "outputs": [],
   "source": [
    "df = metabs.copy()\n",
    "df['Groups'] = df.index.map(fg['bg_type'])\n",
    "df.to_csv('../data/metaboanalyst/enrichment/input_enr_sampling_metabs.csv')\n",
    "\n",
    "df = lipids.copy()\n",
    "df['Groups'] = df.index.map(fg['bg_type'])\n",
    "df.to_csv('../data/metaboanalyst/enrichment/input_enr_sampling_lipids.csv')\n",
    "\n",
    "df = metabs.copy()\n",
    "df['Groups'] = df.index.map(fg['ogtt'])\n",
    "df.to_csv('../data/metaboanalyst/enrichment/input_enr_ogtt_metabs.csv')\n",
    "\n",
    "df = metabs.copy()\n",
    "df['Groups'] = df.index.map(fg['ogtt'])\n",
    "df = df.loc[fg['bg_type'] == 'RBG']\n",
    "df.to_csv('../data/metaboanalyst/enrichment/input_enr_ogtt_metabs_fedonly.csv')\n",
    "\n",
    "df = metabs.copy()\n",
    "df['Groups'] = df.index.map(fg['ogtt'])\n",
    "df = df.loc[fg['bg_type'] == 'FBG']\n",
    "df.to_csv('../data/metaboanalyst/enrichment/input_enr_ogtt_metabs_fastedonly.csv')\n",
    "\n",
    "df = lipids.copy()\n",
    "df['Groups'] = df.index.map(fg['ogtt'])\n",
    "df = df.loc[fg['bg_type'] == 'RBG']\n",
    "df.to_csv('../data/metaboanalyst/enrichment/input_enr_ogtt_lipids.csv')\n",
    "\n",
    "df = lipids.copy()\n",
    "df['Groups'] = df.index.map(fg['ogtt'])\n",
    "df = df.loc[fg['bg_type'] == 'RBG']\n",
    "df.to_csv('../data/metaboanalyst/enrichment/input_enr_ogtt_lipids_fedonly.csv')\n",
    "\n",
    "df = lipids.copy()\n",
    "df['Groups'] = df.index.map(fg['ogtt'])\n",
    "df = df.loc[fg['bg_type'] == 'FBG']\n",
    "df.to_csv('../data/metaboanalyst/enrichment/input_enr_ogtt_lipids_fastedonly.csv')"
   ]
  },
  {
   "cell_type": "markdown",
   "id": "77b8619d",
   "metadata": {},
   "source": [
    "## Pathway node"
   ]
  },
  {
   "cell_type": "code",
   "execution_count": 102,
   "id": "c922f23e",
   "metadata": {},
   "outputs": [],
   "source": [
    "df = metabs.copy()\n",
    "df['Groups'] = df.index.map(fg['bg_type'])\n",
    "df.to_csv('../data/metaboanalyst/pathway/input_pathway_sampling_metabs.csv')\n",
    "\n",
    "df = metabs.copy()\n",
    "df['Groups'] = df.index.map(fg['ogtt'])\n",
    "df.to_csv('../data/metaboanalyst/pathway/input_pathway_ogtt_metabs.csv')"
   ]
  },
  {
   "cell_type": "markdown",
   "id": "7baef3e5",
   "metadata": {},
   "source": [
    "## Network node"
   ]
  },
  {
   "cell_type": "code",
   "execution_count": 103,
   "id": "f54f3416",
   "metadata": {},
   "outputs": [],
   "source": [
    "df = metabs.copy()\n",
    "df = df.loc[fg['bg_type'] == 'RBG']\n",
    "df['Groups'] = df.index.map(fg['animal'])\n",
    "df.to_csv('../data/metaboanalyst/network/input_network_fedonly_animalgroups_metabs.csv')"
   ]
  },
  {
   "cell_type": "markdown",
   "id": "5586347d",
   "metadata": {},
   "source": [
    "# The outputs from enrichment, pathway and network nodes are quite sparsely populated with our metabolite IDs in the sets (with few exceptions)\n",
    "# However the results suggest pathways that make sense, so write down the metabolite sets manually \n",
    "## Metaboanalyst is clunky because it doesn't save results online, closes your session after 10 minutes, and has scattered organization system for raw file downloads"
   ]
  },
  {
   "cell_type": "markdown",
   "id": "8e7d8115",
   "metadata": {},
   "source": [
    "# After going through Enrichment and Pathway Nodes with the (1) fed-only OGTT-grouped data and (2) the fasted vs. fed-grouped data, I only found 5 KEGG pathway nodes with decent # metabolites found, and 1 Blood-based disease signature pathway \n",
    "# Network node only returned a reasonable result using Debiased Sparse Partial Correlation (DSPC) network on the fed-only OGTT-grouped data\n",
    "## Using network node on fasted-vs-fed data opened up the other 5 network possibilities, but only 1 worked (KEGG Global metabolic network) and it was so big it was hard to get anything interesting out of it \n",
    "## These metabolite sets can be named and their metabolite components can be plotted in a connection graph based on the DSPC network graph file I downloaded at `~/data/metaboanalyst/network/.graphml` file"
   ]
  },
  {
   "cell_type": "code",
   "execution_count": 147,
   "id": "a5d2c5a8",
   "metadata": {},
   "outputs": [],
   "source": [
    "metab_sets = {\n",
    "    'KEGG_pathway': \n",
    "    {\n",
    "    'Glycine, serine and threonine metabolism': ['Choline', 'Betaine', 'Threonine', 'Glyceric acid', 'Creatine'],\n",
    "    'Valine, leucine and isoleucine biosynthesis': ['Threonine', 'Leucine', 'Isoleucine'],\n",
    "    'Glycerophospholipid metabolism': ['Choline', 'Glycerophosphocholine'],\n",
    "    'Arginine and proline metabolism': ['Arginine', 'Creatine', 'Proline', \n",
    "                                        'Glutamic acid', 'Ornithine', '4-Guanidinobutanoic acid'],\n",
    "    'Aminoacyl-tRNA biosynthesis': ['Asparagine', 'Histidine', 'Phenylalanine', 'Arginine', 'Glutamine',\n",
    "                                    'Alanine', 'Isoleucine', 'Leucine', 'Threonine', \n",
    "                                    'Tryptophan', 'Tyrosine', 'Proline', 'Glutamic acid',] \n",
    "    },\n",
    "    'Blood_disease_signature': \n",
    "    {'DIABETES MELLITUS (MODY), NON-INSULIN-DEPENDENT': ['Glucose', 'Trigonelline', '3-Hydroxybutyric acid',\n",
    "                                                         'Taurine', 'Glutamine', 'Tryptophan', 'Histidine',\n",
    "                                                         'Isoleucine', 'Leucine', 'Creatinine', 'Creatine']\n",
    "    }\n",
    "}"
   ]
  },
  {
   "cell_type": "code",
   "execution_count": 151,
   "id": "d51df5d6",
   "metadata": {
    "scrolled": true
   },
   "outputs": [
    {
     "ename": "TypeError",
     "evalue": "Failed to convert weight data encoding=\"UTF-8\"?> to type <class 'float'>.",
     "output_type": "error",
     "traceback": [
      "\u001b[1;31m---------------------------------------------------------------------------\u001b[0m",
      "\u001b[1;31mValueError\u001b[0m                                Traceback (most recent call last)",
      "\u001b[1;32m~\\anaconda3\\lib\\site-packages\\networkx\\readwrite\\edgelist.py\u001b[0m in \u001b[0;36mparse_edgelist\u001b[1;34m(lines, comments, delimiter, create_using, nodetype, data)\u001b[0m\n\u001b[0;32m    285\u001b[0m                 \u001b[1;32mtry\u001b[0m\u001b[1;33m:\u001b[0m\u001b[1;33m\u001b[0m\u001b[1;33m\u001b[0m\u001b[0m\n\u001b[1;32m--> 286\u001b[1;33m                     \u001b[0medge_value\u001b[0m \u001b[1;33m=\u001b[0m \u001b[0medge_type\u001b[0m\u001b[1;33m(\u001b[0m\u001b[0medge_value\u001b[0m\u001b[1;33m)\u001b[0m\u001b[1;33m\u001b[0m\u001b[1;33m\u001b[0m\u001b[0m\n\u001b[0m\u001b[0;32m    287\u001b[0m                 \u001b[1;32mexcept\u001b[0m \u001b[0mException\u001b[0m \u001b[1;32mas\u001b[0m \u001b[0me\u001b[0m\u001b[1;33m:\u001b[0m\u001b[1;33m\u001b[0m\u001b[1;33m\u001b[0m\u001b[0m\n",
      "\u001b[1;31mValueError\u001b[0m: could not convert string to float: 'encoding=\"UTF-8\"?>'",
      "\nThe above exception was the direct cause of the following exception:\n",
      "\u001b[1;31mTypeError\u001b[0m                                 Traceback (most recent call last)",
      "\u001b[1;32m<ipython-input-151-0972f3e85ea1>\u001b[0m in \u001b[0;36m<module>\u001b[1;34m\u001b[0m\n\u001b[1;32m----> 1\u001b[1;33m \u001b[0mnx\u001b[0m\u001b[1;33m.\u001b[0m\u001b[0mread_weighted_edgelist\u001b[0m\u001b[1;33m(\u001b[0m\u001b[1;34m'../data/metaboanalyst/network/fed_only_ogtt_groups_graph.graphml'\u001b[0m\u001b[1;33m)\u001b[0m\u001b[1;33m\u001b[0m\u001b[1;33m\u001b[0m\u001b[0m\n\u001b[0m",
      "\u001b[1;32m~\\anaconda3\\lib\\site-packages\\networkx\\readwrite\\edgelist.py\u001b[0m in \u001b[0;36mread_weighted_edgelist\u001b[1;34m(path, comments, delimiter, create_using, nodetype, encoding)\u001b[0m\n\u001b[0;32m    480\u001b[0m         \u001b[0mnodetype\u001b[0m\u001b[1;33m=\u001b[0m\u001b[0mnodetype\u001b[0m\u001b[1;33m,\u001b[0m\u001b[1;33m\u001b[0m\u001b[1;33m\u001b[0m\u001b[0m\n\u001b[0;32m    481\u001b[0m         \u001b[0mdata\u001b[0m\u001b[1;33m=\u001b[0m\u001b[1;33m(\u001b[0m\u001b[1;33m(\u001b[0m\u001b[1;34m\"weight\"\u001b[0m\u001b[1;33m,\u001b[0m \u001b[0mfloat\u001b[0m\u001b[1;33m)\u001b[0m\u001b[1;33m,\u001b[0m\u001b[1;33m)\u001b[0m\u001b[1;33m,\u001b[0m\u001b[1;33m\u001b[0m\u001b[1;33m\u001b[0m\u001b[0m\n\u001b[1;32m--> 482\u001b[1;33m         \u001b[0mencoding\u001b[0m\u001b[1;33m=\u001b[0m\u001b[0mencoding\u001b[0m\u001b[1;33m,\u001b[0m\u001b[1;33m\u001b[0m\u001b[1;33m\u001b[0m\u001b[0m\n\u001b[0m\u001b[0;32m    483\u001b[0m     )\n",
      "\u001b[1;32m~\\anaconda3\\lib\\site-packages\\networkx\\utils\\decorators.py\u001b[0m in \u001b[0;36mfunc\u001b[1;34m(_argmap__wrapper, *args, **kwargs)\u001b[0m\n\u001b[0;32m    793\u001b[0m \u001b[1;33m\u001b[0m\u001b[0m\n\u001b[0;32m    794\u001b[0m             \u001b[1;32mdef\u001b[0m \u001b[0mfunc\u001b[0m\u001b[1;33m(\u001b[0m\u001b[1;33m*\u001b[0m\u001b[0margs\u001b[0m\u001b[1;33m,\u001b[0m \u001b[0m__wrapper\u001b[0m\u001b[1;33m=\u001b[0m\u001b[1;32mNone\u001b[0m\u001b[1;33m,\u001b[0m \u001b[1;33m**\u001b[0m\u001b[0mkwargs\u001b[0m\u001b[1;33m)\u001b[0m\u001b[1;33m:\u001b[0m\u001b[1;33m\u001b[0m\u001b[1;33m\u001b[0m\u001b[0m\n\u001b[1;32m--> 795\u001b[1;33m                 \u001b[1;32mreturn\u001b[0m \u001b[0margmap\u001b[0m\u001b[1;33m.\u001b[0m\u001b[0m_lazy_compile\u001b[0m\u001b[1;33m(\u001b[0m\u001b[0m__wrapper\u001b[0m\u001b[1;33m)\u001b[0m\u001b[1;33m(\u001b[0m\u001b[1;33m*\u001b[0m\u001b[0margs\u001b[0m\u001b[1;33m,\u001b[0m \u001b[1;33m**\u001b[0m\u001b[0mkwargs\u001b[0m\u001b[1;33m)\u001b[0m\u001b[1;33m\u001b[0m\u001b[1;33m\u001b[0m\u001b[0m\n\u001b[0m\u001b[0;32m    796\u001b[0m \u001b[1;33m\u001b[0m\u001b[0m\n\u001b[0;32m    797\u001b[0m         \u001b[1;31m# standard function-wrapping stuff\u001b[0m\u001b[1;33m\u001b[0m\u001b[1;33m\u001b[0m\u001b[1;33m\u001b[0m\u001b[0m\n",
      "\u001b[1;32m~\\anaconda3\\lib\\site-packages\\networkx\\utils\\decorators.py\u001b[0m in \u001b[0;36margmap_read_edgelist_18\u001b[1;34m(path, comments, delimiter, create_using, nodetype, data, edgetype, encoding)\u001b[0m\n\u001b[0;32m      3\u001b[0m \u001b[1;32mfrom\u001b[0m \u001b[0mcontextlib\u001b[0m \u001b[1;32mimport\u001b[0m \u001b[0mcontextmanager\u001b[0m\u001b[1;33m\u001b[0m\u001b[1;33m\u001b[0m\u001b[0m\n\u001b[0;32m      4\u001b[0m \u001b[1;32mfrom\u001b[0m \u001b[0mpathlib\u001b[0m \u001b[1;32mimport\u001b[0m \u001b[0mPath\u001b[0m\u001b[1;33m\u001b[0m\u001b[1;33m\u001b[0m\u001b[0m\n\u001b[1;32m----> 5\u001b[1;33m \u001b[1;32mimport\u001b[0m \u001b[0mwarnings\u001b[0m\u001b[1;33m\u001b[0m\u001b[1;33m\u001b[0m\u001b[0m\n\u001b[0m\u001b[0;32m      6\u001b[0m \u001b[1;33m\u001b[0m\u001b[0m\n\u001b[0;32m      7\u001b[0m \u001b[1;32mimport\u001b[0m \u001b[0mnetworkx\u001b[0m \u001b[1;32mas\u001b[0m \u001b[0mnx\u001b[0m\u001b[1;33m\u001b[0m\u001b[1;33m\u001b[0m\u001b[0m\n",
      "\u001b[1;32m~\\anaconda3\\lib\\site-packages\\networkx\\readwrite\\edgelist.py\u001b[0m in \u001b[0;36mread_edgelist\u001b[1;34m(path, comments, delimiter, create_using, nodetype, data, edgetype, encoding)\u001b[0m\n\u001b[0;32m    377\u001b[0m         \u001b[0mcreate_using\u001b[0m\u001b[1;33m=\u001b[0m\u001b[0mcreate_using\u001b[0m\u001b[1;33m,\u001b[0m\u001b[1;33m\u001b[0m\u001b[1;33m\u001b[0m\u001b[0m\n\u001b[0;32m    378\u001b[0m         \u001b[0mnodetype\u001b[0m\u001b[1;33m=\u001b[0m\u001b[0mnodetype\u001b[0m\u001b[1;33m,\u001b[0m\u001b[1;33m\u001b[0m\u001b[1;33m\u001b[0m\u001b[0m\n\u001b[1;32m--> 379\u001b[1;33m         \u001b[0mdata\u001b[0m\u001b[1;33m=\u001b[0m\u001b[0mdata\u001b[0m\u001b[1;33m,\u001b[0m\u001b[1;33m\u001b[0m\u001b[1;33m\u001b[0m\u001b[0m\n\u001b[0m\u001b[0;32m    380\u001b[0m     )\n\u001b[0;32m    381\u001b[0m \u001b[1;33m\u001b[0m\u001b[0m\n",
      "\u001b[1;32m~\\anaconda3\\lib\\site-packages\\networkx\\readwrite\\edgelist.py\u001b[0m in \u001b[0;36mparse_edgelist\u001b[1;34m(lines, comments, delimiter, create_using, nodetype, data)\u001b[0m\n\u001b[0;32m    289\u001b[0m                         \u001b[1;34mf\"Failed to convert {edge_key} data {edge_value} \"\u001b[0m\u001b[1;33m\u001b[0m\u001b[1;33m\u001b[0m\u001b[0m\n\u001b[0;32m    290\u001b[0m                         \u001b[1;34mf\"to type {edge_type}.\"\u001b[0m\u001b[1;33m\u001b[0m\u001b[1;33m\u001b[0m\u001b[0m\n\u001b[1;32m--> 291\u001b[1;33m                     ) from e\n\u001b[0m\u001b[0;32m    292\u001b[0m                 \u001b[0medgedata\u001b[0m\u001b[1;33m.\u001b[0m\u001b[0mupdate\u001b[0m\u001b[1;33m(\u001b[0m\u001b[1;33m{\u001b[0m\u001b[0medge_key\u001b[0m\u001b[1;33m:\u001b[0m \u001b[0medge_value\u001b[0m\u001b[1;33m}\u001b[0m\u001b[1;33m)\u001b[0m\u001b[1;33m\u001b[0m\u001b[1;33m\u001b[0m\u001b[0m\n\u001b[0;32m    293\u001b[0m         \u001b[0mG\u001b[0m\u001b[1;33m.\u001b[0m\u001b[0madd_edge\u001b[0m\u001b[1;33m(\u001b[0m\u001b[0mu\u001b[0m\u001b[1;33m,\u001b[0m \u001b[0mv\u001b[0m\u001b[1;33m,\u001b[0m \u001b[1;33m**\u001b[0m\u001b[0medgedata\u001b[0m\u001b[1;33m)\u001b[0m\u001b[1;33m\u001b[0m\u001b[1;33m\u001b[0m\u001b[0m\n",
      "\u001b[1;31mTypeError\u001b[0m: Failed to convert weight data encoding=\"UTF-8\"?> to type <class 'float'>."
     ]
    }
   ],
   "source": [
    "nx.read_weighted_edgelist('../data/metaboanalyst/network/fed_only_ogtt_groups_graph.graphml')"
   ]
  },
  {
   "cell_type": "code",
   "execution_count": null,
   "id": "18f9e2a5",
   "metadata": {},
   "outputs": [],
   "source": [
    "nx.read"
   ]
  },
  {
   "cell_type": "code",
   "execution_count": 154,
   "id": "fe74f51a",
   "metadata": {},
   "outputs": [
    {
     "data": {
      "text/plain": [
       "NodeView(('Lactic Acid', 'Phenylalanine', 'Guanidinosuccinic acid', 'Indoleacrylic acid', 'Hydroxycinnamic acid', 'Tyrosine', '4-Hydroxybenzaldehyde', 'Tryptophan', 'Alanine', 'Proline', 'Isoleucine', '1-Methylhistidine', 'Leucine', 'Glucose', 'Acrylic acid', 'Trigonelline', 'Glyceric acid', 'Threonine', 'Beta-D-Glucopyranuronic acid', 'Gluconic acid', 'N-Acetylneuraminic acid', 'Urocanic acid', 'Taurine', 'Anserine', 'N-Acetylornithine', 'Ethyl glucuronide', '3-Hydroxybutyric acid', 'Stachydrine', 'Creatinine', 'Betaine', 'Beta alanine', 'alpha-Glycerylphosphorylcholine', 'Hippuric acid', 'Iditol', 'Serine', \"Adenosine 5'-monophosphate\", '4-Oxoproline', 'Ornithine', 'Pseudouridine', 'Threonic acid', 'Cytidine'))"
      ]
     },
     "execution_count": 154,
     "metadata": {},
     "output_type": "execute_result"
    }
   ],
   "source": [
    "g = nx.read_graphml('../data/metaboanalyst/network/fed_only_ogtt_groups_graph.graphml', force_multigraph=True)\n",
    "gnodes = pd.read_csv('../data/metaboanalyst/network/fed_only_ogtt_groups_graph_node_names.csv').set_index('Label')\n",
    "gnodes['node'] = list(g.nodes)\n",
    "gnodes\n",
    "\n",
    "g = nx.relabel_nodes(g, dict(zip(gnodes['node'], gnodes.index)))\n",
    "g.nodes"
   ]
  },
  {
   "cell_type": "code",
   "execution_count": 155,
   "id": "edeb442c",
   "metadata": {
    "scrolled": true
   },
   "outputs": [
    {
     "data": {
      "text/plain": [
       "MultiEdgeView([('Lactic Acid', 'Phenylalanine', 0), ('Lactic Acid', 'Guanidinosuccinic acid', 0), ('Lactic Acid', 'Hydroxycinnamic acid', 0), ('Lactic Acid', '4-Hydroxybenzaldehyde', 0), ('Lactic Acid', 'Leucine', 0), ('Lactic Acid', 'Trigonelline', 0), ('Lactic Acid', 'N-Acetylneuraminic acid', 0), ('Lactic Acid', 'alpha-Glycerylphosphorylcholine', 0), ('Lactic Acid', 'Threonic acid', 0), ('Phenylalanine', 'Hydroxycinnamic acid', 0), ('Phenylalanine', '4-Hydroxybenzaldehyde', 0), ('Phenylalanine', 'Alanine', 0), ('Phenylalanine', 'Leucine', 0), ('Phenylalanine', 'Trigonelline', 0), ('Phenylalanine', 'alpha-Glycerylphosphorylcholine', 0), ('Phenylalanine', 'Hippuric acid', 0), ('Phenylalanine', 'Threonic acid', 0), ('Guanidinosuccinic acid', 'Proline', 0), ('Guanidinosuccinic acid', 'Taurine', 0), ('Guanidinosuccinic acid', 'Threonic acid', 0), ('Indoleacrylic acid', 'N-Acetylornithine', 0), ('Indoleacrylic acid', 'Beta alanine', 0), ('Indoleacrylic acid', 'Pseudouridine', 0), ('Hydroxycinnamic acid', '4-Hydroxybenzaldehyde', 0), ('Hydroxycinnamic acid', 'Alanine', 0), ('Hydroxycinnamic acid', 'Proline', 0), ('Hydroxycinnamic acid', 'Leucine', 0), ('Hydroxycinnamic acid', 'Trigonelline', 0), ('Hydroxycinnamic acid', 'alpha-Glycerylphosphorylcholine', 0), ('Hydroxycinnamic acid', 'Hippuric acid', 0), ('Hydroxycinnamic acid', 'Threonic acid', 0), ('Tyrosine', 'Alanine', 0), ('Tyrosine', 'Isoleucine', 0), ('Tyrosine', 'Acrylic acid', 0), ('Tyrosine', 'Hippuric acid', 0), ('4-Hydroxybenzaldehyde', 'Alanine', 0), ('4-Hydroxybenzaldehyde', 'Leucine', 0), ('4-Hydroxybenzaldehyde', 'Trigonelline', 0), ('4-Hydroxybenzaldehyde', 'alpha-Glycerylphosphorylcholine', 0), ('4-Hydroxybenzaldehyde', 'Threonic acid', 0), ('Tryptophan', 'Gluconic acid', 0), ('Tryptophan', 'Creatinine', 0), ('Tryptophan', '4-Oxoproline', 0), ('Alanine', 'Isoleucine', 0), ('Alanine', 'Leucine', 0), ('Alanine', 'Acrylic acid', 0), ('Alanine', 'Trigonelline', 0), ('Alanine', 'Glyceric acid', 0), ('Alanine', 'alpha-Glycerylphosphorylcholine', 0), ('Alanine', 'Hippuric acid', 0), ('Alanine', 'Cytidine', 0), ('Proline', 'Leucine', 0), ('Proline', 'N-Acetylneuraminic acid', 0), ('Proline', 'Serine', 0), ('Isoleucine', 'Acrylic acid', 0), ('Isoleucine', 'Urocanic acid', 0), ('Isoleucine', 'Ornithine', 0), ('1-Methylhistidine', 'Trigonelline', 0), ('1-Methylhistidine', 'alpha-Glycerylphosphorylcholine', 0), ('1-Methylhistidine', 'Threonic acid', 0), ('Leucine', 'Trigonelline', 0), ('Leucine', 'N-Acetylneuraminic acid', 0), ('Leucine', 'alpha-Glycerylphosphorylcholine', 0), ('Leucine', 'Hippuric acid', 0), ('Leucine', 'Threonic acid', 0), ('Leucine', 'Cytidine', 0), ('Glucose', 'Hippuric acid', 0), ('Acrylic acid', 'Urocanic acid', 0), ('Acrylic acid', 'Betaine', 0), ('Acrylic acid', 'Hippuric acid', 0), ('Acrylic acid', 'Ornithine', 0), ('Trigonelline', 'alpha-Glycerylphosphorylcholine', 0), ('Trigonelline', 'Hippuric acid', 0), ('Trigonelline', 'Threonic acid', 0), ('Glyceric acid', 'Hippuric acid', 0), ('Threonine', 'Urocanic acid', 0), ('Threonine', 'Ornithine', 0), ('Beta-D-Glucopyranuronic acid', 'Iditol', 0), ('Gluconic acid', 'Creatinine', 0), ('Gluconic acid', 'Iditol', 0), ('N-Acetylneuraminic acid', 'Iditol', 0), ('Urocanic acid', 'Betaine', 0), ('Urocanic acid', 'Ornithine', 0), ('Taurine', 'Anserine', 0), ('Anserine', 'Stachydrine', 0), ('N-Acetylornithine', 'Stachydrine', 0), ('Ethyl glucuronide', 'Serine', 0), ('3-Hydroxybutyric acid', \"Adenosine 5'-monophosphate\", 0), ('Stachydrine', \"Adenosine 5'-monophosphate\", 0), ('Creatinine', '4-Oxoproline', 0), ('Betaine', 'Ornithine', 0), ('Beta alanine', 'Pseudouridine', 0), ('alpha-Glycerylphosphorylcholine', 'Threonic acid', 0), ('Hippuric acid', 'Cytidine', 0)])"
      ]
     },
     "execution_count": 155,
     "metadata": {},
     "output_type": "execute_result"
    }
   ],
   "source": [
    "g.edges"
   ]
  },
  {
   "cell_type": "code",
   "execution_count": 149,
   "id": "fa17c9e5",
   "metadata": {},
   "outputs": [
    {
     "data": {
      "text/plain": [
       "Index([], dtype='object', name='Label')"
      ]
     },
     "execution_count": 149,
     "metadata": {},
     "output_type": "execute_result"
    }
   ],
   "source": [
    "nodelist"
   ]
  },
  {
   "cell_type": "code",
   "execution_count": 150,
   "id": "5fdd7103",
   "metadata": {},
   "outputs": [
    {
     "data": {
      "image/png": "[encoded data removed]",
      "text/plain": [
       "<Figure size 1000x1000 with 1 Axes>"
      ]
     },
     "metadata": {},
     "output_type": "display_data"
    }
   ],
   "source": [
    "# nodelist = gnodes.loc[gnodes['Degree'] > 6].index\n",
    "# nodelist = gnodes.loc[gnodes['Betweenness'] > 0].index\n",
    "nodelist = gnodes.loc[gnodes.index.isin(\n",
    "    metab_sets['KEGG_pathway'][ 'Aminoacyl-tRNA biosynthesis'])].index\n",
    "subgraph = g.subgraph(nodelist)\n",
    "\n",
    "fig, ax = plt.subplots(figsize=(4, 4), dpi=250)\n",
    "nx.draw_networkx(\n",
    "    subgraph,\n",
    "    pos=nx.spring_layout(subgraph),\n",
    "    font_size=3,\n",
    "    nodelist=nodelist,\n",
    "    node_size=100, node_color='lightblue',\n",
    ")\n",
    "sns.despine(bottom=True, left=True)"
   ]
  },
  {
   "cell_type": "code",
   "execution_count": null,
   "id": "b018ced1",
   "metadata": {},
   "outputs": [],
   "source": []
  },
  {
   "cell_type": "code",
   "execution_count": null,
   "id": "252f818d",
   "metadata": {},
   "outputs": [],
   "source": []
  },
  {
   "cell_type": "code",
   "execution_count": null,
   "id": "6e1984fc",
   "metadata": {},
   "outputs": [],
   "source": []
  },
  {
   "cell_type": "code",
   "execution_count": null,
   "id": "94502905",
   "metadata": {},
   "outputs": [],
   "source": []
  },
  {
   "cell_type": "markdown",
   "id": "6b999b9f",
   "metadata": {},
   "source": [
    "# Older analysis (testing out metaboanalyst results) below"
   ]
  },
  {
   "cell_type": "code",
   "execution_count": 104,
   "id": "4bb85ff8",
   "metadata": {
    "scrolled": true
   },
   "outputs": [
    {
     "data": {
      "text/plain": [
       "NodeView(('Alanine', 'Pentose sugar', 'Trigonelline', 'Threonine', 'Ornithine', 'Hydroxycinnamic acid', 'Indole-3-acrylic acid', 'Leucine', 'Isoleucine', 'Proline', 'Quinic acid', 'Acrylic acid', 'Phenylalanine', 'Hippuric acid', 'Hydrocinnamic acid', 'Choline', '4-Hydroxybenzaldehyde', 'Guanidinosuccinic acid', 'Tyrosine', 'Asparagine', 'Glucose', 'Lactic Acid', 'Tryptophan', 'Creatine', 'alpha-Glycerylphosphorylcholine', 'Threonic acid', 'N-Acetylneuraminic acid', 'N-Acetylornithine', 'N-Acetyl-L-aspartic acid', 'Gluconic acid', 'Anhydrohexose', 'Pipecolic acid', 'Nicotinamide 1-oxide', '3-Methylhistidine', 'Stachydrine', 'Ribose', 'Pseudouridine', 'Hexose sugar', 'Nicotinamide', 'Creatinine', 'Phenylacetylglycine', 'Carnitine', 'Histidine', 'Ergothioneine', 'Citramalic acid', 'Betaine', 'Anserine', '5,5-Dimethylhydantoin', '4-Hydroxybutyric acid'))"
      ]
     },
     "execution_count": 104,
     "metadata": {},
     "output_type": "execute_result"
    }
   ],
   "source": [
    "g = nx.read_graphml('../data/processed/metaboanalyst_graph.graphml')\n",
    "\n",
    "gnodes = pd.read_csv('../data/processed/metaboanalyst_graph_node_table.csv').set_index('Label')\n",
    "gnodes['node'] = list(g.nodes)\n",
    "gnodes\n",
    "\n",
    "g = nx.relabel_nodes(g, dict(zip(gnodes['node'], gnodes.index)))\n",
    "g.nodes"
   ]
  },
  {
   "cell_type": "code",
   "execution_count": 120,
   "id": "83ea9592",
   "metadata": {},
   "outputs": [
    {
     "data": {
      "image/png": "[encoded data removed]",
      "text/plain": [
       "<Figure size 1000x1000 with 1 Axes>"
      ]
     },
     "metadata": {},
     "output_type": "display_data"
    }
   ],
   "source": [
    "nodelist = gnodes.loc[gnodes['Degree'] > 6].index\n",
    "# nodelist = gnodes.loc[gnodes['Betweenness'] > 0].index\n",
    "subgraph = g.subgraph(nodelist)\n",
    "\n",
    "fig, ax = plt.subplots(figsize=(4, 4), dpi=250)\n",
    "nx.draw_networkx(\n",
    "    subgraph,\n",
    "    pos=nx.spring_layout(subgraph),\n",
    "    font_size=3,\n",
    "    nodelist=nodelist,\n",
    "    node_size=100, node_color='lightblue',\n",
    ")\n",
    "sns.despine(bottom=True, left=True)"
   ]
  },
  {
   "cell_type": "code",
   "execution_count": 10,
   "id": "a5e34500",
   "metadata": {},
   "outputs": [
    {
     "data": {
      "text/plain": [
       "array(['Urocanic acid', 'Uridine', 'Uric acid', 'Tyrosine', 'Tryptophan',\n",
       "       'Trigonelline', 'Indole-3-acrylic acid', 'Threonine',\n",
       "       'Threonic acid', 'Taurine', 'Stachydrine', 'Serine', 'Ribose',\n",
       "       'Quinic acid', 'Pseudouridine', 'Proline', 'Pipecolic acid',\n",
       "       'Phenylalanine', 'Phenylacetylglycine', 'Pentose sugar',\n",
       "       'Ornithine', 'Nicotinamide 1-oxide', 'Nicotinamide',\n",
       "       'N6,N6,N6-Trimethyl-L-lysine', 'N3,N4-Dimethyl-L-arginine',\n",
       "       'N-Methyl-2-pyrrolidone', 'N-Isovalerylglycine',\n",
       "       'N-Acetylornithine', 'N-Acetylneuraminic acid',\n",
       "       'N-Acetyl-L-aspartic acid', 'Methylhistidine',\n",
       "       'Methylaminopyrimidine', 'Leucine', 'Lactic Acid', 'Isoleucine',\n",
       "       'Hydroxycinnamic acid', 'Hydrocinnamic acid', 'Histidine',\n",
       "       'Hippuric acid', 'Iditol', 'Hexose sugar',\n",
       "       'Guanidinosuccinic acid', 'Glyceric acid', 'Glutamine',\n",
       "       'Glutamic acid', 'Glucose', 'Gluconic acid',\n",
       "       'Ethyl-beta-D-glucuronide', 'Ergothioneine', 'Cytidine',\n",
       "       'Creatinine', 'Creatine', 'Citramalic acid', 'Choline',\n",
       "       'Carnitine', 'Betaine', 'Beta-D-Glucopyranuronic acid',\n",
       "       'Beta alanine', 'Asparagine', 'Ascorbic acid 2-sulfate',\n",
       "       'Arginine', 'Anserine', 'Anhydrohexose',\n",
       "       'alpha-Glycerylphosphorylcholine', 'Alanine',\n",
       "       \"Adenosine 5'-monophosphate\", 'Acrylic acid',\n",
       "       'Acetyl-β-methylcholine', '8-Hydroxyquinoline',\n",
       "       '5,5-Dimethylhydantoin', '4-Oxoproline',\n",
       "       '4-Hydroxybutyric acid (GHB)', '4-Hydroxybenzaldehyde',\n",
       "       '4-Guanidinobutyric acid', '3-Methylhistidine',\n",
       "       '3-Indoxyl sulphate', '3-Hydroxybutyric acid',\n",
       "       '2-Naphthalenesulfonic acid', '2-Mercaptoethanol',\n",
       "       '1,5-Anhydro-D-glucitol'], dtype=object)"
      ]
     },
     "execution_count": 10,
     "metadata": {},
     "output_type": "execute_result"
    }
   ],
   "source": [
    "data.loc[(data['Type'] == 'metabolite') & (data['ID'] != 'Unidentified'), 'ID'].values#.to_clipboard()"
   ]
  },
  {
   "cell_type": "code",
   "execution_count": null,
   "id": "7b82782c",
   "metadata": {},
   "outputs": [],
   "source": [
    "fig, axs = plt.subplot_mosaic(\n",
    "    '''\n",
    "    .AAABB\n",
    "    .AAABB\n",
    "    x.CCCD\n",
    "    ..CCCE\n",
    "    ''',\n",
    "    dpi=150, figsize=(8,8), facecolor='white',\n",
    "    gridspec_kw=dict(wspace=1.2, hspace=1.1, \n",
    "                     width_ratios=[1, 0.1, 4, 4, 4, 7],\n",
    "                     height_ratios=[1, 1, 1, 1]),\n",
    ")\n",
    "\n",
    "axvol = plots.volcano(x='Log2 Fold Change', y='log_qval_sampling', \n",
    "                      df=data, metab_type='lipid', ax=axs['A'], legend=True)\n",
    "axvol.legend(loc=(-1, 0))\n",
    "axslopes = plots.fasted_fed_slope('lipid', alpha=0.8, ax=axs['B'])\n",
    "axvol.tick_params(length=3)\n",
    "axslopes.tick_params(length=3)\n",
    "\n",
    "ax = make_carbon_unsat_plot('TG', 0.18, ax=axs['C'], cax=axs['x'])\n",
    "num_tg = ids.loc[ids['molec_class'] == 'TG'].shape[0]\n",
    "axs['C'].set_title(f'TG  n={num_tg}', fontsize=10, pad=0)\n",
    "for xy, width, height in [\n",
    "#     ((45.5, -0.5), 13, 3), ((45.5, 2.5), 15, 3), ((51.3, 5.5), 7.5, 4), \n",
    "    ((57.3, 9.5), 9, 9)\n",
    "]:\n",
    "    ax.add_patch(patches.Rectangle(xy, width, height, linewidth=1, edgecolor='0.1', facecolor='none'))\n",
    "\n",
    "for unsat_low, unsat_high, subplot in [\n",
    "    (0, 99, 'E'), \n",
    "#     (0, 2, 'C'), (3, 5, 'D'), (6, 9, 'E'), \n",
    "    (10, 99, 'D')\n",
    "]:\n",
    "    plot_quant_vs_ogtt(lipid_means(unsat_low, unsat_high), x='ogtt', y='quant', palette=colors, \n",
    "                       animal_lines=False, xlabel='OGTT glucose AUC', ylabel='Mean log2 quant.', \n",
    "                       scatter_kws={'s': 14, 'edgecolor': '0.2', 'linewidth': 0.25, 'zorder': 10}, \n",
    "                       line_kws={'linewidth': 1}, ax=axs[subplot])\n",
    "fs=9   \n",
    "axs['B'].set_xlabel('Non-fasted regression slope')\n",
    "axs['B'].set_ylabel('Fasted regression slope')\n",
    "axs['D'].legend(loc=(1, 0), handles=axs['D'].get_legend_handles_labels()[0], labels=['Fasted', 'Non-fasted'],\n",
    "                markerscale=3,)\n",
    "axs['D'].tick_params(length=3)\n",
    "axs['D'].set_yticks([19, 21, 23], fontsize=fs)\n",
    "axs['D'].set_xticks([20000, 40000, 60000], ['20k', '40k', '60k'], fontsize=fs)\n",
    "axs['D'].set_ylabel('Mean log2 quant.', fontsize=fs)\n",
    "axs['D'].set_xlabel('OGTT glucose AUC', fontsize=fs)\n",
    "axs['E'].tick_params(length=3)\n",
    "axs['E'].set_yticks([21, 23, 25], fontsize=fs)\n",
    "axs['E'].set_xticks([20000, 40000, 60000], ['20k', '40k', '60k'], fontsize=fs)\n",
    "axs['E'].set_ylabel('Mean log2 quant.', fontsize=fs)\n",
    "axs['E'].set_xlabel('OGTT glucose AUC', fontsize=fs)\n",
    "# handles, labels = axs['B'].get_legend_handles_labels()\n",
    "# axs['B'].legend(handles=handles, labels=['Fasted', 'Non-fasted'], loc=(-1.4, 0.5), markerscale=2, title='Sampling')\n",
    "axs['x'].text(s='Fasted\\nHigher', x=0.5, y=-0.05, transform=axs['x'].transAxes, ha='center', va='top')\n",
    "# axs['x'].yaxis.set_label_position('left')\n",
    "\n",
    "for ax_letter, ax in axs.items():\n",
    "    if ax_letter == 'x':\n",
    "        continue\n",
    "    bb = tight_bbox(ax)\n",
    "    ax.text(s=ax_letter, x=bb.x0-0.002, y=bb.y1+0.01, fontweight='bold', transform=fig.transFigure)\n",
    "\n",
    "# plt.savefig(r'..\\reports\\figures\\Figure_TGs\\FA_unsat_carbons_mean_regplots.png', dpi=200, bbox_inches='tight', facecolor='white')\n",
    "# plt.savefig(r'..\\reports\\figures\\Figure_TGs\\FA_unsat_carbons_mean_regplots.pdf', dpi=200, bbox_inches='tight', facecolor='white')"
   ]
  },
  {
   "cell_type": "code",
   "execution_count": null,
   "id": "51290dd0",
   "metadata": {},
   "outputs": [],
   "source": []
  },
  {
   "cell_type": "code",
   "execution_count": null,
   "id": "610aa45f",
   "metadata": {},
   "outputs": [],
   "source": []
  },
  {
   "cell_type": "code",
   "execution_count": null,
   "id": "3b512a0b",
   "metadata": {},
   "outputs": [],
   "source": []
  },
  {
   "cell_type": "code",
   "execution_count": null,
   "id": "91f8b199",
   "metadata": {},
   "outputs": [],
   "source": []
  },
  {
   "cell_type": "code",
   "execution_count": null,
   "id": "fe6aab20",
   "metadata": {},
   "outputs": [],
   "source": []
  },
  {
   "cell_type": "code",
   "execution_count": null,
   "id": "9ead502b",
   "metadata": {},
   "outputs": [],
   "source": []
  },
  {
   "cell_type": "code",
   "execution_count": null,
   "id": "1a878812",
   "metadata": {},
   "outputs": [],
   "source": []
  },
  {
   "cell_type": "code",
   "execution_count": null,
   "id": "06fa3f16",
   "metadata": {},
   "outputs": [],
   "source": []
  },
  {
   "cell_type": "code",
   "execution_count": null,
   "id": "f0b96662",
   "metadata": {},
   "outputs": [],
   "source": []
  },
  {
   "cell_type": "code",
   "execution_count": null,
   "id": "f472b6df",
   "metadata": {},
   "outputs": [],
   "source": []
  },
  {
   "cell_type": "code",
   "execution_count": null,
   "id": "521cc9e4",
   "metadata": {},
   "outputs": [],
   "source": []
  },
  {
   "cell_type": "code",
   "execution_count": null,
   "id": "82da9942",
   "metadata": {},
   "outputs": [],
   "source": []
  },
  {
   "cell_type": "code",
   "execution_count": null,
   "id": "38dc6ecd",
   "metadata": {},
   "outputs": [],
   "source": []
  },
  {
   "cell_type": "code",
   "execution_count": null,
   "id": "f973fc14",
   "metadata": {},
   "outputs": [],
   "source": []
  },
  {
   "cell_type": "code",
   "execution_count": null,
   "id": "cdc9835f",
   "metadata": {},
   "outputs": [],
   "source": []
  },
  {
   "cell_type": "code",
   "execution_count": null,
   "id": "04f9f25e",
   "metadata": {},
   "outputs": [],
   "source": []
  },
  {
   "cell_type": "code",
   "execution_count": null,
   "id": "6bcd50e2",
   "metadata": {},
   "outputs": [],
   "source": []
  },
  {
   "cell_type": "code",
   "execution_count": null,
   "id": "633f4f00",
   "metadata": {},
   "outputs": [],
   "source": []
  },
  {
   "cell_type": "code",
   "execution_count": null,
   "id": "30c2ca29",
   "metadata": {},
   "outputs": [],
   "source": []
  },
  {
   "cell_type": "code",
   "execution_count": null,
   "id": "63e60e12",
   "metadata": {},
   "outputs": [],
   "source": []
  },
  {
   "cell_type": "code",
   "execution_count": null,
   "id": "1299234b",
   "metadata": {},
   "outputs": [],
   "source": []
  },
  {
   "cell_type": "code",
   "execution_count": null,
   "id": "a291b3e1",
   "metadata": {},
   "outputs": [],
   "source": []
  },
  {
   "cell_type": "code",
   "execution_count": null,
   "id": "b311a0bb",
   "metadata": {},
   "outputs": [],
   "source": []
  },
  {
   "cell_type": "code",
   "execution_count": null,
   "id": "b3989a7d",
   "metadata": {},
   "outputs": [],
   "source": []
  },
  {
   "cell_type": "code",
   "execution_count": null,
   "id": "37ffd8f7",
   "metadata": {},
   "outputs": [],
   "source": []
  }
 ],
 "metadata": {
  "kernelspec": {
   "display_name": "Python 3",
   "language": "python",
   "name": "python3"
  },
  "language_info": {
   "codemirror_mode": {
    "name": "ipython",
    "version": 3
   },
   "file_extension": ".py",
   "mimetype": "text/x-python",
   "name": "python",
   "nbconvert_exporter": "python",
   "pygments_lexer": "ipython3",
   "version": "3.7.10"
  }
 },
 "nbformat": 4,
 "nbformat_minor": 5
}
