{
 "cells": [
  {
   "cell_type": "code",
   "execution_count": 92,
   "id": "a48c4981",
   "metadata": {},
   "outputs": [],
   "source": [
    "import pandas as pd\n",
    "import csv\n",
    "from pathlib import Path\n",
    "import sys"
   ]
  },
  {
   "cell_type": "code",
   "execution_count": 6,
   "id": "1b584181",
   "metadata": {
    "scrolled": true
   },
   "outputs": [],
   "source": [
    "a = pd.read_csv(r'../data/search/CD33/Nilerat_lipids_CD33_aligned.csv')\n",
    "u = pd.read_csv(r'../data/search/CD33/Nilerat_lipids_CD33_unaligned.csv')"
   ]
  },
  {
   "cell_type": "code",
   "execution_count": 38,
   "id": "8f9fb514",
   "metadata": {},
   "outputs": [],
   "source": [
    "def get_headers1(line):\n",
    "    d = {}\n",
    "    for h in ['Checked', 'Name', 'Calc. MW','RT [min]', 'Area (Max.)', 'MS2'] :\n",
    "        d[h] = line.index(h)\n",
    "    for h in line:\n",
    "        if 'Area: ' in h:\n",
    "            d[h] = line.index(h)\n",
    "    return d\n",
    "\n",
    "def get_headers2(line):\n",
    "    d = {}\n",
    "    for h in ['Checked', 'Calc. MW', 'RT [min]', 'FWHM [min]', 'Max. # MI', '# Adducts', \n",
    "              'Area (All Ions)', 'Study File ID']:\n",
    "        d[h] = line.index(h)\n",
    "    return d\n",
    "\n",
    "def get_headers3(line):\n",
    "    d = {}\n",
    "    for h in ['Checked', 'Ion', 'Charge', 'Molecular Weight', 'm/z', 'RT [min]', 'FWHM [min]', \n",
    "              '# MI', 'Area', 'Parent Area [%]', 'Study File ID']:\n",
    "        d[h] = line.index(h)\n",
    "    return d\n",
    "\n",
    "def get_unaligned_headers(line):\n",
    "    d = {}\n",
    "    for h in ['Checked', 'Ion', 'Charge', 'Molecular Weight', 'm/z', 'RT [min]',\n",
    "              'FWHM [min]', '# MI', 'Area', 'Parent Area [%]', 'Study File ID'] :\n",
    "        d[h] = line.index(h)\n",
    "    return d  "
   ]
  },
  {
   "cell_type": "markdown",
   "id": "17aec08f",
   "metadata": {},
   "source": [
    "Checked\tName\tMolecular Weight\tRT [min]\tArea (Max.)\tMS2\n",
    "\n",
    "Checked\tName\tMolecular Weight\tRT [min]\tArea (Max.)\tMS2\n",
    "\n",
    "Checked\tMolecular Weight\tRT [min]\tFWHM [min]\tMax. # MI\t# Adducts\tArea (All Ions)\tStudy File ID\n",
    "\n",
    "Checked\tMolecular Weight\tRT [min]\tFWHM [min]\tMax. # MI\t# Adducts\tArea\tStudy File ID\n",
    "\n",
    "Checked\tIon\tCharge\tMolecular Weight\tm/z\tRT [min]\tFWHM [min]\t# MI\tArea\tParent Area [%]\tStudy File ID\n",
    "\n",
    "Checked\tIon\tCharge\tMolecular Weight\tm/z\tRT [min]\tFWHM [min]\t# MI\tArea\tParent Area [%]\tStudy File ID\n"
   ]
  },
  {
   "cell_type": "code",
   "execution_count": 102,
   "id": "e48cb03a",
   "metadata": {
    "scrolled": true
   },
   "outputs": [],
   "source": [
    "def convert_cd33(filepath, is_aligned: bool, outfilename: str=None):\n",
    "    filepath = Path(filepath)\n",
    "    if outfilename is None:\n",
    "        outfilepath = filepath.parent / (filepath.stem + '_CD33converted' + filepath.suffix)\n",
    "    else:\n",
    "        if '.csv' not in outfilename:\n",
    "            outfilename += '.csv'\n",
    "        outfilepath = filepath.parent / outfilename\n",
    "    if is_aligned: \n",
    "        with open(filepath, encoding='utf8') as inf:\n",
    "            with open(outfilepath, 'w', encoding='utf8', newline='') as out:\n",
    "                r = csv.reader(inf)\n",
    "                w = csv.writer(out)\n",
    "                # Get indexes of headers\n",
    "                first_line = next(r)\n",
    "                h1 = get_headers1(first_line) \n",
    "                # Get headers2 and headers3\n",
    "                for line in r:\n",
    "                    if line[0] == '' and line[1] == 'Tags':\n",
    "                        h2 = get_headers2(line)\n",
    "                    if line[1] == '' and line[2] == 'Tags':\n",
    "                        h3 = get_headers3(line)\n",
    "                        break\n",
    "                mod_h2 = list(h2.keys())\n",
    "                for i, h in enumerate(mod_h2):\n",
    "                    if h == 'Calc. MW':\n",
    "                        mod_h2[i] = 'Molecular Weight'\n",
    "                    if h == 'Area (All Ions)':\n",
    "                        mod_h2[i] = 'Area'\n",
    "                inf.seek(0)  # Reset reader position to top of file\n",
    "                r = csv.reader(inf)  # Reset the csv reader\n",
    "                for i, line in enumerate(r):\n",
    "                    # Compound header\n",
    "                    if 'Tags' in line[0]:\n",
    "                        w.writerow([('Molecular Weight' if 'Calc. MW' in key else key) for key in h1.keys()] + [''])\n",
    "                    # Compound data\n",
    "                    elif line[0] == '' and line[1] == 'FALSE':\n",
    "                        w.writerow([line[i] for i in h1.values()] + [''])\n",
    "                    # Compound per File header:\n",
    "                    elif line[0] == '' and line[1] == 'Tags':\n",
    "                        w.writerow([''] + mod_h2 + [''])\n",
    "                    # Compound per File data:\n",
    "                    elif line[1] == '' and line[2] == 'FALSE':\n",
    "                        w.writerow([''] + [line[i] for i in h2.values()] + [''])\n",
    "                    # Feature header:\n",
    "                    elif line[1] == '' and line[2] == 'Tags':\n",
    "                        w.writerow(['', ''] + list(h3.keys()) + [''])\n",
    "                    # Feature data:\n",
    "                    elif line[2] == '':\n",
    "                        w.writerow(['', ''] + [line[i] for i in h3.values()] + [''])\n",
    "                    else:\n",
    "                        raise ValueError(f'line {i} was not written\\n' + str(line))\n",
    "    else: \n",
    "        with open(filepath, encoding='utf8') as inf:\n",
    "            with open(outfilepath, 'w', encoding='utf8', newline='') as out:\n",
    "                r = csv.reader(inf)\n",
    "                w = csv.writer(out)\n",
    "                # Get indexes of headers\n",
    "                first_line = next(r)\n",
    "                header = get_unaligned_headers(first_line) \n",
    "                w.writerow(list(header.keys()) + [''])\n",
    "                for line in r:\n",
    "                    w.writerow([line[i] for i in header.values()] + [''])\n",
    "        "
   ]
  },
  {
   "cell_type": "code",
   "execution_count": 103,
   "id": "50f9202d",
   "metadata": {},
   "outputs": [],
   "source": [
    "aligned = r'../data/search/CD33/Nilerat_lipids_CD33_aligned.csv'\n",
    "unaligned = r'../data/search/CD33/Nilerat_lipids_CD33_unaligned.csv'\n",
    "\n",
    "convert_cd33(aligned, True)\n",
    "convert_cd33(unaligned, False)"
   ]
  },
  {
   "cell_type": "markdown",
   "id": "5a48d962",
   "metadata": {},
   "source": [
    "## Unaligned file CD 3.3 converter\n",
    "\n",
    "Checked\tIon\tCharge\tMolecular Weight\tm/z\tRT [min]\tFWHM [min]\t# MI\tArea\tParent Area [%]\tStudy File ID\n",
    "\n",
    "\n",
    "Checked\tIon\tCharge\tMolecular Weight\tm/z\tRT [min]\tFWHM [min]\t# MI\tArea\tParent Area [%]\tStudy File ID\n"
   ]
  },
  {
   "cell_type": "code",
   "execution_count": 69,
   "id": "e7d20430",
   "metadata": {},
   "outputs": [],
   "source": [
    "def get_unaligned_headers(line):\n",
    "    d = {}\n",
    "    for h in ['Checked', 'Ion', 'Charge', 'Molecular Weight', 'm/z', 'RT [min]',\n",
    "              'FWHM [min]', '# MI', 'Area', 'Parent Area [%]', 'Study File ID'] :\n",
    "        d[h] = line.index(h)\n",
    "    return d  \n",
    "\n",
    "with open(r'../data/search/CD33/Nilerat_lipids_CD33_unaligned.csv', encoding='utf8') as inf:\n",
    "    with open(r'..\\data\\search\\CD33\\unaligned_test.csv', 'w', encoding='utf8', newline='') as out:\n",
    "        r = csv.reader(inf)\n",
    "        w = csv.writer(out)\n",
    "        # Get indexes of headers\n",
    "        first_line = next(r)\n",
    "        header = get_unaligned_headers(first_line) \n",
    "        w.writerow(list(header.keys()))\n",
    "        for line in r:\n",
    "            w.writerow([line[i] for i in header.values()])"
   ]
  },
  {
   "cell_type": "code",
   "execution_count": null,
   "id": "86648da9",
   "metadata": {},
   "outputs": [],
   "source": []
  },
  {
   "cell_type": "code",
   "execution_count": null,
   "id": "2d582cbc",
   "metadata": {},
   "outputs": [],
   "source": []
  },
  {
   "cell_type": "code",
   "execution_count": null,
   "id": "1a889e81",
   "metadata": {},
   "outputs": [],
   "source": []
  },
  {
   "cell_type": "code",
   "execution_count": null,
   "id": "4b7a5b41",
   "metadata": {},
   "outputs": [],
   "source": []
  },
  {
   "cell_type": "code",
   "execution_count": null,
   "id": "d5f38c59",
   "metadata": {},
   "outputs": [],
   "source": []
  },
  {
   "cell_type": "code",
   "execution_count": null,
   "id": "80cd55cd",
   "metadata": {},
   "outputs": [],
   "source": []
  },
  {
   "cell_type": "code",
   "execution_count": null,
   "id": "4c1c4a25",
   "metadata": {},
   "outputs": [],
   "source": []
  },
  {
   "cell_type": "code",
   "execution_count": null,
   "id": "7bf421b7",
   "metadata": {},
   "outputs": [],
   "source": []
  },
  {
   "cell_type": "code",
   "execution_count": null,
   "id": "390919ba",
   "metadata": {},
   "outputs": [],
   "source": []
  },
  {
   "cell_type": "code",
   "execution_count": null,
   "id": "6cf327c2",
   "metadata": {},
   "outputs": [],
   "source": []
  },
  {
   "cell_type": "code",
   "execution_count": null,
   "id": "9dbf4819",
   "metadata": {},
   "outputs": [],
   "source": []
  },
  {
   "cell_type": "code",
   "execution_count": null,
   "id": "43f57200",
   "metadata": {},
   "outputs": [],
   "source": []
  },
  {
   "cell_type": "code",
   "execution_count": null,
   "id": "45890c40",
   "metadata": {},
   "outputs": [],
   "source": []
  },
  {
   "cell_type": "code",
   "execution_count": null,
   "id": "1bb3701f",
   "metadata": {},
   "outputs": [],
   "source": []
  }
 ],
 "metadata": {
  "kernelspec": {
   "display_name": "Python 3",
   "language": "python",
   "name": "python3"
  },
  "language_info": {
   "codemirror_mode": {
    "name": "ipython",
    "version": 3
   },
   "file_extension": ".py",
   "mimetype": "text/x-python",
   "name": "python",
   "nbconvert_exporter": "python",
   "pygments_lexer": "ipython3",
   "version": "3.7.10"
  }
 },
 "nbformat": 4,
 "nbformat_minor": 5
}
