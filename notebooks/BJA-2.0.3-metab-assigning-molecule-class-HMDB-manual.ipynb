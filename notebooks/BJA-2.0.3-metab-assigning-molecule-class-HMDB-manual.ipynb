{
 "cells": [
  {
   "cell_type": "code",
   "execution_count": 1,
   "id": "3198acf4",
   "metadata": {},
   "outputs": [],
   "source": [
    "import pandas as pd\n",
    "import json"
   ]
  },
  {
   "cell_type": "code",
   "execution_count": 2,
   "id": "b9644234",
   "metadata": {},
   "outputs": [],
   "source": [
    "data = pd.read_csv(r'../data/processed/combined_metabolites_data_with_model_params.csv').set_index('i')"
   ]
  },
  {
   "cell_type": "code",
   "execution_count": 3,
   "id": "669b68b0",
   "metadata": {
    "scrolled": true
   },
   "outputs": [
    {
     "name": "stdout",
     "output_type": "stream",
     "text": [
      "1,5-Anhydro-D-glucitol\n",
      "2-Mercaptoethanol\n",
      "2-Naphthalenesulfonic acid\n",
      "3-Hydroxybutyric acid\n",
      "3-Indoxyl sulphate\n",
      "3-Methylhistidine\n",
      "4-Guanidinobutyric acid\n",
      "4-Hydroxybenzaldehyde\n",
      "4-Hydroxybutyric acid (GHB)\n",
      "4-Oxoproline\n",
      "5,5-Dimethylhydantoin\n",
      "8-Hydroxyquinoline\n",
      "Acetyl-β-methylcholine\n",
      "Acrylic acid\n",
      "Adenosine 5'-monophosphate\n",
      "Alanine\n",
      "alpha-Glycerylphosphorylcholine\n",
      "Anhydrohexose\n",
      "Anserine\n",
      "Arginine\n",
      "Ascorbic acid 2-sulfate\n",
      "Asparagine\n",
      "Beta alanine\n",
      "Beta-D-Glucopyranuronic acid\n",
      "Betaine\n",
      "Carnitine\n",
      "Choline\n",
      "Citramalic acid\n",
      "Creatine\n",
      "Creatinine\n",
      "Cytidine\n",
      "Ergothioneine\n",
      "Ethyl-beta-D-glucuronide\n",
      "Gluconic acid\n",
      "Glucose\n",
      "Glutamic acid\n",
      "Glutamine\n",
      "Glyceric acid\n",
      "Guanidinosuccinic acid\n",
      "Hexose sugar\n",
      "Iditol\n",
      "Hippuric acid\n",
      "Histidine\n",
      "Hydrocinnamic acid\n",
      "Hydroxycinnamic acid\n",
      "Isoleucine\n",
      "Lactic Acid\n",
      "Leucine\n",
      "Methylaminopyrimidine\n",
      "Methylhistidine\n",
      "N-Acetyl-L-aspartic acid\n",
      "Pyroglutamic acid\n",
      "N-Acetylneuraminic acid\n",
      "N-Acetylornithine\n",
      "N-Isovalerylglycine\n",
      "N-Methyl-2-pyrrolidone\n",
      "N3,N4-Dimethyl-L-arginine\n",
      "N6,N6,N6-Trimethyl-L-lysine\n",
      "Nicotinamide\n",
      "Nicotinamide 1-oxide\n",
      "Ornithine\n",
      "Pentose sugar\n",
      "Phenylacetylglycine\n",
      "Phenylalanine\n",
      "Pipecolic acid\n",
      "Proline\n",
      "Pseudouridine\n",
      "Pyroglutamic acid\n",
      "Quinic acid\n",
      "Ribose\n",
      "Serine\n",
      "Stachydrine\n",
      "Taurine\n",
      "Threonic acid\n",
      "Threonine\n",
      "Indole-3-acrylic acid\n",
      "Trigonelline\n",
      "Tryptophan\n",
      "Tyrosine\n",
      "Uric acid\n",
      "Uridine\n",
      "Urocanic acid\n"
     ]
    }
   ],
   "source": [
    "for m in data.loc[(data['Type'] == 'metabolite') & (data['ID'] != 'unknown'), 'ID'][::-1]:\n",
    "    print(m)"
   ]
  },
  {
   "cell_type": "code",
   "execution_count": 4,
   "id": "d4e1f7a1",
   "metadata": {},
   "outputs": [],
   "source": [
    "metab_classes = {\n",
    "    \"1,5-Anhydro-D-glucitol\":           'Carbohydrate',\n",
    "    \"2-Mercaptoethanol\":                'Alcohol',\n",
    "    \"2-Naphthalenesulfonic acid\":       'Organic acid',\n",
    "    \"3-Hydroxybutyric acid\":            'Organic acid',\n",
    "    \"3-Indoxyl sulphate\":               'Organic acid',\n",
    "    \"3-Methylhistidine\":                'Amino acid derivative',\n",
    "    \"4-Guanidinobutyric acid\":          'Organic acid',\n",
    "    \"4-Hydroxybenzaldehyde\":            'Alcohol',\n",
    "    \n",
    "    \"4-Hydroxybutyric acid (GHB)\":      'Organic acid',\n",
    "    \"4-Oxoproline\":                     'Amino acid derivative',\n",
    "    \"5,5-Dimethylhydantoin\":            'Amino acid derivative',\n",
    "    \"8-Hydroxyquinoline\":               'Alcohol',\n",
    "    \"Acetyl-β-methylcholine\":           'Amino acid derivative',\n",
    "    \"Acetyl-beta-methylcholine\":        'Amino acid derivative',\n",
    "    \"Acrylic acid\":                     'Organic acid',\n",
    "    \"Adenosine 5'-monophosphate\":       'Nitrogen heterocycle',\n",
    "    \"Alanine\":                          'Amino acid',\n",
    "    \"alpha-Glycerylphosphorylcholine\":  'Organic acid',\n",
    "    \"Anhydrohexose\":                    'Carbohydrate',\n",
    "    \n",
    "    \"Anserine\":                       'Amino acid derivative', \n",
    "    \"Arginine\":                       'Amino acid',\n",
    "    \"Ascorbic acid 2-sulfate\":        'Organic acid',\n",
    "    \"Asparagine\":                     'Amino acid',\n",
    "    \"Beta alanine\":                   'Amino acid derivative',\n",
    "    \"Beta-D-Glucopyranuronic acid\":   'Carbohydrate',\n",
    "    \"Betaine\":                        'Amino acid derivative',  # N-trimethyl glycine (ammonium)\n",
    "    \"Carnitine\":                      'Organic acid',\n",
    "    \"Choline\":                        'Alcohol',\n",
    "    \"Citramalic acid\":                'Organic acid',\n",
    "    \"Creatine\":                       'Organic acid',\n",
    "    \n",
    "    \"Creatinine\":               'Nitrogen heterocycle',\n",
    "    \"Cytidine\":                 'Nitrogen heterocycle',\n",
    "    \"Ergothioneine\":            'Amino acid derivative',\n",
    "    \"Ethyl-beta-D-glucuronide\": 'Carbohydrate',\n",
    "    \"Gluconic acid\":            'Carbohydrate',\n",
    "    \"Glucose\":                  'Carbohydrate',\n",
    "    \"Glutamic acid\":            'Amino acid',\n",
    "    \"Glutamine\":                'Amino acid',\n",
    "    \"Glyceric acid\":            'Carbohydrate',\n",
    "    \"Guanidinosuccinic acid\":   'Amino acid derivative',\n",
    "    \"Hexose sugar\":             'Carbohydrate',\n",
    "    \n",
    "    \"Iditol\":                   'Carbohydrate',\n",
    "    \"Hippuric acid\":            'Organic acid',\n",
    "    \"Histidine\":                'Amino acid',\n",
    "    \"Hydrocinnamic acid\":       'Organic acid',\n",
    "    \"Hydroxycinnamic acid\":     'Organic acid',\n",
    "    \"Isoleucine\":               'Amino acid',\n",
    "    \"Lactic Acid\":              'Organic acid',\n",
    "    \"Leucine\":                  'Amino acid',\n",
    "    \"MethylAminopyrimidine\":    'Nitrogen heterocycle',\n",
    "    \"Methylhistidine\":          'Amino acid derivative',\n",
    "    \"N-Acetyl-L-aspartic acid\": 'Amino acid derivative',\n",
    "    \n",
    "    \"Pyroglutamic acid\":           'Amino acid derivative',\n",
    "    \"N-Acetylneuraminic acid\":     'Carbohydrate',\n",
    "    \"N-Acetylornithine\":           'Amino acid derivative',\n",
    "    \"N-Isovalerylglycine\":         'Amino acid derivative',\n",
    "    \"N-Methyl-2-pyrrolidone\":      'Nitrogen heterocycle',\n",
    "    \"N3,N4-Dimethyl-L-arginine\":   'Amino acid derivative',\n",
    "    \"N6,N6,N6-Trimethyl-L-lysine\": 'Amino acid derivative',\n",
    "    \"Nicotinamide\":                'Nitrogen heterocycle',\n",
    "    \"Nicotinamide 1-oxide\":        'Nitrogen heterocycle',\n",
    "    \"Ornithine\":                   'Amino acid derivative',\n",
    "    \"Pentose sugar\":               'Carbohydrate',\n",
    "    \"Phenylacetylglycine\":         'Amino acid derivative',\n",
    "    \n",
    "    \"Phenylalanine\":     'Amino acid',\n",
    "    \"Pipecolic acid\":    'Organic acid',\n",
    "    \"Proline\":           'Amino acid',\n",
    "    \"Pseudouridine\":     'Nitrogen heterocycle',\n",
    "    \"Pyroglutamic acid\": 'Amino acid derivative',\n",
    "    \"Quinic acid\":       'Organic acid',\n",
    "    \"Ribose\":            'Carbohydrate',\n",
    "    \"Serine\":            'Amino acid',\n",
    "    \"Stachydrine\":       'Amino acid derivative',  # Proline Betaine (N-dimethyl ammonium)\n",
    "    \n",
    "    \"Taurine\":               'Amino acid derivative',\n",
    "    \"Threonic acid\":         'Carbohydrate',  # sugar acid derived from Threose\n",
    "    \"Threonine\":             'Amino acid',\n",
    "    \"Indole-3-acrylic acid\": 'Organic acid',  # Also Nitrogen heterocycle (indole)\n",
    "    \"Trigonelline\":          'Organic acid',  # also Nitrogen heterocycle (piperidine)\n",
    "    \"Tryptophan\":            'Amino acid',\n",
    "    \"Tyrosine\":              'Amino acid',\n",
    "    \"Uric acid\":             'Nitrogen heterocycle',\n",
    "    \"Uridine\":               'Nitrogen heterocycle',\n",
    "    \"Urocanic acid\":         'Nitrogen heterocycle',\n",
    "}"
   ]
  },
  {
   "cell_type": "code",
   "execution_count": 5,
   "id": "46bb8562",
   "metadata": {},
   "outputs": [
    {
     "data": {
      "text/plain": [
       "{'Alcohol',\n",
       " 'Amino acid',\n",
       " 'Amino acid derivative',\n",
       " 'Carbohydrate',\n",
       " 'Nitrogen heterocycle',\n",
       " 'Organic acid'}"
      ]
     },
     "execution_count": 5,
     "metadata": {},
     "output_type": "execute_result"
    }
   ],
   "source": [
    "set(metab_classes.values())"
   ]
  },
  {
   "cell_type": "code",
   "execution_count": 7,
   "id": "c933a143",
   "metadata": {},
   "outputs": [],
   "source": [
    "# json.dump(metab_classes, open('../data/metadata/metabolite_class_assignments.json', 'w'))"
   ]
  },
  {
   "cell_type": "code",
   "execution_count": null,
   "id": "35e2298f",
   "metadata": {},
   "outputs": [],
   "source": []
  },
  {
   "cell_type": "code",
   "execution_count": null,
   "id": "4b0207bf",
   "metadata": {},
   "outputs": [],
   "source": []
  },
  {
   "cell_type": "code",
   "execution_count": null,
   "id": "7c98fc7d",
   "metadata": {},
   "outputs": [],
   "source": []
  },
  {
   "cell_type": "code",
   "execution_count": null,
   "id": "bc12b0c4",
   "metadata": {},
   "outputs": [],
   "source": []
  },
  {
   "cell_type": "code",
   "execution_count": null,
   "id": "4d93bae5",
   "metadata": {},
   "outputs": [],
   "source": []
  },
  {
   "cell_type": "code",
   "execution_count": null,
   "id": "2cd4bcca",
   "metadata": {},
   "outputs": [],
   "source": []
  },
  {
   "cell_type": "code",
   "execution_count": null,
   "id": "94261b69",
   "metadata": {},
   "outputs": [],
   "source": []
  },
  {
   "cell_type": "code",
   "execution_count": null,
   "id": "c22d495f",
   "metadata": {},
   "outputs": [],
   "source": []
  }
 ],
 "metadata": {
  "kernelspec": {
   "display_name": "Python 3",
   "language": "python",
   "name": "python3"
  },
  "language_info": {
   "codemirror_mode": {
    "name": "ipython",
    "version": 3
   },
   "file_extension": ".py",
   "mimetype": "text/x-python",
   "name": "python",
   "nbconvert_exporter": "python",
   "pygments_lexer": "ipython3",
   "version": "3.7.10"
  }
 },
 "nbformat": 4,
 "nbformat_minor": 5
}
