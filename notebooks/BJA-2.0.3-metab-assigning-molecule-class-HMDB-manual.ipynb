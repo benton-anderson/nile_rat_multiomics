{
 "cells": [
  {
   "cell_type": "code",
   "execution_count": 3,
   "id": "3198acf4",
   "metadata": {},
   "outputs": [],
   "source": [
    "import pandas as pd\n",
    "import json"
   ]
  },
  {
   "cell_type": "code",
   "execution_count": 6,
   "id": "b9644234",
   "metadata": {},
   "outputs": [],
   "source": [
    "data = pd.read_csv(r'../data/processed/combined_metabolites_data_with_model_params.csv').set_index('i')"
   ]
  },
  {
   "cell_type": "code",
   "execution_count": 13,
   "id": "669b68b0",
   "metadata": {
    "scrolled": true
   },
   "outputs": [
    {
     "name": "stdout",
     "output_type": "stream",
     "text": [
      "1,5-Anhydro-D-glucitol\n",
      "2-Mercaptoethanol\n",
      "2-Naphthalenesulfonic acid\n",
      "3-Hydroxybutyric acid\n",
      "3-Indoxyl sulphate\n",
      "3-Methylhistidine\n",
      "4-Guanidinobutyric acid\n",
      "4-Hydroxybenzaldehyde\n",
      "4-Hydroxybutyric acid (GHB)\n",
      "4-Oxoproline\n",
      "5,5-Dimethylhydantoin\n",
      "8-Hydroxyquinoline\n",
      "Acetyl-β-methylcholine\n",
      "Acrylic acid\n",
      "Adenosine 5'-monophosphate\n",
      "Alanine\n",
      "alpha-Glycerylphosphorylcholine\n",
      "Anhydrohexose\n",
      "Anserine\n",
      "Arginine\n",
      "Ascorbic acid 2-sulfate\n",
      "Asparagine\n",
      "Beta alanine\n",
      "Beta-D-Glucopyranuronic acid\n",
      "Betaine\n",
      "Carnitine\n",
      "Choline\n",
      "Citramalic acid\n",
      "Creatine\n",
      "Creatinine\n",
      "Cytidine\n",
      "Ergothioneine\n",
      "Ethyl-beta-D-glucuronide\n",
      "Gluconic acid\n",
      "Glucose\n",
      "Glutamic acid\n",
      "Glutamine\n",
      "Glyceric acid\n",
      "Guanidinosuccinic acid\n",
      "Hexose sugar\n",
      "Iditol\n",
      "Hippuric acid\n",
      "Histidine\n",
      "Hydrocinnamic acid\n",
      "Hydroxycinnamic acid\n",
      "Isoleucine\n",
      "Lactic Acid\n",
      "Leucine\n",
      "Methylaminopyrimidine\n",
      "Methylhistidine\n",
      "N-Acetyl-L-aspartic acid\n",
      "Pyroglutamic acid\n",
      "N-Acetylneuraminic acid\n",
      "N-Acetylornithine\n",
      "N-Isovalerylglycine\n",
      "N-Methyl-2-pyrrolidone\n",
      "N3,N4-Dimethyl-L-arginine\n",
      "N6,N6,N6-Trimethyl-L-lysine\n",
      "Nicotinamide\n",
      "Nicotinamide 1-oxide\n",
      "Ornithine\n",
      "Pentose sugar\n",
      "Phenylacetylglycine\n",
      "Phenylalanine\n",
      "Pipecolic acid\n",
      "Proline\n",
      "Pseudouridine\n",
      "Pyroglutamic acid\n",
      "Quinic acid\n",
      "Ribose\n",
      "Serine\n",
      "Stachydrine\n",
      "Taurine\n",
      "Threonic acid\n",
      "Threonine\n",
      "Indole-3-acrylic acid\n",
      "Trigonelline\n",
      "Tryptophan\n",
      "Tyrosine\n",
      "Uric acid\n",
      "Uridine\n",
      "Urocanic acid\n"
     ]
    }
   ],
   "source": [
    "for m in data.loc[(data['Type'] == 'metabolite') & (data['ID'] != 'unknown'), 'ID'][::-1]:\n",
    "    print(m)"
   ]
  },
  {
   "cell_type": "code",
   "execution_count": 4,
   "id": "d4e1f7a1",
   "metadata": {},
   "outputs": [],
   "source": [
    "metab_classes = {\n",
    "    \"1,5-Anhydro-D-glucitol\":           'carbohydrate',\n",
    "    \"2-Mercaptoethanol\":                'alcohol',\n",
    "    \"2-Naphthalenesulfonic acid\":       'organic acid',\n",
    "    \"3-Hydroxybutyric acid\":            'organic acid',\n",
    "    \"3-Indoxyl sulphate\":               'organic acid',\n",
    "    \"3-Methylhistidine\":                'amino acid derivative',\n",
    "    \"4-Guanidinobutyric acid\":          'organic acid',\n",
    "    \"4-Hydroxybenzaldehyde\":            'alcohol',\n",
    "    \n",
    "    \"4-Hydroxybutyric acid (GHB)\":      'organic acid',\n",
    "    \"4-Oxoproline\":                     'amino acid derivative',\n",
    "    \"5,5-Dimethylhydantoin\":            'amino acid derivative',\n",
    "    \"8-Hydroxyquinoline\":               'alcohol',\n",
    "    \"Acetyl-β-methylcholine\":           'amino acid derivative',\n",
    "    \"Acetyl-beta-methylcholine\":        'amino acid derivative',\n",
    "    \"Acrylic acid\":                     'organic acid',\n",
    "    \"Adenosine 5'-monophosphate\":       'nitrogen heterocycle',\n",
    "    \"Alanine\":                          'amino acid',\n",
    "    \"alpha-Glycerylphosphorylcholine\":  'organic acid',\n",
    "    \"Anhydrohexose\":                    'carbohydrate',\n",
    "    \n",
    "    \"Anserine\":                       'amino acid derivative', \n",
    "    \"Arginine\":                       'amino acid',\n",
    "    \"Ascorbic acid 2-sulfate\":        'organic acid',\n",
    "    \"Asparagine\":                     'amino acid',\n",
    "    \"Beta alanine\":                   'amino acid derivative',\n",
    "    \"Beta-D-Glucopyranuronic acid\":   'carbohydrate',\n",
    "    \"Betaine\":                        'amino acid derivative',  # N-trimethyl glycine (ammonium)\n",
    "    \"Carnitine\":                      'organic acid',\n",
    "    \"Choline\":                        'alcohol',\n",
    "    \"Citramalic acid\":                'organic acid',\n",
    "    \"Creatine\":                       'organic acid',\n",
    "    \n",
    "    \"Creatinine\":               'nitrogen heterocycle',\n",
    "    \"Cytidine\":                 'nitrogen heterocycle',\n",
    "    \"Ergothioneine\":            'amino acid derivative',\n",
    "    \"Ethyl-beta-D-glucuronide\": 'carbohydrate',\n",
    "    \"Gluconic acid\":            'carbohydrate',\n",
    "    \"Glucose\":                  'carbohydrate',\n",
    "    \"Glutamic acid\":            'amino acid',\n",
    "    \"Glutamine\":                'amino acid',\n",
    "    \"Glyceric acid\":            'carbohydrate',\n",
    "    \"Guanidinosuccinic acid\":   'amino acid derivative',\n",
    "    \"Hexose sugar\":             'carbohydrate',\n",
    "    \n",
    "    \"Iditol\":                   'carbohydrate',\n",
    "    \"Hippuric acid\":            'organic acid',\n",
    "    \"Histidine\":                'amino acid',\n",
    "    \"Hydrocinnamic acid\":       'organic acid',\n",
    "    \"Hydroxycinnamic acid\":     'organic acid',\n",
    "    \"Isoleucine\":               'amino acid',\n",
    "    \"Lactic Acid\":              'organic acid',\n",
    "    \"Leucine\":                  'amino acid',\n",
    "    \"Methylaminopyrimidine\":    'nitrogen heterocycle',\n",
    "    \"Methylhistidine\":          'amino acid derivative',\n",
    "    \"N-Acetyl-L-aspartic acid\": 'amino acid derivative',\n",
    "    \n",
    "    \"Pyroglutamic acid\":           'amino acid derivative',\n",
    "    \"N-Acetylneuraminic acid\":     'carbohydrate',\n",
    "    \"N-Acetylornithine\":           'amino acid derivative',\n",
    "    \"N-Isovalerylglycine\":         'amino acid derivative',\n",
    "    \"N-Methyl-2-pyrrolidone\":      'nitrogen heterocycle',\n",
    "    \"N3,N4-Dimethyl-L-arginine\":   'amino acid derivative',\n",
    "    \"N6,N6,N6-Trimethyl-L-lysine\": 'amino acid derivative',\n",
    "    \"Nicotinamide\":                'nitrogen heterocycle',\n",
    "    \"Nicotinamide 1-oxide\":        'nitrogen heterocycle',\n",
    "    \"Ornithine\":                   'amino acid derivative',\n",
    "    \"Pentose sugar\":               'carbohydrate',\n",
    "    \"Phenylacetylglycine\":         'amino acid derivative',\n",
    "    \n",
    "    \"Phenylalanine\":     'amino acid',\n",
    "    \"Pipecolic acid\":    'organic acid',\n",
    "    \"Proline\":           'amino acid',\n",
    "    \"Pseudouridine\":     'nitrogen heterocycle',\n",
    "    \"Pyroglutamic acid\": 'amino acid derivative',\n",
    "    \"Quinic acid\":       'organic acid',\n",
    "    \"Ribose\":            'carbohydrate',\n",
    "    \"Serine\":            'amino acid',\n",
    "    \"Stachydrine\":       'amino acid derivative',  # Proline Betaine (N-dimethyl ammonium)\n",
    "    \n",
    "    \"Taurine\":               'amino acid derivative',\n",
    "    \"Threonic acid\":         'carbohydrate',  # sugar acid derived from Threose\n",
    "    \"Threonine\":             'amino acid',\n",
    "    \"Indole-3-acrylic acid\": 'organic acid',  # Also nitrogen heterocycle (indole)\n",
    "    \"Trigonelline\":          'organic acid',  # also nitrogen heterocycle (piperidine)\n",
    "    \"Tryptophan\":            'amino acid',\n",
    "    \"Tyrosine\":              'amino acid',\n",
    "    \"Uric acid\":             'nitrogen heterocycle',\n",
    "    \"Uridine\":               'nitrogen heterocycle',\n",
    "    \"Urocanic acid\":         'nitrogen heterocycle',\n",
    "}"
   ]
  },
  {
   "cell_type": "code",
   "execution_count": 5,
   "id": "46bb8562",
   "metadata": {},
   "outputs": [
    {
     "data": {
      "text/plain": [
       "{'alcohol',\n",
       " 'amino acid',\n",
       " 'amino acid derivative',\n",
       " 'carbohydrate',\n",
       " 'nitrogen heterocycle',\n",
       " 'organic acid'}"
      ]
     },
     "execution_count": 5,
     "metadata": {},
     "output_type": "execute_result"
    }
   ],
   "source": [
    "set(metab_classes.values())"
   ]
  },
  {
   "cell_type": "code",
   "execution_count": 8,
   "id": "c933a143",
   "metadata": {},
   "outputs": [],
   "source": [
    "# json.dump(metab_classes, open('../data/metadata/metabolite_class_assignments.json', 'w'))"
   ]
  },
  {
   "cell_type": "code",
   "execution_count": null,
   "id": "35e2298f",
   "metadata": {},
   "outputs": [],
   "source": []
  },
  {
   "cell_type": "code",
   "execution_count": null,
   "id": "4b0207bf",
   "metadata": {},
   "outputs": [],
   "source": []
  },
  {
   "cell_type": "code",
   "execution_count": null,
   "id": "7c98fc7d",
   "metadata": {},
   "outputs": [],
   "source": []
  },
  {
   "cell_type": "code",
   "execution_count": null,
   "id": "bc12b0c4",
   "metadata": {},
   "outputs": [],
   "source": []
  },
  {
   "cell_type": "code",
   "execution_count": null,
   "id": "4d93bae5",
   "metadata": {},
   "outputs": [],
   "source": []
  },
  {
   "cell_type": "code",
   "execution_count": null,
   "id": "2cd4bcca",
   "metadata": {},
   "outputs": [],
   "source": []
  },
  {
   "cell_type": "code",
   "execution_count": null,
   "id": "94261b69",
   "metadata": {},
   "outputs": [],
   "source": []
  },
  {
   "cell_type": "code",
   "execution_count": null,
   "id": "c22d495f",
   "metadata": {},
   "outputs": [],
   "source": []
  }
 ],
 "metadata": {
  "kernelspec": {
   "display_name": "Python 3",
   "language": "python",
   "name": "python3"
  },
  "language_info": {
   "codemirror_mode": {
    "name": "ipython",
    "version": 3
   },
   "file_extension": ".py",
   "mimetype": "text/x-python",
   "name": "python",
   "nbconvert_exporter": "python",
   "pygments_lexer": "ipython3",
   "version": "3.7.10"
  }
 },
 "nbformat": 4,
 "nbformat_minor": 5
}
