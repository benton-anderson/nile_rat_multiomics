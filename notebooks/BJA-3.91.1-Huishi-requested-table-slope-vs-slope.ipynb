{
 "cells": [
  {
   "cell_type": "code",
   "execution_count": 1,
   "id": "35eee239",
   "metadata": {},
   "outputs": [],
   "source": [
    "import pandas as pd\n",
    "import numpy as np\n",
    "import matplotlib.pyplot as plt\n",
    "import seaborn as sns\n",
    "import json\n",
    "\n",
    "import os\n",
    "import sys\n",
    "sys.path.insert(1, os.path.join(sys.path[0], '..'))  # Add the src directory to path \n",
    "from src.utils import tight_bbox, parse_lipid\n",
    "from src.plots import plot_quant_vs_ogtt, set_square_ratio\n",
    "\n",
    "plt.rcParams['svg.fonttype'] = 'none'\n",
    "plt.rcParams['pdf.use14corefonts'] = True\n",
    "plt.rcParams['axes.unicode_minus'] = False  # https://stackoverflow.com/questions/43102564/matplotlib-negative-numbers-on-tick-labels-displayed-as-boxes\n",
    "plt.style.use('seaborn-ticks')  # 'seaborn-ticks'\n",
    "\n",
    "import importlib\n",
    "from pathlib import Path\n",
    "\n",
    "from sklearn.decomposition import PCA\n",
    "from sklearn.preprocessing import StandardScaler\n",
    "from sklearn.metrics import mean_squared_error, mean_squared_log_error\n",
    "\n",
    "from statsmodels.api import formula as smf"
   ]
  },
  {
   "cell_type": "code",
   "execution_count": 2,
   "id": "35adad14",
   "metadata": {},
   "outputs": [],
   "source": [
    "colors = json.load(open(r'..\\data\\metadata\\color_schemes.json'))\n",
    "compound_superclasses = json.load(open('../data/metadata/compound_superclasses.json', 'r'))\n",
    "    \n",
    "data = pd.read_csv(r'../data/processed/combined_metabolites_data_with_model_params.csv').set_index('i')\n",
    "\n",
    "fg = pd.read_csv(r'..\\data\\metadata\\combined_metab_lipid_file_grouping.csv', index_col=0)\n",
    "ap = pd.read_excel(r'..\\data\\metadata\\animal_phenotypes.xlsx', index_col=0)\n",
    "\n",
    "vldata = pd.read_csv('../data/processed/1700s_validation_lipids.csv', index_col=0)\n",
    "vldata_cols = fg.loc[(fg['cohort'] == '30wk') & fg['has_ogtt']].index\n",
    "qc_rep_1700s = fg.loc[fg['qc_rep']].index"
   ]
  },
  {
   "cell_type": "code",
   "execution_count": 15,
   "id": "4be7f557",
   "metadata": {
    "scrolled": true
   },
   "outputs": [
    {
     "data": {
      "text/plain": [
       "['unique_id',\n",
       " 'ID',\n",
       " 'm/z',\n",
       " 'RT',\n",
       " 'molec_class',\n",
       " 'Type',\n",
       " 'polarity',\n",
       " 'lc_type',\n",
       " 'superclass',\n",
       " '1091_8_FBG',\n",
       " '1091_10_FBG',\n",
       " '1093_8_FBG',\n",
       " '1093_9_FBG',\n",
       " '1093_10_FBG',\n",
       " '1060_8_FBG',\n",
       " '1060_9_FBG',\n",
       " '1060_10_FBG',\n",
       " '1062_8_FBG',\n",
       " '1062_9_FBG',\n",
       " '1062_10_FBG',\n",
       " '1074_8_FBG',\n",
       " '1074_9_FBG',\n",
       " '1074_10_FBG',\n",
       " '1092_8_FBG',\n",
       " '1092_9_FBG',\n",
       " '1092_10_FBG',\n",
       " '1102_8_FBG',\n",
       " '1102_9_FBG',\n",
       " '1102_10_FBG',\n",
       " '1076_8_FBG',\n",
       " '1076_9_FBG',\n",
       " '1076_10_FBG',\n",
       " '1082_8_FBG',\n",
       " '1082_9_FBG',\n",
       " '1082_10_FBG',\n",
       " '1101_8_FBG',\n",
       " '1101_9_FBG',\n",
       " '1101_10_FBG',\n",
       " '1091_8_RBG',\n",
       " '1091_9_RBG',\n",
       " '1091_10_RBG',\n",
       " '1093_8_RBG',\n",
       " '1093_9_RBG',\n",
       " '1093_10_RBG',\n",
       " '1060_8_RBG',\n",
       " '1060_9_RBG',\n",
       " '1060_10_RBG',\n",
       " '1062_8_RBG',\n",
       " '1062_9_RBG',\n",
       " '1062_10_RBG',\n",
       " '1074_8_RBG',\n",
       " '1074_9_RBG',\n",
       " '1074_10_RBG',\n",
       " '1092_8_RBG',\n",
       " '1092_9_RBG',\n",
       " '1092_10_RBG',\n",
       " '1102_8_RBG',\n",
       " '1102_9_RBG',\n",
       " '1102_10_RBG',\n",
       " '1076_8_RBG',\n",
       " '1076_9_RBG',\n",
       " '1076_10_RBG',\n",
       " '1082_8_RBG',\n",
       " '1082_9_RBG',\n",
       " '1082_10_RBG',\n",
       " '1101_8_RBG',\n",
       " '1101_9_RBG',\n",
       " '1101_10_RBG',\n",
       " 'mean_sampling_log2fc',\n",
       " 'qval_sampling',\n",
       " 'qval_ogtt',\n",
       " 'qval_sampling:ogtt',\n",
       " 'pval_sampling',\n",
       " 'pval_ogtt',\n",
       " 'pval_sampling:ogtt',\n",
       " 'model_param_Intercept',\n",
       " 'model_param_sampling[T.RBG]',\n",
       " 'model_param_ogtt',\n",
       " 'model_param_sampling[T.RBG]:ogtt',\n",
       " 'qval_fed',\n",
       " 'qval_fasted',\n",
       " 'pval_fed',\n",
       " 'coef_fed',\n",
       " 'intercept_fed',\n",
       " 'pval_fasted',\n",
       " 'coef_fasted',\n",
       " 'intercept_fasted',\n",
       " 'signif_interaction',\n",
       " 'signif_sampling',\n",
       " 'fasted_mean',\n",
       " 'fed_mean',\n",
       " 'Log2 Fold Change',\n",
       " 'Fed - Fasted slope',\n",
       " 'signif_interact',\n",
       " 'log_qval_sampling',\n",
       " 'log_qval_ogtt',\n",
       " 'log_qval_sampling:ogtt',\n",
       " 'is_id',\n",
       " 'lipid_class',\n",
       " 'extra_lipid_label',\n",
       " 'fa_carbons',\n",
       " 'fa_unsat',\n",
       " 'fa_carbon:unsat',\n",
       " 'pval_asterisks']"
      ]
     },
     "execution_count": 15,
     "metadata": {},
     "output_type": "execute_result"
    }
   ],
   "source": [
    "[x for x in data.columns]"
   ]
  },
  {
   "cell_type": "code",
   "execution_count": 11,
   "id": "329ed2b9",
   "metadata": {},
   "outputs": [
    {
     "data": {
      "text/plain": [
       "(i\n",
       " m_0      0.000093\n",
       " m_1      0.000037\n",
       " m_2     -0.000010\n",
       " m_3     -0.000004\n",
       " m_4     -0.000032\n",
       "            ...   \n",
       " l_912    0.000051\n",
       " l_913    0.000054\n",
       " l_914    0.000038\n",
       " l_915    0.000045\n",
       " l_916    0.000048\n",
       " Name: coef_fed, Length: 1409, dtype: float64,\n",
       " i\n",
       " m_0      0.000078\n",
       " m_1      0.000001\n",
       " m_2     -0.000002\n",
       " m_3     -0.000009\n",
       " m_4     -0.000121\n",
       "            ...   \n",
       " l_912    0.000003\n",
       " l_913   -0.000025\n",
       " l_914   -0.000018\n",
       " l_915   -0.000019\n",
       " l_916   -0.000016\n",
       " Name: coef_fasted, Length: 1409, dtype: float64)"
      ]
     },
     "execution_count": 11,
     "metadata": {},
     "output_type": "execute_result"
    }
   ],
   "source": [
    "data['coef_fed'], data['coef_fasted']"
   ]
  },
  {
   "cell_type": "code",
   "execution_count": 20,
   "id": "11faf7b6",
   "metadata": {},
   "outputs": [],
   "source": [
    "data.loc[(data['coef_fed'] > 0) & (data['coef_fasted'] < 0), \n",
    "         ['ID', 'molec_class', 'qval_fed', 'qval_fasted', 'coef_fed', 'coef_fasted']].to_clipboard()"
   ]
  },
  {
   "cell_type": "code",
   "execution_count": null,
   "id": "738d28a6",
   "metadata": {},
   "outputs": [],
   "source": []
  },
  {
   "cell_type": "code",
   "execution_count": null,
   "id": "2a434173",
   "metadata": {},
   "outputs": [],
   "source": []
  },
  {
   "cell_type": "code",
   "execution_count": null,
   "id": "6bef1e07",
   "metadata": {},
   "outputs": [],
   "source": []
  },
  {
   "cell_type": "code",
   "execution_count": null,
   "id": "f7cf3111",
   "metadata": {},
   "outputs": [],
   "source": []
  },
  {
   "cell_type": "code",
   "execution_count": null,
   "id": "044c9a4f",
   "metadata": {},
   "outputs": [],
   "source": []
  },
  {
   "cell_type": "code",
   "execution_count": null,
   "id": "e68a9d98",
   "metadata": {},
   "outputs": [],
   "source": []
  },
  {
   "cell_type": "code",
   "execution_count": null,
   "id": "8f262fa2",
   "metadata": {},
   "outputs": [],
   "source": []
  },
  {
   "cell_type": "code",
   "execution_count": null,
   "id": "5c1e09ea",
   "metadata": {},
   "outputs": [],
   "source": []
  },
  {
   "cell_type": "code",
   "execution_count": null,
   "id": "118ece9a",
   "metadata": {},
   "outputs": [],
   "source": []
  },
  {
   "cell_type": "code",
   "execution_count": null,
   "id": "3e4c129c",
   "metadata": {},
   "outputs": [],
   "source": []
  },
  {
   "cell_type": "code",
   "execution_count": null,
   "id": "747e97a0",
   "metadata": {},
   "outputs": [],
   "source": []
  },
  {
   "cell_type": "code",
   "execution_count": null,
   "id": "7f8bc2e5",
   "metadata": {},
   "outputs": [],
   "source": []
  },
  {
   "cell_type": "code",
   "execution_count": null,
   "id": "bbcb0128",
   "metadata": {},
   "outputs": [],
   "source": []
  },
  {
   "cell_type": "code",
   "execution_count": null,
   "id": "6a4ee168",
   "metadata": {},
   "outputs": [],
   "source": []
  },
  {
   "cell_type": "code",
   "execution_count": null,
   "id": "74ccc81d",
   "metadata": {},
   "outputs": [],
   "source": []
  },
  {
   "cell_type": "code",
   "execution_count": null,
   "id": "072757e0",
   "metadata": {},
   "outputs": [],
   "source": []
  },
  {
   "cell_type": "code",
   "execution_count": null,
   "id": "e40bd8d3",
   "metadata": {},
   "outputs": [],
   "source": []
  }
 ],
 "metadata": {
  "kernelspec": {
   "display_name": "Python 3",
   "language": "python",
   "name": "python3"
  },
  "language_info": {
   "codemirror_mode": {
    "name": "ipython",
    "version": 3
   },
   "file_extension": ".py",
   "mimetype": "text/x-python",
   "name": "python",
   "nbconvert_exporter": "python",
   "pygments_lexer": "ipython3",
   "version": "3.7.10"
  }
 },
 "nbformat": 4,
 "nbformat_minor": 5
}
