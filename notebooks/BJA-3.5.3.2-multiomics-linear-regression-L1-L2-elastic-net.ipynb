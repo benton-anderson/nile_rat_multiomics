{
 "cells": [
  {
   "cell_type": "markdown",
   "id": "cfa03775",
   "metadata": {},
   "source": [
    "## sklearn has tons of good info on p >> n linear regression on their User Guide: \n",
    "https://scikit-learn.org/stable/modules/linear_model.html\n",
    "\n",
    "### LASSO (and LASSO CV)\n",
    "https://scikit-learn.org/stable/modules/generated/sklearn.linear_model.LassoCV.html#sklearn.linear_model.LassoCV\n",
    "\n",
    "### Lars (Least-angle regression)\n",
    "\n",
    "> LARS is similar to forward stepwise regression. At each step, it finds the feature most correlated with the target. When there are multiple features having equal correlation, instead of continuing along the same feature, it proceeds in a direction equiangular between the features.\n",
    "\n",
    "https://scikit-learn.org/stable/modules/generated/sklearn.linear_model.Lars.html#sklearn.linear_model.Lars\n",
    "https://scikit-learn.org/stable/modules/generated/sklearn.linear_model.LassoLarsCV.html#sklearn.linear_model.LassoLarsCV\n",
    "####  Lars LASSO is another thing, but:\n",
    "> The object solves the same problem as the LassoCV object. However, unlike the LassoCV, it find the relevant alphas values by itself. In general, because of this property, it will be more stable. **However, it is more fragile to heavily multicollinear datasets.**\n",
    "\n",
    "\n",
    "### Very readable LASSO explanation from Cambridge Statslab\n",
    "http://www.statslab.cam.ac.uk/~rds37/papers/Lasso_Rajen_Shah.pdf\n",
    "\n",
    "### The Clustergroup LASSO method sounds promising, but no codebase is given\n",
    "http://www.statslab.cam.ac.uk/~rds37/papers/Shah%20Samworth%202013%20Discussion%20of%20correlated%20variables%20in%20regression%20-%20clustering%20and%20sparse%20estimation.pdf\n",
    "\n"
   ]
  },
  {
   "cell_type": "code",
   "execution_count": 5,
   "id": "9b1f2774",
   "metadata": {},
   "outputs": [
    {
     "name": "stdout",
     "output_type": "stream",
     "text": [
      "1.0.2\n"
     ]
    }
   ],
   "source": [
    "import time\n",
    "from collections import defaultdict\n",
    "import json\n",
    "import math\n",
    "import random\n",
    "\n",
    "import pandas as pd\n",
    "import numpy as np\n",
    "import matplotlib.pyplot as plt\n",
    "plt.rcParams['svg.fonttype'] = 'none'  # https://stackoverflow.com/questions/34387893/output-matplotlib-figure-to-svg-with-text-as-text-not-curves\n",
    "plt.style.use('seaborn-ticks')\n",
    "\n",
    "import seaborn as sns\n",
    "import dateutil\n",
    "from scipy.stats import spearmanr, pearsonr, kendalltau\n",
    "from scipy.cluster import hierarchy\n",
    "from scipy.spatial.distance import squareform\n",
    "from scipy.cluster.hierarchy import dendrogram, fcluster, fclusterdata\n",
    "\n",
    "from sklearn.cluster import AgglomerativeClustering, FeatureAgglomeration\n",
    "from sklearn.datasets import make_regression, make_classification\n",
    "from sklearn.ensemble import RandomForestRegressor, RandomForestClassifier\n",
    "from sklearn.preprocessing import StandardScaler\n",
    "from sklearn.inspection import permutation_importance\n",
    "from sklearn.linear_model import LarsCV, LassoCV, LinearRegression, RidgeCV, Lasso\n",
    "\n",
    "from sklearn.metrics import (\n",
    "    classification_report,\n",
    "    roc_auc_score, roc_curve, RocCurveDisplay, auc,\n",
    "    confusion_matrix, multilabel_confusion_matrix, ConfusionMatrixDisplay,\n",
    "    f1_score, \n",
    "    recall_score,\n",
    "    accuracy_score,\n",
    "    precision_score, precision_recall_curve, precision_recall_fscore_support,)\n",
    "from sklearn.model_selection import (\n",
    "    cross_val_score, cross_val_predict, cross_validate,\n",
    "    RepeatedKFold, RepeatedStratifiedKFold, \n",
    "    StratifiedGroupKFold, GroupKFold, StratifiedKFold,\n",
    "    train_test_split, \n",
    "    GridSearchCV,\n",
    "    LeaveOneGroupOut,)\n",
    "\n",
    "import sklearn\n",
    "print(sklearn.__version__)"
   ]
  },
  {
   "cell_type": "code",
   "execution_count": 3,
   "id": "b1cc9a8b",
   "metadata": {},
   "outputs": [],
   "source": [
    "# colors and class-superclass maps\n",
    "with open(r'..\\data\\metadata\\color_schemes.json') as infile:\n",
    "    colors = json.load(infile)\n",
    "\n",
    "animals_used = [1091, 1093, 1060, 1062, 1074, 1092, 1102, 1076, 1082, 1101]\n",
    "diabetic =     [1076, 1082, 1101]\n",
    "impaired =     [1060, 1062, 1074, 1092, 1102]\n",
    "normal =       [1091, 1093]\n",
    "animal_tol = {\n",
    "    1076: 'diabetic', 1082: 'diabetic', 1101: 'diabetic', 1060: 'impaired', 1062: 'impaired', \n",
    "    1074: 'impaired', 1092: 'impaired', 1102: 'impaired', 1091: 'normal', 1093: 'normal'}\n",
    "ap = pd.read_excel(r'..\\data\\metadata\\animal_phenotypes.xlsx', index_col=0)\n",
    "\n",
    "fg = pd.read_csv(r'..\\data\\metadata\\combined_metab_lipid_file_grouping.csv', index_col=0)\n",
    "fg = pd.read_csv(r'..\\data\\metadata\\combined_metab_lipid_file_grouping.csv', index_col=0)\n",
    "\n",
    "# Use data that was sent to collaborators \n",
    "data = pd.read_excel(r'../data/processed/combined_metabolites_data.xlsx').set_index('i')\n",
    "data_cols = data.filter(regex='FBG|RBG').columns\n",
    "fbg_cols = data.filter(regex='FBG').columns\n",
    "rbg_cols = data.filter(regex='RBG').columns\n",
    "pval_cols = data.filter(regex='pval').columns\n",
    "\n",
    "n = data.filter(regex='1091|1093')                 # normal\n",
    "i = data.filter(regex='1060|1062|1074|1092|1102')  # impaired\n",
    "d = data.filter(regex='1076|1082|1101')            # diabetic\n",
    "\n",
    "f = data[fbg_cols]  # fasted\n",
    "r = data[rbg_cols]  # random-fed\n",
    "\n",
    "fn = n.filter(fbg_cols)  # fasted normal \n",
    "fi = i.filter(fbg_cols)  # fasted impaired\n",
    "fd = d.filter(fbg_cols)  # fasted diabetic\n",
    "\n",
    "rn = n.filter(rbg_cols)  # random normal\n",
    "ri = i.filter(rbg_cols)  # random impaired\n",
    "rd = d.filter(rbg_cols)  # random diabetic\n",
    "\n",
    "# rename columns to remove '_RBG', '_FBG' for element-wise subtraction\n",
    "rn.columns = rn.columns.str[:-4]\n",
    "fn.columns = fn.columns.str[:-4]\n",
    "ri.columns = ri.columns.str[:-4]\n",
    "fi.columns = fi.columns.str[:-4]\n",
    "rd.columns = rd.columns.str[:-4]\n",
    "fd.columns = fd.columns.str[:-4]"
   ]
  },
  {
   "cell_type": "code",
   "execution_count": 4,
   "id": "af94e58d",
   "metadata": {},
   "outputs": [],
   "source": [
    "X_all = pd.DataFrame(StandardScaler().fit_transform(data[data_cols].T), index=data_cols, columns=data.index)\n",
    "\n",
    "y_3class = fg['gluc_tol']                                                 # ['normal', 'impaired', 'diabetic']\n",
    "y_3class_num = y_3class.map({'normal': 0, 'impaired': 1, 'diabetic': 2})  # [0, 1, 2]\n",
    "y_bg = fg['bg']                                                           # random/fasted blood glucoose\n",
    "y_ogtt = fg['animal'].map(ap['OGTT (AUC)'])\n",
    "y_weight = fg['animal'].map(ap['Weightprefastweek12'])\n",
    "y_insulin = fg['animal'].map(ap['Insulin (AUC)'])"
   ]
  },
  {
   "cell_type": "markdown",
   "id": "ea8cb663",
   "metadata": {},
   "source": [
    "# Comparing linear regression models trained on fed versus fasted data"
   ]
  },
  {
   "cell_type": "code",
   "execution_count": 142,
   "id": "5c6b8567",
   "metadata": {},
   "outputs": [],
   "source": [
    "cv_10 = RepeatedKFold(n_splits=10, n_repeats=30, random_state=1)\n",
    "model = Lasso()\n",
    "rbg_scores = cross_val_score(\n",
    "    model,       \n",
    "    X_all.loc[rbg_cols],  \n",
    "    y_ogtt.loc[rbg_cols],  \n",
    "    scoring='neg_mean_absolute_percentage_error',          \n",
    "    cv=cv_10,            \n",
    "    n_jobs=7,      \n",
    "    error_score='raise')\n",
    "\n",
    "fbg_scores = cross_val_score(\n",
    "    model,       \n",
    "    X_all.loc[fbg_cols],  \n",
    "    y_ogtt.loc[fbg_cols],  \n",
    "    scoring='neg_mean_absolute_percentage_error',          \n",
    "    cv=cv_10,            \n",
    "    n_jobs=7,      \n",
    "    error_score='raise')"
   ]
  },
  {
   "cell_type": "code",
   "execution_count": 143,
   "id": "6808d2cb",
   "metadata": {},
   "outputs": [
    {
     "name": "stdout",
     "output_type": "stream",
     "text": [
      "Mean Error:   0.13419200272349077\n",
      "Median Error: 0.11913481107535533\n",
      "Standard Dev of errors: \t\t0.0810417423700447\n"
     ]
    },
    {
     "data": {
      "image/png": "[encoded data removed]",
      "text/plain": [
       "<Figure size 432x288 with 1 Axes>"
      ]
     },
     "metadata": {
      "needs_background": "light"
     },
     "output_type": "display_data"
    }
   ],
   "source": [
    "print(f'Mean Error:   {np.mean(-1*rbg_scores)}\\n'\n",
    "      f'Median Error: {np.median(-1*rbg_scores)}\\n'\n",
    "      f'Standard Dev of errors: \\t\\t{np.std(rbg_scores)}')\n",
    "plt.hist(-1*rbg_scores, bins=20);"
   ]
  },
  {
   "cell_type": "code",
   "execution_count": 147,
   "id": "833d2531",
   "metadata": {},
   "outputs": [],
   "source": [
    "mean_rbg = np.mean(-1 * rbg_scores)\n",
    "mean_fbg = np.mean(-1 * fbg_scores)\n",
    "median_rbg = np.median(-1 * rbg_scores)\n",
    "median_fbg = np.median(-1 * fbg_scores)\n",
    "\n",
    "errors = pd.DataFrame({'FBG': fbg_scores*-1, 'RBG': rbg_scores*-1}).melt()\n",
    "errors['dummy'] = 'dummy'\n",
    "errors.to_csv(r'../data/interim/fasted_vs_fed_model_errors/LASSO.csv')"
   ]
  },
  {
   "cell_type": "code",
   "execution_count": 146,
   "id": "a589a2af",
   "metadata": {},
   "outputs": [
    {
     "data": {
      "image/png": "[encoded data removed]",
      "text/plain": [
       "<Figure size 576x288 with 1 Axes>"
      ]
     },
     "metadata": {
      "needs_background": "light"
     },
     "output_type": "display_data"
    }
   ],
   "source": [
    "fig, ax = plt.subplots(figsize=(8, 4))\n",
    "\n",
    "vp = sns.violinplot(\n",
    "    data=errors, x='value', y='dummy',\n",
    "    orient='h', split=True, hue='variable',\n",
    "    scale='width', cut=0.4,\n",
    "    palette=colors, \n",
    "    inner=None, \n",
    "    ax=ax\n",
    ")\n",
    "plt.axvline(x=mean_fbg, ymin=0.5, ymax=0.95, c='black', linewidth=3, solid_capstyle='butt')\n",
    "plt.axvline(x=mean_rbg, ymin=0.1, ymax=0.5, c='black', linewidth=3, solid_capstyle='butt')\n",
    "plt.annotate(text=str(round(mean_fbg*100, 1)) + '%', xy=(mean_fbg, plt.ylim()[1]), \n",
    "             ha='center', va='center', fontsize=18, )\n",
    "plt.annotate(text=str(round(mean_rbg*100, 1)) + '%', xy=(mean_rbg, plt.ylim()[0]*0.93), \n",
    "             ha='center', va='center', fontsize=18)\n",
    "\n",
    "ax.set_yticks([])\n",
    "ax.set_xlim((0, ax.get_xlim()[1]))\n",
    "# ax.set_xticks(ticks=ax.get_xticks()[:-1], labels=[int(x*100) for x in ax.get_xticks()][:-1], fontsize=16)\n",
    "ax.set_xticks(ticks=np.arange(0, 0.75, 0.1), labels=range(0, 80, 10), fontsize=16)\n",
    "ax.tick_params(axis='x', length=0)\n",
    "ax.set_ylabel(None)\n",
    "ax.set_xlabel(None)\n",
    "\n",
    "ax.get_legend().remove()\n",
    "plt.grid()\n",
    "\n",
    "sns.despine(left=True, bottom=True, ax=ax)\n",
    "\n",
    "plt.savefig(r'../reports/figures/fasted_vs_fed_models/lasso.png', bbox_inches='tight', dpi=150)\n",
    "plt.savefig(r'../reports/figures/fasted_vs_fed_models/lasso.svg', bbox_inches='tight', dpi=150)"
   ]
  },
  {
   "cell_type": "code",
   "execution_count": 67,
   "id": "5e1b0b34",
   "metadata": {
    "scrolled": false
   },
   "outputs": [
    {
     "data": {
      "image/png": "[encoded data removed]",
      "text/plain": [
       "<Figure size 576x576 with 2 Axes>"
      ]
     },
     "metadata": {},
     "output_type": "display_data"
    }
   ],
   "source": [
    "fig, (ax1, ax2) = plt.subplots(nrows=2, sharex=True, figsize=(8, 8))\n",
    "sp = sns.stripplot(\n",
    "    data=errors, x='value', y='variable',\n",
    "    s=4, palette=colors, ax=ax1\n",
    ")\n",
    "\n",
    "vp = sns.violinplot(\n",
    "    data=errors, x='value', y='dummy',\n",
    "    orient='h', split=True, hue='variable',\n",
    "    scale='width',\n",
    "    palette=colors, \n",
    "    inner=None, \n",
    "    ax=ax2\n",
    ")\n",
    "# plt.plot([mean_rbg, mean_rbg], [0, 100])\n",
    "plt.axvline(x=mean_fbg, ymin=0.5, ymax=0.95, c='black', linewidth=3, solid_capstyle='butt')\n",
    "plt.axvline(x=mean_rbg, ymin=0.1, ymax=0.5, c='black', linewidth=3, solid_capstyle='butt')\n",
    "plt.annotate(text=str(round(mean_fbg*100, 1)) + '%', xy=(mean_fbg, plt.ylim()[1]), \n",
    "             ha='center', va='center', fontsize=15, )\n",
    "plt.annotate(text=str(round(mean_rbg*100, 1)) + '%', xy=(mean_rbg, plt.ylim()[0]*0.9), \n",
    "             ha='center', va='center', fontsize=15)\n",
    "\n",
    "ax1.set_xticks([])\n",
    "ax1.set_yticks([])\n",
    "ax1.set_xlabel(None)\n",
    "ax1.set_ylabel(None)\n",
    "\n",
    "ax2.set_yticks([])\n",
    "ax2.set_ylabel(None)\n",
    "ax2.set_xlabel(None)\n",
    "\n",
    "legend = vp.legend_\n",
    "legend.set_title(None)\n",
    "# legend.\n",
    "\n",
    "sns.despine(left=True, bottom=True, ax=ax1, fig=fig)\n",
    "\n",
    "# ax2.legend(labels=['Fasted', 'Fed'])\n",
    "\n",
    "# sns.despine(left=True)"
   ]
  },
  {
   "cell_type": "code",
   "execution_count": null,
   "id": "0ba46aba",
   "metadata": {},
   "outputs": [],
   "source": [
    "legend."
   ]
  },
  {
   "cell_type": "code",
   "execution_count": 108,
   "id": "8a90801d",
   "metadata": {},
   "outputs": [
    {
     "data": {
      "text/plain": [
       "(array([ 67., 105.,  30.,  51.,  29.,  11.,   3.,   3.,   0.,   1.]),\n",
       " array([0.01442768, 0.08120466, 0.14798164, 0.21475861, 0.28153559,\n",
       "        0.34831257, 0.41508954, 0.48186652, 0.5486435 , 0.61542048,\n",
       "        0.68219745]),\n",
       " <BarContainer object of 10 artists>)"
      ]
     },
     "execution_count": 108,
     "metadata": {},
     "output_type": "execute_result"
    },
    {
     "data": {
      "image/png": "[encoded data removed]",
      "text/plain": [
       "<Figure size 432x288 with 1 Axes>"
      ]
     },
     "metadata": {
      "needs_background": "light"
     },
     "output_type": "display_data"
    }
   ],
   "source": [
    "plt.hist(\n",
    "    errors.loc[errors['variable'] == 'RBG', 'value'],\n",
    "#     orientation='vertical',\n",
    ")\n",
    "\n",
    "plt.hist(\n",
    "    errors.loc[errors['variable'] == 'FBG', 'value'] \n",
    ")\n"
   ]
  },
  {
   "cell_type": "code",
   "execution_count": 62,
   "id": "096e6208",
   "metadata": {},
   "outputs": [
    {
     "data": {
      "text/plain": [
       "Text(0, 0, 'FBG')"
      ]
     },
     "execution_count": 62,
     "metadata": {},
     "output_type": "execute_result"
    }
   ],
   "source": [
    "legend.get_texts()[0]"
   ]
  },
  {
   "cell_type": "code",
   "execution_count": null,
   "id": "6733d938",
   "metadata": {},
   "outputs": [],
   "source": []
  },
  {
   "cell_type": "code",
   "execution_count": null,
   "id": "53000d8d",
   "metadata": {},
   "outputs": [],
   "source": []
  },
  {
   "cell_type": "code",
   "execution_count": null,
   "id": "0f8f92bc",
   "metadata": {},
   "outputs": [],
   "source": []
  },
  {
   "cell_type": "markdown",
   "id": "cc879f7c",
   "metadata": {},
   "source": [
    "## LassoCV \n",
    "https://scikit-learn.org/stable/modules/generated/sklearn.linear_model.LassoCV.html"
   ]
  },
  {
   "cell_type": "code",
   "execution_count": 6,
   "id": "784af6df",
   "metadata": {},
   "outputs": [],
   "source": [
    "lcvd = {}  # lasso CV dictionary\n",
    "\n",
    "for columns, bg_type in zip([rbg_cols, fbg_cols], ['RBG', 'FBG']):\n",
    "    lcvd[bg_type] = {}\n",
    "    for y_data, y_name in zip([y_ogtt], ['ogtt']):\n",
    "        X = X_all.loc[columns]\n",
    "        y = y_data.loc[columns]\n",
    "        logo = list(LeaveOneGroupOut().split(X, y, groups=X.index.map(fg['animal'])))\n",
    "        lcv = LassoCV(cv=logo,\n",
    "                      max_iter=10000, fit_intercept=False,\n",
    "                      n_jobs=-1, random_state=1).fit(X, y)\n",
    "        lcvd[bg_type][y_name] = lcv"
   ]
  },
  {
   "cell_type": "code",
   "execution_count": 7,
   "id": "e989f1d8",
   "metadata": {},
   "outputs": [
    {
     "data": {
      "text/plain": [
       "LassoCV(cv=[(array([ 1,  2,  4,  5,  6,  7,  8,  9, 10, 11, 12, 13, 14, 15, 16, 17, 18,\n",
       "       19, 20, 22, 23, 24, 25, 26, 27, 28, 29]),\n",
       "             array([ 0,  3, 21])),\n",
       "            (array([ 0,  1,  2,  3,  5,  6,  7,  8,  9, 10, 11, 12, 13, 14, 15, 16, 17,\n",
       "       18, 19, 20, 21, 22, 23, 25, 27, 28, 29]),\n",
       "             array([ 4, 24, 26])),\n",
       "            (array([ 0,  1,  2,  3,  4,  5,  6,  7,  8,  9, 10, 12, 14, 15, 16, 18, 19,\n",
       "       20, 21, 22, 23, 24, 25, 26, 27, 28, 29]),\n",
       "             array([11, 13, 17])),\n",
       "            (array([ 0,  1,  2,  3,  4,  5,  6,  7,  9, 10, 11, 12, 13,...\n",
       "            (array([ 0,  1,  3,  4,  5,  6,  7,  8, 10, 11, 12, 13, 14, 15, 16, 17, 18,\n",
       "       19, 20, 21, 22, 23, 24, 26, 27, 28, 29]),\n",
       "             array([ 2,  9, 25])),\n",
       "            (array([ 0,  1,  2,  3,  4,  5,  7,  8,  9, 10, 11, 12, 13, 14, 15, 16, 17,\n",
       "       18, 19, 20, 21, 23, 24, 25, 26, 28, 29]),\n",
       "             array([ 6, 22, 27])),\n",
       "            (array([ 0,  1,  2,  3,  4,  5,  6,  7,  8,  9, 10, 11, 12, 13, 15, 17, 18,\n",
       "       19, 21, 22, 23, 24, 25, 26, 27, 28, 29]),\n",
       "             array([14, 16, 20]))],\n",
       "        fit_intercept=False, max_iter=10000, n_jobs=-1, random_state=1)"
      ]
     },
     "execution_count": 7,
     "metadata": {},
     "output_type": "execute_result"
    }
   ],
   "source": [
    "rom = lcvd['RBG']['ogtt']  # rom = RBG OGTT model\n",
    "fom = lcvd['RBG']['ogtt']\n",
    "rom"
   ]
  },
  {
   "cell_type": "code",
   "execution_count": 8,
   "id": "52972a4b",
   "metadata": {},
   "outputs": [
    {
     "data": {
      "text/html": [
       "<div>\n",
       "<style scoped>\n",
       "    .dataframe tbody tr th:only-of-type {\n",
       "        vertical-align: middle;\n",
       "    }\n",
       "\n",
       "    .dataframe tbody tr th {\n",
       "        vertical-align: top;\n",
       "    }\n",
       "\n",
       "    .dataframe thead th {\n",
       "        text-align: right;\n",
       "    }\n",
       "</style>\n",
       "<table border=\"1\" class=\"dataframe\">\n",
       "  <thead>\n",
       "    <tr style=\"text-align: right;\">\n",
       "      <th></th>\n",
       "      <th>RBG</th>\n",
       "      <th>FBG</th>\n",
       "      <th>Unique ID</th>\n",
       "      <th>Type</th>\n",
       "      <th>Proposed ID</th>\n",
       "      <th>Found in Tracefinder</th>\n",
       "      <th>Compound Class</th>\n",
       "      <th>m/z</th>\n",
       "      <th>RT [min]</th>\n",
       "      <th>Area (Max.)</th>\n",
       "      <th>...</th>\n",
       "      <th>1092_10_FBG</th>\n",
       "      <th>1082_8_RBG</th>\n",
       "      <th>1062_8_RBG</th>\n",
       "      <th>1102_10_FBG</th>\n",
       "      <th>1093_8_RBG</th>\n",
       "      <th>1074_9_FBG</th>\n",
       "      <th>1062_9_RBG</th>\n",
       "      <th>1101_8_RBG</th>\n",
       "      <th>1092_8_RBG</th>\n",
       "      <th>1092_10_RBG</th>\n",
       "    </tr>\n",
       "  </thead>\n",
       "  <tbody>\n",
       "    <tr>\n",
       "      <th>l_316</th>\n",
       "      <td>200.513246</td>\n",
       "      <td>200.513246</td>\n",
       "      <td>unknown_403.35858_8.542</td>\n",
       "      <td>lipid</td>\n",
       "      <td>unknown</td>\n",
       "      <td>NaN</td>\n",
       "      <td>unknown</td>\n",
       "      <td>403.35858</td>\n",
       "      <td>8.542</td>\n",
       "      <td>22.503550</td>\n",
       "      <td>...</td>\n",
       "      <td>15.679468</td>\n",
       "      <td>20.143520</td>\n",
       "      <td>21.094037</td>\n",
       "      <td>15.480311</td>\n",
       "      <td>19.911994</td>\n",
       "      <td>14.720615</td>\n",
       "      <td>20.570435</td>\n",
       "      <td>19.738191</td>\n",
       "      <td>21.011654</td>\n",
       "      <td>20.099443</td>\n",
       "    </tr>\n",
       "    <tr>\n",
       "      <th>l_758</th>\n",
       "      <td>33.652480</td>\n",
       "      <td>33.652480</td>\n",
       "      <td>unknown_1022.81708_15.216</td>\n",
       "      <td>lipid</td>\n",
       "      <td>unknown</td>\n",
       "      <td>NaN</td>\n",
       "      <td>unknown</td>\n",
       "      <td>1022.81708</td>\n",
       "      <td>15.216</td>\n",
       "      <td>21.354210</td>\n",
       "      <td>...</td>\n",
       "      <td>14.206143</td>\n",
       "      <td>18.060288</td>\n",
       "      <td>19.955390</td>\n",
       "      <td>16.491573</td>\n",
       "      <td>13.484304</td>\n",
       "      <td>14.581983</td>\n",
       "      <td>18.285860</td>\n",
       "      <td>17.179826</td>\n",
       "      <td>13.458281</td>\n",
       "      <td>14.073272</td>\n",
       "    </tr>\n",
       "    <tr>\n",
       "      <th>m_295</th>\n",
       "      <td>107.154032</td>\n",
       "      <td>107.154032</td>\n",
       "      <td>unknown_401.07464_11.572</td>\n",
       "      <td>metabolite</td>\n",
       "      <td>unknown</td>\n",
       "      <td>NaN</td>\n",
       "      <td>unknown</td>\n",
       "      <td>401.07464</td>\n",
       "      <td>11.572</td>\n",
       "      <td>24.344364</td>\n",
       "      <td>...</td>\n",
       "      <td>20.795106</td>\n",
       "      <td>23.566199</td>\n",
       "      <td>24.011120</td>\n",
       "      <td>20.802870</td>\n",
       "      <td>20.954025</td>\n",
       "      <td>19.847545</td>\n",
       "      <td>23.687443</td>\n",
       "      <td>24.135076</td>\n",
       "      <td>20.779650</td>\n",
       "      <td>19.907037</td>\n",
       "    </tr>\n",
       "    <tr>\n",
       "      <th>m_79</th>\n",
       "      <td>257.696018</td>\n",
       "      <td>257.696018</td>\n",
       "      <td>unknown_201.0218_2.13</td>\n",
       "      <td>metabolite</td>\n",
       "      <td>unknown</td>\n",
       "      <td>NaN</td>\n",
       "      <td>unknown</td>\n",
       "      <td>201.02180</td>\n",
       "      <td>2.130</td>\n",
       "      <td>26.942709</td>\n",
       "      <td>...</td>\n",
       "      <td>21.159545</td>\n",
       "      <td>25.798729</td>\n",
       "      <td>26.319666</td>\n",
       "      <td>21.716033</td>\n",
       "      <td>26.578909</td>\n",
       "      <td>21.137042</td>\n",
       "      <td>26.784541</td>\n",
       "      <td>26.167704</td>\n",
       "      <td>25.939840</td>\n",
       "      <td>25.311724</td>\n",
       "    </tr>\n",
       "  </tbody>\n",
       "</table>\n",
       "<p>4 rows × 79 columns</p>\n",
       "</div>"
      ],
      "text/plain": [
       "              RBG         FBG                  Unique ID        Type  \\\n",
       "l_316  200.513246  200.513246    unknown_403.35858_8.542       lipid   \n",
       "l_758   33.652480   33.652480  unknown_1022.81708_15.216       lipid   \n",
       "m_295  107.154032  107.154032   unknown_401.07464_11.572  metabolite   \n",
       "m_79   257.696018  257.696018      unknown_201.0218_2.13  metabolite   \n",
       "\n",
       "      Proposed ID  Found in Tracefinder Compound Class         m/z  RT [min]  \\\n",
       "l_316     unknown                   NaN        unknown   403.35858     8.542   \n",
       "l_758     unknown                   NaN        unknown  1022.81708    15.216   \n",
       "m_295     unknown                   NaN        unknown   401.07464    11.572   \n",
       "m_79      unknown                   NaN        unknown   201.02180     2.130   \n",
       "\n",
       "       Area (Max.)  ... 1092_10_FBG 1082_8_RBG 1062_8_RBG  1102_10_FBG  \\\n",
       "l_316    22.503550  ...   15.679468  20.143520  21.094037    15.480311   \n",
       "l_758    21.354210  ...   14.206143  18.060288  19.955390    16.491573   \n",
       "m_295    24.344364  ...   20.795106  23.566199  24.011120    20.802870   \n",
       "m_79     26.942709  ...   21.159545  25.798729  26.319666    21.716033   \n",
       "\n",
       "       1093_8_RBG  1074_9_FBG  1062_9_RBG  1101_8_RBG  1092_8_RBG  1092_10_RBG  \n",
       "l_316   19.911994   14.720615   20.570435   19.738191   21.011654    20.099443  \n",
       "l_758   13.484304   14.581983   18.285860   17.179826   13.458281    14.073272  \n",
       "m_295   20.954025   19.847545   23.687443   24.135076   20.779650    19.907037  \n",
       "m_79    26.578909   21.137042   26.784541   26.167704   25.939840    25.311724  \n",
       "\n",
       "[4 rows x 79 columns]"
      ]
     },
     "execution_count": 8,
     "metadata": {},
     "output_type": "execute_result"
    }
   ],
   "source": [
    "lfi = pd.DataFrame({'RBG': rom.coef_, 'FBG': fom.coef_}, index=rom.feature_names_in_).join(data)\n",
    "lfifilt = lfi.loc[(lfi['RBG'] > 0) | (lfi['FBG'] > 0)]\n",
    "lfifilt"
   ]
  },
  {
   "cell_type": "code",
   "execution_count": null,
   "id": "28142e10",
   "metadata": {},
   "outputs": [],
   "source": []
  },
  {
   "cell_type": "markdown",
   "id": "44751b97",
   "metadata": {},
   "source": [
    "## On Z-scored data, LassoCV returns the same 13 features with same coeficients for all, for both random and fasted\n",
    "\n",
    "## On data that is only mean-centered, LassoCV returns 4 features that are, again, identical in coefficient between random and fasted"
   ]
  },
  {
   "cell_type": "markdown",
   "id": "e05edfd1",
   "metadata": {},
   "source": [
    "# Try LarsCV"
   ]
  },
  {
   "cell_type": "code",
   "execution_count": 9,
   "id": "690c8396",
   "metadata": {
    "scrolled": true
   },
   "outputs": [
    {
     "name": "stderr",
     "output_type": "stream",
     "text": [
      "C:\\Users\\bjanderson23\\anaconda3\\lib\\site-packages\\sklearn\\linear_model\\_least_angle.py:1726: RuntimeWarning: overflow encountered in square\n",
      "  this_residues **= 2\n"
     ]
    }
   ],
   "source": [
    "larscvd = {}  # Lars CV dictionary\n",
    "\n",
    "for columns, bg_type in zip([rbg_cols, fbg_cols], ['RBG', 'FBG']):\n",
    "    larscvd[bg_type] = {}\n",
    "    for y_data, y_name in zip([y_ogtt], ['ogtt']):\n",
    "        X = X_all.loc[columns]\n",
    "        y = y_data.loc[columns]\n",
    "        logo = list(LeaveOneGroupOut().split(X, y, groups=X.index.map(fg['animal'])))\n",
    "        larscv = LarsCV(\n",
    "#             cv=logo,\n",
    "            eps=1,\n",
    "            cv=10,\n",
    "            max_iter=10000, \n",
    "#             fit_intercept=False,\n",
    "            normalize=False,\n",
    "            n_jobs=-1\n",
    "        ).fit(X, y)\n",
    "        larscvd[bg_type][y_name] = larscv"
   ]
  },
  {
   "cell_type": "code",
   "execution_count": 10,
   "id": "44a439f4",
   "metadata": {},
   "outputs": [
    {
     "data": {
      "text/plain": [
       "LarsCV(cv=10, eps=1, max_iter=10000, n_jobs=-1, normalize=False)"
      ]
     },
     "execution_count": 10,
     "metadata": {},
     "output_type": "execute_result"
    }
   ],
   "source": [
    "larsrom = larscvd['RBG']['ogtt']  # rom = RBG OGTT model\n",
    "larsfom = larscvd['RBG']['ogtt']\n",
    "larsrom"
   ]
  },
  {
   "cell_type": "code",
   "execution_count": 11,
   "id": "2a83a5aa",
   "metadata": {},
   "outputs": [
    {
     "data": {
      "text/html": [
       "<div>\n",
       "<style scoped>\n",
       "    .dataframe tbody tr th:only-of-type {\n",
       "        vertical-align: middle;\n",
       "    }\n",
       "\n",
       "    .dataframe tbody tr th {\n",
       "        vertical-align: top;\n",
       "    }\n",
       "\n",
       "    .dataframe thead th {\n",
       "        text-align: right;\n",
       "    }\n",
       "</style>\n",
       "<table border=\"1\" class=\"dataframe\">\n",
       "  <thead>\n",
       "    <tr style=\"text-align: right;\">\n",
       "      <th></th>\n",
       "      <th>RBG</th>\n",
       "      <th>FBG</th>\n",
       "      <th>Unique ID</th>\n",
       "      <th>Type</th>\n",
       "      <th>Proposed ID</th>\n",
       "      <th>Found in Tracefinder</th>\n",
       "      <th>Compound Class</th>\n",
       "      <th>m/z</th>\n",
       "      <th>RT [min]</th>\n",
       "      <th>Area (Max.)</th>\n",
       "      <th>...</th>\n",
       "      <th>1092_10_FBG</th>\n",
       "      <th>1082_8_RBG</th>\n",
       "      <th>1062_8_RBG</th>\n",
       "      <th>1102_10_FBG</th>\n",
       "      <th>1093_8_RBG</th>\n",
       "      <th>1074_9_FBG</th>\n",
       "      <th>1062_9_RBG</th>\n",
       "      <th>1101_8_RBG</th>\n",
       "      <th>1092_8_RBG</th>\n",
       "      <th>1092_10_RBG</th>\n",
       "    </tr>\n",
       "  </thead>\n",
       "  <tbody>\n",
       "    <tr>\n",
       "      <th>l_669</th>\n",
       "      <td>16.887438</td>\n",
       "      <td>16.887438</td>\n",
       "      <td>unknown_1081.79688_13.387</td>\n",
       "      <td>lipid</td>\n",
       "      <td>unknown</td>\n",
       "      <td>NaN</td>\n",
       "      <td>unknown</td>\n",
       "      <td>1081.79688</td>\n",
       "      <td>13.387</td>\n",
       "      <td>21.383977</td>\n",
       "      <td>...</td>\n",
       "      <td>18.452310</td>\n",
       "      <td>18.058530</td>\n",
       "      <td>18.172086</td>\n",
       "      <td>19.309311</td>\n",
       "      <td>13.912947</td>\n",
       "      <td>18.131658</td>\n",
       "      <td>16.797801</td>\n",
       "      <td>18.027424</td>\n",
       "      <td>13.464801</td>\n",
       "      <td>13.417249</td>\n",
       "    </tr>\n",
       "    <tr>\n",
       "      <th>l_670</th>\n",
       "      <td>4.775872</td>\n",
       "      <td>4.775872</td>\n",
       "      <td>TG_22:6_22:6_22:6_1040.77014_13.389</td>\n",
       "      <td>lipid</td>\n",
       "      <td>TG 22:6_22:6_22:6</td>\n",
       "      <td>NaN</td>\n",
       "      <td>TG</td>\n",
       "      <td>1040.77014</td>\n",
       "      <td>13.389</td>\n",
       "      <td>23.066720</td>\n",
       "      <td>...</td>\n",
       "      <td>19.719309</td>\n",
       "      <td>19.282239</td>\n",
       "      <td>19.692454</td>\n",
       "      <td>20.536629</td>\n",
       "      <td>15.150611</td>\n",
       "      <td>19.511109</td>\n",
       "      <td>18.080029</td>\n",
       "      <td>19.300056</td>\n",
       "      <td>15.675032</td>\n",
       "      <td>14.081251</td>\n",
       "    </tr>\n",
       "    <tr>\n",
       "      <th>l_758</th>\n",
       "      <td>10.557795</td>\n",
       "      <td>10.557795</td>\n",
       "      <td>unknown_1022.81708_15.216</td>\n",
       "      <td>lipid</td>\n",
       "      <td>unknown</td>\n",
       "      <td>NaN</td>\n",
       "      <td>unknown</td>\n",
       "      <td>1022.81708</td>\n",
       "      <td>15.216</td>\n",
       "      <td>21.354210</td>\n",
       "      <td>...</td>\n",
       "      <td>14.206143</td>\n",
       "      <td>18.060288</td>\n",
       "      <td>19.955390</td>\n",
       "      <td>16.491573</td>\n",
       "      <td>13.484304</td>\n",
       "      <td>14.581983</td>\n",
       "      <td>18.285860</td>\n",
       "      <td>17.179826</td>\n",
       "      <td>13.458281</td>\n",
       "      <td>14.073272</td>\n",
       "    </tr>\n",
       "  </tbody>\n",
       "</table>\n",
       "<p>3 rows × 79 columns</p>\n",
       "</div>"
      ],
      "text/plain": [
       "             RBG        FBG                            Unique ID   Type  \\\n",
       "l_669  16.887438  16.887438            unknown_1081.79688_13.387  lipid   \n",
       "l_670   4.775872   4.775872  TG_22:6_22:6_22:6_1040.77014_13.389  lipid   \n",
       "l_758  10.557795  10.557795            unknown_1022.81708_15.216  lipid   \n",
       "\n",
       "             Proposed ID  Found in Tracefinder Compound Class         m/z  \\\n",
       "l_669            unknown                   NaN        unknown  1081.79688   \n",
       "l_670  TG 22:6_22:6_22:6                   NaN             TG  1040.77014   \n",
       "l_758            unknown                   NaN        unknown  1022.81708   \n",
       "\n",
       "       RT [min]  Area (Max.)  ... 1092_10_FBG 1082_8_RBG 1062_8_RBG  \\\n",
       "l_669    13.387    21.383977  ...   18.452310  18.058530  18.172086   \n",
       "l_670    13.389    23.066720  ...   19.719309  19.282239  19.692454   \n",
       "l_758    15.216    21.354210  ...   14.206143  18.060288  19.955390   \n",
       "\n",
       "       1102_10_FBG  1093_8_RBG  1074_9_FBG  1062_9_RBG  1101_8_RBG  \\\n",
       "l_669    19.309311   13.912947   18.131658   16.797801   18.027424   \n",
       "l_670    20.536629   15.150611   19.511109   18.080029   19.300056   \n",
       "l_758    16.491573   13.484304   14.581983   18.285860   17.179826   \n",
       "\n",
       "       1092_8_RBG  1092_10_RBG  \n",
       "l_669   13.464801    13.417249  \n",
       "l_670   15.675032    14.081251  \n",
       "l_758   13.458281    14.073272  \n",
       "\n",
       "[3 rows x 79 columns]"
      ]
     },
     "execution_count": 11,
     "metadata": {},
     "output_type": "execute_result"
    }
   ],
   "source": [
    "larsfi = pd.DataFrame({'RBG': larsrom.coef_, 'FBG': larsfom.coef_}, index=larsrom.feature_names_in_).join(data)\n",
    "larsfifilt = larsfi.loc[(larsfi['RBG'] > 0) | (larsfi['FBG'] > 0)]\n",
    "larsfifilt"
   ]
  },
  {
   "cell_type": "markdown",
   "id": "fee99736",
   "metadata": {},
   "source": [
    "## With Z-scored data, Lars returns only 3 features as important\n",
    "\n"
   ]
  },
  {
   "cell_type": "markdown",
   "id": "983ddafb",
   "metadata": {},
   "source": [
    "## Ridge Regression CV"
   ]
  },
  {
   "cell_type": "code",
   "execution_count": 23,
   "id": "cac6a650",
   "metadata": {},
   "outputs": [
    {
     "data": {
      "text/plain": [
       "array([1.e-05, 1.e-04, 1.e-03, 1.e-02, 1.e-01, 1.e+00, 1.e+01, 1.e+02,\n",
       "       1.e+03, 1.e+04, 1.e+05])"
      ]
     },
     "execution_count": 23,
     "metadata": {},
     "output_type": "execute_result"
    }
   ],
   "source": []
  },
  {
   "cell_type": "code",
   "execution_count": 34,
   "id": "32a6e1a1",
   "metadata": {},
   "outputs": [],
   "source": [
    "ridgecvd = {}\n",
    "for columns, columns_name in ((rbg_cols, 'RBG'), (fbg_cols, 'FBG')):\n",
    "    \n",
    "    X = X_all.loc[columns]\n",
    "    y = y_ogtt.loc[columns]\n",
    "    alphas = np.logspace(-5, 5, 11)\n",
    "    logo = LeaveOneGroupOut().split(X, y, groups=X.index.map(fg['animal']))\n",
    "    fit = RidgeCV(alphas=alphas, \n",
    "#                   cv=logo,\n",
    "                  cv=None,\n",
    "                  store_cv_values=True,\n",
    "                  alpha_per_target=True,\n",
    "                 ).fit(X, y)\n",
    "    ridgecvd[columns_name] = fit"
   ]
  },
  {
   "cell_type": "code",
   "execution_count": 50,
   "id": "b7375147",
   "metadata": {},
   "outputs": [
    {
     "data": {
      "text/html": [
       "<div>\n",
       "<style scoped>\n",
       "    .dataframe tbody tr th:only-of-type {\n",
       "        vertical-align: middle;\n",
       "    }\n",
       "\n",
       "    .dataframe tbody tr th {\n",
       "        vertical-align: top;\n",
       "    }\n",
       "\n",
       "    .dataframe thead th {\n",
       "        text-align: right;\n",
       "    }\n",
       "</style>\n",
       "<table border=\"1\" class=\"dataframe\">\n",
       "  <thead>\n",
       "    <tr style=\"text-align: right;\">\n",
       "      <th></th>\n",
       "      <th>0</th>\n",
       "    </tr>\n",
       "  </thead>\n",
       "  <tbody>\n",
       "    <tr>\n",
       "      <th>0</th>\n",
       "      <td>-2.624257</td>\n",
       "    </tr>\n",
       "    <tr>\n",
       "      <th>1</th>\n",
       "      <td>-2.485988</td>\n",
       "    </tr>\n",
       "    <tr>\n",
       "      <th>2</th>\n",
       "      <td>-1.260441</td>\n",
       "    </tr>\n",
       "    <tr>\n",
       "      <th>3</th>\n",
       "      <td>-3.625598</td>\n",
       "    </tr>\n",
       "    <tr>\n",
       "      <th>4</th>\n",
       "      <td>-3.533306</td>\n",
       "    </tr>\n",
       "    <tr>\n",
       "      <th>...</th>\n",
       "      <td>...</td>\n",
       "    </tr>\n",
       "    <tr>\n",
       "      <th>1722</th>\n",
       "      <td>-1.470367</td>\n",
       "    </tr>\n",
       "    <tr>\n",
       "      <th>1723</th>\n",
       "      <td>-4.506709</td>\n",
       "    </tr>\n",
       "    <tr>\n",
       "      <th>1724</th>\n",
       "      <td>-1.611871</td>\n",
       "    </tr>\n",
       "    <tr>\n",
       "      <th>1725</th>\n",
       "      <td>-2.893505</td>\n",
       "    </tr>\n",
       "    <tr>\n",
       "      <th>1726</th>\n",
       "      <td>-0.829793</td>\n",
       "    </tr>\n",
       "  </tbody>\n",
       "</table>\n",
       "<p>947 rows × 1 columns</p>\n",
       "</div>"
      ],
      "text/plain": [
       "             0\n",
       "0    -2.624257\n",
       "1    -2.485988\n",
       "2    -1.260441\n",
       "3    -3.625598\n",
       "4    -3.533306\n",
       "...        ...\n",
       "1722 -1.470367\n",
       "1723 -4.506709\n",
       "1724 -1.611871\n",
       "1725 -2.893505\n",
       "1726 -0.829793\n",
       "\n",
       "[947 rows x 1 columns]"
      ]
     },
     "execution_count": 50,
     "metadata": {},
     "output_type": "execute_result"
    }
   ],
   "source": [
    "ridgef = pd.DataFrame(ridgecvd['FBG'].coef_)\n",
    "ridgef.loc[ridgef[0] < 0]"
   ]
  },
  {
   "cell_type": "code",
   "execution_count": null,
   "id": "9ef86b79",
   "metadata": {},
   "outputs": [],
   "source": [
    "pd.DataFrame()"
   ]
  },
  {
   "cell_type": "code",
   "execution_count": null,
   "id": "9f35fdc3",
   "metadata": {},
   "outputs": [],
   "source": []
  },
  {
   "cell_type": "code",
   "execution_count": null,
   "id": "a807a86d",
   "metadata": {},
   "outputs": [],
   "source": []
  },
  {
   "cell_type": "code",
   "execution_count": null,
   "id": "150171f7",
   "metadata": {},
   "outputs": [],
   "source": []
  },
  {
   "cell_type": "code",
   "execution_count": null,
   "id": "0d695160",
   "metadata": {},
   "outputs": [],
   "source": []
  },
  {
   "cell_type": "code",
   "execution_count": null,
   "id": "d1b42deb",
   "metadata": {},
   "outputs": [],
   "source": []
  },
  {
   "cell_type": "code",
   "execution_count": null,
   "id": "46d14b5d",
   "metadata": {},
   "outputs": [],
   "source": []
  },
  {
   "cell_type": "code",
   "execution_count": null,
   "id": "76249dd4",
   "metadata": {},
   "outputs": [],
   "source": []
  },
  {
   "cell_type": "code",
   "execution_count": 16,
   "id": "769d35a1",
   "metadata": {},
   "outputs": [],
   "source": [
    "olsd = {}  # ordinary least squares dictionary\n",
    "for columns, columns_name in ((rbg_cols, 'RBG'), (fbg_cols, 'FBG')):\n",
    "    X = X_all.loc[columns]\n",
    "    y = y_ogtt.loc[columns]\n",
    "    logo = LeaveOneGroupOut().split(X, y, groups=X.index.map(fg['animal']))\n",
    "    estimator = LinearRegression(n_jobs=-1)\n",
    "    olsr = cross_val_predict(estimator, X, y, cv=logo, n_jobs=-1)"
   ]
  },
  {
   "cell_type": "code",
   "execution_count": null,
   "id": "3b44bcb7",
   "metadata": {},
   "outputs": [],
   "source": []
  },
  {
   "cell_type": "code",
   "execution_count": null,
   "id": "3a316ff5",
   "metadata": {},
   "outputs": [],
   "source": []
  },
  {
   "cell_type": "code",
   "execution_count": null,
   "id": "c103b50b",
   "metadata": {},
   "outputs": [],
   "source": []
  },
  {
   "cell_type": "markdown",
   "id": "30fbc20b",
   "metadata": {},
   "source": [
    "# Try Elastic Net again "
   ]
  },
  {
   "cell_type": "code",
   "execution_count": null,
   "id": "ec5efe1b",
   "metadata": {},
   "outputs": [],
   "source": []
  },
  {
   "cell_type": "code",
   "execution_count": null,
   "id": "cc8bfa71",
   "metadata": {},
   "outputs": [],
   "source": []
  },
  {
   "cell_type": "code",
   "execution_count": null,
   "id": "b66a0e65",
   "metadata": {},
   "outputs": [],
   "source": []
  },
  {
   "cell_type": "code",
   "execution_count": null,
   "id": "cfd3e6bf",
   "metadata": {},
   "outputs": [],
   "source": []
  },
  {
   "cell_type": "code",
   "execution_count": null,
   "id": "84447261",
   "metadata": {},
   "outputs": [],
   "source": []
  },
  {
   "cell_type": "code",
   "execution_count": null,
   "id": "d02b16a9",
   "metadata": {},
   "outputs": [],
   "source": []
  },
  {
   "cell_type": "code",
   "execution_count": null,
   "id": "03ad77e0",
   "metadata": {},
   "outputs": [],
   "source": []
  }
 ],
 "metadata": {
  "kernelspec": {
   "display_name": "Python 3",
   "language": "python",
   "name": "python3"
  },
  "language_info": {
   "codemirror_mode": {
    "name": "ipython",
    "version": 3
   },
   "file_extension": ".py",
   "mimetype": "text/x-python",
   "name": "python",
   "nbconvert_exporter": "python",
   "pygments_lexer": "ipython3",
   "version": "3.7.10"
  }
 },
 "nbformat": 4,
 "nbformat_minor": 5
}
