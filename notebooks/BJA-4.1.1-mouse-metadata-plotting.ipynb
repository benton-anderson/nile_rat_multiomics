{
 "cells": [
  {
   "cell_type": "markdown",
   "id": "03c0753d",
   "metadata": {},
   "source": [
    "### See BJA-0.1.1 for plots"
   ]
  },
  {
   "cell_type": "code",
   "execution_count": null,
   "id": "a6df8c58",
   "metadata": {},
   "outputs": [],
   "source": []
  }
 ],
 "metadata": {
  "kernelspec": {
   "display_name": "Python 3",
   "language": "python",
   "name": "python3"
  },
  "language_info": {
   "codemirror_mode": {
    "name": "ipython",
    "version": 3
   },
   "file_extension": ".py",
   "mimetype": "text/x-python",
   "name": "python",
   "nbconvert_exporter": "python",
   "pygments_lexer": "ipython3",
   "version": "3.7.10"
  }
 },
 "nbformat": 4,
 "nbformat_minor": 5
}
