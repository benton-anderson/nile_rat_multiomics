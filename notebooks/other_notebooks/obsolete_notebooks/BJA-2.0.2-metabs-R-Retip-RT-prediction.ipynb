{
 "cells": [
  {
   "cell_type": "code",
   "execution_count": 1,
   "id": "eed16d0c",
   "metadata": {},
   "outputs": [
    {
     "name": "stdout",
     "output_type": "stream",
     "text": [
      "package 'devtools' successfully unpacked and MD5 sums checked\n",
      "\n",
      "The downloaded binary packages are in\n",
      "\tC:\\Users\\bjanderson23\\AppData\\Local\\Temp\\RtmpsJb1Ca\\downloaded_packages\n"
     ]
    },
    {
     "name": "stderr",
     "output_type": "stream",
     "text": [
      "Downloading GitHub repo Paolobnn/Retiplib@HEAD\n",
      "\n"
     ]
    },
    {
     "name": "stdout",
     "output_type": "stream",
     "text": [
      "\u001b[32mv\u001b[39m  \u001b[90mchecking for file 'C:\\Users\\bjanderson23\\AppData\\Local\\Temp\\RtmpsJb1Ca\\remotes506821c53b29\\PaoloBnn-Retiplib-49bd5fe/DESCRIPTION'\u001b[39m\u001b[36m\u001b[39m\n",
      "\u001b[90m-\u001b[39m\u001b[90m  \u001b[39m\u001b[90mpreparing 'Retiplib':\u001b[39m\u001b[36m\u001b[36m (809ms)\u001b[36m\u001b[39m\n",
      "\u001b[32mv\u001b[39m  \u001b[90mchecking DESCRIPTION meta-information\u001b[39m\u001b[36m\u001b[39m\n",
      "\u001b[90m-\u001b[39m\u001b[90m  \u001b[39m\u001b[90mchecking for LF line-endings in source and make files and shell scripts\u001b[39m\u001b[36m\u001b[39m\n",
      "\u001b[90m-\u001b[39m\u001b[90m  \u001b[39m\u001b[90mchecking for empty or unneeded directories\u001b[39m\u001b[36m\u001b[39m\n",
      "\u001b[90m-\u001b[39m\u001b[90m  \u001b[39m\u001b[90mbuilding 'Retiplib_0.2.1.tar.gz'\u001b[39m\u001b[36m\u001b[39m\n",
      "   \n",
      "\r"
     ]
    },
    {
     "name": "stderr",
     "output_type": "stream",
     "text": [
      "Downloading GitHub repo Paolobnn/Retip@HEAD\n",
      "\n"
     ]
    },
    {
     "name": "stdout",
     "output_type": "stream",
     "text": [
      "vctrs        (0.3.8  -> 0.4.1     ) [CRAN]\n",
      "fansi        (1.0.2  -> 1.0.3     ) [CRAN]\n",
      "cli          (3.2.0  -> 3.3.0     ) [CRAN]\n",
      "rJava        (NA     -> 1.0-6     ) [CRAN]\n",
      "parallelly   (1.31.0 -> 1.31.1    ) [CRAN]\n",
      "globals      (0.14.0 -> 0.15.0    ) [CRAN]\n",
      "future       (1.24.0 -> 1.25.0    ) [CRAN]\n",
      "SQUAREM      (NA     -> 2021.1    ) [CRAN]\n",
      "numDeriv     (NA     -> 2016.8-1.1) [CRAN]\n",
      "future.apply (1.8.1  -> 1.9.0     ) [CRAN]\n",
      "lava         (NA     -> 1.6.10    ) [CRAN]\n",
      "prodlim      (NA     -> 2019.11.13) [CRAN]\n",
      "timeDate     (NA     -> 3043.102  ) [CRAN]\n",
      "tibble       (3.1.6  -> 3.1.7     ) [CRAN]\n",
      "lubridate    (NA     -> 1.8.0     ) [CRAN]\n",
      "ipred        (NA     -> 0.9-12    ) [CRAN]\n",
      "hardhat      (NA     -> 0.2.0     ) [CRAN]\n",
      "gower        (NA     -> 1.0.0     ) [CRAN]\n",
      "dplyr        (1.0.8  -> 1.0.9     ) [CRAN]\n",
      "proxy        (NA     -> 0.4-26    ) [CRAN]\n",
      "reticulate   (1.24   -> 1.25      ) [CRAN]\n",
      "backports    (NA     -> 1.4.1     ) [CRAN]\n",
      "ps           (1.6.0  -> 1.7.0     ) [CRAN]\n",
      "tfautograph  (NA     -> 0.3.2     ) [CRAN]\n",
      "tfruns       (NA     -> 1.5.0     ) [CRAN]\n",
      "itertools    (NA     -> 0.1-3     ) [CRAN]\n",
      "fingerprint  (NA     -> 3.5.7     ) [CRAN]\n",
      "rcdklibs     (NA     -> 2.3       ) [CRAN]\n",
      "truncnorm    (NA     -> 1.0-8     ) [CRAN]\n",
      "Formula      (NA     -> 1.2-4     ) [CRAN]\n",
      "recipes      (NA     -> 0.2.0     ) [CRAN]\n",
      "pROC         (NA     -> 1.18.0    ) [CRAN]\n",
      "ModelMetrics (NA     -> 1.2.2.2   ) [CRAN]\n",
      "e1071        (NA     -> 1.7-9     ) [CRAN]\n",
      "ggplot2      (3.3.5  -> 3.3.6     ) [CRAN]\n",
      "zeallot      (NA     -> 0.1.0     ) [CRAN]\n",
      "tensorflow   (NA     -> 2.8.0     ) [CRAN]\n",
      "rcdk         (NA     -> 3.6.0     ) [CRAN]\n",
      "brnn         (NA     -> 0.9.2     ) [CRAN]\n",
      "xgboost      (NA     -> 1.6.0.1   ) [CRAN]\n",
      "caret        (NA     -> 6.0-92    ) [CRAN]\n",
      "keras        (NA     -> 2.8.0     ) [CRAN]\n"
     ]
    },
    {
     "name": "stderr",
     "output_type": "stream",
     "text": [
      "Installing 42 packages: vctrs, fansi, cli, rJava, parallelly, globals, future, SQUAREM, numDeriv, future.apply, lava, prodlim, timeDate, tibble, lubridate, ipred, hardhat, gower, dplyr, proxy, reticulate, backports, ps, tfautograph, tfruns, itertools, fingerprint, rcdklibs, truncnorm, Formula, recipes, pROC, ModelMetrics, e1071, ggplot2, zeallot, tensorflow, rcdk, brnn, xgboost, caret, keras\n",
      "\n"
     ]
    },
    {
     "name": "stdout",
     "output_type": "stream",
     "text": [
      "\n",
      "  There is a binary version available but the source version is later:\n",
      "     binary source needs_compilation\n",
      "brnn  0.9.1  0.9.2              TRUE\n",
      "\n",
      "package 'vctrs' successfully unpacked and MD5 sums checked\n"
     ]
    },
    {
     "name": "stderr",
     "output_type": "stream",
     "text": [
      "Warning message:\n",
      "\"cannot remove prior installation of package 'vctrs'\"\n",
      "Warning message in file.copy(savedcopy, lib, recursive = TRUE):\n",
      "\"problem copying C:\\Users\\bjanderson23\\R\\R-4.1.2\\library\\00LOCK\\vctrs\\libs\\x64\\vctrs.dll to C:\\Users\\bjanderson23\\R\\R-4.1.2\\library\\vctrs\\libs\\x64\\vctrs.dll: Permission denied\"\n",
      "Warning message:\n",
      "\"restored 'vctrs'\"\n"
     ]
    },
    {
     "name": "stdout",
     "output_type": "stream",
     "text": [
      "package 'fansi' successfully unpacked and MD5 sums checked\n"
     ]
    },
    {
     "name": "stderr",
     "output_type": "stream",
     "text": [
      "Warning message:\n",
      "\"cannot remove prior installation of package 'fansi'\"\n",
      "Warning message in file.copy(savedcopy, lib, recursive = TRUE):\n",
      "\"problem copying C:\\Users\\bjanderson23\\R\\R-4.1.2\\library\\00LOCK\\fansi\\libs\\x64\\fansi.dll to C:\\Users\\bjanderson23\\R\\R-4.1.2\\library\\fansi\\libs\\x64\\fansi.dll: Permission denied\"\n",
      "Warning message:\n",
      "\"restored 'fansi'\"\n"
     ]
    },
    {
     "name": "stdout",
     "output_type": "stream",
     "text": [
      "package 'cli' successfully unpacked and MD5 sums checked\n"
     ]
    },
    {
     "name": "stderr",
     "output_type": "stream",
     "text": [
      "Warning message:\n",
      "\"cannot remove prior installation of package 'cli'\"\n",
      "Warning message in file.copy(savedcopy, lib, recursive = TRUE):\n",
      "\"problem copying C:\\Users\\bjanderson23\\R\\R-4.1.2\\library\\00LOCK\\cli\\libs\\x64\\cli.dll to C:\\Users\\bjanderson23\\R\\R-4.1.2\\library\\cli\\libs\\x64\\cli.dll: Permission denied\"\n",
      "Warning message:\n",
      "\"restored 'cli'\"\n"
     ]
    },
    {
     "name": "stdout",
     "output_type": "stream",
     "text": [
      "package 'rJava' successfully unpacked and MD5 sums checked\n",
      "package 'parallelly' successfully unpacked and MD5 sums checked\n",
      "package 'globals' successfully unpacked and MD5 sums checked\n",
      "package 'future' successfully unpacked and MD5 sums checked\n",
      "package 'SQUAREM' successfully unpacked and MD5 sums checked\n",
      "package 'numDeriv' successfully unpacked and MD5 sums checked\n",
      "package 'future.apply' successfully unpacked and MD5 sums checked\n",
      "package 'lava' successfully unpacked and MD5 sums checked\n",
      "package 'prodlim' successfully unpacked and MD5 sums checked\n",
      "package 'timeDate' successfully unpacked and MD5 sums checked\n",
      "package 'tibble' successfully unpacked and MD5 sums checked\n"
     ]
    },
    {
     "name": "stderr",
     "output_type": "stream",
     "text": [
      "Warning message:\n",
      "\"cannot remove prior installation of package 'tibble'\"\n",
      "Warning message in file.copy(savedcopy, lib, recursive = TRUE):\n",
      "\"problem copying C:\\Users\\bjanderson23\\R\\R-4.1.2\\library\\00LOCK\\tibble\\libs\\x64\\tibble.dll to C:\\Users\\bjanderson23\\R\\R-4.1.2\\library\\tibble\\libs\\x64\\tibble.dll: Permission denied\"\n",
      "Warning message:\n",
      "\"restored 'tibble'\"\n"
     ]
    },
    {
     "name": "stdout",
     "output_type": "stream",
     "text": [
      "package 'lubridate' successfully unpacked and MD5 sums checked\n",
      "package 'ipred' successfully unpacked and MD5 sums checked\n",
      "package 'hardhat' successfully unpacked and MD5 sums checked\n",
      "package 'gower' successfully unpacked and MD5 sums checked\n",
      "package 'dplyr' successfully unpacked and MD5 sums checked\n"
     ]
    },
    {
     "name": "stderr",
     "output_type": "stream",
     "text": [
      "Warning message:\n",
      "\"cannot remove prior installation of package 'dplyr'\"\n",
      "Warning message in file.copy(savedcopy, lib, recursive = TRUE):\n",
      "\"problem copying C:\\Users\\bjanderson23\\R\\R-4.1.2\\library\\00LOCK\\dplyr\\libs\\x64\\dplyr.dll to C:\\Users\\bjanderson23\\R\\R-4.1.2\\library\\dplyr\\libs\\x64\\dplyr.dll: Permission denied\"\n",
      "Warning message:\n",
      "\"restored 'dplyr'\"\n"
     ]
    },
    {
     "name": "stdout",
     "output_type": "stream",
     "text": [
      "package 'proxy' successfully unpacked and MD5 sums checked\n",
      "package 'reticulate' successfully unpacked and MD5 sums checked\n",
      "package 'backports' successfully unpacked and MD5 sums checked\n",
      "package 'ps' successfully unpacked and MD5 sums checked\n"
     ]
    },
    {
     "name": "stderr",
     "output_type": "stream",
     "text": [
      "Warning message:\n",
      "\"cannot remove prior installation of package 'ps'\"\n",
      "Warning message in file.copy(savedcopy, lib, recursive = TRUE):\n",
      "\"problem copying C:\\Users\\bjanderson23\\R\\R-4.1.2\\library\\00LOCK\\ps\\libs\\x64\\ps.dll to C:\\Users\\bjanderson23\\R\\R-4.1.2\\library\\ps\\libs\\x64\\ps.dll: Permission denied\"\n",
      "Warning message:\n",
      "\"restored 'ps'\"\n"
     ]
    },
    {
     "name": "stdout",
     "output_type": "stream",
     "text": [
      "package 'tfautograph' successfully unpacked and MD5 sums checked\n",
      "package 'tfruns' successfully unpacked and MD5 sums checked\n",
      "package 'itertools' successfully unpacked and MD5 sums checked\n",
      "package 'fingerprint' successfully unpacked and MD5 sums checked\n",
      "package 'rcdklibs' successfully unpacked and MD5 sums checked\n",
      "package 'truncnorm' successfully unpacked and MD5 sums checked\n",
      "package 'Formula' successfully unpacked and MD5 sums checked\n",
      "package 'recipes' successfully unpacked and MD5 sums checked\n",
      "package 'pROC' successfully unpacked and MD5 sums checked\n",
      "package 'ModelMetrics' successfully unpacked and MD5 sums checked\n",
      "package 'e1071' successfully unpacked and MD5 sums checked\n",
      "package 'ggplot2' successfully unpacked and MD5 sums checked\n",
      "package 'zeallot' successfully unpacked and MD5 sums checked\n",
      "package 'tensorflow' successfully unpacked and MD5 sums checked\n",
      "package 'rcdk' successfully unpacked and MD5 sums checked\n",
      "package 'xgboost' successfully unpacked and MD5 sums checked\n",
      "package 'caret' successfully unpacked and MD5 sums checked\n",
      "package 'keras' successfully unpacked and MD5 sums checked\n",
      "\n",
      "The downloaded binary packages are in\n",
      "\tC:\\Users\\bjanderson23\\AppData\\Local\\Temp\\RtmpsJb1Ca\\downloaded_packages\n"
     ]
    },
    {
     "name": "stderr",
     "output_type": "stream",
     "text": [
      "installing the source package 'brnn'\n",
      "\n",
      "\n"
     ]
    },
    {
     "name": "stdout",
     "output_type": "stream",
     "text": [
      "\u001b[32mv\u001b[39m  \u001b[90mchecking for file 'C:\\Users\\bjanderson23\\AppData\\Local\\Temp\\RtmpsJb1Ca\\remotes50682e505d43\\PaoloBnn-Retip-8c23eda/DESCRIPTION'\u001b[39m\u001b[36m\u001b[39m\n",
      "\u001b[90m-\u001b[39m\u001b[90m  \u001b[39m\u001b[90mpreparing 'Retip':\u001b[39m\u001b[36m\u001b[36m (503ms)\u001b[36m\u001b[39m\n",
      "\u001b[32mv\u001b[39m  \u001b[90mchecking DESCRIPTION meta-information\u001b[39m\u001b[36m\u001b[39m\n",
      "\u001b[90m-\u001b[39m\u001b[90m  \u001b[39m\u001b[90mchecking for LF line-endings in source and make files and shell scripts\u001b[39m\u001b[36m\u001b[39m\n",
      "\u001b[90m-\u001b[39m\u001b[90m  \u001b[39m\u001b[90mchecking for empty or unneeded directories\u001b[39m\u001b[36m\u001b[39m\n",
      "\u001b[90m-\u001b[39m\u001b[90m  \u001b[39m\u001b[90mbuilding 'Retip_0.5.4.tar.gz'\u001b[39m\u001b[36m\u001b[39m\n",
      "   \n",
      "\r"
     ]
    },
    {
     "name": "stderr",
     "output_type": "stream",
     "text": [
      "Warning message in i.p(...):\n",
      "\"installation of package 'C:/Users/BJANDE~1/AppData/Local/Temp/RtmpsJb1Ca/file506832f86847/Retip_0.5.4.tar.gz' had non-zero exit status\"\n",
      "Warning message:\n",
      "\"package 'keras' was built under R version 4.1.3\"\n",
      "Warning message in shell(fi, intern = intern):\n",
      "\"'C:\\Users\\BJANDE~1\\AppData\\Local\\Temp\\RtmpsJb1Ca\\file506818671a50.bat' execution failed with error code 1\"\n"
     ]
    },
    {
     "ename": "ERROR",
     "evalue": "Error: Error installing package(s): \"\\\"tensorflow==2.8.*\\\"\", \"\\\"tensorflow-hub\\\"\", \"\\\"scipy\\\"\", \"\\\"requests\\\"\", \"\\\"Pillow\\\"\", \"\\\"h5py\\\"\", \"\\\"pandas\\\"\"\n",
     "output_type": "error",
     "traceback": [
      "Error: Error installing package(s): \"\\\"tensorflow==2.8.*\\\"\", \"\\\"tensorflow-hub\\\"\", \"\\\"scipy\\\"\", \"\\\"requests\\\"\", \"\\\"Pillow\\\"\", \"\\\"h5py\\\"\", \"\\\"pandas\\\"\"\nTraceback:\n",
      "1. install_keras()",
      "2. tensorflow::install_tensorflow(method = match.arg(method), conda = conda, \n .     version = tensorflow, extra_packages = pkgs, pip_ignore_installed = pip_ignore_installed, \n .     ...)",
      "3. reticulate::py_install(packages = packages, envname = envname, \n .     method = method, conda = conda, python_version = python_version, \n .     pip = TRUE, pip_ignore_installed = pip_ignore_installed, \n .     ...)",
      "4. conda_install(envname, packages = packages, conda = conda, python_version = python_version, \n .     pip = pip, pip_ignore_installed = pip_ignore_installed, ...)",
      "5. pip_install(python = python, packages = packages, pip_options = pip_options, \n .     ignore_installed = pip_ignore_installed, conda = conda, envname = envname)",
      "6. stop(msg, call. = FALSE)"
     ]
    }
   ],
   "source": [
    "install.packages(\"devtools\")\n",
    "devtools::install_github(\"Paolobnn/Retiplib\")\n",
    "devtools::install_github(\"Paolobnn/Retip\")\n",
    "\n",
    "library(keras)\n",
    "install_keras()"
   ]
  },
  {
   "cell_type": "code",
   "execution_count": 8,
   "id": "45ecd31c",
   "metadata": {},
   "outputs": [],
   "source": [
    "library(keras)"
   ]
  },
  {
   "cell_type": "code",
   "execution_count": null,
   "id": "aa7458e4",
   "metadata": {},
   "outputs": [],
   "source": []
  },
  {
   "cell_type": "code",
   "execution_count": null,
   "id": "c0afd613",
   "metadata": {},
   "outputs": [],
   "source": []
  },
  {
   "cell_type": "code",
   "execution_count": null,
   "id": "92272e5a",
   "metadata": {},
   "outputs": [],
   "source": []
  },
  {
   "cell_type": "code",
   "execution_count": null,
   "id": "9081c960",
   "metadata": {},
   "outputs": [],
   "source": []
  },
  {
   "cell_type": "code",
   "execution_count": null,
   "id": "3c24808a",
   "metadata": {},
   "outputs": [],
   "source": []
  },
  {
   "cell_type": "code",
   "execution_count": null,
   "id": "0d40e649",
   "metadata": {},
   "outputs": [],
   "source": []
  },
  {
   "cell_type": "code",
   "execution_count": null,
   "id": "545faafc",
   "metadata": {},
   "outputs": [],
   "source": []
  },
  {
   "cell_type": "code",
   "execution_count": null,
   "id": "fa608022",
   "metadata": {},
   "outputs": [],
   "source": []
  },
  {
   "cell_type": "code",
   "execution_count": null,
   "id": "020b1ac6",
   "metadata": {},
   "outputs": [],
   "source": []
  },
  {
   "cell_type": "code",
   "execution_count": null,
   "id": "c2e27723",
   "metadata": {},
   "outputs": [],
   "source": []
  },
  {
   "cell_type": "code",
   "execution_count": null,
   "id": "efd050ce",
   "metadata": {},
   "outputs": [],
   "source": []
  },
  {
   "cell_type": "code",
   "execution_count": null,
   "id": "bfeb5cdc",
   "metadata": {},
   "outputs": [],
   "source": []
  },
  {
   "cell_type": "code",
   "execution_count": null,
   "id": "7b54ef3c",
   "metadata": {},
   "outputs": [],
   "source": []
  }
 ],
 "metadata": {
  "kernelspec": {
   "display_name": "R-4.1.2",
   "language": "R",
   "name": "r-4.1.2"
  },
  "language_info": {
   "codemirror_mode": "r",
   "file_extension": ".r",
   "mimetype": "text/x-r-source",
   "name": "R",
   "pygments_lexer": "r",
   "version": "4.1.2"
  }
 },
 "nbformat": 4,
 "nbformat_minor": 5
}
