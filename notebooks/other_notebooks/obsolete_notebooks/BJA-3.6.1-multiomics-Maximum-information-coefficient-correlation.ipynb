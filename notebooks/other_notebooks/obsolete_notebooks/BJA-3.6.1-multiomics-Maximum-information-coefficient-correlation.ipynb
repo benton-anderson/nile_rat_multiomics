{
 "cells": [
  {
   "cell_type": "code",
   "execution_count": 1,
   "id": "6ba039ae",
   "metadata": {},
   "outputs": [],
   "source": [
    "from mictools import utils\n",
    "utils.sstats\n",
    "from minepy import MINE\n",
    "MINE?"
   ]
  },
  {
   "cell_type": "markdown",
   "id": "bff614c7",
   "metadata": {},
   "source": [
    "## MINE = Maximal Information-based Nonparametric Exploration\n",
    "\n",
    "mictools seems to be a wrapper around minepy.\n",
    "\n",
    "For some reason mictools is the preferred tool, which is command-line only and requires a docker install (???)\n",
    "\n"
   ]
  }
 ],
 "metadata": {
  "kernelspec": {
   "display_name": "Python 3",
   "language": "python",
   "name": "python3"
  },
  "language_info": {
   "codemirror_mode": {
    "name": "ipython",
    "version": 3
   },
   "file_extension": ".py",
   "mimetype": "text/x-python",
   "name": "python",
   "nbconvert_exporter": "python",
   "pygments_lexer": "ipython3",
   "version": "3.7.10"
  }
 },
 "nbformat": 4,
 "nbformat_minor": 5
}
