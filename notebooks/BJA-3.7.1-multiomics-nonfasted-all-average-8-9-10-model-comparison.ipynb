{
 "cells": [
  {
   "cell_type": "markdown",
   "id": "7e175bda",
   "metadata": {},
   "source": [
    "# Compare prediction performance of OGTT glucose AUC using 5 different X datasets:\n",
    "1. All individual samples (n=30)\n",
    "2. All samples averaged (n=10)\n",
    "3. Week 8  (n=10)\n",
    "4. Week 9  (n=10)\n",
    "5. Week 10 (N=10)\n",
    "\n",
    "## Comparison will be used to inform which samples we should use for the followup/validation \n",
    "\n",
    "### We should get the extra 6 rats from the same 1070-1100 rat numbering range\n",
    "### We should also get the 5 males and 3 females in the cohort in 1700 range "
   ]
  },
  {
   "cell_type": "code",
   "execution_count": 1,
   "id": "c00f233f",
   "metadata": {},
   "outputs": [
    {
     "name": "stdout",
     "output_type": "stream",
     "text": [
      "1.0.2\n"
     ]
    }
   ],
   "source": [
    "import json\n",
    "\n",
    "import pandas as pd\n",
    "import numpy as np\n",
    "import matplotlib.pyplot as plt\n",
    "import seaborn as sns\n",
    "plt.rcParams['svg.fonttype'] = 'none'\n",
    "plt.rcParams['pdf.use14corefonts'] = True\n",
    "plt.rcParams['axes.unicode_minus'] = False  # https://stackoverflow.com/questions/43102564/matplotlib-negative-numbers-on-tick-labels-displayed-as-boxes\n",
    "plt.style.use('seaborn-white')  # 'seaborn-ticks', 'seaborn-white', 'seaborn'\n",
    "\n",
    "from sklearn.ensemble import RandomForestRegressor\n",
    "from sklearn.preprocessing import StandardScaler\n",
    "from sklearn.linear_model import LarsCV, LassoCV, LinearRegression, RidgeCV, Lasso, Ridge\n",
    "from sklearn.svm import SVR\n",
    "from sklearn.cross_decomposition import PLSRegression\n",
    "\n",
    "from sklearn.metrics import (\n",
    "    classification_report,\n",
    "    roc_auc_score, roc_curve, RocCurveDisplay, auc,\n",
    "    confusion_matrix, multilabel_confusion_matrix, ConfusionMatrixDisplay,\n",
    "    f1_score, \n",
    "    recall_score,\n",
    "    accuracy_score,\n",
    "    precision_score, precision_recall_curve, precision_recall_fscore_support,)\n",
    "from sklearn.model_selection import (\n",
    "    cross_val_score, cross_val_predict, cross_validate,\n",
    "    RepeatedKFold, RepeatedStratifiedKFold, \n",
    "    StratifiedGroupKFold, GroupKFold, StratifiedKFold,\n",
    "    train_test_split, \n",
    "    GridSearchCV,\n",
    "    LeaveOneGroupOut,)\n",
    "import sklearn\n",
    "print(sklearn.__version__)"
   ]
  },
  {
   "cell_type": "code",
   "execution_count": 2,
   "id": "27e09f66",
   "metadata": {},
   "outputs": [],
   "source": [
    "colors = json.load(open(r'..\\data\\metadata\\color_schemes.json'))\n",
    "colors['Non-fasted'] = colors['RBG']\n",
    "colors['Fasted'] = colors['FBG']\n",
    "compound_superclasses = json.load(open('../data/metadata/compound_superclasses.json', 'r'))\n",
    "    \n",
    "data = pd.read_csv(r'../data/processed/combined_metabolites_data_with_model_params.csv').set_index('i')\n",
    "data_cols = data.filter(regex='_FBG|_RBG').columns\n",
    "fbg_cols = data.filter(regex='_FBG').columns\n",
    "rbg_cols = data.filter(regex='_RBG').columns\n",
    "\n",
    "ap = pd.read_excel(r'..\\data\\metadata\\animal_phenotypes.xlsx', index_col=0)\n",
    "fg = pd.read_csv(r'..\\data\\metadata\\combined_metab_lipid_file_grouping.csv', index_col=0)"
   ]
  },
  {
   "cell_type": "code",
   "execution_count": 30,
   "id": "a270bad1",
   "metadata": {},
   "outputs": [],
   "source": [
    "y_3class = fg['gluc_tol']                                                 # ['normal', 'impaired', 'diabetic']\n",
    "y_3class_num = y_3class.map({'normal': 0, 'impaired': 1, 'diabetic': 2})  # [0, 1, 2]\n",
    "y_bg = fg['bg']                                                           # random/fasted blood glucoose\n",
    "y_ogtt = fg['animal'].map(ap['OGTT (AUC)'])\n",
    "y_weight = fg['animal'].map(ap['Weightprefastweek12'])\n",
    "y_insulin = fg['animal'].map(ap['Insulin (AUC)'])"
   ]
  },
  {
   "cell_type": "code",
   "execution_count": 119,
   "id": "87ccaf0d",
   "metadata": {},
   "outputs": [],
   "source": [
    "n_repeats, n_splits = 200, 5\n",
    "cv = RepeatedKFold(n_splits=n_splits, n_repeats=n_repeats, random_state=1)\n",
    "scoring = ['neg_mean_squared_error', 'r2', 'neg_mean_absolute_percentage_error', 'neg_root_mean_squared_error']\n",
    "models = {\n",
    "    'ols': (LinearRegression(), X_scaled),\n",
    "#     'lasso': (Lasso(alpha=483), X_scaled), # Lasso hyperparameter alpha found from LassoCV\n",
    "#     'ridge': (Ridge(), X_scaled),\n",
    "#     'svm': (SVR(kernel='linear', C=1), X_scaled),\n",
    "#     'pls': (PLSRegression(), X),\n",
    "#     'rf': (RandomForestRegressor(n_estimators=200, max_features=100, random_state=42), X),\n",
    "}\n",
    "y = {\n",
    "    'ogtt': y_ogtt,\n",
    "#     'insulin': y_insulin,\n",
    "#     'weight': y_weight,\n",
    "}\n",
    "Xs = {\n",
    "    'all':  data[rbg_cols].T,\n",
    "    'avg':  data[rbg_cols].groupby(fg['animal'], axis=1).mean().T,\n",
    "    'wk8':  data[fg.loc[(fg['week'] == 8) & (fg['bg_type'] == 'RBG')].index].T,\n",
    "    'wk9':  data[fg.loc[(fg['week'] == 9) & (fg['bg_type'] == 'RBG')].index].T,\n",
    "    'wk10': data[fg.loc[(fg['week'] ==10) & (fg['bg_type'] == 'RBG')].index].T,\n",
    "}\n",
    "\n",
    "for key, value in Xs.items(): \n",
    "    Xs[key] = pd.DataFrame(StandardScaler().fit_transform(Xs[key]), \n",
    "                           index=Xs[key].index.astype('str').str.split('_').str[0],\n",
    "                           columns=Xs[key].columns)\n",
    "    \n",
    "animal_ogtt_dict = dict(zip(fg['animal'], fg['ogtt']))"
   ]
  },
  {
   "cell_type": "code",
   "execution_count": 122,
   "id": "355349fe",
   "metadata": {},
   "outputs": [
    {
     "name": "stdout",
     "output_type": "stream",
     "text": [
      "all\n",
      "avg\n",
      "wk8\n",
      "wk9\n",
      "wk10\n"
     ]
    }
   ],
   "source": [
    "results = {}\n",
    "for X, X_data in Xs.items(): \n",
    "    print(X)\n",
    "    crossval = cross_validate(\n",
    "        estimator=LinearRegression(),\n",
    "        X=X_data,\n",
    "        y=X_data.index.astype('int').map(animal_ogtt_dict),\n",
    "        cv=cv,\n",
    "        n_jobs=7,\n",
    "        scoring=scoring,\n",
    "#         scoring='neg_mean_squared_error'\n",
    "    )\n",
    "    results[X] = crossval"
   ]
  },
  {
   "cell_type": "code",
   "execution_count": 129,
   "id": "0d1afb3e",
   "metadata": {
    "scrolled": true
   },
   "outputs": [
    {
     "data": {
      "text/html": [
       "<div>\n",
       "<style scoped>\n",
       "    .dataframe tbody tr th:only-of-type {\n",
       "        vertical-align: middle;\n",
       "    }\n",
       "\n",
       "    .dataframe tbody tr th {\n",
       "        vertical-align: top;\n",
       "    }\n",
       "\n",
       "    .dataframe thead th {\n",
       "        text-align: right;\n",
       "    }\n",
       "</style>\n",
       "<table border=\"1\" class=\"dataframe\">\n",
       "  <thead>\n",
       "    <tr style=\"text-align: right;\">\n",
       "      <th></th>\n",
       "      <th>fit_time</th>\n",
       "      <th>score_time</th>\n",
       "      <th>test_neg_mean_squared_error</th>\n",
       "      <th>test_r2</th>\n",
       "      <th>test_neg_mean_absolute_percentage_error</th>\n",
       "      <th>test_neg_root_mean_squared_error</th>\n",
       "      <th>X</th>\n",
       "    </tr>\n",
       "  </thead>\n",
       "  <tbody>\n",
       "    <tr>\n",
       "      <th>0</th>\n",
       "      <td>0.026737</td>\n",
       "      <td>0.028000</td>\n",
       "      <td>3.598832e+07</td>\n",
       "      <td>0.522616</td>\n",
       "      <td>-0.129547</td>\n",
       "      <td>-5999.026418</td>\n",
       "      <td>all</td>\n",
       "    </tr>\n",
       "    <tr>\n",
       "      <th>1</th>\n",
       "      <td>0.025998</td>\n",
       "      <td>0.024004</td>\n",
       "      <td>3.805776e+07</td>\n",
       "      <td>0.847003</td>\n",
       "      <td>-0.145158</td>\n",
       "      <td>-6169.096907</td>\n",
       "      <td>all</td>\n",
       "    </tr>\n",
       "    <tr>\n",
       "      <th>2</th>\n",
       "      <td>0.026999</td>\n",
       "      <td>0.023998</td>\n",
       "      <td>2.902968e+07</td>\n",
       "      <td>0.804603</td>\n",
       "      <td>-0.120860</td>\n",
       "      <td>-5387.920173</td>\n",
       "      <td>all</td>\n",
       "    </tr>\n",
       "    <tr>\n",
       "      <th>3</th>\n",
       "      <td>0.027003</td>\n",
       "      <td>0.025995</td>\n",
       "      <td>7.064641e+07</td>\n",
       "      <td>0.675018</td>\n",
       "      <td>-0.250366</td>\n",
       "      <td>-8405.141735</td>\n",
       "      <td>all</td>\n",
       "    </tr>\n",
       "    <tr>\n",
       "      <th>4</th>\n",
       "      <td>0.025999</td>\n",
       "      <td>0.023000</td>\n",
       "      <td>3.423022e+07</td>\n",
       "      <td>0.628688</td>\n",
       "      <td>-0.115897</td>\n",
       "      <td>-5850.659853</td>\n",
       "      <td>all</td>\n",
       "    </tr>\n",
       "    <tr>\n",
       "      <th>...</th>\n",
       "      <td>...</td>\n",
       "      <td>...</td>\n",
       "      <td>...</td>\n",
       "      <td>...</td>\n",
       "      <td>...</td>\n",
       "      <td>...</td>\n",
       "      <td>...</td>\n",
       "    </tr>\n",
       "    <tr>\n",
       "      <th>995</th>\n",
       "      <td>0.024803</td>\n",
       "      <td>0.026998</td>\n",
       "      <td>5.660843e+06</td>\n",
       "      <td>0.898858</td>\n",
       "      <td>-0.093652</td>\n",
       "      <td>-2379.252708</td>\n",
       "      <td>wk10</td>\n",
       "    </tr>\n",
       "    <tr>\n",
       "      <th>996</th>\n",
       "      <td>0.025001</td>\n",
       "      <td>0.026998</td>\n",
       "      <td>3.725678e+07</td>\n",
       "      <td>-69.394593</td>\n",
       "      <td>-0.101955</td>\n",
       "      <td>-6103.833089</td>\n",
       "      <td>wk10</td>\n",
       "    </tr>\n",
       "    <tr>\n",
       "      <th>997</th>\n",
       "      <td>0.026998</td>\n",
       "      <td>0.026000</td>\n",
       "      <td>1.427202e+08</td>\n",
       "      <td>-3.314803</td>\n",
       "      <td>-0.220688</td>\n",
       "      <td>-11946.555702</td>\n",
       "      <td>wk10</td>\n",
       "    </tr>\n",
       "    <tr>\n",
       "      <th>998</th>\n",
       "      <td>0.022997</td>\n",
       "      <td>0.024998</td>\n",
       "      <td>9.373073e+07</td>\n",
       "      <td>-0.076759</td>\n",
       "      <td>-0.283847</td>\n",
       "      <td>-9681.463064</td>\n",
       "      <td>wk10</td>\n",
       "    </tr>\n",
       "    <tr>\n",
       "      <th>999</th>\n",
       "      <td>0.029190</td>\n",
       "      <td>0.023808</td>\n",
       "      <td>5.273117e+07</td>\n",
       "      <td>-0.647473</td>\n",
       "      <td>-0.169956</td>\n",
       "      <td>-7261.623335</td>\n",
       "      <td>wk10</td>\n",
       "    </tr>\n",
       "  </tbody>\n",
       "</table>\n",
       "<p>5000 rows × 7 columns</p>\n",
       "</div>"
      ],
      "text/plain": [
       "     fit_time  score_time  test_neg_mean_squared_error    test_r2  \\\n",
       "0    0.026737    0.028000                 3.598832e+07   0.522616   \n",
       "1    0.025998    0.024004                 3.805776e+07   0.847003   \n",
       "2    0.026999    0.023998                 2.902968e+07   0.804603   \n",
       "3    0.027003    0.025995                 7.064641e+07   0.675018   \n",
       "4    0.025999    0.023000                 3.423022e+07   0.628688   \n",
       "..        ...         ...                          ...        ...   \n",
       "995  0.024803    0.026998                 5.660843e+06   0.898858   \n",
       "996  0.025001    0.026998                 3.725678e+07 -69.394593   \n",
       "997  0.026998    0.026000                 1.427202e+08  -3.314803   \n",
       "998  0.022997    0.024998                 9.373073e+07  -0.076759   \n",
       "999  0.029190    0.023808                 5.273117e+07  -0.647473   \n",
       "\n",
       "     test_neg_mean_absolute_percentage_error  \\\n",
       "0                                  -0.129547   \n",
       "1                                  -0.145158   \n",
       "2                                  -0.120860   \n",
       "3                                  -0.250366   \n",
       "4                                  -0.115897   \n",
       "..                                       ...   \n",
       "995                                -0.093652   \n",
       "996                                -0.101955   \n",
       "997                                -0.220688   \n",
       "998                                -0.283847   \n",
       "999                                -0.169956   \n",
       "\n",
       "     test_neg_root_mean_squared_error     X  \n",
       "0                        -5999.026418   all  \n",
       "1                        -6169.096907   all  \n",
       "2                        -5387.920173   all  \n",
       "3                        -8405.141735   all  \n",
       "4                        -5850.659853   all  \n",
       "..                                ...   ...  \n",
       "995                      -2379.252708  wk10  \n",
       "996                      -6103.833089  wk10  \n",
       "997                     -11946.555702  wk10  \n",
       "998                      -9681.463064  wk10  \n",
       "999                      -7261.623335  wk10  \n",
       "\n",
       "[5000 rows x 7 columns]"
      ]
     },
     "execution_count": 129,
     "metadata": {},
     "output_type": "execute_result"
    }
   ],
   "source": [
    "r = []\n",
    "for X, result in results.items():\n",
    "    df = pd.DataFrame(result)\n",
    "    df['X'] = X\n",
    "    r.append(df)\n",
    "r = pd.concat(r)\n",
    "r['test_neg_mean_squared_error'] = -1 * r['test_neg_mean_squared_error'] \n",
    "r"
   ]
  },
  {
   "cell_type": "code",
   "execution_count": 136,
   "id": "a2df7e0b",
   "metadata": {},
   "outputs": [
    {
     "data": {
      "image/png": "[encoded data removed]",
      "text/plain": [
       "<Figure size 750x300 with 1 Axes>"
      ]
     },
     "metadata": {},
     "output_type": "display_data"
    }
   ],
   "source": [
    "fig, ax = plt.subplots(dpi=150, figsize=(5, 2), facecolor='white')\n",
    "sns.boxplot(\n",
    "    data=r, x='test_neg_mean_squared_error', y='X', orient='h'\n",
    ")\n",
    "sns.despine()\n",
    "\n"
   ]
  },
  {
   "cell_type": "code",
   "execution_count": null,
   "id": "eb1e8076",
   "metadata": {},
   "outputs": [],
   "source": []
  },
  {
   "cell_type": "code",
   "execution_count": 148,
   "id": "9c9ed94a",
   "metadata": {},
   "outputs": [
    {
     "data": {
      "text/plain": [
       "29785.0"
      ]
     },
     "execution_count": 148,
     "metadata": {},
     "output_type": "execute_result"
    }
   ],
   "source": [
    "np.trapz(x=[0, 10, 20, 30, 60, 120], y=[81, 135, 194.5, 246, 296, 261.5])"
   ]
  },
  {
   "cell_type": "code",
   "execution_count": 147,
   "id": "709dfc46",
   "metadata": {},
   "outputs": [
    {
     "data": {
      "text/plain": [
       "45"
      ]
     },
     "execution_count": 147,
     "metadata": {},
     "output_type": "execute_result"
    }
   ],
   "source": [
    "len(set(results['avg']['test_neg_mean_squared_error']))"
   ]
  },
  {
   "cell_type": "code",
   "execution_count": null,
   "id": "12eace18",
   "metadata": {},
   "outputs": [],
   "source": []
  },
  {
   "cell_type": "code",
   "execution_count": null,
   "id": "9d800876",
   "metadata": {},
   "outputs": [],
   "source": []
  },
  {
   "cell_type": "code",
   "execution_count": null,
   "id": "0f8ce9a2",
   "metadata": {},
   "outputs": [],
   "source": []
  },
  {
   "cell_type": "code",
   "execution_count": null,
   "id": "763ed4dc",
   "metadata": {},
   "outputs": [],
   "source": []
  },
  {
   "cell_type": "code",
   "execution_count": null,
   "id": "6ee0e6f2",
   "metadata": {},
   "outputs": [],
   "source": []
  },
  {
   "cell_type": "code",
   "execution_count": null,
   "id": "68446bef",
   "metadata": {},
   "outputs": [],
   "source": []
  },
  {
   "cell_type": "code",
   "execution_count": null,
   "id": "ed29bbfd",
   "metadata": {},
   "outputs": [],
   "source": []
  },
  {
   "cell_type": "code",
   "execution_count": null,
   "id": "1fddab2f",
   "metadata": {},
   "outputs": [],
   "source": []
  },
  {
   "cell_type": "code",
   "execution_count": null,
   "id": "4d434553",
   "metadata": {},
   "outputs": [],
   "source": []
  },
  {
   "cell_type": "code",
   "execution_count": null,
   "id": "2d6a6898",
   "metadata": {},
   "outputs": [],
   "source": []
  },
  {
   "cell_type": "code",
   "execution_count": null,
   "id": "e5bd1d25",
   "metadata": {},
   "outputs": [],
   "source": []
  },
  {
   "cell_type": "code",
   "execution_count": null,
   "id": "32e857b0",
   "metadata": {},
   "outputs": [],
   "source": []
  },
  {
   "cell_type": "code",
   "execution_count": null,
   "id": "aeee6080",
   "metadata": {},
   "outputs": [],
   "source": []
  },
  {
   "cell_type": "code",
   "execution_count": null,
   "id": "70686d2d",
   "metadata": {},
   "outputs": [],
   "source": []
  },
  {
   "cell_type": "code",
   "execution_count": null,
   "id": "b75a8945",
   "metadata": {},
   "outputs": [],
   "source": []
  },
  {
   "cell_type": "code",
   "execution_count": null,
   "id": "e142755e",
   "metadata": {},
   "outputs": [],
   "source": []
  },
  {
   "cell_type": "code",
   "execution_count": null,
   "id": "dd3f359f",
   "metadata": {},
   "outputs": [],
   "source": []
  },
  {
   "cell_type": "code",
   "execution_count": null,
   "id": "3198fc94",
   "metadata": {},
   "outputs": [],
   "source": []
  },
  {
   "cell_type": "code",
   "execution_count": null,
   "id": "8624561f",
   "metadata": {},
   "outputs": [],
   "source": []
  },
  {
   "cell_type": "code",
   "execution_count": null,
   "id": "f6181e26",
   "metadata": {},
   "outputs": [],
   "source": []
  },
  {
   "cell_type": "code",
   "execution_count": null,
   "id": "7835447b",
   "metadata": {},
   "outputs": [],
   "source": []
  },
  {
   "cell_type": "code",
   "execution_count": null,
   "id": "018694f1",
   "metadata": {},
   "outputs": [],
   "source": []
  },
  {
   "cell_type": "code",
   "execution_count": null,
   "id": "74e7d89d",
   "metadata": {},
   "outputs": [],
   "source": []
  },
  {
   "cell_type": "code",
   "execution_count": null,
   "id": "61a03a05",
   "metadata": {},
   "outputs": [],
   "source": []
  },
  {
   "cell_type": "code",
   "execution_count": null,
   "id": "6dbadba6",
   "metadata": {},
   "outputs": [],
   "source": []
  },
  {
   "cell_type": "code",
   "execution_count": null,
   "id": "71a6cd67",
   "metadata": {},
   "outputs": [],
   "source": []
  }
 ],
 "metadata": {
  "kernelspec": {
   "display_name": "Python 3",
   "language": "python",
   "name": "python3"
  },
  "language_info": {
   "codemirror_mode": {
    "name": "ipython",
    "version": 3
   },
   "file_extension": ".py",
   "mimetype": "text/x-python",
   "name": "python",
   "nbconvert_exporter": "python",
   "pygments_lexer": "ipython3",
   "version": "3.7.10"
  }
 },
 "nbformat": 4,
 "nbformat_minor": 5
}
