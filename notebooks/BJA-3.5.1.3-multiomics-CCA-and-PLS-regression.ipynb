{
 "cells": [
  {
   "cell_type": "markdown",
   "metadata": {},
   "source": [
    "## Very good paper about omics dimensionality reduction \n",
    "https://academic.oup.com/bib/article/17/4/628/2240645"
   ]
  },
  {
   "cell_type": "code",
   "execution_count": 7,
   "metadata": {},
   "outputs": [
    {
     "name": "stdout",
     "output_type": "stream",
     "text": [
      "1.0.2\n"
     ]
    }
   ],
   "source": [
    "import time\n",
    "from collections import defaultdict\n",
    "import json\n",
    "import math\n",
    "\n",
    "import pandas as pd\n",
    "import numpy as np\n",
    "import matplotlib.pyplot as plt\n",
    "plt.rcParams['svg.fonttype'] = 'none'  # https://stackoverflow.com/questions/34387893/output-matplotlib-figure-to-svg-with-text-as-text-not-curves\n",
    "plt.style.use('seaborn-ticks')\n",
    "\n",
    "import seaborn as sns\n",
    "import dateutil\n",
    "from scipy.stats import spearmanr, pearsonr, kendalltau\n",
    "from scipy.cluster import hierarchy\n",
    "from scipy.spatial.distance import squareform\n",
    "from scipy.cluster.hierarchy import dendrogram, fcluster, fclusterdata\n",
    "\n",
    "from sklearn.cross_decomposition import PLSRegression, CCA\n",
    "from sklearn.cluster import AgglomerativeClustering, FeatureAgglomeration\n",
    "from sklearn.datasets import make_regression, make_classification\n",
    "from sklearn.model_selection import (\n",
    "    cross_val_score, cross_val_predict,\n",
    "    RepeatedKFold, RepeatedStratifiedKFold,\n",
    "    train_test_split, \n",
    "    GridSearchCV,\n",
    "    LeaveOneGroupOut,\n",
    ")\n",
    "from sklearn.ensemble import RandomForestRegressor, RandomForestClassifier\n",
    "from sklearn.svm import SVC\n",
    "from sklearn.preprocessing import StandardScaler\n",
    "from sklearn.inspection import permutation_importance\n",
    "from sklearn.metrics import (\n",
    "    classification_report,\n",
    "    roc_auc_score, roc_curve, RocCurveDisplay, auc,\n",
    "    confusion_matrix, multilabel_confusion_matrix, ConfusionMatrixDisplay,\n",
    "    f1_score, \n",
    "    recall_score,\n",
    "    accuracy_score,\n",
    "    precision_score, precision_recall_curve, precision_recall_fscore_support,\n",
    "    #     plot_roc_curve,\n",
    "    #     plot_precision_recall_curve,  ## The plot_x_score API is deprecated\n",
    ")\n",
    "import sklearn\n",
    "print(sklearn.__version__)"
   ]
  },
  {
   "cell_type": "code",
   "execution_count": 3,
   "metadata": {},
   "outputs": [],
   "source": [
    "# colors and class-superclass maps\n",
    "with open(r'..\\data\\metadata\\color_schemes.json') as infile:\n",
    "    colors = json.load(infile)\n",
    "\n",
    "animals_used = [1091, 1093, 1060, 1062, 1074, 1092, 1102, 1076, 1082, 1101]\n",
    "diabetic =     [1076, 1082, 1101]\n",
    "impaired =     [1060, 1062, 1074, 1092, 1102]\n",
    "normal =       [1091, 1093]\n",
    "animal_tol = {\n",
    "    1076: 'diabetic', 1082: 'diabetic', 1101: 'diabetic', 1060: 'impaired', 1062: 'impaired', \n",
    "    1074: 'impaired', 1092: 'impaired', 1102: 'impaired', 1091: 'normal', 1093: 'normal'}\n",
    "ap = pd.read_excel(r'..\\data\\metadata\\animal_phenotypes.xlsx', index_col=0)\n",
    "\n",
    "fg = pd.read_csv(r'..\\data\\metadata\\combined_metab_lipid_file_grouping.csv', index_col=0)\n",
    "\n",
    "# Use data that was sent to collaborators \n",
    "data = pd.read_excel(r'../data/processed/combined_metabolites_data.xlsx').set_index('i')\n",
    "data_cols = data.filter(regex='FBG|RBG').columns\n",
    "fbg_cols = data.filter(regex='FBG').columns\n",
    "rbg_cols = data.filter(regex='RBG').columns\n",
    "pval_cols = data.filter(regex='pval').columns\n",
    "\n",
    "n = data.filter(regex='1091|1093')                 # normal\n",
    "i = data.filter(regex='1060|1062|1074|1092|1102')  # impaired\n",
    "d = data.filter(regex='1076|1082|1101')            # diabetic\n",
    "\n",
    "f = data[fbg_cols]  # fasted\n",
    "r = data[rbg_cols]  # random-fed\n",
    "\n",
    "fn = n.filter(fbg_cols)  # fasted normal \n",
    "fi = i.filter(fbg_cols)  # fasted impaired\n",
    "fd = d.filter(fbg_cols)  # fasted diabetic\n",
    "\n",
    "rn = n.filter(rbg_cols)  # random normal\n",
    "ri = i.filter(rbg_cols)  # random impaired\n",
    "rd = d.filter(rbg_cols)  # random diabetic\n",
    "\n",
    "qval_sampling = data['fdr corrected pval effect of sampling']\n",
    "qval_gtol = data['fdr corrected pval effect of glucose tolerance']\n",
    "qval_cross = data['fdr corrected pval effect of interaction sampling and glucose tolerance']"
   ]
  },
  {
   "cell_type": "code",
   "execution_count": 137,
   "metadata": {},
   "outputs": [],
   "source": [
    "# X_all = pd.DataFrame(StandardScaler().fit_transform(data[data_cols].T), index=data_cols, columns=data.index)\n",
    "\n",
    "X_all = data[data_cols].T\n",
    "\n",
    "y_3class = fg['gluc_tol']                                                 # ['normal', 'impaired', 'diabetic']\n",
    "y_3class_num = y_3class.map({'normal': 0, 'impaired': 1, 'diabetic': 2})  # [0, 1, 2]\n",
    "y_bg = fg['bg']                                                           # random/fasted blood glucoose\n",
    "y_ogtt = fg['animal'].map(ap['OGTT (AUC)'])\n",
    "y_weight = fg['animal'].map(ap['Weightprefastweek12'])\n",
    "y_insulin = fg['animal'].map(ap['Insulin (AUC)'])"
   ]
  },
  {
   "cell_type": "markdown",
   "metadata": {},
   "source": [
    "# PLS Regression is supervised regression. PLS-DA is the extension into classification\n",
    "\n",
    "## Good examples\n",
    "https://scikit-learn.org/stable/auto_examples/cross_decomposition/plot_pcr_vs_pls.html#sphx-glr-auto-examples-cross-decomposition-plot-pcr-vs-pls-py\n",
    "https://scikit-learn.org/stable/auto_examples/cross_decomposition/plot_compare_cross_decomposition.html#sphx-glr-auto-examples-cross-decomposition-plot-compare-cross-decomposition-py\n",
    "\n",
    "# In general, you do not need to center or standardize X for multiple regression: \n",
    "https://stats.stackexchange.com/questions/29781/when-conducting-multiple-regression-when-should-you-center-your-predictor-varia\n",
    "\n",
    "## The results from PCA and CCA are identical regardless of StandardScale or not\n"
   ]
  },
  {
   "cell_type": "code",
   "execution_count": 138,
   "metadata": {},
   "outputs": [],
   "source": [
    "ld = {}  # ld = LeaveOneGroupOut Dictionary\n",
    "\n",
    "for columns, column_name in zip([rbg_cols, fbg_cols], ['RBG', 'FBG']):\n",
    "    X = X_all.loc[columns]\n",
    "    ld[column_name] = {}\n",
    "    for y_data, y_name in (\n",
    "        [y_ogtt, 'ogtt'], \n",
    "#         [y_weight, 'weight'], \n",
    "#         [y_insulin, 'insulin']\n",
    "    ):\n",
    "        y = y_data.loc[columns]\n",
    "        ld[column_name][y_name] = {}\n",
    "        \n",
    "        for est, model_name in [(PLSRegression(n_components=1), 'pls'), (CCA(n_components=1), 'cca')]:\n",
    "            d = ld[column_name][y_name][model_name] = {}\n",
    "            d['feat_imp'] = 0\n",
    "            d['y_true'] = []\n",
    "            d['y_pred'] = []\n",
    "            logo = LeaveOneGroupOut()\n",
    "            for train, test in logo.split(X, y, groups=X.index.map(fg['animal'])):\n",
    "                model = est.fit(X.iloc[train], y.iloc[train])\n",
    "                y_pred = model.predict(X.iloc[test])\n",
    "                d['feat_imp'] += model.coef_\n",
    "                d['y_true'].extend(y.iloc[test])\n",
    "                d['y_pred'].extend([val[0] for val in y_pred])"
   ]
  },
  {
   "cell_type": "code",
   "execution_count": 139,
   "metadata": {},
   "outputs": [],
   "source": [
    "rp = ld['RBG']['ogtt']['pls']\n",
    "fp = ld['FBG']['ogtt']['pls']\n",
    "rc = ld['RBG']['ogtt']['cca']\n",
    "fc = ld['FBG']['ogtt']['cca']"
   ]
  },
  {
   "cell_type": "code",
   "execution_count": 156,
   "metadata": {},
   "outputs": [
    {
     "data": {
      "text/plain": [
       "Text(0.5, 1.0, 'Fasted PLS\\nMean absolute percentage error: 20.0%')"
      ]
     },
     "execution_count": 156,
     "metadata": {},
     "output_type": "execute_result"
    },
    {
     "data": {
      "image/png": "[encoded data removed]",
      "text/plain": [
       "<Figure size 432x288 with 1 Axes>"
      ]
     },
     "metadata": {},
     "output_type": "display_data"
    },
    {
     "data": {
      "image/png": "[encoded data removed]",
      "text/plain": [
       "<Figure size 432x288 with 1 Axes>"
      ]
     },
     "metadata": {},
     "output_type": "display_data"
    }
   ],
   "source": [
    "df = rp\n",
    "y_true = np.array(df['y_true'])\n",
    "y_pred = np.array(df['y_pred'])\n",
    "resid = y_true - y_pred\n",
    "plt.scatter(y_true, y_pred)\n",
    "plt.plot(y_ogtt.loc[rbg_cols], y_ogtt.loc[rbg_cols], c='darkorange', alpha=0.5)\n",
    "plt.xlabel('True OGTT')\n",
    "plt.ylabel('Predicted OGTT')\n",
    "mean_perc_error = round(abs(resid / y_true).mean(), 3) * 100\n",
    "plt.title(f'Random-fed PLS\\nMean absolute percentage error: {mean_perc_error}%')\n",
    "\n",
    "plt.figure()\n",
    "\n",
    "df = fp\n",
    "y_true = np.array(df['y_true'])\n",
    "y_pred = np.array(df['y_pred'])\n",
    "resid = y_true - y_pred\n",
    "plt.scatter(y_true, y_pred)\n",
    "plt.plot(y_ogtt.loc[rbg_cols], y_ogtt.loc[rbg_cols], c='darkorange', alpha=0.5)\n",
    "plt.xlabel('True OGTT')\n",
    "plt.ylabel('Predicted OGTT')\n",
    "mean_perc_error = round(abs(resid / y_true).mean(), 3) * 100\n",
    "plt.title(f'Fasted PLS\\nMean absolute percentage error: {mean_perc_error}%')"
   ]
  },
  {
   "cell_type": "code",
   "execution_count": 151,
   "metadata": {},
   "outputs": [],
   "source": [
    "plscoef = pd.DataFrame({'RBGpls': rp['feat_imp'][:, 0], 'FBGpls': fp['feat_imp'][:, 0],})\n",
    "plscoef\n",
    "\n",
    "# plscoef.to_csv(r'..\\models\\feat_importances\\pls_regression_feature_importances.csv')"
   ]
  },
  {
   "cell_type": "code",
   "execution_count": 150,
   "metadata": {},
   "outputs": [
    {
     "data": {
      "text/plain": [
       "<matplotlib.collections.PathCollection at 0x1f6a7096cc8>"
      ]
     },
     "execution_count": 150,
     "metadata": {},
     "output_type": "execute_result"
    },
    {
     "data": {
      "image/png": "[encoded data removed]",
      "text/plain": [
       "<Figure size 432x288 with 1 Axes>"
      ]
     },
     "metadata": {},
     "output_type": "display_data"
    }
   ],
   "source": [
    "plt.scatter(plscoef['RBGpls'], plscoef['FBGpls'])"
   ]
  },
  {
   "cell_type": "code",
   "execution_count": 152,
   "metadata": {},
   "outputs": [
    {
     "data": {
      "text/plain": [
       "Text(0.5, 1.0, 'Distribution of coefficients for PLS Regression')"
      ]
     },
     "execution_count": 152,
     "metadata": {},
     "output_type": "execute_result"
    },
    {
     "data": {
      "image/png": "[encoded data removed]",
      "text/plain": [
       "<Figure size 432x288 with 1 Axes>"
      ]
     },
     "metadata": {},
     "output_type": "display_data"
    }
   ],
   "source": [
    "sns.histplot(plscoef)\n",
    "plt.title('Distribution of coefficients for PLS Regression', fontsize=14)"
   ]
  },
  {
   "cell_type": "markdown",
   "metadata": {},
   "source": [
    "### CCA is terrible. It predicts -7000 for some OGTT values\n",
    "\n",
    "# regular CCA is limited to n > p, and does not do feature selection\n",
    "### but other CCAs (sparse CCA, penalized CCA) can do feature selection \n",
    "https://academic.oup.com/bib/article/17/4/628/2240645\n"
   ]
  },
  {
   "cell_type": "code",
   "execution_count": 159,
   "metadata": {},
   "outputs": [],
   "source": [
    "# df = rc\n",
    "# y_true = np.array(df['y_true'])\n",
    "# y_pred = np.array(df['y_pred'])\n",
    "# resid = y_true - y_pred\n",
    "# plt.scatter(y_true, y_pred)\n",
    "# plt.plot(y_ogtt.loc[rbg_cols], y_ogtt.loc[rbg_cols], c='darkorange', alpha=0.5)\n",
    "# plt.xlabel('True OGTT')\n",
    "# plt.ylabel('Predicted OGTT')\n",
    "# mean_perc_error = round(abs(resid / y_true).mean(), 3) * 100\n",
    "# plt.title(f'Random-fed PLS\\nMean absolute percentage error: {mean_perc_error}%')\n",
    "\n",
    "# plt.figure()\n",
    "\n",
    "# df = fc\n",
    "# y_true = np.array(df['y_true'])\n",
    "# y_pred = np.array(df['y_pred'])\n",
    "# resid = y_true - y_pred\n",
    "# plt.scatter(y_true, y_pred)\n",
    "# plt.plot(y_ogtt.loc[rbg_cols], y_ogtt.loc[rbg_cols], c='darkorange', alpha=0.5)\n",
    "# plt.xlabel('True OGTT')\n",
    "# plt.ylabel('Predicted OGTT')\n",
    "# mean_perc_error = round(abs(resid / y_true).mean(), 3) * 100\n",
    "# plt.title(f'Random-fed PLS\\nMean absolute percentage error: {mean_perc_error}%')"
   ]
  },
  {
   "cell_type": "code",
   "execution_count": 130,
   "metadata": {},
   "outputs": [
    {
     "data": {
      "text/plain": [
       "array([[ 13.32249139],\n",
       "       [ 10.49394781],\n",
       "       [  2.23460843],\n",
       "       ...,\n",
       "       [-13.58078583],\n",
       "       [ -9.78616076],\n",
       "       [-23.33105822]])"
      ]
     },
     "execution_count": 130,
     "metadata": {},
     "output_type": "execute_result"
    }
   ],
   "source": [
    "X_train, X_test, y_train, y_test = train_test_split(X_all, y_ogtt, test_size=0.1, random_state=1)\n",
    "\n",
    "pls = PLSRegression(n_components=20).fit(X_all.loc[rbg_cols], y_ogtt.loc[rbg_cols])\n",
    "cca = CCA(n_components=1).fit(X_all.loc[rbg_cols], y_ogtt.loc[rbg_cols])\n",
    "\n",
    "pls.coef_\n",
    "cca.coef_"
   ]
  },
  {
   "cell_type": "code",
   "execution_count": 131,
   "metadata": {},
   "outputs": [
    {
     "data": {
      "text/plain": [
       "<matplotlib.collections.PathCollection at 0x1f6a4fe9048>"
      ]
     },
     "execution_count": 131,
     "metadata": {},
     "output_type": "execute_result"
    },
    {
     "data": {
      "image/png": "[encoded data removed]",
      "text/plain": [
       "<Figure size 432x288 with 1 Axes>"
      ]
     },
     "metadata": {},
     "output_type": "display_data"
    }
   ],
   "source": [
    "plt.scatter(pls.coef_, cca.coef_)"
   ]
  },
  {
   "cell_type": "code",
   "execution_count": 132,
   "metadata": {},
   "outputs": [
    {
     "data": {
      "text/html": [
       "<div>\n",
       "<style scoped>\n",
       "    .dataframe tbody tr th:only-of-type {\n",
       "        vertical-align: middle;\n",
       "    }\n",
       "\n",
       "    .dataframe tbody tr th {\n",
       "        vertical-align: top;\n",
       "    }\n",
       "\n",
       "    .dataframe thead th {\n",
       "        text-align: right;\n",
       "    }\n",
       "</style>\n",
       "<table border=\"1\" class=\"dataframe\">\n",
       "  <thead>\n",
       "    <tr style=\"text-align: right;\">\n",
       "      <th></th>\n",
       "      <th>pls</th>\n",
       "      <th>cca</th>\n",
       "    </tr>\n",
       "    <tr>\n",
       "      <th>i</th>\n",
       "      <th></th>\n",
       "      <th></th>\n",
       "    </tr>\n",
       "  </thead>\n",
       "  <tbody>\n",
       "    <tr>\n",
       "      <th>l_0</th>\n",
       "      <td>1.315299</td>\n",
       "      <td>13.322491</td>\n",
       "    </tr>\n",
       "    <tr>\n",
       "      <th>l_1</th>\n",
       "      <td>1.036044</td>\n",
       "      <td>10.493948</td>\n",
       "    </tr>\n",
       "    <tr>\n",
       "      <th>l_2</th>\n",
       "      <td>0.220618</td>\n",
       "      <td>2.234608</td>\n",
       "    </tr>\n",
       "    <tr>\n",
       "      <th>l_3</th>\n",
       "      <td>-0.134158</td>\n",
       "      <td>-1.358870</td>\n",
       "    </tr>\n",
       "    <tr>\n",
       "      <th>l_4</th>\n",
       "      <td>0.087439</td>\n",
       "      <td>0.885663</td>\n",
       "    </tr>\n",
       "    <tr>\n",
       "      <th>...</th>\n",
       "      <td>...</td>\n",
       "      <td>...</td>\n",
       "    </tr>\n",
       "    <tr>\n",
       "      <th>m_169</th>\n",
       "      <td>-3.568107</td>\n",
       "      <td>-36.140882</td>\n",
       "    </tr>\n",
       "    <tr>\n",
       "      <th>m_213</th>\n",
       "      <td>-0.833284</td>\n",
       "      <td>-8.440222</td>\n",
       "    </tr>\n",
       "    <tr>\n",
       "      <th>m_24</th>\n",
       "      <td>-1.340800</td>\n",
       "      <td>-13.580786</td>\n",
       "    </tr>\n",
       "    <tr>\n",
       "      <th>m_505</th>\n",
       "      <td>-0.966166</td>\n",
       "      <td>-9.786161</td>\n",
       "    </tr>\n",
       "    <tr>\n",
       "      <th>m_441</th>\n",
       "      <td>-2.303423</td>\n",
       "      <td>-23.331058</td>\n",
       "    </tr>\n",
       "  </tbody>\n",
       "</table>\n",
       "<p>1727 rows × 2 columns</p>\n",
       "</div>"
      ],
      "text/plain": [
       "            pls        cca\n",
       "i                         \n",
       "l_0    1.315299  13.322491\n",
       "l_1    1.036044  10.493948\n",
       "l_2    0.220618   2.234608\n",
       "l_3   -0.134158  -1.358870\n",
       "l_4    0.087439   0.885663\n",
       "...         ...        ...\n",
       "m_169 -3.568107 -36.140882\n",
       "m_213 -0.833284  -8.440222\n",
       "m_24  -1.340800 -13.580786\n",
       "m_505 -0.966166  -9.786161\n",
       "m_441 -2.303423 -23.331058\n",
       "\n",
       "[1727 rows x 2 columns]"
      ]
     },
     "metadata": {},
     "output_type": "display_data"
    }
   ],
   "source": [
    "coefs = pd.DataFrame({'pls': pls.coef_[:, 0], 'cca': cca.coef_[:, 0]}, index=data.index)\n",
    "display(coefs)\n",
    "# coefs.to_csv(r'..\\data\\processed\\PLS_CCA_coefficients.csv')"
   ]
  },
  {
   "cell_type": "code",
   "execution_count": 107,
   "metadata": {},
   "outputs": [
    {
     "data": {
      "text/plain": [
       "(60, 20)"
      ]
     },
     "execution_count": 107,
     "metadata": {},
     "output_type": "execute_result"
    }
   ],
   "source": [
    "pls.x_scores_.shape"
   ]
  },
  {
   "cell_type": "code",
   "execution_count": 110,
   "metadata": {},
   "outputs": [
    {
     "data": {
      "text/plain": [
       "array([[ 846.79139076],\n",
       "       [ 846.72870009],\n",
       "       [ 846.74373474],\n",
       "       [ 993.0152532 ],\n",
       "       [ 993.04815883],\n",
       "       [ 993.07237432],\n",
       "       [1761.77988734],\n",
       "       [1761.69851686],\n",
       "       [1761.67774109],\n",
       "       [1648.81918916],\n",
       "       [1648.80535111],\n",
       "       [1648.72076514],\n",
       "       [1350.245693  ],\n",
       "       [1350.35066283],\n",
       "       [1350.25858552],\n",
       "       [1377.90803438],\n",
       "       [1377.89210031],\n",
       "       [1377.96677398],\n",
       "       [1738.28566472],\n",
       "       [1738.15436426],\n",
       "       [1738.31602583],\n",
       "       [2321.26275925],\n",
       "       [2321.21605182],\n",
       "       [2321.29861271],\n",
       "       [2224.78612225],\n",
       "       [2224.67184857],\n",
       "       [2224.81803689],\n",
       "       [2015.75279199],\n",
       "       [2015.74926373],\n",
       "       [2015.62653605],\n",
       "       [ 846.70030477],\n",
       "       [ 846.76229902],\n",
       "       [ 846.79476615],\n",
       "       [ 992.95633743],\n",
       "       [ 992.99434746],\n",
       "       [ 992.87615894],\n",
       "       [1761.62317534],\n",
       "       [1761.78557729],\n",
       "       [1761.78027674],\n",
       "       [1648.74512679],\n",
       "       [1648.66008077],\n",
       "       [1648.78456354],\n",
       "       [1350.21849169],\n",
       "       [1350.32962182],\n",
       "       [1350.24315225],\n",
       "       [1377.9449526 ],\n",
       "       [1377.97418668],\n",
       "       [1377.9778631 ],\n",
       "       [1738.3215649 ],\n",
       "       [1738.21433087],\n",
       "       [1738.24813291],\n",
       "       [2321.34073122],\n",
       "       [2321.293738  ],\n",
       "       [2321.28544899],\n",
       "       [2224.71217513],\n",
       "       [2224.78760115],\n",
       "       [2224.65263361],\n",
       "       [2015.81123787],\n",
       "       [2015.71754475],\n",
       "       [2015.70258749]])"
      ]
     },
     "execution_count": 110,
     "metadata": {},
     "output_type": "execute_result"
    }
   ],
   "source": [
    "pls.predict(X_all)"
   ]
  },
  {
   "cell_type": "code",
   "execution_count": 135,
   "metadata": {
    "scrolled": true
   },
   "outputs": [
    {
     "data": {
      "text/plain": [
       "<matplotlib.collections.PathCollection at 0x1f6a4fb2808>"
      ]
     },
     "execution_count": 135,
     "metadata": {},
     "output_type": "execute_result"
    },
    {
     "data": {
      "image/png": "[encoded data removed]",
      "text/plain": [
       "<Figure size 432x288 with 1 Axes>"
      ]
     },
     "metadata": {},
     "output_type": "display_data"
    }
   ],
   "source": [
    "plt.scatter(pls.predict(X_all.loc[fbg_cols]), y_ogtt.loc[fbg_cols])\n",
    "# plt.gcf().set_size_inches(10, 4)"
   ]
  },
  {
   "cell_type": "code",
   "execution_count": 73,
   "metadata": {},
   "outputs": [
    {
     "data": {
      "text/plain": [
       "(1727, 10)"
      ]
     },
     "execution_count": 73,
     "metadata": {},
     "output_type": "execute_result"
    }
   ],
   "source": [
    "pls.x_weights_.shape"
   ]
  },
  {
   "cell_type": "code",
   "execution_count": 136,
   "metadata": {},
   "outputs": [
    {
     "data": {
      "text/plain": [
       "[<matplotlib.lines.Line2D at 0x1f6a3c7f248>]"
      ]
     },
     "execution_count": 136,
     "metadata": {},
     "output_type": "execute_result"
    },
    {
     "data": {
      "image/png": "[encoded data removed]",
      "text/plain": [
       "<Figure size 432x288 with 1 Axes>"
      ]
     },
     "metadata": {},
     "output_type": "display_data"
    }
   ],
   "source": [
    "plt.plot(range(1727), np.sort(pls.x_loadings_[:, 0]))"
   ]
  },
  {
   "cell_type": "code",
   "execution_count": 95,
   "metadata": {},
   "outputs": [
    {
     "data": {
      "text/plain": [
       "(60, 10)"
      ]
     },
     "execution_count": 95,
     "metadata": {},
     "output_type": "execute_result"
    }
   ],
   "source": [
    "pls.y_scores_.shape"
   ]
  },
  {
   "cell_type": "code",
   "execution_count": 93,
   "metadata": {},
   "outputs": [
    {
     "data": {
      "text/plain": [
       "<matplotlib.collections.PathCollection at 0x1b592d0f1c8>"
      ]
     },
     "execution_count": 93,
     "metadata": {},
     "output_type": "execute_result"
    },
    {
     "data": {
      "image/png": "[encoded data removed]",
      "text/plain": [
       "<Figure size 432x288 with 1 Axes>"
      ]
     },
     "metadata": {},
     "output_type": "display_data"
    }
   ],
   "source": [
    "plt.scatter(pls.x_scores_[:, 0], pls.x_scores_[:, 1])"
   ]
  },
  {
   "cell_type": "code",
   "execution_count": 109,
   "metadata": {},
   "outputs": [
    {
     "data": {
      "text/plain": [
       "<matplotlib.collections.PathCollection at 0x1b592de26c8>"
      ]
     },
     "execution_count": 109,
     "metadata": {},
     "output_type": "execute_result"
    },
    {
     "data": {
      "image/png": "[encoded data removed]",
      "text/plain": [
       "<Figure size 432x288 with 1 Axes>"
      ]
     },
     "metadata": {},
     "output_type": "display_data"
    }
   ],
   "source": [
    "plt.scatter(pls.x_weights_[:, 0], pls.x_weights_[:, 1])"
   ]
  },
  {
   "cell_type": "code",
   "execution_count": null,
   "metadata": {},
   "outputs": [],
   "source": []
  },
  {
   "cell_type": "code",
   "execution_count": null,
   "metadata": {},
   "outputs": [],
   "source": []
  },
  {
   "cell_type": "code",
   "execution_count": null,
   "metadata": {},
   "outputs": [],
   "source": []
  },
  {
   "cell_type": "code",
   "execution_count": null,
   "metadata": {},
   "outputs": [],
   "source": []
  },
  {
   "cell_type": "code",
   "execution_count": null,
   "metadata": {},
   "outputs": [],
   "source": []
  },
  {
   "cell_type": "code",
   "execution_count": null,
   "metadata": {},
   "outputs": [],
   "source": []
  },
  {
   "cell_type": "code",
   "execution_count": null,
   "metadata": {},
   "outputs": [],
   "source": []
  },
  {
   "cell_type": "code",
   "execution_count": null,
   "metadata": {},
   "outputs": [],
   "source": []
  },
  {
   "cell_type": "code",
   "execution_count": null,
   "metadata": {},
   "outputs": [],
   "source": []
  },
  {
   "cell_type": "code",
   "execution_count": null,
   "metadata": {},
   "outputs": [],
   "source": []
  },
  {
   "cell_type": "code",
   "execution_count": null,
   "metadata": {},
   "outputs": [],
   "source": []
  },
  {
   "cell_type": "code",
   "execution_count": null,
   "metadata": {},
   "outputs": [],
   "source": []
  },
  {
   "cell_type": "code",
   "execution_count": null,
   "metadata": {},
   "outputs": [],
   "source": []
  }
 ],
 "metadata": {
  "kernelspec": {
   "display_name": "Python 3",
   "language": "python",
   "name": "python3"
  },
  "language_info": {
   "codemirror_mode": {
    "name": "ipython",
    "version": 3
   },
   "file_extension": ".py",
   "mimetype": "text/x-python",
   "name": "python",
   "nbconvert_exporter": "python",
   "pygments_lexer": "ipython3",
   "version": "3.7.10"
  }
 },
 "nbformat": 4,
 "nbformat_minor": 2
}
