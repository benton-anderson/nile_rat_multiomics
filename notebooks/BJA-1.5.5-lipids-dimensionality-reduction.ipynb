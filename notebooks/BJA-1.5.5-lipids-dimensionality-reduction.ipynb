{
 "cells": [
  {
   "cell_type": "markdown",
   "metadata": {},
   "source": [
    "    \n",
    "## A few Scikit learn feature selection methods\n",
    "\n",
    "https://scikit-learn.org/stable/modules/feature_selection.html\n",
    "\n",
    "1. Recursive Feature Elimination\n",
    "2. Univariate feature selection\n",
    "    1. Performs simple univariate tests like chi-squared to test for features that have low variance\n",
    "3. select from model "
   ]
  },
  {
   "cell_type": "code",
   "execution_count": null,
   "metadata": {},
   "outputs": [],
   "source": []
  },
  {
   "cell_type": "code",
   "execution_count": null,
   "metadata": {},
   "outputs": [],
   "source": [
    "fr_raw = pd.read_csv(r'..\\data\\search\\peak_finder\\Final_Results.csv').dropna(axis=1, how='all')\n",
    "fr_norm = pd.read_csv(r'..\\data\\processed\\lipidomics_linregress_normalized_data.csv')\n",
    "fr_filt = pd.read_csv(r'..\\data\\processed\\lipidomics_normalized_filtered_data.csv', index_col=0)\n",
    "file_grouping = pd.read_csv(r'..\\data\\metadata\\file_grouping.csv', index_col=0)\n",
    "\n",
    "fr_quant_filenames_in_analytical_order = file_grouping[file_grouping['quant_file'] == True]['fr_name'].to_list()\n",
    "\n",
    "animals_used = [1091, 1093, 1060, 1062, 1074, 1092, 1102, 1076, 1082, 1101]\n",
    "diabetic = [1076, 1082, 1101]\n",
    "impaired = [1060, 1062, 1074, 1092, 1102]\n",
    "normal = [1091, 1093]\n",
    "\n",
    "obs = pd.read_excel(r'..\\data\\metadata\\20210421_FBGRBGOGTT_Huishi sample sheet.xlsx', sheet_name='cleaned')\n",
    "obs['animal'] = obs['animal'].str.strip('TM').astype('int')\n",
    "obs['datetime'] = obs['when'].apply(dateutil.parser.parse)\n",
    "animal_phenotypes = pd.read_excel(r'..\\data\\metadata\\20210421_FBGRBGOGTT_Huishi sample sheet.xlsx', sheet_name='animal phenotypes')\n",
    "animal_phenotypes['animal'] = animal_phenotypes['animal'].str.strip('TM').astype('int')"
   ]
  }
 ],
 "metadata": {
  "kernelspec": {
   "display_name": "Python 3",
   "language": "python",
   "name": "python3"
  },
  "language_info": {
   "codemirror_mode": {
    "name": "ipython",
    "version": 3
   },
   "file_extension": ".py",
   "mimetype": "text/x-python",
   "name": "python",
   "nbconvert_exporter": "python",
   "pygments_lexer": "ipython3",
   "version": "3.7.10"
  }
 },
 "nbformat": 4,
 "nbformat_minor": 2
}
