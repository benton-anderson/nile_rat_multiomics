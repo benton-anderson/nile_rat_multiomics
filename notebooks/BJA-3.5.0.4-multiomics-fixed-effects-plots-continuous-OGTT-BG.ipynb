{
 "cells": [
  {
   "cell_type": "code",
   "execution_count": 1,
   "id": "8622d374",
   "metadata": {},
   "outputs": [],
   "source": [
    "import ast\n",
    "import random\n",
    "import pickle\n",
    "import json\n",
    "\n",
    "import pandas as pd\n",
    "import numpy as np\n",
    "from numpy.linalg.linalg import LinAlgError\n",
    "import matplotlib.pyplot as plt\n",
    "plt.rcParams['svg.fonttype'] = 'none'\n",
    "import seaborn as sns\n",
    "from matplotlib_venn import venn2, venn3, venn3_circles\n",
    "import statsmodels.api as sm\n",
    "import statsmodels.formula.api as smf\n",
    "from statsmodels.stats.multitest import fdrcorrection\n",
    "import dateutil\n",
    "from sklearn.linear_model import LinearRegression\n",
    "from scipy.stats import chi2"
   ]
  },
  {
   "cell_type": "code",
   "execution_count": 2,
   "id": "0c1a36cd",
   "metadata": {},
   "outputs": [],
   "source": [
    "# colors and class-superclass maps\n",
    "with open(r'..\\data\\metadata\\color_schemes.json') as infile:\n",
    "    colors = json.load(infile)\n",
    "\n",
    "animals_used = [1091, 1093, 1060, 1062, 1074, 1092, 1102, 1076, 1082, 1101]\n",
    "diabetic =     [1076, 1082, 1101]\n",
    "impaired =     [1060, 1062, 1074, 1092, 1102]\n",
    "normal =       [1091, 1093]\n",
    "animal_tol = {\n",
    "    1076: 'diabetic', 1082: 'diabetic', 1101: 'diabetic', 1060: 'impaired', 1062: 'impaired', \n",
    "    1074: 'impaired', 1092: 'impaired', 1102: 'impaired', 1091: 'normal', 1093: 'normal'}\n",
    "ap = pd.read_excel(r'..\\data\\metadata\\animal_phenotypes.xlsx', index_col=0)\n",
    "fg = pd.read_csv(r'..\\data\\metadata\\combined_metab_lipid_file_grouping.csv', index_col=0)\n",
    "\n",
    "# Use data that was sent to collaborators \n",
    "data = pd.read_excel(r'../data/processed/combined_metabolites_data.xlsx').set_index('i')\n",
    "data_cols = data.filter(regex='FBG|RBG').columns\n",
    "fbg_cols = data.filter(regex='FBG').columns\n",
    "rbg_cols = data.filter(regex='RBG').columns\n",
    "pval_cols = data.filter(regex='pval').columns\n",
    "\n",
    "n = data.filter(regex='1091|1093')                 # normal\n",
    "i = data.filter(regex='1060|1062|1074|1092|1102')  # impaired\n",
    "d = data.filter(regex='1076|1082|1101')            # diabetic\n",
    "\n",
    "f = data[fbg_cols]  # fasted\n",
    "r = data[rbg_cols]  # random-fed\n",
    "\n",
    "fn = n.filter(fbg_cols)  # fasted normal \n",
    "fi = i.filter(fbg_cols)  # fasted impaired\n",
    "fd = d.filter(fbg_cols)  # fasted diabetic\n",
    "\n",
    "rn = n.filter(rbg_cols)  # random normal\n",
    "ri = i.filter(rbg_cols)  # random impaired\n",
    "rd = d.filter(rbg_cols)  # random diabetic\n",
    "\n",
    "# rename columns to remove '_RBG', '_FBG' for element-wise subtraction\n",
    "rn.columns = rn.columns.str[:-4]\n",
    "fn.columns = fn.columns.str[:-4]\n",
    "ri.columns = ri.columns.str[:-4]\n",
    "fi.columns = fi.columns.str[:-4]\n",
    "rd.columns = rd.columns.str[:-4]\n",
    "fd.columns = fd.columns.str[:-4]\n",
    "\n",
    "qval_sampling = data['fdr corrected pval effect of sampling']\n",
    "# qval_sampling.replace(np.nan, 1, inplace=True)  # For replacing blanks (model failed to converge) with 1\n",
    "qval_gtol = data['fdr corrected pval effect of glucose tolerance']\n",
    "qval_cross = data['fdr corrected pval effect of interaction sampling and glucose tolerance']"
   ]
  },
  {
   "cell_type": "code",
   "execution_count": 3,
   "id": "ca87c4b6",
   "metadata": {},
   "outputs": [],
   "source": [
    "ogtt = pd.read_csv(r'..\\data\\processed\\OGTT_fixed_effects_lm_results.csv', index_col=0)\n",
    "bg = pd.read_csv(r'..\\data\\processed\\Weekly_BG_fixed_effects_lm_results.csv', index_col=0)"
   ]
  },
  {
   "cell_type": "code",
   "execution_count": 8,
   "id": "1af82e46",
   "metadata": {},
   "outputs": [
    {
     "data": {
      "text/plain": [
       "{'RBG': [[846.75, 2321.25], [19.89694449817288, 20.80537257143588]],\n",
       " 'FBG': [[846.75, 2321.25], [18.95011268332485, 19.465095279545206]]}"
      ]
     },
     "execution_count": 8,
     "metadata": {},
     "output_type": "execute_result"
    }
   ],
   "source": [
    "ogtt_values = ap.loc[ap['lcms_sampled'], 'OGTT (AUC)']\n",
    "min_ogtt, max_ogtt = min(ogtt_values), max(ogtt_values)\n",
    "\n",
    "def get_model_params(feature, df): \n",
    "    params = ast.literal_eval(df.loc[feature]['full_model_params'])\n",
    "    interceptfbg = params['Intercept']\n",
    "    interceptrbg = interceptfbg + params['bg_type[T.RBG]']\n",
    "    minfbg = interceptfbg + params['ogtt'] * min_ogtt\n",
    "    minrbg = interceptrbg + params['ogtt'] * min_ogtt + params['ogtt:bg_type[T.RBG]'] * min_ogtt\n",
    "    maxfbg = interceptfbg + params['ogtt'] * max_ogtt\n",
    "    maxrbg = interceptrbg + params['ogtt'] * max_ogtt + params['ogtt:bg_type[T.RBG]'] * max_ogtt\n",
    "    \n",
    "    return {'RBG': [[min_ogtt, max_ogtt], [minrbg, maxrbg]],\n",
    "            'FBG': [[min_ogtt, max_ogtt], [minfbg, maxfbg]]}  \n",
    "test = get_model_params('l_222', ogtt)\n",
    "test"
   ]
  },
  {
   "cell_type": "code",
   "execution_count": 16,
   "id": "fa16ca76",
   "metadata": {},
   "outputs": [
    {
     "data": {
      "text/plain": [
       "'Plasmanyl-PC O-34:4'"
      ]
     },
     "execution_count": 16,
     "metadata": {},
     "output_type": "execute_result"
    }
   ],
   "source": []
  },
  {
   "cell_type": "code",
   "execution_count": null,
   "id": "09e75218",
   "metadata": {},
   "outputs": [],
   "source": []
  },
  {
   "cell_type": "code",
   "execution_count": 55,
   "id": "d02d52d1",
   "metadata": {},
   "outputs": [
    {
     "name": "stdout",
     "output_type": "stream",
     "text": [
      "TG_16:0_16:0_20:5_870.75452_16.179\n",
      "l_819\n"
     ]
    },
    {
     "data": {
      "image/png": "[encoded data removed]",
      "text/plain": [
       "<Figure size 432x288 with 1 Axes>"
      ]
     },
     "metadata": {},
     "output_type": "display_data"
    }
   ],
   "source": [
    "animal_ogtts = ap.loc[ap['lcms_sampled']].filter(regex='OGTT \\(AUC\\)')\n",
    "\n",
    "# feature = random.sample(list(data.index), 1)[0]\n",
    "# feature = 'm_548'\n",
    "feature = data.loc[(~data['Unique ID'].str.contains('unknown')) & (data['Type'] == 'lipid')]\\\n",
    "              .sort_values(qval_cross.name).iloc[7] \n",
    "print(feature['Unique ID'])\n",
    "feature = feature.name\n",
    "print(feature)\n",
    "\n",
    "fig, ax = plt.subplots()\n",
    "fig.set_facecolor('white')\n",
    "params = get_model_params(feature, ogtt)\n",
    "\n",
    "for bg_type, bg_color, offset in zip(['RBG', 'FBG'], [colors['RBG'], colors['FBG']], [-5, 5]):\n",
    "    ax.plot(params[bg_type][0], params[bg_type][1], label=bg_type, color=bg_color)\n",
    "    for animal in animals_used:\n",
    "        gluc_tol = animal_tol[animal]\n",
    "        animal_ogtt = animal_ogtts.loc[animal]\n",
    "        df = data.loc[feature, data.filter(regex=str(animal)).filter(regex=bg_type).columns]\n",
    "        plt.scatter(np.array([animal_ogtt]*3) + offset, df, color=bg_color, alpha=0.85)\n",
    "plt.ylabel('log2 feature abundance', fontsize=12)\n",
    "plt.xlabel('OGTT (AUC)', fontsize=12)\n",
    "plt.title(data.loc[feature, 'Proposed ID'], fontsize=14)\n",
    "plt.legend(loc=(1, 0.5))\n",
    "ylim = ax.get_ylim()\n",
    "for ogtt_value in animal_ogtts.iloc[:, 0]:\n",
    "    plt.vlines(x=ogtt_value, ymin=ylim[0], ymax=ylim[1], color='gray', alpha=0.2)\n",
    "# plt.xticks(animal_ogtts.iloc[:, 0])\n",
    "sns.despine()"
   ]
  },
  {
   "cell_type": "code",
   "execution_count": null,
   "id": "b858170e",
   "metadata": {},
   "outputs": [],
   "source": []
  },
  {
   "cell_type": "code",
   "execution_count": 11,
   "id": "69239e31",
   "metadata": {},
   "outputs": [
    {
     "data": {
      "text/plain": [
       "{'RBG': {1091: i\n",
       "  l_0      23.966487\n",
       "  l_1      24.912942\n",
       "  l_2      23.413989\n",
       "  l_3      27.350338\n",
       "  l_4      22.522382\n",
       "             ...    \n",
       "  m_169    25.124559\n",
       "  m_213    23.324871\n",
       "  m_24     27.744507\n",
       "  m_505    21.655395\n",
       "  m_441    22.617104\n",
       "  Length: 1727, dtype: float64,\n",
       "  1093: i\n",
       "  l_0      23.611918\n",
       "  l_1      24.567604\n",
       "  l_2      23.952991\n",
       "  l_3      26.970232\n",
       "  l_4      22.766641\n",
       "             ...    \n",
       "  m_169    25.198418\n",
       "  m_213    22.464199\n",
       "  m_24     27.636194\n",
       "  m_505    21.183386\n",
       "  m_441    22.558525\n",
       "  Length: 1727, dtype: float64,\n",
       "  1060: i\n",
       "  l_0      23.840615\n",
       "  l_1      25.054730\n",
       "  l_2      24.048209\n",
       "  l_3      26.942758\n",
       "  l_4      23.111682\n",
       "             ...    \n",
       "  m_169    24.832177\n",
       "  m_213    21.665979\n",
       "  m_24     27.396343\n",
       "  m_505    20.623551\n",
       "  m_441    22.525861\n",
       "  Length: 1727, dtype: float64,\n",
       "  1062: i\n",
       "  l_0      23.174288\n",
       "  l_1      23.608273\n",
       "  l_2      23.749417\n",
       "  l_3      27.198735\n",
       "  l_4      22.836285\n",
       "             ...    \n",
       "  m_169    24.855207\n",
       "  m_213    23.623989\n",
       "  m_24     27.993940\n",
       "  m_505    22.081803\n",
       "  m_441    22.779202\n",
       "  Length: 1727, dtype: float64,\n",
       "  1074: i\n",
       "  l_0      23.841427\n",
       "  l_1      24.962976\n",
       "  l_2      24.020401\n",
       "  l_3      27.329256\n",
       "  l_4      23.168719\n",
       "             ...    \n",
       "  m_169    25.091111\n",
       "  m_213    21.056168\n",
       "  m_24     27.380440\n",
       "  m_505    20.477262\n",
       "  m_441    22.421616\n",
       "  Length: 1727, dtype: float64,\n",
       "  1092: i\n",
       "  l_0      23.792566\n",
       "  l_1      24.777115\n",
       "  l_2      23.895966\n",
       "  l_3      26.998344\n",
       "  l_4      22.327510\n",
       "             ...    \n",
       "  m_169    24.980388\n",
       "  m_213    20.869502\n",
       "  m_24     27.049402\n",
       "  m_505    19.788670\n",
       "  m_441    22.296704\n",
       "  Length: 1727, dtype: float64,\n",
       "  1102: i\n",
       "  l_0      23.327583\n",
       "  l_1      23.821103\n",
       "  l_2      23.528009\n",
       "  l_3      26.981334\n",
       "  l_4      22.490114\n",
       "             ...    \n",
       "  m_169    25.064443\n",
       "  m_213    23.512188\n",
       "  m_24     27.858088\n",
       "  m_505    21.711219\n",
       "  m_441    22.592833\n",
       "  Length: 1727, dtype: float64,\n",
       "  1076: i\n",
       "  l_0      23.734863\n",
       "  l_1      24.378175\n",
       "  l_2      24.449786\n",
       "  l_3      27.084315\n",
       "  l_4      23.238189\n",
       "             ...    \n",
       "  m_169    24.650059\n",
       "  m_213    22.098509\n",
       "  m_24     27.645229\n",
       "  m_505    21.425180\n",
       "  m_441    22.514442\n",
       "  Length: 1727, dtype: float64,\n",
       "  1082: i\n",
       "  l_0      23.484084\n",
       "  l_1      24.385322\n",
       "  l_2      23.706616\n",
       "  l_3      27.033307\n",
       "  l_4      22.766074\n",
       "             ...    \n",
       "  m_169    24.946622\n",
       "  m_213    21.775856\n",
       "  m_24     27.478629\n",
       "  m_505    21.051339\n",
       "  m_441    22.407266\n",
       "  Length: 1727, dtype: float64,\n",
       "  1101: i\n",
       "  l_0      23.527161\n",
       "  l_1      24.712632\n",
       "  l_2      23.719033\n",
       "  l_3      27.351148\n",
       "  l_4      22.704753\n",
       "             ...    \n",
       "  m_169    25.082331\n",
       "  m_213    21.724200\n",
       "  m_24     27.325684\n",
       "  m_505    20.733367\n",
       "  m_441    22.384103\n",
       "  Length: 1727, dtype: float64},\n",
       " 'FBG': {}}"
      ]
     },
     "execution_count": 11,
     "metadata": {},
     "output_type": "execute_result"
    }
   ],
   "source": [
    "d = {'RBG': {}, 'FBG': {}}\n",
    "\n",
    "for animal in animals_used:\n",
    "    for df, bg_type in zip([f, r], ['FBG', 'RBG']):\n",
    "        bg_type_animal_mean = df.filter(regex=str(animal)).mean(axis=1)\n",
    "        d['RBG'][animal] = bg_type_animal_mean \n",
    "d"
   ]
  },
  {
   "cell_type": "code",
   "execution_count": 42,
   "id": "11ee34cf",
   "metadata": {
    "scrolled": true
   },
   "outputs": [
    {
     "data": {
      "text/plain": [
       "<matplotlib.legend.Legend at 0x296b2586bc8>"
      ]
     },
     "execution_count": 42,
     "metadata": {},
     "output_type": "execute_result"
    },
    {
     "data": {
      "image/png": "[encoded data removed]",
      "text/plain": [
       "<Figure size 432x288 with 1 Axes>"
      ]
     },
     "metadata": {
      "needs_background": "light"
     },
     "output_type": "display_data"
    }
   ],
   "source": [
    "feature = 'l_557'\n",
    "test = get_model_fits(feature, ogtt)\n",
    "\n",
    "plt.plot(test['RBG'][0], test['RBG'][1], c=colors['RBG'], label='random-fed')\n",
    "plt.plot(test['FBG'][0], test['FBG'][1], c=colors['FBG'], label='fasted')\n",
    "\n",
    "\n",
    "for bg_type in ['RBG', 'FBG']:\n",
    "    for animal in animals_used:\n",
    "        plt.scatter()\n",
    "    \n",
    "\n",
    "plt.scatter()\n",
    "\n",
    "plt.legend()"
   ]
  },
  {
   "cell_type": "code",
   "execution_count": null,
   "id": "5ae82ea2",
   "metadata": {},
   "outputs": [],
   "source": []
  },
  {
   "cell_type": "code",
   "execution_count": null,
   "id": "e948c2d2",
   "metadata": {},
   "outputs": [],
   "source": []
  },
  {
   "cell_type": "code",
   "execution_count": null,
   "id": "aa3d6aaa",
   "metadata": {},
   "outputs": [],
   "source": []
  },
  {
   "cell_type": "code",
   "execution_count": null,
   "id": "383d28c3",
   "metadata": {},
   "outputs": [],
   "source": []
  },
  {
   "cell_type": "code",
   "execution_count": null,
   "id": "a722ae7a",
   "metadata": {},
   "outputs": [],
   "source": []
  },
  {
   "cell_type": "code",
   "execution_count": null,
   "id": "49529235",
   "metadata": {},
   "outputs": [],
   "source": []
  },
  {
   "cell_type": "code",
   "execution_count": null,
   "id": "2ded46c1",
   "metadata": {},
   "outputs": [],
   "source": []
  },
  {
   "cell_type": "code",
   "execution_count": null,
   "id": "d129d1cf",
   "metadata": {},
   "outputs": [],
   "source": []
  },
  {
   "cell_type": "code",
   "execution_count": null,
   "id": "74ab34c8",
   "metadata": {},
   "outputs": [],
   "source": []
  },
  {
   "cell_type": "code",
   "execution_count": null,
   "id": "4a896493",
   "metadata": {},
   "outputs": [],
   "source": []
  },
  {
   "cell_type": "code",
   "execution_count": null,
   "id": "86713ee6",
   "metadata": {},
   "outputs": [],
   "source": []
  },
  {
   "cell_type": "code",
   "execution_count": null,
   "id": "e7530335",
   "metadata": {},
   "outputs": [],
   "source": []
  }
 ],
 "metadata": {
  "kernelspec": {
   "display_name": "Python 3",
   "language": "python",
   "name": "python3"
  },
  "language_info": {
   "codemirror_mode": {
    "name": "ipython",
    "version": 3
   },
   "file_extension": ".py",
   "mimetype": "text/x-python",
   "name": "python",
   "nbconvert_exporter": "python",
   "pygments_lexer": "ipython3",
   "version": "3.7.10"
  }
 },
 "nbformat": 4,
 "nbformat_minor": 5
}
