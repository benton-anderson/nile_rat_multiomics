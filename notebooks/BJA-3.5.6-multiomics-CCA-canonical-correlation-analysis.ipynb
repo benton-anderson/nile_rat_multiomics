{
 "cells": [
  {
   "cell_type": "markdown",
   "id": "1682d304",
   "metadata": {},
   "source": [
    "https://scikit-learn.org/stable/modules/cross_decomposition.html#cross-decomposition\n",
    "\n",
    "https://scikit-learn.org/stable/modules/generated/sklearn.cross_decomposition.CCA.html"
   ]
  },
  {
   "cell_type": "markdown",
   "id": "859ac66d",
   "metadata": {},
   "source": [
    "https://www.ml-science.com/cross-decomposition"
   ]
  },
  {
   "cell_type": "code",
   "execution_count": 1,
   "id": "67457f1a",
   "metadata": {},
   "outputs": [],
   "source": [
    "import json\n",
    "\n",
    "import pandas as pd\n",
    "import numpy as np\n",
    "import matplotlib as mpl\n",
    "import matplotlib.pyplot as plt\n",
    "import seaborn as sns\n",
    "plt.rcParams['svg.fonttype'] = 'none'\n",
    "# plt.rcParams['font.family'] = 'sans-serif'\n",
    "# plt.rcParams['font.sans-serif'] = ['Tahoma']\n",
    "plt.style.use('seaborn-white')  # 'seaborn-ticks'\n",
    "sns.set_style('white')\n",
    "import dateutil\n",
    "\n",
    "from sklearn.preprocessing import StandardScaler"
   ]
  },
  {
   "cell_type": "code",
   "execution_count": 2,
   "id": "12cd906b",
   "metadata": {},
   "outputs": [],
   "source": [
    "animals_used = [1091, 1093, 1060, 1062, 1074, 1092, 1102, 1076, 1082, 1101]\n",
    "diabetic = [1076, 1082, 1101]\n",
    "impaired = [1060, 1062, 1074, 1092, 1102]\n",
    "normal = [1091, 1093]\n",
    "\n",
    "obs = pd.read_excel(r'..\\data\\metadata\\20210421_FBGRBGOGTT_Huishi sample sheet.xlsx', sheet_name='cleaned')\n",
    "obs['animal'] = obs['animal'].str.strip('TM').astype('int')\n",
    "obs['datetime'] = obs['when'].apply(dateutil.parser.parse)\n",
    "animal_phenotypes = pd.read_excel(r'..\\data\\metadata\\20210421_FBGRBGOGTT_Huishi sample sheet.xlsx', sheet_name='animal phenotypes')\n",
    "animal_phenotypes['animal'] = animal_phenotypes['animal'].str.strip('TM').astype('int')\n",
    "\n",
    "fg = pd.read_csv(r'..\\data\\metadata\\combined_metab_lipid_file_grouping.csv', index_col=0)\n",
    "\n",
    "# Use data that was sent to collaborators \n",
    "data = pd.read_excel(r'../data/processed/combined_metabolites_data.xlsx').set_index('i')\n",
    "data_cols = data.filter(regex='FBG|RBG').columns\n",
    "fbg_cols = data.filter(regex='FBG').columns\n",
    "rbg_cols = data.filter(regex='RBG').columns\n",
    "pval_cols = data.filter(regex='pval').columns\n",
    "\n",
    "n = data.filter(regex='1091|1093')                 # normal\n",
    "i = data.filter(regex='1060|1062|1074|1092|1102')  # impaired\n",
    "d = data.filter(regex='1076|1082|1101')            # diabetic\n",
    "\n",
    "f = data[fbg_cols]  # fasted\n",
    "r = data[rbg_cols]  # random-fed\n",
    "\n",
    "fn = n.filter(fbg_cols)  # fasted normal \n",
    "fi = i.filter(fbg_cols)  # fasted impaired\n",
    "fd = d.filter(fbg_cols)  # fasted diabetic\n",
    "\n",
    "rn = n.filter(rbg_cols)  # random normal\n",
    "ri = i.filter(rbg_cols)  # random impaired\n",
    "rd = d.filter(rbg_cols)  # random diabetic\n",
    "\n",
    "order_cols = rn.columns.to_list() + fn.columns.to_list() + \\\n",
    "                ri.columns.to_list() + fi.columns.to_list() + \\\n",
    "                rd.columns.to_list() + fd.columns.to_list()\n",
    "\n",
    "qval_sampling = data['fdr corrected pval effect of sampling']\n",
    "qval_gtol = data['fdr corrected pval effect of glucose tolerance']\n",
    "qval_cross = data['fdr corrected pval effect of interaction sampling and glucose tolerance']"
   ]
  },
  {
   "cell_type": "code",
   "execution_count": null,
   "id": "680dede8",
   "metadata": {},
   "outputs": [],
   "source": []
  },
  {
   "cell_type": "code",
   "execution_count": null,
   "id": "3bc3e4ee",
   "metadata": {},
   "outputs": [],
   "source": []
  },
  {
   "cell_type": "code",
   "execution_count": null,
   "id": "db3e7015",
   "metadata": {},
   "outputs": [],
   "source": []
  },
  {
   "cell_type": "code",
   "execution_count": null,
   "id": "c3968be6",
   "metadata": {},
   "outputs": [],
   "source": []
  },
  {
   "cell_type": "code",
   "execution_count": null,
   "id": "dad601d4",
   "metadata": {},
   "outputs": [],
   "source": []
  },
  {
   "cell_type": "code",
   "execution_count": null,
   "id": "98bd669f",
   "metadata": {},
   "outputs": [],
   "source": []
  },
  {
   "cell_type": "code",
   "execution_count": null,
   "id": "9c4e53ff",
   "metadata": {},
   "outputs": [],
   "source": []
  },
  {
   "cell_type": "code",
   "execution_count": null,
   "id": "5199fece",
   "metadata": {},
   "outputs": [],
   "source": []
  },
  {
   "cell_type": "code",
   "execution_count": null,
   "id": "b603f250",
   "metadata": {},
   "outputs": [],
   "source": []
  },
  {
   "cell_type": "code",
   "execution_count": null,
   "id": "1d137c8b",
   "metadata": {},
   "outputs": [],
   "source": []
  },
  {
   "cell_type": "code",
   "execution_count": null,
   "id": "aeb1f47c",
   "metadata": {},
   "outputs": [],
   "source": []
  },
  {
   "cell_type": "code",
   "execution_count": null,
   "id": "6c85f09c",
   "metadata": {},
   "outputs": [],
   "source": []
  },
  {
   "cell_type": "code",
   "execution_count": null,
   "id": "eb11a855",
   "metadata": {},
   "outputs": [],
   "source": []
  }
 ],
 "metadata": {
  "kernelspec": {
   "display_name": "Python 3",
   "language": "python",
   "name": "python3"
  },
  "language_info": {
   "codemirror_mode": {
    "name": "ipython",
    "version": 3
   },
   "file_extension": ".py",
   "mimetype": "text/x-python",
   "name": "python",
   "nbconvert_exporter": "python",
   "pygments_lexer": "ipython3",
   "version": "3.7.10"
  }
 },
 "nbformat": 4,
 "nbformat_minor": 5
}
