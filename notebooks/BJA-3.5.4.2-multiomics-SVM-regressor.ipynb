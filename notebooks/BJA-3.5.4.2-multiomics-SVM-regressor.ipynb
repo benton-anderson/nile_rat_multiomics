{
 "cells": [
  {
   "cell_type": "code",
   "execution_count": 3,
   "id": "8215a0b2",
   "metadata": {},
   "outputs": [
    {
     "name": "stdout",
     "output_type": "stream",
     "text": [
      "1.0.2\n"
     ]
    }
   ],
   "source": [
    "import time\n",
    "from collections import defaultdict\n",
    "import json\n",
    "import math\n",
    "\n",
    "import pandas as pd\n",
    "import numpy as np\n",
    "import matplotlib.pyplot as plt\n",
    "plt.rcParams['svg.fonttype'] = 'none'  # https://stackoverflow.com/questions/34387893/output-matplotlib-figure-to-svg-with-text-as-text-not-curves\n",
    "plt.style.use('seaborn-ticks')\n",
    "\n",
    "import seaborn as sns\n",
    "import dateutil\n",
    "from scipy.stats import spearmanr, pearsonr, kendalltau\n",
    "from scipy.cluster import hierarchy\n",
    "from scipy.spatial.distance import squareform\n",
    "from scipy.cluster.hierarchy import dendrogram, fcluster, fclusterdata\n",
    "\n",
    "from sklearn.cluster import AgglomerativeClustering, FeatureAgglomeration\n",
    "from sklearn.datasets import make_regression, make_classification\n",
    "from sklearn.model_selection import (\n",
    "    cross_val_score, cross_val_predict,\n",
    "    RepeatedKFold, RepeatedStratifiedKFold,\n",
    "    train_test_split, \n",
    "    GridSearchCV,\n",
    ")\n",
    "from sklearn.ensemble import RandomForestRegressor, RandomForestClassifier\n",
    "from sklearn.svm import SVC, SVR\n",
    "from sklearn.preprocessing import StandardScaler\n",
    "from sklearn.inspection import permutation_importance\n",
    "from sklearn.metrics import (\n",
    "    classification_report,\n",
    "    roc_auc_score, roc_curve, RocCurveDisplay, auc,\n",
    "    confusion_matrix, multilabel_confusion_matrix, ConfusionMatrixDisplay,\n",
    "    f1_score, \n",
    "    recall_score,\n",
    "    accuracy_score,\n",
    "    precision_score, precision_recall_curve, precision_recall_fscore_support,\n",
    "    #     plot_roc_curve,\n",
    "    #     plot_precision_recall_curve,  ## The plot_x_score API is deprecated\n",
    ")\n",
    "import sklearn\n",
    "print(sklearn.__version__)"
   ]
  },
  {
   "cell_type": "code",
   "execution_count": 2,
   "id": "64bfb14f",
   "metadata": {},
   "outputs": [],
   "source": [
    "# colors and class-superclass maps\n",
    "with open(r'..\\data\\metadata\\color_schemes.json') as infile:\n",
    "    colors = json.load(infile)\n",
    "\n",
    "animals_used = [1091, 1093, 1060, 1062, 1074, 1092, 1102, 1076, 1082, 1101]\n",
    "diabetic =     [1076, 1082, 1101]\n",
    "impaired =     [1060, 1062, 1074, 1092, 1102]\n",
    "normal =       [1091, 1093]\n",
    "animal_tol = {\n",
    "    1076: 'diabetic', 1082: 'diabetic', 1101: 'diabetic', 1060: 'impaired', 1062: 'impaired', \n",
    "    1074: 'impaired', 1092: 'impaired', 1102: 'impaired', 1091: 'normal', 1093: 'normal'}\n",
    "ap = pd.read_excel(r'..\\data\\metadata\\animal_phenotypes.xlsx', index_col=0)\n",
    "\n",
    "fg = pd.read_csv(r'..\\data\\metadata\\combined_metab_lipid_file_grouping.csv', index_col=0)\n",
    "\n",
    "# Use data that was sent to collaborators \n",
    "data = pd.read_excel(r'../data/processed/combined_metabolites_data.xlsx').set_index('i')\n",
    "data_cols = data.filter(regex='FBG|RBG').columns\n",
    "fbg_cols = data.filter(regex='FBG').columns\n",
    "rbg_cols = data.filter(regex='RBG').columns\n",
    "pval_cols = data.filter(regex='pval').columns\n",
    "\n",
    "n = data.filter(regex='1091|1093')                 # normal\n",
    "i = data.filter(regex='1060|1062|1074|1092|1102')  # impaired\n",
    "d = data.filter(regex='1076|1082|1101')            # diabetic\n",
    "\n",
    "f = data[fbg_cols]  # fasted\n",
    "r = data[rbg_cols]  # random-fed\n",
    "\n",
    "fn = n.filter(fbg_cols)  # fasted normal \n",
    "fi = i.filter(fbg_cols)  # fasted impaired\n",
    "fd = d.filter(fbg_cols)  # fasted diabetic\n",
    "\n",
    "rn = n.filter(rbg_cols)  # random normal\n",
    "ri = i.filter(rbg_cols)  # random impaired\n",
    "rd = d.filter(rbg_cols)  # random diabetic\n",
    "\n",
    "qval_sampling = data['fdr corrected pval effect of sampling']\n",
    "qval_gtol = data['fdr corrected pval effect of glucose tolerance']\n",
    "qval_cross = data['fdr corrected pval effect of interaction sampling and glucose tolerance']"
   ]
  },
  {
   "cell_type": "code",
   "execution_count": 9,
   "id": "6f0bad67",
   "metadata": {},
   "outputs": [],
   "source": [
    "X_all = data[data_cols].T\n",
    "X_only_conv = data.loc[~data[pval_cols].isna().all(axis=1), data_cols].T\n",
    "gluc_tol_cols = ['fdr corrected pval effect of glucose tolerance', \n",
    "                 'fdr corrected pval effect of interaction sampling and glucose tolerance']\n",
    "X_only_signf = data.loc[(data[gluc_tol_cols] < 0.05).any(axis=1), data_cols].T\n",
    "\n",
    "\n",
    "y_3class = fg.set_index('combined_col_name')['glucose_tolerance']         # ['normal', 'impaired', 'diabetic']\n",
    "y_3class_num = y_3class.map({'normal': 0, 'impaired': 1, 'diabetic': 2})  # [0, 1, 2]\n",
    "y_bg = fg.set_index('combined_col_name')['bg']                            # random/fasted blood glucoose\n",
    "ogtt_dict = ap.to_dict()['OGTT (AUC)']                                    # OGTT AUC\n",
    "y_ogtt = fg[['combined_col_name', 'animal']].set_index('combined_col_name')['animal'].map(ogtt_dict)  "
   ]
  },
  {
   "cell_type": "code",
   "execution_count": 35,
   "id": "089f1b92",
   "metadata": {},
   "outputs": [],
   "source": [
    "def grid_search(X, y, model, params, cv, scoring, print_all=True, **kwargs):\n",
    "    gs = GridSearchCV(estimator=model,\n",
    "                      param_grid=params,\n",
    "                      scoring=scoring,\n",
    "                      cv=cv,\n",
    "                      n_jobs=7,\n",
    "                      **kwargs)\n",
    "    result = gs.fit(X, y)\n",
    "    print(\"Best: %f using %s\" % (result.best_score_, result.best_params_))\n",
    "    means = result.cv_results_['mean_test_score']\n",
    "    stds = result.cv_results_['std_test_score']\n",
    "    params = result.cv_results_['params']\n",
    "    if print_all:\n",
    "        for mean, stdev, param in zip(means, stds, params):\n",
    "            print(\"%f (%f) with: %r\" % (mean, stdev, param))\n",
    "    l = []\n",
    "    for mean, param in zip(means, params):\n",
    "        d = {'mean': mean, **param}\n",
    "        l.append(d)\n",
    "    return pd.DataFrame(l)"
   ]
  },
  {
   "cell_type": "code",
   "execution_count": 44,
   "id": "19883da2",
   "metadata": {
    "scrolled": true
   },
   "outputs": [
    {
     "name": "stdout",
     "output_type": "stream",
     "text": [
      "RBG ogtt\n",
      "Best: -0.142973 using {'C': 1.0, 'kernel': 'poly'}\n",
      "RBG bg\n",
      "Best: -0.286717 using {'C': 0.4, 'kernel': 'poly'}\n",
      "FBG ogtt\n",
      "Best: -0.164711 using {'C': 0.7, 'kernel': 'linear'}\n",
      "FBG bg\n",
      "Best: -0.185339 using {'C': 0.1, 'kernel': 'rbf'}\n",
      "all ogtt\n",
      "Best: -0.124892 using {'C': 0.6, 'kernel': 'poly'}\n",
      "all bg\n",
      "Best: -0.352308 using {'C': 0.1, 'kernel': 'poly'}\n"
     ]
    }
   ],
   "source": [
    "model = SVR()\n",
    "param_grid = {'kernel': ['rbf', 'linear', 'poly'],\n",
    "              'C': [0.1, 0.4, 0.6, 0.7, 0.8, 0.85, 0.9, 0.93, 0.96, 0.98, 1.0]}\n",
    "results = defaultdict(dict)\n",
    "for cols, col_name in zip([rbg_cols, fbg_cols, data_cols], ['RBG', 'FBG', 'all']):\n",
    "#     results[col_name] = {}\n",
    "    for y, y_name in zip([y_ogtt, y_bg], ['ogtt', 'bg']):\n",
    "        print(col_name, y_name)\n",
    "        results[col_name][y_name] = grid_search(X_all.loc[cols], y=y.loc[cols], model=model, \n",
    "                                                params=param_grid, \n",
    "                                                cv=RepeatedKFold(n_splits=10, n_repeats=3, random_state=1), \n",
    "                                                print_all=False,  \n",
    "                                                scoring='neg_mean_absolute_percentage_error')"
   ]
  },
  {
   "cell_type": "code",
   "execution_count": 46,
   "id": "f1b759ed",
   "metadata": {},
   "outputs": [
    {
     "data": {
      "text/html": [
       "<div>\n",
       "<style scoped>\n",
       "    .dataframe tbody tr th:only-of-type {\n",
       "        vertical-align: middle;\n",
       "    }\n",
       "\n",
       "    .dataframe tbody tr th {\n",
       "        vertical-align: top;\n",
       "    }\n",
       "\n",
       "    .dataframe thead th {\n",
       "        text-align: right;\n",
       "    }\n",
       "</style>\n",
       "<table border=\"1\" class=\"dataframe\">\n",
       "  <thead>\n",
       "    <tr style=\"text-align: right;\">\n",
       "      <th></th>\n",
       "      <th>mean</th>\n",
       "      <th>C</th>\n",
       "    </tr>\n",
       "    <tr>\n",
       "      <th>kernel</th>\n",
       "      <th></th>\n",
       "      <th></th>\n",
       "    </tr>\n",
       "  </thead>\n",
       "  <tbody>\n",
       "    <tr>\n",
       "      <th>linear</th>\n",
       "      <td>-0.296067</td>\n",
       "      <td>0.747273</td>\n",
       "    </tr>\n",
       "    <tr>\n",
       "      <th>poly</th>\n",
       "      <td>-0.288324</td>\n",
       "      <td>0.747273</td>\n",
       "    </tr>\n",
       "    <tr>\n",
       "      <th>rbf</th>\n",
       "      <td>-0.810622</td>\n",
       "      <td>0.747273</td>\n",
       "    </tr>\n",
       "  </tbody>\n",
       "</table>\n",
       "</div>"
      ],
      "text/plain": [
       "            mean         C\n",
       "kernel                    \n",
       "linear -0.296067  0.747273\n",
       "poly   -0.288324  0.747273\n",
       "rbf    -0.810622  0.747273"
      ]
     },
     "execution_count": 46,
     "metadata": {},
     "output_type": "execute_result"
    }
   ],
   "source": [
    "results['RBG']['bg'].groupby('kernel').mean()  # kernel C  bg  ogtt  RBG  FBG  all"
   ]
  },
  {
   "cell_type": "code",
   "execution_count": 14,
   "id": "86662d14",
   "metadata": {},
   "outputs": [
    {
     "name": "stdout",
     "output_type": "stream",
     "text": [
      "Best: -0.118269 using {'C': 0.9, 'kernel': 'linear'}\n",
      "-0.307511 (0.077348) with: {'C': 0.1, 'kernel': 'rbf'}\n",
      "-0.180080 (0.052390) with: {'C': 0.1, 'kernel': 'linear'}\n",
      "-0.307386 (0.077298) with: {'C': 0.4, 'kernel': 'rbf'}\n",
      "-0.131720 (0.039868) with: {'C': 0.4, 'kernel': 'linear'}\n",
      "-0.307303 (0.077265) with: {'C': 0.6, 'kernel': 'rbf'}\n",
      "-0.122239 (0.044749) with: {'C': 0.6, 'kernel': 'linear'}\n",
      "-0.307261 (0.077249) with: {'C': 0.7, 'kernel': 'rbf'}\n",
      "-0.120474 (0.046193) with: {'C': 0.7, 'kernel': 'linear'}\n",
      "-0.307218 (0.077233) with: {'C': 0.8, 'kernel': 'rbf'}\n",
      "-0.118752 (0.046856) with: {'C': 0.8, 'kernel': 'linear'}\n",
      "-0.307197 (0.077225) with: {'C': 0.85, 'kernel': 'rbf'}\n",
      "-0.118371 (0.047042) with: {'C': 0.85, 'kernel': 'linear'}\n",
      "-0.307175 (0.077217) with: {'C': 0.9, 'kernel': 'rbf'}\n",
      "-0.118269 (0.047122) with: {'C': 0.9, 'kernel': 'linear'}\n",
      "-0.307162 (0.077213) with: {'C': 0.93, 'kernel': 'rbf'}\n",
      "-0.118276 (0.047168) with: {'C': 0.93, 'kernel': 'linear'}\n",
      "-0.307149 (0.077208) with: {'C': 0.96, 'kernel': 'rbf'}\n",
      "-0.118337 (0.047180) with: {'C': 0.96, 'kernel': 'linear'}\n",
      "-0.307141 (0.077205) with: {'C': 0.98, 'kernel': 'rbf'}\n",
      "-0.118376 (0.047154) with: {'C': 0.98, 'kernel': 'linear'}\n",
      "-0.307132 (0.077202) with: {'C': 1.0, 'kernel': 'rbf'}\n",
      "-0.118409 (0.047098) with: {'C': 1.0, 'kernel': 'linear'}\n"
     ]
    }
   ],
   "source": [
    "model = SVR()\n",
    "param_grid = {'kernel': ['rbf', 'linear'],\n",
    "              'C': [0.1, 0.4, 0.6, 0.7, 0.8, 0.85, 0.9, 0.93, 0.96, 0.98, 1.0]}\n",
    "gs = GridSearchCV(\n",
    "    model, \n",
    "    param_grid, \n",
    "    cv=10,\n",
    "    scoring='neg_mean_absolute_percentage_error',\n",
    "    n_jobs=7,\n",
    "    )\n",
    "gs_result_all_ogtt = gs.fit(X_all, y_ogtt)\n",
    "\n",
    "# summarize results\n",
    "print(\"Best: %f using %s\" % (gs_result_all_ogtt.best_score_, gs_result_all_ogtt.best_params_))\n",
    "means = gs_result_all_ogtt.cv_results_['mean_test_score']\n",
    "stds = gs_result_all_ogtt.cv_results_['std_test_score']\n",
    "params = gs_result_all_ogtt.cv_results_['params']\n",
    "for mean, stdev, param in zip(means, stds, params):\n",
    "    print(\"%f (%f) with: %r\" % (mean, stdev, param))"
   ]
  },
  {
   "cell_type": "code",
   "execution_count": 11,
   "id": "1f0b8b62",
   "metadata": {},
   "outputs": [
    {
     "data": {
      "text/plain": [
       "GridSearchCV(cv=10, estimator=SVR(), n_jobs=7,\n",
       "             param_grid={'C': [0.1, 0.4, 0.6, 0.7, 0.8, 0.85, 0.9, 0.93, 0.96,\n",
       "                               0.98, 1.0],\n",
       "                         'kernel': ['rbf', 'linear']})"
      ]
     },
     "execution_count": 11,
     "metadata": {},
     "output_type": "execute_result"
    }
   ],
   "source": [
    "gs_result_all_ogtt"
   ]
  },
  {
   "cell_type": "code",
   "execution_count": null,
   "id": "43fa16fd",
   "metadata": {},
   "outputs": [],
   "source": []
  },
  {
   "cell_type": "code",
   "execution_count": null,
   "id": "9f4c7130",
   "metadata": {},
   "outputs": [],
   "source": []
  }
 ],
 "metadata": {
  "kernelspec": {
   "display_name": "Python 3",
   "language": "python",
   "name": "python3"
  },
  "language_info": {
   "codemirror_mode": {
    "name": "ipython",
    "version": 3
   },
   "file_extension": ".py",
   "mimetype": "text/x-python",
   "name": "python",
   "nbconvert_exporter": "python",
   "pygments_lexer": "ipython3",
   "version": "3.7.10"
  }
 },
 "nbformat": 4,
 "nbformat_minor": 5
}
