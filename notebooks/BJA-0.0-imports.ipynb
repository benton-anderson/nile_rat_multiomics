{
 "cells": [
  {
   "cell_type": "markdown",
   "id": "92bf8be0",
   "metadata": {},
   "source": [
    "# Two ways to implement: \n",
    "\n",
    "# 1) json file with all data or filepaths stored in the top level dictionary\n",
    "# 2) import a .py module file from src directory that introduces all the variables into your namespace\n",
    "# 3) import .py module from this notebooks directory\n"
   ]
  },
  {
   "cell_type": "code",
   "execution_count": 3,
   "id": "a6073adf",
   "metadata": {},
   "outputs": [],
   "source": [
    "import json\n",
    "import pandas as pd\n",
    "\n",
    "import os\n",
    "import sys\n",
    "sys.path.insert(1, os.path.join(sys.path[0], '..'))\n",
    "from src.plot import plot_quant_vs_ogtt"
   ]
  },
  {
   "cell_type": "code",
   "execution_count": 5,
   "id": "ce82c05f",
   "metadata": {},
   "outputs": [],
   "source": [
    "colors = json.load(open(r'..\\data\\metadata\\color_schemes.json'))\n",
    "compound_superclasses = json.load(open('../data/metadata/compound_superclasses.json', 'r'))\n",
    "\n",
    "# animals_used = [1091, 1093, 1060, 1062, 1074, 1092, 1102, 1076, 1082, 1101]\n",
    "# diabetic =     [1076, 1082, 1101]\n",
    "# impaired =     [1060, 1062, 1074, 1092, 1102]\n",
    "# normal =       [1091, 1093]\n",
    "# animal_tol = {\n",
    "#     1076: 'diabetic', 1082: 'diabetic', 1101: 'diabetic', 1060: 'impaired', 1062: 'impaired', \n",
    "#     1074: 'impaired', 1092: 'impaired', 1102: 'impaired', 1091: 'normal', 1093: 'normal'}\n",
    "\n",
    "ap = pd.read_excel(r'..\\data\\metadata\\animal_phenotypes.xlsx', index_col=0)\n",
    "fg = pd.read_csv(r'..\\data\\metadata\\combined_metab_lipid_file_grouping.csv', index_col=0)\n",
    "\n",
    "# Use data that was sent to collaborators \n",
    "data = pd.read_excel(r'../data/processed/combined_metabolites_data.xlsx').set_index('i')\n",
    "data_cols = data.filter(regex='\\d_FBG|\\d_RBG').columns\n",
    "fbg_cols = data.filter(regex='\\d_FBG').columns\n",
    "rbg_cols = data.filter(regex='\\d_RBG').columns"
   ]
  },
  {
   "cell_type": "code",
   "execution_count": 7,
   "id": "cbf72ff3",
   "metadata": {},
   "outputs": [],
   "source": [
    "# (1) json file method\n",
    "\n",
    "d = {\n",
    "    'animals_used': animals_used,\n",
    "    'diabetic': diabetic,\n",
    "    'impaired': impaired,\n",
    "    'normal': normal,\n",
    "    'animal_tol': animal_tol,\n",
    "    'phenotypes': r'..\\data\\metadata\\animal_phenotypes.xlsx',\n",
    "    'filegroups': r'..\\data\\metadata\\combined_metab_lipid_file_grouping.csv',\n",
    "    'data': r'..\\data\\processed\\combined_metabolites_data.xlsx',\n",
    "}"
   ]
  },
  {
   "cell_type": "code",
   "execution_count": 8,
   "id": "ceba9421",
   "metadata": {},
   "outputs": [],
   "source": [
    "with open(r'..\\src\\imports.json', 'w') as outfile:\n",
    "    json.dump(d, outfile, indent=2)"
   ]
  },
  {
   "cell_type": "code",
   "execution_count": null,
   "id": "0faad579",
   "metadata": {},
   "outputs": [],
   "source": []
  },
  {
   "cell_type": "code",
   "execution_count": null,
   "id": "7b7ff521",
   "metadata": {},
   "outputs": [],
   "source": []
  },
  {
   "cell_type": "code",
   "execution_count": null,
   "id": "722fc7f3",
   "metadata": {},
   "outputs": [],
   "source": []
  },
  {
   "cell_type": "code",
   "execution_count": null,
   "id": "fcd97705",
   "metadata": {},
   "outputs": [],
   "source": []
  }
 ],
 "metadata": {
  "kernelspec": {
   "display_name": "Python 3",
   "language": "python",
   "name": "python3"
  },
  "language_info": {
   "codemirror_mode": {
    "name": "ipython",
    "version": 3
   },
   "file_extension": ".py",
   "mimetype": "text/x-python",
   "name": "python",
   "nbconvert_exporter": "python",
   "pygments_lexer": "ipython3",
   "version": "3.7.10"
  }
 },
 "nbformat": 4,
 "nbformat_minor": 5
}
