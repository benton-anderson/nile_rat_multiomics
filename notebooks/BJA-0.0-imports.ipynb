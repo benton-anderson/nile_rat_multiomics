{
 "cells": [
  {
   "cell_type": "markdown",
   "id": "92bf8be0",
   "metadata": {},
   "source": [
    "# Imports and data files used in notebooks, stored for convenience\n"
   ]
  },
  {
   "cell_type": "code",
   "execution_count": null,
   "id": "a6073adf",
   "metadata": {},
   "outputs": [],
   "source": [
    "import json\n",
    "import pandas as pd\n",
    "\n",
    "import os\n",
    "import sys\n",
    "sys.path.insert(1, os.path.join(sys.path[0], '..'))  # Add the src directory to path \n",
    "from src.plots import plot_quant_vs_ogtt\n",
    "from src.utils import parse_lipid, parse_p_value\n",
    "\n",
    "\n",
    "import matplotlib.pyplot as plt\n",
    "from matplotlib.patches import Ellipse, Patch\n",
    "from matplotlib.colors import ListedColormap, BoundaryNorm\n",
    "from matplotlib.lines import Line2D\n",
    "from matplotlib import cm\n",
    "import matplotlib\n",
    "from mpl_toolkits.axes_grid1 import make_axes_locatable\n",
    "import seaborn as sns\n",
    "import networkx as nx\n",
    "\n",
    "plt.rcParams['svg.fonttype'] = 'none'\n",
    "plt.rcParams['pdf.use14corefonts'] = True\n",
    "plt.rcParams['axes.unicode_minus'] = False  # https://stackoverflow.com/questions/43102564/matplotlib-negative-numbers-on-tick-labels-displayed-as-boxes\n",
    "plt.style.use('seaborn-ticks')  # 'seaborn-ticks', 'seaborn-white', 'seaborn'\n",
    "# sns.set_style('white')"
   ]
  },
  {
   "cell_type": "code",
   "execution_count": 5,
   "id": "ce82c05f",
   "metadata": {},
   "outputs": [],
   "source": [
    "colors = json.load(open(r'..\\data\\metadata\\color_schemes.json'))\n",
    "colors['Non-fasted'] = colors['RBG']\n",
    "colors['Fasted'] = colors['FBG']\n",
    "compound_superclasses = json.load(open('../data/metadata/compound_superclasses.json', 'r'))\n",
    "    \n",
    "data = pd.read_csv(r'../data/processed/combined_metabolites_data_with_model_params.csv').set_index('i')\n",
    "data_cols = data.filter(regex='_FBG|_RBG').columns\n",
    "fbg_cols = data.filter(regex='_FBG').columns\n",
    "rbg_cols = data.filter(regex='_RBG').columns\n",
    "\n",
    "ap = pd.read_excel(r'..\\data\\metadata\\animal_phenotypes.xlsx', index_col=0)\n",
    "fg = pd.read_csv(r'..\\data\\metadata\\combined_metab_lipid_file_grouping.csv', index_col=0)"
   ]
  },
  {
   "cell_type": "code",
   "execution_count": 7,
   "id": "cbf72ff3",
   "metadata": {},
   "outputs": [],
   "source": [
    "# (1) json file method\n",
    "\n",
    "d = {\n",
    "    'animals_used': animals_used,\n",
    "    'diabetic': diabetic,\n",
    "    'impaired': impaired,\n",
    "    'normal': normal,\n",
    "    'animal_tol': animal_tol,\n",
    "    'phenotypes': r'..\\data\\metadata\\animal_phenotypes.xlsx',\n",
    "    'filegroups': r'..\\data\\metadata\\combined_metab_lipid_file_grouping.csv',\n",
    "    'data': r'..\\data\\processed\\combined_metabolites_data.xlsx',\n",
    "}"
   ]
  },
  {
   "cell_type": "code",
   "execution_count": 8,
   "id": "ceba9421",
   "metadata": {},
   "outputs": [],
   "source": [
    "# with open(r'..\\src\\imports.json', 'w') as outfile:\n",
    "#     json.dump(d, outfile, indent=2)"
   ]
  },
  {
   "cell_type": "code",
   "execution_count": null,
   "id": "0faad579",
   "metadata": {},
   "outputs": [],
   "source": [
    "sns.FacetGrid"
   ]
  },
  {
   "cell_type": "code",
   "execution_count": null,
   "id": "d71f6e26",
   "metadata": {},
   "outputs": [],
   "source": []
  },
  {
   "cell_type": "code",
   "execution_count": null,
   "id": "41e2e541",
   "metadata": {},
   "outputs": [],
   "source": []
  },
  {
   "cell_type": "code",
   "execution_count": null,
   "id": "ae81b757",
   "metadata": {},
   "outputs": [],
   "source": []
  },
  {
   "cell_type": "code",
   "execution_count": null,
   "id": "6a437ef4",
   "metadata": {},
   "outputs": [],
   "source": []
  },
  {
   "cell_type": "code",
   "execution_count": 86,
   "id": "4b961d6a",
   "metadata": {},
   "outputs": [
    {
     "data": {
      "text/plain": [
       "<matplotlib.transforms.TransformedBbox at 0x1be9ad6cec8>"
      ]
     },
     "execution_count": 86,
     "metadata": {},
     "output_type": "execute_result"
    }
   ],
   "source": [
    "def tight_bbox(ax):\n",
    "    fig = ax.get_figure()\n",
    "    tight_bbox_raw = ax.get_tightbbox(fig.canvas.get_renderer())\n",
    "    from matplotlib.transforms import TransformedBbox\n",
    "    tight_bbox_fig = TransformedBbox(tight_bbox_raw, fig.transFigure.inverted())\n",
    "    return tight_bbox_fig"
   ]
  },
  {
   "cell_type": "code",
   "execution_count": 83,
   "id": "6b1dacc0",
   "metadata": {},
   "outputs": [
    {
     "ename": "NameError",
     "evalue": "name 'inset' is not defined",
     "output_type": "error",
     "traceback": [
      "\u001b[1;31m---------------------------------------------------------------------------\u001b[0m",
      "\u001b[1;31mNameError\u001b[0m                                 Traceback (most recent call last)",
      "\u001b[1;32m<ipython-input-83-97ba7edbb4d0>\u001b[0m in \u001b[0;36m<module>\u001b[1;34m\u001b[0m\n\u001b[0;32m      1\u001b[0m \u001b[1;32mfrom\u001b[0m \u001b[0mmatplotlib\u001b[0m \u001b[1;32mimport\u001b[0m \u001b[0mtight_layout\u001b[0m\u001b[1;33m\u001b[0m\u001b[1;33m\u001b[0m\u001b[0m\n\u001b[0;32m      2\u001b[0m \u001b[0mrenderer\u001b[0m \u001b[1;33m=\u001b[0m \u001b[0mtight_layout\u001b[0m\u001b[1;33m.\u001b[0m\u001b[0mget_renderer\u001b[0m\u001b[1;33m(\u001b[0m\u001b[0mfig\u001b[0m\u001b[1;33m)\u001b[0m\u001b[1;33m\u001b[0m\u001b[1;33m\u001b[0m\u001b[0m\n\u001b[1;32m----> 3\u001b[1;33m \u001b[0minset_tight_bbox\u001b[0m \u001b[1;33m=\u001b[0m \u001b[0minset\u001b[0m\u001b[1;33m.\u001b[0m\u001b[0mget_tightbbox\u001b[0m\u001b[1;33m(\u001b[0m\u001b[0mrenderer\u001b[0m\u001b[1;33m)\u001b[0m\u001b[1;33m\u001b[0m\u001b[1;33m\u001b[0m\u001b[0m\n\u001b[0m",
      "\u001b[1;31mNameError\u001b[0m: name 'inset' is not defined"
     ]
    }
   ],
   "source": [
    "from matplotlib import tight_layout\n",
    "renderer = tight_layout.get_renderer(fig)\n",
    "inset_tight_bbox = inset.get_tightbbox(renderer)"
   ]
  },
  {
   "cell_type": "code",
   "execution_count": 93,
   "id": "5ac543b1",
   "metadata": {},
   "outputs": [
    {
     "data": {
      "text/plain": [
       "(-0.08738425925925926,\n",
       " 0.06076388888888889,\n",
       " 0.57106935835629,\n",
       " 0.8939694444444446)"
      ]
     },
     "execution_count": 93,
     "metadata": {},
     "output_type": "execute_result"
    }
   ],
   "source": [
    "bb.bounds"
   ]
  },
  {
   "cell_type": "code",
   "execution_count": 99,
   "id": "5eea0b6e",
   "metadata": {},
   "outputs": [
    {
     "data": {
      "image/png": "[encoded data removed]",
      "text/plain": [
       "<Figure size 432x288 with 2 Axes>"
      ]
     },
     "metadata": {},
     "output_type": "display_data"
    }
   ],
   "source": [
    "fig, (ax1, ax2) = plt.subplots(ncols=2, facecolor='white')\n",
    "ax1.plot([1, 2], [1,2])\n",
    "ax2.plot([1, 1], [0, 1])\n",
    "ax1.set_yticks([1, 2], ['Extra long label', '2'])\n",
    "ax1.set_ylabel('Y label')\n",
    "bb = tight_bbox(ax1)\n",
    "for ax, letter in zip([ax1, ax2], ['A', 'B']):\n",
    "    bb = tight_bbox(ax)\n",
    "    ax.text(x=bb.x0, y=bb.y1, s=letter, transform=fig.transFigure, fontsize=20, va='bottom', ha='left')\n",
    "# fig.canvas.draw()\n",
    "\n",
    "\n",
    "# ax.text(x=0, y=1.03, s='C', transform=bb, fontsize=20)"
   ]
  },
  {
   "cell_type": "code",
   "execution_count": 65,
   "id": "394996d8",
   "metadata": {},
   "outputs": [
    {
     "data": {
      "image/png": "[encoded data removed]",
      "text/plain": [
       "<Figure size 432x288 with 2 Axes>"
      ]
     },
     "metadata": {},
     "output_type": "display_data"
    }
   ],
   "source": [
    "fig, (ax1, ax2) = plt.subplots(ncols=2, facecolor='white')\n",
    "ax1.plot([1, 2], [1,2])\n",
    "ax2.plot([1, 1], [0, 1])\n",
    "ax1.set_yticks([1, 2], ['Extra long label', '2'])\n",
    "ax1.set_ylabel('Y label')\n",
    "ax1.text(x=-0.6, y=1.03, s='A', transform=ax1.transAxes, fontsize=20)\n",
    "ax2.text(x=-0.15, y=1.03, s='B', transform=ax2.transAxes, fontsize=20)"
   ]
  },
  {
   "cell_type": "code",
   "execution_count": 52,
   "id": "fac7ec3f",
   "metadata": {},
   "outputs": [
    {
     "data": {
      "text/plain": [
       "Bbox([[-37.75, 17.5], [208.95196280991732, 274.96320000000003]])"
      ]
     },
     "execution_count": 52,
     "metadata": {},
     "output_type": "execute_result"
    }
   ],
   "source": [
    "bb"
   ]
  },
  {
   "cell_type": "code",
   "execution_count": 60,
   "id": "b39e9422",
   "metadata": {},
   "outputs": [
    {
     "data": {
      "text/plain": [
       "<matplotlib.transforms.BboxTransformFrom at 0x1be9a2bfb48>"
      ]
     },
     "execution_count": 60,
     "metadata": {},
     "output_type": "execute_result"
    }
   ],
   "source": [
    "ax1.transLimits"
   ]
  },
  {
   "cell_type": "code",
   "execution_count": 55,
   "id": "809d472b",
   "metadata": {},
   "outputs": [
    {
     "data": {
      "text/plain": [
       "Bbox([[0.5477272727272726, 0.125], [0.8999999999999999, 0.88]])"
      ]
     },
     "execution_count": 55,
     "metadata": {},
     "output_type": "execute_result"
    }
   ],
   "source": [
    "ax2.get_position()"
   ]
  },
  {
   "cell_type": "code",
   "execution_count": 51,
   "id": "a9faa9d4",
   "metadata": {},
   "outputs": [
    {
     "data": {
      "text/plain": [
       "Bbox([[213.24318181818177, 17.5], [394.3201446280989, 274.96320000000003]])"
      ]
     },
     "execution_count": 51,
     "metadata": {},
     "output_type": "execute_result"
    }
   ],
   "source": [
    "ax2.get_tightbbox(fig.canvas.get_renderer())"
   ]
  },
  {
   "cell_type": "code",
   "execution_count": null,
   "id": "b9b0d8c7",
   "metadata": {},
   "outputs": [],
   "source": []
  },
  {
   "cell_type": "code",
   "execution_count": null,
   "id": "c2898850",
   "metadata": {},
   "outputs": [],
   "source": []
  },
  {
   "cell_type": "code",
   "execution_count": null,
   "id": "3eb3540a",
   "metadata": {},
   "outputs": [],
   "source": []
  },
  {
   "cell_type": "code",
   "execution_count": null,
   "id": "2ebf61f7",
   "metadata": {},
   "outputs": [],
   "source": []
  },
  {
   "cell_type": "code",
   "execution_count": null,
   "id": "dcf184db",
   "metadata": {},
   "outputs": [],
   "source": []
  },
  {
   "cell_type": "code",
   "execution_count": null,
   "id": "86c9973c",
   "metadata": {},
   "outputs": [],
   "source": []
  },
  {
   "cell_type": "code",
   "execution_count": null,
   "id": "3a449952",
   "metadata": {},
   "outputs": [],
   "source": []
  },
  {
   "cell_type": "code",
   "execution_count": null,
   "id": "021c6849",
   "metadata": {},
   "outputs": [],
   "source": []
  },
  {
   "cell_type": "markdown",
   "id": "d5eaf6d3",
   "metadata": {},
   "source": [
    "Double pipes\n",
    "\\begin{matrix}\n",
    "1 & 2 & 3\\\\\n",
    "a & b & c\n",
    "\\end{matrix}"
   ]
  },
  {
   "cell_type": "code",
   "execution_count": null,
   "id": "f04ec9f6",
   "metadata": {},
   "outputs": [],
   "source": []
  },
  {
   "cell_type": "code",
   "execution_count": null,
   "id": "4f0a718e",
   "metadata": {},
   "outputs": [],
   "source": []
  },
  {
   "cell_type": "code",
   "execution_count": null,
   "id": "4a820a05",
   "metadata": {},
   "outputs": [],
   "source": []
  },
  {
   "cell_type": "code",
   "execution_count": null,
   "id": "98b73ac9",
   "metadata": {},
   "outputs": [],
   "source": []
  },
  {
   "cell_type": "code",
   "execution_count": null,
   "id": "1dc8f371",
   "metadata": {},
   "outputs": [],
   "source": []
  },
  {
   "cell_type": "code",
   "execution_count": null,
   "id": "b40ba2e4",
   "metadata": {},
   "outputs": [],
   "source": []
  },
  {
   "cell_type": "code",
   "execution_count": null,
   "id": "92b84b0d",
   "metadata": {},
   "outputs": [],
   "source": []
  },
  {
   "cell_type": "code",
   "execution_count": null,
   "id": "7f455b19",
   "metadata": {},
   "outputs": [],
   "source": []
  },
  {
   "cell_type": "code",
   "execution_count": null,
   "id": "2facb8a9",
   "metadata": {},
   "outputs": [],
   "source": []
  },
  {
   "cell_type": "code",
   "execution_count": null,
   "id": "b944a011",
   "metadata": {},
   "outputs": [],
   "source": []
  },
  {
   "cell_type": "code",
   "execution_count": null,
   "id": "8dff8fd3",
   "metadata": {},
   "outputs": [],
   "source": []
  },
  {
   "cell_type": "code",
   "execution_count": null,
   "id": "509a4e55",
   "metadata": {},
   "outputs": [],
   "source": []
  },
  {
   "cell_type": "code",
   "execution_count": null,
   "id": "cd1c8543",
   "metadata": {},
   "outputs": [],
   "source": []
  },
  {
   "cell_type": "code",
   "execution_count": null,
   "id": "a63da919",
   "metadata": {},
   "outputs": [],
   "source": []
  },
  {
   "cell_type": "code",
   "execution_count": null,
   "id": "ec4f6124",
   "metadata": {},
   "outputs": [],
   "source": []
  },
  {
   "cell_type": "code",
   "execution_count": null,
   "id": "ab40bbf7",
   "metadata": {},
   "outputs": [],
   "source": []
  },
  {
   "cell_type": "code",
   "execution_count": null,
   "id": "e86e3a5b",
   "metadata": {},
   "outputs": [],
   "source": []
  },
  {
   "cell_type": "code",
   "execution_count": null,
   "id": "7b7ff521",
   "metadata": {},
   "outputs": [],
   "source": []
  },
  {
   "cell_type": "code",
   "execution_count": null,
   "id": "722fc7f3",
   "metadata": {},
   "outputs": [],
   "source": []
  },
  {
   "cell_type": "code",
   "execution_count": null,
   "id": "fcd97705",
   "metadata": {},
   "outputs": [],
   "source": []
  }
 ],
 "metadata": {
  "kernelspec": {
   "display_name": "Python 3",
   "language": "python",
   "name": "python3"
  },
  "language_info": {
   "codemirror_mode": {
    "name": "ipython",
    "version": 3
   },
   "file_extension": ".py",
   "mimetype": "text/x-python",
   "name": "python",
   "nbconvert_exporter": "python",
   "pygments_lexer": "ipython3",
   "version": "3.7.10"
  }
 },
 "nbformat": 4,
 "nbformat_minor": 5
}
