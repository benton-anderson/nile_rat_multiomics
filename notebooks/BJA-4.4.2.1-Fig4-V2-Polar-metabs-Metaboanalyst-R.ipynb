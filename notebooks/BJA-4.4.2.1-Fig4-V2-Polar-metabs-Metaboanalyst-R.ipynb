{
 "cells": [
  {
   "cell_type": "markdown",
   "id": "3a3c2fff",
   "metadata": {},
   "source": [
    "# Install according to directions https://github.com/xia-lab/MetaboAnalystR"
   ]
  },
  {
   "cell_type": "code",
   "execution_count": 2,
   "id": "c8038c39",
   "metadata": {},
   "outputs": [
    {
     "name": "stderr",
     "output_type": "stream",
     "text": [
      "Warning message:\n",
      "\"package 'c(\"impute\", \"pcaMethods\", \"globaltest\", \"GlobalAncova\", \"Rgraphviz\", \"preprocessCore\", \"genefilter\", \"sva\", \"limma\", \"KEGGgraph\", \"siggenes\", \"BiocParallel\", \"MSnbase\", \"multtest\", \"RBGL\", \"edgeR\", \"fgsea\", \"httr\", \"qs\")' is not available for this version of R\n",
      "\n",
      "A version of this package for your version of R might be available elsewhere,\n",
      "see the ideas at\n",
      "https://cran.r-project.org/doc/manuals/r-patched/R-admin.html#Installing-packages\"\n",
      "Warning message:\n",
      "\"unable to access index for repository http://www.stats.ox.ac.uk/pub/RWin/bin/windows/contrib/4.1:\n",
      "  cannot open URL 'http://www.stats.ox.ac.uk/pub/RWin/bin/windows/contrib/4.1/PACKAGES'\"\n",
      "Warning message in p_install(package, character.only = TRUE, ...):\n",
      "\"\"\n",
      "Warning message in library(package, lib.loc = lib.loc, character.only = TRUE, logical.return = TRUE, :\n",
      "\"there is no package called 'c(\"impute\", \"pcaMethods\", \"globaltest\", \"GlobalAncova\", \"Rgraphviz\", \"preprocessCore\", \"genefilter\", \"sva\", \"limma\", \"KEGGgraph\", \"siggenes\", \"BiocParallel\", \"MSnbase\", \"multtest\", \"RBGL\", \"edgeR\", \"fgsea\", \"httr\", \"qs\")'\"\n",
      "Warning message in pacman::p_load(c(\"impute\", \"pcaMethods\", \"globaltest\", \"GlobalAncova\", :\n",
      "\"Failed to install/load:\n",
      "c(\"impute\", \"pcaMethods\", \"globaltest\", \"GlobalAncova\", \"Rgraphviz\", \"preprocessCore\", \"genefilter\", \"sva\", \"limma\", \"KEGGgraph\", \"siggenes\", \"BiocParallel\", \"MSnbase\", \"multtest\", \"RBGL\", \"edgeR\", \"fgsea\", \"httr\", \"qs\")\"\n"
     ]
    }
   ],
   "source": [
    "# install.packages(\"pacman\")\n",
    "# library(pacman)\n",
    "# pacman::p_load(c(\"impute\", \"pcaMethods\", \"globaltest\", \"GlobalAncova\", \"Rgraphviz\", \"preprocessCore\", \"genefilter\", \"sva\", \"limma\", \"KEGGgraph\", \"siggenes\",\"BiocParallel\", \"MSnbase\", \"multtest\",\"RBGL\",\"edgeR\",\"fgsea\",\"httr\",\"qs\"))"
   ]
  },
  {
   "cell_type": "code",
   "execution_count": 3,
   "id": "8f7b89d6",
   "metadata": {},
   "outputs": [],
   "source": [
    "metanr_packages <- function(){\n",
    "\n",
    "  metr_pkgs <- c(\"impute\", \"pcaMethods\", \"globaltest\", \"GlobalAncova\", \"Rgraphviz\", \"preprocessCore\", \"genefilter\", \"sva\", \"limma\", \"KEGGgraph\", \"siggenes\",\"BiocParallel\", \"MSnbase\", \"multtest\",\"RBGL\",\"edgeR\",\"fgsea\",\"devtools\",\"crmn\",\"httr\",\"qs\")\n",
    "  \n",
    "  list_installed <- installed.packages()\n",
    "  \n",
    "  new_pkgs <- subset(metr_pkgs, !(metr_pkgs %in% list_installed[, \"Package\"]))\n",
    "  \n",
    "  if(length(new_pkgs)!=0){\n",
    "    \n",
    "    if (!requireNamespace(\"BiocManager\", quietly = TRUE))\n",
    "        install.packages(\"BiocManager\")\n",
    "    BiocManager::install(new_pkgs)\n",
    "    print(c(new_pkgs, \" packages added...\"))\n",
    "  }\n",
    "  \n",
    "  if((length(new_pkgs)<1)){\n",
    "    print(\"No new packages added...\")\n",
    "  }\n",
    "}"
   ]
  },
  {
   "cell_type": "code",
   "execution_count": 4,
   "id": "a00c8b30",
   "metadata": {},
   "outputs": [
    {
     "name": "stderr",
     "output_type": "stream",
     "text": [
      "'getOption(\"repos\")' replaces Bioconductor standard repositories, see\n",
      "'?repositories' for details\n",
      "\n",
      "replacement repositories:\n",
      "    CRAN: https://cran.r-project.org\n",
      "\n",
      "\n",
      "Bioconductor version 3.14 (BiocManager 1.30.16), R 4.1.2 (2021-11-01)\n",
      "\n",
      "Installing package(s) 'impute', 'pcaMethods', 'globaltest', 'GlobalAncova',\n",
      "  'Rgraphviz', 'preprocessCore', 'genefilter', 'sva', 'KEGGgraph', 'siggenes',\n",
      "  'MSnbase', 'multtest', 'RBGL', 'fgsea', 'crmn', 'qs'\n",
      "\n",
      "also installing the dependencies 'ncdf4', 'clue', 'affyio', 'RcppParallel', 'annotate', 'corpcor', 'dendextend', 'GSEABase', 'VGAM', 'graph', 'scrime', 'mzR', 'ProtGenerics', 'MsCoreUtils', 'vsn', 'affy', 'MALDIquant', 'mzID', 'fastmatch', 'RApiSerialize', 'stringfish'\n",
      "\n",
      "\n",
      "Warning message in .inet_warning(msg):\n",
      "\"unable to access index for repository http://www.stats.ox.ac.uk/pub/RWin/bin/windows/contrib/4.1:\n",
      "  cannot open URL 'http://www.stats.ox.ac.uk/pub/RWin/bin/windows/contrib/4.1/PACKAGES'\"\n"
     ]
    },
    {
     "name": "stdout",
     "output_type": "stream",
     "text": [
      "\n",
      "  There are binary versions available but the source versions are later:\n",
      "              binary source needs_compilation\n",
      "RApiSerialize  0.1.0  0.1.1              TRUE\n",
      "MSnbase       2.20.1 2.20.4              TRUE\n",
      "qs            0.25.3 0.25.4              TRUE\n",
      "\n",
      "package 'ncdf4' successfully unpacked and MD5 sums checked\n",
      "package 'clue' successfully unpacked and MD5 sums checked\n",
      "package 'affyio' successfully unpacked and MD5 sums checked\n",
      "package 'RcppParallel' successfully unpacked and MD5 sums checked\n",
      "package 'annotate' successfully unpacked and MD5 sums checked\n",
      "package 'corpcor' successfully unpacked and MD5 sums checked\n",
      "package 'dendextend' successfully unpacked and MD5 sums checked\n",
      "package 'GSEABase' successfully unpacked and MD5 sums checked\n",
      "package 'VGAM' successfully unpacked and MD5 sums checked\n",
      "package 'graph' successfully unpacked and MD5 sums checked\n",
      "package 'scrime' successfully unpacked and MD5 sums checked\n",
      "package 'mzR' successfully unpacked and MD5 sums checked\n",
      "package 'ProtGenerics' successfully unpacked and MD5 sums checked\n",
      "package 'MsCoreUtils' successfully unpacked and MD5 sums checked\n",
      "package 'vsn' successfully unpacked and MD5 sums checked\n",
      "package 'affy' successfully unpacked and MD5 sums checked\n",
      "package 'MALDIquant' successfully unpacked and MD5 sums checked\n",
      "package 'mzID' successfully unpacked and MD5 sums checked\n",
      "package 'fastmatch' successfully unpacked and MD5 sums checked\n",
      "package 'stringfish' successfully unpacked and MD5 sums checked\n",
      "package 'impute' successfully unpacked and MD5 sums checked\n",
      "package 'pcaMethods' successfully unpacked and MD5 sums checked\n",
      "package 'globaltest' successfully unpacked and MD5 sums checked\n",
      "package 'GlobalAncova' successfully unpacked and MD5 sums checked\n",
      "package 'Rgraphviz' successfully unpacked and MD5 sums checked\n",
      "package 'preprocessCore' successfully unpacked and MD5 sums checked\n",
      "package 'genefilter' successfully unpacked and MD5 sums checked\n",
      "package 'sva' successfully unpacked and MD5 sums checked\n",
      "package 'KEGGgraph' successfully unpacked and MD5 sums checked\n",
      "package 'siggenes' successfully unpacked and MD5 sums checked\n",
      "package 'multtest' successfully unpacked and MD5 sums checked\n",
      "package 'RBGL' successfully unpacked and MD5 sums checked\n",
      "package 'fgsea' successfully unpacked and MD5 sums checked\n",
      "package 'crmn' successfully unpacked and MD5 sums checked\n",
      "\n",
      "The downloaded binary packages are in\n",
      "\tC:\\Users\\bjanderson23\\AppData\\Local\\Temp\\Rtmp88hUYX\\downloaded_packages\n"
     ]
    },
    {
     "name": "stderr",
     "output_type": "stream",
     "text": [
      "installing the source packages 'RApiSerialize', 'MSnbase', 'qs'\n",
      "\n",
      "\n",
      "Warning message in .inet_warning(msg):\n",
      "\"installation of package 'RApiSerialize' had non-zero exit status\"\n",
      "Warning message in .inet_warning(msg):\n",
      "\"installation of package 'qs' had non-zero exit status\"\n",
      "Old packages: 'benchmarkme', 'BiocManager', 'bslib', 'callr', 'caret', 'cli',\n",
      "  'cluster', 'DBI', 'dbplyr', 'devtools', 'dplyr', 'DT', 'e1071', 'evaluate',\n",
      "  'fansi', 'farver', 'fields', 'FNN', 'fontawesome', 'future', 'generics',\n",
      "  'gert', 'globals', 'golem', 'gplots', 'gtools', 'hardhat', 'htmltools',\n",
      "  'httr', 'ica', 'igraph', 'ipred', 'keras', 'knitr', 'leiden', 'limma',\n",
      "  'locfit', 'MASS', 'Matrix', 'mgcv', 'nlme', 'openssl', 'parallelly',\n",
      "  'pillar', 'pkgload', 'Polychrome', 'processx', 'progressr', 'proxy', 'ps',\n",
      "  'R.methodsS3', 'R.oo', 'R.utils', 'Rcpp', 'RcppArmadillo', 'RcppHNSW',\n",
      "  'RCurl', 'recipes', 'restfulr', 'rlang', 'rmarkdown', 'roxygen2', 'RSpectra',\n",
      "  'RSQLite', 'S4Vectors', 'sass', 'Seurat', 'SeuratObject', 'shiny',\n",
      "  'shinyWidgets', 'sp', 'spam', 'spatstat.core', 'spatstat.utils', 'statmod',\n",
      "  'stringi', 'survival', 'tensorflow', 'testthat', 'tibble', 'timeDate',\n",
      "  'tinytex', 'usethis', 'uuid', 'vctrs', 'xfun', 'XML'\n",
      "\n"
     ]
    },
    {
     "name": "stdout",
     "output_type": "stream",
     "text": [
      " [1] \"impute\"             \"pcaMethods\"         \"globaltest\"        \n",
      " [4] \"GlobalAncova\"       \"Rgraphviz\"          \"preprocessCore\"    \n",
      " [7] \"genefilter\"         \"sva\"                \"KEGGgraph\"         \n",
      "[10] \"siggenes\"           \"MSnbase\"            \"multtest\"          \n",
      "[13] \"RBGL\"               \"fgsea\"              \"crmn\"              \n",
      "[16] \"qs\"                 \" packages added...\"\n"
     ]
    }
   ],
   "source": [
    "metanr_packages()"
   ]
  },
  {
   "cell_type": "code",
   "execution_count": 5,
   "id": "6c411242",
   "metadata": {},
   "outputs": [
    {
     "ename": "ERROR",
     "evalue": "Error in eval(expr, envir, enclos): object 'asdf' not found\n",
     "output_type": "error",
     "traceback": [
      "Error in eval(expr, envir, enclos): object 'asdf' not found\nTraceback:\n"
     ]
    }
   ],
   "source": [
    "asdf"
   ]
  },
  {
   "cell_type": "code",
   "execution_count": null,
   "id": "ee42109c",
   "metadata": {},
   "outputs": [
    {
     "name": "stderr",
     "output_type": "stream",
     "text": [
      "Downloading GitHub repo xia-lab/MetaboAnalystR@HEAD\n",
      "\n"
     ]
    },
    {
     "name": "stdout",
     "output_type": "stream",
     "text": [
      "rlang        (1.0.2    -> 1.0.4   ) [CRAN]\n",
      "Rcpp         (1.0.8.3  -> 1.0.9   ) [CRAN]\n",
      "htmltools    (0.5.2    -> 0.5.3   ) [CRAN]\n",
      "fansi        (1.0.2    -> 1.0.3   ) [CRAN]\n",
      "cli          (3.2.0    -> 3.3.0   ) [CRAN]\n",
      "pillar       (1.7.0    -> 1.8.0   ) [CRAN]\n",
      "vctrs        (0.3.8    -> 0.4.1   ) [CRAN]\n",
      "tibble       (3.1.6    -> 3.1.8   ) [CRAN]\n",
      "generics     (0.1.2    -> 0.1.3   ) [CRAN]\n",
      "dplyr        (1.0.8    -> 1.0.9   ) [CRAN]\n",
      "openssl      (2.0.0    -> 2.0.2   ) [CRAN]\n",
      "stringi      (1.7.6    -> 1.7.8   ) [CRAN]\n",
      "parallelly   (1.31.1   -> 1.32.1  ) [CRAN]\n",
      "globals      (0.15.0   -> 0.16.0  ) [CRAN]\n",
      "future       (1.25.0   -> 1.27.0  ) [CRAN]\n",
      "progressr    (0.10.0   -> 0.10.1  ) [CRAN]\n",
      "timeDate     (3043.102 -> 4021.104) [CRAN]\n",
      "ipred        (0.9-12   -> 0.9-13  ) [CRAN]\n",
      "hardhat      (0.2.0    -> 1.2.0   ) [CRAN]\n",
      "proxy        (0.4-26   -> 0.4-27  ) [CRAN]\n",
      "farver       (2.1.0    -> 2.1.1   ) [CRAN]\n",
      "httr         (1.4.2    -> 1.4.3   ) [CRAN]\n",
      "gtools       (3.9.2    -> 3.9.3   ) [CRAN]\n",
      "recipes      (0.2.0    -> 1.0.1   ) [CRAN]\n",
      "e1071        (1.7-9    -> 1.7-11  ) [CRAN]\n",
      "RApiSeria... (NA       -> 0.1.1   ) [CRAN]\n",
      "DBI          (1.1.2    -> 1.1.3   ) [CRAN]\n",
      "igraph       (1.3.0    -> 1.3.4   ) [CRAN]\n",
      "gplots       (3.1.1    -> 3.1.3   ) [CRAN]\n",
      "glasso       (NA       -> 1.11    ) [CRAN]\n",
      "caret        (6.0-92   -> 6.0-93  ) [CRAN]\n",
      "qs           (NA       -> 0.25.4  ) [CRAN]\n",
      "Rserve       (NA       -> 1.8-10  ) [CRAN]\n",
      "Cairo        (NA       -> 1.6-0   ) [CRAN]\n",
      "RSQLite      (2.2.10   -> 2.2.15  ) [CRAN]\n"
     ]
    },
    {
     "name": "stderr",
     "output_type": "stream",
     "text": [
      "Skipping 9 packages not available: Biobase, pcaMethods, siggenes, MSnbase, impute, fgsea, edgeR, BiocParallel, RBGL\n",
      "\n",
      "Installing 35 packages: rlang, Rcpp, htmltools, fansi, cli, pillar, vctrs, tibble, generics, dplyr, openssl, stringi, parallelly, globals, future, progressr, timeDate, ipred, hardhat, proxy, farver, httr, gtools, recipes, e1071, RApiSerialize, DBI, igraph, gplots, glasso, caret, qs, Rserve, Cairo, RSQLite\n",
      "\n",
      "Warning message:\n",
      "\"unable to access index for repository http://www.stats.ox.ac.uk/pub/RWin/bin/windows/contrib/4.1:\n",
      "  cannot open URL 'http://www.stats.ox.ac.uk/pub/RWin/bin/windows/contrib/4.1/PACKAGES'\"\n"
     ]
    },
    {
     "name": "stdout",
     "output_type": "stream",
     "text": [
      "\n",
      "  There are binary versions available but the source versions are later:\n",
      "              binary source needs_compilation\n",
      "stringi        1.7.6  1.7.8              TRUE\n",
      "RApiSerialize  0.1.0  0.1.1              TRUE\n",
      "qs            0.25.3 0.25.4              TRUE\n",
      "\n",
      "package 'rlang' successfully unpacked and MD5 sums checked\n"
     ]
    },
    {
     "name": "stderr",
     "output_type": "stream",
     "text": [
      "Warning message:\n",
      "\"cannot remove prior installation of package 'rlang'\"\n",
      "Warning message in file.copy(savedcopy, lib, recursive = TRUE):\n",
      "\"problem copying C:\\Users\\bjanderson23\\R\\R-4.1.2\\library\\00LOCK\\rlang\\libs\\x64\\rlang.dll to C:\\Users\\bjanderson23\\R\\R-4.1.2\\library\\rlang\\libs\\x64\\rlang.dll: Permission denied\"\n",
      "Warning message:\n",
      "\"restored 'rlang'\"\n"
     ]
    },
    {
     "name": "stdout",
     "output_type": "stream",
     "text": [
      "package 'Rcpp' successfully unpacked and MD5 sums checked\n",
      "package 'htmltools' successfully unpacked and MD5 sums checked\n"
     ]
    },
    {
     "name": "stderr",
     "output_type": "stream",
     "text": [
      "Warning message:\n",
      "\"cannot remove prior installation of package 'htmltools'\"\n",
      "Warning message in file.copy(savedcopy, lib, recursive = TRUE):\n",
      "\"problem copying C:\\Users\\bjanderson23\\R\\R-4.1.2\\library\\00LOCK\\htmltools\\libs\\x64\\htmltools.dll to C:\\Users\\bjanderson23\\R\\R-4.1.2\\library\\htmltools\\libs\\x64\\htmltools.dll: Permission denied\"\n",
      "Warning message:\n",
      "\"restored 'htmltools'\"\n"
     ]
    },
    {
     "name": "stdout",
     "output_type": "stream",
     "text": [
      "package 'fansi' successfully unpacked and MD5 sums checked\n"
     ]
    },
    {
     "name": "stderr",
     "output_type": "stream",
     "text": [
      "Warning message:\n",
      "\"cannot remove prior installation of package 'fansi'\"\n",
      "Warning message in file.copy(savedcopy, lib, recursive = TRUE):\n",
      "\"problem copying C:\\Users\\bjanderson23\\R\\R-4.1.2\\library\\00LOCK\\fansi\\libs\\x64\\fansi.dll to C:\\Users\\bjanderson23\\R\\R-4.1.2\\library\\fansi\\libs\\x64\\fansi.dll: Permission denied\"\n",
      "Warning message:\n",
      "\"restored 'fansi'\"\n"
     ]
    },
    {
     "name": "stdout",
     "output_type": "stream",
     "text": [
      "package 'cli' successfully unpacked and MD5 sums checked\n"
     ]
    },
    {
     "name": "stderr",
     "output_type": "stream",
     "text": [
      "Warning message:\n",
      "\"cannot remove prior installation of package 'cli'\"\n",
      "Warning message in file.copy(savedcopy, lib, recursive = TRUE):\n",
      "\"problem copying C:\\Users\\bjanderson23\\R\\R-4.1.2\\library\\00LOCK\\cli\\libs\\x64\\cli.dll to C:\\Users\\bjanderson23\\R\\R-4.1.2\\library\\cli\\libs\\x64\\cli.dll: Permission denied\"\n",
      "Warning message:\n",
      "\"restored 'cli'\"\n"
     ]
    },
    {
     "name": "stdout",
     "output_type": "stream",
     "text": [
      "package 'pillar' successfully unpacked and MD5 sums checked\n",
      "package 'vctrs' successfully unpacked and MD5 sums checked\n"
     ]
    },
    {
     "name": "stderr",
     "output_type": "stream",
     "text": [
      "Warning message:\n",
      "\"cannot remove prior installation of package 'vctrs'\"\n",
      "Warning message in file.copy(savedcopy, lib, recursive = TRUE):\n",
      "\"problem copying C:\\Users\\bjanderson23\\R\\R-4.1.2\\library\\00LOCK\\vctrs\\libs\\x64\\vctrs.dll to C:\\Users\\bjanderson23\\R\\R-4.1.2\\library\\vctrs\\libs\\x64\\vctrs.dll: Permission denied\"\n",
      "Warning message:\n",
      "\"restored 'vctrs'\"\n"
     ]
    },
    {
     "name": "stdout",
     "output_type": "stream",
     "text": [
      "package 'tibble' successfully unpacked and MD5 sums checked\n",
      "package 'generics' successfully unpacked and MD5 sums checked\n",
      "package 'dplyr' successfully unpacked and MD5 sums checked\n",
      "package 'openssl' successfully unpacked and MD5 sums checked\n",
      "package 'parallelly' successfully unpacked and MD5 sums checked\n",
      "package 'globals' successfully unpacked and MD5 sums checked\n",
      "package 'future' successfully unpacked and MD5 sums checked\n",
      "package 'progressr' successfully unpacked and MD5 sums checked\n",
      "package 'timeDate' successfully unpacked and MD5 sums checked\n",
      "package 'ipred' successfully unpacked and MD5 sums checked\n",
      "package 'hardhat' successfully unpacked and MD5 sums checked\n",
      "package 'proxy' successfully unpacked and MD5 sums checked\n",
      "package 'farver' successfully unpacked and MD5 sums checked\n",
      "package 'httr' successfully unpacked and MD5 sums checked\n",
      "package 'gtools' successfully unpacked and MD5 sums checked\n",
      "package 'recipes' successfully unpacked and MD5 sums checked\n",
      "package 'e1071' successfully unpacked and MD5 sums checked\n",
      "package 'DBI' successfully unpacked and MD5 sums checked\n",
      "package 'igraph' successfully unpacked and MD5 sums checked\n",
      "package 'gplots' successfully unpacked and MD5 sums checked\n",
      "package 'glasso' successfully unpacked and MD5 sums checked\n",
      "package 'caret' successfully unpacked and MD5 sums checked\n",
      "package 'Rserve' successfully unpacked and MD5 sums checked\n",
      "package 'Cairo' successfully unpacked and MD5 sums checked\n",
      "package 'RSQLite' successfully unpacked and MD5 sums checked\n",
      "\n",
      "The downloaded binary packages are in\n",
      "\tC:\\Users\\bjanderson23\\AppData\\Local\\Temp\\Rtmp88hUYX\\downloaded_packages\n"
     ]
    },
    {
     "name": "stderr",
     "output_type": "stream",
     "text": [
      "installing the source packages 'stringi', 'RApiSerialize', 'qs'\n",
      "\n",
      "\n"
     ]
    }
   ],
   "source": [
    "devtools::install_github(\"xia-lab/MetaboAnalystR\", build = TRUE, build_vignettes = TRUE, build_manual =T)"
   ]
  },
  {
   "cell_type": "code",
   "execution_count": null,
   "id": "b8698343",
   "metadata": {},
   "outputs": [],
   "source": [
    "install.packages(\"stringi\")"
   ]
  },
  {
   "cell_type": "code",
   "execution_count": null,
   "id": "4b556e38",
   "metadata": {},
   "outputs": [],
   "source": []
  },
  {
   "cell_type": "code",
   "execution_count": null,
   "id": "1c0b05fb",
   "metadata": {},
   "outputs": [],
   "source": []
  },
  {
   "cell_type": "code",
   "execution_count": null,
   "id": "7564e083",
   "metadata": {},
   "outputs": [],
   "source": []
  },
  {
   "cell_type": "code",
   "execution_count": null,
   "id": "5172bf5e",
   "metadata": {},
   "outputs": [],
   "source": []
  },
  {
   "cell_type": "code",
   "execution_count": null,
   "id": "d52ca7b2",
   "metadata": {},
   "outputs": [],
   "source": []
  },
  {
   "cell_type": "code",
   "execution_count": null,
   "id": "76fe04c3",
   "metadata": {},
   "outputs": [],
   "source": []
  },
  {
   "cell_type": "code",
   "execution_count": null,
   "id": "3b128146",
   "metadata": {},
   "outputs": [],
   "source": []
  },
  {
   "cell_type": "code",
   "execution_count": null,
   "id": "2477b242",
   "metadata": {},
   "outputs": [],
   "source": []
  },
  {
   "cell_type": "code",
   "execution_count": null,
   "id": "3718d0fa",
   "metadata": {},
   "outputs": [],
   "source": []
  },
  {
   "cell_type": "code",
   "execution_count": null,
   "id": "b86f569c",
   "metadata": {},
   "outputs": [],
   "source": []
  }
 ],
 "metadata": {
  "kernelspec": {
   "display_name": "R-4.1.2",
   "language": "R",
   "name": "r-4.1.2"
  },
  "language_info": {
   "codemirror_mode": "r",
   "file_extension": ".r",
   "mimetype": "text/x-r-source",
   "name": "R",
   "pygments_lexer": "r",
   "version": "4.1.2"
  }
 },
 "nbformat": 4,
 "nbformat_minor": 5
}
