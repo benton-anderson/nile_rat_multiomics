{
 "cells": [
  {
   "cell_type": "code",
   "execution_count": null,
   "id": "4544e9b6",
   "metadata": {},
   "outputs": [],
   "source": []
  },
  {
   "cell_type": "markdown",
   "id": "209ed641",
   "metadata": {},
   "source": [
    "### Cross-polarity correlation\n",
    "\n",
    "The CAMERA package https://www.ncbi.nlm.nih.gov/pmc/articles/PMC3658281/  (Ralf is co-author) gives an approach for cross-polarity correlation of adducts. \n",
    "\n",
    "1. Calculate difference between all negative and positive mode features (create an N x M array in numpy)\n",
    "\n",
    "2. For each entry, see if abs(difference) is within ppm tolerance of any value on a table of adduct m/z differences (e.g. M+H to M-H is 1.007 * 2 = 2.014) \n",
    "\n",
    "3. Store link between index of pos and index of neg in some data structure, list of 2-tuples?\n",
    "\n",
    "4. Do a RT comparison between the two indices to see if within 0.1 min or so\n",
    "\n",
    "5. Store result and link them \n",
    "    1. Maybe create a list of dictionaries with info from both neg and pos table, then turn list of dicts into a third pandas df"
   ]
  },
  {
   "cell_type": "code",
   "execution_count": null,
   "id": "e2a193c0",
   "metadata": {},
   "outputs": [],
   "source": []
  },
  {
   "cell_type": "code",
   "execution_count": null,
   "id": "323f15ba",
   "metadata": {},
   "outputs": [],
   "source": []
  },
  {
   "cell_type": "code",
   "execution_count": null,
   "id": "fd62efc8",
   "metadata": {},
   "outputs": [],
   "source": []
  },
  {
   "cell_type": "code",
   "execution_count": null,
   "id": "72c4ed13",
   "metadata": {},
   "outputs": [],
   "source": []
  },
  {
   "cell_type": "code",
   "execution_count": null,
   "id": "373741eb",
   "metadata": {},
   "outputs": [],
   "source": []
  }
 ],
 "metadata": {
  "kernelspec": {
   "display_name": "Python 3",
   "language": "python",
   "name": "python3"
  },
  "language_info": {
   "codemirror_mode": {
    "name": "ipython",
    "version": 3
   },
   "file_extension": ".py",
   "mimetype": "text/x-python",
   "name": "python",
   "nbconvert_exporter": "python",
   "pygments_lexer": "ipython3",
   "version": "3.7.10"
  }
 },
 "nbformat": 4,
 "nbformat_minor": 5
}
