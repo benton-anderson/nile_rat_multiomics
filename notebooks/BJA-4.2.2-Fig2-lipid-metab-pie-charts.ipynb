{
 "cells": [
  {
   "cell_type": "code",
   "execution_count": 40,
   "id": "d5d9b110",
   "metadata": {},
   "outputs": [],
   "source": [
    "import json\n",
    "\n",
    "import pandas as pd\n",
    "import numpy as np\n",
    "import matplotlib as mpl\n",
    "import matplotlib.pyplot as plt\n",
    "import seaborn as sns\n",
    "plt.rcParams['svg.fonttype'] = 'none'\n",
    "plt.style.use('seaborn-white')  # 'seaborn-ticks'\n",
    "sns.set_style('white')\n",
    "import dateutil"
   ]
  },
  {
   "cell_type": "code",
   "execution_count": 41,
   "id": "c9a57b18",
   "metadata": {},
   "outputs": [],
   "source": [
    "animals_used = [1091, 1093, 1060, 1062, 1074, 1092, 1102, 1076, 1082, 1101]\n",
    "diabetic = [1076, 1082, 1101]\n",
    "impaired = [1060, 1062, 1074, 1092, 1102]\n",
    "normal = [1091, 1093]\n",
    "\n",
    "obs = pd.read_excel(r'..\\data\\metadata\\20210421_FBGRBGOGTT_Huishi sample sheet.xlsx', sheet_name='cleaned')\n",
    "obs['animal'] = obs['animal'].str.strip('TM').astype('int')\n",
    "obs['datetime'] = obs['when'].apply(dateutil.parser.parse)\n",
    "animal_phenotypes = pd.read_excel(r'..\\data\\metadata\\20210421_FBGRBGOGTT_Huishi sample sheet.xlsx', sheet_name='animal phenotypes')\n",
    "animal_phenotypes['animal'] = animal_phenotypes['animal'].str.strip('TM').astype('int')\n",
    "\n",
    "fg = pd.read_csv(r'..\\data\\metadata\\combined_metab_lipid_file_grouping.csv', index_col=0)\n",
    "\n",
    "# Use data that was sent to collaborators \n",
    "data = pd.read_excel(r'../data/processed/combined_metabolites_data.xlsx').set_index('i')\n",
    "data_cols = data.filter(regex='FBG|RBG').columns\n",
    "fbg_cols = data.filter(regex='FBG').columns\n",
    "rbg_cols = data.filter(regex='RBG').columns\n",
    "pval_cols = data.filter(regex='pval').columns\n",
    "\n",
    "n = data.filter(regex='1091|1093')                 # normal\n",
    "i = data.filter(regex='1060|1062|1074|1092|1102')  # impaired\n",
    "d = data.filter(regex='1076|1082|1101')            # diabetic\n",
    "\n",
    "f = data[fbg_cols]  # fasted\n",
    "r = data[rbg_cols]  # random-fed\n",
    "\n",
    "fn = n.filter(fbg_cols)  # fasted normal \n",
    "fi = i.filter(fbg_cols)  # fasted impaired\n",
    "fd = d.filter(fbg_cols)  # fasted diabetic\n",
    "\n",
    "rn = n.filter(rbg_cols)  # random normal\n",
    "ri = i.filter(rbg_cols)  # random impaired\n",
    "rd = d.filter(rbg_cols)  # random diabetic\n",
    "\n",
    "order_cols = rn.columns.to_list() + fn.columns.to_list() + \\\n",
    "                ri.columns.to_list() + fi.columns.to_list() + \\\n",
    "                rd.columns.to_list() + fd.columns.to_list()\n",
    "\n",
    "qval_sampling = data['fdr corrected pval effect of sampling']\n",
    "qval_gtol = data['fdr corrected pval effect of glucose tolerance']\n",
    "qval_cross = data['fdr corrected pval effect of interaction sampling and glucose tolerance']"
   ]
  },
  {
   "cell_type": "code",
   "execution_count": 42,
   "id": "5297af46",
   "metadata": {},
   "outputs": [],
   "source": [
    "# colors\n",
    "with open(r'..\\data\\metadata\\color_schemes.json') as infile:\n",
    "    colors = json.load(infile)\n",
    "    \n",
    "with open(r'..\\data\\metadata\\metab_lipid_class_superclass_color.json', 'r') as infile:\n",
    "    class_map = json.load(infile)"
   ]
  },
  {
   "cell_type": "code",
   "execution_count": 53,
   "id": "0f0c9903",
   "metadata": {
    "scrolled": true
   },
   "outputs": [
    {
     "data": {
      "text/html": [
       "<svg  width=\"110\" height=\"55\"><rect x=\"0\" y=\"0\" width=\"55\" height=\"55\" style=\"fill:#66c2a5;stroke-width:2;stroke:rgb(255,255,255)\"/><rect x=\"55\" y=\"0\" width=\"55\" height=\"55\" style=\"fill:#fc8d62;stroke-width:2;stroke:rgb(255,255,255)\"/></svg>"
      ],
      "text/plain": [
       "[(0.4, 0.7607843137254902, 0.6470588235294118),\n",
       " (0.9882352941176471, 0.5529411764705883, 0.3843137254901961)]"
      ]
     },
     "metadata": {},
     "output_type": "display_data"
    },
    {
     "data": {
      "text/html": [
       "<svg  width=\"825\" height=\"55\"><rect x=\"0\" y=\"0\" width=\"55\" height=\"55\" style=\"fill:#0173b2;stroke-width:2;stroke:rgb(255,255,255)\"/><rect x=\"55\" y=\"0\" width=\"55\" height=\"55\" style=\"fill:#de8f05;stroke-width:2;stroke:rgb(255,255,255)\"/><rect x=\"110\" y=\"0\" width=\"55\" height=\"55\" style=\"fill:#029e73;stroke-width:2;stroke:rgb(255,255,255)\"/><rect x=\"165\" y=\"0\" width=\"55\" height=\"55\" style=\"fill:#d55e00;stroke-width:2;stroke:rgb(255,255,255)\"/><rect x=\"220\" y=\"0\" width=\"55\" height=\"55\" style=\"fill:#cc78bc;stroke-width:2;stroke:rgb(255,255,255)\"/><rect x=\"275\" y=\"0\" width=\"55\" height=\"55\" style=\"fill:#ca9161;stroke-width:2;stroke:rgb(255,255,255)\"/><rect x=\"330\" y=\"0\" width=\"55\" height=\"55\" style=\"fill:#fbafe4;stroke-width:2;stroke:rgb(255,255,255)\"/><rect x=\"385\" y=\"0\" width=\"55\" height=\"55\" style=\"fill:#949494;stroke-width:2;stroke:rgb(255,255,255)\"/><rect x=\"440\" y=\"0\" width=\"55\" height=\"55\" style=\"fill:#ece133;stroke-width:2;stroke:rgb(255,255,255)\"/><rect x=\"495\" y=\"0\" width=\"55\" height=\"55\" style=\"fill:#56b4e9;stroke-width:2;stroke:rgb(255,255,255)\"/><rect x=\"550\" y=\"0\" width=\"55\" height=\"55\" style=\"fill:#0173b2;stroke-width:2;stroke:rgb(255,255,255)\"/><rect x=\"605\" y=\"0\" width=\"55\" height=\"55\" style=\"fill:#de8f05;stroke-width:2;stroke:rgb(255,255,255)\"/><rect x=\"660\" y=\"0\" width=\"55\" height=\"55\" style=\"fill:#029e73;stroke-width:2;stroke:rgb(255,255,255)\"/><rect x=\"715\" y=\"0\" width=\"55\" height=\"55\" style=\"fill:#d55e00;stroke-width:2;stroke:rgb(255,255,255)\"/><rect x=\"770\" y=\"0\" width=\"55\" height=\"55\" style=\"fill:#cc78bc;stroke-width:2;stroke:rgb(255,255,255)\"/></svg>"
      ],
      "text/plain": [
       "[(0.00392156862745098, 0.45098039215686275, 0.6980392156862745),\n",
       " (0.8705882352941177, 0.5607843137254902, 0.0196078431372549),\n",
       " (0.00784313725490196, 0.6196078431372549, 0.45098039215686275),\n",
       " (0.8352941176470589, 0.3686274509803922, 0.0),\n",
       " (0.8, 0.47058823529411764, 0.7372549019607844),\n",
       " (0.792156862745098, 0.5686274509803921, 0.3803921568627451),\n",
       " (0.984313725490196, 0.6862745098039216, 0.8941176470588236),\n",
       " (0.5803921568627451, 0.5803921568627451, 0.5803921568627451),\n",
       " (0.9254901960784314, 0.8823529411764706, 0.2),\n",
       " (0.33725490196078434, 0.7058823529411765, 0.9137254901960784),\n",
       " (0.00392156862745098, 0.45098039215686275, 0.6980392156862745),\n",
       " (0.8705882352941177, 0.5607843137254902, 0.0196078431372549),\n",
       " (0.00784313725490196, 0.6196078431372549, 0.45098039215686275),\n",
       " (0.8352941176470589, 0.3686274509803922, 0.0),\n",
       " (0.8, 0.47058823529411764, 0.7372549019607844)]"
      ]
     },
     "metadata": {},
     "output_type": "display_data"
    },
    {
     "name": "stderr",
     "output_type": "stream",
     "text": [
      "C:\\Users\\bjanderson23\\anaconda3\\lib\\site-packages\\pandas\\core\\indexing.py:1667: SettingWithCopyWarning: \n",
      "A value is trying to be set on a copy of a slice from a DataFrame.\n",
      "Try using .loc[row_indexer,col_indexer] = value instead\n",
      "\n",
      "See the caveats in the documentation: https://pandas.pydata.org/pandas-docs/stable/user_guide/indexing.html#returning-a-view-versus-a-copy\n",
      "  self.obj[key] = value\n",
      "C:\\Users\\bjanderson23\\anaconda3\\lib\\site-packages\\pandas\\core\\frame.py:4913: SettingWithCopyWarning: \n",
      "A value is trying to be set on a copy of a slice from a DataFrame\n",
      "\n",
      "See the caveats in the documentation: https://pandas.pydata.org/pandas-docs/stable/user_guide/indexing.html#returning-a-view-versus-a-copy\n",
      "  errors=errors,\n"
     ]
    },
    {
     "ename": "ValueError",
     "evalue": "columns overlap but no suffix specified: Index(['color', 'superclass'], dtype='object')",
     "output_type": "error",
     "traceback": [
      "\u001b[1;31m---------------------------------------------------------------------------\u001b[0m",
      "\u001b[1;31mValueError\u001b[0m                                Traceback (most recent call last)",
      "\u001b[1;32m<ipython-input-53-5660bb1b73c1>\u001b[0m in \u001b[0;36m<module>\u001b[1;34m\u001b[0m\n\u001b[0;32m     19\u001b[0m \u001b[0mlm_class\u001b[0m\u001b[1;33m.\u001b[0m\u001b[0mloc\u001b[0m\u001b[1;33m[\u001b[0m\u001b[1;33m:\u001b[0m\u001b[1;33m,\u001b[0m \u001b[1;34m'superclass'\u001b[0m\u001b[1;33m]\u001b[0m \u001b[1;33m=\u001b[0m \u001b[0mlm_class\u001b[0m\u001b[1;33m[\u001b[0m\u001b[1;34m'd'\u001b[0m\u001b[1;33m]\u001b[0m\u001b[1;33m.\u001b[0m\u001b[0mstr\u001b[0m\u001b[1;33m[\u001b[0m\u001b[1;36m1\u001b[0m\u001b[1;33m]\u001b[0m\u001b[1;33m\u001b[0m\u001b[1;33m\u001b[0m\u001b[0m\n\u001b[0;32m     20\u001b[0m \u001b[0mlm_class\u001b[0m\u001b[1;33m.\u001b[0m\u001b[0mdrop\u001b[0m\u001b[1;33m(\u001b[0m\u001b[1;33m[\u001b[0m\u001b[1;34m'd'\u001b[0m\u001b[1;33m,\u001b[0m \u001b[1;34m'Compound Class'\u001b[0m\u001b[1;33m]\u001b[0m\u001b[1;33m,\u001b[0m \u001b[0minplace\u001b[0m\u001b[1;33m=\u001b[0m\u001b[1;32mTrue\u001b[0m\u001b[1;33m,\u001b[0m \u001b[0maxis\u001b[0m\u001b[1;33m=\u001b[0m\u001b[1;36m1\u001b[0m\u001b[1;33m)\u001b[0m\u001b[1;33m\u001b[0m\u001b[1;33m\u001b[0m\u001b[0m\n\u001b[1;32m---> 21\u001b[1;33m \u001b[0mdata\u001b[0m \u001b[1;33m=\u001b[0m \u001b[0mdata\u001b[0m\u001b[1;33m.\u001b[0m\u001b[0mjoin\u001b[0m\u001b[1;33m(\u001b[0m\u001b[0mlm_class\u001b[0m\u001b[1;33m)\u001b[0m\u001b[1;33m\u001b[0m\u001b[1;33m\u001b[0m\u001b[0m\n\u001b[0m\u001b[0;32m     22\u001b[0m \u001b[0mdata\u001b[0m\u001b[1;33m[\u001b[0m\u001b[1;33m[\u001b[0m\u001b[1;34m'color'\u001b[0m\u001b[1;33m,\u001b[0m \u001b[1;34m'superclass'\u001b[0m\u001b[1;33m]\u001b[0m\u001b[1;33m]\u001b[0m\u001b[1;33m\u001b[0m\u001b[1;33m\u001b[0m\u001b[0m\n",
      "\u001b[1;32m~\\anaconda3\\lib\\site-packages\\pandas\\core\\frame.py\u001b[0m in \u001b[0;36mjoin\u001b[1;34m(self, other, on, how, lsuffix, rsuffix, sort)\u001b[0m\n\u001b[0;32m   9098\u001b[0m         \"\"\"\n\u001b[0;32m   9099\u001b[0m         return self._join_compat(\n\u001b[1;32m-> 9100\u001b[1;33m             \u001b[0mother\u001b[0m\u001b[1;33m,\u001b[0m \u001b[0mon\u001b[0m\u001b[1;33m=\u001b[0m\u001b[0mon\u001b[0m\u001b[1;33m,\u001b[0m \u001b[0mhow\u001b[0m\u001b[1;33m=\u001b[0m\u001b[0mhow\u001b[0m\u001b[1;33m,\u001b[0m \u001b[0mlsuffix\u001b[0m\u001b[1;33m=\u001b[0m\u001b[0mlsuffix\u001b[0m\u001b[1;33m,\u001b[0m \u001b[0mrsuffix\u001b[0m\u001b[1;33m=\u001b[0m\u001b[0mrsuffix\u001b[0m\u001b[1;33m,\u001b[0m \u001b[0msort\u001b[0m\u001b[1;33m=\u001b[0m\u001b[0msort\u001b[0m\u001b[1;33m\u001b[0m\u001b[1;33m\u001b[0m\u001b[0m\n\u001b[0m\u001b[0;32m   9101\u001b[0m         )\n\u001b[0;32m   9102\u001b[0m \u001b[1;33m\u001b[0m\u001b[0m\n",
      "\u001b[1;32m~\\anaconda3\\lib\\site-packages\\pandas\\core\\frame.py\u001b[0m in \u001b[0;36m_join_compat\u001b[1;34m(self, other, on, how, lsuffix, rsuffix, sort)\u001b[0m\n\u001b[0;32m   9136\u001b[0m                 \u001b[0mright_index\u001b[0m\u001b[1;33m=\u001b[0m\u001b[1;32mTrue\u001b[0m\u001b[1;33m,\u001b[0m\u001b[1;33m\u001b[0m\u001b[1;33m\u001b[0m\u001b[0m\n\u001b[0;32m   9137\u001b[0m                 \u001b[0msuffixes\u001b[0m\u001b[1;33m=\u001b[0m\u001b[1;33m(\u001b[0m\u001b[0mlsuffix\u001b[0m\u001b[1;33m,\u001b[0m \u001b[0mrsuffix\u001b[0m\u001b[1;33m)\u001b[0m\u001b[1;33m,\u001b[0m\u001b[1;33m\u001b[0m\u001b[1;33m\u001b[0m\u001b[0m\n\u001b[1;32m-> 9138\u001b[1;33m                 \u001b[0msort\u001b[0m\u001b[1;33m=\u001b[0m\u001b[0msort\u001b[0m\u001b[1;33m,\u001b[0m\u001b[1;33m\u001b[0m\u001b[1;33m\u001b[0m\u001b[0m\n\u001b[0m\u001b[0;32m   9139\u001b[0m             )\n\u001b[0;32m   9140\u001b[0m         \u001b[1;32melse\u001b[0m\u001b[1;33m:\u001b[0m\u001b[1;33m\u001b[0m\u001b[1;33m\u001b[0m\u001b[0m\n",
      "\u001b[1;32m~\\anaconda3\\lib\\site-packages\\pandas\\core\\reshape\\merge.py\u001b[0m in \u001b[0;36mmerge\u001b[1;34m(left, right, how, on, left_on, right_on, left_index, right_index, sort, suffixes, copy, indicator, validate)\u001b[0m\n\u001b[0;32m    119\u001b[0m         \u001b[0mvalidate\u001b[0m\u001b[1;33m=\u001b[0m\u001b[0mvalidate\u001b[0m\u001b[1;33m,\u001b[0m\u001b[1;33m\u001b[0m\u001b[1;33m\u001b[0m\u001b[0m\n\u001b[0;32m    120\u001b[0m     )\n\u001b[1;32m--> 121\u001b[1;33m     \u001b[1;32mreturn\u001b[0m \u001b[0mop\u001b[0m\u001b[1;33m.\u001b[0m\u001b[0mget_result\u001b[0m\u001b[1;33m(\u001b[0m\u001b[1;33m)\u001b[0m\u001b[1;33m\u001b[0m\u001b[1;33m\u001b[0m\u001b[0m\n\u001b[0m\u001b[0;32m    122\u001b[0m \u001b[1;33m\u001b[0m\u001b[0m\n\u001b[0;32m    123\u001b[0m \u001b[1;33m\u001b[0m\u001b[0m\n",
      "\u001b[1;32m~\\anaconda3\\lib\\site-packages\\pandas\\core\\reshape\\merge.py\u001b[0m in \u001b[0;36mget_result\u001b[1;34m(self)\u001b[0m\n\u001b[0;32m    716\u001b[0m \u001b[1;33m\u001b[0m\u001b[0m\n\u001b[0;32m    717\u001b[0m         llabels, rlabels = _items_overlap_with_suffix(\n\u001b[1;32m--> 718\u001b[1;33m             \u001b[0mself\u001b[0m\u001b[1;33m.\u001b[0m\u001b[0mleft\u001b[0m\u001b[1;33m.\u001b[0m\u001b[0m_info_axis\u001b[0m\u001b[1;33m,\u001b[0m \u001b[0mself\u001b[0m\u001b[1;33m.\u001b[0m\u001b[0mright\u001b[0m\u001b[1;33m.\u001b[0m\u001b[0m_info_axis\u001b[0m\u001b[1;33m,\u001b[0m \u001b[0mself\u001b[0m\u001b[1;33m.\u001b[0m\u001b[0msuffixes\u001b[0m\u001b[1;33m\u001b[0m\u001b[1;33m\u001b[0m\u001b[0m\n\u001b[0m\u001b[0;32m    719\u001b[0m         )\n\u001b[0;32m    720\u001b[0m \u001b[1;33m\u001b[0m\u001b[0m\n",
      "\u001b[1;32m~\\anaconda3\\lib\\site-packages\\pandas\\core\\reshape\\merge.py\u001b[0m in \u001b[0;36m_items_overlap_with_suffix\u001b[1;34m(left, right, suffixes)\u001b[0m\n\u001b[0;32m   2312\u001b[0m \u001b[1;33m\u001b[0m\u001b[0m\n\u001b[0;32m   2313\u001b[0m     \u001b[1;32mif\u001b[0m \u001b[1;32mnot\u001b[0m \u001b[0mlsuffix\u001b[0m \u001b[1;32mand\u001b[0m \u001b[1;32mnot\u001b[0m \u001b[0mrsuffix\u001b[0m\u001b[1;33m:\u001b[0m\u001b[1;33m\u001b[0m\u001b[1;33m\u001b[0m\u001b[0m\n\u001b[1;32m-> 2314\u001b[1;33m         \u001b[1;32mraise\u001b[0m \u001b[0mValueError\u001b[0m\u001b[1;33m(\u001b[0m\u001b[1;34mf\"columns overlap but no suffix specified: {to_rename}\"\u001b[0m\u001b[1;33m)\u001b[0m\u001b[1;33m\u001b[0m\u001b[1;33m\u001b[0m\u001b[0m\n\u001b[0m\u001b[0;32m   2315\u001b[0m \u001b[1;33m\u001b[0m\u001b[0m\n\u001b[0;32m   2316\u001b[0m     \u001b[1;32mdef\u001b[0m \u001b[0mrenamer\u001b[0m\u001b[1;33m(\u001b[0m\u001b[0mx\u001b[0m\u001b[1;33m,\u001b[0m \u001b[0msuffix\u001b[0m\u001b[1;33m)\u001b[0m\u001b[1;33m:\u001b[0m\u001b[1;33m\u001b[0m\u001b[1;33m\u001b[0m\u001b[0m\n",
      "\u001b[1;31mValueError\u001b[0m: columns overlap but no suffix specified: Index(['color', 'superclass'], dtype='object')"
     ]
    }
   ],
   "source": [
    "lm_pal = sns.color_palette('Set2', n_colors=2)\n",
    "# lm_colormap = pd.Series({x: (lm_pal[0] if x[0] == 'l' else lm_pal[1]) for x in d.columns})\n",
    "display(lm_pal)\n",
    "\n",
    "display(sns.color_palette('colorblind', 15))\n",
    "blindcolor = sns.color_palette('colorblind', 15)\n",
    "rbg_color = blindcolor[0]\n",
    "fbg_color = blindcolor[1]\n",
    "normal_color = blindcolor[2]\n",
    "impaired_color = blindcolor[7]\n",
    "diabetic_color = blindcolor[4]\n",
    "\n",
    "with open(r'..\\data\\metadata\\metab_lipid_class_superclass_color.json', 'r') as infile:\n",
    "    class_colormap = json.load(infile)\n",
    "\n",
    "lm_class = data[['Compound Class']]\n",
    "lm_class.loc[:, 'd'] = lm_class['Compound Class'].map(class_colormap)\n",
    "lm_class.loc[:, 'color'] = lm_class['d'].str[0]\n",
    "lm_class.loc[:, 'superclass'] = lm_class['d'].str[1]\n",
    "lm_class.drop(['d', 'Compound Class'], inplace=True, axis=1)\n",
    "data = data.join(lm_class)\n",
    "data[['color', 'superclass']]\n"
   ]
  },
  {
   "cell_type": "code",
   "execution_count": 54,
   "id": "758187bd",
   "metadata": {
    "scrolled": true
   },
   "outputs": [
    {
     "data": {
      "text/plain": [
       "{'TG': [[0.5803921568627451, 0.403921568627451, 0.7411764705882353],\n",
       "  'Glycerolipid'],\n",
       " 'Alkenyl-DG': [[0.5803921568627451, 0.403921568627451, 0.7411764705882353],\n",
       "  'Glycerolipid'],\n",
       " 'AC': [[0.8392156862745098, 0.15294117647058825, 0.1568627450980392],\n",
       "  'Fatty Acyl'],\n",
       " 'FA': [[0.8392156862745098, 0.15294117647058825, 0.1568627450980392],\n",
       "  'Fatty Acyl'],\n",
       " 'CE': [[0.12156862745098039, 0.4666666666666667, 0.7058823529411765],\n",
       "  'Sterol Lipid'],\n",
       " 'SM': [[1.0, 0.4980392156862745, 0.054901960784313725], 'Sphingolipid'],\n",
       " 'Cer[NS]': [[1.0, 0.4980392156862745, 0.054901960784313725], 'Sphingolipid'],\n",
       " 'LysoPE': [[0.17254901960784313, 0.6274509803921569, 0.17254901960784313],\n",
       "  'Phospholipid'],\n",
       " 'LysoPC': [[0.17254901960784313, 0.6274509803921569, 0.17254901960784313],\n",
       "  'Phospholipid'],\n",
       " 'PC': [[0.17254901960784313, 0.6274509803921569, 0.17254901960784313],\n",
       "  'Phospholipid'],\n",
       " 'PI': [[0.17254901960784313, 0.6274509803921569, 0.17254901960784313],\n",
       "  'Phospholipid'],\n",
       " 'Plasmenyl-PC': [[0.17254901960784313,\n",
       "   0.6274509803921569,\n",
       "   0.17254901960784313],\n",
       "  'Phospholipid'],\n",
       " 'Plasmanyl-PC': [[0.17254901960784313,\n",
       "   0.6274509803921569,\n",
       "   0.17254901960784313],\n",
       "  'Phospholipid'],\n",
       " 'Plasmenyl-PE': [[0.17254901960784313,\n",
       "   0.6274509803921569,\n",
       "   0.17254901960784313],\n",
       "  'Phospholipid'],\n",
       " 'PE': [[0.17254901960784313, 0.6274509803921569, 0.17254901960784313],\n",
       "  'Phospholipid'],\n",
       " 'Plasmanyl-PE': [[0.17254901960784313,\n",
       "   0.6274509803921569,\n",
       "   0.17254901960784313],\n",
       "  'Phospholipid'],\n",
       " 'CA': [[0.5490196078431373, 0.33725490196078434, 0.29411764705882354],\n",
       "  'Carboxylic Acid'],\n",
       " 'AA': [[0.8901960784313725, 0.4666666666666667, 0.7607843137254902],\n",
       "  'Amino Acid'],\n",
       " 'amine': [[0.7372549019607844, 0.7411764705882353, 0.13333333333333333],\n",
       "  'Amine/Amide/Ammonium/N-heterocycle'],\n",
       " 'TAA': [[0.7372549019607844, 0.7411764705882353, 0.13333333333333333],\n",
       "  'Amine/Amide/Ammonium/N-heterocycle'],\n",
       " 'lactam': [[0.7372549019607844, 0.7411764705882353, 0.13333333333333333],\n",
       "  'Amine/Amide/Ammonium/N-heterocycle'],\n",
       " 'niacin': [[0.7372549019607844, 0.7411764705882353, 0.13333333333333333],\n",
       "  'Amine/Amide/Ammonium/N-heterocycle'],\n",
       " 'purine': [[0.7372549019607844, 0.7411764705882353, 0.13333333333333333],\n",
       "  'Amine/Amide/Ammonium/N-heterocycle'],\n",
       " 'amide': [[0.7372549019607844, 0.7411764705882353, 0.13333333333333333],\n",
       "  'Amine/Amide/Ammonium/N-heterocycle'],\n",
       " 'plasticizer': [[0.5965991810912237, 0.207212956082026, 0.3125852303112123],\n",
       "  'Other Metabolite'],\n",
       " 'coumarin': [[0.5965991810912237, 0.207212956082026, 0.3125852303112123],\n",
       "  'Other Metabolite'],\n",
       " 'sugar': [[0.5965991810912237, 0.207212956082026, 0.3125852303112123],\n",
       "  'Other Metabolite'],\n",
       " 'chromenone': [[0.5965991810912237, 0.207212956082026, 0.3125852303112123],\n",
       "  'Other Metabolite'],\n",
       " 'other': [[0.5965991810912237, 0.207212956082026, 0.3125852303112123],\n",
       "  'Other Metabolite'],\n",
       " 'unknown': [[0.4980392156862745, 0.4980392156862745, 0.4980392156862745],\n",
       "  'Unidentified']}"
      ]
     },
     "execution_count": 54,
     "metadata": {},
     "output_type": "execute_result"
    }
   ],
   "source": [
    "class_map"
   ]
  },
  {
   "cell_type": "code",
   "execution_count": 57,
   "id": "c40f6af1",
   "metadata": {
    "scrolled": true
   },
   "outputs": [
    {
     "data": {
      "text/plain": [
       "array(['Unidentified', 'Phospholipid', 'Fatty Acyl', 'Glycerolipid',\n",
       "       'Sphingolipid', 'Sterol Lipid', 'Other Metabolite',\n",
       "       'Amine/Amide/Ammonium/N-heterocycle', 'Amino Acid',\n",
       "       'Carboxylic Acid'], dtype=object)"
      ]
     },
     "execution_count": 57,
     "metadata": {},
     "output_type": "execute_result"
    }
   ],
   "source": [
    "data['superclass'] = data['Compound Class'].map(class_map).str[1]\n",
    "data['superclass'].unique()"
   ]
  },
  {
   "cell_type": "code",
   "execution_count": 50,
   "id": "820a94b2",
   "metadata": {
    "scrolled": true
   },
   "outputs": [
    {
     "data": {
      "text/plain": [
       "Amino Acid                            30\n",
       "Amine/Amide/Ammonium/N-heterocycle    17\n",
       "Other Metabolite                      14\n",
       "Carboxylic Acid                       13\n",
       "Name: superclass, dtype: int64"
      ]
     },
     "execution_count": 50,
     "metadata": {},
     "output_type": "execute_result"
    }
   ],
   "source": [
    "k = data[data['Compound Class'] != 'unknown']\n",
    "k.loc[(k['Type'] == 'metabolite') & \\\n",
    "      (~k['superclass'].isin(['Sphingolipid', 'Fatty Acyl'])), 'superclass'].value_counts()"
   ]
  },
  {
   "cell_type": "code",
   "execution_count": 51,
   "id": "3358c269",
   "metadata": {
    "scrolled": true
   },
   "outputs": [
    {
     "name": "stdout",
     "output_type": "stream",
     "text": [
      "Index(['Phospholipid', 'Glycerolipid', 'Sphingolipid', 'Fatty Acyl',\n",
      "       'Sterol Lipid'],\n",
      "      dtype='object')\n",
      "Phospholipid    163\n",
      "Glycerolipid    107\n",
      "Sphingolipid     30\n",
      "Fatty Acyl       18\n",
      "Sterol Lipid      4\n",
      "Name: superclass, dtype: int64 \n",
      "\n",
      "\n",
      "Amino Acid                            30\n",
      "Amine/Amide/Ammonium/N-heterocycle    17\n",
      "Other Metabolite                      14\n",
      "Carboxylic Acid                       13\n",
      "Name: superclass, dtype: int64 Index(['Amino Acid', 'Amine/Amide/Ammonium/N-heterocycle', 'Other Metabolite',\n",
      "       'Carboxylic Acid'],\n",
      "      dtype='object')\n"
     ]
    }
   ],
   "source": [
    "# lsc = Lipid SuperClass\n",
    "lsc_counts = k.loc[(k['Type'] == 'lipid') | (k['Compound Class'] == 'FA'), 'superclass'].value_counts()\n",
    "lsc_names = lsc_counts.index\n",
    "print(lsc_names)\n",
    "print(lsc_counts, '\\n\\n')\n",
    "\n",
    "msc_counts = k.loc[(k['Type'] == 'metabolite') & \\\n",
    "                   (~k['superclass'].isin(['Sphingolipid', 'Fatty Acyl'])), 'superclass'].value_counts()\n",
    "msc_names = msc_counts.index\n",
    "print(msc_counts, msc_names)"
   ]
  },
  {
   "cell_type": "code",
   "execution_count": 62,
   "id": "916752ea",
   "metadata": {},
   "outputs": [
    {
     "name": "stdout",
     "output_type": "stream",
     "text": [
      "Wedge(center=(0, 0), r=1, theta1=0, theta2=182.236, width=0.5)\n",
      "Wedge(center=(0, 0), r=1, theta1=182.236, theta2=301.863, width=0.5)\n",
      "Wedge(center=(0, 0), r=1, theta1=301.863, theta2=335.404, width=0.5)\n",
      "Wedge(center=(0, 0), r=1, theta1=335.404, theta2=355.528, width=0.5)\n",
      "Wedge(center=(0, 0), r=1, theta1=355.528, theta2=360, width=0.5)\n"
     ]
    },
    {
     "data": {
      "image/png": "[encoded data removed]",
      "text/plain": [
       "<Figure size 360x360 with 1 Axes>"
      ]
     },
     "metadata": {},
     "output_type": "display_data"
    }
   ],
   "source": [
    "# Pie chart, where the slices will be ordered and plotted counter-clockwise:\n",
    "labels = lsc_names\n",
    "sizes = lsc_counts.to_list()\n",
    "explode = (0, 0, 0, 0, 0) \n",
    "total = sum(sizes)\n",
    "\n",
    "fig, ax = plt.subplots()\n",
    "wedges = ax.pie(\n",
    "    sizes, \n",
    "   labels=labels, \n",
    "   explode=explode, \n",
    "   autopct=lambda p: '{:.0f}'.format(p * total / 100),\n",
    "   shadow=True, \n",
    "   startangle=0,\n",
    "   wedgeprops={'width': 0.5},\n",
    "   textprops={'fontsize': 15}, \n",
    "   labeldistance=1.35,\n",
    "   pctdistance=1.15)\n",
    "\n",
    "for wedge, name_text, number_text in zip(wedges[0], wedges[1], wedges[2]):\n",
    "    print(wedge)\n",
    "    m_class = name_text.get_text()\n",
    "    wedge.set_facecolor(colors[m_class])\n",
    "\n",
    "ax.axis('equal')  # Equal aspect ratio ensures that pie is drawn as a circle.\n",
    "fig.set_size_inches((5,5))\n",
    "\n",
    "plt.savefig(r'..\\reports\\figures\\4-2-2\\lipid_id_piechart.svg')"
   ]
  },
  {
   "cell_type": "code",
   "execution_count": 63,
   "id": "1e923b67",
   "metadata": {},
   "outputs": [
    {
     "name": "stdout",
     "output_type": "stream",
     "text": [
      "Wedge(center=(0, 0), r=1, theta1=0, theta2=145.946, width=0.5)\n",
      "Wedge(center=(0, 0), r=1, theta1=145.946, theta2=228.649, width=0.5)\n",
      "Wedge(center=(0, 0), r=1, theta1=228.649, theta2=296.757, width=0.5)\n",
      "Wedge(center=(0, 0), r=1, theta1=296.757, theta2=360, width=0.5)\n"
     ]
    },
    {
     "data": {
      "image/png": "[encoded data removed]",
      "text/plain": [
       "<Figure size 360x360 with 1 Axes>"
      ]
     },
     "metadata": {},
     "output_type": "display_data"
    }
   ],
   "source": [
    "# Pie chart, where the slices will be ordered and plotted counter-clockwise:\n",
    "labels = msc_names\n",
    "sizes = msc_counts.to_list()\n",
    "explode = (0, 0, 0, 0, 0) \n",
    "total = sum(sizes)\n",
    "\n",
    "colors['Amine/Amide/Ammonium/N-heterocycle'] = colors['Amine']\n",
    "\n",
    "fig, ax = plt.subplots()\n",
    "wedges = ax.pie(\n",
    "    sizes, \n",
    "   labels=labels, \n",
    "#        explode=explode, \n",
    "   autopct=lambda p: '{:.0f}'.format(p * total / 100),\n",
    "   shadow=True, \n",
    "   startangle=0,\n",
    "   wedgeprops={'width': 0.5},\n",
    "   textprops={'fontsize': 15}, \n",
    "   labeldistance=1.1,\n",
    "   pctdistance=0.75)\n",
    "\n",
    "for wedge, name_text, number_text in zip(wedges[0], wedges[1], wedges[2]):\n",
    "    print(wedge)\n",
    "    m_class = name_text.get_text()\n",
    "    wedge.set_facecolor(colors[m_class])\n",
    "    \n",
    "ax.axis('equal')  # Equal aspect ratio ensures that pie is drawn as a circle.\n",
    "fig.set_size_inches((5,5))\n",
    "\n",
    "plt.savefig(r'..\\reports\\figures\\4-2-2\\metab_id_piechart.svg')"
   ]
  },
  {
   "cell_type": "code",
   "execution_count": null,
   "id": "245b3cf3",
   "metadata": {},
   "outputs": [],
   "source": []
  },
  {
   "cell_type": "code",
   "execution_count": null,
   "id": "fc2bc3e4",
   "metadata": {},
   "outputs": [],
   "source": []
  },
  {
   "cell_type": "code",
   "execution_count": null,
   "id": "c770722e",
   "metadata": {},
   "outputs": [],
   "source": []
  },
  {
   "cell_type": "code",
   "execution_count": null,
   "id": "bccede12",
   "metadata": {},
   "outputs": [],
   "source": []
  },
  {
   "cell_type": "code",
   "execution_count": null,
   "id": "fb3eebe1",
   "metadata": {},
   "outputs": [],
   "source": []
  },
  {
   "cell_type": "code",
   "execution_count": null,
   "id": "7729c4ff",
   "metadata": {},
   "outputs": [],
   "source": []
  },
  {
   "cell_type": "code",
   "execution_count": null,
   "id": "f4c166b5",
   "metadata": {},
   "outputs": [],
   "source": []
  },
  {
   "cell_type": "code",
   "execution_count": null,
   "id": "d6c5a942",
   "metadata": {},
   "outputs": [],
   "source": []
  },
  {
   "cell_type": "code",
   "execution_count": null,
   "id": "73e7e476",
   "metadata": {},
   "outputs": [],
   "source": []
  },
  {
   "cell_type": "code",
   "execution_count": null,
   "id": "816c6f26",
   "metadata": {},
   "outputs": [],
   "source": []
  },
  {
   "cell_type": "code",
   "execution_count": null,
   "id": "7d23f26c",
   "metadata": {},
   "outputs": [],
   "source": []
  }
 ],
 "metadata": {
  "kernelspec": {
   "display_name": "Python 3",
   "language": "python",
   "name": "python3"
  },
  "language_info": {
   "codemirror_mode": {
    "name": "ipython",
    "version": 3
   },
   "file_extension": ".py",
   "mimetype": "text/x-python",
   "name": "python",
   "nbconvert_exporter": "python",
   "pygments_lexer": "ipython3",
   "version": "3.7.10"
  }
 },
 "nbformat": 4,
 "nbformat_minor": 5
}
